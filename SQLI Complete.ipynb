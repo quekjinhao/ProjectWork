{
 "cells": [
  {
   "cell_type": "code",
   "execution_count": 1,
   "metadata": {},
   "outputs": [
    {
     "name": "stdout",
     "output_type": "stream",
     "text": [
      "Requirement already satisfied: xgboost in c:\\users\\user\\appdata\\roaming\\python\\python38\\site-packages (1.1.1)\n",
      "Requirement already satisfied: scipy in c:\\users\\user\\appdata\\roaming\\python\\python38\\site-packages (from xgboost) (1.5.4)\n",
      "Requirement already satisfied: numpy in c:\\users\\user\\appdata\\roaming\\python\\python38\\site-packages (from xgboost) (1.19.1)\n",
      "Note: you may need to restart the kernel to use updated packages.\n"
     ]
    }
   ],
   "source": [
    "pip install xgboost"
   ]
  },
  {
   "cell_type": "code",
   "execution_count": 2,
   "metadata": {},
   "outputs": [
    {
     "name": "stdout",
     "output_type": "stream",
     "text": [
      "Requirement already satisfied: lazypredict in c:\\users\\user\\appdata\\roaming\\python\\python38\\site-packages (0.2.9)Note: you may need to restart the kernel to use updated packages.\n",
      "\n",
      "Requirement already satisfied: pandas==1.0.5 in c:\\programdata\\anaconda3\\lib\\site-packages (from lazypredict) (1.0.5)\n",
      "Requirement already satisfied: click==7.1.2 in c:\\programdata\\anaconda3\\lib\\site-packages (from lazypredict) (7.1.2)\n",
      "Requirement already satisfied: PyYAML==5.3.1 in c:\\programdata\\anaconda3\\lib\\site-packages (from lazypredict) (5.3.1)\n",
      "Requirement already satisfied: scipy==1.5.4 in c:\\users\\user\\appdata\\roaming\\python\\python38\\site-packages (from lazypredict) (1.5.4)\n",
      "Requirement already satisfied: numpy==1.19.1 in c:\\users\\user\\appdata\\roaming\\python\\python38\\site-packages (from lazypredict) (1.19.1)\n",
      "Requirement already satisfied: xgboost==1.1.1 in c:\\users\\user\\appdata\\roaming\\python\\python38\\site-packages (from lazypredict) (1.1.1)\n",
      "Requirement already satisfied: joblib==1.0.0 in c:\\users\\user\\appdata\\roaming\\python\\python38\\site-packages (from lazypredict) (1.0.0)\n",
      "Requirement already satisfied: six==1.15.0 in c:\\programdata\\anaconda3\\lib\\site-packages (from lazypredict) (1.15.0)\n",
      "Requirement already satisfied: lightgbm==2.3.1 in c:\\users\\user\\appdata\\roaming\\python\\python38\\site-packages (from lazypredict) (2.3.1)\n",
      "Requirement already satisfied: tqdm==4.56.0 in c:\\users\\user\\appdata\\roaming\\python\\python38\\site-packages (from lazypredict) (4.56.0)\n",
      "Requirement already satisfied: pytest==5.4.3 in c:\\programdata\\anaconda3\\lib\\site-packages (from lazypredict) (5.4.3)\n",
      "Requirement already satisfied: scikit-learn==0.23.1 in c:\\programdata\\anaconda3\\lib\\site-packages (from lazypredict) (0.23.1)\n",
      "Requirement already satisfied: pytz>=2017.2 in c:\\programdata\\anaconda3\\lib\\site-packages (from pandas==1.0.5->lazypredict) (2020.1)\n",
      "Requirement already satisfied: python-dateutil>=2.6.1 in c:\\programdata\\anaconda3\\lib\\site-packages (from pandas==1.0.5->lazypredict) (2.8.1)\n",
      "Requirement already satisfied: py>=1.5.0 in c:\\programdata\\anaconda3\\lib\\site-packages (from pytest==5.4.3->lazypredict) (1.9.0)\n",
      "Requirement already satisfied: packaging in c:\\programdata\\anaconda3\\lib\\site-packages (from pytest==5.4.3->lazypredict) (20.4)\n",
      "Requirement already satisfied: attrs>=17.4.0 in c:\\programdata\\anaconda3\\lib\\site-packages (from pytest==5.4.3->lazypredict) (19.3.0)\n",
      "Requirement already satisfied: more-itertools>=4.0.0 in c:\\programdata\\anaconda3\\lib\\site-packages (from pytest==5.4.3->lazypredict) (8.4.0)\n",
      "Requirement already satisfied: pluggy<1.0,>=0.12 in c:\\programdata\\anaconda3\\lib\\site-packages (from pytest==5.4.3->lazypredict) (0.13.1)\n",
      "Requirement already satisfied: wcwidth in c:\\programdata\\anaconda3\\lib\\site-packages (from pytest==5.4.3->lazypredict) (0.2.5)\n",
      "Requirement already satisfied: atomicwrites>=1.0 in c:\\programdata\\anaconda3\\lib\\site-packages (from pytest==5.4.3->lazypredict) (1.4.0)\n",
      "Requirement already satisfied: colorama in c:\\programdata\\anaconda3\\lib\\site-packages (from pytest==5.4.3->lazypredict) (0.4.3)\n",
      "Requirement already satisfied: threadpoolctl>=2.0.0 in c:\\programdata\\anaconda3\\lib\\site-packages (from scikit-learn==0.23.1->lazypredict) (2.1.0)\n",
      "Requirement already satisfied: pyparsing>=2.0.2 in c:\\programdata\\anaconda3\\lib\\site-packages (from packaging->pytest==5.4.3->lazypredict) (2.4.7)\n"
     ]
    }
   ],
   "source": [
    "pip install --user lazypredict"
   ]
  },
  {
   "cell_type": "code",
   "execution_count": 3,
   "metadata": {},
   "outputs": [
    {
     "name": "stderr",
     "output_type": "stream",
     "text": [
      "C:\\ProgramData\\Anaconda3\\lib\\site-packages\\sklearn\\utils\\deprecation.py:143: FutureWarning: The sklearn.utils.testing module is  deprecated in version 0.22 and will be removed in version 0.24. The corresponding classes / functions should instead be imported from sklearn.utils. Anything that cannot be imported from sklearn.utils is now part of the private API.\n",
      "  warnings.warn(message, FutureWarning)\n"
     ]
    }
   ],
   "source": [
    "import lazypredict\n",
    "from lazypredict.Supervised import LazyClassifier"
   ]
  },
  {
   "cell_type": "code",
   "execution_count": 4,
   "metadata": {},
   "outputs": [],
   "source": [
    "# Base packages\n",
    "\n",
    "import numpy as np # linear algebra\n",
    "import pandas as pd # data processing, CSV file I/O (e.g. pd.read_csv)\n",
    "import seaborn as sns\n",
    "import matplotlib.pyplot as plt\n",
    "import string as st\n",
    "%matplotlib inline\n",
    "\n",
    "# Helper packages\n",
    "import time\n",
    "import os\n",
    "import pickle\n",
    "import re\n",
    "\n",
    "# Preprocessing packages\n",
    "from sklearn.feature_extraction.text import CountVectorizer\n",
    "from sklearn.feature_extraction.text import TfidfVectorizer\n",
    "from sklearn.pipeline import Pipeline\n",
    "from sklearn.model_selection import StratifiedKFold, train_test_split\n",
    "from sklearn.model_selection import GridSearchCV, RandomizedSearchCV\n",
    "\n",
    "# Machine Learning packages\n",
    "from sklearn.tree import DecisionTreeClassifier\n",
    "from sklearn.ensemble import RandomForestClassifier\n",
    "from sklearn.svm import SVC\n",
    "from sklearn.linear_model import LogisticRegression\n",
    "from sklearn.neighbors import KNeighborsClassifier\n",
    "from sklearn.naive_bayes import MultinomialNB, GaussianNB\n",
    "from sklearn.neural_network import MLPClassifier\n",
    "from xgboost import XGBClassifier\n",
    "\n",
    "# Scoring packages\n",
    "from sklearn.metrics import precision_score, accuracy_score\n",
    "from sklearn.metrics import classification_report\n",
    "from sklearn.metrics import plot_confusion_matrix, confusion_matrix\n",
    "from sklearn.metrics import f1_score, recall_score\n",
    "from sklearn.metrics import precision_recall_fscore_support"
   ]
  },
  {
   "cell_type": "markdown",
   "metadata": {},
   "source": [
    "## Tokenizer helper function\n",
    "\n",
    "Function which helps preserve special characters during tokenization"
   ]
  },
  {
   "cell_type": "code",
   "execution_count": 5,
   "metadata": {},
   "outputs": [],
   "source": [
    "def tokenizer(x):\n",
    "    r='!\"#$%&;()*+,-./:;<=>?\\'@[\\\\]^_`{|}~'\n",
    "    to_replace=[re.escape(i) for i in r]\n",
    "\n",
    "    replace_with=[' '+i+' ' for i in r]\n",
    "    x=x.lower()\n",
    "    x=pd.DataFrame([x])[0].replace(to_replace,replace_with,regex=True)[0]\n",
    "    return(x)\n",
    " \n",
    "corpus=pd.DataFrame([\"That's an example.\",\n",
    "\"Don't ignore it!\",\n",
    "\"This is another example.\",\n",
    "\"50$ is a price:-) !&!!^)\",\n",
    "\"Look @predictivehacks for more hacks\",\n",
    "\"These are hashtags #predictivehacks #datascience #100%fun\"],columns=['sentences'])\n",
    "\n"
   ]
  },
  {
   "cell_type": "code",
   "execution_count": 6,
   "metadata": {},
   "outputs": [
    {
     "data": {
      "text/plain": [
       "0                               that ' s an example . \n",
       "1                                 don ' t ignore it ! \n",
       "2                           this is another example . \n",
       "3         50 $  is a price :  -  )   !  &  !  !  ^  ) \n",
       "4               look  @ predictivehacks for more hacks\n",
       "5    these are hashtags  # predictivehacks  # datas...\n",
       "Name: sentences, dtype: object"
      ]
     },
     "execution_count": 6,
     "metadata": {},
     "output_type": "execute_result"
    }
   ],
   "source": [
    "# Keeps punctuation and seperates a space\n",
    "corpus[\"sentences\"].apply(tokenizer)"
   ]
  },
  {
   "cell_type": "code",
   "execution_count": 7,
   "metadata": {},
   "outputs": [],
   "source": [
    "#We are using the '\\S+' as token pattern so it will create tokens \n",
    "#splitting with one or more spaces\n",
    " \n",
    "v = CountVectorizer(token_pattern='\\S+')\n",
    "x = v.fit_transform(corpus['sentences'].apply(tokenizer))"
   ]
  },
  {
   "cell_type": "code",
   "execution_count": 8,
   "metadata": {},
   "outputs": [
    {
     "name": "stdout",
     "output_type": "stream",
     "text": [
      "!                  4\n",
      "#                  3\n",
      "$                  1\n",
      "%                  1\n",
      "&                  1\n",
      "'                  2\n",
      ")                  2\n",
      "-                  1\n",
      ".                  2\n",
      "100                1\n",
      "50                 1\n",
      ":                  1\n",
      "@                  1\n",
      "^                  1\n",
      "a                  1\n",
      "an                 1\n",
      "another            1\n",
      "are                1\n",
      "datascience        1\n",
      "don                1\n",
      "example            2\n",
      "for                1\n",
      "fun                1\n",
      "hacks              1\n",
      "hashtags           1\n",
      "ignore             1\n",
      "is                 2\n",
      "it                 1\n",
      "look               1\n",
      "more               1\n",
      "predictivehacks    2\n",
      "price              1\n",
      "s                  1\n",
      "t                  1\n",
      "that               1\n",
      "these              1\n",
      "this               1\n",
      "dtype: int64\n"
     ]
    }
   ],
   "source": [
    "f = pd.DataFrame(x.toarray()) \n",
    "f.columns=v.get_feature_names()\n",
    " \n",
    "f=f.sum(axis=0)\n",
    " \n",
    "print(f)"
   ]
  },
  {
   "cell_type": "code",
   "execution_count": 9,
   "metadata": {},
   "outputs": [],
   "source": [
    "# Used for testing standardisation \n",
    "seed = 170280378"
   ]
  },
  {
   "cell_type": "code",
   "execution_count": 10,
   "metadata": {},
   "outputs": [
    {
     "data": {
      "text/plain": [
       "'C:\\\\Users\\\\User\\\\Desktop\\\\PROJECT WORK\\\\Jupyter Repo'"
      ]
     },
     "execution_count": 10,
     "metadata": {},
     "output_type": "execute_result"
    }
   ],
   "source": [
    "os.getcwd()"
   ]
  },
  {
   "cell_type": "code",
   "execution_count": 11,
   "metadata": {},
   "outputs": [],
   "source": [
    "# UTF-16 as some characters can't be read with UTF-8\n",
    "df = pd.read_csv(\"SQLi/SQLi_train_valid.csv\", encoding=\"UTF-16\")"
   ]
  },
  {
   "cell_type": "code",
   "execution_count": 12,
   "metadata": {},
   "outputs": [
    {
     "data": {
      "text/html": [
       "<div>\n",
       "<style scoped>\n",
       "    .dataframe tbody tr th:only-of-type {\n",
       "        vertical-align: middle;\n",
       "    }\n",
       "\n",
       "    .dataframe tbody tr th {\n",
       "        vertical-align: top;\n",
       "    }\n",
       "\n",
       "    .dataframe thead th {\n",
       "        text-align: right;\n",
       "    }\n",
       "</style>\n",
       "<table border=\"1\" class=\"dataframe\">\n",
       "  <thead>\n",
       "    <tr style=\"text-align: right;\">\n",
       "      <th></th>\n",
       "      <th>Sentence</th>\n",
       "      <th>Label</th>\n",
       "    </tr>\n",
       "  </thead>\n",
       "  <tbody>\n",
       "    <tr>\n",
       "      <th>0</th>\n",
       "      <td>NaN</td>\n",
       "      <td>1</td>\n",
       "    </tr>\n",
       "    <tr>\n",
       "      <th>1</th>\n",
       "      <td>\" or pg_sleep ( __TIME__ ) --</td>\n",
       "      <td>1</td>\n",
       "    </tr>\n",
       "    <tr>\n",
       "      <th>2</th>\n",
       "      <td>create user name identified by pass123 tempora...</td>\n",
       "      <td>1</td>\n",
       "    </tr>\n",
       "    <tr>\n",
       "      <th>3</th>\n",
       "      <td>%29</td>\n",
       "      <td>1</td>\n",
       "    </tr>\n",
       "    <tr>\n",
       "      <th>4</th>\n",
       "      <td>' AND 1 = utl_inaddr.get_host_address  (  (  S...</td>\n",
       "      <td>1</td>\n",
       "    </tr>\n",
       "  </tbody>\n",
       "</table>\n",
       "</div>"
      ],
      "text/plain": [
       "                                            Sentence  Label\n",
       "0                                                NaN      1\n",
       "1                      \" or pg_sleep ( __TIME__ ) --      1\n",
       "2  create user name identified by pass123 tempora...      1\n",
       "3                                                %29      1\n",
       "4  ' AND 1 = utl_inaddr.get_host_address  (  (  S...      1"
      ]
     },
     "execution_count": 12,
     "metadata": {},
     "output_type": "execute_result"
    }
   ],
   "source": [
    "# Quick inspection\n",
    "df.head()"
   ]
  },
  {
   "cell_type": "code",
   "execution_count": 13,
   "metadata": {},
   "outputs": [
    {
     "name": "stdout",
     "output_type": "stream",
     "text": [
      "<class 'pandas.core.frame.DataFrame'>\n",
      "RangeIndex: 33761 entries, 0 to 33760\n",
      "Data columns (total 2 columns):\n",
      " #   Column    Non-Null Count  Dtype \n",
      "---  ------    --------------  ----- \n",
      " 0   Sentence  33757 non-null  object\n",
      " 1   Label     33761 non-null  int64 \n",
      "dtypes: int64(1), object(1)\n",
      "memory usage: 527.6+ KB\n"
     ]
    }
   ],
   "source": [
    "df.info()"
   ]
  },
  {
   "cell_type": "code",
   "execution_count": 14,
   "metadata": {},
   "outputs": [
    {
     "name": "stdout",
     "output_type": "stream",
     "text": [
      "Sentence    4\n",
      "Label       0\n",
      "dtype: int64\n"
     ]
    },
    {
     "data": {
      "text/html": [
       "<div>\n",
       "<style scoped>\n",
       "    .dataframe tbody tr th:only-of-type {\n",
       "        vertical-align: middle;\n",
       "    }\n",
       "\n",
       "    .dataframe tbody tr th {\n",
       "        vertical-align: top;\n",
       "    }\n",
       "\n",
       "    .dataframe thead th {\n",
       "        text-align: right;\n",
       "    }\n",
       "</style>\n",
       "<table border=\"1\" class=\"dataframe\">\n",
       "  <thead>\n",
       "    <tr style=\"text-align: right;\">\n",
       "      <th></th>\n",
       "      <th>Sentence</th>\n",
       "      <th>Label</th>\n",
       "    </tr>\n",
       "  </thead>\n",
       "  <tbody>\n",
       "    <tr>\n",
       "      <th>0</th>\n",
       "      <td>NaN</td>\n",
       "      <td>1</td>\n",
       "    </tr>\n",
       "    <tr>\n",
       "      <th>951</th>\n",
       "      <td>NaN</td>\n",
       "      <td>0</td>\n",
       "    </tr>\n",
       "    <tr>\n",
       "      <th>3953</th>\n",
       "      <td>NaN</td>\n",
       "      <td>1</td>\n",
       "    </tr>\n",
       "    <tr>\n",
       "      <th>3995</th>\n",
       "      <td>NaN</td>\n",
       "      <td>1</td>\n",
       "    </tr>\n",
       "  </tbody>\n",
       "</table>\n",
       "</div>"
      ],
      "text/plain": [
       "     Sentence  Label\n",
       "0         NaN      1\n",
       "951       NaN      0\n",
       "3953      NaN      1\n",
       "3995      NaN      1"
      ]
     },
     "execution_count": 14,
     "metadata": {},
     "output_type": "execute_result"
    }
   ],
   "source": [
    "# showing missing values\n",
    "print(df.isna().sum())\n",
    "df[df.isna().any(axis=1)]"
   ]
  },
  {
   "cell_type": "code",
   "execution_count": 15,
   "metadata": {},
   "outputs": [],
   "source": [
    "# Remove missing values\n",
    "\n",
    "df.dropna(axis=0, inplace=True)"
   ]
  },
  {
   "cell_type": "code",
   "execution_count": 16,
   "metadata": {},
   "outputs": [
    {
     "data": {
      "text/plain": [
       "<matplotlib.axes._subplots.AxesSubplot at 0x2db71e3efa0>"
      ]
     },
     "execution_count": 16,
     "metadata": {},
     "output_type": "execute_result"
    },
    {
     "data": {
      "image/png": "[encoded data removed]",
      "text/plain": [
       "<Figure size 432x288 with 1 Axes>"
      ]
     },
     "metadata": {
      "needs_background": "light"
     },
     "output_type": "display_data"
    }
   ],
   "source": [
    "sns.countplot(df[\"Label\"]==1)"
   ]
  },
  {
   "cell_type": "code",
   "execution_count": 17,
   "metadata": {},
   "outputs": [
    {
     "data": {
      "text/plain": [
       "0.339277779423527"
      ]
     },
     "execution_count": 17,
     "metadata": {},
     "output_type": "execute_result"
    }
   ],
   "source": [
    "# We can see that 33% sentences test positive for SQL injection, we can use this as one benchmark to beat.\n",
    "(df[\"Label\"] == 1).sum() / len(df[\"Label\"])"
   ]
  },
  {
   "attachments": {
    "image.png": {
     "image/png": "[encoded data removed]"
    }
   },
   "cell_type": "markdown",
   "metadata": {},
   "source": [
    "\n",
    "### CountVectorizer\n",
    "![image.png](attachment:image.png)\n",
    "\n",
    "### Common hyperparameters\n",
    "\n",
    "- min and max_df, ignore terms that have a frequency below or above a certain threshold. Default is 1 so no terms ignored.\n",
    "- stop_words: Stop words are words like “and”, “the”, “him”, which are presumed to be uninformative in representing the content of a text, and which may be removed to avoid them being construed as signal for prediction. "
   ]
  },
  {
   "cell_type": "code",
   "execution_count": 18,
   "metadata": {},
   "outputs": [
    {
     "data": {
      "text/html": [
       "<div>\n",
       "<style scoped>\n",
       "    .dataframe tbody tr th:only-of-type {\n",
       "        vertical-align: middle;\n",
       "    }\n",
       "\n",
       "    .dataframe tbody tr th {\n",
       "        vertical-align: top;\n",
       "    }\n",
       "\n",
       "    .dataframe thead th {\n",
       "        text-align: right;\n",
       "    }\n",
       "</style>\n",
       "<table border=\"1\" class=\"dataframe\">\n",
       "  <thead>\n",
       "    <tr style=\"text-align: right;\">\n",
       "      <th></th>\n",
       "      <th>Sentence</th>\n",
       "      <th>Label</th>\n",
       "    </tr>\n",
       "  </thead>\n",
       "  <tbody>\n",
       "    <tr>\n",
       "      <th>29</th>\n",
       "      <td>1 and ascii ( lower ( substring  (  (  select ...</td>\n",
       "      <td>1</td>\n",
       "    </tr>\n",
       "    <tr>\n",
       "      <th>72</th>\n",
       "      <td>or 2 between 1 and 3</td>\n",
       "      <td>1</td>\n",
       "    </tr>\n",
       "    <tr>\n",
       "      <th>105</th>\n",
       "      <td>1 and user_name (  )   =  'dbo'</td>\n",
       "      <td>1</td>\n",
       "    </tr>\n",
       "    <tr>\n",
       "      <th>198</th>\n",
       "      <td>and 1 in  ( select var from temp ) --</td>\n",
       "      <td>1</td>\n",
       "    </tr>\n",
       "    <tr>\n",
       "      <th>221</th>\n",
       "      <td>1 and 1 = 1</td>\n",
       "      <td>1</td>\n",
       "    </tr>\n",
       "    <tr>\n",
       "      <th>...</th>\n",
       "      <td>...</td>\n",
       "      <td>...</td>\n",
       "    </tr>\n",
       "    <tr>\n",
       "      <th>33374</th>\n",
       "      <td>andras</td>\n",
       "      <td>0</td>\n",
       "    </tr>\n",
       "    <tr>\n",
       "      <th>33423</th>\n",
       "      <td>ferreres perandrs</td>\n",
       "      <td>0</td>\n",
       "    </tr>\n",
       "    <tr>\n",
       "      <th>33572</th>\n",
       "      <td>llanderal campos</td>\n",
       "      <td>0</td>\n",
       "    </tr>\n",
       "    <tr>\n",
       "      <th>33631</th>\n",
       "      <td>gandolfo</td>\n",
       "      <td>0</td>\n",
       "    </tr>\n",
       "    <tr>\n",
       "      <th>33632</th>\n",
       "      <td>plaa de augusto miranda, 193,</td>\n",
       "      <td>0</td>\n",
       "    </tr>\n",
       "  </tbody>\n",
       "</table>\n",
       "<p>5490 rows × 2 columns</p>\n",
       "</div>"
      ],
      "text/plain": [
       "                                                Sentence  Label\n",
       "29     1 and ascii ( lower ( substring  (  (  select ...      1\n",
       "72                                  or 2 between 1 and 3      1\n",
       "105                      1 and user_name (  )   =  'dbo'      1\n",
       "198                and 1 in  ( select var from temp ) --      1\n",
       "221                                          1 and 1 = 1      1\n",
       "...                                                  ...    ...\n",
       "33374                                             andras      0\n",
       "33423                                  ferreres perandrs      0\n",
       "33572                                   llanderal campos      0\n",
       "33631                                           gandolfo      0\n",
       "33632                      plaa de augusto miranda, 193,      0\n",
       "\n",
       "[5490 rows x 2 columns]"
      ]
     },
     "execution_count": 18,
     "metadata": {},
     "output_type": "execute_result"
    }
   ],
   "source": [
    "# However, we can see that the stop word \"and\" is also used in SQL comments, have to test this because unsure of the relationship\n",
    "df[df[\"Sentence\"].str.contains(\"and\")]"
   ]
  },
  {
   "cell_type": "code",
   "execution_count": 19,
   "metadata": {},
   "outputs": [
    {
     "data": {
      "text/html": [
       "<div>\n",
       "<style scoped>\n",
       "    .dataframe tbody tr th:only-of-type {\n",
       "        vertical-align: middle;\n",
       "    }\n",
       "\n",
       "    .dataframe tbody tr th {\n",
       "        vertical-align: top;\n",
       "    }\n",
       "\n",
       "    .dataframe thead th {\n",
       "        text-align: right;\n",
       "    }\n",
       "</style>\n",
       "<table border=\"1\" class=\"dataframe\">\n",
       "  <thead>\n",
       "    <tr style=\"text-align: right;\">\n",
       "      <th></th>\n",
       "      <th>Sentence</th>\n",
       "      <th>Label</th>\n",
       "    </tr>\n",
       "  </thead>\n",
       "  <tbody>\n",
       "    <tr>\n",
       "      <th>4</th>\n",
       "      <td>' AND 1 = utl_inaddr.get_host_address  (  (  S...</td>\n",
       "      <td>1</td>\n",
       "    </tr>\n",
       "    <tr>\n",
       "      <th>5</th>\n",
       "      <td>select * from users where id = '1' or @ @1 = ...</td>\n",
       "      <td>1</td>\n",
       "    </tr>\n",
       "    <tr>\n",
       "      <th>7</th>\n",
       "      <td>' select name from syscolumns where id  =   ( ...</td>\n",
       "      <td>1</td>\n",
       "    </tr>\n",
       "    <tr>\n",
       "      <th>10</th>\n",
       "      <td>select * from users where id = '1' or ||/1 = ...</td>\n",
       "      <td>1</td>\n",
       "    </tr>\n",
       "    <tr>\n",
       "      <th>11</th>\n",
       "      <td>select * from users where id = '1' or \\.&lt;\\ un...</td>\n",
       "      <td>1</td>\n",
       "    </tr>\n",
       "    <tr>\n",
       "      <th>...</th>\n",
       "      <td>...</td>\n",
       "      <td>...</td>\n",
       "    </tr>\n",
       "    <tr>\n",
       "      <th>31198</th>\n",
       "      <td>aldea, l'</td>\n",
       "      <td>0</td>\n",
       "    </tr>\n",
       "    <tr>\n",
       "      <th>31418</th>\n",
       "      <td>mc'morral obrist</td>\n",
       "      <td>0</td>\n",
       "    </tr>\n",
       "    <tr>\n",
       "      <th>31763</th>\n",
       "      <td>bellcaire d'empord</td>\n",
       "      <td>0</td>\n",
       "    </tr>\n",
       "    <tr>\n",
       "      <th>31809</th>\n",
       "      <td>partida lliriet d'en mig, 135, 10?a</td>\n",
       "      <td>0</td>\n",
       "    </tr>\n",
       "    <tr>\n",
       "      <th>32020</th>\n",
       "      <td>ivars d'urgell</td>\n",
       "      <td>0</td>\n",
       "    </tr>\n",
       "  </tbody>\n",
       "</table>\n",
       "<p>5423 rows × 2 columns</p>\n",
       "</div>"
      ],
      "text/plain": [
       "                                                Sentence  Label\n",
       "4      ' AND 1 = utl_inaddr.get_host_address  (  (  S...      1\n",
       "5       select * from users where id = '1' or @ @1 = ...      1\n",
       "7      ' select name from syscolumns where id  =   ( ...      1\n",
       "10      select * from users where id = '1' or ||/1 = ...      1\n",
       "11      select * from users where id = '1' or \\.<\\ un...      1\n",
       "...                                                  ...    ...\n",
       "31198                                          aldea, l'      0\n",
       "31418                                   mc'morral obrist      0\n",
       "31763                                 bellcaire d'empord      0\n",
       "31809                partida lliriet d'en mig, 135, 10?a      0\n",
       "32020                                     ivars d'urgell      0\n",
       "\n",
       "[5423 rows x 2 columns]"
      ]
     },
     "execution_count": 19,
     "metadata": {},
     "output_type": "execute_result"
    }
   ],
   "source": [
    "# punctuation also features prominently\n",
    "df[df[\"Sentence\"].str.contains(\"'\")]"
   ]
  },
  {
   "cell_type": "markdown",
   "metadata": {},
   "source": [
    "# Reducing here as the dataframe is just too big\n",
    "Standardise at 10, 000 rows total\n"
   ]
  },
  {
   "cell_type": "code",
   "execution_count": 20,
   "metadata": {},
   "outputs": [
    {
     "data": {
      "text/plain": [
       "1        1\n",
       "2        1\n",
       "3        1\n",
       "4        1\n",
       "5        1\n",
       "        ..\n",
       "33756    0\n",
       "33757    0\n",
       "33758    0\n",
       "33759    0\n",
       "33760    0\n",
       "Name: Label, Length: 33757, dtype: int64"
      ]
     },
     "execution_count": 20,
     "metadata": {},
     "output_type": "execute_result"
    }
   ],
   "source": [
    "df[\"Label\"]"
   ]
  },
  {
   "cell_type": "code",
   "execution_count": 21,
   "metadata": {},
   "outputs": [],
   "source": [
    "# This reduces to roughly 8000 rows\n",
    "df = df.groupby('Label').apply(pd.DataFrame.sample, frac=0.23698).reset_index(drop=True)"
   ]
  },
  {
   "cell_type": "code",
   "execution_count": 22,
   "metadata": {},
   "outputs": [],
   "source": [
    "df[\"Sentence\"] = df[\"Sentence\"].apply(tokenizer)"
   ]
  },
  {
   "cell_type": "code",
   "execution_count": 23,
   "metadata": {},
   "outputs": [
    {
     "data": {
      "text/plain": [
       "0.33925"
      ]
     },
     "execution_count": 23,
     "metadata": {},
     "output_type": "execute_result"
    }
   ],
   "source": [
    "# Still preserves the same ratio of values\n",
    "(df[\"Label\"] == 1).sum() / len(df[\"Label\"])"
   ]
  },
  {
   "cell_type": "code",
   "execution_count": 24,
   "metadata": {},
   "outputs": [
    {
     "data": {
      "text/html": [
       "<div>\n",
       "<style scoped>\n",
       "    .dataframe tbody tr th:only-of-type {\n",
       "        vertical-align: middle;\n",
       "    }\n",
       "\n",
       "    .dataframe tbody tr th {\n",
       "        vertical-align: top;\n",
       "    }\n",
       "\n",
       "    .dataframe thead th {\n",
       "        text-align: right;\n",
       "    }\n",
       "</style>\n",
       "<table border=\"1\" class=\"dataframe\">\n",
       "  <thead>\n",
       "    <tr style=\"text-align: right;\">\n",
       "      <th></th>\n",
       "      <th>Sentence</th>\n",
       "      <th>Label</th>\n",
       "    </tr>\n",
       "  </thead>\n",
       "  <tbody>\n",
       "    <tr>\n",
       "      <th>0</th>\n",
       "      <td>steelsmith @ 7peines . com</td>\n",
       "      <td>0</td>\n",
       "    </tr>\n",
       "    <tr>\n",
       "      <th>1</th>\n",
       "      <td>pente @ maxitienda . ms</td>\n",
       "      <td>0</td>\n",
       "    </tr>\n",
       "    <tr>\n",
       "      <th>2</th>\n",
       "      <td>lncara</td>\n",
       "      <td>0</td>\n",
       "    </tr>\n",
       "    <tr>\n",
       "      <th>3</th>\n",
       "      <td>4364</td>\n",
       "      <td>0</td>\n",
       "    </tr>\n",
       "    <tr>\n",
       "      <th>4</th>\n",
       "      <td>overdyke</td>\n",
       "      <td>0</td>\n",
       "    </tr>\n",
       "    <tr>\n",
       "      <th>...</th>\n",
       "      <td>...</td>\n",
       "      <td>...</td>\n",
       "    </tr>\n",
       "    <tr>\n",
       "      <th>7995</th>\n",
       "      <td>1 \"   )   where 7578  =  7578 and 6414  =    (...</td>\n",
       "      <td>1</td>\n",
       "    </tr>\n",
       "    <tr>\n",
       "      <th>7996</th>\n",
       "      <td>- 3873 %  '    )    )    or 1 group by concat...</td>\n",
       "      <td>1</td>\n",
       "    </tr>\n",
       "    <tr>\n",
       "      <th>7997</th>\n",
       "      <td>1 '  and 5556  =    (  select count  (   *   )...</td>\n",
       "      <td>1</td>\n",
       "    </tr>\n",
       "    <tr>\n",
       "      <th>7998</th>\n",
       "      <td>1 \"   )   where 5794  =  5794 union all select...</td>\n",
       "      <td>1</td>\n",
       "    </tr>\n",
       "    <tr>\n",
       "      <th>7999</th>\n",
       "      <td>select  *  from users where id  =  1 or  \\  &lt;...</td>\n",
       "      <td>1</td>\n",
       "    </tr>\n",
       "  </tbody>\n",
       "</table>\n",
       "<p>8000 rows × 2 columns</p>\n",
       "</div>"
      ],
      "text/plain": [
       "                                               Sentence  Label\n",
       "0                            steelsmith @ 7peines . com      0\n",
       "1                               pente @ maxitienda . ms      0\n",
       "2                                                lncara      0\n",
       "3                                                  4364      0\n",
       "4                                              overdyke      0\n",
       "...                                                 ...    ...\n",
       "7995  1 \"   )   where 7578  =  7578 and 6414  =    (...      1\n",
       "7996   - 3873 %  '    )    )    or 1 group by concat...      1\n",
       "7997  1 '  and 5556  =    (  select count  (   *   )...      1\n",
       "7998  1 \"   )   where 5794  =  5794 union all select...      1\n",
       "7999   select  *  from users where id  =  1 or  \\  <...      1\n",
       "\n",
       "[8000 rows x 2 columns]"
      ]
     },
     "execution_count": 24,
     "metadata": {},
     "output_type": "execute_result"
    }
   ],
   "source": [
    "df"
   ]
  },
  {
   "cell_type": "code",
   "execution_count": 25,
   "metadata": {},
   "outputs": [],
   "source": [
    "X_train=df[\"Sentence\"]"
   ]
  },
  {
   "cell_type": "code",
   "execution_count": 26,
   "metadata": {},
   "outputs": [],
   "source": [
    "y_train=df[\"Label\"]"
   ]
  },
  {
   "cell_type": "code",
   "execution_count": 27,
   "metadata": {},
   "outputs": [
    {
     "data": {
      "text/plain": [
       "0       0\n",
       "1       0\n",
       "2       0\n",
       "3       0\n",
       "4       0\n",
       "       ..\n",
       "7995    1\n",
       "7996    1\n",
       "7997    1\n",
       "7998    1\n",
       "7999    1\n",
       "Name: Label, Length: 8000, dtype: int64"
      ]
     },
     "execution_count": 27,
     "metadata": {},
     "output_type": "execute_result"
    }
   ],
   "source": [
    "y_train"
   ]
  },
  {
   "cell_type": "code",
   "execution_count": 28,
   "metadata": {},
   "outputs": [],
   "source": [
    "# We need to split into train and test data\n",
    "# The default method is to use train_test_split as taught in NN class\n",
    "# One concept is k-folds CV (splitting into k subsets and train/testing on each subset)\n",
    "# Another one is stratification, in which each subset will contain roughly and proportional representation of 0 and 1 target value\n",
    "# I.e., when split, each fold should contain roughly 27% positive target values\n",
    "# For this approach, we will opt for StratifiedKFold which is a good middle ground\n",
    "# Don't need to include shuffle \n",
    "\n",
    "# X_train, X_val, y_train, y_val = train_test_split(X, y, test_size = 0.25, random_state=seed)"
   ]
  },
  {
   "cell_type": "raw",
   "metadata": {},
   "source": [
    "# X_val"
   ]
  },
  {
   "cell_type": "code",
   "execution_count": 29,
   "metadata": {},
   "outputs": [],
   "source": [
    "# Begin with vectorization, don't bother with hyperparameters for now? Scope too wide?\n",
    "# Fit and transform ONLY training, ONLY transform validation and test\n",
    "cv = CountVectorizer(token_pattern=\"\\S+\")\n",
    "tfv = TfidfVectorizer(token_pattern=\"\\S+\")\n"
   ]
  },
  {
   "cell_type": "code",
   "execution_count": 30,
   "metadata": {},
   "outputs": [],
   "source": [
    "count_vect_train = cv.fit_transform(X_train)\n",
    "tf_vect_train = tfv.fit_transform(X_train)"
   ]
  },
  {
   "cell_type": "code",
   "execution_count": 31,
   "metadata": {},
   "outputs": [],
   "source": [
    "#count_vect_val = cv.transform(X)\n",
    "#tf_vect_val = tfv.transform(X)"
   ]
  },
  {
   "cell_type": "code",
   "execution_count": 32,
   "metadata": {},
   "outputs": [],
   "source": [
    "X_train = pd.DataFrame(count_vect_train.toarray())"
   ]
  },
  {
   "cell_type": "code",
   "execution_count": 33,
   "metadata": {},
   "outputs": [],
   "source": [
    "# X_val = pd.DataFrame(count_vect_val.toarray())"
   ]
  },
  {
   "cell_type": "raw",
   "metadata": {},
   "source": [
    "# We can take a look at the features if needed\n",
    "f = count_vect_df.copy() \n",
    "f.columns=cv.get_feature_names()\n",
    "f=f.sum(axis=0)\n",
    " \n",
    "print(f)"
   ]
  },
  {
   "cell_type": "raw",
   "metadata": {},
   "source": [
    "tf_vect_df = pd.DataFrame(tf_vect.toarray())"
   ]
  },
  {
   "cell_type": "raw",
   "metadata": {},
   "source": [
    "tf_vect_df"
   ]
  },
  {
   "cell_type": "raw",
   "metadata": {},
   "source": [
    "# Now we the vectorized form of the sentences\n",
    "# At this stage, we can final obtain our X and y\n",
    "cv_X = count_vect_df \n",
    "tf_X = tf_vect_df\n",
    "y = df[\"Label\"]"
   ]
  },
  {
   "cell_type": "raw",
   "metadata": {},
   "source": [
    "X_train"
   ]
  },
  {
   "cell_type": "raw",
   "metadata": {},
   "source": [
    "#cv_lazy_clf = LazyClassifier(verbose=10,ignore_warnings=False, custom_metric=None, classifiers = [DecisionTreeClassifier, RandomForestClassifier, SVC, LogisticRegression, KNeighborsClassifier, GaussianNB, XGBClassifier])\n",
    "cv_lazy_clf = LazyClassifier(verbose=10, ignore_warnings=False, classifiers = [DecisionTreeClassifier,\n",
    "                                                                              RandomForestClassifier,\n",
    "                                                                              SVC,\n",
    "                                                                              LogisticRegression,\n",
    "                                                                              KNeighborsClassifier,\n",
    "                                                                              GaussianNB,\n",
    "                                                                              MLPClassifier,\n",
    "                                                                              XGBClassifier])"
   ]
  },
  {
   "cell_type": "raw",
   "metadata": {},
   "source": [
    "cv_models, cv_predictions = cv_lazy_clf.fit(X_train, X_val, y_train, y_val)"
   ]
  },
  {
   "cell_type": "raw",
   "metadata": {},
   "source": [
    "tf_lazy_clf = LazyClassifier(verbose=5, ignore_warnings=False, custom_metric=None, classifiers=[DecisionTreeClassifier, RandomForestClassifier,  XGBClassifier])"
   ]
  },
  {
   "cell_type": "raw",
   "metadata": {},
   "source": [
    "tf_models, tf_predictions = tf_lazy_clf.fit(tf_X_train, tf_X_valid, tf_y_train, tf_y_valid)"
   ]
  },
  {
   "cell_type": "raw",
   "metadata": {},
   "source": [
    "time_taken = []"
   ]
  },
  {
   "cell_type": "raw",
   "metadata": {},
   "source": [
    "for i in cv_models[\"Time Taken\"]:\n",
    "    time_taken.append(i)"
   ]
  },
  {
   "cell_type": "raw",
   "metadata": {},
   "source": [
    "time_taken"
   ]
  },
  {
   "cell_type": "raw",
   "metadata": {},
   "source": [
    "cv_models.sort_values(\"Accuracy\", ascending=False)"
   ]
  },
  {
   "cell_type": "raw",
   "metadata": {},
   "source": [
    "tf_models"
   ]
  },
  {
   "cell_type": "raw",
   "metadata": {},
   "source": [
    "tf_models.sort_values(\"Accuracy\", ascending=False)"
   ]
  },
  {
   "cell_type": "raw",
   "metadata": {},
   "source": [
    "cv_models.mean()"
   ]
  },
  {
   "cell_type": "raw",
   "metadata": {},
   "source": [
    "tf_models.mean()"
   ]
  },
  {
   "cell_type": "raw",
   "metadata": {},
   "source": [
    "cv_models.sort_values(\"Balanced Accuracy\", ascending=False).head()"
   ]
  },
  {
   "cell_type": "raw",
   "metadata": {},
   "source": [
    "tf_models.sort_values(\"Balanced Accuracy\", ascending=False).head()"
   ]
  },
  {
   "cell_type": "raw",
   "metadata": {},
   "source": [
    "#cv_models.loc[[\"DecisionTreeClassifier\", \"RandomForestClassifier\", \"SVC\", \"LogisticRegression\", \"KNeighborsClassifier\",\"GaussianNB\", \"XGBClassifier\"],:].mean()"
   ]
  },
  {
   "cell_type": "raw",
   "metadata": {},
   "source": [
    "#tf_models.loc[[\"DecisionTreeClassifier\", \"RandomForestClassifier\", \"SVC\", \"LogisticRegression\", \"KNeighborsClassifier\",\"GaussianNB\", \"XGBClassifier\"],:].mean()"
   ]
  },
  {
   "cell_type": "raw",
   "metadata": {},
   "source": [
    "X_train.shape"
   ]
  },
  {
   "cell_type": "raw",
   "metadata": {},
   "source": [
    "y_train.shape"
   ]
  },
  {
   "cell_type": "raw",
   "metadata": {},
   "source": [
    "X_val.shape"
   ]
  },
  {
   "cell_type": "raw",
   "metadata": {},
   "source": [
    "y_val.shape"
   ]
  },
  {
   "cell_type": "markdown",
   "metadata": {},
   "source": [
    "# Hyperparameter tuning\n"
   ]
  },
  {
   "cell_type": "markdown",
   "metadata": {},
   "source": [
    "## Example of how steps can be chained\n",
    "\n",
    "Not done for debugging and scope reasons"
   ]
  },
  {
   "cell_type": "raw",
   "metadata": {},
   "source": [
    "   \n",
    "pipe = Pipeline(steps=[(\"vectorizer\", count_vectorizer()),\n",
    "                        ('estimator', SVC())])\n",
    "\n",
    "# Add a dict of estimator and estimator related parameters in this list\n",
    "params_grid = [{'vectorizer':[CountVectorizer(), TfidVectorizer(),\n",
    "                'vectorizer_max_features': [2, 3]\n",
    "                'estimator':[SVC()],\n",
    "                'estimator__C': [1, 10, 100, 1000],\n",
    "                'estimator__gamma': [0.001, 0.0001]\n",
    "                },\n",
    "                {\n",
    "                'estimator': [DecisionTreeClassifier()],\n",
    "                'estimator__max_depth': [1,2,3,4,5],\n",
    "                'estimator__max_features': [None, \"auto\", \"sqrt\", \"log2\"],\n",
    "                },\n",
    "         \n",
    "\n",
    "grid = GridSearchCV(pipe, params_grid, n_jobs=-1)"
   ]
  },
  {
   "cell_type": "raw",
   "metadata": {},
   "source": [
    "grid.fit(X_train, y_train)"
   ]
  },
  {
   "cell_type": "code",
   "execution_count": 34,
   "metadata": {},
   "outputs": [],
   "source": [
    "# Save the cv object for later use\n",
    "cv_pickle = \"sqli_cv_pickle.sav\"\n",
    "pickle.dump(cv, open(cv_pickle, \"wb\"))"
   ]
  },
  {
   "cell_type": "code",
   "execution_count": 35,
   "metadata": {},
   "outputs": [],
   "source": [
    "time_taken = []"
   ]
  },
  {
   "cell_type": "markdown",
   "metadata": {},
   "source": [
    "### Decision Tree"
   ]
  },
  {
   "cell_type": "code",
   "execution_count": 36,
   "metadata": {},
   "outputs": [],
   "source": [
    "train_recall_score = []"
   ]
  },
  {
   "cell_type": "code",
   "execution_count": 37,
   "metadata": {},
   "outputs": [],
   "source": [
    "decision_tree = DecisionTreeClassifier(random_state=seed)"
   ]
  },
  {
   "cell_type": "code",
   "execution_count": 38,
   "metadata": {},
   "outputs": [],
   "source": [
    "dt_parameters = {'max_features': ['log2', 'sqrt','auto', None], \n",
    "              'criterion': ['entropy', 'gini'],\n",
    "                 'splitter':['best', 'random'],\n",
    "                'max_depth': [2, 3, 5, 10, 50], \n",
    "              'min_samples_split': [2, 3, 5, 10],\n",
    "              'min_samples_leaf': [2, 3, 5, 10]\n",
    "             }"
   ]
  },
  {
   "cell_type": "raw",
   "metadata": {},
   "source": [
    "dt_parameters = {\"max_features\": [\"log2\"],\n",
    "                \"criterion\": [\"entropy\"]\n",
    "                }"
   ]
  },
  {
   "cell_type": "code",
   "execution_count": 39,
   "metadata": {},
   "outputs": [
    {
     "name": "stdout",
     "output_type": "stream",
     "text": [
      "Fitting 5 folds for each of 10 candidates, totalling 50 fits\n",
      "[Parallel(n_jobs=1)]: Using backend SequentialBackend with 1 concurrent workers.\n",
      "[CV] splitter=random, min_samples_split=10, min_samples_leaf=10, max_features=log2, max_depth=2, criterion=gini \n",
      "[CV]  splitter=random, min_samples_split=10, min_samples_leaf=10, max_features=log2, max_depth=2, criterion=gini, score=0.000, total=   0.8s\n",
      "[Parallel(n_jobs=1)]: Done   1 out of   1 | elapsed:    0.8s remaining:    0.0s\n",
      "[CV] splitter=random, min_samples_split=10, min_samples_leaf=10, max_features=log2, max_depth=2, criterion=gini \n",
      "[CV]  splitter=random, min_samples_split=10, min_samples_leaf=10, max_features=log2, max_depth=2, criterion=gini, score=0.000, total=   0.6s\n",
      "[Parallel(n_jobs=1)]: Done   2 out of   2 | elapsed:    1.5s remaining:    0.0s\n",
      "[CV] splitter=random, min_samples_split=10, min_samples_leaf=10, max_features=log2, max_depth=2, criterion=gini \n",
      "[CV]  splitter=random, min_samples_split=10, min_samples_leaf=10, max_features=log2, max_depth=2, criterion=gini, score=0.000, total=   0.7s\n",
      "[Parallel(n_jobs=1)]: Done   3 out of   3 | elapsed:    2.2s remaining:    0.0s\n",
      "[CV] splitter=random, min_samples_split=10, min_samples_leaf=10, max_features=log2, max_depth=2, criterion=gini \n",
      "[CV]  splitter=random, min_samples_split=10, min_samples_leaf=10, max_features=log2, max_depth=2, criterion=gini, score=0.000, total=   0.6s\n",
      "[Parallel(n_jobs=1)]: Done   4 out of   4 | elapsed:    2.9s remaining:    0.0s\n",
      "[CV] splitter=random, min_samples_split=10, min_samples_leaf=10, max_features=log2, max_depth=2, criterion=gini \n",
      "[CV]  splitter=random, min_samples_split=10, min_samples_leaf=10, max_features=log2, max_depth=2, criterion=gini, score=0.000, total=   0.6s\n",
      "[Parallel(n_jobs=1)]: Done   5 out of   5 | elapsed:    3.6s remaining:    0.0s\n",
      "[CV] splitter=random, min_samples_split=2, min_samples_leaf=10, max_features=auto, max_depth=2, criterion=entropy \n",
      "[CV]  splitter=random, min_samples_split=2, min_samples_leaf=10, max_features=auto, max_depth=2, criterion=entropy, score=0.161, total=   0.6s\n",
      "[Parallel(n_jobs=1)]: Done   6 out of   6 | elapsed:    4.3s remaining:    0.0s\n",
      "[CV] splitter=random, min_samples_split=2, min_samples_leaf=10, max_features=auto, max_depth=2, criterion=entropy \n",
      "[CV]  splitter=random, min_samples_split=2, min_samples_leaf=10, max_features=auto, max_depth=2, criterion=entropy, score=0.072, total=   0.6s\n",
      "[Parallel(n_jobs=1)]: Done   7 out of   7 | elapsed:    5.0s remaining:    0.0s\n",
      "[CV] splitter=random, min_samples_split=2, min_samples_leaf=10, max_features=auto, max_depth=2, criterion=entropy \n",
      "[CV]  splitter=random, min_samples_split=2, min_samples_leaf=10, max_features=auto, max_depth=2, criterion=entropy, score=0.282, total=   0.7s\n",
      "[Parallel(n_jobs=1)]: Done   8 out of   8 | elapsed:    5.7s remaining:    0.0s\n",
      "[CV] splitter=random, min_samples_split=2, min_samples_leaf=10, max_features=auto, max_depth=2, criterion=entropy \n",
      "[CV]  splitter=random, min_samples_split=2, min_samples_leaf=10, max_features=auto, max_depth=2, criterion=entropy, score=0.042, total=   0.6s\n",
      "[Parallel(n_jobs=1)]: Done   9 out of   9 | elapsed:    6.4s remaining:    0.0s\n",
      "[CV] splitter=random, min_samples_split=2, min_samples_leaf=10, max_features=auto, max_depth=2, criterion=entropy \n",
      "[CV]  splitter=random, min_samples_split=2, min_samples_leaf=10, max_features=auto, max_depth=2, criterion=entropy, score=0.042, total=   0.7s\n",
      "[Parallel(n_jobs=1)]: Done  10 out of  10 | elapsed:    7.2s remaining:    0.0s\n",
      "[CV] splitter=best, min_samples_split=2, min_samples_leaf=2, max_features=sqrt, max_depth=10, criterion=entropy \n",
      "[CV]  splitter=best, min_samples_split=2, min_samples_leaf=2, max_features=sqrt, max_depth=10, criterion=entropy, score=0.869, total=   0.7s\n",
      "[Parallel(n_jobs=1)]: Done  11 out of  11 | elapsed:    8.0s remaining:    0.0s\n",
      "[CV] splitter=best, min_samples_split=2, min_samples_leaf=2, max_features=sqrt, max_depth=10, criterion=entropy \n",
      "[CV]  splitter=best, min_samples_split=2, min_samples_leaf=2, max_features=sqrt, max_depth=10, criterion=entropy, score=0.363, total=   0.7s\n",
      "[Parallel(n_jobs=1)]: Done  12 out of  12 | elapsed:    8.7s remaining:    0.0s\n",
      "[CV] splitter=best, min_samples_split=2, min_samples_leaf=2, max_features=sqrt, max_depth=10, criterion=entropy \n",
      "[CV]  splitter=best, min_samples_split=2, min_samples_leaf=2, max_features=sqrt, max_depth=10, criterion=entropy, score=0.331, total=   0.7s\n",
      "[Parallel(n_jobs=1)]: Done  13 out of  13 | elapsed:    9.5s remaining:    0.0s\n",
      "[CV] splitter=best, min_samples_split=2, min_samples_leaf=2, max_features=sqrt, max_depth=10, criterion=entropy \n",
      "[CV]  splitter=best, min_samples_split=2, min_samples_leaf=2, max_features=sqrt, max_depth=10, criterion=entropy, score=0.788, total=   0.7s\n",
      "[Parallel(n_jobs=1)]: Done  14 out of  14 | elapsed:   10.3s remaining:    0.0s\n",
      "[CV] splitter=best, min_samples_split=2, min_samples_leaf=2, max_features=sqrt, max_depth=10, criterion=entropy \n",
      "[CV]  splitter=best, min_samples_split=2, min_samples_leaf=2, max_features=sqrt, max_depth=10, criterion=entropy, score=0.680, total=   0.7s\n",
      "[Parallel(n_jobs=1)]: Done  15 out of  15 | elapsed:   11.1s remaining:    0.0s\n",
      "[CV] splitter=random, min_samples_split=3, min_samples_leaf=5, max_features=sqrt, max_depth=3, criterion=entropy \n",
      "[CV]  splitter=random, min_samples_split=3, min_samples_leaf=5, max_features=sqrt, max_depth=3, criterion=entropy, score=0.474, total=   0.6s\n",
      "[Parallel(n_jobs=1)]: Done  16 out of  16 | elapsed:   11.8s remaining:    0.0s\n",
      "[CV] splitter=random, min_samples_split=3, min_samples_leaf=5, max_features=sqrt, max_depth=3, criterion=entropy \n",
      "[CV]  splitter=random, min_samples_split=3, min_samples_leaf=5, max_features=sqrt, max_depth=3, criterion=entropy, score=0.129, total=   0.7s\n",
      "[Parallel(n_jobs=1)]: Done  17 out of  17 | elapsed:   12.5s remaining:    0.0s\n",
      "[CV] splitter=random, min_samples_split=3, min_samples_leaf=5, max_features=sqrt, max_depth=3, criterion=entropy \n",
      "[CV]  splitter=random, min_samples_split=3, min_samples_leaf=5, max_features=sqrt, max_depth=3, criterion=entropy, score=0.363, total=   0.7s\n",
      "[Parallel(n_jobs=1)]: Done  18 out of  18 | elapsed:   13.3s remaining:    0.0s\n",
      "[CV] splitter=random, min_samples_split=3, min_samples_leaf=5, max_features=sqrt, max_depth=3, criterion=entropy \n",
      "[CV]  splitter=random, min_samples_split=3, min_samples_leaf=5, max_features=sqrt, max_depth=3, criterion=entropy, score=0.048, total=   0.7s\n",
      "[Parallel(n_jobs=1)]: Done  19 out of  19 | elapsed:   14.0s remaining:    0.0s\n",
      "[CV] splitter=random, min_samples_split=3, min_samples_leaf=5, max_features=sqrt, max_depth=3, criterion=entropy \n",
      "[CV]  splitter=random, min_samples_split=3, min_samples_leaf=5, max_features=sqrt, max_depth=3, criterion=entropy, score=0.068, total=   0.7s\n",
      "[Parallel(n_jobs=1)]: Done  20 out of  20 | elapsed:   14.8s remaining:    0.0s\n",
      "[CV] splitter=best, min_samples_split=10, min_samples_leaf=2, max_features=sqrt, max_depth=2, criterion=gini \n",
      "[CV]  splitter=best, min_samples_split=10, min_samples_leaf=2, max_features=sqrt, max_depth=2, criterion=gini, score=0.839, total=   0.7s\n",
      "[Parallel(n_jobs=1)]: Done  21 out of  21 | elapsed:   15.5s remaining:    0.0s\n",
      "[CV] splitter=best, min_samples_split=10, min_samples_leaf=2, max_features=sqrt, max_depth=2, criterion=gini \n",
      "[CV]  splitter=best, min_samples_split=10, min_samples_leaf=2, max_features=sqrt, max_depth=2, criterion=gini, score=0.611, total=   0.7s\n",
      "[Parallel(n_jobs=1)]: Done  22 out of  22 | elapsed:   16.3s remaining:    0.0s\n",
      "[CV] splitter=best, min_samples_split=10, min_samples_leaf=2, max_features=sqrt, max_depth=2, criterion=gini \n",
      "[CV]  splitter=best, min_samples_split=10, min_samples_leaf=2, max_features=sqrt, max_depth=2, criterion=gini, score=0.265, total=   0.7s\n",
      "[Parallel(n_jobs=1)]: Done  23 out of  23 | elapsed:   17.0s remaining:    0.0s\n",
      "[CV] splitter=best, min_samples_split=10, min_samples_leaf=2, max_features=sqrt, max_depth=2, criterion=gini \n",
      "[CV]  splitter=best, min_samples_split=10, min_samples_leaf=2, max_features=sqrt, max_depth=2, criterion=gini, score=0.470, total=   0.7s\n",
      "[Parallel(n_jobs=1)]: Done  24 out of  24 | elapsed:   17.8s remaining:    0.0s\n",
      "[CV] splitter=best, min_samples_split=10, min_samples_leaf=2, max_features=sqrt, max_depth=2, criterion=gini \n"
     ]
    },
    {
     "name": "stdout",
     "output_type": "stream",
     "text": [
      "[CV]  splitter=best, min_samples_split=10, min_samples_leaf=2, max_features=sqrt, max_depth=2, criterion=gini, score=0.650, total=   0.6s\n",
      "[Parallel(n_jobs=1)]: Done  25 out of  25 | elapsed:   18.5s remaining:    0.0s\n",
      "[CV] splitter=best, min_samples_split=3, min_samples_leaf=10, max_features=sqrt, max_depth=2, criterion=gini \n",
      "[CV]  splitter=best, min_samples_split=3, min_samples_leaf=10, max_features=sqrt, max_depth=2, criterion=gini, score=0.839, total=   0.6s\n",
      "[Parallel(n_jobs=1)]: Done  26 out of  26 | elapsed:   19.2s remaining:    0.0s\n",
      "[CV] splitter=best, min_samples_split=3, min_samples_leaf=10, max_features=sqrt, max_depth=2, criterion=gini \n",
      "[CV]  splitter=best, min_samples_split=3, min_samples_leaf=10, max_features=sqrt, max_depth=2, criterion=gini, score=0.611, total=   0.6s\n",
      "[Parallel(n_jobs=1)]: Done  27 out of  27 | elapsed:   19.9s remaining:    0.0s\n",
      "[CV] splitter=best, min_samples_split=3, min_samples_leaf=10, max_features=sqrt, max_depth=2, criterion=gini \n",
      "[CV]  splitter=best, min_samples_split=3, min_samples_leaf=10, max_features=sqrt, max_depth=2, criterion=gini, score=0.262, total=   0.7s\n",
      "[Parallel(n_jobs=1)]: Done  28 out of  28 | elapsed:   20.7s remaining:    0.0s\n",
      "[CV] splitter=best, min_samples_split=3, min_samples_leaf=10, max_features=sqrt, max_depth=2, criterion=gini \n",
      "[CV]  splitter=best, min_samples_split=3, min_samples_leaf=10, max_features=sqrt, max_depth=2, criterion=gini, score=0.470, total=   0.6s\n",
      "[Parallel(n_jobs=1)]: Done  29 out of  29 | elapsed:   21.3s remaining:    0.0s\n",
      "[CV] splitter=best, min_samples_split=3, min_samples_leaf=10, max_features=sqrt, max_depth=2, criterion=gini \n",
      "[CV]  splitter=best, min_samples_split=3, min_samples_leaf=10, max_features=sqrt, max_depth=2, criterion=gini, score=0.650, total=   0.6s\n",
      "[Parallel(n_jobs=1)]: Done  30 out of  30 | elapsed:   22.1s remaining:    0.0s\n",
      "[CV] splitter=random, min_samples_split=10, min_samples_leaf=3, max_features=log2, max_depth=2, criterion=entropy \n",
      "[CV]  splitter=random, min_samples_split=10, min_samples_leaf=3, max_features=log2, max_depth=2, criterion=entropy, score=0.000, total=   0.6s\n",
      "[Parallel(n_jobs=1)]: Done  31 out of  31 | elapsed:   22.7s remaining:    0.0s\n",
      "[CV] splitter=random, min_samples_split=10, min_samples_leaf=3, max_features=log2, max_depth=2, criterion=entropy \n",
      "[CV]  splitter=random, min_samples_split=10, min_samples_leaf=3, max_features=log2, max_depth=2, criterion=entropy, score=0.000, total=   0.6s\n",
      "[Parallel(n_jobs=1)]: Done  32 out of  32 | elapsed:   23.4s remaining:    0.0s\n",
      "[CV] splitter=random, min_samples_split=10, min_samples_leaf=3, max_features=log2, max_depth=2, criterion=entropy \n",
      "[CV]  splitter=random, min_samples_split=10, min_samples_leaf=3, max_features=log2, max_depth=2, criterion=entropy, score=0.000, total=   0.6s\n",
      "[Parallel(n_jobs=1)]: Done  33 out of  33 | elapsed:   24.1s remaining:    0.0s\n",
      "[CV] splitter=random, min_samples_split=10, min_samples_leaf=3, max_features=log2, max_depth=2, criterion=entropy \n",
      "[CV]  splitter=random, min_samples_split=10, min_samples_leaf=3, max_features=log2, max_depth=2, criterion=entropy, score=0.000, total=   0.6s\n",
      "[Parallel(n_jobs=1)]: Done  34 out of  34 | elapsed:   24.8s remaining:    0.0s\n",
      "[CV] splitter=random, min_samples_split=10, min_samples_leaf=3, max_features=log2, max_depth=2, criterion=entropy \n",
      "[CV]  splitter=random, min_samples_split=10, min_samples_leaf=3, max_features=log2, max_depth=2, criterion=entropy, score=0.000, total=   0.6s\n",
      "[Parallel(n_jobs=1)]: Done  35 out of  35 | elapsed:   25.5s remaining:    0.0s\n",
      "[CV] splitter=best, min_samples_split=5, min_samples_leaf=2, max_features=None, max_depth=50, criterion=entropy \n",
      "[CV]  splitter=best, min_samples_split=5, min_samples_leaf=2, max_features=None, max_depth=50, criterion=entropy, score=0.987, total=  18.8s\n",
      "[Parallel(n_jobs=1)]: Done  36 out of  36 | elapsed:   44.4s remaining:    0.0s\n",
      "[CV] splitter=best, min_samples_split=5, min_samples_leaf=2, max_features=None, max_depth=50, criterion=entropy \n",
      "[CV]  splitter=best, min_samples_split=5, min_samples_leaf=2, max_features=None, max_depth=50, criterion=entropy, score=0.993, total=  20.3s\n",
      "[Parallel(n_jobs=1)]: Done  37 out of  37 | elapsed:  1.1min remaining:    0.0s\n",
      "[CV] splitter=best, min_samples_split=5, min_samples_leaf=2, max_features=None, max_depth=50, criterion=entropy \n",
      "[CV]  splitter=best, min_samples_split=5, min_samples_leaf=2, max_features=None, max_depth=50, criterion=entropy, score=0.987, total=  19.7s\n",
      "[Parallel(n_jobs=1)]: Done  38 out of  38 | elapsed:  1.4min remaining:    0.0s\n",
      "[CV] splitter=best, min_samples_split=5, min_samples_leaf=2, max_features=None, max_depth=50, criterion=entropy \n",
      "[CV]  splitter=best, min_samples_split=5, min_samples_leaf=2, max_features=None, max_depth=50, criterion=entropy, score=0.991, total=  18.5s\n",
      "[Parallel(n_jobs=1)]: Done  39 out of  39 | elapsed:  1.7min remaining:    0.0s\n",
      "[CV] splitter=best, min_samples_split=5, min_samples_leaf=2, max_features=None, max_depth=50, criterion=entropy \n",
      "[CV]  splitter=best, min_samples_split=5, min_samples_leaf=2, max_features=None, max_depth=50, criterion=entropy, score=0.994, total=  18.6s\n",
      "[Parallel(n_jobs=1)]: Done  40 out of  40 | elapsed:  2.0min remaining:    0.0s\n",
      "[CV] splitter=random, min_samples_split=2, min_samples_leaf=3, max_features=sqrt, max_depth=10, criterion=entropy \n",
      "[CV]  splitter=random, min_samples_split=2, min_samples_leaf=3, max_features=sqrt, max_depth=10, criterion=entropy, score=0.530, total=   0.7s\n",
      "[Parallel(n_jobs=1)]: Done  41 out of  41 | elapsed:  2.0min remaining:    0.0s\n",
      "[CV] splitter=random, min_samples_split=2, min_samples_leaf=3, max_features=sqrt, max_depth=10, criterion=entropy \n",
      "[CV]  splitter=random, min_samples_split=2, min_samples_leaf=3, max_features=sqrt, max_depth=10, criterion=entropy, score=0.328, total=   0.7s\n",
      "[Parallel(n_jobs=1)]: Done  42 out of  42 | elapsed:  2.1min remaining:    0.0s\n",
      "[CV] splitter=random, min_samples_split=2, min_samples_leaf=3, max_features=sqrt, max_depth=10, criterion=entropy \n",
      "[CV]  splitter=random, min_samples_split=2, min_samples_leaf=3, max_features=sqrt, max_depth=10, criterion=entropy, score=0.425, total=   0.7s\n",
      "[Parallel(n_jobs=1)]: Done  43 out of  43 | elapsed:  2.1min remaining:    0.0s\n",
      "[CV] splitter=random, min_samples_split=2, min_samples_leaf=3, max_features=sqrt, max_depth=10, criterion=entropy \n",
      "[CV]  splitter=random, min_samples_split=2, min_samples_leaf=3, max_features=sqrt, max_depth=10, criterion=entropy, score=0.374, total=   0.7s\n",
      "[Parallel(n_jobs=1)]: Done  44 out of  44 | elapsed:  2.1min remaining:    0.0s\n",
      "[CV] splitter=random, min_samples_split=2, min_samples_leaf=3, max_features=sqrt, max_depth=10, criterion=entropy \n",
      "[CV]  splitter=random, min_samples_split=2, min_samples_leaf=3, max_features=sqrt, max_depth=10, criterion=entropy, score=0.221, total=   0.8s\n",
      "[Parallel(n_jobs=1)]: Done  45 out of  45 | elapsed:  2.1min remaining:    0.0s\n",
      "[CV] splitter=random, min_samples_split=10, min_samples_leaf=10, max_features=auto, max_depth=2, criterion=entropy \n",
      "[CV]  splitter=random, min_samples_split=10, min_samples_leaf=10, max_features=auto, max_depth=2, criterion=entropy, score=0.161, total=   0.6s\n",
      "[Parallel(n_jobs=1)]: Done  46 out of  46 | elapsed:  2.1min remaining:    0.0s\n",
      "[CV] splitter=random, min_samples_split=10, min_samples_leaf=10, max_features=auto, max_depth=2, criterion=entropy \n",
      "[CV]  splitter=random, min_samples_split=10, min_samples_leaf=10, max_features=auto, max_depth=2, criterion=entropy, score=0.072, total=   0.6s\n",
      "[Parallel(n_jobs=1)]: Done  47 out of  47 | elapsed:  2.1min remaining:    0.0s\n",
      "[CV] splitter=random, min_samples_split=10, min_samples_leaf=10, max_features=auto, max_depth=2, criterion=entropy \n",
      "[CV]  splitter=random, min_samples_split=10, min_samples_leaf=10, max_features=auto, max_depth=2, criterion=entropy, score=0.282, total=   0.7s\n",
      "[Parallel(n_jobs=1)]: Done  48 out of  48 | elapsed:  2.1min remaining:    0.0s\n",
      "[CV] splitter=random, min_samples_split=10, min_samples_leaf=10, max_features=auto, max_depth=2, criterion=entropy \n",
      "[CV]  splitter=random, min_samples_split=10, min_samples_leaf=10, max_features=auto, max_depth=2, criterion=entropy, score=0.042, total=   0.7s\n",
      "[Parallel(n_jobs=1)]: Done  49 out of  49 | elapsed:  2.1min remaining:    0.0s\n",
      "[CV] splitter=random, min_samples_split=10, min_samples_leaf=10, max_features=auto, max_depth=2, criterion=entropy \n"
     ]
    },
    {
     "name": "stdout",
     "output_type": "stream",
     "text": [
      "[CV]  splitter=random, min_samples_split=10, min_samples_leaf=10, max_features=auto, max_depth=2, criterion=entropy, score=0.042, total=   0.7s\n",
      "[Parallel(n_jobs=1)]: Done  50 out of  50 | elapsed:  2.2min remaining:    0.0s\n",
      "[Parallel(n_jobs=1)]: Done  50 out of  50 | elapsed:  2.2min finished\n"
     ]
    }
   ],
   "source": [
    "\n",
    "best_dt = RandomizedSearchCV(decision_tree, dt_parameters, n_iter=10, cv=5, random_state=seed, verbose=100, scoring=\"recall\")\n",
    "dt_start = time.time()\n",
    "best_dt.fit(X_train, y_train)\n",
    "dt_end = time.time()\n",
    "dt_time_taken = (dt_end-dt_start)/50"
   ]
  },
  {
   "cell_type": "code",
   "execution_count": 40,
   "metadata": {},
   "outputs": [
    {
     "name": "stdout",
     "output_type": "stream",
     "text": [
      "3.1711742210388185\n"
     ]
    }
   ],
   "source": [
    "print(dt_time_taken)"
   ]
  },
  {
   "cell_type": "code",
   "execution_count": 41,
   "metadata": {},
   "outputs": [],
   "source": [
    "time_taken.append(dt_time_taken)"
   ]
  },
  {
   "cell_type": "code",
   "execution_count": 42,
   "metadata": {},
   "outputs": [
    {
     "data": {
      "text/plain": [
       "{'splitter': 'best',\n",
       " 'min_samples_split': 5,\n",
       " 'min_samples_leaf': 2,\n",
       " 'max_features': None,\n",
       " 'max_depth': 50,\n",
       " 'criterion': 'entropy'}"
      ]
     },
     "execution_count": 42,
     "metadata": {},
     "output_type": "execute_result"
    }
   ],
   "source": [
    "best_dt.best_params_"
   ]
  },
  {
   "cell_type": "raw",
   "metadata": {},
   "source": [
    "dt_y_pred=best_dt.predict(X_val)"
   ]
  },
  {
   "cell_type": "raw",
   "metadata": {},
   "source": [
    "print(classification_report(y_val, dt_y_pred))"
   ]
  },
  {
   "cell_type": "code",
   "execution_count": 43,
   "metadata": {},
   "outputs": [],
   "source": [
    "dt_pickle = \"sqli_dt_pickle.sav\"\n",
    "pickle.dump(best_dt, open(dt_pickle, \"wb\"))"
   ]
  },
  {
   "cell_type": "raw",
   "metadata": {},
   "source": [
    "dt_recall = recall_score(y_val, dt_y_pred)"
   ]
  },
  {
   "cell_type": "code",
   "execution_count": 44,
   "metadata": {},
   "outputs": [],
   "source": [
    "dt_recall = best_dt.best_score_"
   ]
  },
  {
   "cell_type": "code",
   "execution_count": 45,
   "metadata": {},
   "outputs": [
    {
     "data": {
      "text/plain": [
       "0.990418815790368"
      ]
     },
     "execution_count": 45,
     "metadata": {},
     "output_type": "execute_result"
    }
   ],
   "source": [
    "dt_recall"
   ]
  },
  {
   "cell_type": "code",
   "execution_count": 46,
   "metadata": {},
   "outputs": [],
   "source": [
    "train_recall_score.append(dt_recall)"
   ]
  },
  {
   "cell_type": "code",
   "execution_count": 47,
   "metadata": {},
   "outputs": [
    {
     "data": {
      "text/plain": [
       "[0.990418815790368]"
      ]
     },
     "execution_count": 47,
     "metadata": {},
     "output_type": "execute_result"
    }
   ],
   "source": [
    "train_recall_score"
   ]
  },
  {
   "cell_type": "markdown",
   "metadata": {},
   "source": [
    "### Random Forest"
   ]
  },
  {
   "cell_type": "code",
   "execution_count": 48,
   "metadata": {},
   "outputs": [],
   "source": [
    "random_forest = RandomForestClassifier(random_state=seed)"
   ]
  },
  {
   "cell_type": "code",
   "execution_count": 49,
   "metadata": {},
   "outputs": [],
   "source": [
    "rf_parameters = {\"n_estimators\":[10, 50, 100],\n",
    "                 \"max_features\":[\"log2\", \"sqrt\", \"auto\", None],\n",
    "                 \"criterion\":[\"entropy\", \"gini\"],\n",
    "                 \"max_depth\":[2, 3, 5, 10, 50],\n",
    "                 \"min_samples_split\":[2, 3, 5],\n",
    "                 \"min_samples_leaf\":[2, 3, 5]\n",
    "}"
   ]
  },
  {
   "cell_type": "raw",
   "metadata": {},
   "source": [
    "rf_parameters = {\"n_estimators\": [10],\n",
    "                \"max_features\": [\"log2\"]}"
   ]
  },
  {
   "cell_type": "code",
   "execution_count": 50,
   "metadata": {},
   "outputs": [
    {
     "name": "stdout",
     "output_type": "stream",
     "text": [
      "Fitting 5 folds for each of 10 candidates, totalling 50 fits\n",
      "[Parallel(n_jobs=1)]: Using backend SequentialBackend with 1 concurrent workers.\n",
      "[CV] n_estimators=100, min_samples_split=3, min_samples_leaf=5, max_features=log2, max_depth=3, criterion=gini \n",
      "[CV]  n_estimators=100, min_samples_split=3, min_samples_leaf=5, max_features=log2, max_depth=3, criterion=gini, score=0.000, total=   0.9s\n",
      "[Parallel(n_jobs=1)]: Done   1 out of   1 | elapsed:    0.9s remaining:    0.0s\n",
      "[CV] n_estimators=100, min_samples_split=3, min_samples_leaf=5, max_features=log2, max_depth=3, criterion=gini \n",
      "[CV]  n_estimators=100, min_samples_split=3, min_samples_leaf=5, max_features=log2, max_depth=3, criterion=gini, score=0.000, total=   0.9s\n",
      "[Parallel(n_jobs=1)]: Done   2 out of   2 | elapsed:    1.8s remaining:    0.0s\n",
      "[CV] n_estimators=100, min_samples_split=3, min_samples_leaf=5, max_features=log2, max_depth=3, criterion=gini \n",
      "[CV]  n_estimators=100, min_samples_split=3, min_samples_leaf=5, max_features=log2, max_depth=3, criterion=gini, score=0.000, total=   1.0s\n",
      "[Parallel(n_jobs=1)]: Done   3 out of   3 | elapsed:    2.9s remaining:    0.0s\n",
      "[CV] n_estimators=100, min_samples_split=3, min_samples_leaf=5, max_features=log2, max_depth=3, criterion=gini \n",
      "[CV]  n_estimators=100, min_samples_split=3, min_samples_leaf=5, max_features=log2, max_depth=3, criterion=gini, score=0.000, total=   0.9s\n",
      "[Parallel(n_jobs=1)]: Done   4 out of   4 | elapsed:    3.8s remaining:    0.0s\n",
      "[CV] n_estimators=100, min_samples_split=3, min_samples_leaf=5, max_features=log2, max_depth=3, criterion=gini \n",
      "[CV]  n_estimators=100, min_samples_split=3, min_samples_leaf=5, max_features=log2, max_depth=3, criterion=gini, score=0.000, total=   0.9s\n",
      "[Parallel(n_jobs=1)]: Done   5 out of   5 | elapsed:    4.8s remaining:    0.0s\n",
      "[CV] n_estimators=100, min_samples_split=5, min_samples_leaf=2, max_features=None, max_depth=2, criterion=entropy \n",
      "[CV]  n_estimators=100, min_samples_split=5, min_samples_leaf=2, max_features=None, max_depth=2, criterion=entropy, score=0.926, total= 2.4min\n",
      "[Parallel(n_jobs=1)]: Done   6 out of   6 | elapsed:  2.5min remaining:    0.0s\n",
      "[CV] n_estimators=100, min_samples_split=5, min_samples_leaf=2, max_features=None, max_depth=2, criterion=entropy \n",
      "[CV]  n_estimators=100, min_samples_split=5, min_samples_leaf=2, max_features=None, max_depth=2, criterion=entropy, score=0.980, total= 2.4min\n",
      "[Parallel(n_jobs=1)]: Done   7 out of   7 | elapsed:  4.9min remaining:    0.0s\n",
      "[CV] n_estimators=100, min_samples_split=5, min_samples_leaf=2, max_features=None, max_depth=2, criterion=entropy \n",
      "[CV]  n_estimators=100, min_samples_split=5, min_samples_leaf=2, max_features=None, max_depth=2, criterion=entropy, score=0.950, total= 2.4min\n",
      "[Parallel(n_jobs=1)]: Done   8 out of   8 | elapsed:  7.4min remaining:    0.0s\n",
      "[CV] n_estimators=100, min_samples_split=5, min_samples_leaf=2, max_features=None, max_depth=2, criterion=entropy \n",
      "[CV]  n_estimators=100, min_samples_split=5, min_samples_leaf=2, max_features=None, max_depth=2, criterion=entropy, score=0.924, total= 2.4min\n",
      "[Parallel(n_jobs=1)]: Done   9 out of   9 | elapsed:  9.8min remaining:    0.0s\n",
      "[CV] n_estimators=100, min_samples_split=5, min_samples_leaf=2, max_features=None, max_depth=2, criterion=entropy \n",
      "[CV]  n_estimators=100, min_samples_split=5, min_samples_leaf=2, max_features=None, max_depth=2, criterion=entropy, score=0.954, total= 2.4min\n",
      "[Parallel(n_jobs=1)]: Done  10 out of  10 | elapsed: 12.2min remaining:    0.0s\n",
      "[CV] n_estimators=100, min_samples_split=2, min_samples_leaf=3, max_features=None, max_depth=10, criterion=entropy \n",
      "[CV]  n_estimators=100, min_samples_split=2, min_samples_leaf=3, max_features=None, max_depth=10, criterion=entropy, score=0.987, total= 6.1min\n",
      "[Parallel(n_jobs=1)]: Done  11 out of  11 | elapsed: 18.2min remaining:    0.0s\n",
      "[CV] n_estimators=100, min_samples_split=2, min_samples_leaf=3, max_features=None, max_depth=10, criterion=entropy \n",
      "[CV]  n_estimators=100, min_samples_split=2, min_samples_leaf=3, max_features=None, max_depth=10, criterion=entropy, score=0.994, total= 6.1min\n",
      "[Parallel(n_jobs=1)]: Done  12 out of  12 | elapsed: 24.4min remaining:    0.0s\n",
      "[CV] n_estimators=100, min_samples_split=2, min_samples_leaf=3, max_features=None, max_depth=10, criterion=entropy \n",
      "[CV]  n_estimators=100, min_samples_split=2, min_samples_leaf=3, max_features=None, max_depth=10, criterion=entropy, score=0.991, total= 6.1min\n",
      "[Parallel(n_jobs=1)]: Done  13 out of  13 | elapsed: 30.5min remaining:    0.0s\n",
      "[CV] n_estimators=100, min_samples_split=2, min_samples_leaf=3, max_features=None, max_depth=10, criterion=entropy \n",
      "[CV]  n_estimators=100, min_samples_split=2, min_samples_leaf=3, max_features=None, max_depth=10, criterion=entropy, score=0.989, total= 6.1min\n",
      "[Parallel(n_jobs=1)]: Done  14 out of  14 | elapsed: 36.6min remaining:    0.0s\n",
      "[CV] n_estimators=100, min_samples_split=2, min_samples_leaf=3, max_features=None, max_depth=10, criterion=entropy \n",
      "[CV]  n_estimators=100, min_samples_split=2, min_samples_leaf=3, max_features=None, max_depth=10, criterion=entropy, score=0.994, total= 6.1min\n",
      "[Parallel(n_jobs=1)]: Done  15 out of  15 | elapsed: 42.6min remaining:    0.0s\n",
      "[CV] n_estimators=100, min_samples_split=5, min_samples_leaf=3, max_features=auto, max_depth=3, criterion=entropy \n",
      "[CV]  n_estimators=100, min_samples_split=5, min_samples_leaf=3, max_features=auto, max_depth=3, criterion=entropy, score=0.367, total=   3.0s\n",
      "[Parallel(n_jobs=1)]: Done  16 out of  16 | elapsed: 42.7min remaining:    0.0s\n",
      "[CV] n_estimators=100, min_samples_split=5, min_samples_leaf=3, max_features=auto, max_depth=3, criterion=entropy \n",
      "[CV]  n_estimators=100, min_samples_split=5, min_samples_leaf=3, max_features=auto, max_depth=3, criterion=entropy, score=0.366, total=   3.0s\n",
      "[Parallel(n_jobs=1)]: Done  17 out of  17 | elapsed: 42.7min remaining:    0.0s\n",
      "[CV] n_estimators=100, min_samples_split=5, min_samples_leaf=3, max_features=auto, max_depth=3, criterion=entropy \n",
      "[CV]  n_estimators=100, min_samples_split=5, min_samples_leaf=3, max_features=auto, max_depth=3, criterion=entropy, score=0.420, total=   3.0s\n",
      "[Parallel(n_jobs=1)]: Done  18 out of  18 | elapsed: 42.8min remaining:    0.0s\n",
      "[CV] n_estimators=100, min_samples_split=5, min_samples_leaf=3, max_features=auto, max_depth=3, criterion=entropy \n",
      "[CV]  n_estimators=100, min_samples_split=5, min_samples_leaf=3, max_features=auto, max_depth=3, criterion=entropy, score=0.383, total=   3.0s\n",
      "[Parallel(n_jobs=1)]: Done  19 out of  19 | elapsed: 42.8min remaining:    0.0s\n",
      "[CV] n_estimators=100, min_samples_split=5, min_samples_leaf=3, max_features=auto, max_depth=3, criterion=entropy \n",
      "[CV]  n_estimators=100, min_samples_split=5, min_samples_leaf=3, max_features=auto, max_depth=3, criterion=entropy, score=0.379, total=   3.0s\n",
      "[Parallel(n_jobs=1)]: Done  20 out of  20 | elapsed: 42.9min remaining:    0.0s\n",
      "[CV] n_estimators=10, min_samples_split=3, min_samples_leaf=2, max_features=sqrt, max_depth=3, criterion=gini \n",
      "[CV]  n_estimators=10, min_samples_split=3, min_samples_leaf=2, max_features=sqrt, max_depth=3, criterion=gini, score=0.351, total=   0.8s\n",
      "[Parallel(n_jobs=1)]: Done  21 out of  21 | elapsed: 42.9min remaining:    0.0s\n",
      "[CV] n_estimators=10, min_samples_split=3, min_samples_leaf=2, max_features=sqrt, max_depth=3, criterion=gini \n",
      "[CV]  n_estimators=10, min_samples_split=3, min_samples_leaf=2, max_features=sqrt, max_depth=3, criterion=gini, score=0.298, total=   0.9s\n",
      "[Parallel(n_jobs=1)]: Done  22 out of  22 | elapsed: 42.9min remaining:    0.0s\n",
      "[CV] n_estimators=10, min_samples_split=3, min_samples_leaf=2, max_features=sqrt, max_depth=3, criterion=gini \n",
      "[CV]  n_estimators=10, min_samples_split=3, min_samples_leaf=2, max_features=sqrt, max_depth=3, criterion=gini, score=0.359, total=   0.9s\n",
      "[Parallel(n_jobs=1)]: Done  23 out of  23 | elapsed: 42.9min remaining:    0.0s\n",
      "[CV] n_estimators=10, min_samples_split=3, min_samples_leaf=2, max_features=sqrt, max_depth=3, criterion=gini \n",
      "[CV]  n_estimators=10, min_samples_split=3, min_samples_leaf=2, max_features=sqrt, max_depth=3, criterion=gini, score=0.232, total=   0.9s\n",
      "[Parallel(n_jobs=1)]: Done  24 out of  24 | elapsed: 42.9min remaining:    0.0s\n",
      "[CV] n_estimators=10, min_samples_split=3, min_samples_leaf=2, max_features=sqrt, max_depth=3, criterion=gini \n"
     ]
    },
    {
     "name": "stdout",
     "output_type": "stream",
     "text": [
      "[CV]  n_estimators=10, min_samples_split=3, min_samples_leaf=2, max_features=sqrt, max_depth=3, criterion=gini, score=0.685, total=   0.9s\n",
      "[Parallel(n_jobs=1)]: Done  25 out of  25 | elapsed: 43.0min remaining:    0.0s\n",
      "[CV] n_estimators=100, min_samples_split=3, min_samples_leaf=5, max_features=sqrt, max_depth=3, criterion=gini \n",
      "[CV]  n_estimators=100, min_samples_split=3, min_samples_leaf=5, max_features=sqrt, max_depth=3, criterion=gini, score=0.362, total=   2.9s\n",
      "[Parallel(n_jobs=1)]: Done  26 out of  26 | elapsed: 43.0min remaining:    0.0s\n",
      "[CV] n_estimators=100, min_samples_split=3, min_samples_leaf=5, max_features=sqrt, max_depth=3, criterion=gini \n",
      "[CV]  n_estimators=100, min_samples_split=3, min_samples_leaf=5, max_features=sqrt, max_depth=3, criterion=gini, score=0.355, total=   3.0s\n",
      "[Parallel(n_jobs=1)]: Done  27 out of  27 | elapsed: 43.1min remaining:    0.0s\n",
      "[CV] n_estimators=100, min_samples_split=3, min_samples_leaf=5, max_features=sqrt, max_depth=3, criterion=gini \n",
      "[CV]  n_estimators=100, min_samples_split=3, min_samples_leaf=5, max_features=sqrt, max_depth=3, criterion=gini, score=0.424, total=   2.9s\n",
      "[Parallel(n_jobs=1)]: Done  28 out of  28 | elapsed: 43.1min remaining:    0.0s\n",
      "[CV] n_estimators=100, min_samples_split=3, min_samples_leaf=5, max_features=sqrt, max_depth=3, criterion=gini \n",
      "[CV]  n_estimators=100, min_samples_split=3, min_samples_leaf=5, max_features=sqrt, max_depth=3, criterion=gini, score=0.379, total=   3.0s\n",
      "[Parallel(n_jobs=1)]: Done  29 out of  29 | elapsed: 43.2min remaining:    0.0s\n",
      "[CV] n_estimators=100, min_samples_split=3, min_samples_leaf=5, max_features=sqrt, max_depth=3, criterion=gini \n",
      "[CV]  n_estimators=100, min_samples_split=3, min_samples_leaf=5, max_features=sqrt, max_depth=3, criterion=gini, score=0.365, total=   2.9s\n",
      "[Parallel(n_jobs=1)]: Done  30 out of  30 | elapsed: 43.2min remaining:    0.0s\n",
      "[CV] n_estimators=10, min_samples_split=5, min_samples_leaf=3, max_features=log2, max_depth=2, criterion=entropy \n",
      "[CV]  n_estimators=10, min_samples_split=5, min_samples_leaf=3, max_features=log2, max_depth=2, criterion=entropy, score=0.000, total=   0.7s\n",
      "[Parallel(n_jobs=1)]: Done  31 out of  31 | elapsed: 43.2min remaining:    0.0s\n",
      "[CV] n_estimators=10, min_samples_split=5, min_samples_leaf=3, max_features=log2, max_depth=2, criterion=entropy \n",
      "[CV]  n_estimators=10, min_samples_split=5, min_samples_leaf=3, max_features=log2, max_depth=2, criterion=entropy, score=0.000, total=   0.6s\n",
      "[Parallel(n_jobs=1)]: Done  32 out of  32 | elapsed: 43.2min remaining:    0.0s\n",
      "[CV] n_estimators=10, min_samples_split=5, min_samples_leaf=3, max_features=log2, max_depth=2, criterion=entropy \n",
      "[CV]  n_estimators=10, min_samples_split=5, min_samples_leaf=3, max_features=log2, max_depth=2, criterion=entropy, score=0.000, total=   0.7s\n",
      "[Parallel(n_jobs=1)]: Done  33 out of  33 | elapsed: 43.2min remaining:    0.0s\n",
      "[CV] n_estimators=10, min_samples_split=5, min_samples_leaf=3, max_features=log2, max_depth=2, criterion=entropy \n",
      "[CV]  n_estimators=10, min_samples_split=5, min_samples_leaf=3, max_features=log2, max_depth=2, criterion=entropy, score=0.000, total=   0.7s\n",
      "[Parallel(n_jobs=1)]: Done  34 out of  34 | elapsed: 43.3min remaining:    0.0s\n",
      "[CV] n_estimators=10, min_samples_split=5, min_samples_leaf=3, max_features=log2, max_depth=2, criterion=entropy \n",
      "[CV]  n_estimators=10, min_samples_split=5, min_samples_leaf=3, max_features=log2, max_depth=2, criterion=entropy, score=0.000, total=   0.7s\n",
      "[Parallel(n_jobs=1)]: Done  35 out of  35 | elapsed: 43.3min remaining:    0.0s\n",
      "[CV] n_estimators=10, min_samples_split=2, min_samples_leaf=5, max_features=auto, max_depth=2, criterion=gini \n",
      "[CV]  n_estimators=10, min_samples_split=2, min_samples_leaf=5, max_features=auto, max_depth=2, criterion=gini, score=0.153, total=   0.9s\n",
      "[Parallel(n_jobs=1)]: Done  36 out of  36 | elapsed: 43.3min remaining:    0.0s\n",
      "[CV] n_estimators=10, min_samples_split=2, min_samples_leaf=5, max_features=auto, max_depth=2, criterion=gini \n",
      "[CV]  n_estimators=10, min_samples_split=2, min_samples_leaf=5, max_features=auto, max_depth=2, criterion=gini, score=0.280, total=   0.9s\n",
      "[Parallel(n_jobs=1)]: Done  37 out of  37 | elapsed: 43.3min remaining:    0.0s\n",
      "[CV] n_estimators=10, min_samples_split=2, min_samples_leaf=5, max_features=auto, max_depth=2, criterion=gini \n",
      "[CV]  n_estimators=10, min_samples_split=2, min_samples_leaf=5, max_features=auto, max_depth=2, criterion=gini, score=0.256, total=   0.9s\n",
      "[Parallel(n_jobs=1)]: Done  38 out of  38 | elapsed: 43.3min remaining:    0.0s\n",
      "[CV] n_estimators=10, min_samples_split=2, min_samples_leaf=5, max_features=auto, max_depth=2, criterion=gini \n",
      "[CV]  n_estimators=10, min_samples_split=2, min_samples_leaf=5, max_features=auto, max_depth=2, criterion=gini, score=0.072, total=   0.8s\n",
      "[Parallel(n_jobs=1)]: Done  39 out of  39 | elapsed: 43.3min remaining:    0.0s\n",
      "[CV] n_estimators=10, min_samples_split=2, min_samples_leaf=5, max_features=auto, max_depth=2, criterion=gini \n",
      "[CV]  n_estimators=10, min_samples_split=2, min_samples_leaf=5, max_features=auto, max_depth=2, criterion=gini, score=0.223, total=   0.8s\n",
      "[Parallel(n_jobs=1)]: Done  40 out of  40 | elapsed: 43.3min remaining:    0.0s\n",
      "[CV] n_estimators=100, min_samples_split=2, min_samples_leaf=5, max_features=None, max_depth=10, criterion=entropy \n",
      "[CV]  n_estimators=100, min_samples_split=2, min_samples_leaf=5, max_features=None, max_depth=10, criterion=entropy, score=0.983, total= 6.0min\n",
      "[Parallel(n_jobs=1)]: Done  41 out of  41 | elapsed: 49.4min remaining:    0.0s\n",
      "[CV] n_estimators=100, min_samples_split=2, min_samples_leaf=5, max_features=None, max_depth=10, criterion=entropy \n",
      "[CV]  n_estimators=100, min_samples_split=2, min_samples_leaf=5, max_features=None, max_depth=10, criterion=entropy, score=0.994, total= 6.1min\n",
      "[Parallel(n_jobs=1)]: Done  42 out of  42 | elapsed: 55.4min remaining:    0.0s\n",
      "[CV] n_estimators=100, min_samples_split=2, min_samples_leaf=5, max_features=None, max_depth=10, criterion=entropy \n",
      "[CV]  n_estimators=100, min_samples_split=2, min_samples_leaf=5, max_features=None, max_depth=10, criterion=entropy, score=0.991, total= 6.1min\n",
      "[Parallel(n_jobs=1)]: Done  43 out of  43 | elapsed: 61.5min remaining:    0.0s\n",
      "[CV] n_estimators=100, min_samples_split=2, min_samples_leaf=5, max_features=None, max_depth=10, criterion=entropy \n",
      "[CV]  n_estimators=100, min_samples_split=2, min_samples_leaf=5, max_features=None, max_depth=10, criterion=entropy, score=0.989, total= 6.0min\n",
      "[Parallel(n_jobs=1)]: Done  44 out of  44 | elapsed: 67.5min remaining:    0.0s\n",
      "[CV] n_estimators=100, min_samples_split=2, min_samples_leaf=5, max_features=None, max_depth=10, criterion=entropy \n",
      "[CV]  n_estimators=100, min_samples_split=2, min_samples_leaf=5, max_features=None, max_depth=10, criterion=entropy, score=0.994, total= 6.0min\n",
      "[Parallel(n_jobs=1)]: Done  45 out of  45 | elapsed: 73.5min remaining:    0.0s\n",
      "[CV] n_estimators=100, min_samples_split=3, min_samples_leaf=3, max_features=None, max_depth=2, criterion=entropy \n",
      "[CV]  n_estimators=100, min_samples_split=3, min_samples_leaf=3, max_features=None, max_depth=2, criterion=entropy, score=0.926, total= 2.4min\n",
      "[Parallel(n_jobs=1)]: Done  46 out of  46 | elapsed: 76.0min remaining:    0.0s\n",
      "[CV] n_estimators=100, min_samples_split=3, min_samples_leaf=3, max_features=None, max_depth=2, criterion=entropy \n",
      "[CV]  n_estimators=100, min_samples_split=3, min_samples_leaf=3, max_features=None, max_depth=2, criterion=entropy, score=0.980, total= 2.4min\n",
      "[Parallel(n_jobs=1)]: Done  47 out of  47 | elapsed: 78.4min remaining:    0.0s\n",
      "[CV] n_estimators=100, min_samples_split=3, min_samples_leaf=3, max_features=None, max_depth=2, criterion=entropy \n",
      "[CV]  n_estimators=100, min_samples_split=3, min_samples_leaf=3, max_features=None, max_depth=2, criterion=entropy, score=0.950, total= 2.4min\n",
      "[Parallel(n_jobs=1)]: Done  48 out of  48 | elapsed: 80.8min remaining:    0.0s\n",
      "[CV] n_estimators=100, min_samples_split=3, min_samples_leaf=3, max_features=None, max_depth=2, criterion=entropy \n",
      "[CV]  n_estimators=100, min_samples_split=3, min_samples_leaf=3, max_features=None, max_depth=2, criterion=entropy, score=0.924, total= 2.4min\n",
      "[Parallel(n_jobs=1)]: Done  49 out of  49 | elapsed: 83.2min remaining:    0.0s\n",
      "[CV] n_estimators=100, min_samples_split=3, min_samples_leaf=3, max_features=None, max_depth=2, criterion=entropy \n"
     ]
    },
    {
     "name": "stdout",
     "output_type": "stream",
     "text": [
      "[CV]  n_estimators=100, min_samples_split=3, min_samples_leaf=3, max_features=None, max_depth=2, criterion=entropy, score=0.954, total= 2.4min\n",
      "[Parallel(n_jobs=1)]: Done  50 out of  50 | elapsed: 85.6min remaining:    0.0s\n",
      "[Parallel(n_jobs=1)]: Done  50 out of  50 | elapsed: 85.6min finished\n"
     ]
    }
   ],
   "source": [
    "best_rf = RandomizedSearchCV(random_forest, rf_parameters, n_iter=10, cv=5, random_state=seed, verbose=100, scoring=\"recall\")\n",
    "rf_start = time.time()\n",
    "best_rf.fit(X_train, y_train)\n",
    "rf_end = time.time()\n",
    "rf_time_taken = (rf_end-rf_start)/50"
   ]
  },
  {
   "cell_type": "code",
   "execution_count": 51,
   "metadata": {},
   "outputs": [
    {
     "name": "stdout",
     "output_type": "stream",
     "text": [
      "113.4709722185135\n"
     ]
    }
   ],
   "source": [
    "print(rf_time_taken)"
   ]
  },
  {
   "cell_type": "code",
   "execution_count": 52,
   "metadata": {},
   "outputs": [],
   "source": [
    "time_taken.append(rf_time_taken)"
   ]
  },
  {
   "cell_type": "code",
   "execution_count": 53,
   "metadata": {},
   "outputs": [
    {
     "data": {
      "text/plain": [
       "{'n_estimators': 100,\n",
       " 'min_samples_split': 2,\n",
       " 'min_samples_leaf': 3,\n",
       " 'max_features': None,\n",
       " 'max_depth': 10,\n",
       " 'criterion': 'entropy'}"
      ]
     },
     "execution_count": 53,
     "metadata": {},
     "output_type": "execute_result"
    }
   ],
   "source": [
    "best_rf.best_params_"
   ]
  },
  {
   "cell_type": "raw",
   "metadata": {},
   "source": [
    "rf_y_pred = best_rf.predict(X_val)"
   ]
  },
  {
   "cell_type": "raw",
   "metadata": {},
   "source": [
    "print(classification_report(y_val, rf_y_pred))"
   ]
  },
  {
   "cell_type": "code",
   "execution_count": 54,
   "metadata": {},
   "outputs": [],
   "source": [
    "rf_pickle = \"sqli_rf_pickle.sav\"\n",
    "pickle.dump(best_rf, open(rf_pickle, \"wb\"))\n"
   ]
  },
  {
   "cell_type": "raw",
   "metadata": {},
   "source": [
    "rf_recall = recall_score(y_val, rf_y_pred)"
   ]
  },
  {
   "cell_type": "code",
   "execution_count": 55,
   "metadata": {},
   "outputs": [],
   "source": [
    "rf_recall = best_rf.best_score_"
   ]
  },
  {
   "cell_type": "code",
   "execution_count": 56,
   "metadata": {},
   "outputs": [],
   "source": [
    "train_recall_score.append(rf_recall)"
   ]
  },
  {
   "cell_type": "code",
   "execution_count": 57,
   "metadata": {},
   "outputs": [
    {
     "data": {
      "text/plain": [
       "[0.990418815790368, 0.9911554640408282]"
      ]
     },
     "execution_count": 57,
     "metadata": {},
     "output_type": "execute_result"
    }
   ],
   "source": [
    "train_recall_score"
   ]
  },
  {
   "cell_type": "markdown",
   "metadata": {},
   "source": [
    "### SVC"
   ]
  },
  {
   "cell_type": "code",
   "execution_count": 58,
   "metadata": {},
   "outputs": [],
   "source": [
    "svc = SVC(random_state=seed)"
   ]
  },
  {
   "cell_type": "code",
   "execution_count": 59,
   "metadata": {},
   "outputs": [],
   "source": [
    "svc_parameters = {\"kernel\": [\"linear\", \"rbf\", \"poly\"],\n",
    "                 \"gamma\": [0.1, 1, 10, 100],\n",
    "                 \"C\": [0.1, 1, 10, 100, 1000],\n",
    "                  \"degree\": [0, 1, 2, 3, 4, 5, 6]\n",
    "}"
   ]
  },
  {
   "cell_type": "raw",
   "metadata": {},
   "source": [
    "svc_parameters = {\"kernel\": [\"linear\"],\n",
    "                 \"C\": [0.1]}"
   ]
  },
  {
   "cell_type": "code",
   "execution_count": 60,
   "metadata": {},
   "outputs": [
    {
     "name": "stdout",
     "output_type": "stream",
     "text": [
      "Fitting 5 folds for each of 10 candidates, totalling 50 fits\n",
      "[Parallel(n_jobs=1)]: Using backend SequentialBackend with 1 concurrent workers.\n",
      "[CV] kernel=linear, gamma=10, degree=5, C=1000 .......................\n",
      "[CV]  kernel=linear, gamma=10, degree=5, C=1000, score=0.982, total= 6.8min\n",
      "[Parallel(n_jobs=1)]: Done   1 out of   1 | elapsed:  6.8min remaining:    0.0s\n",
      "[CV] kernel=linear, gamma=10, degree=5, C=1000 .......................\n",
      "[CV]  kernel=linear, gamma=10, degree=5, C=1000, score=0.994, total= 6.7min\n",
      "[Parallel(n_jobs=1)]: Done   2 out of   2 | elapsed: 13.5min remaining:    0.0s\n",
      "[CV] kernel=linear, gamma=10, degree=5, C=1000 .......................\n",
      "[CV]  kernel=linear, gamma=10, degree=5, C=1000, score=0.985, total= 7.0min\n",
      "[Parallel(n_jobs=1)]: Done   3 out of   3 | elapsed: 20.5min remaining:    0.0s\n",
      "[CV] kernel=linear, gamma=10, degree=5, C=1000 .......................\n",
      "[CV]  kernel=linear, gamma=10, degree=5, C=1000, score=0.991, total= 7.7min\n",
      "[Parallel(n_jobs=1)]: Done   4 out of   4 | elapsed: 28.1min remaining:    0.0s\n",
      "[CV] kernel=linear, gamma=10, degree=5, C=1000 .......................\n",
      "[CV]  kernel=linear, gamma=10, degree=5, C=1000, score=0.989, total= 7.8min\n",
      "[Parallel(n_jobs=1)]: Done   5 out of   5 | elapsed: 35.9min remaining:    0.0s\n",
      "[CV] kernel=poly, gamma=100, degree=1, C=0.1 .........................\n",
      "[CV]  kernel=poly, gamma=100, degree=1, C=0.1, score=0.983, total= 7.4min\n",
      "[Parallel(n_jobs=1)]: Done   6 out of   6 | elapsed: 43.3min remaining:    0.0s\n",
      "[CV] kernel=poly, gamma=100, degree=1, C=0.1 .........................\n",
      "[CV]  kernel=poly, gamma=100, degree=1, C=0.1, score=0.996, total= 6.6min\n",
      "[Parallel(n_jobs=1)]: Done   7 out of   7 | elapsed: 49.9min remaining:    0.0s\n",
      "[CV] kernel=poly, gamma=100, degree=1, C=0.1 .........................\n",
      "[CV]  kernel=poly, gamma=100, degree=1, C=0.1, score=0.989, total= 6.9min\n",
      "[Parallel(n_jobs=1)]: Done   8 out of   8 | elapsed: 56.8min remaining:    0.0s\n",
      "[CV] kernel=poly, gamma=100, degree=1, C=0.1 .........................\n",
      "[CV]  kernel=poly, gamma=100, degree=1, C=0.1, score=0.991, total= 6.6min\n",
      "[Parallel(n_jobs=1)]: Done   9 out of   9 | elapsed: 63.5min remaining:    0.0s\n",
      "[CV] kernel=poly, gamma=100, degree=1, C=0.1 .........................\n",
      "[CV]  kernel=poly, gamma=100, degree=1, C=0.1, score=0.993, total= 7.0min\n",
      "[Parallel(n_jobs=1)]: Done  10 out of  10 | elapsed: 70.4min remaining:    0.0s\n",
      "[CV] kernel=poly, gamma=100, degree=0, C=1000 ........................\n",
      "[CV]  kernel=poly, gamma=100, degree=0, C=1000, score=0.000, total= 9.5min\n",
      "[Parallel(n_jobs=1)]: Done  11 out of  11 | elapsed: 80.0min remaining:    0.0s\n",
      "[CV] kernel=poly, gamma=100, degree=0, C=1000 ........................\n",
      "[CV]  kernel=poly, gamma=100, degree=0, C=1000, score=0.000, total= 9.6min\n",
      "[Parallel(n_jobs=1)]: Done  12 out of  12 | elapsed: 89.5min remaining:    0.0s\n",
      "[CV] kernel=poly, gamma=100, degree=0, C=1000 ........................\n",
      "[CV]  kernel=poly, gamma=100, degree=0, C=1000, score=0.000, total= 9.8min\n",
      "[Parallel(n_jobs=1)]: Done  13 out of  13 | elapsed: 99.3min remaining:    0.0s\n",
      "[CV] kernel=poly, gamma=100, degree=0, C=1000 ........................\n",
      "[CV]  kernel=poly, gamma=100, degree=0, C=1000, score=0.000, total= 9.6min\n",
      "[Parallel(n_jobs=1)]: Done  14 out of  14 | elapsed: 109.0min remaining:    0.0s\n",
      "[CV] kernel=poly, gamma=100, degree=0, C=1000 ........................\n",
      "[CV]  kernel=poly, gamma=100, degree=0, C=1000, score=0.000, total= 9.6min\n",
      "[Parallel(n_jobs=1)]: Done  15 out of  15 | elapsed: 118.6min remaining:    0.0s\n",
      "[CV] kernel=poly, gamma=100, degree=1, C=1 ...........................\n",
      "[CV]  kernel=poly, gamma=100, degree=1, C=1, score=0.982, total= 6.8min\n",
      "[Parallel(n_jobs=1)]: Done  16 out of  16 | elapsed: 125.5min remaining:    0.0s\n",
      "[CV] kernel=poly, gamma=100, degree=1, C=1 ...........................\n",
      "[CV]  kernel=poly, gamma=100, degree=1, C=1, score=0.994, total= 6.7min\n",
      "[Parallel(n_jobs=1)]: Done  17 out of  17 | elapsed: 132.2min remaining:    0.0s\n",
      "[CV] kernel=poly, gamma=100, degree=1, C=1 ...........................\n",
      "[CV]  kernel=poly, gamma=100, degree=1, C=1, score=0.985, total= 6.7min\n",
      "[Parallel(n_jobs=1)]: Done  18 out of  18 | elapsed: 138.9min remaining:    0.0s\n",
      "[CV] kernel=poly, gamma=100, degree=1, C=1 ...........................\n",
      "[CV]  kernel=poly, gamma=100, degree=1, C=1, score=0.991, total= 6.6min\n",
      "[Parallel(n_jobs=1)]: Done  19 out of  19 | elapsed: 145.5min remaining:    0.0s\n",
      "[CV] kernel=poly, gamma=100, degree=1, C=1 ...........................\n",
      "[CV]  kernel=poly, gamma=100, degree=1, C=1, score=0.989, total= 6.8min\n",
      "[Parallel(n_jobs=1)]: Done  20 out of  20 | elapsed: 152.3min remaining:    0.0s\n",
      "[CV] kernel=rbf, gamma=10, degree=2, C=0.1 ...........................\n",
      "[CV]  kernel=rbf, gamma=10, degree=2, C=0.1, score=0.000, total=13.4min\n",
      "[Parallel(n_jobs=1)]: Done  21 out of  21 | elapsed: 165.7min remaining:    0.0s\n",
      "[CV] kernel=rbf, gamma=10, degree=2, C=0.1 ...........................\n",
      "[CV]  kernel=rbf, gamma=10, degree=2, C=0.1, score=0.000, total=13.4min\n",
      "[Parallel(n_jobs=1)]: Done  22 out of  22 | elapsed: 179.1min remaining:    0.0s\n",
      "[CV] kernel=rbf, gamma=10, degree=2, C=0.1 ...........................\n",
      "[CV]  kernel=rbf, gamma=10, degree=2, C=0.1, score=0.000, total=13.3min\n",
      "[Parallel(n_jobs=1)]: Done  23 out of  23 | elapsed: 192.4min remaining:    0.0s\n",
      "[CV] kernel=rbf, gamma=10, degree=2, C=0.1 ...........................\n",
      "[CV]  kernel=rbf, gamma=10, degree=2, C=0.1, score=0.000, total=13.4min\n",
      "[Parallel(n_jobs=1)]: Done  24 out of  24 | elapsed: 205.8min remaining:    0.0s\n",
      "[CV] kernel=rbf, gamma=10, degree=2, C=0.1 ...........................\n",
      "[CV]  kernel=rbf, gamma=10, degree=2, C=0.1, score=0.000, total=13.4min\n",
      "[Parallel(n_jobs=1)]: Done  25 out of  25 | elapsed: 219.2min remaining:    0.0s\n",
      "[CV] kernel=rbf, gamma=10, degree=1, C=1000 ..........................\n",
      "[CV]  kernel=rbf, gamma=10, degree=1, C=1000, score=0.000, total=14.1min\n",
      "[Parallel(n_jobs=1)]: Done  26 out of  26 | elapsed: 233.3min remaining:    0.0s\n",
      "[CV] kernel=rbf, gamma=10, degree=1, C=1000 ..........................\n",
      "[CV]  kernel=rbf, gamma=10, degree=1, C=1000, score=0.000, total=14.1min\n",
      "[Parallel(n_jobs=1)]: Done  27 out of  27 | elapsed: 247.4min remaining:    0.0s\n",
      "[CV] kernel=rbf, gamma=10, degree=1, C=1000 ..........................\n",
      "[CV]  kernel=rbf, gamma=10, degree=1, C=1000, score=0.006, total=14.1min\n",
      "[Parallel(n_jobs=1)]: Done  28 out of  28 | elapsed: 261.5min remaining:    0.0s\n",
      "[CV] kernel=rbf, gamma=10, degree=1, C=1000 ..........................\n",
      "[CV]  kernel=rbf, gamma=10, degree=1, C=1000, score=0.007, total=14.1min\n",
      "[Parallel(n_jobs=1)]: Done  29 out of  29 | elapsed: 275.6min remaining:    0.0s\n",
      "[CV] kernel=rbf, gamma=10, degree=1, C=1000 ..........................\n",
      "[CV]  kernel=rbf, gamma=10, degree=1, C=1000, score=0.002, total=14.1min\n",
      "[Parallel(n_jobs=1)]: Done  30 out of  30 | elapsed: 289.7min remaining:    0.0s\n",
      "[CV] kernel=rbf, gamma=10, degree=4, C=10 ............................\n",
      "[CV]  kernel=rbf, gamma=10, degree=4, C=10, score=0.000, total=14.2min\n",
      "[Parallel(n_jobs=1)]: Done  31 out of  31 | elapsed: 303.9min remaining:    0.0s\n",
      "[CV] kernel=rbf, gamma=10, degree=4, C=10 ............................\n",
      "[CV]  kernel=rbf, gamma=10, degree=4, C=10, score=0.000, total=14.1min\n",
      "[Parallel(n_jobs=1)]: Done  32 out of  32 | elapsed: 318.0min remaining:    0.0s\n",
      "[CV] kernel=rbf, gamma=10, degree=4, C=10 ............................\n",
      "[CV]  kernel=rbf, gamma=10, degree=4, C=10, score=0.006, total=14.2min\n",
      "[Parallel(n_jobs=1)]: Done  33 out of  33 | elapsed: 332.2min remaining:    0.0s\n",
      "[CV] kernel=rbf, gamma=10, degree=4, C=10 ............................\n",
      "[CV]  kernel=rbf, gamma=10, degree=4, C=10, score=0.007, total=14.2min\n",
      "[Parallel(n_jobs=1)]: Done  34 out of  34 | elapsed: 346.4min remaining:    0.0s\n",
      "[CV] kernel=rbf, gamma=10, degree=4, C=10 ............................\n",
      "[CV]  kernel=rbf, gamma=10, degree=4, C=10, score=0.002, total=14.2min\n",
      "[Parallel(n_jobs=1)]: Done  35 out of  35 | elapsed: 360.7min remaining:    0.0s\n",
      "[CV] kernel=poly, gamma=1, degree=0, C=10 ............................\n",
      "[CV]  kernel=poly, gamma=1, degree=0, C=10, score=0.000, total= 9.6min\n",
      "[Parallel(n_jobs=1)]: Done  36 out of  36 | elapsed: 370.3min remaining:    0.0s\n",
      "[CV] kernel=poly, gamma=1, degree=0, C=10 ............................\n"
     ]
    },
    {
     "name": "stdout",
     "output_type": "stream",
     "text": [
      "[CV]  kernel=poly, gamma=1, degree=0, C=10, score=0.000, total= 9.6min\n",
      "[Parallel(n_jobs=1)]: Done  37 out of  37 | elapsed: 379.9min remaining:    0.0s\n",
      "[CV] kernel=poly, gamma=1, degree=0, C=10 ............................\n",
      "[CV]  kernel=poly, gamma=1, degree=0, C=10, score=0.000, total=10.7min\n",
      "[Parallel(n_jobs=1)]: Done  38 out of  38 | elapsed: 390.6min remaining:    0.0s\n",
      "[CV] kernel=poly, gamma=1, degree=0, C=10 ............................\n",
      "[CV]  kernel=poly, gamma=1, degree=0, C=10, score=0.000, total=11.3min\n",
      "[Parallel(n_jobs=1)]: Done  39 out of  39 | elapsed: 401.9min remaining:    0.0s\n",
      "[CV] kernel=poly, gamma=1, degree=0, C=10 ............................\n",
      "[CV]  kernel=poly, gamma=1, degree=0, C=10, score=0.000, total=11.3min\n",
      "[Parallel(n_jobs=1)]: Done  40 out of  40 | elapsed: 413.2min remaining:    0.0s\n",
      "[CV] kernel=rbf, gamma=100, degree=4, C=0.1 ..........................\n",
      "[CV]  kernel=rbf, gamma=100, degree=4, C=0.1, score=0.000, total=16.0min\n",
      "[Parallel(n_jobs=1)]: Done  41 out of  41 | elapsed: 429.2min remaining:    0.0s\n",
      "[CV] kernel=rbf, gamma=100, degree=4, C=0.1 ..........................\n",
      "[CV]  kernel=rbf, gamma=100, degree=4, C=0.1, score=0.000, total=14.1min\n",
      "[Parallel(n_jobs=1)]: Done  42 out of  42 | elapsed: 443.3min remaining:    0.0s\n",
      "[CV] kernel=rbf, gamma=100, degree=4, C=0.1 ..........................\n",
      "[CV]  kernel=rbf, gamma=100, degree=4, C=0.1, score=0.000, total=13.5min\n",
      "[Parallel(n_jobs=1)]: Done  43 out of  43 | elapsed: 456.9min remaining:    0.0s\n",
      "[CV] kernel=rbf, gamma=100, degree=4, C=0.1 ..........................\n",
      "[CV]  kernel=rbf, gamma=100, degree=4, C=0.1, score=0.000, total=13.5min\n",
      "[Parallel(n_jobs=1)]: Done  44 out of  44 | elapsed: 470.4min remaining:    0.0s\n",
      "[CV] kernel=rbf, gamma=100, degree=4, C=0.1 ..........................\n",
      "[CV]  kernel=rbf, gamma=100, degree=4, C=0.1, score=0.000, total=13.5min\n",
      "[Parallel(n_jobs=1)]: Done  45 out of  45 | elapsed: 483.9min remaining:    0.0s\n",
      "[CV] kernel=poly, gamma=100, degree=4, C=10 ..........................\n",
      "[CV]  kernel=poly, gamma=100, degree=4, C=10, score=0.943, total= 9.3min\n",
      "[Parallel(n_jobs=1)]: Done  46 out of  46 | elapsed: 493.2min remaining:    0.0s\n",
      "[CV] kernel=poly, gamma=100, degree=4, C=10 ..........................\n",
      "[CV]  kernel=poly, gamma=100, degree=4, C=10, score=0.971, total= 9.5min\n",
      "[Parallel(n_jobs=1)]: Done  47 out of  47 | elapsed: 502.7min remaining:    0.0s\n",
      "[CV] kernel=poly, gamma=100, degree=4, C=10 ..........................\n",
      "[CV]  kernel=poly, gamma=100, degree=4, C=10, score=0.971, total=14.4min\n",
      "[Parallel(n_jobs=1)]: Done  48 out of  48 | elapsed: 517.1min remaining:    0.0s\n",
      "[CV] kernel=poly, gamma=100, degree=4, C=10 ..........................\n",
      "[CV]  kernel=poly, gamma=100, degree=4, C=10, score=0.976, total= 9.4min\n",
      "[Parallel(n_jobs=1)]: Done  49 out of  49 | elapsed: 526.5min remaining:    0.0s\n",
      "[CV] kernel=poly, gamma=100, degree=4, C=10 ..........................\n",
      "[CV]  kernel=poly, gamma=100, degree=4, C=10, score=0.969, total=13.0min\n",
      "[Parallel(n_jobs=1)]: Done  50 out of  50 | elapsed: 539.6min remaining:    0.0s\n",
      "[Parallel(n_jobs=1)]: Done  50 out of  50 | elapsed: 539.6min finished\n"
     ]
    }
   ],
   "source": [
    "best_svc = RandomizedSearchCV(svc, svc_parameters, n_iter=10, cv=5, random_state=seed, verbose=100, scoring=\"recall\")\n",
    "svc_start = time.time()\n",
    "best_svc.fit(X_train, y_train)\n",
    "svc_end = time.time()\n",
    "svc_time_taken = (svc_end-svc_start)/50"
   ]
  },
  {
   "cell_type": "code",
   "execution_count": 61,
   "metadata": {},
   "outputs": [
    {
     "name": "stdout",
     "output_type": "stream",
     "text": [
      "657.6228152370453\n"
     ]
    }
   ],
   "source": [
    "print(svc_time_taken)"
   ]
  },
  {
   "cell_type": "code",
   "execution_count": 62,
   "metadata": {},
   "outputs": [],
   "source": [
    "time_taken.append(svc_time_taken)"
   ]
  },
  {
   "cell_type": "code",
   "execution_count": 63,
   "metadata": {},
   "outputs": [],
   "source": [
    "svc_pickle = \"sqli_svc_pickle.sav\"\n",
    "pickle.dump(best_svc, open(svc_pickle, \"wb\"))\n"
   ]
  },
  {
   "cell_type": "code",
   "execution_count": 64,
   "metadata": {},
   "outputs": [
    {
     "data": {
      "text/plain": [
       "{'kernel': 'poly', 'gamma': 100, 'degree': 1, 'C': 0.1}"
      ]
     },
     "execution_count": 64,
     "metadata": {},
     "output_type": "execute_result"
    }
   ],
   "source": [
    "best_svc.best_params_"
   ]
  },
  {
   "cell_type": "raw",
   "metadata": {},
   "source": [
    "svc_y_pred = best_svc.predict(X_val)"
   ]
  },
  {
   "cell_type": "raw",
   "metadata": {},
   "source": [
    "print(classification_report(y_val, svc_y_pred))"
   ]
  },
  {
   "cell_type": "raw",
   "metadata": {},
   "source": [
    "svc_recall = recall_score(y_val, svc_y_pred)"
   ]
  },
  {
   "cell_type": "code",
   "execution_count": 65,
   "metadata": {},
   "outputs": [],
   "source": [
    "svc_recall = best_svc.best_score_"
   ]
  },
  {
   "cell_type": "code",
   "execution_count": 66,
   "metadata": {},
   "outputs": [],
   "source": [
    "train_recall_score.append(svc_recall)"
   ]
  },
  {
   "cell_type": "code",
   "execution_count": 67,
   "metadata": {},
   "outputs": [
    {
     "data": {
      "text/plain": [
       "[0.990418815790368, 0.9911554640408282, 0.9904174566607544]"
      ]
     },
     "execution_count": 67,
     "metadata": {},
     "output_type": "execute_result"
    }
   ],
   "source": [
    "train_recall_score"
   ]
  },
  {
   "cell_type": "markdown",
   "metadata": {},
   "source": [
    "## Logistic REgression"
   ]
  },
  {
   "cell_type": "code",
   "execution_count": 68,
   "metadata": {},
   "outputs": [],
   "source": [
    "lr = LogisticRegression(random_state=seed)"
   ]
  },
  {
   "cell_type": "code",
   "execution_count": 69,
   "metadata": {},
   "outputs": [],
   "source": [
    "lr_parameters = {\n",
    "     'penalty' : [\"l2\", None],\n",
    "    'C' : [0.1, 1.0, 10, 100],\n",
    "    \"solver\": [\"newton-cg\", \"lbfgs\", \"liblinear\", \"sag\", \"saga\"],\n",
    "    \"max_iter\":[5, 10, 25, 50, 75, 100],\n",
    "    \"multi_class\": [\"auto\", \"ovr\", \"multinomial\"]\n",
    "}"
   ]
  },
  {
   "cell_type": "raw",
   "metadata": {},
   "source": [
    "lr_parameters = {\"C\": [0.1],\n",
    "                \"solver\": [\"lbfgs\"]}"
   ]
  },
  {
   "cell_type": "code",
   "execution_count": 70,
   "metadata": {},
   "outputs": [
    {
     "name": "stdout",
     "output_type": "stream",
     "text": [
      "Fitting 5 folds for each of 10 candidates, totalling 50 fits\n",
      "[Parallel(n_jobs=1)]: Using backend SequentialBackend with 1 concurrent workers.\n",
      "[CV] solver=liblinear, penalty=l2, multi_class=multinomial, max_iter=10, C=0.1 \n",
      "[CV]  solver=liblinear, penalty=l2, multi_class=multinomial, max_iter=10, C=0.1, score=nan, total=   0.8s\n",
      "[Parallel(n_jobs=1)]: Done   1 out of   1 | elapsed:    0.9s remaining:    0.0s\n",
      "[CV] solver=liblinear, penalty=l2, multi_class=multinomial, max_iter=10, C=0.1 \n",
      "[CV]  solver=liblinear, penalty=l2, multi_class=multinomial, max_iter=10, C=0.1, score=nan, total=   0.6s\n",
      "[Parallel(n_jobs=1)]: Done   2 out of   2 | elapsed:    1.6s remaining:    0.0s\n",
      "[CV] solver=liblinear, penalty=l2, multi_class=multinomial, max_iter=10, C=0.1 \n",
      "[CV]  solver=liblinear, penalty=l2, multi_class=multinomial, max_iter=10, C=0.1, score=nan, total=   0.6s\n",
      "[Parallel(n_jobs=1)]: Done   3 out of   3 | elapsed:    2.3s remaining:    0.0s\n",
      "[CV] solver=liblinear, penalty=l2, multi_class=multinomial, max_iter=10, C=0.1 \n",
      "[CV]  solver=liblinear, penalty=l2, multi_class=multinomial, max_iter=10, C=0.1, score=nan, total=   0.7s\n",
      "[Parallel(n_jobs=1)]: Done   4 out of   4 | elapsed:    3.1s remaining:    0.0s\n",
      "[CV] solver=liblinear, penalty=l2, multi_class=multinomial, max_iter=10, C=0.1 \n",
      "[CV]  solver=liblinear, penalty=l2, multi_class=multinomial, max_iter=10, C=0.1, score=nan, total=   0.6s\n",
      "[Parallel(n_jobs=1)]: Done   5 out of   5 | elapsed:    3.8s remaining:    0.0s\n",
      "[CV] solver=saga, penalty=None, multi_class=auto, max_iter=100, C=10 .\n",
      "[CV]  solver=saga, penalty=None, multi_class=auto, max_iter=100, C=10, score=nan, total=   0.3s\n",
      "[Parallel(n_jobs=1)]: Done   6 out of   6 | elapsed:    4.1s remaining:    0.0s\n",
      "[CV] solver=saga, penalty=None, multi_class=auto, max_iter=100, C=10 .\n",
      "[CV]  solver=saga, penalty=None, multi_class=auto, max_iter=100, C=10, score=nan, total=   0.2s\n",
      "[Parallel(n_jobs=1)]: Done   7 out of   7 | elapsed:    4.4s remaining:    0.0s\n",
      "[CV] solver=saga, penalty=None, multi_class=auto, max_iter=100, C=10 .\n",
      "[CV]  solver=saga, penalty=None, multi_class=auto, max_iter=100, C=10, score=nan, total=   0.2s\n",
      "[Parallel(n_jobs=1)]: Done   8 out of   8 | elapsed:    4.7s remaining:    0.0s\n",
      "[CV] solver=saga, penalty=None, multi_class=auto, max_iter=100, C=10 .\n",
      "[CV]  solver=saga, penalty=None, multi_class=auto, max_iter=100, C=10, score=nan, total=   0.2s\n",
      "[Parallel(n_jobs=1)]: Done   9 out of   9 | elapsed:    5.0s remaining:    0.0s\n",
      "[CV] solver=saga, penalty=None, multi_class=auto, max_iter=100, C=10 .\n",
      "[CV]  solver=saga, penalty=None, multi_class=auto, max_iter=100, C=10, score=nan, total=   0.2s\n",
      "[Parallel(n_jobs=1)]: Done  10 out of  10 | elapsed:    5.3s remaining:    0.0s\n",
      "[CV] solver=newton-cg, penalty=l2, multi_class=multinomial, max_iter=50, C=0.1 \n",
      "[CV]  solver=newton-cg, penalty=l2, multi_class=multinomial, max_iter=50, C=0.1, score=0.972, total=  15.2s\n",
      "[Parallel(n_jobs=1)]: Done  11 out of  11 | elapsed:   20.6s remaining:    0.0s\n",
      "[CV] solver=newton-cg, penalty=l2, multi_class=multinomial, max_iter=50, C=0.1 \n",
      "[CV]  solver=newton-cg, penalty=l2, multi_class=multinomial, max_iter=50, C=0.1, score=0.989, total=  16.0s\n",
      "[Parallel(n_jobs=1)]: Done  12 out of  12 | elapsed:   36.6s remaining:    0.0s\n",
      "[CV] solver=newton-cg, penalty=l2, multi_class=multinomial, max_iter=50, C=0.1 \n",
      "[CV]  solver=newton-cg, penalty=l2, multi_class=multinomial, max_iter=50, C=0.1, score=0.985, total=  15.3s\n",
      "[Parallel(n_jobs=1)]: Done  13 out of  13 | elapsed:   52.0s remaining:    0.0s\n",
      "[CV] solver=newton-cg, penalty=l2, multi_class=multinomial, max_iter=50, C=0.1 \n",
      "[CV]  solver=newton-cg, penalty=l2, multi_class=multinomial, max_iter=50, C=0.1, score=0.980, total=  14.5s\n",
      "[Parallel(n_jobs=1)]: Done  14 out of  14 | elapsed:  1.1min remaining:    0.0s\n",
      "[CV] solver=newton-cg, penalty=l2, multi_class=multinomial, max_iter=50, C=0.1 \n",
      "[CV]  solver=newton-cg, penalty=l2, multi_class=multinomial, max_iter=50, C=0.1, score=0.985, total=  14.6s\n",
      "[Parallel(n_jobs=1)]: Done  15 out of  15 | elapsed:  1.4min remaining:    0.0s\n",
      "[CV] solver=saga, penalty=l2, multi_class=auto, max_iter=100, C=10 ...\n",
      "[CV]  solver=saga, penalty=l2, multi_class=auto, max_iter=100, C=10, score=0.974, total= 1.3min\n",
      "[Parallel(n_jobs=1)]: Done  16 out of  16 | elapsed:  2.7min remaining:    0.0s\n",
      "[CV] solver=saga, penalty=l2, multi_class=auto, max_iter=100, C=10 ...\n",
      "[CV]  solver=saga, penalty=l2, multi_class=auto, max_iter=100, C=10, score=0.989, total= 1.3min\n",
      "[Parallel(n_jobs=1)]: Done  17 out of  17 | elapsed:  4.0min remaining:    0.0s\n",
      "[CV] solver=saga, penalty=l2, multi_class=auto, max_iter=100, C=10 ...\n",
      "[CV]  solver=saga, penalty=l2, multi_class=auto, max_iter=100, C=10, score=0.985, total= 1.3min\n",
      "[Parallel(n_jobs=1)]: Done  18 out of  18 | elapsed:  5.3min remaining:    0.0s\n",
      "[CV] solver=saga, penalty=l2, multi_class=auto, max_iter=100, C=10 ...\n",
      "[CV]  solver=saga, penalty=l2, multi_class=auto, max_iter=100, C=10, score=0.983, total= 1.4min\n",
      "[Parallel(n_jobs=1)]: Done  19 out of  19 | elapsed:  6.8min remaining:    0.0s\n",
      "[CV] solver=saga, penalty=l2, multi_class=auto, max_iter=100, C=10 ...\n",
      "[CV]  solver=saga, penalty=l2, multi_class=auto, max_iter=100, C=10, score=0.989, total= 1.5min\n",
      "[Parallel(n_jobs=1)]: Done  20 out of  20 | elapsed:  8.2min remaining:    0.0s\n",
      "[CV] solver=lbfgs, penalty=None, multi_class=auto, max_iter=50, C=1.0 \n",
      "[CV]  solver=lbfgs, penalty=None, multi_class=auto, max_iter=50, C=1.0, score=nan, total=   0.3s\n",
      "[Parallel(n_jobs=1)]: Done  21 out of  21 | elapsed:  8.2min remaining:    0.0s\n",
      "[CV] solver=lbfgs, penalty=None, multi_class=auto, max_iter=50, C=1.0 \n",
      "[CV]  solver=lbfgs, penalty=None, multi_class=auto, max_iter=50, C=1.0, score=nan, total=   0.3s\n",
      "[Parallel(n_jobs=1)]: Done  22 out of  22 | elapsed:  8.2min remaining:    0.0s\n",
      "[CV] solver=lbfgs, penalty=None, multi_class=auto, max_iter=50, C=1.0 \n",
      "[CV]  solver=lbfgs, penalty=None, multi_class=auto, max_iter=50, C=1.0, score=nan, total=   0.3s\n",
      "[Parallel(n_jobs=1)]: Done  23 out of  23 | elapsed:  8.2min remaining:    0.0s\n",
      "[CV] solver=lbfgs, penalty=None, multi_class=auto, max_iter=50, C=1.0 \n",
      "[CV]  solver=lbfgs, penalty=None, multi_class=auto, max_iter=50, C=1.0, score=nan, total=   0.2s\n",
      "[Parallel(n_jobs=1)]: Done  24 out of  24 | elapsed:  8.2min remaining:    0.0s\n",
      "[CV] solver=lbfgs, penalty=None, multi_class=auto, max_iter=50, C=1.0 \n",
      "[CV]  solver=lbfgs, penalty=None, multi_class=auto, max_iter=50, C=1.0, score=nan, total=   0.2s\n",
      "[Parallel(n_jobs=1)]: Done  25 out of  25 | elapsed:  8.2min remaining:    0.0s\n",
      "[CV] solver=saga, penalty=l2, multi_class=auto, max_iter=50, C=10 ....\n",
      "[CV]  solver=saga, penalty=l2, multi_class=auto, max_iter=50, C=10, score=0.970, total=  43.2s\n",
      "[Parallel(n_jobs=1)]: Done  26 out of  26 | elapsed:  9.0min remaining:    0.0s\n",
      "[CV] solver=saga, penalty=l2, multi_class=auto, max_iter=50, C=10 ....\n",
      "[CV]  solver=saga, penalty=l2, multi_class=auto, max_iter=50, C=10, score=0.989, total=  45.5s\n",
      "[Parallel(n_jobs=1)]: Done  27 out of  27 | elapsed:  9.7min remaining:    0.0s\n",
      "[CV] solver=saga, penalty=l2, multi_class=auto, max_iter=50, C=10 ....\n",
      "[CV]  solver=saga, penalty=l2, multi_class=auto, max_iter=50, C=10, score=0.983, total=  44.6s\n",
      "[Parallel(n_jobs=1)]: Done  28 out of  28 | elapsed: 10.5min remaining:    0.0s\n",
      "[CV] solver=saga, penalty=l2, multi_class=auto, max_iter=50, C=10 ....\n",
      "[CV]  solver=saga, penalty=l2, multi_class=auto, max_iter=50, C=10, score=0.982, total=  43.5s\n",
      "[Parallel(n_jobs=1)]: Done  29 out of  29 | elapsed: 11.2min remaining:    0.0s\n",
      "[CV] solver=saga, penalty=l2, multi_class=auto, max_iter=50, C=10 ....\n",
      "[CV]  solver=saga, penalty=l2, multi_class=auto, max_iter=50, C=10, score=0.983, total=  45.0s\n",
      "[Parallel(n_jobs=1)]: Done  30 out of  30 | elapsed: 11.9min remaining:    0.0s\n",
      "[CV] solver=newton-cg, penalty=None, multi_class=multinomial, max_iter=100, C=0.1 \n",
      "[CV]  solver=newton-cg, penalty=None, multi_class=multinomial, max_iter=100, C=0.1, score=nan, total=   0.3s\n",
      "[Parallel(n_jobs=1)]: Done  31 out of  31 | elapsed: 12.0min remaining:    0.0s\n",
      "[CV] solver=newton-cg, penalty=None, multi_class=multinomial, max_iter=100, C=0.1 \n",
      "[CV]  solver=newton-cg, penalty=None, multi_class=multinomial, max_iter=100, C=0.1, score=nan, total=   0.3s\n",
      "[Parallel(n_jobs=1)]: Done  32 out of  32 | elapsed: 12.0min remaining:    0.0s\n",
      "[CV] solver=newton-cg, penalty=None, multi_class=multinomial, max_iter=100, C=0.1 \n"
     ]
    },
    {
     "name": "stdout",
     "output_type": "stream",
     "text": [
      "[CV]  solver=newton-cg, penalty=None, multi_class=multinomial, max_iter=100, C=0.1, score=nan, total=   0.2s\n",
      "[Parallel(n_jobs=1)]: Done  33 out of  33 | elapsed: 12.0min remaining:    0.0s\n",
      "[CV] solver=newton-cg, penalty=None, multi_class=multinomial, max_iter=100, C=0.1 \n",
      "[CV]  solver=newton-cg, penalty=None, multi_class=multinomial, max_iter=100, C=0.1, score=nan, total=   0.3s\n",
      "[Parallel(n_jobs=1)]: Done  34 out of  34 | elapsed: 12.0min remaining:    0.0s\n",
      "[CV] solver=newton-cg, penalty=None, multi_class=multinomial, max_iter=100, C=0.1 \n",
      "[CV]  solver=newton-cg, penalty=None, multi_class=multinomial, max_iter=100, C=0.1, score=nan, total=   0.2s\n",
      "[Parallel(n_jobs=1)]: Done  35 out of  35 | elapsed: 12.0min remaining:    0.0s\n",
      "[CV] solver=liblinear, penalty=l2, multi_class=multinomial, max_iter=10, C=1.0 \n",
      "[CV]  solver=liblinear, penalty=l2, multi_class=multinomial, max_iter=10, C=1.0, score=nan, total=   0.6s\n",
      "[Parallel(n_jobs=1)]: Done  36 out of  36 | elapsed: 12.0min remaining:    0.0s\n",
      "[CV] solver=liblinear, penalty=l2, multi_class=multinomial, max_iter=10, C=1.0 \n",
      "[CV]  solver=liblinear, penalty=l2, multi_class=multinomial, max_iter=10, C=1.0, score=nan, total=   0.7s\n",
      "[Parallel(n_jobs=1)]: Done  37 out of  37 | elapsed: 12.0min remaining:    0.0s\n",
      "[CV] solver=liblinear, penalty=l2, multi_class=multinomial, max_iter=10, C=1.0 \n",
      "[CV]  solver=liblinear, penalty=l2, multi_class=multinomial, max_iter=10, C=1.0, score=nan, total=   0.7s\n",
      "[Parallel(n_jobs=1)]: Done  38 out of  38 | elapsed: 12.0min remaining:    0.0s\n",
      "[CV] solver=liblinear, penalty=l2, multi_class=multinomial, max_iter=10, C=1.0 \n",
      "[CV]  solver=liblinear, penalty=l2, multi_class=multinomial, max_iter=10, C=1.0, score=nan, total=   0.7s\n",
      "[Parallel(n_jobs=1)]: Done  39 out of  39 | elapsed: 12.0min remaining:    0.0s\n",
      "[CV] solver=liblinear, penalty=l2, multi_class=multinomial, max_iter=10, C=1.0 \n",
      "[CV]  solver=liblinear, penalty=l2, multi_class=multinomial, max_iter=10, C=1.0, score=nan, total=   0.6s\n",
      "[Parallel(n_jobs=1)]: Done  40 out of  40 | elapsed: 12.0min remaining:    0.0s\n",
      "[CV] solver=newton-cg, penalty=None, multi_class=multinomial, max_iter=100, C=100 \n",
      "[CV]  solver=newton-cg, penalty=None, multi_class=multinomial, max_iter=100, C=100, score=nan, total=   0.2s\n",
      "[Parallel(n_jobs=1)]: Done  41 out of  41 | elapsed: 12.0min remaining:    0.0s\n",
      "[CV] solver=newton-cg, penalty=None, multi_class=multinomial, max_iter=100, C=100 \n",
      "[CV]  solver=newton-cg, penalty=None, multi_class=multinomial, max_iter=100, C=100, score=nan, total=   0.3s\n",
      "[Parallel(n_jobs=1)]: Done  42 out of  42 | elapsed: 12.1min remaining:    0.0s\n",
      "[CV] solver=newton-cg, penalty=None, multi_class=multinomial, max_iter=100, C=100 \n",
      "[CV]  solver=newton-cg, penalty=None, multi_class=multinomial, max_iter=100, C=100, score=nan, total=   0.2s\n",
      "[Parallel(n_jobs=1)]: Done  43 out of  43 | elapsed: 12.1min remaining:    0.0s\n",
      "[CV] solver=newton-cg, penalty=None, multi_class=multinomial, max_iter=100, C=100 \n",
      "[CV]  solver=newton-cg, penalty=None, multi_class=multinomial, max_iter=100, C=100, score=nan, total=   0.2s\n",
      "[Parallel(n_jobs=1)]: Done  44 out of  44 | elapsed: 12.1min remaining:    0.0s\n",
      "[CV] solver=newton-cg, penalty=None, multi_class=multinomial, max_iter=100, C=100 \n",
      "[CV]  solver=newton-cg, penalty=None, multi_class=multinomial, max_iter=100, C=100, score=nan, total=   0.3s\n",
      "[Parallel(n_jobs=1)]: Done  45 out of  45 | elapsed: 12.1min remaining:    0.0s\n",
      "[CV] solver=liblinear, penalty=None, multi_class=auto, max_iter=75, C=1.0 \n",
      "[CV]  solver=liblinear, penalty=None, multi_class=auto, max_iter=75, C=1.0, score=nan, total=   0.2s\n",
      "[Parallel(n_jobs=1)]: Done  46 out of  46 | elapsed: 12.1min remaining:    0.0s\n",
      "[CV] solver=liblinear, penalty=None, multi_class=auto, max_iter=75, C=1.0 \n",
      "[CV]  solver=liblinear, penalty=None, multi_class=auto, max_iter=75, C=1.0, score=nan, total=   0.3s\n",
      "[Parallel(n_jobs=1)]: Done  47 out of  47 | elapsed: 12.1min remaining:    0.0s\n",
      "[CV] solver=liblinear, penalty=None, multi_class=auto, max_iter=75, C=1.0 \n",
      "[CV]  solver=liblinear, penalty=None, multi_class=auto, max_iter=75, C=1.0, score=nan, total=   0.3s\n",
      "[Parallel(n_jobs=1)]: Done  48 out of  48 | elapsed: 12.1min remaining:    0.0s\n",
      "[CV] solver=liblinear, penalty=None, multi_class=auto, max_iter=75, C=1.0 \n",
      "[CV]  solver=liblinear, penalty=None, multi_class=auto, max_iter=75, C=1.0, score=nan, total=   0.2s\n",
      "[Parallel(n_jobs=1)]: Done  49 out of  49 | elapsed: 12.1min remaining:    0.0s\n",
      "[CV] solver=liblinear, penalty=None, multi_class=auto, max_iter=75, C=1.0 \n",
      "[CV]  solver=liblinear, penalty=None, multi_class=auto, max_iter=75, C=1.0, score=nan, total=   0.3s\n",
      "[Parallel(n_jobs=1)]: Done  50 out of  50 | elapsed: 12.1min remaining:    0.0s\n",
      "[Parallel(n_jobs=1)]: Done  50 out of  50 | elapsed: 12.1min finished\n"
     ]
    }
   ],
   "source": [
    "best_lr = RandomizedSearchCV(lr, lr_parameters, n_iter=10, cv=5, random_state=seed, verbose=100, scoring=\"recall\")\n",
    "lr_start = time.time()\n",
    "best_lr.fit(X_train, y_train)\n",
    "lr_end = time.time()\n",
    "lr_time_taken = (lr_end-lr_start)/50"
   ]
  },
  {
   "cell_type": "code",
   "execution_count": 71,
   "metadata": {},
   "outputs": [
    {
     "name": "stdout",
     "output_type": "stream",
     "text": [
      "16.69295042037964\n"
     ]
    }
   ],
   "source": [
    "print(lr_time_taken)"
   ]
  },
  {
   "cell_type": "code",
   "execution_count": 72,
   "metadata": {},
   "outputs": [],
   "source": [
    "time_taken.append(lr_time_taken)"
   ]
  },
  {
   "cell_type": "code",
   "execution_count": 73,
   "metadata": {},
   "outputs": [
    {
     "data": {
      "text/plain": [
       "{'solver': 'saga',\n",
       " 'penalty': 'l2',\n",
       " 'multi_class': 'auto',\n",
       " 'max_iter': 100,\n",
       " 'C': 10}"
      ]
     },
     "execution_count": 73,
     "metadata": {},
     "output_type": "execute_result"
    }
   ],
   "source": [
    "best_lr.best_params_"
   ]
  },
  {
   "cell_type": "raw",
   "metadata": {},
   "source": [
    "lr_y_pred = best_lr.predict(X_val)"
   ]
  },
  {
   "cell_type": "raw",
   "metadata": {},
   "source": [
    "print(classification_report(y_val, lr_y_pred))"
   ]
  },
  {
   "cell_type": "code",
   "execution_count": 74,
   "metadata": {},
   "outputs": [],
   "source": [
    "lr_pickle = \"sqli_lr_pickle.sav\"\n",
    "pickle.dump(best_lr, open(lr_pickle, \"wb\"))"
   ]
  },
  {
   "cell_type": "raw",
   "metadata": {},
   "source": [
    "lr_recall = recall_score(y_val, lr_y_pred)"
   ]
  },
  {
   "cell_type": "code",
   "execution_count": 75,
   "metadata": {},
   "outputs": [],
   "source": [
    "lr_recall = best_lr.best_score_"
   ]
  },
  {
   "cell_type": "code",
   "execution_count": 76,
   "metadata": {},
   "outputs": [
    {
     "data": {
      "text/plain": [
       "0.9841525487078074"
      ]
     },
     "execution_count": 76,
     "metadata": {},
     "output_type": "execute_result"
    }
   ],
   "source": [
    "lr_recall"
   ]
  },
  {
   "cell_type": "code",
   "execution_count": 77,
   "metadata": {},
   "outputs": [],
   "source": [
    "train_recall_score.append(lr_recall)"
   ]
  },
  {
   "cell_type": "code",
   "execution_count": 78,
   "metadata": {},
   "outputs": [
    {
     "data": {
      "text/plain": [
       "[0.990418815790368, 0.9911554640408282, 0.9904174566607544, 0.9841525487078074]"
      ]
     },
     "execution_count": 78,
     "metadata": {},
     "output_type": "execute_result"
    }
   ],
   "source": [
    "train_recall_score"
   ]
  },
  {
   "cell_type": "markdown",
   "metadata": {},
   "source": [
    "## KNeighbours"
   ]
  },
  {
   "cell_type": "code",
   "execution_count": 79,
   "metadata": {},
   "outputs": [],
   "source": [
    "knn = KNeighborsClassifier()"
   ]
  },
  {
   "cell_type": "code",
   "execution_count": 80,
   "metadata": {},
   "outputs": [],
   "source": [
    "knn_parameters = {\"n_neighbors\": [1, 5, 10, 25, 50, 75, 100],\n",
    "                  \"weights\": [\"uniform\", \"distance\"],\n",
    "                  \"algorithm\": [\"auto\", \"ball_tree\", \"kd_tree\", \"brute\"],\n",
    "                  \"leaf_size\": [1, 5, 10, 20, 30, 35, 50]\n",
    "    \n",
    "}"
   ]
  },
  {
   "cell_type": "code",
   "execution_count": 81,
   "metadata": {},
   "outputs": [
    {
     "name": "stdout",
     "output_type": "stream",
     "text": [
      "Fitting 5 folds for each of 10 candidates, totalling 50 fits\n",
      "[Parallel(n_jobs=1)]: Using backend SequentialBackend with 1 concurrent workers.\n",
      "[CV] weights=uniform, n_neighbors=100, leaf_size=50, algorithm=ball_tree \n",
      "[CV]  weights=uniform, n_neighbors=100, leaf_size=50, algorithm=ball_tree, score=0.845, total= 3.1min\n",
      "[Parallel(n_jobs=1)]: Done   1 out of   1 | elapsed:  3.1min remaining:    0.0s\n",
      "[CV] weights=uniform, n_neighbors=100, leaf_size=50, algorithm=ball_tree \n",
      "[CV]  weights=uniform, n_neighbors=100, leaf_size=50, algorithm=ball_tree, score=0.832, total= 3.2min\n",
      "[Parallel(n_jobs=1)]: Done   2 out of   2 | elapsed:  6.4min remaining:    0.0s\n",
      "[CV] weights=uniform, n_neighbors=100, leaf_size=50, algorithm=ball_tree \n",
      "[CV]  weights=uniform, n_neighbors=100, leaf_size=50, algorithm=ball_tree, score=0.834, total= 3.2min\n",
      "[Parallel(n_jobs=1)]: Done   3 out of   3 | elapsed:  9.6min remaining:    0.0s\n",
      "[CV] weights=uniform, n_neighbors=100, leaf_size=50, algorithm=ball_tree \n",
      "[CV]  weights=uniform, n_neighbors=100, leaf_size=50, algorithm=ball_tree, score=0.840, total= 3.1min\n",
      "[Parallel(n_jobs=1)]: Done   4 out of   4 | elapsed: 12.7min remaining:    0.0s\n",
      "[CV] weights=uniform, n_neighbors=100, leaf_size=50, algorithm=ball_tree \n",
      "[CV]  weights=uniform, n_neighbors=100, leaf_size=50, algorithm=ball_tree, score=0.864, total= 3.2min\n",
      "[Parallel(n_jobs=1)]: Done   5 out of   5 | elapsed: 16.0min remaining:    0.0s\n",
      "[CV] weights=uniform, n_neighbors=50, leaf_size=30, algorithm=kd_tree \n",
      "[CV]  weights=uniform, n_neighbors=50, leaf_size=30, algorithm=kd_tree, score=0.887, total= 3.2min\n",
      "[Parallel(n_jobs=1)]: Done   6 out of   6 | elapsed: 19.2min remaining:    0.0s\n",
      "[CV] weights=uniform, n_neighbors=50, leaf_size=30, algorithm=kd_tree \n",
      "[CV]  weights=uniform, n_neighbors=50, leaf_size=30, algorithm=kd_tree, score=0.912, total= 3.2min\n",
      "[Parallel(n_jobs=1)]: Done   7 out of   7 | elapsed: 22.5min remaining:    0.0s\n",
      "[CV] weights=uniform, n_neighbors=50, leaf_size=30, algorithm=kd_tree \n",
      "[CV]  weights=uniform, n_neighbors=50, leaf_size=30, algorithm=kd_tree, score=0.886, total= 3.3min\n",
      "[Parallel(n_jobs=1)]: Done   8 out of   8 | elapsed: 25.7min remaining:    0.0s\n",
      "[CV] weights=uniform, n_neighbors=50, leaf_size=30, algorithm=kd_tree \n",
      "[CV]  weights=uniform, n_neighbors=50, leaf_size=30, algorithm=kd_tree, score=0.893, total= 3.3min\n",
      "[Parallel(n_jobs=1)]: Done   9 out of   9 | elapsed: 29.0min remaining:    0.0s\n",
      "[CV] weights=uniform, n_neighbors=50, leaf_size=30, algorithm=kd_tree \n",
      "[CV]  weights=uniform, n_neighbors=50, leaf_size=30, algorithm=kd_tree, score=0.923, total= 3.2min\n",
      "[Parallel(n_jobs=1)]: Done  10 out of  10 | elapsed: 32.2min remaining:    0.0s\n",
      "[CV] weights=uniform, n_neighbors=1, leaf_size=5, algorithm=brute ....\n",
      "[CV]  weights=uniform, n_neighbors=1, leaf_size=5, algorithm=brute, score=0.946, total=   2.8s\n",
      "[Parallel(n_jobs=1)]: Done  11 out of  11 | elapsed: 32.3min remaining:    0.0s\n",
      "[CV] weights=uniform, n_neighbors=1, leaf_size=5, algorithm=brute ....\n",
      "[CV]  weights=uniform, n_neighbors=1, leaf_size=5, algorithm=brute, score=0.950, total=   3.2s\n",
      "[Parallel(n_jobs=1)]: Done  12 out of  12 | elapsed: 32.3min remaining:    0.0s\n",
      "[CV] weights=uniform, n_neighbors=1, leaf_size=5, algorithm=brute ....\n",
      "[CV]  weights=uniform, n_neighbors=1, leaf_size=5, algorithm=brute, score=0.948, total=   2.7s\n",
      "[Parallel(n_jobs=1)]: Done  13 out of  13 | elapsed: 32.4min remaining:    0.0s\n",
      "[CV] weights=uniform, n_neighbors=1, leaf_size=5, algorithm=brute ....\n",
      "[CV]  weights=uniform, n_neighbors=1, leaf_size=5, algorithm=brute, score=0.937, total=   2.8s\n",
      "[Parallel(n_jobs=1)]: Done  14 out of  14 | elapsed: 32.4min remaining:    0.0s\n",
      "[CV] weights=uniform, n_neighbors=1, leaf_size=5, algorithm=brute ....\n",
      "[CV]  weights=uniform, n_neighbors=1, leaf_size=5, algorithm=brute, score=0.954, total=   2.9s\n",
      "[Parallel(n_jobs=1)]: Done  15 out of  15 | elapsed: 32.5min remaining:    0.0s\n",
      "[CV] weights=uniform, n_neighbors=75, leaf_size=35, algorithm=brute ..\n",
      "[CV]  weights=uniform, n_neighbors=75, leaf_size=35, algorithm=brute, score=0.854, total=   2.9s\n",
      "[Parallel(n_jobs=1)]: Done  16 out of  16 | elapsed: 32.5min remaining:    0.0s\n",
      "[CV] weights=uniform, n_neighbors=75, leaf_size=35, algorithm=brute ..\n",
      "[CV]  weights=uniform, n_neighbors=75, leaf_size=35, algorithm=brute, score=0.860, total=   2.9s\n",
      "[Parallel(n_jobs=1)]: Done  17 out of  17 | elapsed: 32.6min remaining:    0.0s\n",
      "[CV] weights=uniform, n_neighbors=75, leaf_size=35, algorithm=brute ..\n",
      "[CV]  weights=uniform, n_neighbors=75, leaf_size=35, algorithm=brute, score=0.853, total=   3.1s\n",
      "[Parallel(n_jobs=1)]: Done  18 out of  18 | elapsed: 32.6min remaining:    0.0s\n",
      "[CV] weights=uniform, n_neighbors=75, leaf_size=35, algorithm=brute ..\n",
      "[CV]  weights=uniform, n_neighbors=75, leaf_size=35, algorithm=brute, score=0.855, total=   3.0s\n",
      "[Parallel(n_jobs=1)]: Done  19 out of  19 | elapsed: 32.7min remaining:    0.0s\n",
      "[CV] weights=uniform, n_neighbors=75, leaf_size=35, algorithm=brute ..\n",
      "[CV]  weights=uniform, n_neighbors=75, leaf_size=35, algorithm=brute, score=0.880, total=   2.9s\n",
      "[Parallel(n_jobs=1)]: Done  20 out of  20 | elapsed: 32.7min remaining:    0.0s\n",
      "[CV] weights=distance, n_neighbors=5, leaf_size=30, algorithm=brute ..\n",
      "[CV]  weights=distance, n_neighbors=5, leaf_size=30, algorithm=brute, score=0.954, total=   3.3s\n",
      "[Parallel(n_jobs=1)]: Done  21 out of  21 | elapsed: 32.8min remaining:    0.0s\n",
      "[CV] weights=distance, n_neighbors=5, leaf_size=30, algorithm=brute ..\n",
      "[CV]  weights=distance, n_neighbors=5, leaf_size=30, algorithm=brute, score=0.959, total=   4.2s\n",
      "[Parallel(n_jobs=1)]: Done  22 out of  22 | elapsed: 32.8min remaining:    0.0s\n",
      "[CV] weights=distance, n_neighbors=5, leaf_size=30, algorithm=brute ..\n",
      "[CV]  weights=distance, n_neighbors=5, leaf_size=30, algorithm=brute, score=0.961, total=   3.3s\n",
      "[Parallel(n_jobs=1)]: Done  23 out of  23 | elapsed: 32.9min remaining:    0.0s\n",
      "[CV] weights=distance, n_neighbors=5, leaf_size=30, algorithm=brute ..\n",
      "[CV]  weights=distance, n_neighbors=5, leaf_size=30, algorithm=brute, score=0.941, total=   2.8s\n",
      "[Parallel(n_jobs=1)]: Done  24 out of  24 | elapsed: 32.9min remaining:    0.0s\n",
      "[CV] weights=distance, n_neighbors=5, leaf_size=30, algorithm=brute ..\n",
      "[CV]  weights=distance, n_neighbors=5, leaf_size=30, algorithm=brute, score=0.950, total=   3.6s\n",
      "[Parallel(n_jobs=1)]: Done  25 out of  25 | elapsed: 33.0min remaining:    0.0s\n",
      "[CV] weights=distance, n_neighbors=1, leaf_size=5, algorithm=kd_tree .\n",
      "[CV]  weights=distance, n_neighbors=1, leaf_size=5, algorithm=kd_tree, score=0.948, total= 5.9min\n",
      "[Parallel(n_jobs=1)]: Done  26 out of  26 | elapsed: 38.9min remaining:    0.0s\n",
      "[CV] weights=distance, n_neighbors=1, leaf_size=5, algorithm=kd_tree .\n",
      "[CV]  weights=distance, n_neighbors=1, leaf_size=5, algorithm=kd_tree, score=0.967, total= 5.8min\n",
      "[Parallel(n_jobs=1)]: Done  27 out of  27 | elapsed: 44.7min remaining:    0.0s\n",
      "[CV] weights=distance, n_neighbors=1, leaf_size=5, algorithm=kd_tree .\n",
      "[CV]  weights=distance, n_neighbors=1, leaf_size=5, algorithm=kd_tree, score=0.954, total= 5.5min\n",
      "[Parallel(n_jobs=1)]: Done  28 out of  28 | elapsed: 50.1min remaining:    0.0s\n",
      "[CV] weights=distance, n_neighbors=1, leaf_size=5, algorithm=kd_tree .\n",
      "[CV]  weights=distance, n_neighbors=1, leaf_size=5, algorithm=kd_tree, score=0.945, total= 5.5min\n",
      "[Parallel(n_jobs=1)]: Done  29 out of  29 | elapsed: 55.6min remaining:    0.0s\n",
      "[CV] weights=distance, n_neighbors=1, leaf_size=5, algorithm=kd_tree .\n",
      "[CV]  weights=distance, n_neighbors=1, leaf_size=5, algorithm=kd_tree, score=0.963, total= 5.6min\n",
      "[Parallel(n_jobs=1)]: Done  30 out of  30 | elapsed: 61.3min remaining:    0.0s\n",
      "[CV] weights=uniform, n_neighbors=100, leaf_size=30, algorithm=auto ..\n",
      "[CV]  weights=uniform, n_neighbors=100, leaf_size=30, algorithm=auto, score=0.847, total= 3.3min\n",
      "[Parallel(n_jobs=1)]: Done  31 out of  31 | elapsed: 64.5min remaining:    0.0s\n",
      "[CV] weights=uniform, n_neighbors=100, leaf_size=30, algorithm=auto ..\n",
      "[CV]  weights=uniform, n_neighbors=100, leaf_size=30, algorithm=auto, score=0.842, total= 3.4min\n",
      "[Parallel(n_jobs=1)]: Done  32 out of  32 | elapsed: 67.9min remaining:    0.0s\n",
      "[CV] weights=uniform, n_neighbors=100, leaf_size=30, algorithm=auto ..\n"
     ]
    },
    {
     "name": "stdout",
     "output_type": "stream",
     "text": [
      "[CV]  weights=uniform, n_neighbors=100, leaf_size=30, algorithm=auto, score=0.849, total= 3.4min\n",
      "[Parallel(n_jobs=1)]: Done  33 out of  33 | elapsed: 71.2min remaining:    0.0s\n",
      "[CV] weights=uniform, n_neighbors=100, leaf_size=30, algorithm=auto ..\n",
      "[CV]  weights=uniform, n_neighbors=100, leaf_size=30, algorithm=auto, score=0.851, total= 3.4min\n",
      "[Parallel(n_jobs=1)]: Done  34 out of  34 | elapsed: 74.6min remaining:    0.0s\n",
      "[CV] weights=uniform, n_neighbors=100, leaf_size=30, algorithm=auto ..\n",
      "[CV]  weights=uniform, n_neighbors=100, leaf_size=30, algorithm=auto, score=0.875, total= 3.4min\n",
      "[Parallel(n_jobs=1)]: Done  35 out of  35 | elapsed: 78.0min remaining:    0.0s\n",
      "[CV] weights=uniform, n_neighbors=75, leaf_size=5, algorithm=kd_tree .\n",
      "[CV]  weights=uniform, n_neighbors=75, leaf_size=5, algorithm=kd_tree, score=0.858, total= 7.3min\n",
      "[Parallel(n_jobs=1)]: Done  36 out of  36 | elapsed: 85.2min remaining:    0.0s\n",
      "[CV] weights=uniform, n_neighbors=75, leaf_size=5, algorithm=kd_tree .\n",
      "[CV]  weights=uniform, n_neighbors=75, leaf_size=5, algorithm=kd_tree, score=0.867, total= 6.9min\n",
      "[Parallel(n_jobs=1)]: Done  37 out of  37 | elapsed: 92.1min remaining:    0.0s\n",
      "[CV] weights=uniform, n_neighbors=75, leaf_size=5, algorithm=kd_tree .\n",
      "[CV]  weights=uniform, n_neighbors=75, leaf_size=5, algorithm=kd_tree, score=0.860, total= 6.9min\n",
      "[Parallel(n_jobs=1)]: Done  38 out of  38 | elapsed: 99.0min remaining:    0.0s\n",
      "[CV] weights=uniform, n_neighbors=75, leaf_size=5, algorithm=kd_tree .\n",
      "[CV]  weights=uniform, n_neighbors=75, leaf_size=5, algorithm=kd_tree, score=0.862, total= 6.7min\n",
      "[Parallel(n_jobs=1)]: Done  39 out of  39 | elapsed: 105.7min remaining:    0.0s\n",
      "[CV] weights=uniform, n_neighbors=75, leaf_size=5, algorithm=kd_tree .\n",
      "[CV]  weights=uniform, n_neighbors=75, leaf_size=5, algorithm=kd_tree, score=0.902, total= 6.8min\n",
      "[Parallel(n_jobs=1)]: Done  40 out of  40 | elapsed: 112.5min remaining:    0.0s\n",
      "[CV] weights=uniform, n_neighbors=10, leaf_size=35, algorithm=ball_tree \n",
      "[CV]  weights=uniform, n_neighbors=10, leaf_size=35, algorithm=ball_tree, score=0.950, total= 3.0min\n",
      "[Parallel(n_jobs=1)]: Done  41 out of  41 | elapsed: 115.5min remaining:    0.0s\n",
      "[CV] weights=uniform, n_neighbors=10, leaf_size=35, algorithm=ball_tree \n",
      "[CV]  weights=uniform, n_neighbors=10, leaf_size=35, algorithm=ball_tree, score=0.954, total= 3.0min\n",
      "[Parallel(n_jobs=1)]: Done  42 out of  42 | elapsed: 118.5min remaining:    0.0s\n",
      "[CV] weights=uniform, n_neighbors=10, leaf_size=35, algorithm=ball_tree \n",
      "[CV]  weights=uniform, n_neighbors=10, leaf_size=35, algorithm=ball_tree, score=0.941, total= 3.0min\n",
      "[Parallel(n_jobs=1)]: Done  43 out of  43 | elapsed: 121.5min remaining:    0.0s\n",
      "[CV] weights=uniform, n_neighbors=10, leaf_size=35, algorithm=ball_tree \n",
      "[CV]  weights=uniform, n_neighbors=10, leaf_size=35, algorithm=ball_tree, score=0.934, total= 3.0min\n",
      "[Parallel(n_jobs=1)]: Done  44 out of  44 | elapsed: 124.5min remaining:    0.0s\n",
      "[CV] weights=uniform, n_neighbors=10, leaf_size=35, algorithm=ball_tree \n",
      "[CV]  weights=uniform, n_neighbors=10, leaf_size=35, algorithm=ball_tree, score=0.959, total= 3.0min\n",
      "[Parallel(n_jobs=1)]: Done  45 out of  45 | elapsed: 127.5min remaining:    0.0s\n",
      "[CV] weights=uniform, n_neighbors=50, leaf_size=35, algorithm=kd_tree \n",
      "[CV]  weights=uniform, n_neighbors=50, leaf_size=35, algorithm=kd_tree, score=0.887, total= 3.2min\n",
      "[Parallel(n_jobs=1)]: Done  46 out of  46 | elapsed: 130.7min remaining:    0.0s\n",
      "[CV] weights=uniform, n_neighbors=50, leaf_size=35, algorithm=kd_tree \n",
      "[CV]  weights=uniform, n_neighbors=50, leaf_size=35, algorithm=kd_tree, score=0.912, total= 3.2min\n",
      "[Parallel(n_jobs=1)]: Done  47 out of  47 | elapsed: 133.9min remaining:    0.0s\n",
      "[CV] weights=uniform, n_neighbors=50, leaf_size=35, algorithm=kd_tree \n",
      "[CV]  weights=uniform, n_neighbors=50, leaf_size=35, algorithm=kd_tree, score=0.886, total= 3.2min\n",
      "[Parallel(n_jobs=1)]: Done  48 out of  48 | elapsed: 137.0min remaining:    0.0s\n",
      "[CV] weights=uniform, n_neighbors=50, leaf_size=35, algorithm=kd_tree \n",
      "[CV]  weights=uniform, n_neighbors=50, leaf_size=35, algorithm=kd_tree, score=0.893, total= 3.2min\n",
      "[Parallel(n_jobs=1)]: Done  49 out of  49 | elapsed: 140.2min remaining:    0.0s\n",
      "[CV] weights=uniform, n_neighbors=50, leaf_size=35, algorithm=kd_tree \n",
      "[CV]  weights=uniform, n_neighbors=50, leaf_size=35, algorithm=kd_tree, score=0.923, total= 3.2min\n",
      "[Parallel(n_jobs=1)]: Done  50 out of  50 | elapsed: 143.3min remaining:    0.0s\n",
      "[Parallel(n_jobs=1)]: Done  50 out of  50 | elapsed: 143.3min finished\n"
     ]
    }
   ],
   "source": [
    "best_knn = RandomizedSearchCV(knn, knn_parameters, n_iter=10, cv=5, random_state=seed, verbose=100, scoring=\"recall\")\n",
    "knn_start = time.time()\n",
    "best_knn.fit(X_train, y_train)\n",
    "knn_end = time.time()\n",
    "knn_time_taken = (knn_end-knn_start)/50"
   ]
  },
  {
   "cell_type": "code",
   "execution_count": 82,
   "metadata": {},
   "outputs": [
    {
     "name": "stdout",
     "output_type": "stream",
     "text": [
      "172.78027426719666\n"
     ]
    }
   ],
   "source": [
    "print(knn_time_taken)"
   ]
  },
  {
   "cell_type": "code",
   "execution_count": 83,
   "metadata": {},
   "outputs": [],
   "source": [
    "time_taken.append(knn_time_taken)"
   ]
  },
  {
   "cell_type": "code",
   "execution_count": 84,
   "metadata": {},
   "outputs": [
    {
     "data": {
      "text/plain": [
       "{'weights': 'distance',\n",
       " 'n_neighbors': 1,\n",
       " 'leaf_size': 5,\n",
       " 'algorithm': 'kd_tree'}"
      ]
     },
     "execution_count": 84,
     "metadata": {},
     "output_type": "execute_result"
    }
   ],
   "source": [
    "best_knn.best_params_"
   ]
  },
  {
   "cell_type": "raw",
   "metadata": {},
   "source": [
    "knn_y_pred = best_knn.predict(X_val)"
   ]
  },
  {
   "cell_type": "raw",
   "metadata": {},
   "source": [
    "print(classification_report(y_val, knn_y_pred))"
   ]
  },
  {
   "cell_type": "code",
   "execution_count": 85,
   "metadata": {},
   "outputs": [],
   "source": [
    "knn_pickle = \"sqli_knn_pickle.sav\"\n",
    "pickle.dump(best_knn, open(knn_pickle, \"wb\"))"
   ]
  },
  {
   "cell_type": "raw",
   "metadata": {},
   "source": [
    "knn_recall = recall_score(y_val, knn_y_pred)"
   ]
  },
  {
   "cell_type": "code",
   "execution_count": 86,
   "metadata": {},
   "outputs": [],
   "source": [
    "knn_recall = best_knn.best_score_"
   ]
  },
  {
   "cell_type": "code",
   "execution_count": 87,
   "metadata": {},
   "outputs": [
    {
     "data": {
      "text/plain": [
       "0.9554137530325579"
      ]
     },
     "execution_count": 87,
     "metadata": {},
     "output_type": "execute_result"
    }
   ],
   "source": [
    "knn_recall"
   ]
  },
  {
   "cell_type": "code",
   "execution_count": 88,
   "metadata": {},
   "outputs": [],
   "source": [
    "train_recall_score.append(knn_recall)"
   ]
  },
  {
   "cell_type": "code",
   "execution_count": 89,
   "metadata": {},
   "outputs": [
    {
     "data": {
      "text/plain": [
       "[0.990418815790368,\n",
       " 0.9911554640408282,\n",
       " 0.9904174566607544,\n",
       " 0.9841525487078074,\n",
       " 0.9554137530325579]"
      ]
     },
     "execution_count": 89,
     "metadata": {},
     "output_type": "execute_result"
    }
   ],
   "source": [
    "train_recall_score"
   ]
  },
  {
   "cell_type": "markdown",
   "metadata": {},
   "source": [
    "## Multinomial NB\n",
    "\n",
    "Special case with few hyperparameters to tune (Reduced)"
   ]
  },
  {
   "cell_type": "code",
   "execution_count": 90,
   "metadata": {},
   "outputs": [],
   "source": [
    "nb = MultinomialNB()"
   ]
  },
  {
   "cell_type": "code",
   "execution_count": 91,
   "metadata": {},
   "outputs": [
    {
     "data": {
      "text/plain": [
       "dict_keys(['alpha', 'class_prior', 'fit_prior'])"
      ]
     },
     "execution_count": 91,
     "metadata": {},
     "output_type": "execute_result"
    }
   ],
   "source": [
    "nb.get_params().keys()"
   ]
  },
  {
   "cell_type": "code",
   "execution_count": 92,
   "metadata": {},
   "outputs": [],
   "source": [
    "nb_parameters = {\"alpha\": [0, 0.0001, 0.001, 0.01, 0.1, 1, 10],\n",
    "                  \"class_prior\": [None],\n",
    "                  \"fit_prior\": [True, False]\n",
    "    \n",
    "}"
   ]
  },
  {
   "cell_type": "code",
   "execution_count": 93,
   "metadata": {},
   "outputs": [
    {
     "name": "stdout",
     "output_type": "stream",
     "text": [
      "Fitting 5 folds for each of 10 candidates, totalling 50 fits\n",
      "[Parallel(n_jobs=1)]: Using backend SequentialBackend with 1 concurrent workers.\n",
      "[CV] fit_prior=False, class_prior=None, alpha=0.001 ..................\n",
      "[CV]  fit_prior=False, class_prior=None, alpha=0.001, score=0.993, total=   2.2s\n",
      "[Parallel(n_jobs=1)]: Done   1 out of   1 | elapsed:    2.2s remaining:    0.0s\n",
      "[CV] fit_prior=False, class_prior=None, alpha=0.001 ..................\n",
      "[CV]  fit_prior=False, class_prior=None, alpha=0.001, score=0.998, total=   2.2s\n",
      "[Parallel(n_jobs=1)]: Done   2 out of   2 | elapsed:    4.4s remaining:    0.0s\n",
      "[CV] fit_prior=False, class_prior=None, alpha=0.001 ..................\n",
      "[CV]  fit_prior=False, class_prior=None, alpha=0.001, score=0.996, total=   2.1s\n",
      "[Parallel(n_jobs=1)]: Done   3 out of   3 | elapsed:    6.6s remaining:    0.0s\n",
      "[CV] fit_prior=False, class_prior=None, alpha=0.001 ..................\n",
      "[CV]  fit_prior=False, class_prior=None, alpha=0.001, score=0.993, total=   2.2s\n",
      "[Parallel(n_jobs=1)]: Done   4 out of   4 | elapsed:    8.9s remaining:    0.0s\n",
      "[CV] fit_prior=False, class_prior=None, alpha=0.001 ..................\n",
      "[CV]  fit_prior=False, class_prior=None, alpha=0.001, score=0.996, total=   2.2s\n",
      "[Parallel(n_jobs=1)]: Done   5 out of   5 | elapsed:   11.1s remaining:    0.0s\n",
      "[CV] fit_prior=True, class_prior=None, alpha=0.0001 ..................\n",
      "[CV]  fit_prior=True, class_prior=None, alpha=0.0001, score=0.993, total=   2.2s\n",
      "[Parallel(n_jobs=1)]: Done   6 out of   6 | elapsed:   13.3s remaining:    0.0s\n",
      "[CV] fit_prior=True, class_prior=None, alpha=0.0001 ..................\n",
      "[CV]  fit_prior=True, class_prior=None, alpha=0.0001, score=0.998, total=   2.2s\n",
      "[Parallel(n_jobs=1)]: Done   7 out of   7 | elapsed:   15.6s remaining:    0.0s\n",
      "[CV] fit_prior=True, class_prior=None, alpha=0.0001 ..................\n",
      "[CV]  fit_prior=True, class_prior=None, alpha=0.0001, score=0.996, total=   2.1s\n",
      "[Parallel(n_jobs=1)]: Done   8 out of   8 | elapsed:   17.8s remaining:    0.0s\n",
      "[CV] fit_prior=True, class_prior=None, alpha=0.0001 ..................\n",
      "[CV]  fit_prior=True, class_prior=None, alpha=0.0001, score=0.993, total=   2.1s\n",
      "[Parallel(n_jobs=1)]: Done   9 out of   9 | elapsed:   20.0s remaining:    0.0s\n",
      "[CV] fit_prior=True, class_prior=None, alpha=0.0001 ..................\n",
      "[CV]  fit_prior=True, class_prior=None, alpha=0.0001, score=0.996, total=   2.2s\n",
      "[Parallel(n_jobs=1)]: Done  10 out of  10 | elapsed:   22.2s remaining:    0.0s\n",
      "[CV] fit_prior=False, class_prior=None, alpha=1 ......................\n",
      "[CV]  fit_prior=False, class_prior=None, alpha=1, score=0.993, total=   2.2s\n",
      "[Parallel(n_jobs=1)]: Done  11 out of  11 | elapsed:   24.5s remaining:    0.0s\n",
      "[CV] fit_prior=False, class_prior=None, alpha=1 ......................\n",
      "[CV]  fit_prior=False, class_prior=None, alpha=1, score=0.998, total=   2.1s\n",
      "[Parallel(n_jobs=1)]: Done  12 out of  12 | elapsed:   26.7s remaining:    0.0s\n",
      "[CV] fit_prior=False, class_prior=None, alpha=1 ......................\n",
      "[CV]  fit_prior=False, class_prior=None, alpha=1, score=0.998, total=   2.1s\n",
      "[Parallel(n_jobs=1)]: Done  13 out of  13 | elapsed:   28.9s remaining:    0.0s\n",
      "[CV] fit_prior=False, class_prior=None, alpha=1 ......................\n",
      "[CV]  fit_prior=False, class_prior=None, alpha=1, score=0.996, total=   2.2s\n",
      "[Parallel(n_jobs=1)]: Done  14 out of  14 | elapsed:   31.2s remaining:    0.0s\n",
      "[CV] fit_prior=False, class_prior=None, alpha=1 ......................\n",
      "[CV]  fit_prior=False, class_prior=None, alpha=1, score=0.996, total=   2.2s\n",
      "[Parallel(n_jobs=1)]: Done  15 out of  15 | elapsed:   33.4s remaining:    0.0s\n",
      "[CV] fit_prior=True, class_prior=None, alpha=0.1 .....................\n",
      "[CV]  fit_prior=True, class_prior=None, alpha=0.1, score=0.994, total=   2.2s\n",
      "[Parallel(n_jobs=1)]: Done  16 out of  16 | elapsed:   35.7s remaining:    0.0s\n",
      "[CV] fit_prior=True, class_prior=None, alpha=0.1 .....................\n",
      "[CV]  fit_prior=True, class_prior=None, alpha=0.1, score=0.998, total=   2.3s\n",
      "[Parallel(n_jobs=1)]: Done  17 out of  17 | elapsed:   38.1s remaining:    0.0s\n",
      "[CV] fit_prior=True, class_prior=None, alpha=0.1 .....................\n",
      "[CV]  fit_prior=True, class_prior=None, alpha=0.1, score=0.996, total=   2.1s\n",
      "[Parallel(n_jobs=1)]: Done  18 out of  18 | elapsed:   40.3s remaining:    0.0s\n",
      "[CV] fit_prior=True, class_prior=None, alpha=0.1 .....................\n",
      "[CV]  fit_prior=True, class_prior=None, alpha=0.1, score=0.993, total=   2.3s\n",
      "[Parallel(n_jobs=1)]: Done  19 out of  19 | elapsed:   42.7s remaining:    0.0s\n",
      "[CV] fit_prior=True, class_prior=None, alpha=0.1 .....................\n",
      "[CV]  fit_prior=True, class_prior=None, alpha=0.1, score=0.996, total=   2.2s\n",
      "[Parallel(n_jobs=1)]: Done  20 out of  20 | elapsed:   45.0s remaining:    0.0s\n",
      "[CV] fit_prior=True, class_prior=None, alpha=1 .......................\n",
      "[CV]  fit_prior=True, class_prior=None, alpha=1, score=0.993, total=   2.2s\n",
      "[Parallel(n_jobs=1)]: Done  21 out of  21 | elapsed:   47.2s remaining:    0.0s\n",
      "[CV] fit_prior=True, class_prior=None, alpha=1 .......................\n",
      "[CV]  fit_prior=True, class_prior=None, alpha=1, score=0.998, total=   2.2s\n",
      "[Parallel(n_jobs=1)]: Done  22 out of  22 | elapsed:   49.5s remaining:    0.0s\n",
      "[CV] fit_prior=True, class_prior=None, alpha=1 .......................\n",
      "[CV]  fit_prior=True, class_prior=None, alpha=1, score=0.998, total=   2.2s\n",
      "[Parallel(n_jobs=1)]: Done  23 out of  23 | elapsed:   51.7s remaining:    0.0s\n",
      "[CV] fit_prior=True, class_prior=None, alpha=1 .......................\n",
      "[CV]  fit_prior=True, class_prior=None, alpha=1, score=0.994, total=   2.2s\n",
      "[Parallel(n_jobs=1)]: Done  24 out of  24 | elapsed:   53.9s remaining:    0.0s\n",
      "[CV] fit_prior=True, class_prior=None, alpha=1 .......................\n",
      "[CV]  fit_prior=True, class_prior=None, alpha=1, score=0.996, total=   2.2s\n",
      "[Parallel(n_jobs=1)]: Done  25 out of  25 | elapsed:   56.2s remaining:    0.0s\n",
      "[CV] fit_prior=False, class_prior=None, alpha=0.01 ...................\n",
      "[CV]  fit_prior=False, class_prior=None, alpha=0.01, score=0.994, total=   2.2s\n",
      "[Parallel(n_jobs=1)]: Done  26 out of  26 | elapsed:   58.4s remaining:    0.0s\n",
      "[CV] fit_prior=False, class_prior=None, alpha=0.01 ...................\n",
      "[CV]  fit_prior=False, class_prior=None, alpha=0.01, score=0.998, total=   2.1s\n",
      "[Parallel(n_jobs=1)]: Done  27 out of  27 | elapsed:  1.0min remaining:    0.0s\n",
      "[CV] fit_prior=False, class_prior=None, alpha=0.01 ...................\n",
      "[CV]  fit_prior=False, class_prior=None, alpha=0.01, score=0.996, total=   2.2s\n",
      "[Parallel(n_jobs=1)]: Done  28 out of  28 | elapsed:  1.0min remaining:    0.0s\n",
      "[CV] fit_prior=False, class_prior=None, alpha=0.01 ...................\n",
      "[CV]  fit_prior=False, class_prior=None, alpha=0.01, score=0.993, total=   2.2s\n",
      "[Parallel(n_jobs=1)]: Done  29 out of  29 | elapsed:  1.1min remaining:    0.0s\n",
      "[CV] fit_prior=False, class_prior=None, alpha=0.01 ...................\n",
      "[CV]  fit_prior=False, class_prior=None, alpha=0.01, score=0.996, total=   2.2s\n",
      "[Parallel(n_jobs=1)]: Done  30 out of  30 | elapsed:  1.1min remaining:    0.0s\n",
      "[CV] fit_prior=True, class_prior=None, alpha=10 ......................\n",
      "[CV]  fit_prior=True, class_prior=None, alpha=10, score=0.993, total=   2.2s\n",
      "[Parallel(n_jobs=1)]: Done  31 out of  31 | elapsed:  1.2min remaining:    0.0s\n",
      "[CV] fit_prior=True, class_prior=None, alpha=10 ......................\n",
      "[CV]  fit_prior=True, class_prior=None, alpha=10, score=0.998, total=   2.1s\n",
      "[Parallel(n_jobs=1)]: Done  32 out of  32 | elapsed:  1.2min remaining:    0.0s\n",
      "[CV] fit_prior=True, class_prior=None, alpha=10 ......................\n",
      "[CV]  fit_prior=True, class_prior=None, alpha=10, score=0.998, total=   2.2s\n",
      "[Parallel(n_jobs=1)]: Done  33 out of  33 | elapsed:  1.2min remaining:    0.0s\n",
      "[CV] fit_prior=True, class_prior=None, alpha=10 ......................\n",
      "[CV]  fit_prior=True, class_prior=None, alpha=10, score=0.996, total=   2.1s\n",
      "[Parallel(n_jobs=1)]: Done  34 out of  34 | elapsed:  1.3min remaining:    0.0s\n",
      "[CV] fit_prior=True, class_prior=None, alpha=10 ......................\n",
      "[CV]  fit_prior=True, class_prior=None, alpha=10, score=0.996, total=   2.1s\n",
      "[Parallel(n_jobs=1)]: Done  35 out of  35 | elapsed:  1.3min remaining:    0.0s\n",
      "[CV] fit_prior=False, class_prior=None, alpha=10 .....................\n"
     ]
    },
    {
     "name": "stdout",
     "output_type": "stream",
     "text": [
      "[CV]  fit_prior=False, class_prior=None, alpha=10, score=0.994, total=   2.1s\n",
      "[Parallel(n_jobs=1)]: Done  36 out of  36 | elapsed:  1.3min remaining:    0.0s\n",
      "[CV] fit_prior=False, class_prior=None, alpha=10 .....................\n",
      "[CV]  fit_prior=False, class_prior=None, alpha=10, score=0.998, total=   2.2s\n",
      "[Parallel(n_jobs=1)]: Done  37 out of  37 | elapsed:  1.4min remaining:    0.0s\n",
      "[CV] fit_prior=False, class_prior=None, alpha=10 .....................\n",
      "[CV]  fit_prior=False, class_prior=None, alpha=10, score=0.998, total=   2.2s\n",
      "[Parallel(n_jobs=1)]: Done  38 out of  38 | elapsed:  1.4min remaining:    0.0s\n",
      "[CV] fit_prior=False, class_prior=None, alpha=10 .....................\n",
      "[CV]  fit_prior=False, class_prior=None, alpha=10, score=0.998, total=   2.2s\n",
      "[Parallel(n_jobs=1)]: Done  39 out of  39 | elapsed:  1.5min remaining:    0.0s\n",
      "[CV] fit_prior=False, class_prior=None, alpha=10 .....................\n",
      "[CV]  fit_prior=False, class_prior=None, alpha=10, score=0.996, total=   2.1s\n",
      "[Parallel(n_jobs=1)]: Done  40 out of  40 | elapsed:  1.5min remaining:    0.0s\n",
      "[CV] fit_prior=True, class_prior=None, alpha=0.001 ...................\n",
      "[CV]  fit_prior=True, class_prior=None, alpha=0.001, score=0.993, total=   2.2s\n",
      "[Parallel(n_jobs=1)]: Done  41 out of  41 | elapsed:  1.5min remaining:    0.0s\n",
      "[CV] fit_prior=True, class_prior=None, alpha=0.001 ...................\n",
      "[CV]  fit_prior=True, class_prior=None, alpha=0.001, score=0.998, total=   2.1s\n",
      "[Parallel(n_jobs=1)]: Done  42 out of  42 | elapsed:  1.6min remaining:    0.0s\n",
      "[CV] fit_prior=True, class_prior=None, alpha=0.001 ...................\n",
      "[CV]  fit_prior=True, class_prior=None, alpha=0.001, score=0.996, total=   2.1s\n",
      "[Parallel(n_jobs=1)]: Done  43 out of  43 | elapsed:  1.6min remaining:    0.0s\n",
      "[CV] fit_prior=True, class_prior=None, alpha=0.001 ...................\n",
      "[CV]  fit_prior=True, class_prior=None, alpha=0.001, score=0.993, total=   2.1s\n",
      "[Parallel(n_jobs=1)]: Done  44 out of  44 | elapsed:  1.6min remaining:    0.0s\n",
      "[CV] fit_prior=True, class_prior=None, alpha=0.001 ...................\n",
      "[CV]  fit_prior=True, class_prior=None, alpha=0.001, score=0.996, total=   2.2s\n",
      "[Parallel(n_jobs=1)]: Done  45 out of  45 | elapsed:  1.7min remaining:    0.0s\n",
      "[CV] fit_prior=False, class_prior=None, alpha=0 ......................\n",
      "[CV]  fit_prior=False, class_prior=None, alpha=0, score=0.993, total=   2.2s\n",
      "[Parallel(n_jobs=1)]: Done  46 out of  46 | elapsed:  1.7min remaining:    0.0s\n",
      "[CV] fit_prior=False, class_prior=None, alpha=0 ......................\n",
      "[CV]  fit_prior=False, class_prior=None, alpha=0, score=0.998, total=   2.2s\n",
      "[Parallel(n_jobs=1)]: Done  47 out of  47 | elapsed:  1.8min remaining:    0.0s\n",
      "[CV] fit_prior=False, class_prior=None, alpha=0 ......................\n",
      "[CV]  fit_prior=False, class_prior=None, alpha=0, score=0.994, total=   2.2s\n",
      "[Parallel(n_jobs=1)]: Done  48 out of  48 | elapsed:  1.8min remaining:    0.0s\n",
      "[CV] fit_prior=False, class_prior=None, alpha=0 ......................\n",
      "[CV]  fit_prior=False, class_prior=None, alpha=0, score=0.989, total=   2.2s\n",
      "[Parallel(n_jobs=1)]: Done  49 out of  49 | elapsed:  1.8min remaining:    0.0s\n",
      "[CV] fit_prior=False, class_prior=None, alpha=0 ......................\n",
      "[CV]  fit_prior=False, class_prior=None, alpha=0, score=0.996, total=   2.2s\n",
      "[Parallel(n_jobs=1)]: Done  50 out of  50 | elapsed:  1.9min remaining:    0.0s\n",
      "[Parallel(n_jobs=1)]: Done  50 out of  50 | elapsed:  1.9min finished\n"
     ]
    }
   ],
   "source": [
    "best_nb = RandomizedSearchCV(nb, nb_parameters, n_iter=10, cv=5, random_state=seed, verbose=100, scoring=\"recall\")\n",
    "nb_start = time.time()\n",
    "best_nb.fit(X_train, y_train)\n",
    "nb_end = time.time()\n",
    "nb_time_taken = (nb_end-nb_start)/50"
   ]
  },
  {
   "cell_type": "code",
   "execution_count": 94,
   "metadata": {},
   "outputs": [
    {
     "name": "stdout",
     "output_type": "stream",
     "text": [
      "2.29656822681427\n"
     ]
    }
   ],
   "source": [
    "print(nb_time_taken)"
   ]
  },
  {
   "cell_type": "code",
   "execution_count": 95,
   "metadata": {},
   "outputs": [],
   "source": [
    "time_taken.append(nb_time_taken)"
   ]
  },
  {
   "cell_type": "code",
   "execution_count": 96,
   "metadata": {},
   "outputs": [
    {
     "data": {
      "text/plain": [
       "{'fit_prior': False, 'class_prior': None, 'alpha': 10}"
      ]
     },
     "execution_count": 96,
     "metadata": {},
     "output_type": "execute_result"
    }
   ],
   "source": [
    "best_nb.best_params_"
   ]
  },
  {
   "cell_type": "raw",
   "metadata": {},
   "source": [
    "nb_y_pred = best_nb.predict(X_val)"
   ]
  },
  {
   "cell_type": "raw",
   "metadata": {},
   "source": [
    "print(classification_report(y_val, nb_y_pred))"
   ]
  },
  {
   "cell_type": "code",
   "execution_count": 97,
   "metadata": {},
   "outputs": [],
   "source": [
    "nb_pickle = \"sqli_nb_pickle.sav\"\n",
    "pickle.dump(best_nb, open(nb_pickle, \"wb\"))"
   ]
  },
  {
   "cell_type": "code",
   "execution_count": 98,
   "metadata": {},
   "outputs": [],
   "source": [
    "nb_recall = best_nb.best_score_"
   ]
  },
  {
   "cell_type": "code",
   "execution_count": 99,
   "metadata": {},
   "outputs": [
    {
     "data": {
      "text/plain": [
       "0.9970513683037382"
      ]
     },
     "execution_count": 99,
     "metadata": {},
     "output_type": "execute_result"
    }
   ],
   "source": [
    "nb_recall"
   ]
  },
  {
   "cell_type": "code",
   "execution_count": 100,
   "metadata": {},
   "outputs": [],
   "source": [
    "train_recall_score.append(nb_recall)"
   ]
  },
  {
   "cell_type": "code",
   "execution_count": 101,
   "metadata": {},
   "outputs": [
    {
     "data": {
      "text/plain": [
       "[0.990418815790368,\n",
       " 0.9911554640408282,\n",
       " 0.9904174566607544,\n",
       " 0.9841525487078074,\n",
       " 0.9554137530325579,\n",
       " 0.9970513683037382]"
      ]
     },
     "execution_count": 101,
     "metadata": {},
     "output_type": "execute_result"
    }
   ],
   "source": [
    "train_recall_score"
   ]
  },
  {
   "cell_type": "markdown",
   "metadata": {},
   "source": [
    "## MLPClassifier"
   ]
  },
  {
   "cell_type": "code",
   "execution_count": 102,
   "metadata": {},
   "outputs": [],
   "source": [
    "nn = MLPClassifier(random_state=seed)"
   ]
  },
  {
   "cell_type": "code",
   "execution_count": 103,
   "metadata": {},
   "outputs": [
    {
     "data": {
      "text/plain": [
       "dict_keys(['activation', 'alpha', 'batch_size', 'beta_1', 'beta_2', 'early_stopping', 'epsilon', 'hidden_layer_sizes', 'learning_rate', 'learning_rate_init', 'max_fun', 'max_iter', 'momentum', 'n_iter_no_change', 'nesterovs_momentum', 'power_t', 'random_state', 'shuffle', 'solver', 'tol', 'validation_fraction', 'verbose', 'warm_start'])"
      ]
     },
     "execution_count": 103,
     "metadata": {},
     "output_type": "execute_result"
    }
   ],
   "source": [
    "nn.get_params().keys()"
   ]
  },
  {
   "cell_type": "code",
   "execution_count": 104,
   "metadata": {},
   "outputs": [],
   "source": [
    "nn_parameters = {\n",
    "    'hidden_layer_sizes': [(50,50,50), (50,100,50), (100,)],\n",
    "    'activation': [\"identity\", \"logistic\", \"tanh\", \"relu\"],\n",
    "    'solver': ['sgd', 'adam'],\n",
    "    'alpha': [0.00001, 0.0001, 0.001, 0.01, 0.1],\n",
    "    'learning_rate': ['constant','adaptive', \"invscaling\"],\n",
    "    \"learning_rate_init\": [0.001, 0.01]\n",
    "}\n",
    "    \n"
   ]
  },
  {
   "cell_type": "code",
   "execution_count": 105,
   "metadata": {},
   "outputs": [
    {
     "name": "stdout",
     "output_type": "stream",
     "text": [
      "Fitting 5 folds for each of 10 candidates, totalling 50 fits\n",
      "[Parallel(n_jobs=1)]: Using backend SequentialBackend with 1 concurrent workers.\n",
      "[CV] solver=sgd, learning_rate_init=0.001, learning_rate=adaptive, hidden_layer_sizes=(50, 100, 50), alpha=0.0001, activation=identity \n",
      "[CV]  solver=sgd, learning_rate_init=0.001, learning_rate=adaptive, hidden_layer_sizes=(50, 100, 50), alpha=0.0001, activation=identity, score=0.982, total= 4.8min\n",
      "[Parallel(n_jobs=1)]: Done   1 out of   1 | elapsed:  4.8min remaining:    0.0s\n",
      "[CV] solver=sgd, learning_rate_init=0.001, learning_rate=adaptive, hidden_layer_sizes=(50, 100, 50), alpha=0.0001, activation=identity \n",
      "[CV]  solver=sgd, learning_rate_init=0.001, learning_rate=adaptive, hidden_layer_sizes=(50, 100, 50), alpha=0.0001, activation=identity, score=0.989, total= 4.6min\n",
      "[Parallel(n_jobs=1)]: Done   2 out of   2 | elapsed:  9.4min remaining:    0.0s\n",
      "[CV] solver=sgd, learning_rate_init=0.001, learning_rate=adaptive, hidden_layer_sizes=(50, 100, 50), alpha=0.0001, activation=identity \n",
      "[CV]  solver=sgd, learning_rate_init=0.001, learning_rate=adaptive, hidden_layer_sizes=(50, 100, 50), alpha=0.0001, activation=identity, score=0.987, total= 5.0min\n",
      "[Parallel(n_jobs=1)]: Done   3 out of   3 | elapsed: 14.4min remaining:    0.0s\n",
      "[CV] solver=sgd, learning_rate_init=0.001, learning_rate=adaptive, hidden_layer_sizes=(50, 100, 50), alpha=0.0001, activation=identity \n",
      "[CV]  solver=sgd, learning_rate_init=0.001, learning_rate=adaptive, hidden_layer_sizes=(50, 100, 50), alpha=0.0001, activation=identity, score=0.983, total= 4.6min\n",
      "[Parallel(n_jobs=1)]: Done   4 out of   4 | elapsed: 19.0min remaining:    0.0s\n",
      "[CV] solver=sgd, learning_rate_init=0.001, learning_rate=adaptive, hidden_layer_sizes=(50, 100, 50), alpha=0.0001, activation=identity \n",
      "[CV]  solver=sgd, learning_rate_init=0.001, learning_rate=adaptive, hidden_layer_sizes=(50, 100, 50), alpha=0.0001, activation=identity, score=0.991, total= 4.6min\n",
      "[Parallel(n_jobs=1)]: Done   5 out of   5 | elapsed: 23.5min remaining:    0.0s\n",
      "[CV] solver=adam, learning_rate_init=0.01, learning_rate=constant, hidden_layer_sizes=(50, 100, 50), alpha=0.1, activation=tanh \n",
      "[CV]  solver=adam, learning_rate_init=0.01, learning_rate=constant, hidden_layer_sizes=(50, 100, 50), alpha=0.1, activation=tanh, score=0.991, total=  57.0s\n",
      "[Parallel(n_jobs=1)]: Done   6 out of   6 | elapsed: 24.5min remaining:    0.0s\n",
      "[CV] solver=adam, learning_rate_init=0.01, learning_rate=constant, hidden_layer_sizes=(50, 100, 50), alpha=0.1, activation=tanh \n",
      "[CV]  solver=adam, learning_rate_init=0.01, learning_rate=constant, hidden_layer_sizes=(50, 100, 50), alpha=0.1, activation=tanh, score=0.998, total=  46.1s\n",
      "[Parallel(n_jobs=1)]: Done   7 out of   7 | elapsed: 25.3min remaining:    0.0s\n",
      "[CV] solver=adam, learning_rate_init=0.01, learning_rate=constant, hidden_layer_sizes=(50, 100, 50), alpha=0.1, activation=tanh \n",
      "[CV]  solver=adam, learning_rate_init=0.01, learning_rate=constant, hidden_layer_sizes=(50, 100, 50), alpha=0.1, activation=tanh, score=0.991, total=  48.1s\n",
      "[Parallel(n_jobs=1)]: Done   8 out of   8 | elapsed: 26.1min remaining:    0.0s\n",
      "[CV] solver=adam, learning_rate_init=0.01, learning_rate=constant, hidden_layer_sizes=(50, 100, 50), alpha=0.1, activation=tanh \n",
      "[CV]  solver=adam, learning_rate_init=0.01, learning_rate=constant, hidden_layer_sizes=(50, 100, 50), alpha=0.1, activation=tanh, score=0.987, total= 1.9min\n",
      "[Parallel(n_jobs=1)]: Done   9 out of   9 | elapsed: 28.0min remaining:    0.0s\n",
      "[CV] solver=adam, learning_rate_init=0.01, learning_rate=constant, hidden_layer_sizes=(50, 100, 50), alpha=0.1, activation=tanh \n",
      "[CV]  solver=adam, learning_rate_init=0.01, learning_rate=constant, hidden_layer_sizes=(50, 100, 50), alpha=0.1, activation=tanh, score=0.998, total= 1.4min\n",
      "[Parallel(n_jobs=1)]: Done  10 out of  10 | elapsed: 29.4min remaining:    0.0s\n",
      "[CV] solver=sgd, learning_rate_init=0.01, learning_rate=constant, hidden_layer_sizes=(50, 50, 50), alpha=0.01, activation=identity \n",
      "[CV]  solver=sgd, learning_rate_init=0.01, learning_rate=constant, hidden_layer_sizes=(50, 50, 50), alpha=0.01, activation=identity, score=0.985, total= 3.6min\n",
      "[Parallel(n_jobs=1)]: Done  11 out of  11 | elapsed: 33.0min remaining:    0.0s\n",
      "[CV] solver=sgd, learning_rate_init=0.01, learning_rate=constant, hidden_layer_sizes=(50, 50, 50), alpha=0.01, activation=identity \n",
      "[CV]  solver=sgd, learning_rate_init=0.01, learning_rate=constant, hidden_layer_sizes=(50, 50, 50), alpha=0.01, activation=identity, score=0.994, total= 3.3min\n",
      "[Parallel(n_jobs=1)]: Done  12 out of  12 | elapsed: 36.3min remaining:    0.0s\n",
      "[CV] solver=sgd, learning_rate_init=0.01, learning_rate=constant, hidden_layer_sizes=(50, 50, 50), alpha=0.01, activation=identity \n",
      "[CV]  solver=sgd, learning_rate_init=0.01, learning_rate=constant, hidden_layer_sizes=(50, 50, 50), alpha=0.01, activation=identity, score=0.994, total= 3.4min\n",
      "[Parallel(n_jobs=1)]: Done  13 out of  13 | elapsed: 39.7min remaining:    0.0s\n",
      "[CV] solver=sgd, learning_rate_init=0.01, learning_rate=constant, hidden_layer_sizes=(50, 50, 50), alpha=0.01, activation=identity \n",
      "[CV]  solver=sgd, learning_rate_init=0.01, learning_rate=constant, hidden_layer_sizes=(50, 50, 50), alpha=0.01, activation=identity, score=0.991, total= 3.2min\n",
      "[Parallel(n_jobs=1)]: Done  14 out of  14 | elapsed: 43.0min remaining:    0.0s\n",
      "[CV] solver=sgd, learning_rate_init=0.01, learning_rate=constant, hidden_layer_sizes=(50, 50, 50), alpha=0.01, activation=identity \n",
      "[CV]  solver=sgd, learning_rate_init=0.01, learning_rate=constant, hidden_layer_sizes=(50, 50, 50), alpha=0.01, activation=identity, score=0.996, total= 3.8min\n",
      "[Parallel(n_jobs=1)]: Done  15 out of  15 | elapsed: 46.8min remaining:    0.0s\n",
      "[CV] solver=sgd, learning_rate_init=0.01, learning_rate=invscaling, hidden_layer_sizes=(50, 50, 50), alpha=0.1, activation=tanh \n",
      "[CV]  solver=sgd, learning_rate_init=0.01, learning_rate=invscaling, hidden_layer_sizes=(50, 50, 50), alpha=0.1, activation=tanh, score=0.950, total=  55.4s\n",
      "[Parallel(n_jobs=1)]: Done  16 out of  16 | elapsed: 47.7min remaining:    0.0s\n",
      "[CV] solver=sgd, learning_rate_init=0.01, learning_rate=invscaling, hidden_layer_sizes=(50, 50, 50), alpha=0.1, activation=tanh \n",
      "[CV]  solver=sgd, learning_rate_init=0.01, learning_rate=invscaling, hidden_layer_sizes=(50, 50, 50), alpha=0.1, activation=tanh, score=0.967, total=  50.6s\n",
      "[Parallel(n_jobs=1)]: Done  17 out of  17 | elapsed: 48.5min remaining:    0.0s\n",
      "[CV] solver=sgd, learning_rate_init=0.01, learning_rate=invscaling, hidden_layer_sizes=(50, 50, 50), alpha=0.1, activation=tanh \n",
      "[CV]  solver=sgd, learning_rate_init=0.01, learning_rate=invscaling, hidden_layer_sizes=(50, 50, 50), alpha=0.1, activation=tanh, score=0.961, total=  49.1s\n",
      "[Parallel(n_jobs=1)]: Done  18 out of  18 | elapsed: 49.3min remaining:    0.0s\n",
      "[CV] solver=sgd, learning_rate_init=0.01, learning_rate=invscaling, hidden_layer_sizes=(50, 50, 50), alpha=0.1, activation=tanh \n",
      "[CV]  solver=sgd, learning_rate_init=0.01, learning_rate=invscaling, hidden_layer_sizes=(50, 50, 50), alpha=0.1, activation=tanh, score=0.959, total=  46.7s\n",
      "[Parallel(n_jobs=1)]: Done  19 out of  19 | elapsed: 50.1min remaining:    0.0s\n",
      "[CV] solver=sgd, learning_rate_init=0.01, learning_rate=invscaling, hidden_layer_sizes=(50, 50, 50), alpha=0.1, activation=tanh \n",
      "[CV]  solver=sgd, learning_rate_init=0.01, learning_rate=invscaling, hidden_layer_sizes=(50, 50, 50), alpha=0.1, activation=tanh, score=0.969, total=  47.3s\n",
      "[Parallel(n_jobs=1)]: Done  20 out of  20 | elapsed: 50.9min remaining:    0.0s\n",
      "[CV] solver=sgd, learning_rate_init=0.001, learning_rate=constant, hidden_layer_sizes=(100,), alpha=0.001, activation=logistic \n",
      "[CV]  solver=sgd, learning_rate_init=0.001, learning_rate=constant, hidden_layer_sizes=(100,), alpha=0.001, activation=logistic, score=0.952, total= 8.8min\n",
      "[Parallel(n_jobs=1)]: Done  21 out of  21 | elapsed: 59.8min remaining:    0.0s\n",
      "[CV] solver=sgd, learning_rate_init=0.001, learning_rate=constant, hidden_layer_sizes=(100,), alpha=0.001, activation=logistic \n",
      "[CV]  solver=sgd, learning_rate_init=0.001, learning_rate=constant, hidden_layer_sizes=(100,), alpha=0.001, activation=logistic, score=0.967, total= 9.0min\n",
      "[Parallel(n_jobs=1)]: Done  22 out of  22 | elapsed: 68.8min remaining:    0.0s\n",
      "[CV] solver=sgd, learning_rate_init=0.001, learning_rate=constant, hidden_layer_sizes=(100,), alpha=0.001, activation=logistic \n"
     ]
    },
    {
     "name": "stdout",
     "output_type": "stream",
     "text": [
      "[CV]  solver=sgd, learning_rate_init=0.001, learning_rate=constant, hidden_layer_sizes=(100,), alpha=0.001, activation=logistic, score=0.956, total= 9.1min\n",
      "[Parallel(n_jobs=1)]: Done  23 out of  23 | elapsed: 77.8min remaining:    0.0s\n",
      "[CV] solver=sgd, learning_rate_init=0.001, learning_rate=constant, hidden_layer_sizes=(100,), alpha=0.001, activation=logistic \n",
      "[CV]  solver=sgd, learning_rate_init=0.001, learning_rate=constant, hidden_layer_sizes=(100,), alpha=0.001, activation=logistic, score=0.956, total= 8.8min\n",
      "[Parallel(n_jobs=1)]: Done  24 out of  24 | elapsed: 86.7min remaining:    0.0s\n",
      "[CV] solver=sgd, learning_rate_init=0.001, learning_rate=constant, hidden_layer_sizes=(100,), alpha=0.001, activation=logistic \n",
      "[CV]  solver=sgd, learning_rate_init=0.001, learning_rate=constant, hidden_layer_sizes=(100,), alpha=0.001, activation=logistic, score=0.967, total= 8.5min\n",
      "[Parallel(n_jobs=1)]: Done  25 out of  25 | elapsed: 95.1min remaining:    0.0s\n",
      "[CV] solver=sgd, learning_rate_init=0.01, learning_rate=invscaling, hidden_layer_sizes=(50, 100, 50), alpha=0.001, activation=tanh \n",
      "[CV]  solver=sgd, learning_rate_init=0.01, learning_rate=invscaling, hidden_layer_sizes=(50, 100, 50), alpha=0.001, activation=tanh, score=0.952, total=  59.8s\n",
      "[Parallel(n_jobs=1)]: Done  26 out of  26 | elapsed: 96.1min remaining:    0.0s\n",
      "[CV] solver=sgd, learning_rate_init=0.01, learning_rate=invscaling, hidden_layer_sizes=(50, 100, 50), alpha=0.001, activation=tanh \n",
      "[CV]  solver=sgd, learning_rate_init=0.01, learning_rate=invscaling, hidden_layer_sizes=(50, 100, 50), alpha=0.001, activation=tanh, score=0.965, total=  59.5s\n",
      "[Parallel(n_jobs=1)]: Done  27 out of  27 | elapsed: 97.1min remaining:    0.0s\n",
      "[CV] solver=sgd, learning_rate_init=0.01, learning_rate=invscaling, hidden_layer_sizes=(50, 100, 50), alpha=0.001, activation=tanh \n",
      "[CV]  solver=sgd, learning_rate_init=0.01, learning_rate=invscaling, hidden_layer_sizes=(50, 100, 50), alpha=0.001, activation=tanh, score=0.961, total=  56.5s\n",
      "[Parallel(n_jobs=1)]: Done  28 out of  28 | elapsed: 98.1min remaining:    0.0s\n",
      "[CV] solver=sgd, learning_rate_init=0.01, learning_rate=invscaling, hidden_layer_sizes=(50, 100, 50), alpha=0.001, activation=tanh \n",
      "[CV]  solver=sgd, learning_rate_init=0.01, learning_rate=invscaling, hidden_layer_sizes=(50, 100, 50), alpha=0.001, activation=tanh, score=0.958, total=  56.9s\n",
      "[Parallel(n_jobs=1)]: Done  29 out of  29 | elapsed: 99.0min remaining:    0.0s\n",
      "[CV] solver=sgd, learning_rate_init=0.01, learning_rate=invscaling, hidden_layer_sizes=(50, 100, 50), alpha=0.001, activation=tanh \n",
      "[CV]  solver=sgd, learning_rate_init=0.01, learning_rate=invscaling, hidden_layer_sizes=(50, 100, 50), alpha=0.001, activation=tanh, score=0.969, total=  55.5s\n",
      "[Parallel(n_jobs=1)]: Done  30 out of  30 | elapsed: 100.0min remaining:    0.0s\n",
      "[CV] solver=adam, learning_rate_init=0.01, learning_rate=adaptive, hidden_layer_sizes=(100,), alpha=0.1, activation=identity \n",
      "[CV]  solver=adam, learning_rate_init=0.01, learning_rate=adaptive, hidden_layer_sizes=(100,), alpha=0.1, activation=identity, score=0.983, total=  57.1s\n",
      "[Parallel(n_jobs=1)]: Done  31 out of  31 | elapsed: 100.9min remaining:    0.0s\n",
      "[CV] solver=adam, learning_rate_init=0.01, learning_rate=adaptive, hidden_layer_sizes=(100,), alpha=0.1, activation=identity \n",
      "[CV]  solver=adam, learning_rate_init=0.01, learning_rate=adaptive, hidden_layer_sizes=(100,), alpha=0.1, activation=identity, score=0.994, total=  50.5s\n",
      "[Parallel(n_jobs=1)]: Done  32 out of  32 | elapsed: 101.8min remaining:    0.0s\n",
      "[CV] solver=adam, learning_rate_init=0.01, learning_rate=adaptive, hidden_layer_sizes=(100,), alpha=0.1, activation=identity \n",
      "[CV]  solver=adam, learning_rate_init=0.01, learning_rate=adaptive, hidden_layer_sizes=(100,), alpha=0.1, activation=identity, score=0.991, total= 2.6min\n",
      "[Parallel(n_jobs=1)]: Done  33 out of  33 | elapsed: 104.4min remaining:    0.0s\n",
      "[CV] solver=adam, learning_rate_init=0.01, learning_rate=adaptive, hidden_layer_sizes=(100,), alpha=0.1, activation=identity \n",
      "[CV]  solver=adam, learning_rate_init=0.01, learning_rate=adaptive, hidden_layer_sizes=(100,), alpha=0.1, activation=identity, score=0.989, total= 1.2min\n",
      "[Parallel(n_jobs=1)]: Done  34 out of  34 | elapsed: 105.5min remaining:    0.0s\n",
      "[CV] solver=adam, learning_rate_init=0.01, learning_rate=adaptive, hidden_layer_sizes=(100,), alpha=0.1, activation=identity \n",
      "[CV]  solver=adam, learning_rate_init=0.01, learning_rate=adaptive, hidden_layer_sizes=(100,), alpha=0.1, activation=identity, score=0.994, total= 1.5min\n",
      "[Parallel(n_jobs=1)]: Done  35 out of  35 | elapsed: 107.0min remaining:    0.0s\n",
      "[CV] solver=sgd, learning_rate_init=0.001, learning_rate=adaptive, hidden_layer_sizes=(50, 100, 50), alpha=0.0001, activation=logistic \n",
      "[CV]  solver=sgd, learning_rate_init=0.001, learning_rate=adaptive, hidden_layer_sizes=(50, 100, 50), alpha=0.0001, activation=logistic, score=0.000, total= 2.2min\n",
      "[Parallel(n_jobs=1)]: Done  36 out of  36 | elapsed: 109.1min remaining:    0.0s\n",
      "[CV] solver=sgd, learning_rate_init=0.001, learning_rate=adaptive, hidden_layer_sizes=(50, 100, 50), alpha=0.0001, activation=logistic \n",
      "[CV]  solver=sgd, learning_rate_init=0.001, learning_rate=adaptive, hidden_layer_sizes=(50, 100, 50), alpha=0.0001, activation=logistic, score=0.000, total= 2.1min\n",
      "[Parallel(n_jobs=1)]: Done  37 out of  37 | elapsed: 111.3min remaining:    0.0s\n",
      "[CV] solver=sgd, learning_rate_init=0.001, learning_rate=adaptive, hidden_layer_sizes=(50, 100, 50), alpha=0.0001, activation=logistic \n",
      "[CV]  solver=sgd, learning_rate_init=0.001, learning_rate=adaptive, hidden_layer_sizes=(50, 100, 50), alpha=0.0001, activation=logistic, score=0.000, total= 2.2min\n",
      "[Parallel(n_jobs=1)]: Done  38 out of  38 | elapsed: 113.4min remaining:    0.0s\n",
      "[CV] solver=sgd, learning_rate_init=0.001, learning_rate=adaptive, hidden_layer_sizes=(50, 100, 50), alpha=0.0001, activation=logistic \n",
      "[CV]  solver=sgd, learning_rate_init=0.001, learning_rate=adaptive, hidden_layer_sizes=(50, 100, 50), alpha=0.0001, activation=logistic, score=0.000, total= 2.2min\n",
      "[Parallel(n_jobs=1)]: Done  39 out of  39 | elapsed: 115.6min remaining:    0.0s\n",
      "[CV] solver=sgd, learning_rate_init=0.001, learning_rate=adaptive, hidden_layer_sizes=(50, 100, 50), alpha=0.0001, activation=logistic \n",
      "[CV]  solver=sgd, learning_rate_init=0.001, learning_rate=adaptive, hidden_layer_sizes=(50, 100, 50), alpha=0.0001, activation=logistic, score=0.000, total= 2.2min\n",
      "[Parallel(n_jobs=1)]: Done  40 out of  40 | elapsed: 117.8min remaining:    0.0s\n",
      "[CV] solver=adam, learning_rate_init=0.01, learning_rate=adaptive, hidden_layer_sizes=(100,), alpha=0.1, activation=relu \n",
      "[CV]  solver=adam, learning_rate_init=0.01, learning_rate=adaptive, hidden_layer_sizes=(100,), alpha=0.1, activation=relu, score=0.985, total=  58.8s\n",
      "[Parallel(n_jobs=1)]: Done  41 out of  41 | elapsed: 118.7min remaining:    0.0s\n",
      "[CV] solver=adam, learning_rate_init=0.01, learning_rate=adaptive, hidden_layer_sizes=(100,), alpha=0.1, activation=relu \n",
      "[CV]  solver=adam, learning_rate_init=0.01, learning_rate=adaptive, hidden_layer_sizes=(100,), alpha=0.1, activation=relu, score=0.996, total= 1.4min\n",
      "[Parallel(n_jobs=1)]: Done  42 out of  42 | elapsed: 120.1min remaining:    0.0s\n",
      "[CV] solver=adam, learning_rate_init=0.01, learning_rate=adaptive, hidden_layer_sizes=(100,), alpha=0.1, activation=relu \n",
      "[CV]  solver=adam, learning_rate_init=0.01, learning_rate=adaptive, hidden_layer_sizes=(100,), alpha=0.1, activation=relu, score=0.989, total= 1.6min\n",
      "[Parallel(n_jobs=1)]: Done  43 out of  43 | elapsed: 121.7min remaining:    0.0s\n",
      "[CV] solver=adam, learning_rate_init=0.01, learning_rate=adaptive, hidden_layer_sizes=(100,), alpha=0.1, activation=relu \n",
      "[CV]  solver=adam, learning_rate_init=0.01, learning_rate=adaptive, hidden_layer_sizes=(100,), alpha=0.1, activation=relu, score=0.989, total= 1.1min\n",
      "[Parallel(n_jobs=1)]: Done  44 out of  44 | elapsed: 122.8min remaining:    0.0s\n",
      "[CV] solver=adam, learning_rate_init=0.01, learning_rate=adaptive, hidden_layer_sizes=(100,), alpha=0.1, activation=relu \n",
      "[CV]  solver=adam, learning_rate_init=0.01, learning_rate=adaptive, hidden_layer_sizes=(100,), alpha=0.1, activation=relu, score=0.993, total= 1.0min\n",
      "[Parallel(n_jobs=1)]: Done  45 out of  45 | elapsed: 123.9min remaining:    0.0s\n",
      "[CV] solver=adam, learning_rate_init=0.01, learning_rate=adaptive, hidden_layer_sizes=(50, 100, 50), alpha=0.01, activation=logistic \n"
     ]
    },
    {
     "name": "stdout",
     "output_type": "stream",
     "text": [
      "[CV]  solver=adam, learning_rate_init=0.01, learning_rate=adaptive, hidden_layer_sizes=(50, 100, 50), alpha=0.01, activation=logistic, score=0.985, total= 1.9min\n",
      "[Parallel(n_jobs=1)]: Done  46 out of  46 | elapsed: 125.7min remaining:    0.0s\n",
      "[CV] solver=adam, learning_rate_init=0.01, learning_rate=adaptive, hidden_layer_sizes=(50, 100, 50), alpha=0.01, activation=logistic \n",
      "[CV]  solver=adam, learning_rate_init=0.01, learning_rate=adaptive, hidden_layer_sizes=(50, 100, 50), alpha=0.01, activation=logistic, score=0.993, total=  51.7s\n",
      "[Parallel(n_jobs=1)]: Done  47 out of  47 | elapsed: 126.6min remaining:    0.0s\n",
      "[CV] solver=adam, learning_rate_init=0.01, learning_rate=adaptive, hidden_layer_sizes=(50, 100, 50), alpha=0.01, activation=logistic \n",
      "[CV]  solver=adam, learning_rate_init=0.01, learning_rate=adaptive, hidden_layer_sizes=(50, 100, 50), alpha=0.01, activation=logistic, score=0.993, total= 1.8min\n",
      "[Parallel(n_jobs=1)]: Done  48 out of  48 | elapsed: 128.4min remaining:    0.0s\n",
      "[CV] solver=adam, learning_rate_init=0.01, learning_rate=adaptive, hidden_layer_sizes=(50, 100, 50), alpha=0.01, activation=logistic \n",
      "[CV]  solver=adam, learning_rate_init=0.01, learning_rate=adaptive, hidden_layer_sizes=(50, 100, 50), alpha=0.01, activation=logistic, score=0.989, total= 1.9min\n",
      "[Parallel(n_jobs=1)]: Done  49 out of  49 | elapsed: 130.3min remaining:    0.0s\n",
      "[CV] solver=adam, learning_rate_init=0.01, learning_rate=adaptive, hidden_layer_sizes=(50, 100, 50), alpha=0.01, activation=logistic \n",
      "[CV]  solver=adam, learning_rate_init=0.01, learning_rate=adaptive, hidden_layer_sizes=(50, 100, 50), alpha=0.01, activation=logistic, score=0.996, total=  56.4s\n",
      "[Parallel(n_jobs=1)]: Done  50 out of  50 | elapsed: 131.3min remaining:    0.0s\n",
      "[Parallel(n_jobs=1)]: Done  50 out of  50 | elapsed: 131.3min finished\n"
     ]
    }
   ],
   "source": [
    "best_nn = RandomizedSearchCV(nn, nn_parameters, n_iter=10, cv=5, random_state=seed, verbose=100, scoring=\"recall\")\n",
    "nn_start = time.time()\n",
    "best_nn.fit(X_train, y_train)\n",
    "nn_end = time.time()\n",
    "nn_time_taken = (nn_end-nn_start)/50"
   ]
  },
  {
   "cell_type": "code",
   "execution_count": 106,
   "metadata": {},
   "outputs": [
    {
     "name": "stdout",
     "output_type": "stream",
     "text": [
      "160.35192840099336\n"
     ]
    }
   ],
   "source": [
    "print(nn_time_taken)"
   ]
  },
  {
   "cell_type": "code",
   "execution_count": 107,
   "metadata": {},
   "outputs": [],
   "source": [
    "time_taken.append(nn_time_taken)"
   ]
  },
  {
   "cell_type": "code",
   "execution_count": 108,
   "metadata": {},
   "outputs": [
    {
     "data": {
      "text/plain": [
       "{'solver': 'adam',\n",
       " 'learning_rate_init': 0.01,\n",
       " 'learning_rate': 'constant',\n",
       " 'hidden_layer_sizes': (50, 100, 50),\n",
       " 'alpha': 0.1,\n",
       " 'activation': 'tanh'}"
      ]
     },
     "execution_count": 108,
     "metadata": {},
     "output_type": "execute_result"
    }
   ],
   "source": [
    "best_nn.best_params_"
   ]
  },
  {
   "cell_type": "raw",
   "metadata": {},
   "source": [
    "nn_y_pred = best_nn.predict(X_val)"
   ]
  },
  {
   "cell_type": "raw",
   "metadata": {},
   "source": [
    "print(classification_report(y_val, nn_y_pred))"
   ]
  },
  {
   "cell_type": "code",
   "execution_count": 109,
   "metadata": {},
   "outputs": [],
   "source": [
    "nn_pickle = \"sqli_nn_pickle.sav\"\n",
    "pickle.dump(best_nn, open(nn_pickle, \"wb\"))"
   ]
  },
  {
   "cell_type": "raw",
   "metadata": {},
   "source": [
    "nn_recall = recall_score(y_val, nn_y_pred)"
   ]
  },
  {
   "cell_type": "code",
   "execution_count": 110,
   "metadata": {},
   "outputs": [],
   "source": [
    "nn_recall = best_nn.best_score_"
   ]
  },
  {
   "cell_type": "code",
   "execution_count": 111,
   "metadata": {},
   "outputs": [
    {
     "data": {
      "text/plain": [
       "0.9929984437965927"
      ]
     },
     "execution_count": 111,
     "metadata": {},
     "output_type": "execute_result"
    }
   ],
   "source": [
    "nn_recall"
   ]
  },
  {
   "cell_type": "code",
   "execution_count": 112,
   "metadata": {},
   "outputs": [],
   "source": [
    "train_recall_score.append(nn_recall)"
   ]
  },
  {
   "cell_type": "code",
   "execution_count": 113,
   "metadata": {},
   "outputs": [
    {
     "data": {
      "text/plain": [
       "[0.990418815790368,\n",
       " 0.9911554640408282,\n",
       " 0.9904174566607544,\n",
       " 0.9841525487078074,\n",
       " 0.9554137530325579,\n",
       " 0.9970513683037382,\n",
       " 0.9929984437965927]"
      ]
     },
     "execution_count": 113,
     "metadata": {},
     "output_type": "execute_result"
    }
   ],
   "source": [
    "train_recall_score"
   ]
  },
  {
   "cell_type": "markdown",
   "metadata": {},
   "source": [
    "## XGBClassifier"
   ]
  },
  {
   "cell_type": "code",
   "execution_count": 114,
   "metadata": {},
   "outputs": [],
   "source": [
    "xgb = XGBClassifier(random_state=seed)"
   ]
  },
  {
   "cell_type": "code",
   "execution_count": 115,
   "metadata": {},
   "outputs": [
    {
     "data": {
      "text/plain": [
       "dict_keys(['objective', 'base_score', 'booster', 'colsample_bylevel', 'colsample_bynode', 'colsample_bytree', 'gamma', 'gpu_id', 'importance_type', 'interaction_constraints', 'learning_rate', 'max_delta_step', 'max_depth', 'min_child_weight', 'missing', 'monotone_constraints', 'n_estimators', 'n_jobs', 'num_parallel_tree', 'random_state', 'reg_alpha', 'reg_lambda', 'scale_pos_weight', 'subsample', 'tree_method', 'validate_parameters', 'verbosity'])"
      ]
     },
     "execution_count": 115,
     "metadata": {},
     "output_type": "execute_result"
    }
   ],
   "source": [
    "xgb.get_params().keys()"
   ]
  },
  {
   "cell_type": "code",
   "execution_count": 116,
   "metadata": {},
   "outputs": [],
   "source": [
    "xgb_parameters = {\n",
    "        'min_child_weight': [1, 5, 7, 10],\n",
    "        'gamma': [0.5, 1, 1.5, 2, 5],\n",
    "        'subsample': [0.6, 0.8, 1.0],\n",
    "        'colsample_bytree': [0.6, 0.8, 1.0],\n",
    "        'max_depth': [3, 4, 5, 6]\n",
    "}\n",
    "    \n"
   ]
  },
  {
   "cell_type": "code",
   "execution_count": 117,
   "metadata": {},
   "outputs": [
    {
     "name": "stdout",
     "output_type": "stream",
     "text": [
      "Fitting 5 folds for each of 10 candidates, totalling 50 fits\n",
      "[Parallel(n_jobs=1)]: Using backend SequentialBackend with 1 concurrent workers.\n",
      "[CV] subsample=0.8, min_child_weight=5, max_depth=3, gamma=1, colsample_bytree=0.6 \n",
      "[CV]  subsample=0.8, min_child_weight=5, max_depth=3, gamma=1, colsample_bytree=0.6, score=0.982, total=  32.5s\n",
      "[Parallel(n_jobs=1)]: Done   1 out of   1 | elapsed:   32.5s remaining:    0.0s\n",
      "[CV] subsample=0.8, min_child_weight=5, max_depth=3, gamma=1, colsample_bytree=0.6 \n",
      "[CV]  subsample=0.8, min_child_weight=5, max_depth=3, gamma=1, colsample_bytree=0.6, score=0.993, total=  32.5s\n",
      "[Parallel(n_jobs=1)]: Done   2 out of   2 | elapsed:  1.1min remaining:    0.0s\n",
      "[CV] subsample=0.8, min_child_weight=5, max_depth=3, gamma=1, colsample_bytree=0.6 \n",
      "[CV]  subsample=0.8, min_child_weight=5, max_depth=3, gamma=1, colsample_bytree=0.6, score=0.989, total=  31.2s\n",
      "[Parallel(n_jobs=1)]: Done   3 out of   3 | elapsed:  1.6min remaining:    0.0s\n",
      "[CV] subsample=0.8, min_child_weight=5, max_depth=3, gamma=1, colsample_bytree=0.6 \n",
      "[CV]  subsample=0.8, min_child_weight=5, max_depth=3, gamma=1, colsample_bytree=0.6, score=0.982, total=  31.6s\n",
      "[Parallel(n_jobs=1)]: Done   4 out of   4 | elapsed:  2.1min remaining:    0.0s\n",
      "[CV] subsample=0.8, min_child_weight=5, max_depth=3, gamma=1, colsample_bytree=0.6 \n",
      "[CV]  subsample=0.8, min_child_weight=5, max_depth=3, gamma=1, colsample_bytree=0.6, score=0.993, total=  32.2s\n",
      "[Parallel(n_jobs=1)]: Done   5 out of   5 | elapsed:  2.7min remaining:    0.0s\n",
      "[CV] subsample=0.6, min_child_weight=5, max_depth=6, gamma=0.5, colsample_bytree=1.0 \n",
      "[CV]  subsample=0.6, min_child_weight=5, max_depth=6, gamma=0.5, colsample_bytree=1.0, score=0.985, total=  47.1s\n",
      "[Parallel(n_jobs=1)]: Done   6 out of   6 | elapsed:  3.5min remaining:    0.0s\n",
      "[CV] subsample=0.6, min_child_weight=5, max_depth=6, gamma=0.5, colsample_bytree=1.0 \n",
      "[CV]  subsample=0.6, min_child_weight=5, max_depth=6, gamma=0.5, colsample_bytree=1.0, score=0.993, total=  49.0s\n",
      "[Parallel(n_jobs=1)]: Done   7 out of   7 | elapsed:  4.3min remaining:    0.0s\n",
      "[CV] subsample=0.6, min_child_weight=5, max_depth=6, gamma=0.5, colsample_bytree=1.0 \n",
      "[CV]  subsample=0.6, min_child_weight=5, max_depth=6, gamma=0.5, colsample_bytree=1.0, score=0.987, total=  51.4s\n",
      "[Parallel(n_jobs=1)]: Done   8 out of   8 | elapsed:  5.1min remaining:    0.0s\n",
      "[CV] subsample=0.6, min_child_weight=5, max_depth=6, gamma=0.5, colsample_bytree=1.0 \n",
      "[CV]  subsample=0.6, min_child_weight=5, max_depth=6, gamma=0.5, colsample_bytree=1.0, score=0.987, total=  50.6s\n",
      "[Parallel(n_jobs=1)]: Done   9 out of   9 | elapsed:  6.0min remaining:    0.0s\n",
      "[CV] subsample=0.6, min_child_weight=5, max_depth=6, gamma=0.5, colsample_bytree=1.0 \n",
      "[CV]  subsample=0.6, min_child_weight=5, max_depth=6, gamma=0.5, colsample_bytree=1.0, score=0.993, total=  48.8s\n",
      "[Parallel(n_jobs=1)]: Done  10 out of  10 | elapsed:  6.8min remaining:    0.0s\n",
      "[CV] subsample=1.0, min_child_weight=1, max_depth=4, gamma=1.5, colsample_bytree=0.6 \n",
      "[CV]  subsample=1.0, min_child_weight=1, max_depth=4, gamma=1.5, colsample_bytree=0.6, score=0.985, total=  46.6s\n",
      "[Parallel(n_jobs=1)]: Done  11 out of  11 | elapsed:  7.6min remaining:    0.0s\n",
      "[CV] subsample=1.0, min_child_weight=1, max_depth=4, gamma=1.5, colsample_bytree=0.6 \n",
      "[CV]  subsample=1.0, min_child_weight=1, max_depth=4, gamma=1.5, colsample_bytree=0.6, score=0.993, total=  46.2s\n",
      "[Parallel(n_jobs=1)]: Done  12 out of  12 | elapsed:  8.3min remaining:    0.0s\n",
      "[CV] subsample=1.0, min_child_weight=1, max_depth=4, gamma=1.5, colsample_bytree=0.6 \n",
      "[CV]  subsample=1.0, min_child_weight=1, max_depth=4, gamma=1.5, colsample_bytree=0.6, score=0.989, total=  46.6s\n",
      "[Parallel(n_jobs=1)]: Done  13 out of  13 | elapsed:  9.1min remaining:    0.0s\n",
      "[CV] subsample=1.0, min_child_weight=1, max_depth=4, gamma=1.5, colsample_bytree=0.6 \n",
      "[CV]  subsample=1.0, min_child_weight=1, max_depth=4, gamma=1.5, colsample_bytree=0.6, score=0.985, total=  46.3s\n",
      "[Parallel(n_jobs=1)]: Done  14 out of  14 | elapsed:  9.9min remaining:    0.0s\n",
      "[CV] subsample=1.0, min_child_weight=1, max_depth=4, gamma=1.5, colsample_bytree=0.6 \n",
      "[CV]  subsample=1.0, min_child_weight=1, max_depth=4, gamma=1.5, colsample_bytree=0.6, score=0.994, total=  47.5s\n",
      "[Parallel(n_jobs=1)]: Done  15 out of  15 | elapsed: 10.7min remaining:    0.0s\n",
      "[CV] subsample=0.8, min_child_weight=10, max_depth=5, gamma=0.5, colsample_bytree=1.0 \n",
      "[CV]  subsample=0.8, min_child_weight=10, max_depth=5, gamma=0.5, colsample_bytree=1.0, score=0.982, total=  46.3s\n",
      "[Parallel(n_jobs=1)]: Done  16 out of  16 | elapsed: 11.5min remaining:    0.0s\n",
      "[CV] subsample=0.8, min_child_weight=10, max_depth=5, gamma=0.5, colsample_bytree=1.0 \n",
      "[CV]  subsample=0.8, min_child_weight=10, max_depth=5, gamma=0.5, colsample_bytree=1.0, score=0.989, total=  47.0s\n",
      "[Parallel(n_jobs=1)]: Done  17 out of  17 | elapsed: 12.3min remaining:    0.0s\n",
      "[CV] subsample=0.8, min_child_weight=10, max_depth=5, gamma=0.5, colsample_bytree=1.0 \n",
      "[CV]  subsample=0.8, min_child_weight=10, max_depth=5, gamma=0.5, colsample_bytree=1.0, score=0.983, total=  47.0s\n",
      "[Parallel(n_jobs=1)]: Done  18 out of  18 | elapsed: 13.0min remaining:    0.0s\n",
      "[CV] subsample=0.8, min_child_weight=10, max_depth=5, gamma=0.5, colsample_bytree=1.0 \n",
      "[CV]  subsample=0.8, min_child_weight=10, max_depth=5, gamma=0.5, colsample_bytree=1.0, score=0.982, total=  47.7s\n",
      "[Parallel(n_jobs=1)]: Done  19 out of  19 | elapsed: 13.8min remaining:    0.0s\n",
      "[CV] subsample=0.8, min_child_weight=10, max_depth=5, gamma=0.5, colsample_bytree=1.0 \n",
      "[CV]  subsample=0.8, min_child_weight=10, max_depth=5, gamma=0.5, colsample_bytree=1.0, score=0.989, total=  47.4s\n",
      "[Parallel(n_jobs=1)]: Done  20 out of  20 | elapsed: 14.6min remaining:    0.0s\n",
      "[CV] subsample=0.6, min_child_weight=1, max_depth=6, gamma=0.5, colsample_bytree=0.8 \n",
      "[CV]  subsample=0.6, min_child_weight=1, max_depth=6, gamma=0.5, colsample_bytree=0.8, score=0.987, total= 1.1min\n",
      "[Parallel(n_jobs=1)]: Done  21 out of  21 | elapsed: 15.8min remaining:    0.0s\n",
      "[CV] subsample=0.6, min_child_weight=1, max_depth=6, gamma=0.5, colsample_bytree=0.8 \n",
      "[CV]  subsample=0.6, min_child_weight=1, max_depth=6, gamma=0.5, colsample_bytree=0.8, score=0.994, total= 1.1min\n",
      "[Parallel(n_jobs=1)]: Done  22 out of  22 | elapsed: 16.8min remaining:    0.0s\n",
      "[CV] subsample=0.6, min_child_weight=1, max_depth=6, gamma=0.5, colsample_bytree=0.8 \n",
      "[CV]  subsample=0.6, min_child_weight=1, max_depth=6, gamma=0.5, colsample_bytree=0.8, score=0.991, total= 1.1min\n",
      "[Parallel(n_jobs=1)]: Done  23 out of  23 | elapsed: 18.0min remaining:    0.0s\n",
      "[CV] subsample=0.6, min_child_weight=1, max_depth=6, gamma=0.5, colsample_bytree=0.8 \n",
      "[CV]  subsample=0.6, min_child_weight=1, max_depth=6, gamma=0.5, colsample_bytree=0.8, score=0.989, total= 1.1min\n",
      "[Parallel(n_jobs=1)]: Done  24 out of  24 | elapsed: 19.0min remaining:    0.0s\n",
      "[CV] subsample=0.6, min_child_weight=1, max_depth=6, gamma=0.5, colsample_bytree=0.8 \n",
      "[CV]  subsample=0.6, min_child_weight=1, max_depth=6, gamma=0.5, colsample_bytree=0.8, score=0.994, total= 1.1min\n",
      "[Parallel(n_jobs=1)]: Done  25 out of  25 | elapsed: 20.2min remaining:    0.0s\n",
      "[CV] subsample=0.8, min_child_weight=10, max_depth=4, gamma=5, colsample_bytree=0.8 \n",
      "[CV]  subsample=0.8, min_child_weight=10, max_depth=4, gamma=5, colsample_bytree=0.8, score=0.982, total=  41.4s\n",
      "[Parallel(n_jobs=1)]: Done  26 out of  26 | elapsed: 20.8min remaining:    0.0s\n",
      "[CV] subsample=0.8, min_child_weight=10, max_depth=4, gamma=5, colsample_bytree=0.8 \n",
      "[CV]  subsample=0.8, min_child_weight=10, max_depth=4, gamma=5, colsample_bytree=0.8, score=0.991, total=  40.6s\n",
      "[Parallel(n_jobs=1)]: Done  27 out of  27 | elapsed: 21.5min remaining:    0.0s\n",
      "[CV] subsample=0.8, min_child_weight=10, max_depth=4, gamma=5, colsample_bytree=0.8 \n",
      "[CV]  subsample=0.8, min_child_weight=10, max_depth=4, gamma=5, colsample_bytree=0.8, score=0.983, total=  40.6s\n",
      "[Parallel(n_jobs=1)]: Done  28 out of  28 | elapsed: 22.2min remaining:    0.0s\n",
      "[CV] subsample=0.8, min_child_weight=10, max_depth=4, gamma=5, colsample_bytree=0.8 \n",
      "[CV]  subsample=0.8, min_child_weight=10, max_depth=4, gamma=5, colsample_bytree=0.8, score=0.982, total=  40.7s\n",
      "[Parallel(n_jobs=1)]: Done  29 out of  29 | elapsed: 22.9min remaining:    0.0s\n",
      "[CV] subsample=0.8, min_child_weight=10, max_depth=4, gamma=5, colsample_bytree=0.8 \n"
     ]
    },
    {
     "name": "stdout",
     "output_type": "stream",
     "text": [
      "[CV]  subsample=0.8, min_child_weight=10, max_depth=4, gamma=5, colsample_bytree=0.8, score=0.989, total=  42.1s\n",
      "[Parallel(n_jobs=1)]: Done  30 out of  30 | elapsed: 23.6min remaining:    0.0s\n",
      "[CV] subsample=0.8, min_child_weight=7, max_depth=5, gamma=2, colsample_bytree=0.6 \n",
      "[CV]  subsample=0.8, min_child_weight=7, max_depth=5, gamma=2, colsample_bytree=0.6, score=0.982, total=  32.0s\n",
      "[Parallel(n_jobs=1)]: Done  31 out of  31 | elapsed: 24.1min remaining:    0.0s\n",
      "[CV] subsample=0.8, min_child_weight=7, max_depth=5, gamma=2, colsample_bytree=0.6 \n",
      "[CV]  subsample=0.8, min_child_weight=7, max_depth=5, gamma=2, colsample_bytree=0.6, score=0.991, total=  34.4s\n",
      "[Parallel(n_jobs=1)]: Done  32 out of  32 | elapsed: 24.7min remaining:    0.0s\n",
      "[CV] subsample=0.8, min_child_weight=7, max_depth=5, gamma=2, colsample_bytree=0.6 \n",
      "[CV]  subsample=0.8, min_child_weight=7, max_depth=5, gamma=2, colsample_bytree=0.6, score=0.987, total=  33.7s\n",
      "[Parallel(n_jobs=1)]: Done  33 out of  33 | elapsed: 25.3min remaining:    0.0s\n",
      "[CV] subsample=0.8, min_child_weight=7, max_depth=5, gamma=2, colsample_bytree=0.6 \n",
      "[CV]  subsample=0.8, min_child_weight=7, max_depth=5, gamma=2, colsample_bytree=0.6, score=0.982, total=  35.0s\n",
      "[Parallel(n_jobs=1)]: Done  34 out of  34 | elapsed: 25.8min remaining:    0.0s\n",
      "[CV] subsample=0.8, min_child_weight=7, max_depth=5, gamma=2, colsample_bytree=0.6 \n",
      "[CV]  subsample=0.8, min_child_weight=7, max_depth=5, gamma=2, colsample_bytree=0.6, score=0.993, total=  31.7s\n",
      "[Parallel(n_jobs=1)]: Done  35 out of  35 | elapsed: 26.4min remaining:    0.0s\n",
      "[CV] subsample=0.8, min_child_weight=5, max_depth=6, gamma=5, colsample_bytree=0.6 \n",
      "[CV]  subsample=0.8, min_child_weight=5, max_depth=6, gamma=5, colsample_bytree=0.6, score=0.985, total=  36.8s\n",
      "[Parallel(n_jobs=1)]: Done  36 out of  36 | elapsed: 27.0min remaining:    0.0s\n",
      "[CV] subsample=0.8, min_child_weight=5, max_depth=6, gamma=5, colsample_bytree=0.6 \n",
      "[CV]  subsample=0.8, min_child_weight=5, max_depth=6, gamma=5, colsample_bytree=0.6, score=0.993, total=  38.4s\n",
      "[Parallel(n_jobs=1)]: Done  37 out of  37 | elapsed: 27.6min remaining:    0.0s\n",
      "[CV] subsample=0.8, min_child_weight=5, max_depth=6, gamma=5, colsample_bytree=0.6 \n",
      "[CV]  subsample=0.8, min_child_weight=5, max_depth=6, gamma=5, colsample_bytree=0.6, score=0.987, total=  38.4s\n",
      "[Parallel(n_jobs=1)]: Done  38 out of  38 | elapsed: 28.3min remaining:    0.0s\n",
      "[CV] subsample=0.8, min_child_weight=5, max_depth=6, gamma=5, colsample_bytree=0.6 \n",
      "[CV]  subsample=0.8, min_child_weight=5, max_depth=6, gamma=5, colsample_bytree=0.6, score=0.983, total=  39.3s\n",
      "[Parallel(n_jobs=1)]: Done  39 out of  39 | elapsed: 28.9min remaining:    0.0s\n",
      "[CV] subsample=0.8, min_child_weight=5, max_depth=6, gamma=5, colsample_bytree=0.6 \n",
      "[CV]  subsample=0.8, min_child_weight=5, max_depth=6, gamma=5, colsample_bytree=0.6, score=0.993, total=  39.4s\n",
      "[Parallel(n_jobs=1)]: Done  40 out of  40 | elapsed: 29.6min remaining:    0.0s\n",
      "[CV] subsample=0.8, min_child_weight=7, max_depth=6, gamma=5, colsample_bytree=1.0 \n",
      "[CV]  subsample=0.8, min_child_weight=7, max_depth=6, gamma=5, colsample_bytree=1.0, score=0.982, total=  53.6s\n",
      "[Parallel(n_jobs=1)]: Done  41 out of  41 | elapsed: 30.5min remaining:    0.0s\n",
      "[CV] subsample=0.8, min_child_weight=7, max_depth=6, gamma=5, colsample_bytree=1.0 \n",
      "[CV]  subsample=0.8, min_child_weight=7, max_depth=6, gamma=5, colsample_bytree=1.0, score=0.991, total=  54.9s\n",
      "[Parallel(n_jobs=1)]: Done  42 out of  42 | elapsed: 31.4min remaining:    0.0s\n",
      "[CV] subsample=0.8, min_child_weight=7, max_depth=6, gamma=5, colsample_bytree=1.0 \n",
      "[CV]  subsample=0.8, min_child_weight=7, max_depth=6, gamma=5, colsample_bytree=1.0, score=0.987, total=  53.1s\n",
      "[Parallel(n_jobs=1)]: Done  43 out of  43 | elapsed: 32.3min remaining:    0.0s\n",
      "[CV] subsample=0.8, min_child_weight=7, max_depth=6, gamma=5, colsample_bytree=1.0 \n",
      "[CV]  subsample=0.8, min_child_weight=7, max_depth=6, gamma=5, colsample_bytree=1.0, score=0.987, total=  50.7s\n",
      "[Parallel(n_jobs=1)]: Done  44 out of  44 | elapsed: 33.1min remaining:    0.0s\n",
      "[CV] subsample=0.8, min_child_weight=7, max_depth=6, gamma=5, colsample_bytree=1.0 \n",
      "[CV]  subsample=0.8, min_child_weight=7, max_depth=6, gamma=5, colsample_bytree=1.0, score=0.993, total=  51.5s\n",
      "[Parallel(n_jobs=1)]: Done  45 out of  45 | elapsed: 34.0min remaining:    0.0s\n",
      "[CV] subsample=0.8, min_child_weight=7, max_depth=4, gamma=1, colsample_bytree=0.8 \n",
      "[CV]  subsample=0.8, min_child_weight=7, max_depth=4, gamma=1, colsample_bytree=0.8, score=0.985, total=  40.7s\n",
      "[Parallel(n_jobs=1)]: Done  46 out of  46 | elapsed: 34.7min remaining:    0.0s\n",
      "[CV] subsample=0.8, min_child_weight=7, max_depth=4, gamma=1, colsample_bytree=0.8 \n",
      "[CV]  subsample=0.8, min_child_weight=7, max_depth=4, gamma=1, colsample_bytree=0.8, score=0.993, total=  39.7s\n",
      "[Parallel(n_jobs=1)]: Done  47 out of  47 | elapsed: 35.3min remaining:    0.0s\n",
      "[CV] subsample=0.8, min_child_weight=7, max_depth=4, gamma=1, colsample_bytree=0.8 \n",
      "[CV]  subsample=0.8, min_child_weight=7, max_depth=4, gamma=1, colsample_bytree=0.8, score=0.987, total=  40.4s\n",
      "[Parallel(n_jobs=1)]: Done  48 out of  48 | elapsed: 36.0min remaining:    0.0s\n",
      "[CV] subsample=0.8, min_child_weight=7, max_depth=4, gamma=1, colsample_bytree=0.8 \n",
      "[CV]  subsample=0.8, min_child_weight=7, max_depth=4, gamma=1, colsample_bytree=0.8, score=0.983, total=  42.2s\n",
      "[Parallel(n_jobs=1)]: Done  49 out of  49 | elapsed: 36.7min remaining:    0.0s\n",
      "[CV] subsample=0.8, min_child_weight=7, max_depth=4, gamma=1, colsample_bytree=0.8 \n",
      "[CV]  subsample=0.8, min_child_weight=7, max_depth=4, gamma=1, colsample_bytree=0.8, score=0.993, total=  40.6s\n",
      "[Parallel(n_jobs=1)]: Done  50 out of  50 | elapsed: 37.4min remaining:    0.0s\n",
      "[Parallel(n_jobs=1)]: Done  50 out of  50 | elapsed: 37.4min finished\n"
     ]
    }
   ],
   "source": [
    "best_xgb = RandomizedSearchCV(xgb, xgb_parameters, n_iter=10, cv=5, random_state=seed, verbose=100, scoring=\"recall\")\n",
    "xgb_start = time.time()\n",
    "best_xgb.fit(X_train, y_train)\n",
    "xgb_end = time.time()\n",
    "xgb_time_taken = (xgb_end-xgb_start)/50"
   ]
  },
  {
   "cell_type": "code",
   "execution_count": 118,
   "metadata": {},
   "outputs": [
    {
     "name": "stdout",
     "output_type": "stream",
     "text": [
      "46.580467767715454\n"
     ]
    }
   ],
   "source": [
    "print(xgb_time_taken)"
   ]
  },
  {
   "cell_type": "code",
   "execution_count": 119,
   "metadata": {},
   "outputs": [],
   "source": [
    "time_taken.append(xgb_time_taken)"
   ]
  },
  {
   "cell_type": "code",
   "execution_count": 120,
   "metadata": {},
   "outputs": [
    {
     "data": {
      "text/plain": [
       "{'subsample': 0.6,\n",
       " 'min_child_weight': 1,\n",
       " 'max_depth': 6,\n",
       " 'gamma': 0.5,\n",
       " 'colsample_bytree': 0.8}"
      ]
     },
     "execution_count": 120,
     "metadata": {},
     "output_type": "execute_result"
    }
   ],
   "source": [
    "best_xgb.best_params_"
   ]
  },
  {
   "cell_type": "raw",
   "metadata": {},
   "source": [
    "xgb_y_pred = best_xgb.predict(X_val)"
   ]
  },
  {
   "cell_type": "raw",
   "metadata": {},
   "source": [
    "print(classification_report(y_val, xgb_y_pred))"
   ]
  },
  {
   "cell_type": "code",
   "execution_count": 121,
   "metadata": {},
   "outputs": [],
   "source": [
    "xgb_pickle = \"sqli_xgb_pickle.sav\"\n",
    "pickle.dump(best_xgb, open(xgb_pickle, \"wb\"))"
   ]
  },
  {
   "cell_type": "raw",
   "metadata": {},
   "source": [
    "xgb_recall = recall_score(y_val, xgb_y_pred)"
   ]
  },
  {
   "cell_type": "code",
   "execution_count": 122,
   "metadata": {},
   "outputs": [],
   "source": [
    "xgb_recall = best_xgb.best_score_"
   ]
  },
  {
   "cell_type": "code",
   "execution_count": 123,
   "metadata": {},
   "outputs": [
    {
     "data": {
      "text/plain": [
       "0.9911554640408282"
      ]
     },
     "execution_count": 123,
     "metadata": {},
     "output_type": "execute_result"
    }
   ],
   "source": [
    "xgb_recall"
   ]
  },
  {
   "cell_type": "code",
   "execution_count": 124,
   "metadata": {},
   "outputs": [],
   "source": [
    "train_recall_score.append(xgb_recall)"
   ]
  },
  {
   "cell_type": "code",
   "execution_count": 125,
   "metadata": {},
   "outputs": [
    {
     "data": {
      "text/plain": [
       "[0.990418815790368,\n",
       " 0.9911554640408282,\n",
       " 0.9904174566607544,\n",
       " 0.9841525487078074,\n",
       " 0.9554137530325579,\n",
       " 0.9970513683037382,\n",
       " 0.9929984437965927,\n",
       " 0.9911554640408282]"
      ]
     },
     "execution_count": 125,
     "metadata": {},
     "output_type": "execute_result"
    }
   ],
   "source": [
    "train_recall_score"
   ]
  },
  {
   "cell_type": "markdown",
   "metadata": {},
   "source": [
    "# Load in test data"
   ]
  },
  {
   "cell_type": "code",
   "execution_count": 126,
   "metadata": {},
   "outputs": [],
   "source": [
    "# UTF-16 as some characters can't be read with UTF-8\n",
    "test_df = pd.read_csv(\"SQLi/SQLi_test.csv\", encoding=\"UTF-16\")"
   ]
  },
  {
   "cell_type": "code",
   "execution_count": 127,
   "metadata": {},
   "outputs": [
    {
     "data": {
      "text/html": [
       "<div>\n",
       "<style scoped>\n",
       "    .dataframe tbody tr th:only-of-type {\n",
       "        vertical-align: middle;\n",
       "    }\n",
       "\n",
       "    .dataframe tbody tr th {\n",
       "        vertical-align: top;\n",
       "    }\n",
       "\n",
       "    .dataframe thead th {\n",
       "        text-align: right;\n",
       "    }\n",
       "</style>\n",
       "<table border=\"1\" class=\"dataframe\">\n",
       "  <thead>\n",
       "    <tr style=\"text-align: right;\">\n",
       "      <th></th>\n",
       "      <th>Sentence</th>\n",
       "      <th>Label</th>\n",
       "    </tr>\n",
       "  </thead>\n",
       "  <tbody>\n",
       "    <tr>\n",
       "      <th>0</th>\n",
       "      <td>a</td>\n",
       "      <td>1</td>\n",
       "    </tr>\n",
       "    <tr>\n",
       "      <th>1</th>\n",
       "      <td>a'</td>\n",
       "      <td>1</td>\n",
       "    </tr>\n",
       "    <tr>\n",
       "      <th>2</th>\n",
       "      <td>a' --</td>\n",
       "      <td>1</td>\n",
       "    </tr>\n",
       "    <tr>\n",
       "      <th>3</th>\n",
       "      <td>a' or 1 = 1; --</td>\n",
       "      <td>1</td>\n",
       "    </tr>\n",
       "    <tr>\n",
       "      <th>4</th>\n",
       "      <td>@</td>\n",
       "      <td>1</td>\n",
       "    </tr>\n",
       "  </tbody>\n",
       "</table>\n",
       "</div>"
      ],
      "text/plain": [
       "          Sentence  Label\n",
       "0                a      1\n",
       "1              a'       1\n",
       "2            a' --      1\n",
       "3  a' or 1 = 1; --      1\n",
       "4                @      1"
      ]
     },
     "execution_count": 127,
     "metadata": {},
     "output_type": "execute_result"
    }
   ],
   "source": [
    "# Quick inspection\n",
    "test_df.head()"
   ]
  },
  {
   "cell_type": "code",
   "execution_count": 128,
   "metadata": {},
   "outputs": [
    {
     "name": "stdout",
     "output_type": "stream",
     "text": [
      "<class 'pandas.core.frame.DataFrame'>\n",
      "RangeIndex: 4200 entries, 0 to 4199\n",
      "Data columns (total 2 columns):\n",
      " #   Column    Non-Null Count  Dtype \n",
      "---  ------    --------------  ----- \n",
      " 0   Sentence  4187 non-null   object\n",
      " 1   Label     4200 non-null   int64 \n",
      "dtypes: int64(1), object(1)\n",
      "memory usage: 65.8+ KB\n"
     ]
    }
   ],
   "source": [
    "test_df.info()"
   ]
  },
  {
   "cell_type": "code",
   "execution_count": 129,
   "metadata": {},
   "outputs": [
    {
     "name": "stdout",
     "output_type": "stream",
     "text": [
      "Sentence    13\n",
      "Label        0\n",
      "dtype: int64\n"
     ]
    },
    {
     "data": {
      "text/html": [
       "<div>\n",
       "<style scoped>\n",
       "    .dataframe tbody tr th:only-of-type {\n",
       "        vertical-align: middle;\n",
       "    }\n",
       "\n",
       "    .dataframe tbody tr th {\n",
       "        vertical-align: top;\n",
       "    }\n",
       "\n",
       "    .dataframe thead th {\n",
       "        text-align: right;\n",
       "    }\n",
       "</style>\n",
       "<table border=\"1\" class=\"dataframe\">\n",
       "  <thead>\n",
       "    <tr style=\"text-align: right;\">\n",
       "      <th></th>\n",
       "      <th>Sentence</th>\n",
       "      <th>Label</th>\n",
       "    </tr>\n",
       "  </thead>\n",
       "  <tbody>\n",
       "    <tr>\n",
       "      <th>1127</th>\n",
       "      <td>NaN</td>\n",
       "      <td>1</td>\n",
       "    </tr>\n",
       "    <tr>\n",
       "      <th>1531</th>\n",
       "      <td>NaN</td>\n",
       "      <td>0</td>\n",
       "    </tr>\n",
       "    <tr>\n",
       "      <th>1532</th>\n",
       "      <td>NaN</td>\n",
       "      <td>0</td>\n",
       "    </tr>\n",
       "    <tr>\n",
       "      <th>2314</th>\n",
       "      <td>NaN</td>\n",
       "      <td>0</td>\n",
       "    </tr>\n",
       "    <tr>\n",
       "      <th>2315</th>\n",
       "      <td>NaN</td>\n",
       "      <td>0</td>\n",
       "    </tr>\n",
       "    <tr>\n",
       "      <th>3034</th>\n",
       "      <td>NaN</td>\n",
       "      <td>0</td>\n",
       "    </tr>\n",
       "    <tr>\n",
       "      <th>3288</th>\n",
       "      <td>NaN</td>\n",
       "      <td>0</td>\n",
       "    </tr>\n",
       "    <tr>\n",
       "      <th>3289</th>\n",
       "      <td>NaN</td>\n",
       "      <td>0</td>\n",
       "    </tr>\n",
       "    <tr>\n",
       "      <th>3328</th>\n",
       "      <td>NaN</td>\n",
       "      <td>0</td>\n",
       "    </tr>\n",
       "    <tr>\n",
       "      <th>3329</th>\n",
       "      <td>NaN</td>\n",
       "      <td>0</td>\n",
       "    </tr>\n",
       "    <tr>\n",
       "      <th>3945</th>\n",
       "      <td>NaN</td>\n",
       "      <td>0</td>\n",
       "    </tr>\n",
       "    <tr>\n",
       "      <th>3946</th>\n",
       "      <td>NaN</td>\n",
       "      <td>0</td>\n",
       "    </tr>\n",
       "    <tr>\n",
       "      <th>4169</th>\n",
       "      <td>NaN</td>\n",
       "      <td>0</td>\n",
       "    </tr>\n",
       "  </tbody>\n",
       "</table>\n",
       "</div>"
      ],
      "text/plain": [
       "     Sentence  Label\n",
       "1127      NaN      1\n",
       "1531      NaN      0\n",
       "1532      NaN      0\n",
       "2314      NaN      0\n",
       "2315      NaN      0\n",
       "3034      NaN      0\n",
       "3288      NaN      0\n",
       "3289      NaN      0\n",
       "3328      NaN      0\n",
       "3329      NaN      0\n",
       "3945      NaN      0\n",
       "3946      NaN      0\n",
       "4169      NaN      0"
      ]
     },
     "execution_count": 129,
     "metadata": {},
     "output_type": "execute_result"
    }
   ],
   "source": [
    "# showing missing values\n",
    "print(test_df.isna().sum())\n",
    "test_df[test_df.isna().any(axis=1)]"
   ]
  },
  {
   "cell_type": "code",
   "execution_count": 130,
   "metadata": {},
   "outputs": [],
   "source": [
    "# Remove missing values\n",
    "\n",
    "test_df.dropna(axis=0, inplace=True)"
   ]
  },
  {
   "cell_type": "code",
   "execution_count": 131,
   "metadata": {},
   "outputs": [
    {
     "data": {
      "text/plain": [
       "<matplotlib.axes._subplots.AxesSubplot at 0x2db723bf460>"
      ]
     },
     "execution_count": 131,
     "metadata": {},
     "output_type": "execute_result"
    },
    {
     "data": {
      "image/png": "[encoded data removed]",
      "text/plain": [
       "<Figure size 432x288 with 1 Axes>"
      ]
     },
     "metadata": {
      "needs_background": "light"
     },
     "output_type": "display_data"
    }
   ],
   "source": [
    "# Dataset is more inbalanced\n",
    "sns.countplot(test_df[\"Label\"]==1)"
   ]
  },
  {
   "cell_type": "code",
   "execution_count": 132,
   "metadata": {},
   "outputs": [
    {
     "data": {
      "text/plain": [
       "0.2691664676379269"
      ]
     },
     "execution_count": 132,
     "metadata": {},
     "output_type": "execute_result"
    }
   ],
   "source": [
    "# Different allocation of label values\n",
    "(test_df[\"Label\"] == 1).sum() / len(test_df[\"Label\"])"
   ]
  },
  {
   "cell_type": "code",
   "execution_count": 133,
   "metadata": {},
   "outputs": [
    {
     "data": {
      "text/plain": [
       "0       1\n",
       "1       1\n",
       "2       1\n",
       "3       1\n",
       "4       1\n",
       "       ..\n",
       "4195    0\n",
       "4196    0\n",
       "4197    0\n",
       "4198    0\n",
       "4199    0\n",
       "Name: Label, Length: 4187, dtype: int64"
      ]
     },
     "execution_count": 133,
     "metadata": {},
     "output_type": "execute_result"
    }
   ],
   "source": [
    "test_df[\"Label\"]"
   ]
  },
  {
   "cell_type": "code",
   "execution_count": 134,
   "metadata": {},
   "outputs": [],
   "source": [
    "test_df = test_df.groupby('Label').apply(pd.DataFrame.sample, frac=0.47766).reset_index(drop=True)"
   ]
  },
  {
   "cell_type": "code",
   "execution_count": 135,
   "metadata": {},
   "outputs": [],
   "source": [
    "test_df[\"Sentence\"] = test_df[\"Sentence\"].apply(tokenizer)"
   ]
  },
  {
   "cell_type": "code",
   "execution_count": 136,
   "metadata": {},
   "outputs": [
    {
     "data": {
      "text/plain": [
       "0.269"
      ]
     },
     "execution_count": 136,
     "metadata": {},
     "output_type": "execute_result"
    }
   ],
   "source": [
    "# Still preserves the same ratio of values\n",
    "(test_df[\"Label\"] == 1).sum() / len(test_df[\"Label\"])"
   ]
  },
  {
   "cell_type": "code",
   "execution_count": 137,
   "metadata": {},
   "outputs": [],
   "source": [
    "# Vectorize with the same CountVectorizer (important)\n",
    "\n",
    "test_count_vect = cv.transform((test_df[\"Sentence\"]))"
   ]
  },
  {
   "cell_type": "code",
   "execution_count": 138,
   "metadata": {},
   "outputs": [],
   "source": [
    "X_test = pd.DataFrame(test_count_vect.toarray())"
   ]
  },
  {
   "cell_type": "code",
   "execution_count": 139,
   "metadata": {},
   "outputs": [],
   "source": [
    "y_test = test_df[\"Label\"]"
   ]
  },
  {
   "cell_type": "code",
   "execution_count": 140,
   "metadata": {},
   "outputs": [
    {
     "data": {
      "text/plain": [
       "[3.1711742210388185,\n",
       " 113.4709722185135,\n",
       " 657.6228152370453,\n",
       " 16.69295042037964,\n",
       " 172.78027426719666,\n",
       " 2.29656822681427,\n",
       " 160.35192840099336,\n",
       " 46.580467767715454]"
      ]
     },
     "execution_count": 140,
     "metadata": {},
     "output_type": "execute_result"
    }
   ],
   "source": [
    "time_taken"
   ]
  },
  {
   "cell_type": "code",
   "execution_count": 141,
   "metadata": {},
   "outputs": [
    {
     "data": {
      "text/plain": [
       "[0.990418815790368,\n",
       " 0.9911554640408282,\n",
       " 0.9904174566607544,\n",
       " 0.9841525487078074,\n",
       " 0.9554137530325579,\n",
       " 0.9970513683037382,\n",
       " 0.9929984437965927,\n",
       " 0.9911554640408282]"
      ]
     },
     "execution_count": 141,
     "metadata": {},
     "output_type": "execute_result"
    }
   ],
   "source": [
    "train_recall_score"
   ]
  },
  {
   "cell_type": "code",
   "execution_count": 142,
   "metadata": {},
   "outputs": [],
   "source": [
    "test_recall_scores = []\n",
    "prediction_time = []"
   ]
  },
  {
   "cell_type": "code",
   "execution_count": 143,
   "metadata": {},
   "outputs": [],
   "source": [
    "classifiers = [best_dt, best_rf, best_svc, best_lr, best_knn, best_nb, best_nn, best_xgb]"
   ]
  },
  {
   "cell_type": "code",
   "execution_count": 144,
   "metadata": {},
   "outputs": [],
   "source": [
    "for i in classifiers:\n",
    "    start = time.time()\n",
    "    y_test_pred = i.predict(X_test)\n",
    "    end = time.time()\n",
    "    prediction_time.append(end-start)\n",
    "    test_recall_score = recall_score(y_test, y_test_pred)\n",
    "    test_recall_scores.append(test_recall_score)"
   ]
  },
  {
   "cell_type": "code",
   "execution_count": 145,
   "metadata": {},
   "outputs": [
    {
     "data": {
      "text/plain": [
       "[0.8587360594795539,\n",
       " 0.8401486988847584,\n",
       " 0.8996282527881041,\n",
       " 0.8011152416356877,\n",
       " 0.929368029739777,\n",
       " 0.9200743494423792,\n",
       " 0.8866171003717472,\n",
       " 0.8438661710037175]"
      ]
     },
     "execution_count": 145,
     "metadata": {},
     "output_type": "execute_result"
    }
   ],
   "source": [
    "test_recall_scores"
   ]
  },
  {
   "cell_type": "code",
   "execution_count": 146,
   "metadata": {},
   "outputs": [],
   "source": [
    "results =   {\"Algorithm\": [\"Decision Tree\", \"Random Forest\", \"Support Vector Machine\", \"Logistic Regression\",\n",
    "                               \"K Nearest Neighbours\", \"Naive Bayes\", \"Neural Network\", \"XGBoost\"],\n",
    "        \"Training/Validation Recall\": train_recall_score,\n",
    "        \"Testing Recall\": test_recall_scores\n",
    "       }\n",
    "  \n",
    "\n"
   ]
  },
  {
   "cell_type": "code",
   "execution_count": 147,
   "metadata": {},
   "outputs": [
    {
     "data": {
      "text/plain": [
       "[0.18849539756774902,\n",
       " 0.15658283233642578,\n",
       " 125.46018052101135,\n",
       " 0.13866209983825684,\n",
       " 277.67199659347534,\n",
       " 0.21941375732421875,\n",
       " 0.19245028495788574,\n",
       " 0.6941430568695068]"
      ]
     },
     "execution_count": 147,
     "metadata": {},
     "output_type": "execute_result"
    }
   ],
   "source": [
    "prediction_time"
   ]
  },
  {
   "cell_type": "code",
   "execution_count": 148,
   "metadata": {},
   "outputs": [
    {
     "data": {
      "text/plain": [
       "[3.1711742210388185,\n",
       " 113.4709722185135,\n",
       " 657.6228152370453,\n",
       " 16.69295042037964,\n",
       " 172.78027426719666,\n",
       " 2.29656822681427,\n",
       " 160.35192840099336,\n",
       " 46.580467767715454]"
      ]
     },
     "execution_count": 148,
     "metadata": {},
     "output_type": "execute_result"
    }
   ],
   "source": [
    "time_taken"
   ]
  },
  {
   "cell_type": "code",
   "execution_count": 149,
   "metadata": {},
   "outputs": [],
   "source": [
    "times = {\"Algorithm\": [\"Decision Tree\", \"Random Forest\", \"Support Vector Machine\", \"Logistic Regression\",\n",
    "                               \"K Nearest Neighbours\", \"Naive Bayes\", \"Neural Network\", \"XGBoost\"],\n",
    "         \n",
    "         \"Average training time\" : time_taken,\n",
    "         \"Prediction time\": prediction_time\n",
    "            \n",
    "\n",
    "       \n",
    "}"
   ]
  },
  {
   "cell_type": "code",
   "execution_count": 150,
   "metadata": {},
   "outputs": [],
   "source": [
    "results_df = pd.DataFrame(results)"
   ]
  },
  {
   "cell_type": "code",
   "execution_count": 151,
   "metadata": {},
   "outputs": [
    {
     "data": {
      "text/html": [
       "<div>\n",
       "<style scoped>\n",
       "    .dataframe tbody tr th:only-of-type {\n",
       "        vertical-align: middle;\n",
       "    }\n",
       "\n",
       "    .dataframe tbody tr th {\n",
       "        vertical-align: top;\n",
       "    }\n",
       "\n",
       "    .dataframe thead th {\n",
       "        text-align: right;\n",
       "    }\n",
       "</style>\n",
       "<table border=\"1\" class=\"dataframe\">\n",
       "  <thead>\n",
       "    <tr style=\"text-align: right;\">\n",
       "      <th></th>\n",
       "      <th>Algorithm</th>\n",
       "      <th>Training/Validation Recall</th>\n",
       "      <th>Testing Recall</th>\n",
       "    </tr>\n",
       "  </thead>\n",
       "  <tbody>\n",
       "    <tr>\n",
       "      <th>0</th>\n",
       "      <td>Decision Tree</td>\n",
       "      <td>0.99</td>\n",
       "      <td>0.86</td>\n",
       "    </tr>\n",
       "    <tr>\n",
       "      <th>1</th>\n",
       "      <td>Random Forest</td>\n",
       "      <td>0.99</td>\n",
       "      <td>0.84</td>\n",
       "    </tr>\n",
       "    <tr>\n",
       "      <th>2</th>\n",
       "      <td>Support Vector Machine</td>\n",
       "      <td>0.99</td>\n",
       "      <td>0.90</td>\n",
       "    </tr>\n",
       "    <tr>\n",
       "      <th>3</th>\n",
       "      <td>Logistic Regression</td>\n",
       "      <td>0.98</td>\n",
       "      <td>0.80</td>\n",
       "    </tr>\n",
       "    <tr>\n",
       "      <th>4</th>\n",
       "      <td>K Nearest Neighbours</td>\n",
       "      <td>0.96</td>\n",
       "      <td>0.93</td>\n",
       "    </tr>\n",
       "    <tr>\n",
       "      <th>5</th>\n",
       "      <td>Naive Bayes</td>\n",
       "      <td>1.00</td>\n",
       "      <td>0.92</td>\n",
       "    </tr>\n",
       "    <tr>\n",
       "      <th>6</th>\n",
       "      <td>Neural Network</td>\n",
       "      <td>0.99</td>\n",
       "      <td>0.89</td>\n",
       "    </tr>\n",
       "    <tr>\n",
       "      <th>7</th>\n",
       "      <td>XGBoost</td>\n",
       "      <td>0.99</td>\n",
       "      <td>0.84</td>\n",
       "    </tr>\n",
       "  </tbody>\n",
       "</table>\n",
       "</div>"
      ],
      "text/plain": [
       "                Algorithm  Training/Validation Recall  Testing Recall\n",
       "0           Decision Tree                        0.99            0.86\n",
       "1           Random Forest                        0.99            0.84\n",
       "2  Support Vector Machine                        0.99            0.90\n",
       "3     Logistic Regression                        0.98            0.80\n",
       "4    K Nearest Neighbours                        0.96            0.93\n",
       "5             Naive Bayes                        1.00            0.92\n",
       "6          Neural Network                        0.99            0.89\n",
       "7                 XGBoost                        0.99            0.84"
      ]
     },
     "execution_count": 151,
     "metadata": {},
     "output_type": "execute_result"
    }
   ],
   "source": [
    "results_df"
   ]
  },
  {
   "cell_type": "code",
   "execution_count": 152,
   "metadata": {},
   "outputs": [],
   "source": [
    "results_df.to_pickle(\"SQLi Results Pickle\")"
   ]
  },
  {
   "cell_type": "code",
   "execution_count": 153,
   "metadata": {},
   "outputs": [],
   "source": [
    "results_df.sort_values(by=\"Training/Validation Recall\", inplace=True)"
   ]
  },
  {
   "cell_type": "code",
   "execution_count": 154,
   "metadata": {},
   "outputs": [
    {
     "data": {
      "text/plain": [
       "<matplotlib.axes._subplots.AxesSubplot at 0x2dbc4af1640>"
      ]
     },
     "execution_count": 154,
     "metadata": {},
     "output_type": "execute_result"
    },
    {
     "data": {
      "image/png": "[encoded data removed]",
      "text/plain": [
       "<Figure size 648x576 with 1 Axes>"
      ]
     },
     "metadata": {
      "needs_background": "light"
     },
     "output_type": "display_data"
    }
   ],
   "source": [
    "results_df.plot(x=\"Algorithm\", y=[\"Training/Validation Recall\", \"Testing Recall\"], kind=\"bar\", figsize=(9,8))"
   ]
  },
  {
   "cell_type": "code",
   "execution_count": 155,
   "metadata": {},
   "outputs": [],
   "source": [
    "results_df.sort_values(by=\"Testing Recall\", inplace=True)"
   ]
  },
  {
   "cell_type": "code",
   "execution_count": 156,
   "metadata": {},
   "outputs": [
    {
     "data": {
      "text/plain": [
       "<matplotlib.axes._subplots.AxesSubplot at 0x2db72c2e640>"
      ]
     },
     "execution_count": 156,
     "metadata": {},
     "output_type": "execute_result"
    },
    {
     "data": {
      "image/png": "[encoded data removed]",
      "text/plain": [
       "<Figure size 648x576 with 1 Axes>"
      ]
     },
     "metadata": {
      "needs_background": "light"
     },
     "output_type": "display_data"
    }
   ],
   "source": [
    "results_df.plot(x=\"Algorithm\", y=[\"Training/Validation Recall\", \"Testing Recall\"], kind=\"bar\", figsize=(9,8))"
   ]
  },
  {
   "cell_type": "code",
   "execution_count": 157,
   "metadata": {},
   "outputs": [],
   "source": [
    "time_df = pd.DataFrame(times)"
   ]
  },
  {
   "cell_type": "code",
   "execution_count": 158,
   "metadata": {},
   "outputs": [
    {
     "data": {
      "text/html": [
       "<div>\n",
       "<style scoped>\n",
       "    .dataframe tbody tr th:only-of-type {\n",
       "        vertical-align: middle;\n",
       "    }\n",
       "\n",
       "    .dataframe tbody tr th {\n",
       "        vertical-align: top;\n",
       "    }\n",
       "\n",
       "    .dataframe thead th {\n",
       "        text-align: right;\n",
       "    }\n",
       "</style>\n",
       "<table border=\"1\" class=\"dataframe\">\n",
       "  <thead>\n",
       "    <tr style=\"text-align: right;\">\n",
       "      <th></th>\n",
       "      <th>Algorithm</th>\n",
       "      <th>Average training time</th>\n",
       "      <th>Prediction time</th>\n",
       "    </tr>\n",
       "  </thead>\n",
       "  <tbody>\n",
       "    <tr>\n",
       "      <th>0</th>\n",
       "      <td>Decision Tree</td>\n",
       "      <td>3.17</td>\n",
       "      <td>0.19</td>\n",
       "    </tr>\n",
       "    <tr>\n",
       "      <th>1</th>\n",
       "      <td>Random Forest</td>\n",
       "      <td>113.47</td>\n",
       "      <td>0.16</td>\n",
       "    </tr>\n",
       "    <tr>\n",
       "      <th>2</th>\n",
       "      <td>Support Vector Machine</td>\n",
       "      <td>657.62</td>\n",
       "      <td>125.46</td>\n",
       "    </tr>\n",
       "    <tr>\n",
       "      <th>3</th>\n",
       "      <td>Logistic Regression</td>\n",
       "      <td>16.69</td>\n",
       "      <td>0.14</td>\n",
       "    </tr>\n",
       "    <tr>\n",
       "      <th>4</th>\n",
       "      <td>K Nearest Neighbours</td>\n",
       "      <td>172.78</td>\n",
       "      <td>277.67</td>\n",
       "    </tr>\n",
       "    <tr>\n",
       "      <th>5</th>\n",
       "      <td>Naive Bayes</td>\n",
       "      <td>2.30</td>\n",
       "      <td>0.22</td>\n",
       "    </tr>\n",
       "    <tr>\n",
       "      <th>6</th>\n",
       "      <td>Neural Network</td>\n",
       "      <td>160.35</td>\n",
       "      <td>0.19</td>\n",
       "    </tr>\n",
       "    <tr>\n",
       "      <th>7</th>\n",
       "      <td>XGBoost</td>\n",
       "      <td>46.58</td>\n",
       "      <td>0.69</td>\n",
       "    </tr>\n",
       "  </tbody>\n",
       "</table>\n",
       "</div>"
      ],
      "text/plain": [
       "                Algorithm  Average training time  Prediction time\n",
       "0           Decision Tree                   3.17             0.19\n",
       "1           Random Forest                 113.47             0.16\n",
       "2  Support Vector Machine                 657.62           125.46\n",
       "3     Logistic Regression                  16.69             0.14\n",
       "4    K Nearest Neighbours                 172.78           277.67\n",
       "5             Naive Bayes                   2.30             0.22\n",
       "6          Neural Network                 160.35             0.19\n",
       "7                 XGBoost                  46.58             0.69"
      ]
     },
     "execution_count": 158,
     "metadata": {},
     "output_type": "execute_result"
    }
   ],
   "source": [
    "time_df"
   ]
  },
  {
   "cell_type": "code",
   "execution_count": 159,
   "metadata": {},
   "outputs": [],
   "source": [
    "time_df.to_pickle(\"SQLi Time Pickle\")"
   ]
  },
  {
   "cell_type": "code",
   "execution_count": 160,
   "metadata": {},
   "outputs": [],
   "source": [
    "time_df.sort_values(by=\"Prediction time\", inplace=True)"
   ]
  },
  {
   "cell_type": "code",
   "execution_count": 161,
   "metadata": {},
   "outputs": [
    {
     "data": {
      "text/plain": [
       "<matplotlib.axes._subplots.AxesSubplot at 0x2dbc4b74790>"
      ]
     },
     "execution_count": 161,
     "metadata": {},
     "output_type": "execute_result"
    },
    {
     "data": {
      "image/png": "[encoded data removed]",
      "text/plain": [
       "<Figure size 648x576 with 1 Axes>"
      ]
     },
     "metadata": {
      "needs_background": "light"
     },
     "output_type": "display_data"
    }
   ],
   "source": [
    "time_df.plot(x=\"Algorithm\", y=[\"Average training time\", \"Prediction time\"], kind=\"bar\", figsize=(9,8), logy=True)"
   ]
  },
  {
   "cell_type": "markdown",
   "metadata": {},
   "source": [
    "# Can view the incorrect predictions made by the best model"
   ]
  },
  {
   "cell_type": "code",
   "execution_count": 162,
   "metadata": {},
   "outputs": [
    {
     "data": {
      "text/plain": [
       "{'fit_prior': False, 'class_prior': None, 'alpha': 10}"
      ]
     },
     "execution_count": 162,
     "metadata": {},
     "output_type": "execute_result"
    }
   ],
   "source": [
    "best_nb.best_params_"
   ]
  },
  {
   "cell_type": "code",
   "execution_count": 1,
   "metadata": {},
   "outputs": [
    {
     "ename": "NameError",
     "evalue": "name 'plot_confusion_matrix' is not defined",
     "output_type": "error",
     "traceback": [
      "\u001b[1;31m---------------------------------------------------------------------------\u001b[0m",
      "\u001b[1;31mNameError\u001b[0m                                 Traceback (most recent call last)",
      "\u001b[1;32m<ipython-input-1-a1a8f12bf130>\u001b[0m in \u001b[0;36m<module>\u001b[1;34m\u001b[0m\n\u001b[1;32m----> 1\u001b[1;33m \u001b[0mplot_confusion_matrix\u001b[0m\u001b[1;33m(\u001b[0m\u001b[0mbest_knn\u001b[0m\u001b[1;33m,\u001b[0m \u001b[0mX_test\u001b[0m\u001b[1;33m,\u001b[0m \u001b[0my_test\u001b[0m\u001b[1;33m)\u001b[0m\u001b[1;33m\u001b[0m\u001b[1;33m\u001b[0m\u001b[0m\n\u001b[0m",
      "\u001b[1;31mNameError\u001b[0m: name 'plot_confusion_matrix' is not defined"
     ]
    }
   ],
   "source": [
    "plot_confusion_matrix(best_knn, X_test, y_test)"
   ]
  },
  {
   "cell_type": "code",
   "execution_count": 164,
   "metadata": {},
   "outputs": [],
   "source": [
    "nb_y_test_pred = best_nb.predict(X_test)"
   ]
  },
  {
   "cell_type": "code",
   "execution_count": 165,
   "metadata": {},
   "outputs": [],
   "source": [
    "indices = [i for i in range(len(y_test)) if y_test[i] != nb_y_test_pred[i]]"
   ]
  },
  {
   "cell_type": "code",
   "execution_count": 166,
   "metadata": {},
   "outputs": [
    {
     "data": {
      "text/plain": [
       "array([0, 0, 0, ..., 1, 1, 1], dtype=int64)"
      ]
     },
     "execution_count": 166,
     "metadata": {},
     "output_type": "execute_result"
    }
   ],
   "source": [
    "nb_y_test_pred"
   ]
  },
  {
   "cell_type": "code",
   "execution_count": 167,
   "metadata": {},
   "outputs": [
    {
     "data": {
      "text/plain": [
       "0       0\n",
       "1       0\n",
       "2       0\n",
       "3       0\n",
       "4       0\n",
       "       ..\n",
       "1995    1\n",
       "1996    1\n",
       "1997    1\n",
       "1998    1\n",
       "1999    1\n",
       "Name: Label, Length: 2000, dtype: int64"
      ]
     },
     "execution_count": 167,
     "metadata": {},
     "output_type": "execute_result"
    }
   ],
   "source": [
    "y_test"
   ]
  },
  {
   "cell_type": "code",
   "execution_count": 168,
   "metadata": {},
   "outputs": [],
   "source": [
    "wrong_predictions = test_df.iloc[indices,:]"
   ]
  },
  {
   "cell_type": "code",
   "execution_count": 169,
   "metadata": {},
   "outputs": [
    {
     "data": {
      "text/html": [
       "<div>\n",
       "<style scoped>\n",
       "    .dataframe tbody tr th:only-of-type {\n",
       "        vertical-align: middle;\n",
       "    }\n",
       "\n",
       "    .dataframe tbody tr th {\n",
       "        vertical-align: top;\n",
       "    }\n",
       "\n",
       "    .dataframe thead th {\n",
       "        text-align: right;\n",
       "    }\n",
       "</style>\n",
       "<table border=\"1\" class=\"dataframe\">\n",
       "  <thead>\n",
       "    <tr style=\"text-align: right;\">\n",
       "      <th></th>\n",
       "      <th>Sentence</th>\n",
       "      <th>Label</th>\n",
       "    </tr>\n",
       "  </thead>\n",
       "  <tbody>\n",
       "    <tr>\n",
       "      <th>4</th>\n",
       "      <td>only goalkeeper  ,  roman weidenfeller  ,  fi...</td>\n",
       "      <td>0</td>\n",
       "    </tr>\n",
       "    <tr>\n",
       "      <th>6</th>\n",
       "      <td>they intersex  ,  part group 60 conditions fa...</td>\n",
       "      <td>0</td>\n",
       "    </tr>\n",
       "    <tr>\n",
       "      <th>9</th>\n",
       "      <td>and men ,  must accept highest mind transcend...</td>\n",
       "      <td>0</td>\n",
       "    </tr>\n",
       "    <tr>\n",
       "      <th>15</th>\n",
       "      <td>uk new2 4 1  *   *  *   *  *  *   *  *  *  *  ...</td>\n",
       "      <td>0</td>\n",
       "    </tr>\n",
       "    <tr>\n",
       "      <th>25</th>\n",
       "      <td>1 million barrels last week</td>\n",
       "      <td>0</td>\n",
       "    </tr>\n",
       "    <tr>\n",
       "      <th>...</th>\n",
       "      <td>...</td>\n",
       "      <td>...</td>\n",
       "    </tr>\n",
       "    <tr>\n",
       "      <th>1945</th>\n",
       "      <td>insert</td>\n",
       "      <td>1</td>\n",
       "    </tr>\n",
       "    <tr>\n",
       "      <th>1952</th>\n",
       "      <td>,  @ variable</td>\n",
       "      <td>1</td>\n",
       "    </tr>\n",
       "    <tr>\n",
       "      <th>1958</th>\n",
       "      <td>031003000270000</td>\n",
       "      <td>1</td>\n",
       "    </tr>\n",
       "    <tr>\n",
       "      <th>1963</th>\n",
       "      <td>uef</td>\n",
       "      <td>1</td>\n",
       "    </tr>\n",
       "    <tr>\n",
       "      <th>1970</th>\n",
       "      <td>sqlvuln</td>\n",
       "      <td>1</td>\n",
       "    </tr>\n",
       "  </tbody>\n",
       "</table>\n",
       "<p>160 rows × 2 columns</p>\n",
       "</div>"
      ],
      "text/plain": [
       "                                               Sentence  Label\n",
       "4      only goalkeeper  ,  roman weidenfeller  ,  fi...      0\n",
       "6      they intersex  ,  part group 60 conditions fa...      0\n",
       "9      and men ,  must accept highest mind transcend...      0\n",
       "15    uk new2 4 1  *   *  *   *  *  *   *  *  *  *  ...      0\n",
       "25                         1 million barrels last week       0\n",
       "...                                                 ...    ...\n",
       "1945                                             insert      1\n",
       "1952                                      ,  @ variable      1\n",
       "1958                                    031003000270000      1\n",
       "1963                                                uef      1\n",
       "1970                                            sqlvuln      1\n",
       "\n",
       "[160 rows x 2 columns]"
      ]
     },
     "execution_count": 169,
     "metadata": {},
     "output_type": "execute_result"
    }
   ],
   "source": [
    "wrong_predictions"
   ]
  },
  {
   "cell_type": "code",
   "execution_count": 170,
   "metadata": {},
   "outputs": [],
   "source": [
    "play_df = pd.DataFrame({'Input': [\"Funny Monkey\", \"105 OR 1=1\", \"Select * FROM\",\" \\\" or \"\"=\\\" \", \"1*3=3\"]})"
   ]
  },
  {
   "cell_type": "code",
   "execution_count": 171,
   "metadata": {},
   "outputs": [],
   "source": [
    "play_df[\"Input\"] = play_df[\"Input\"].apply(tokenizer)"
   ]
  },
  {
   "cell_type": "code",
   "execution_count": 172,
   "metadata": {},
   "outputs": [],
   "source": [
    "play_df = cv.transform(play_df[\"Input\"]).toarray()"
   ]
  },
  {
   "cell_type": "code",
   "execution_count": 173,
   "metadata": {},
   "outputs": [],
   "source": [
    "play_output = best_nb.predict(play_df)"
   ]
  },
  {
   "cell_type": "code",
   "execution_count": 174,
   "metadata": {},
   "outputs": [
    {
     "data": {
      "text/plain": [
       "array([0, 1, 1, 1, 1], dtype=int64)"
      ]
     },
     "execution_count": 174,
     "metadata": {},
     "output_type": "execute_result"
    }
   ],
   "source": [
    "play_output"
   ]
  }
 ],
 "metadata": {
  "kernelspec": {
   "display_name": "Python 3",
   "language": "python",
   "name": "python3"
  },
  "language_info": {
   "codemirror_mode": {
    "name": "ipython",
    "version": 3
   },
   "file_extension": ".py",
   "mimetype": "text/x-python",
   "name": "python",
   "nbconvert_exporter": "python",
   "pygments_lexer": "ipython3",
   "version": "3.8.3"
  }
 },
 "nbformat": 4,
 "nbformat_minor": 4
}
