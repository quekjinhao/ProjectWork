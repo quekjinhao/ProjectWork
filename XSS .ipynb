{
 "cells": [
  {
   "cell_type": "code",
   "execution_count": 1,
   "metadata": {},
   "outputs": [
    {
     "name": "stdout",
     "output_type": "stream",
     "text": [
      "Requirement already satisfied: xgboost in c:\\users\\user\\appdata\\roaming\\python\\python38\\site-packages (1.1.1)\n",
      "Requirement already satisfied: scipy in c:\\users\\user\\appdata\\roaming\\python\\python38\\site-packages (from xgboost) (1.5.4)\n",
      "Requirement already satisfied: numpy in c:\\users\\user\\appdata\\roaming\\python\\python38\\site-packages (from xgboost) (1.19.1)\n",
      "Note: you may need to restart the kernel to use updated packages.\n"
     ]
    }
   ],
   "source": [
    "pip install xgboost"
   ]
  },
  {
   "cell_type": "code",
   "execution_count": 2,
   "metadata": {},
   "outputs": [
    {
     "name": "stdout",
     "output_type": "stream",
     "text": [
      "Requirement already satisfied: lazypredict in c:\\users\\user\\appdata\\roaming\\python\\python38\\site-packages (0.2.9)\n",
      "Requirement already satisfied: joblib==1.0.0 in c:\\users\\user\\appdata\\roaming\\python\\python38\\site-packages (from lazypredict) (1.0.0)\n",
      "Requirement already satisfied: lightgbm==2.3.1 in c:\\users\\user\\appdata\\roaming\\python\\python38\\site-packages (from lazypredict) (2.3.1)\n",
      "Requirement already satisfied: pandas==1.0.5 in c:\\programdata\\anaconda3\\lib\\site-packages (from lazypredict) (1.0.5)\n",
      "Requirement already satisfied: click==7.1.2 in c:\\programdata\\anaconda3\\lib\\site-packages (from lazypredict) (7.1.2)\n",
      "Requirement already satisfied: scipy==1.5.4 in c:\\users\\user\\appdata\\roaming\\python\\python38\\site-packages (from lazypredict) (1.5.4)\n",
      "Requirement already satisfied: xgboost==1.1.1 in c:\\users\\user\\appdata\\roaming\\python\\python38\\site-packages (from lazypredict) (1.1.1)\n",
      "Requirement already satisfied: pytest==5.4.3 in c:\\programdata\\anaconda3\\lib\\site-packages (from lazypredict) (5.4.3)\n",
      "Requirement already satisfied: numpy==1.19.1 in c:\\users\\user\\appdata\\roaming\\python\\python38\\site-packages (from lazypredict) (1.19.1)\n",
      "Requirement already satisfied: tqdm==4.56.0 in c:\\users\\user\\appdata\\roaming\\python\\python38\\site-packages (from lazypredict) (4.56.0)\n",
      "Requirement already satisfied: six==1.15.0 in c:\\programdata\\anaconda3\\lib\\site-packages (from lazypredict) (1.15.0)\n",
      "Requirement already satisfied: scikit-learn==0.23.1 in c:\\programdata\\anaconda3\\lib\\site-packages (from lazypredict) (0.23.1)\n",
      "Requirement already satisfied: PyYAML==5.3.1 in c:\\programdata\\anaconda3\\lib\\site-packages (from lazypredict) (5.3.1)\n",
      "Requirement already satisfied: python-dateutil>=2.6.1 in c:\\programdata\\anaconda3\\lib\\site-packages (from pandas==1.0.5->lazypredict) (2.8.1)\n",
      "Requirement already satisfied: pytz>=2017.2 in c:\\programdata\\anaconda3\\lib\\site-packages (from pandas==1.0.5->lazypredict) (2020.1)\n",
      "Requirement already satisfied: py>=1.5.0 in c:\\programdata\\anaconda3\\lib\\site-packages (from pytest==5.4.3->lazypredict) (1.9.0)\n",
      "Requirement already satisfied: packaging in c:\\programdata\\anaconda3\\lib\\site-packages (from pytest==5.4.3->lazypredict) (20.4)\n",
      "Requirement already satisfied: attrs>=17.4.0 in c:\\programdata\\anaconda3\\lib\\site-packages (from pytest==5.4.3->lazypredict) (19.3.0)\n",
      "Requirement already satisfied: more-itertools>=4.0.0 in c:\\programdata\\anaconda3\\lib\\site-packages (from pytest==5.4.3->lazypredict) (8.4.0)\n",
      "Requirement already satisfied: pluggy<1.0,>=0.12 in c:\\programdata\\anaconda3\\lib\\site-packages (from pytest==5.4.3->lazypredict) (0.13.1)\n",
      "Requirement already satisfied: wcwidth in c:\\programdata\\anaconda3\\lib\\site-packages (from pytest==5.4.3->lazypredict) (0.2.5)\n",
      "Requirement already satisfied: atomicwrites>=1.0 in c:\\programdata\\anaconda3\\lib\\site-packages (from pytest==5.4.3->lazypredict) (1.4.0)\n",
      "Requirement already satisfied: colorama in c:\\programdata\\anaconda3\\lib\\site-packages (from pytest==5.4.3->lazypredict) (0.4.3)\n",
      "Requirement already satisfied: threadpoolctl>=2.0.0 in c:\\programdata\\anaconda3\\lib\\site-packages (from scikit-learn==0.23.1->lazypredict) (2.1.0)\n",
      "Requirement already satisfied: pyparsing>=2.0.2 in c:\\programdata\\anaconda3\\lib\\site-packages (from packaging->pytest==5.4.3->lazypredict) (2.4.7)\n",
      "Note: you may need to restart the kernel to use updated packages.\n"
     ]
    }
   ],
   "source": [
    "pip install --user lazypredict"
   ]
  },
  {
   "cell_type": "code",
   "execution_count": 3,
   "metadata": {},
   "outputs": [
    {
     "name": "stderr",
     "output_type": "stream",
     "text": [
      "C:\\ProgramData\\Anaconda3\\lib\\site-packages\\sklearn\\utils\\deprecation.py:143: FutureWarning: The sklearn.utils.testing module is  deprecated in version 0.22 and will be removed in version 0.24. The corresponding classes / functions should instead be imported from sklearn.utils. Anything that cannot be imported from sklearn.utils is now part of the private API.\n",
      "  warnings.warn(message, FutureWarning)\n"
     ]
    }
   ],
   "source": [
    "import lazypredict\n",
    "from lazypredict.Supervised import LazyClassifier"
   ]
  },
  {
   "cell_type": "code",
   "execution_count": 4,
   "metadata": {},
   "outputs": [],
   "source": [
    "# Base packages\n",
    "\n",
    "import numpy as np # linear algebra\n",
    "import pandas as pd # data processing, CSV file I/O (e.g. pd.read_csv)\n",
    "import seaborn as sns\n",
    "import matplotlib.pyplot as plt\n",
    "import string as st\n",
    "%matplotlib inline\n",
    "\n",
    "# Helper packages\n",
    "import time\n",
    "import os\n",
    "import pickle\n",
    "import re\n",
    "\n",
    "# Preprocessing packages\n",
    "from sklearn.feature_extraction.text import CountVectorizer\n",
    "from sklearn.feature_extraction.text import TfidfVectorizer\n",
    "from sklearn.pipeline import Pipeline\n",
    "from sklearn.model_selection import StratifiedKFold, train_test_split\n",
    "from sklearn.model_selection import GridSearchCV, RandomizedSearchCV\n",
    "\n",
    "# Machine Learning packages\n",
    "from sklearn.tree import DecisionTreeClassifier\n",
    "from sklearn.ensemble import RandomForestClassifier\n",
    "from sklearn.svm import SVC\n",
    "from sklearn.linear_model import LogisticRegression\n",
    "from sklearn.neighbors import KNeighborsClassifier\n",
    "from sklearn.naive_bayes import MultinomialNB, GaussianNB\n",
    "from sklearn.neural_network import MLPClassifier\n",
    "from xgboost import XGBClassifier\n",
    "\n",
    "# Scoring packages\n",
    "from sklearn.metrics import precision_score, accuracy_score\n",
    "from sklearn.metrics import classification_report\n",
    "from sklearn.metrics import plot_confusion_matrix, confusion_matrix\n",
    "from sklearn.metrics import f1_score, recall_score\n",
    "from sklearn.metrics import precision_recall_fscore_support"
   ]
  },
  {
   "cell_type": "markdown",
   "metadata": {},
   "source": [
    "## Tokenizer helper\n",
    "\n",
    "Function which helps preserve special characters during tokenization"
   ]
  },
  {
   "cell_type": "code",
   "execution_count": 5,
   "metadata": {},
   "outputs": [],
   "source": [
    "def tokenizer(x):\n",
    "    r='!\"#$%&;()*+,-./:;<=>?\\'@[\\\\]^_`{|}~'\n",
    "    to_replace=[re.escape(i) for i in r]\n",
    "\n",
    "    replace_with=[' '+i+' ' for i in r]\n",
    "    x=x.lower()\n",
    "    x=pd.DataFrame([x])[0].replace(to_replace,replace_with,regex=True)[0]\n",
    "    return(x)\n",
    " \n",
    "corpus=pd.DataFrame([\"That's an example.\",\n",
    "\"Don't ignore it!\",\n",
    "\"This is another example.\",\n",
    "\"50$ is a price:-) !&!!^)\",\n",
    "\"Look @predictivehacks for more hacks\",\n",
    "\"These are hashtags #predictivehacks #datascience #100%fun\"],columns=['sentences'])\n",
    "\n"
   ]
  },
  {
   "cell_type": "code",
   "execution_count": 6,
   "metadata": {},
   "outputs": [],
   "source": [
    "seed = 170280378"
   ]
  },
  {
   "cell_type": "code",
   "execution_count": 7,
   "metadata": {},
   "outputs": [
    {
     "data": {
      "text/plain": [
       "'C:\\\\Users\\\\User\\\\Desktop\\\\PROJECT WORK\\\\Jupyter Repo'"
      ]
     },
     "execution_count": 7,
     "metadata": {},
     "output_type": "execute_result"
    }
   ],
   "source": [
    "os.getcwd()"
   ]
  },
  {
   "cell_type": "code",
   "execution_count": 8,
   "metadata": {},
   "outputs": [],
   "source": [
    "# Read in XSS\n",
    "df = pd.read_csv(\"XSS/XSS.csv\")"
   ]
  },
  {
   "cell_type": "code",
   "execution_count": 9,
   "metadata": {},
   "outputs": [
    {
     "data": {
      "text/html": [
       "<div>\n",
       "<style scoped>\n",
       "    .dataframe tbody tr th:only-of-type {\n",
       "        vertical-align: middle;\n",
       "    }\n",
       "\n",
       "    .dataframe tbody tr th {\n",
       "        vertical-align: top;\n",
       "    }\n",
       "\n",
       "    .dataframe thead th {\n",
       "        text-align: right;\n",
       "    }\n",
       "</style>\n",
       "<table border=\"1\" class=\"dataframe\">\n",
       "  <thead>\n",
       "    <tr style=\"text-align: right;\">\n",
       "      <th></th>\n",
       "      <th>Unnamed: 0</th>\n",
       "      <th>Sentence</th>\n",
       "      <th>Label</th>\n",
       "    </tr>\n",
       "  </thead>\n",
       "  <tbody>\n",
       "    <tr>\n",
       "      <th>0</th>\n",
       "      <td>0</td>\n",
       "      <td>&lt;li&gt;&lt;a href=\"/wiki/File:Socrates.png\" class=\"i...</td>\n",
       "      <td>0</td>\n",
       "    </tr>\n",
       "    <tr>\n",
       "      <th>1</th>\n",
       "      <td>1</td>\n",
       "      <td>&lt;tt onmouseover=\"alert(1)\"&gt;test&lt;/tt&gt;</td>\n",
       "      <td>1</td>\n",
       "    </tr>\n",
       "    <tr>\n",
       "      <th>2</th>\n",
       "      <td>2</td>\n",
       "      <td>\\t &lt;/span&gt; &lt;span class=\"reference-text\"&gt;Steeri...</td>\n",
       "      <td>0</td>\n",
       "    </tr>\n",
       "    <tr>\n",
       "      <th>3</th>\n",
       "      <td>3</td>\n",
       "      <td>\\t &lt;/span&gt; &lt;span class=\"reference-text\"&gt;&lt;cite ...</td>\n",
       "      <td>0</td>\n",
       "    </tr>\n",
       "    <tr>\n",
       "      <th>4</th>\n",
       "      <td>4</td>\n",
       "      <td>\\t &lt;/span&gt;. &lt;a href=\"/wiki/Digital_object_iden...</td>\n",
       "      <td>0</td>\n",
       "    </tr>\n",
       "  </tbody>\n",
       "</table>\n",
       "</div>"
      ],
      "text/plain": [
       "   Unnamed: 0                                           Sentence  Label\n",
       "0           0  <li><a href=\"/wiki/File:Socrates.png\" class=\"i...      0\n",
       "1           1               <tt onmouseover=\"alert(1)\">test</tt>      1\n",
       "2           2  \\t </span> <span class=\"reference-text\">Steeri...      0\n",
       "3           3  \\t </span> <span class=\"reference-text\"><cite ...      0\n",
       "4           4  \\t </span>. <a href=\"/wiki/Digital_object_iden...      0"
      ]
     },
     "execution_count": 9,
     "metadata": {},
     "output_type": "execute_result"
    }
   ],
   "source": [
    "# Quick inspection\n",
    "df.head()"
   ]
  },
  {
   "cell_type": "code",
   "execution_count": 10,
   "metadata": {},
   "outputs": [],
   "source": [
    "# Can remove this column which is just a duplicate of existing index\n",
    "df.drop([\"Unnamed: 0\"], inplace=True, axis=1)"
   ]
  },
  {
   "cell_type": "code",
   "execution_count": 11,
   "metadata": {},
   "outputs": [
    {
     "data": {
      "text/html": [
       "<div>\n",
       "<style scoped>\n",
       "    .dataframe tbody tr th:only-of-type {\n",
       "        vertical-align: middle;\n",
       "    }\n",
       "\n",
       "    .dataframe tbody tr th {\n",
       "        vertical-align: top;\n",
       "    }\n",
       "\n",
       "    .dataframe thead th {\n",
       "        text-align: right;\n",
       "    }\n",
       "</style>\n",
       "<table border=\"1\" class=\"dataframe\">\n",
       "  <thead>\n",
       "    <tr style=\"text-align: right;\">\n",
       "      <th></th>\n",
       "      <th>Sentence</th>\n",
       "      <th>Label</th>\n",
       "    </tr>\n",
       "  </thead>\n",
       "  <tbody>\n",
       "    <tr>\n",
       "      <th>0</th>\n",
       "      <td>&lt;li&gt;&lt;a href=\"/wiki/File:Socrates.png\" class=\"i...</td>\n",
       "      <td>0</td>\n",
       "    </tr>\n",
       "    <tr>\n",
       "      <th>1</th>\n",
       "      <td>&lt;tt onmouseover=\"alert(1)\"&gt;test&lt;/tt&gt;</td>\n",
       "      <td>1</td>\n",
       "    </tr>\n",
       "    <tr>\n",
       "      <th>2</th>\n",
       "      <td>\\t &lt;/span&gt; &lt;span class=\"reference-text\"&gt;Steeri...</td>\n",
       "      <td>0</td>\n",
       "    </tr>\n",
       "    <tr>\n",
       "      <th>3</th>\n",
       "      <td>\\t &lt;/span&gt; &lt;span class=\"reference-text\"&gt;&lt;cite ...</td>\n",
       "      <td>0</td>\n",
       "    </tr>\n",
       "    <tr>\n",
       "      <th>4</th>\n",
       "      <td>\\t &lt;/span&gt;. &lt;a href=\"/wiki/Digital_object_iden...</td>\n",
       "      <td>0</td>\n",
       "    </tr>\n",
       "  </tbody>\n",
       "</table>\n",
       "</div>"
      ],
      "text/plain": [
       "                                            Sentence  Label\n",
       "0  <li><a href=\"/wiki/File:Socrates.png\" class=\"i...      0\n",
       "1               <tt onmouseover=\"alert(1)\">test</tt>      1\n",
       "2  \\t </span> <span class=\"reference-text\">Steeri...      0\n",
       "3  \\t </span> <span class=\"reference-text\"><cite ...      0\n",
       "4  \\t </span>. <a href=\"/wiki/Digital_object_iden...      0"
      ]
     },
     "execution_count": 11,
     "metadata": {},
     "output_type": "execute_result"
    }
   ],
   "source": [
    "df.head()"
   ]
  },
  {
   "cell_type": "code",
   "execution_count": 12,
   "metadata": {},
   "outputs": [
    {
     "name": "stdout",
     "output_type": "stream",
     "text": [
      "<class 'pandas.core.frame.DataFrame'>\n",
      "RangeIndex: 13686 entries, 0 to 13685\n",
      "Data columns (total 2 columns):\n",
      " #   Column    Non-Null Count  Dtype \n",
      "---  ------    --------------  ----- \n",
      " 0   Sentence  13686 non-null  object\n",
      " 1   Label     13686 non-null  int64 \n",
      "dtypes: int64(1), object(1)\n",
      "memory usage: 214.0+ KB\n"
     ]
    }
   ],
   "source": [
    "df.info()"
   ]
  },
  {
   "cell_type": "code",
   "execution_count": 13,
   "metadata": {},
   "outputs": [
    {
     "name": "stdout",
     "output_type": "stream",
     "text": [
      "Sentence    0\n",
      "Label       0\n",
      "dtype: int64\n"
     ]
    },
    {
     "data": {
      "text/html": [
       "<div>\n",
       "<style scoped>\n",
       "    .dataframe tbody tr th:only-of-type {\n",
       "        vertical-align: middle;\n",
       "    }\n",
       "\n",
       "    .dataframe tbody tr th {\n",
       "        vertical-align: top;\n",
       "    }\n",
       "\n",
       "    .dataframe thead th {\n",
       "        text-align: right;\n",
       "    }\n",
       "</style>\n",
       "<table border=\"1\" class=\"dataframe\">\n",
       "  <thead>\n",
       "    <tr style=\"text-align: right;\">\n",
       "      <th></th>\n",
       "      <th>Sentence</th>\n",
       "      <th>Label</th>\n",
       "    </tr>\n",
       "  </thead>\n",
       "  <tbody>\n",
       "  </tbody>\n",
       "</table>\n",
       "</div>"
      ],
      "text/plain": [
       "Empty DataFrame\n",
       "Columns: [Sentence, Label]\n",
       "Index: []"
      ]
     },
     "execution_count": 13,
     "metadata": {},
     "output_type": "execute_result"
    }
   ],
   "source": [
    "# showing missing values\n",
    "print(df.isna().sum())\n",
    "df[df.isna().any(axis=1)]"
   ]
  },
  {
   "cell_type": "code",
   "execution_count": 14,
   "metadata": {},
   "outputs": [],
   "source": [
    "# Remove missing values\n",
    "\n",
    "df.dropna(axis=0, inplace=True)"
   ]
  },
  {
   "cell_type": "code",
   "execution_count": 15,
   "metadata": {},
   "outputs": [
    {
     "data": {
      "text/plain": [
       "<matplotlib.axes._subplots.AxesSubplot at 0x1841434b610>"
      ]
     },
     "execution_count": 15,
     "metadata": {},
     "output_type": "execute_result"
    },
    {
     "data": {
      "image/png": "[encoded data removed]",
      "text/plain": [
       "<Figure size 432x288 with 1 Axes>"
      ]
     },
     "metadata": {
      "needs_background": "light"
     },
     "output_type": "display_data"
    }
   ],
   "source": [
    "sns.countplot(df[\"Label\"]==1)"
   ]
  },
  {
   "cell_type": "code",
   "execution_count": 16,
   "metadata": {},
   "outputs": [
    {
     "data": {
      "text/plain": [
       "0.5387257051001023"
      ]
     },
     "execution_count": 16,
     "metadata": {},
     "output_type": "execute_result"
    }
   ],
   "source": [
    "# Well-balanced data set\n",
    "(df[\"Label\"] == 1).sum() / len(df[\"Label\"])"
   ]
  },
  {
   "attachments": {
    "image.png": {
     "image/png": "[encoded data removed]"
    }
   },
   "cell_type": "markdown",
   "metadata": {},
   "source": [
    "\n",
    "### CountVectorizer\n",
    "![image.png](attachment:image.png)\n",
    "\n",
    "### Common hyperparameters\n",
    "\n",
    "- min and max_df, ignore terms that have a frequency below or above a certain threshold. Default is 1 so no terms ignored.\n",
    "- stop_words: Stop words are words like “and”, “the”, “him”, which are presumed to be uninformative in representing the content of a text, and which may be removed to avoid them being construed as signal for prediction. "
   ]
  },
  {
   "cell_type": "code",
   "execution_count": 17,
   "metadata": {},
   "outputs": [
    {
     "data": {
      "text/html": [
       "<div>\n",
       "<style scoped>\n",
       "    .dataframe tbody tr th:only-of-type {\n",
       "        vertical-align: middle;\n",
       "    }\n",
       "\n",
       "    .dataframe tbody tr th {\n",
       "        vertical-align: top;\n",
       "    }\n",
       "\n",
       "    .dataframe thead th {\n",
       "        text-align: right;\n",
       "    }\n",
       "</style>\n",
       "<table border=\"1\" class=\"dataframe\">\n",
       "  <thead>\n",
       "    <tr style=\"text-align: right;\">\n",
       "      <th></th>\n",
       "      <th>Sentence</th>\n",
       "      <th>Label</th>\n",
       "    </tr>\n",
       "  </thead>\n",
       "  <tbody>\n",
       "    <tr>\n",
       "      <th>2</th>\n",
       "      <td>\\t &lt;/span&gt; &lt;span class=\"reference-text\"&gt;Steeri...</td>\n",
       "      <td>0</td>\n",
       "    </tr>\n",
       "    <tr>\n",
       "      <th>31</th>\n",
       "      <td>&lt;li&gt;&lt;cite id=\"CITEREFOudeyer2010\" class=\"citat...</td>\n",
       "      <td>0</td>\n",
       "    </tr>\n",
       "    <tr>\n",
       "      <th>40</th>\n",
       "      <td>\\t &lt;/span&gt;. &lt;i&gt;Behavioral and Brain Sciences &lt;...</td>\n",
       "      <td>0</td>\n",
       "    </tr>\n",
       "    <tr>\n",
       "      <th>42</th>\n",
       "      <td>\\t &lt;/span&gt; &lt;span class=\"reference-text\"&gt;&lt;cite ...</td>\n",
       "      <td>0</td>\n",
       "    </tr>\n",
       "    <tr>\n",
       "      <th>84</th>\n",
       "      <td>\\t &lt;/span&gt; &lt;span class=\"reference-text\"&gt;Celli,...</td>\n",
       "      <td>0</td>\n",
       "    </tr>\n",
       "    <tr>\n",
       "      <th>...</th>\n",
       "      <td>...</td>\n",
       "      <td>...</td>\n",
       "    </tr>\n",
       "    <tr>\n",
       "      <th>13589</th>\n",
       "      <td>&lt;dd&gt;Many of the things people know take the fo...</td>\n",
       "      <td>0</td>\n",
       "    </tr>\n",
       "    <tr>\n",
       "      <th>13611</th>\n",
       "      <td>&lt;li class=\"toclevel-3 tocsection-62\"&gt;&lt;a href=\"...</td>\n",
       "      <td>0</td>\n",
       "    </tr>\n",
       "    <tr>\n",
       "      <th>13612</th>\n",
       "      <td>&lt;command onkeydown=\"alert(1)\" contenteditable&gt;...</td>\n",
       "      <td>1</td>\n",
       "    </tr>\n",
       "    <tr>\n",
       "      <th>13677</th>\n",
       "      <td>&lt;/p&gt;&lt;p&gt;&lt;a href=\"/wiki/Default_logic\" title=\"D...</td>\n",
       "      <td>0</td>\n",
       "    </tr>\n",
       "    <tr>\n",
       "      <th>13684</th>\n",
       "      <td>&lt;li&gt;&lt;cite id=\"CITEREFDomingos2015\" class=\"cita...</td>\n",
       "      <td>0</td>\n",
       "    </tr>\n",
       "  </tbody>\n",
       "</table>\n",
       "<p>727 rows × 2 columns</p>\n",
       "</div>"
      ],
      "text/plain": [
       "                                                Sentence  Label\n",
       "2      \\t </span> <span class=\"reference-text\">Steeri...      0\n",
       "31     <li><cite id=\"CITEREFOudeyer2010\" class=\"citat...      0\n",
       "40     \\t </span>. <i>Behavioral and Brain Sciences <...      0\n",
       "42     \\t </span> <span class=\"reference-text\"><cite ...      0\n",
       "84     \\t </span> <span class=\"reference-text\">Celli,...      0\n",
       "...                                                  ...    ...\n",
       "13589  <dd>Many of the things people know take the fo...      0\n",
       "13611  <li class=\"toclevel-3 tocsection-62\"><a href=\"...      0\n",
       "13612  <command onkeydown=\"alert(1)\" contenteditable>...      1\n",
       "13677   </p><p><a href=\"/wiki/Default_logic\" title=\"D...      0\n",
       "13684  <li><cite id=\"CITEREFDomingos2015\" class=\"cita...      0\n",
       "\n",
       "[727 rows x 2 columns]"
      ]
     },
     "execution_count": 17,
     "metadata": {},
     "output_type": "execute_result"
    }
   ],
   "source": [
    "# Similar to SQLi, punctuation and stop words are common\n",
    "df[df[\"Sentence\"].str.contains(\"and\")]"
   ]
  },
  {
   "cell_type": "code",
   "execution_count": 18,
   "metadata": {},
   "outputs": [
    {
     "data": {
      "text/html": [
       "<div>\n",
       "<style scoped>\n",
       "    .dataframe tbody tr th:only-of-type {\n",
       "        vertical-align: middle;\n",
       "    }\n",
       "\n",
       "    .dataframe tbody tr th {\n",
       "        vertical-align: top;\n",
       "    }\n",
       "\n",
       "    .dataframe thead th {\n",
       "        text-align: right;\n",
       "    }\n",
       "</style>\n",
       "<table border=\"1\" class=\"dataframe\">\n",
       "  <thead>\n",
       "    <tr style=\"text-align: right;\">\n",
       "      <th></th>\n",
       "      <th>Sentence</th>\n",
       "      <th>Label</th>\n",
       "    </tr>\n",
       "  </thead>\n",
       "  <tbody>\n",
       "    <tr>\n",
       "      <th>226</th>\n",
       "      <td>&lt;li&gt;&lt;a href=\"/wiki/Christof_Koch\" title=\"Chris...</td>\n",
       "      <td>0</td>\n",
       "    </tr>\n",
       "    <tr>\n",
       "      <th>230</th>\n",
       "      <td>\\t &lt;/span&gt; &lt;span class=\"reference-text\"&gt;&lt;cite ...</td>\n",
       "      <td>0</td>\n",
       "    </tr>\n",
       "    <tr>\n",
       "      <th>305</th>\n",
       "      <td>d=\"alert('');\\\")\";</td>\n",
       "      <td>1</td>\n",
       "    </tr>\n",
       "    <tr>\n",
       "      <th>341</th>\n",
       "      <td>header('Location: '.$_GET['param']);</td>\n",
       "      <td>1</td>\n",
       "    </tr>\n",
       "    <tr>\n",
       "      <th>458</th>\n",
       "      <td>&lt;/p&gt;&lt;p&gt;In 2011, a &lt;i&gt;&lt;a href=\"/wiki/Jeopardy!...</td>\n",
       "      <td>0</td>\n",
       "    </tr>\n",
       "    <tr>\n",
       "      <th>...</th>\n",
       "      <td>...</td>\n",
       "      <td>...</td>\n",
       "    </tr>\n",
       "    <tr>\n",
       "      <th>13431</th>\n",
       "      <td>\\t &lt;/span&gt; &lt;span class=\"reference-text\"&gt;&lt;cite ...</td>\n",
       "      <td>0</td>\n",
       "    </tr>\n",
       "    <tr>\n",
       "      <th>13437</th>\n",
       "      <td>&lt;STYLE&gt;.{background-image:url(\"javascript:aler...</td>\n",
       "      <td>1</td>\n",
       "    </tr>\n",
       "    <tr>\n",
       "      <th>13439</th>\n",
       "      <td>&lt;DIV STYLE=\"background-image:\\0075\\0072\\006C\\0...</td>\n",
       "      <td>1</td>\n",
       "    </tr>\n",
       "    <tr>\n",
       "      <th>13457</th>\n",
       "      <td>\\t &lt;/span&gt; &lt;span class=\"reference-text\"&gt;&lt;cite ...</td>\n",
       "      <td>0</td>\n",
       "    </tr>\n",
       "    <tr>\n",
       "      <th>13513</th>\n",
       "      <td>&lt;li&gt;&lt;cite id=\"CITEREFO&amp;#39;Connor1994\" class=\"...</td>\n",
       "      <td>0</td>\n",
       "    </tr>\n",
       "  </tbody>\n",
       "</table>\n",
       "<p>232 rows × 2 columns</p>\n",
       "</div>"
      ],
      "text/plain": [
       "                                                Sentence  Label\n",
       "226    <li><a href=\"/wiki/Christof_Koch\" title=\"Chris...      0\n",
       "230    \\t </span> <span class=\"reference-text\"><cite ...      0\n",
       "305                                   d=\"alert('');\\\")\";      1\n",
       "341                 header('Location: '.$_GET['param']);      1\n",
       "458     </p><p>In 2011, a <i><a href=\"/wiki/Jeopardy!...      0\n",
       "...                                                  ...    ...\n",
       "13431  \\t </span> <span class=\"reference-text\"><cite ...      0\n",
       "13437  <STYLE>.{background-image:url(\"javascript:aler...      1\n",
       "13439  <DIV STYLE=\"background-image:\\0075\\0072\\006C\\0...      1\n",
       "13457  \\t </span> <span class=\"reference-text\"><cite ...      0\n",
       "13513  <li><cite id=\"CITEREFO&#39;Connor1994\" class=\"...      0\n",
       "\n",
       "[232 rows x 2 columns]"
      ]
     },
     "execution_count": 18,
     "metadata": {},
     "output_type": "execute_result"
    }
   ],
   "source": [
    "# punctuation also features prominently\n",
    "df[df[\"Sentence\"].str.contains(\"'\")]"
   ]
  },
  {
   "cell_type": "markdown",
   "metadata": {},
   "source": [
    "# Size reduction\n",
    "Standardise at 10, 000 rows total\n"
   ]
  },
  {
   "cell_type": "code",
   "execution_count": 19,
   "metadata": {},
   "outputs": [
    {
     "data": {
      "text/plain": [
       "0        0\n",
       "1        1\n",
       "2        0\n",
       "3        0\n",
       "4        0\n",
       "        ..\n",
       "13681    1\n",
       "13682    1\n",
       "13683    1\n",
       "13684    0\n",
       "13685    0\n",
       "Name: Label, Length: 13686, dtype: int64"
      ]
     },
     "execution_count": 19,
     "metadata": {},
     "output_type": "execute_result"
    }
   ],
   "source": [
    "df[\"Label\"]"
   ]
  },
  {
   "cell_type": "code",
   "execution_count": 20,
   "metadata": {},
   "outputs": [],
   "source": [
    "df = df.groupby(\"Label\").apply(pd.DataFrame.sample, frac=0.73067).reset_index(drop=True)"
   ]
  },
  {
   "cell_type": "code",
   "execution_count": 21,
   "metadata": {},
   "outputs": [],
   "source": [
    "df[\"Sentence\"] = df[\"Sentence\"].apply(tokenizer)"
   ]
  },
  {
   "cell_type": "code",
   "execution_count": 22,
   "metadata": {},
   "outputs": [
    {
     "data": {
      "text/plain": [
       "0.5387"
      ]
     },
     "execution_count": 22,
     "metadata": {},
     "output_type": "execute_result"
    }
   ],
   "source": [
    "# Still preserves the same ratio of values\n",
    "(df[\"Label\"] == 1).sum() / len(df[\"Label\"])"
   ]
  },
  {
   "cell_type": "code",
   "execution_count": 23,
   "metadata": {},
   "outputs": [
    {
     "data": {
      "text/html": [
       "<div>\n",
       "<style scoped>\n",
       "    .dataframe tbody tr th:only-of-type {\n",
       "        vertical-align: middle;\n",
       "    }\n",
       "\n",
       "    .dataframe tbody tr th {\n",
       "        vertical-align: top;\n",
       "    }\n",
       "\n",
       "    .dataframe thead th {\n",
       "        text-align: right;\n",
       "    }\n",
       "</style>\n",
       "<table border=\"1\" class=\"dataframe\">\n",
       "  <thead>\n",
       "    <tr style=\"text-align: right;\">\n",
       "      <th></th>\n",
       "      <th>Sentence</th>\n",
       "      <th>Label</th>\n",
       "    </tr>\n",
       "  </thead>\n",
       "  <tbody>\n",
       "    <tr>\n",
       "      <th>0</th>\n",
       "      <td>&lt; li &gt;  &lt; cite id =  \" citerefpenrose1989 \"  ...</td>\n",
       "      <td>0</td>\n",
       "    </tr>\n",
       "    <tr>\n",
       "      <th>1</th>\n",
       "      <td>\\t  &lt; div class =  \" thumbinner \"  style =  \" ...</td>\n",
       "      <td>0</td>\n",
       "    </tr>\n",
       "    <tr>\n",
       "      <th>2</th>\n",
       "      <td>\\t  &lt;  / span &gt;  &lt; a href =  \"  / w / index . ...</td>\n",
       "      <td>0</td>\n",
       "    </tr>\n",
       "    <tr>\n",
       "      <th>3</th>\n",
       "      <td>&lt; section data - toggle =  \" wy - nav - s...</td>\n",
       "      <td>0</td>\n",
       "    </tr>\n",
       "    <tr>\n",
       "      <th>4</th>\n",
       "      <td>&lt; ul &gt;  &lt; li &gt;  &lt; a rel =  \" nofollow \"  clas...</td>\n",
       "      <td>0</td>\n",
       "    </tr>\n",
       "    <tr>\n",
       "      <th>...</th>\n",
       "      <td>...</td>\n",
       "      <td>...</td>\n",
       "    </tr>\n",
       "    <tr>\n",
       "      <th>9995</th>\n",
       "      <td>&lt; fieldset onpaste =  \" alert ( 1 )  \"  conte...</td>\n",
       "      <td>1</td>\n",
       "    </tr>\n",
       "    <tr>\n",
       "      <th>9996</th>\n",
       "      <td>&lt; style &gt;  @ keyframes slidein  {  }  &lt;  / st...</td>\n",
       "      <td>1</td>\n",
       "    </tr>\n",
       "    <tr>\n",
       "      <th>9997</th>\n",
       "      <td>&lt; optgroup onmouseup =  \" alert ( 1 )  \"  &gt; t...</td>\n",
       "      <td>1</td>\n",
       "    </tr>\n",
       "    <tr>\n",
       "      <th>9998</th>\n",
       "      <td>&lt; style &gt;  @ keyframes x {  }  &lt;  / style &gt;  ...</td>\n",
       "      <td>1</td>\n",
       "    </tr>\n",
       "    <tr>\n",
       "      <th>9999</th>\n",
       "      <td>&lt; sub onpointermove = alert ( 1 )  &gt; xss &lt;  /...</td>\n",
       "      <td>1</td>\n",
       "    </tr>\n",
       "  </tbody>\n",
       "</table>\n",
       "<p>10000 rows × 2 columns</p>\n",
       "</div>"
      ],
      "text/plain": [
       "                                               Sentence  Label\n",
       "0      < li >  < cite id =  \" citerefpenrose1989 \"  ...      0\n",
       "1     \\t  < div class =  \" thumbinner \"  style =  \" ...      0\n",
       "2     \\t  <  / span >  < a href =  \"  / w / index . ...      0\n",
       "3          < section data - toggle =  \" wy - nav - s...      0\n",
       "4      < ul >  < li >  < a rel =  \" nofollow \"  clas...      0\n",
       "...                                                 ...    ...\n",
       "9995   < fieldset onpaste =  \" alert ( 1 )  \"  conte...      1\n",
       "9996   < style >  @ keyframes slidein  {  }  <  / st...      1\n",
       "9997   < optgroup onmouseup =  \" alert ( 1 )  \"  > t...      1\n",
       "9998   < style >  @ keyframes x {  }  <  / style >  ...      1\n",
       "9999   < sub onpointermove = alert ( 1 )  > xss <  /...      1\n",
       "\n",
       "[10000 rows x 2 columns]"
      ]
     },
     "execution_count": 23,
     "metadata": {},
     "output_type": "execute_result"
    }
   ],
   "source": [
    "df"
   ]
  },
  {
   "cell_type": "code",
   "execution_count": 24,
   "metadata": {},
   "outputs": [],
   "source": [
    "X=df[\"Sentence\"]"
   ]
  },
  {
   "cell_type": "code",
   "execution_count": 25,
   "metadata": {},
   "outputs": [],
   "source": [
    "y=df[\"Label\"]"
   ]
  },
  {
   "cell_type": "code",
   "execution_count": 26,
   "metadata": {},
   "outputs": [],
   "source": [
    "# Since only one .csv, perform the full split here\n",
    "X_train, X_test, y_train, y_test  = train_test_split(X, y, test_size=0.2, random_state=seed)"
   ]
  },
  {
   "cell_type": "code",
   "execution_count": 27,
   "metadata": {},
   "outputs": [],
   "source": [
    "\n",
    "cv = CountVectorizer(token_pattern=\"\\S+\")\n",
    "tfv = TfidfVectorizer(token_pattern=\"\\S+\")\n"
   ]
  },
  {
   "cell_type": "code",
   "execution_count": 28,
   "metadata": {},
   "outputs": [],
   "source": [
    "count_vect_train = cv.fit_transform(X_train)\n",
    "tf_vect_train = tfv.fit_transform(X_train)"
   ]
  },
  {
   "cell_type": "raw",
   "metadata": {},
   "source": [
    "count_vect_val = cv.transform(X_val)\n",
    "tf_vect_val = tfv.transform(X_val)"
   ]
  },
  {
   "cell_type": "code",
   "execution_count": 29,
   "metadata": {},
   "outputs": [],
   "source": [
    "count_vect_test = cv.transform(X_test)\n",
    "tf_vect_test = tfv.transform(X_test)"
   ]
  },
  {
   "cell_type": "code",
   "execution_count": 30,
   "metadata": {},
   "outputs": [],
   "source": [
    "X_train = pd.DataFrame(count_vect_train.toarray())"
   ]
  },
  {
   "cell_type": "raw",
   "metadata": {},
   "source": [
    "X_val = pd.DataFrame(count_vect_val.toarray())"
   ]
  },
  {
   "cell_type": "code",
   "execution_count": 31,
   "metadata": {},
   "outputs": [],
   "source": [
    "X_test = pd.DataFrame(count_vect_test.toarray())"
   ]
  },
  {
   "cell_type": "code",
   "execution_count": 32,
   "metadata": {},
   "outputs": [
    {
     "data": {
      "text/plain": [
       "9961    1\n",
       "9918    1\n",
       "8440    1\n",
       "1052    0\n",
       "9725    1\n",
       "       ..\n",
       "6087    1\n",
       "6428    1\n",
       "4519    0\n",
       "101     0\n",
       "1696    0\n",
       "Name: Label, Length: 2000, dtype: int64"
      ]
     },
     "execution_count": 32,
     "metadata": {},
     "output_type": "execute_result"
    }
   ],
   "source": [
    "y_test"
   ]
  },
  {
   "cell_type": "raw",
   "metadata": {},
   "source": [
    "count_vect_df"
   ]
  },
  {
   "cell_type": "raw",
   "metadata": {},
   "source": [
    "# We can take a look at the features if needed\n",
    "f = count_vect_df.copy() \n",
    "f.columns=cv.get_feature_names()\n",
    "f=f.sum(axis=0)\n",
    " \n",
    "print(f)"
   ]
  },
  {
   "cell_type": "raw",
   "metadata": {},
   "source": [
    "tf_vect_df = pd.DataFrame(tf_vect.toarray())"
   ]
  },
  {
   "cell_type": "raw",
   "metadata": {},
   "source": [
    "tf_vect_df"
   ]
  },
  {
   "cell_type": "raw",
   "metadata": {},
   "source": [
    "# Now we the vectorized form of the sentences\n",
    "# At this stage, we can final obtain our X and y\n",
    "cv_X = count_vect_df \n",
    "tf_X = tf_vect_df\n",
    "y = df[\"Label\"]"
   ]
  },
  {
   "cell_type": "raw",
   "metadata": {},
   "source": [
    "# We need to split into train and test data\n",
    "# The default method is to use train_test_split as taught in NN class\n",
    "# One concept is k-folds CV (splitting into k subsets and train/testing on each subset)\n",
    "# Another one is stratification, in which each subset will contain roughly and proportional representation of 0 and 1 target value\n",
    "# I.e., when split, each fold should contain roughly 27% positive target values\n",
    "# For this approach, we will opt for StratifiedKFold which is a good middle ground\n",
    "# Don't need to include shuffle \n",
    "\n",
    "X_train, X_test, y_train, y_test  = train_test_split(cv_X, y, test_size=0.2, random_state=seed)\n",
    "X_train, X_val, y_train, y_val = train_test_split(X_train, y_train, test_size=0.25, random_state=seed)\n",
    "\n",
    "\n",
    "# X_train, X_val, y_train, y_val = train_test_split(cv_X, y, test_size = 0.2, random_state=seed)\n",
    "# tf_X_train, tf_X_valid, tf_y_train, tf_y_valid = train_test_split(tf_X, y, test_size = 0.2, random_state=seed)"
   ]
  },
  {
   "cell_type": "raw",
   "metadata": {},
   "source": [
    "#cv_lazy_clf = LazyClassifier(verbose=10,ignore_warnings=False, custom_metric=None, classifiers = [DecisionTreeClassifier, RandomForestClassifier, SVC, LogisticRegression, KNeighborsClassifier, GaussianNB, XGBClassifier])\n",
    "cv_lazy_clf = LazyClassifier(verbose=10, ignore_warnings=False, classifiers = [DecisionTreeClassifier,\n",
    "                                                                              RandomForestClassifier,\n",
    "                                                                              SVC,\n",
    "                                                                              LogisticRegression,\n",
    "                                                                              KNeighborsClassifier,\n",
    "                                                                              GaussianNB,\n",
    "                                                                              MLPClassifier,\n",
    "                                                                              XGBClassifier])"
   ]
  },
  {
   "cell_type": "raw",
   "metadata": {},
   "source": [
    "cv_models, cv_predictions = cv_lazy_clf.fit(X_train, X_val, y_train, y_val)"
   ]
  },
  {
   "cell_type": "raw",
   "metadata": {},
   "source": [
    "tf_lazy_clf = LazyClassifier(verbose=5, ignore_warnings=False, custom_metric=None, classifiers=[DecisionTreeClassifier, RandomForestClassifier,  XGBClassifier])"
   ]
  },
  {
   "cell_type": "raw",
   "metadata": {},
   "source": [
    "tf_models, tf_predictions = tf_lazy_clf.fit(tf_X_train, tf_X_valid, tf_y_train, tf_y_valid)"
   ]
  },
  {
   "cell_type": "raw",
   "metadata": {},
   "source": [
    "time_taken = []"
   ]
  },
  {
   "cell_type": "raw",
   "metadata": {},
   "source": [
    "for i in cv_models[\"Time Taken\"]:\n",
    "    time_taken.append(i)"
   ]
  },
  {
   "cell_type": "raw",
   "metadata": {},
   "source": [
    "time_taken"
   ]
  },
  {
   "cell_type": "raw",
   "metadata": {},
   "source": [
    "cv_models.sort_values(\"Accuracy\", ascending=False)"
   ]
  },
  {
   "cell_type": "raw",
   "metadata": {},
   "source": [
    "tf_models"
   ]
  },
  {
   "cell_type": "raw",
   "metadata": {},
   "source": [
    "tf_models.sort_values(\"Accuracy\", ascending=False)"
   ]
  },
  {
   "cell_type": "raw",
   "metadata": {},
   "source": [
    "cv_models.mean()"
   ]
  },
  {
   "cell_type": "raw",
   "metadata": {},
   "source": [
    "tf_models.mean()"
   ]
  },
  {
   "cell_type": "raw",
   "metadata": {},
   "source": [
    "cv_models.sort_values(\"Balanced Accuracy\", ascending=False).head()"
   ]
  },
  {
   "cell_type": "raw",
   "metadata": {},
   "source": [
    "tf_models.sort_values(\"Balanced Accuracy\", ascending=False).head()"
   ]
  },
  {
   "cell_type": "raw",
   "metadata": {},
   "source": [
    "#cv_models.loc[[\"DecisionTreeClassifier\", \"RandomForestClassifier\", \"SVC\", \"LogisticRegression\", \"KNeighborsClassifier\",\"GaussianNB\", \"XGBClassifier\"],:].mean()"
   ]
  },
  {
   "cell_type": "raw",
   "metadata": {},
   "source": [
    "#tf_models.loc[[\"DecisionTreeClassifier\", \"RandomForestClassifier\", \"SVC\", \"LogisticRegression\", \"KNeighborsClassifier\",\"GaussianNB\", \"XGBClassifier\"],:].mean()"
   ]
  },
  {
   "cell_type": "raw",
   "metadata": {},
   "source": [
    "X_train.shape"
   ]
  },
  {
   "cell_type": "raw",
   "metadata": {},
   "source": [
    "y_train.shape"
   ]
  },
  {
   "cell_type": "raw",
   "metadata": {},
   "source": [
    "X_val.shape"
   ]
  },
  {
   "cell_type": "raw",
   "metadata": {},
   "source": [
    "y_val.shape"
   ]
  },
  {
   "cell_type": "markdown",
   "metadata": {},
   "source": [
    "# Hyperparameter tuning\n"
   ]
  },
  {
   "cell_type": "code",
   "execution_count": 33,
   "metadata": {},
   "outputs": [],
   "source": [
    "cv_pickle = \"XSS_cv_pickle.sav\"\n",
    "pickle.dump(cv, open(cv_pickle, \"wb\"))"
   ]
  },
  {
   "cell_type": "code",
   "execution_count": 34,
   "metadata": {},
   "outputs": [],
   "source": [
    "time_taken = []"
   ]
  },
  {
   "cell_type": "markdown",
   "metadata": {},
   "source": [
    "### Decision Tree"
   ]
  },
  {
   "cell_type": "code",
   "execution_count": 35,
   "metadata": {},
   "outputs": [],
   "source": [
    "train_recall_score = []"
   ]
  },
  {
   "cell_type": "code",
   "execution_count": 36,
   "metadata": {},
   "outputs": [],
   "source": [
    "decision_tree = DecisionTreeClassifier(random_state=seed)"
   ]
  },
  {
   "cell_type": "code",
   "execution_count": 37,
   "metadata": {},
   "outputs": [],
   "source": [
    "dt_parameters = {'max_features': ['log2', 'sqrt','auto', None], \n",
    "              'criterion': ['entropy', 'gini'],\n",
    "                 'splitter':['best', 'random'],\n",
    "                'max_depth': [2, 3, 5, 10, 50], \n",
    "              'min_samples_split': [2, 3, 5, 10],\n",
    "              'min_samples_leaf': [2, 3, 5, 10]\n",
    "             }"
   ]
  },
  {
   "cell_type": "raw",
   "metadata": {},
   "source": [
    "dt_parameters = {\"max_features\": [\"log2\"],\n",
    "                \"criterion\": [\"entropy\"]\n",
    "                }"
   ]
  },
  {
   "cell_type": "code",
   "execution_count": 38,
   "metadata": {},
   "outputs": [
    {
     "name": "stdout",
     "output_type": "stream",
     "text": [
      "Fitting 5 folds for each of 10 candidates, totalling 50 fits\n",
      "[Parallel(n_jobs=1)]: Using backend SequentialBackend with 1 concurrent workers.\n",
      "[CV] splitter=random, min_samples_split=10, min_samples_leaf=10, max_features=log2, max_depth=2, criterion=gini \n",
      "[CV]  splitter=random, min_samples_split=10, min_samples_leaf=10, max_features=log2, max_depth=2, criterion=gini, score=1.000, total=   0.5s\n",
      "[Parallel(n_jobs=1)]: Done   1 out of   1 | elapsed:    0.4s remaining:    0.0s\n",
      "[CV] splitter=random, min_samples_split=10, min_samples_leaf=10, max_features=log2, max_depth=2, criterion=gini \n",
      "[CV]  splitter=random, min_samples_split=10, min_samples_leaf=10, max_features=log2, max_depth=2, criterion=gini, score=1.000, total=   0.4s\n",
      "[Parallel(n_jobs=1)]: Done   2 out of   2 | elapsed:    0.8s remaining:    0.0s\n",
      "[CV] splitter=random, min_samples_split=10, min_samples_leaf=10, max_features=log2, max_depth=2, criterion=gini \n",
      "[CV]  splitter=random, min_samples_split=10, min_samples_leaf=10, max_features=log2, max_depth=2, criterion=gini, score=1.000, total=   0.4s\n",
      "[Parallel(n_jobs=1)]: Done   3 out of   3 | elapsed:    1.3s remaining:    0.0s\n",
      "[CV] splitter=random, min_samples_split=10, min_samples_leaf=10, max_features=log2, max_depth=2, criterion=gini \n",
      "[CV]  splitter=random, min_samples_split=10, min_samples_leaf=10, max_features=log2, max_depth=2, criterion=gini, score=1.000, total=   0.4s\n",
      "[Parallel(n_jobs=1)]: Done   4 out of   4 | elapsed:    1.7s remaining:    0.0s\n",
      "[CV] splitter=random, min_samples_split=10, min_samples_leaf=10, max_features=log2, max_depth=2, criterion=gini \n",
      "[CV]  splitter=random, min_samples_split=10, min_samples_leaf=10, max_features=log2, max_depth=2, criterion=gini, score=1.000, total=   0.3s\n",
      "[Parallel(n_jobs=1)]: Done   5 out of   5 | elapsed:    2.1s remaining:    0.0s\n",
      "[CV] splitter=random, min_samples_split=2, min_samples_leaf=10, max_features=auto, max_depth=2, criterion=entropy \n",
      "[CV]  splitter=random, min_samples_split=2, min_samples_leaf=10, max_features=auto, max_depth=2, criterion=entropy, score=0.436, total=   0.4s\n",
      "[Parallel(n_jobs=1)]: Done   6 out of   6 | elapsed:    2.6s remaining:    0.0s\n",
      "[CV] splitter=random, min_samples_split=2, min_samples_leaf=10, max_features=auto, max_depth=2, criterion=entropy \n",
      "[CV]  splitter=random, min_samples_split=2, min_samples_leaf=10, max_features=auto, max_depth=2, criterion=entropy, score=1.000, total=   0.4s\n",
      "[Parallel(n_jobs=1)]: Done   7 out of   7 | elapsed:    3.0s remaining:    0.0s\n",
      "[CV] splitter=random, min_samples_split=2, min_samples_leaf=10, max_features=auto, max_depth=2, criterion=entropy \n",
      "[CV]  splitter=random, min_samples_split=2, min_samples_leaf=10, max_features=auto, max_depth=2, criterion=entropy, score=1.000, total=   0.4s\n",
      "[Parallel(n_jobs=1)]: Done   8 out of   8 | elapsed:    3.5s remaining:    0.0s\n",
      "[CV] splitter=random, min_samples_split=2, min_samples_leaf=10, max_features=auto, max_depth=2, criterion=entropy \n",
      "[CV]  splitter=random, min_samples_split=2, min_samples_leaf=10, max_features=auto, max_depth=2, criterion=entropy, score=1.000, total=   0.4s\n",
      "[Parallel(n_jobs=1)]: Done   9 out of   9 | elapsed:    3.9s remaining:    0.0s\n",
      "[CV] splitter=random, min_samples_split=2, min_samples_leaf=10, max_features=auto, max_depth=2, criterion=entropy \n",
      "[CV]  splitter=random, min_samples_split=2, min_samples_leaf=10, max_features=auto, max_depth=2, criterion=entropy, score=1.000, total=   0.4s\n",
      "[Parallel(n_jobs=1)]: Done  10 out of  10 | elapsed:    4.4s remaining:    0.0s\n",
      "[CV] splitter=best, min_samples_split=2, min_samples_leaf=2, max_features=sqrt, max_depth=10, criterion=entropy \n",
      "[CV]  splitter=best, min_samples_split=2, min_samples_leaf=2, max_features=sqrt, max_depth=10, criterion=entropy, score=0.993, total=   0.4s\n",
      "[Parallel(n_jobs=1)]: Done  11 out of  11 | elapsed:    4.9s remaining:    0.0s\n",
      "[CV] splitter=best, min_samples_split=2, min_samples_leaf=2, max_features=sqrt, max_depth=10, criterion=entropy \n",
      "[CV]  splitter=best, min_samples_split=2, min_samples_leaf=2, max_features=sqrt, max_depth=10, criterion=entropy, score=0.973, total=   0.5s\n",
      "[Parallel(n_jobs=1)]: Done  12 out of  12 | elapsed:    5.4s remaining:    0.0s\n",
      "[CV] splitter=best, min_samples_split=2, min_samples_leaf=2, max_features=sqrt, max_depth=10, criterion=entropy \n",
      "[CV]  splitter=best, min_samples_split=2, min_samples_leaf=2, max_features=sqrt, max_depth=10, criterion=entropy, score=0.993, total=   0.5s\n",
      "[Parallel(n_jobs=1)]: Done  13 out of  13 | elapsed:    5.9s remaining:    0.0s\n",
      "[CV] splitter=best, min_samples_split=2, min_samples_leaf=2, max_features=sqrt, max_depth=10, criterion=entropy \n",
      "[CV]  splitter=best, min_samples_split=2, min_samples_leaf=2, max_features=sqrt, max_depth=10, criterion=entropy, score=0.986, total=   0.6s\n",
      "[Parallel(n_jobs=1)]: Done  14 out of  14 | elapsed:    6.5s remaining:    0.0s\n",
      "[CV] splitter=best, min_samples_split=2, min_samples_leaf=2, max_features=sqrt, max_depth=10, criterion=entropy \n",
      "[CV]  splitter=best, min_samples_split=2, min_samples_leaf=2, max_features=sqrt, max_depth=10, criterion=entropy, score=1.000, total=   0.6s\n",
      "[Parallel(n_jobs=1)]: Done  15 out of  15 | elapsed:    7.1s remaining:    0.0s\n",
      "[CV] splitter=random, min_samples_split=3, min_samples_leaf=5, max_features=sqrt, max_depth=3, criterion=entropy \n",
      "[CV]  splitter=random, min_samples_split=3, min_samples_leaf=5, max_features=sqrt, max_depth=3, criterion=entropy, score=0.987, total=   0.5s\n",
      "[Parallel(n_jobs=1)]: Done  16 out of  16 | elapsed:    7.7s remaining:    0.0s\n",
      "[CV] splitter=random, min_samples_split=3, min_samples_leaf=5, max_features=sqrt, max_depth=3, criterion=entropy \n",
      "[CV]  splitter=random, min_samples_split=3, min_samples_leaf=5, max_features=sqrt, max_depth=3, criterion=entropy, score=1.000, total=   0.4s\n",
      "[Parallel(n_jobs=1)]: Done  17 out of  17 | elapsed:    8.1s remaining:    0.0s\n",
      "[CV] splitter=random, min_samples_split=3, min_samples_leaf=5, max_features=sqrt, max_depth=3, criterion=entropy \n",
      "[CV]  splitter=random, min_samples_split=3, min_samples_leaf=5, max_features=sqrt, max_depth=3, criterion=entropy, score=1.000, total=   0.5s\n",
      "[Parallel(n_jobs=1)]: Done  18 out of  18 | elapsed:    8.7s remaining:    0.0s\n",
      "[CV] splitter=random, min_samples_split=3, min_samples_leaf=5, max_features=sqrt, max_depth=3, criterion=entropy \n",
      "[CV]  splitter=random, min_samples_split=3, min_samples_leaf=5, max_features=sqrt, max_depth=3, criterion=entropy, score=1.000, total=   0.5s\n",
      "[Parallel(n_jobs=1)]: Done  19 out of  19 | elapsed:    9.2s remaining:    0.0s\n",
      "[CV] splitter=random, min_samples_split=3, min_samples_leaf=5, max_features=sqrt, max_depth=3, criterion=entropy \n",
      "[CV]  splitter=random, min_samples_split=3, min_samples_leaf=5, max_features=sqrt, max_depth=3, criterion=entropy, score=1.000, total=   0.4s\n",
      "[Parallel(n_jobs=1)]: Done  20 out of  20 | elapsed:    9.7s remaining:    0.0s\n",
      "[CV] splitter=best, min_samples_split=10, min_samples_leaf=2, max_features=sqrt, max_depth=2, criterion=gini \n",
      "[CV]  splitter=best, min_samples_split=10, min_samples_leaf=2, max_features=sqrt, max_depth=2, criterion=gini, score=0.993, total=   0.5s\n",
      "[Parallel(n_jobs=1)]: Done  21 out of  21 | elapsed:   10.2s remaining:    0.0s\n",
      "[CV] splitter=best, min_samples_split=10, min_samples_leaf=2, max_features=sqrt, max_depth=2, criterion=gini \n",
      "[CV]  splitter=best, min_samples_split=10, min_samples_leaf=2, max_features=sqrt, max_depth=2, criterion=gini, score=0.967, total=   0.4s\n",
      "[Parallel(n_jobs=1)]: Done  22 out of  22 | elapsed:   10.7s remaining:    0.0s\n",
      "[CV] splitter=best, min_samples_split=10, min_samples_leaf=2, max_features=sqrt, max_depth=2, criterion=gini \n",
      "[CV]  splitter=best, min_samples_split=10, min_samples_leaf=2, max_features=sqrt, max_depth=2, criterion=gini, score=0.987, total=   0.4s\n",
      "[Parallel(n_jobs=1)]: Done  23 out of  23 | elapsed:   11.2s remaining:    0.0s\n",
      "[CV] splitter=best, min_samples_split=10, min_samples_leaf=2, max_features=sqrt, max_depth=2, criterion=gini \n",
      "[CV]  splitter=best, min_samples_split=10, min_samples_leaf=2, max_features=sqrt, max_depth=2, criterion=gini, score=0.991, total=   0.5s\n",
      "[Parallel(n_jobs=1)]: Done  24 out of  24 | elapsed:   11.7s remaining:    0.0s\n",
      "[CV] splitter=best, min_samples_split=10, min_samples_leaf=2, max_features=sqrt, max_depth=2, criterion=gini \n"
     ]
    },
    {
     "name": "stdout",
     "output_type": "stream",
     "text": [
      "[CV]  splitter=best, min_samples_split=10, min_samples_leaf=2, max_features=sqrt, max_depth=2, criterion=gini, score=0.999, total=   0.4s\n",
      "[Parallel(n_jobs=1)]: Done  25 out of  25 | elapsed:   12.2s remaining:    0.0s\n",
      "[CV] splitter=best, min_samples_split=3, min_samples_leaf=10, max_features=sqrt, max_depth=2, criterion=gini \n",
      "[CV]  splitter=best, min_samples_split=3, min_samples_leaf=10, max_features=sqrt, max_depth=2, criterion=gini, score=0.993, total=   0.4s\n",
      "[Parallel(n_jobs=1)]: Done  26 out of  26 | elapsed:   12.6s remaining:    0.0s\n",
      "[CV] splitter=best, min_samples_split=3, min_samples_leaf=10, max_features=sqrt, max_depth=2, criterion=gini \n",
      "[CV]  splitter=best, min_samples_split=3, min_samples_leaf=10, max_features=sqrt, max_depth=2, criterion=gini, score=0.967, total=   0.4s\n",
      "[Parallel(n_jobs=1)]: Done  27 out of  27 | elapsed:   13.1s remaining:    0.0s\n",
      "[CV] splitter=best, min_samples_split=3, min_samples_leaf=10, max_features=sqrt, max_depth=2, criterion=gini \n",
      "[CV]  splitter=best, min_samples_split=3, min_samples_leaf=10, max_features=sqrt, max_depth=2, criterion=gini, score=0.987, total=   0.4s\n",
      "[Parallel(n_jobs=1)]: Done  28 out of  28 | elapsed:   13.5s remaining:    0.0s\n",
      "[CV] splitter=best, min_samples_split=3, min_samples_leaf=10, max_features=sqrt, max_depth=2, criterion=gini \n",
      "[CV]  splitter=best, min_samples_split=3, min_samples_leaf=10, max_features=sqrt, max_depth=2, criterion=gini, score=0.991, total=   0.4s\n",
      "[Parallel(n_jobs=1)]: Done  29 out of  29 | elapsed:   14.0s remaining:    0.0s\n",
      "[CV] splitter=best, min_samples_split=3, min_samples_leaf=10, max_features=sqrt, max_depth=2, criterion=gini \n",
      "[CV]  splitter=best, min_samples_split=3, min_samples_leaf=10, max_features=sqrt, max_depth=2, criterion=gini, score=0.999, total=   0.5s\n",
      "[Parallel(n_jobs=1)]: Done  30 out of  30 | elapsed:   14.5s remaining:    0.0s\n",
      "[CV] splitter=random, min_samples_split=10, min_samples_leaf=3, max_features=log2, max_depth=2, criterion=entropy \n",
      "[CV]  splitter=random, min_samples_split=10, min_samples_leaf=3, max_features=log2, max_depth=2, criterion=entropy, score=1.000, total=   0.4s\n",
      "[Parallel(n_jobs=1)]: Done  31 out of  31 | elapsed:   14.9s remaining:    0.0s\n",
      "[CV] splitter=random, min_samples_split=10, min_samples_leaf=3, max_features=log2, max_depth=2, criterion=entropy \n",
      "[CV]  splitter=random, min_samples_split=10, min_samples_leaf=3, max_features=log2, max_depth=2, criterion=entropy, score=1.000, total=   0.4s\n",
      "[Parallel(n_jobs=1)]: Done  32 out of  32 | elapsed:   15.3s remaining:    0.0s\n",
      "[CV] splitter=random, min_samples_split=10, min_samples_leaf=3, max_features=log2, max_depth=2, criterion=entropy \n",
      "[CV]  splitter=random, min_samples_split=10, min_samples_leaf=3, max_features=log2, max_depth=2, criterion=entropy, score=1.000, total=   0.4s\n",
      "[Parallel(n_jobs=1)]: Done  33 out of  33 | elapsed:   15.7s remaining:    0.0s\n",
      "[CV] splitter=random, min_samples_split=10, min_samples_leaf=3, max_features=log2, max_depth=2, criterion=entropy \n",
      "[CV]  splitter=random, min_samples_split=10, min_samples_leaf=3, max_features=log2, max_depth=2, criterion=entropy, score=1.000, total=   0.4s\n",
      "[Parallel(n_jobs=1)]: Done  34 out of  34 | elapsed:   16.2s remaining:    0.0s\n",
      "[CV] splitter=random, min_samples_split=10, min_samples_leaf=3, max_features=log2, max_depth=2, criterion=entropy \n",
      "[CV]  splitter=random, min_samples_split=10, min_samples_leaf=3, max_features=log2, max_depth=2, criterion=entropy, score=1.000, total=   0.4s\n",
      "[Parallel(n_jobs=1)]: Done  35 out of  35 | elapsed:   16.6s remaining:    0.0s\n",
      "[CV] splitter=best, min_samples_split=5, min_samples_leaf=2, max_features=None, max_depth=50, criterion=entropy \n",
      "[CV]  splitter=best, min_samples_split=5, min_samples_leaf=2, max_features=None, max_depth=50, criterion=entropy, score=0.998, total=   2.7s\n",
      "[Parallel(n_jobs=1)]: Done  36 out of  36 | elapsed:   19.4s remaining:    0.0s\n",
      "[CV] splitter=best, min_samples_split=5, min_samples_leaf=2, max_features=None, max_depth=50, criterion=entropy \n",
      "[CV]  splitter=best, min_samples_split=5, min_samples_leaf=2, max_features=None, max_depth=50, criterion=entropy, score=0.994, total=   2.3s\n",
      "[Parallel(n_jobs=1)]: Done  37 out of  37 | elapsed:   21.8s remaining:    0.0s\n",
      "[CV] splitter=best, min_samples_split=5, min_samples_leaf=2, max_features=None, max_depth=50, criterion=entropy \n",
      "[CV]  splitter=best, min_samples_split=5, min_samples_leaf=2, max_features=None, max_depth=50, criterion=entropy, score=0.994, total=   3.9s\n",
      "[Parallel(n_jobs=1)]: Done  38 out of  38 | elapsed:   25.7s remaining:    0.0s\n",
      "[CV] splitter=best, min_samples_split=5, min_samples_leaf=2, max_features=None, max_depth=50, criterion=entropy \n",
      "[CV]  splitter=best, min_samples_split=5, min_samples_leaf=2, max_features=None, max_depth=50, criterion=entropy, score=0.998, total=   3.2s\n",
      "[Parallel(n_jobs=1)]: Done  39 out of  39 | elapsed:   29.0s remaining:    0.0s\n",
      "[CV] splitter=best, min_samples_split=5, min_samples_leaf=2, max_features=None, max_depth=50, criterion=entropy \n",
      "[CV]  splitter=best, min_samples_split=5, min_samples_leaf=2, max_features=None, max_depth=50, criterion=entropy, score=0.997, total=   3.7s\n",
      "[Parallel(n_jobs=1)]: Done  40 out of  40 | elapsed:   32.7s remaining:    0.0s\n",
      "[CV] splitter=random, min_samples_split=2, min_samples_leaf=3, max_features=sqrt, max_depth=10, criterion=entropy \n",
      "[CV]  splitter=random, min_samples_split=2, min_samples_leaf=3, max_features=sqrt, max_depth=10, criterion=entropy, score=0.987, total=   0.5s\n",
      "[Parallel(n_jobs=1)]: Done  41 out of  41 | elapsed:   33.2s remaining:    0.0s\n",
      "[CV] splitter=random, min_samples_split=2, min_samples_leaf=3, max_features=sqrt, max_depth=10, criterion=entropy \n",
      "[CV]  splitter=random, min_samples_split=2, min_samples_leaf=3, max_features=sqrt, max_depth=10, criterion=entropy, score=0.294, total=   0.6s\n",
      "[Parallel(n_jobs=1)]: Done  42 out of  42 | elapsed:   33.8s remaining:    0.0s\n",
      "[CV] splitter=random, min_samples_split=2, min_samples_leaf=3, max_features=sqrt, max_depth=10, criterion=entropy \n",
      "[CV]  splitter=random, min_samples_split=2, min_samples_leaf=3, max_features=sqrt, max_depth=10, criterion=entropy, score=1.000, total=   0.5s\n",
      "[Parallel(n_jobs=1)]: Done  43 out of  43 | elapsed:   34.3s remaining:    0.0s\n",
      "[CV] splitter=random, min_samples_split=2, min_samples_leaf=3, max_features=sqrt, max_depth=10, criterion=entropy \n",
      "[CV]  splitter=random, min_samples_split=2, min_samples_leaf=3, max_features=sqrt, max_depth=10, criterion=entropy, score=1.000, total=   0.5s\n",
      "[Parallel(n_jobs=1)]: Done  44 out of  44 | elapsed:   34.8s remaining:    0.0s\n",
      "[CV] splitter=random, min_samples_split=2, min_samples_leaf=3, max_features=sqrt, max_depth=10, criterion=entropy \n",
      "[CV]  splitter=random, min_samples_split=2, min_samples_leaf=3, max_features=sqrt, max_depth=10, criterion=entropy, score=0.988, total=   0.5s\n",
      "[Parallel(n_jobs=1)]: Done  45 out of  45 | elapsed:   35.3s remaining:    0.0s\n",
      "[CV] splitter=random, min_samples_split=10, min_samples_leaf=10, max_features=auto, max_depth=2, criterion=entropy \n",
      "[CV]  splitter=random, min_samples_split=10, min_samples_leaf=10, max_features=auto, max_depth=2, criterion=entropy, score=0.436, total=   0.4s\n",
      "[Parallel(n_jobs=1)]: Done  46 out of  46 | elapsed:   35.8s remaining:    0.0s\n",
      "[CV] splitter=random, min_samples_split=10, min_samples_leaf=10, max_features=auto, max_depth=2, criterion=entropy \n",
      "[CV]  splitter=random, min_samples_split=10, min_samples_leaf=10, max_features=auto, max_depth=2, criterion=entropy, score=1.000, total=   0.4s\n",
      "[Parallel(n_jobs=1)]: Done  47 out of  47 | elapsed:   36.3s remaining:    0.0s\n",
      "[CV] splitter=random, min_samples_split=10, min_samples_leaf=10, max_features=auto, max_depth=2, criterion=entropy \n",
      "[CV]  splitter=random, min_samples_split=10, min_samples_leaf=10, max_features=auto, max_depth=2, criterion=entropy, score=1.000, total=   0.4s\n",
      "[Parallel(n_jobs=1)]: Done  48 out of  48 | elapsed:   36.7s remaining:    0.0s\n",
      "[CV] splitter=random, min_samples_split=10, min_samples_leaf=10, max_features=auto, max_depth=2, criterion=entropy \n",
      "[CV]  splitter=random, min_samples_split=10, min_samples_leaf=10, max_features=auto, max_depth=2, criterion=entropy, score=1.000, total=   0.3s\n",
      "[Parallel(n_jobs=1)]: Done  49 out of  49 | elapsed:   37.1s remaining:    0.0s\n",
      "[CV] splitter=random, min_samples_split=10, min_samples_leaf=10, max_features=auto, max_depth=2, criterion=entropy \n"
     ]
    },
    {
     "name": "stdout",
     "output_type": "stream",
     "text": [
      "[CV]  splitter=random, min_samples_split=10, min_samples_leaf=10, max_features=auto, max_depth=2, criterion=entropy, score=1.000, total=   0.4s\n",
      "[Parallel(n_jobs=1)]: Done  50 out of  50 | elapsed:   37.5s remaining:    0.0s\n",
      "[Parallel(n_jobs=1)]: Done  50 out of  50 | elapsed:   37.5s finished\n"
     ]
    }
   ],
   "source": [
    "\n",
    "best_dt = RandomizedSearchCV(decision_tree, dt_parameters, n_iter=10, cv=5, random_state=seed, verbose=100, scoring=\"recall\")\n",
    "dt_start = time.time()\n",
    "best_dt.fit(X_train, y_train)\n",
    "dt_end = time.time()\n",
    "dt_time_taken = (dt_end-dt_start)/50"
   ]
  },
  {
   "cell_type": "code",
   "execution_count": 39,
   "metadata": {},
   "outputs": [
    {
     "name": "stdout",
     "output_type": "stream",
     "text": [
      "0.7561665105819703\n"
     ]
    }
   ],
   "source": [
    "print(dt_time_taken)"
   ]
  },
  {
   "cell_type": "code",
   "execution_count": 40,
   "metadata": {},
   "outputs": [],
   "source": [
    "time_taken.append(dt_time_taken)"
   ]
  },
  {
   "cell_type": "code",
   "execution_count": 41,
   "metadata": {},
   "outputs": [
    {
     "data": {
      "text/plain": [
       "{'splitter': 'random',\n",
       " 'min_samples_split': 10,\n",
       " 'min_samples_leaf': 10,\n",
       " 'max_features': 'log2',\n",
       " 'max_depth': 2,\n",
       " 'criterion': 'gini'}"
      ]
     },
     "execution_count": 41,
     "metadata": {},
     "output_type": "execute_result"
    }
   ],
   "source": [
    "best_dt.best_params_"
   ]
  },
  {
   "cell_type": "raw",
   "metadata": {},
   "source": [
    "dt_y_pred=best_dt.predict(X_val)"
   ]
  },
  {
   "cell_type": "raw",
   "metadata": {},
   "source": [
    "print(classification_report(y_val, dt_y_pred))"
   ]
  },
  {
   "cell_type": "code",
   "execution_count": 42,
   "metadata": {},
   "outputs": [],
   "source": [
    "dt_pickle = \"XSS_dt_pickle.sav\"\n",
    "pickle.dump(best_dt, open(dt_pickle, \"wb\"))"
   ]
  },
  {
   "cell_type": "raw",
   "metadata": {},
   "source": [
    "dt_recall = recall_score(y_val, dt_y_pred)"
   ]
  },
  {
   "cell_type": "code",
   "execution_count": 43,
   "metadata": {},
   "outputs": [],
   "source": [
    "dt_recall = best_dt.best_score_"
   ]
  },
  {
   "cell_type": "code",
   "execution_count": 44,
   "metadata": {},
   "outputs": [
    {
     "data": {
      "text/plain": [
       "1.0"
      ]
     },
     "execution_count": 44,
     "metadata": {},
     "output_type": "execute_result"
    }
   ],
   "source": [
    "dt_recall"
   ]
  },
  {
   "cell_type": "code",
   "execution_count": 45,
   "metadata": {},
   "outputs": [],
   "source": [
    "train_recall_score.append(dt_recall)"
   ]
  },
  {
   "cell_type": "code",
   "execution_count": 46,
   "metadata": {},
   "outputs": [
    {
     "data": {
      "text/plain": [
       "[1.0]"
      ]
     },
     "execution_count": 46,
     "metadata": {},
     "output_type": "execute_result"
    }
   ],
   "source": [
    "train_recall_score"
   ]
  },
  {
   "cell_type": "markdown",
   "metadata": {},
   "source": [
    "### Random Forest"
   ]
  },
  {
   "cell_type": "code",
   "execution_count": 47,
   "metadata": {},
   "outputs": [],
   "source": [
    "random_forest = RandomForestClassifier(random_state=seed)"
   ]
  },
  {
   "cell_type": "code",
   "execution_count": 48,
   "metadata": {},
   "outputs": [],
   "source": [
    "rf_parameters = {\"n_estimators\":[10, 50, 100],\n",
    "                 \"max_features\":[\"log2\", \"sqrt\", \"auto\", None],\n",
    "                 \"criterion\":[\"entropy\", \"gini\"],\n",
    "                 \"max_depth\":[2, 3, 5, 10, 50],\n",
    "                 \"min_samples_split\":[2, 3, 5],\n",
    "                 \"min_samples_leaf\":[2, 3, 5]\n",
    "}"
   ]
  },
  {
   "cell_type": "raw",
   "metadata": {},
   "source": [
    "rf_parameters = {\"n_estimators\": [10],\n",
    "                \"max_features\": [\"log2\"]}"
   ]
  },
  {
   "cell_type": "code",
   "execution_count": 49,
   "metadata": {},
   "outputs": [
    {
     "name": "stdout",
     "output_type": "stream",
     "text": [
      "Fitting 5 folds for each of 10 candidates, totalling 50 fits\n",
      "[Parallel(n_jobs=1)]: Using backend SequentialBackend with 1 concurrent workers.\n",
      "[CV] n_estimators=100, min_samples_split=3, min_samples_leaf=5, max_features=log2, max_depth=3, criterion=gini \n",
      "[CV]  n_estimators=100, min_samples_split=3, min_samples_leaf=5, max_features=log2, max_depth=3, criterion=gini, score=1.000, total=   0.7s\n",
      "[Parallel(n_jobs=1)]: Done   1 out of   1 | elapsed:    0.7s remaining:    0.0s\n",
      "[CV] n_estimators=100, min_samples_split=3, min_samples_leaf=5, max_features=log2, max_depth=3, criterion=gini \n",
      "[CV]  n_estimators=100, min_samples_split=3, min_samples_leaf=5, max_features=log2, max_depth=3, criterion=gini, score=1.000, total=   0.7s\n",
      "[Parallel(n_jobs=1)]: Done   2 out of   2 | elapsed:    1.5s remaining:    0.0s\n",
      "[CV] n_estimators=100, min_samples_split=3, min_samples_leaf=5, max_features=log2, max_depth=3, criterion=gini \n",
      "[CV]  n_estimators=100, min_samples_split=3, min_samples_leaf=5, max_features=log2, max_depth=3, criterion=gini, score=1.000, total=   0.7s\n",
      "[Parallel(n_jobs=1)]: Done   3 out of   3 | elapsed:    2.2s remaining:    0.0s\n",
      "[CV] n_estimators=100, min_samples_split=3, min_samples_leaf=5, max_features=log2, max_depth=3, criterion=gini \n",
      "[CV]  n_estimators=100, min_samples_split=3, min_samples_leaf=5, max_features=log2, max_depth=3, criterion=gini, score=1.000, total=   0.7s\n",
      "[Parallel(n_jobs=1)]: Done   4 out of   4 | elapsed:    3.0s remaining:    0.0s\n",
      "[CV] n_estimators=100, min_samples_split=3, min_samples_leaf=5, max_features=log2, max_depth=3, criterion=gini \n",
      "[CV]  n_estimators=100, min_samples_split=3, min_samples_leaf=5, max_features=log2, max_depth=3, criterion=gini, score=1.000, total=   0.7s\n",
      "[Parallel(n_jobs=1)]: Done   5 out of   5 | elapsed:    3.7s remaining:    0.0s\n",
      "[CV] n_estimators=100, min_samples_split=5, min_samples_leaf=2, max_features=None, max_depth=2, criterion=entropy \n",
      "[CV]  n_estimators=100, min_samples_split=5, min_samples_leaf=2, max_features=None, max_depth=2, criterion=entropy, score=0.988, total= 1.1min\n",
      "[Parallel(n_jobs=1)]: Done   6 out of   6 | elapsed:  1.2min remaining:    0.0s\n",
      "[CV] n_estimators=100, min_samples_split=5, min_samples_leaf=2, max_features=None, max_depth=2, criterion=entropy \n",
      "[CV]  n_estimators=100, min_samples_split=5, min_samples_leaf=2, max_features=None, max_depth=2, criterion=entropy, score=0.986, total= 1.1min\n",
      "[Parallel(n_jobs=1)]: Done   7 out of   7 | elapsed:  2.3min remaining:    0.0s\n",
      "[CV] n_estimators=100, min_samples_split=5, min_samples_leaf=2, max_features=None, max_depth=2, criterion=entropy \n",
      "[CV]  n_estimators=100, min_samples_split=5, min_samples_leaf=2, max_features=None, max_depth=2, criterion=entropy, score=0.985, total= 1.2min\n",
      "[Parallel(n_jobs=1)]: Done   8 out of   8 | elapsed:  3.5min remaining:    0.0s\n",
      "[CV] n_estimators=100, min_samples_split=5, min_samples_leaf=2, max_features=None, max_depth=2, criterion=entropy \n",
      "[CV]  n_estimators=100, min_samples_split=5, min_samples_leaf=2, max_features=None, max_depth=2, criterion=entropy, score=0.991, total= 1.1min\n",
      "[Parallel(n_jobs=1)]: Done   9 out of   9 | elapsed:  4.7min remaining:    0.0s\n",
      "[CV] n_estimators=100, min_samples_split=5, min_samples_leaf=2, max_features=None, max_depth=2, criterion=entropy \n",
      "[CV]  n_estimators=100, min_samples_split=5, min_samples_leaf=2, max_features=None, max_depth=2, criterion=entropy, score=0.982, total= 1.1min\n",
      "[Parallel(n_jobs=1)]: Done  10 out of  10 | elapsed:  5.8min remaining:    0.0s\n",
      "[CV] n_estimators=100, min_samples_split=2, min_samples_leaf=3, max_features=None, max_depth=10, criterion=entropy \n",
      "[CV]  n_estimators=100, min_samples_split=2, min_samples_leaf=3, max_features=None, max_depth=10, criterion=entropy, score=0.997, total= 2.3min\n",
      "[Parallel(n_jobs=1)]: Done  11 out of  11 | elapsed:  8.0min remaining:    0.0s\n",
      "[CV] n_estimators=100, min_samples_split=2, min_samples_leaf=3, max_features=None, max_depth=10, criterion=entropy \n",
      "[CV]  n_estimators=100, min_samples_split=2, min_samples_leaf=3, max_features=None, max_depth=10, criterion=entropy, score=0.990, total= 2.2min\n",
      "[Parallel(n_jobs=1)]: Done  12 out of  12 | elapsed: 10.2min remaining:    0.0s\n",
      "[CV] n_estimators=100, min_samples_split=2, min_samples_leaf=3, max_features=None, max_depth=10, criterion=entropy \n",
      "[CV]  n_estimators=100, min_samples_split=2, min_samples_leaf=3, max_features=None, max_depth=10, criterion=entropy, score=0.995, total= 2.2min\n",
      "[Parallel(n_jobs=1)]: Done  13 out of  13 | elapsed: 12.5min remaining:    0.0s\n",
      "[CV] n_estimators=100, min_samples_split=2, min_samples_leaf=3, max_features=None, max_depth=10, criterion=entropy \n",
      "[CV]  n_estimators=100, min_samples_split=2, min_samples_leaf=3, max_features=None, max_depth=10, criterion=entropy, score=0.999, total= 2.3min\n",
      "[Parallel(n_jobs=1)]: Done  14 out of  14 | elapsed: 14.7min remaining:    0.0s\n",
      "[CV] n_estimators=100, min_samples_split=2, min_samples_leaf=3, max_features=None, max_depth=10, criterion=entropy \n",
      "[CV]  n_estimators=100, min_samples_split=2, min_samples_leaf=3, max_features=None, max_depth=10, criterion=entropy, score=0.997, total= 2.3min\n",
      "[Parallel(n_jobs=1)]: Done  15 out of  15 | elapsed: 17.1min remaining:    0.0s\n",
      "[CV] n_estimators=100, min_samples_split=5, min_samples_leaf=3, max_features=auto, max_depth=3, criterion=entropy \n",
      "[CV]  n_estimators=100, min_samples_split=5, min_samples_leaf=3, max_features=auto, max_depth=3, criterion=entropy, score=0.995, total=   2.5s\n",
      "[Parallel(n_jobs=1)]: Done  16 out of  16 | elapsed: 17.1min remaining:    0.0s\n",
      "[CV] n_estimators=100, min_samples_split=5, min_samples_leaf=3, max_features=auto, max_depth=3, criterion=entropy \n",
      "[CV]  n_estimators=100, min_samples_split=5, min_samples_leaf=3, max_features=auto, max_depth=3, criterion=entropy, score=0.990, total=   2.4s\n",
      "[Parallel(n_jobs=1)]: Done  17 out of  17 | elapsed: 17.2min remaining:    0.0s\n",
      "[CV] n_estimators=100, min_samples_split=5, min_samples_leaf=3, max_features=auto, max_depth=3, criterion=entropy \n",
      "[CV]  n_estimators=100, min_samples_split=5, min_samples_leaf=3, max_features=auto, max_depth=3, criterion=entropy, score=0.997, total=   2.1s\n",
      "[Parallel(n_jobs=1)]: Done  18 out of  18 | elapsed: 17.2min remaining:    0.0s\n",
      "[CV] n_estimators=100, min_samples_split=5, min_samples_leaf=3, max_features=auto, max_depth=3, criterion=entropy \n",
      "[CV]  n_estimators=100, min_samples_split=5, min_samples_leaf=3, max_features=auto, max_depth=3, criterion=entropy, score=0.995, total=   2.2s\n",
      "[Parallel(n_jobs=1)]: Done  19 out of  19 | elapsed: 17.2min remaining:    0.0s\n",
      "[CV] n_estimators=100, min_samples_split=5, min_samples_leaf=3, max_features=auto, max_depth=3, criterion=entropy \n",
      "[CV]  n_estimators=100, min_samples_split=5, min_samples_leaf=3, max_features=auto, max_depth=3, criterion=entropy, score=0.992, total=   2.2s\n",
      "[Parallel(n_jobs=1)]: Done  20 out of  20 | elapsed: 17.3min remaining:    0.0s\n",
      "[CV] n_estimators=10, min_samples_split=3, min_samples_leaf=2, max_features=sqrt, max_depth=3, criterion=gini \n",
      "[CV]  n_estimators=10, min_samples_split=3, min_samples_leaf=2, max_features=sqrt, max_depth=3, criterion=gini, score=0.986, total=   0.5s\n",
      "[Parallel(n_jobs=1)]: Done  21 out of  21 | elapsed: 17.3min remaining:    0.0s\n",
      "[CV] n_estimators=10, min_samples_split=3, min_samples_leaf=2, max_features=sqrt, max_depth=3, criterion=gini \n",
      "[CV]  n_estimators=10, min_samples_split=3, min_samples_leaf=2, max_features=sqrt, max_depth=3, criterion=gini, score=0.984, total=   0.6s\n",
      "[Parallel(n_jobs=1)]: Done  22 out of  22 | elapsed: 17.3min remaining:    0.0s\n",
      "[CV] n_estimators=10, min_samples_split=3, min_samples_leaf=2, max_features=sqrt, max_depth=3, criterion=gini \n",
      "[CV]  n_estimators=10, min_samples_split=3, min_samples_leaf=2, max_features=sqrt, max_depth=3, criterion=gini, score=0.985, total=   0.5s\n",
      "[Parallel(n_jobs=1)]: Done  23 out of  23 | elapsed: 17.3min remaining:    0.0s\n",
      "[CV] n_estimators=10, min_samples_split=3, min_samples_leaf=2, max_features=sqrt, max_depth=3, criterion=gini \n",
      "[CV]  n_estimators=10, min_samples_split=3, min_samples_leaf=2, max_features=sqrt, max_depth=3, criterion=gini, score=0.993, total=   0.5s\n",
      "[Parallel(n_jobs=1)]: Done  24 out of  24 | elapsed: 17.3min remaining:    0.0s\n",
      "[CV] n_estimators=10, min_samples_split=3, min_samples_leaf=2, max_features=sqrt, max_depth=3, criterion=gini \n"
     ]
    },
    {
     "name": "stdout",
     "output_type": "stream",
     "text": [
      "[CV]  n_estimators=10, min_samples_split=3, min_samples_leaf=2, max_features=sqrt, max_depth=3, criterion=gini, score=0.995, total=   0.5s\n",
      "[Parallel(n_jobs=1)]: Done  25 out of  25 | elapsed: 17.3min remaining:    0.0s\n",
      "[CV] n_estimators=100, min_samples_split=3, min_samples_leaf=5, max_features=sqrt, max_depth=3, criterion=gini \n",
      "[CV]  n_estimators=100, min_samples_split=3, min_samples_leaf=5, max_features=sqrt, max_depth=3, criterion=gini, score=0.997, total=   2.2s\n",
      "[Parallel(n_jobs=1)]: Done  26 out of  26 | elapsed: 17.4min remaining:    0.0s\n",
      "[CV] n_estimators=100, min_samples_split=3, min_samples_leaf=5, max_features=sqrt, max_depth=3, criterion=gini \n",
      "[CV]  n_estimators=100, min_samples_split=3, min_samples_leaf=5, max_features=sqrt, max_depth=3, criterion=gini, score=0.990, total=   2.1s\n",
      "[Parallel(n_jobs=1)]: Done  27 out of  27 | elapsed: 17.4min remaining:    0.0s\n",
      "[CV] n_estimators=100, min_samples_split=3, min_samples_leaf=5, max_features=sqrt, max_depth=3, criterion=gini \n",
      "[CV]  n_estimators=100, min_samples_split=3, min_samples_leaf=5, max_features=sqrt, max_depth=3, criterion=gini, score=0.995, total=   2.2s\n",
      "[Parallel(n_jobs=1)]: Done  28 out of  28 | elapsed: 17.4min remaining:    0.0s\n",
      "[CV] n_estimators=100, min_samples_split=3, min_samples_leaf=5, max_features=sqrt, max_depth=3, criterion=gini \n",
      "[CV]  n_estimators=100, min_samples_split=3, min_samples_leaf=5, max_features=sqrt, max_depth=3, criterion=gini, score=0.995, total=   2.2s\n",
      "[Parallel(n_jobs=1)]: Done  29 out of  29 | elapsed: 17.5min remaining:    0.0s\n",
      "[CV] n_estimators=100, min_samples_split=3, min_samples_leaf=5, max_features=sqrt, max_depth=3, criterion=gini \n",
      "[CV]  n_estimators=100, min_samples_split=3, min_samples_leaf=5, max_features=sqrt, max_depth=3, criterion=gini, score=0.993, total=   2.2s\n",
      "[Parallel(n_jobs=1)]: Done  30 out of  30 | elapsed: 17.5min remaining:    0.0s\n",
      "[CV] n_estimators=10, min_samples_split=5, min_samples_leaf=3, max_features=log2, max_depth=2, criterion=entropy \n",
      "[CV]  n_estimators=10, min_samples_split=5, min_samples_leaf=3, max_features=log2, max_depth=2, criterion=entropy, score=0.999, total=   0.4s\n",
      "[Parallel(n_jobs=1)]: Done  31 out of  31 | elapsed: 17.5min remaining:    0.0s\n",
      "[CV] n_estimators=10, min_samples_split=5, min_samples_leaf=3, max_features=log2, max_depth=2, criterion=entropy \n",
      "[CV]  n_estimators=10, min_samples_split=5, min_samples_leaf=3, max_features=log2, max_depth=2, criterion=entropy, score=0.998, total=   0.4s\n",
      "[Parallel(n_jobs=1)]: Done  32 out of  32 | elapsed: 17.5min remaining:    0.0s\n",
      "[CV] n_estimators=10, min_samples_split=5, min_samples_leaf=3, max_features=log2, max_depth=2, criterion=entropy \n",
      "[CV]  n_estimators=10, min_samples_split=5, min_samples_leaf=3, max_features=log2, max_depth=2, criterion=entropy, score=0.988, total=   0.4s\n",
      "[Parallel(n_jobs=1)]: Done  33 out of  33 | elapsed: 17.5min remaining:    0.0s\n",
      "[CV] n_estimators=10, min_samples_split=5, min_samples_leaf=3, max_features=log2, max_depth=2, criterion=entropy \n",
      "[CV]  n_estimators=10, min_samples_split=5, min_samples_leaf=3, max_features=log2, max_depth=2, criterion=entropy, score=0.987, total=   0.4s\n",
      "[Parallel(n_jobs=1)]: Done  34 out of  34 | elapsed: 17.5min remaining:    0.0s\n",
      "[CV] n_estimators=10, min_samples_split=5, min_samples_leaf=3, max_features=log2, max_depth=2, criterion=entropy \n",
      "[CV]  n_estimators=10, min_samples_split=5, min_samples_leaf=3, max_features=log2, max_depth=2, criterion=entropy, score=0.984, total=   0.5s\n",
      "[Parallel(n_jobs=1)]: Done  35 out of  35 | elapsed: 17.5min remaining:    0.0s\n",
      "[CV] n_estimators=10, min_samples_split=2, min_samples_leaf=5, max_features=auto, max_depth=2, criterion=gini \n",
      "[CV]  n_estimators=10, min_samples_split=2, min_samples_leaf=5, max_features=auto, max_depth=2, criterion=gini, score=0.987, total=   0.5s\n",
      "[Parallel(n_jobs=1)]: Done  36 out of  36 | elapsed: 17.5min remaining:    0.0s\n",
      "[CV] n_estimators=10, min_samples_split=2, min_samples_leaf=5, max_features=auto, max_depth=2, criterion=gini \n",
      "[CV]  n_estimators=10, min_samples_split=2, min_samples_leaf=5, max_features=auto, max_depth=2, criterion=gini, score=0.998, total=   0.5s\n",
      "[Parallel(n_jobs=1)]: Done  37 out of  37 | elapsed: 17.6min remaining:    0.0s\n",
      "[CV] n_estimators=10, min_samples_split=2, min_samples_leaf=5, max_features=auto, max_depth=2, criterion=gini \n",
      "[CV]  n_estimators=10, min_samples_split=2, min_samples_leaf=5, max_features=auto, max_depth=2, criterion=gini, score=0.967, total=   0.5s\n",
      "[Parallel(n_jobs=1)]: Done  38 out of  38 | elapsed: 17.6min remaining:    0.0s\n",
      "[CV] n_estimators=10, min_samples_split=2, min_samples_leaf=5, max_features=auto, max_depth=2, criterion=gini \n",
      "[CV]  n_estimators=10, min_samples_split=2, min_samples_leaf=5, max_features=auto, max_depth=2, criterion=gini, score=1.000, total=   0.5s\n",
      "[Parallel(n_jobs=1)]: Done  39 out of  39 | elapsed: 17.6min remaining:    0.0s\n",
      "[CV] n_estimators=10, min_samples_split=2, min_samples_leaf=5, max_features=auto, max_depth=2, criterion=gini \n",
      "[CV]  n_estimators=10, min_samples_split=2, min_samples_leaf=5, max_features=auto, max_depth=2, criterion=gini, score=1.000, total=   0.5s\n",
      "[Parallel(n_jobs=1)]: Done  40 out of  40 | elapsed: 17.6min remaining:    0.0s\n",
      "[CV] n_estimators=100, min_samples_split=2, min_samples_leaf=5, max_features=None, max_depth=10, criterion=entropy \n",
      "[CV]  n_estimators=100, min_samples_split=2, min_samples_leaf=5, max_features=None, max_depth=10, criterion=entropy, score=0.997, total= 2.1min\n",
      "[Parallel(n_jobs=1)]: Done  41 out of  41 | elapsed: 19.7min remaining:    0.0s\n",
      "[CV] n_estimators=100, min_samples_split=2, min_samples_leaf=5, max_features=None, max_depth=10, criterion=entropy \n",
      "[CV]  n_estimators=100, min_samples_split=2, min_samples_leaf=5, max_features=None, max_depth=10, criterion=entropy, score=0.988, total= 2.2min\n",
      "[Parallel(n_jobs=1)]: Done  42 out of  42 | elapsed: 21.9min remaining:    0.0s\n",
      "[CV] n_estimators=100, min_samples_split=2, min_samples_leaf=5, max_features=None, max_depth=10, criterion=entropy \n",
      "[CV]  n_estimators=100, min_samples_split=2, min_samples_leaf=5, max_features=None, max_depth=10, criterion=entropy, score=0.995, total= 2.1min\n",
      "[Parallel(n_jobs=1)]: Done  43 out of  43 | elapsed: 24.1min remaining:    0.0s\n",
      "[CV] n_estimators=100, min_samples_split=2, min_samples_leaf=5, max_features=None, max_depth=10, criterion=entropy \n",
      "[CV]  n_estimators=100, min_samples_split=2, min_samples_leaf=5, max_features=None, max_depth=10, criterion=entropy, score=0.998, total= 2.1min\n",
      "[Parallel(n_jobs=1)]: Done  44 out of  44 | elapsed: 26.2min remaining:    0.0s\n",
      "[CV] n_estimators=100, min_samples_split=2, min_samples_leaf=5, max_features=None, max_depth=10, criterion=entropy \n",
      "[CV]  n_estimators=100, min_samples_split=2, min_samples_leaf=5, max_features=None, max_depth=10, criterion=entropy, score=0.995, total= 2.2min\n",
      "[Parallel(n_jobs=1)]: Done  45 out of  45 | elapsed: 28.4min remaining:    0.0s\n",
      "[CV] n_estimators=100, min_samples_split=3, min_samples_leaf=3, max_features=None, max_depth=2, criterion=entropy \n",
      "[CV]  n_estimators=100, min_samples_split=3, min_samples_leaf=3, max_features=None, max_depth=2, criterion=entropy, score=0.988, total= 1.1min\n",
      "[Parallel(n_jobs=1)]: Done  46 out of  46 | elapsed: 29.5min remaining:    0.0s\n",
      "[CV] n_estimators=100, min_samples_split=3, min_samples_leaf=3, max_features=None, max_depth=2, criterion=entropy \n",
      "[CV]  n_estimators=100, min_samples_split=3, min_samples_leaf=3, max_features=None, max_depth=2, criterion=entropy, score=0.986, total= 1.1min\n",
      "[Parallel(n_jobs=1)]: Done  47 out of  47 | elapsed: 30.6min remaining:    0.0s\n",
      "[CV] n_estimators=100, min_samples_split=3, min_samples_leaf=3, max_features=None, max_depth=2, criterion=entropy \n",
      "[CV]  n_estimators=100, min_samples_split=3, min_samples_leaf=3, max_features=None, max_depth=2, criterion=entropy, score=0.985, total= 1.2min\n",
      "[Parallel(n_jobs=1)]: Done  48 out of  48 | elapsed: 31.8min remaining:    0.0s\n",
      "[CV] n_estimators=100, min_samples_split=3, min_samples_leaf=3, max_features=None, max_depth=2, criterion=entropy \n",
      "[CV]  n_estimators=100, min_samples_split=3, min_samples_leaf=3, max_features=None, max_depth=2, criterion=entropy, score=0.991, total= 1.2min\n",
      "[Parallel(n_jobs=1)]: Done  49 out of  49 | elapsed: 32.9min remaining:    0.0s\n",
      "[CV] n_estimators=100, min_samples_split=3, min_samples_leaf=3, max_features=None, max_depth=2, criterion=entropy \n"
     ]
    },
    {
     "name": "stdout",
     "output_type": "stream",
     "text": [
      "[CV]  n_estimators=100, min_samples_split=3, min_samples_leaf=3, max_features=None, max_depth=2, criterion=entropy, score=0.982, total= 1.1min\n",
      "[Parallel(n_jobs=1)]: Done  50 out of  50 | elapsed: 34.1min remaining:    0.0s\n",
      "[Parallel(n_jobs=1)]: Done  50 out of  50 | elapsed: 34.1min finished\n"
     ]
    }
   ],
   "source": [
    "best_rf = RandomizedSearchCV(random_forest, rf_parameters, n_iter=10, cv=5, random_state=seed, verbose=100, scoring=\"recall\")\n",
    "rf_start = time.time()\n",
    "best_rf.fit(X_train, y_train)\n",
    "rf_end = time.time()\n",
    "rf_time_taken = (rf_end-rf_start)/50"
   ]
  },
  {
   "cell_type": "code",
   "execution_count": 50,
   "metadata": {},
   "outputs": [
    {
     "name": "stdout",
     "output_type": "stream",
     "text": [
      "40.904814882278444\n"
     ]
    }
   ],
   "source": [
    "print(rf_time_taken)"
   ]
  },
  {
   "cell_type": "code",
   "execution_count": 51,
   "metadata": {},
   "outputs": [],
   "source": [
    "time_taken.append(rf_time_taken)"
   ]
  },
  {
   "cell_type": "code",
   "execution_count": 52,
   "metadata": {},
   "outputs": [
    {
     "data": {
      "text/plain": [
       "{'n_estimators': 100,\n",
       " 'min_samples_split': 3,\n",
       " 'min_samples_leaf': 5,\n",
       " 'max_features': 'log2',\n",
       " 'max_depth': 3,\n",
       " 'criterion': 'gini'}"
      ]
     },
     "execution_count": 52,
     "metadata": {},
     "output_type": "execute_result"
    }
   ],
   "source": [
    "best_rf.best_params_"
   ]
  },
  {
   "cell_type": "raw",
   "metadata": {},
   "source": [
    "rf_y_pred = best_rf.predict(X_val)"
   ]
  },
  {
   "cell_type": "raw",
   "metadata": {},
   "source": [
    "print(classification_report(y_val, rf_y_pred))"
   ]
  },
  {
   "cell_type": "code",
   "execution_count": 53,
   "metadata": {},
   "outputs": [],
   "source": [
    "rf_pickle = \"XSS_rf_pickle.sav\"\n",
    "pickle.dump(best_rf, open(rf_pickle, \"wb\"))\n"
   ]
  },
  {
   "cell_type": "raw",
   "metadata": {},
   "source": [
    "rf_recall = recall_score(y_val, rf_y_pred)"
   ]
  },
  {
   "cell_type": "code",
   "execution_count": 54,
   "metadata": {},
   "outputs": [],
   "source": [
    "rf_recall = best_rf.best_score_"
   ]
  },
  {
   "cell_type": "code",
   "execution_count": 55,
   "metadata": {},
   "outputs": [
    {
     "data": {
      "text/plain": [
       "1.0"
      ]
     },
     "execution_count": 55,
     "metadata": {},
     "output_type": "execute_result"
    }
   ],
   "source": [
    "rf_recall"
   ]
  },
  {
   "cell_type": "code",
   "execution_count": 56,
   "metadata": {},
   "outputs": [],
   "source": [
    "train_recall_score.append(rf_recall)"
   ]
  },
  {
   "cell_type": "code",
   "execution_count": 57,
   "metadata": {},
   "outputs": [
    {
     "data": {
      "text/plain": [
       "[1.0, 1.0]"
      ]
     },
     "execution_count": 57,
     "metadata": {},
     "output_type": "execute_result"
    }
   ],
   "source": [
    "train_recall_score"
   ]
  },
  {
   "cell_type": "markdown",
   "metadata": {},
   "source": [
    "### SVC"
   ]
  },
  {
   "cell_type": "code",
   "execution_count": 58,
   "metadata": {},
   "outputs": [],
   "source": [
    "svc = SVC(random_state=seed)"
   ]
  },
  {
   "cell_type": "code",
   "execution_count": 59,
   "metadata": {},
   "outputs": [],
   "source": [
    "svc_parameters = {\"kernel\": [\"linear\", \"rbf\", \"poly\"],\n",
    "                 \"gamma\": [0.1, 1, 10, 100],\n",
    "                 \"C\": [0.1, 1, 10, 100, 1000],\n",
    "                  \"degree\": [0, 1, 2, 3, 4, 5, 6]\n",
    "}"
   ]
  },
  {
   "cell_type": "raw",
   "metadata": {},
   "source": [
    "svc_parameters = {\"kernel\": [\"linear\"],\n",
    "                 \"C\": [0.1]}"
   ]
  },
  {
   "cell_type": "code",
   "execution_count": 60,
   "metadata": {},
   "outputs": [
    {
     "name": "stdout",
     "output_type": "stream",
     "text": [
      "Fitting 5 folds for each of 10 candidates, totalling 50 fits\n",
      "[Parallel(n_jobs=1)]: Using backend SequentialBackend with 1 concurrent workers.\n",
      "[CV] kernel=linear, gamma=10, degree=5, C=1000 .......................\n",
      "[CV]  kernel=linear, gamma=10, degree=5, C=1000, score=0.995, total=  13.5s\n",
      "[Parallel(n_jobs=1)]: Done   1 out of   1 | elapsed:   13.5s remaining:    0.0s\n",
      "[CV] kernel=linear, gamma=10, degree=5, C=1000 .......................\n",
      "[CV]  kernel=linear, gamma=10, degree=5, C=1000, score=0.998, total=  12.2s\n",
      "[Parallel(n_jobs=1)]: Done   2 out of   2 | elapsed:   25.8s remaining:    0.0s\n",
      "[CV] kernel=linear, gamma=10, degree=5, C=1000 .......................\n",
      "[CV]  kernel=linear, gamma=10, degree=5, C=1000, score=0.999, total=  13.4s\n",
      "[Parallel(n_jobs=1)]: Done   3 out of   3 | elapsed:   39.2s remaining:    0.0s\n",
      "[CV] kernel=linear, gamma=10, degree=5, C=1000 .......................\n",
      "[CV]  kernel=linear, gamma=10, degree=5, C=1000, score=0.999, total=  13.4s\n",
      "[Parallel(n_jobs=1)]: Done   4 out of   4 | elapsed:   52.6s remaining:    0.0s\n",
      "[CV] kernel=linear, gamma=10, degree=5, C=1000 .......................\n",
      "[CV]  kernel=linear, gamma=10, degree=5, C=1000, score=0.999, total=  13.2s\n",
      "[Parallel(n_jobs=1)]: Done   5 out of   5 | elapsed:  1.1min remaining:    0.0s\n",
      "[CV] kernel=poly, gamma=100, degree=1, C=0.1 .........................\n",
      "[CV]  kernel=poly, gamma=100, degree=1, C=0.1, score=0.995, total=  13.0s\n",
      "[Parallel(n_jobs=1)]: Done   6 out of   6 | elapsed:  1.3min remaining:    0.0s\n",
      "[CV] kernel=poly, gamma=100, degree=1, C=0.1 .........................\n",
      "[CV]  kernel=poly, gamma=100, degree=1, C=0.1, score=0.998, total=  12.0s\n",
      "[Parallel(n_jobs=1)]: Done   7 out of   7 | elapsed:  1.5min remaining:    0.0s\n",
      "[CV] kernel=poly, gamma=100, degree=1, C=0.1 .........................\n",
      "[CV]  kernel=poly, gamma=100, degree=1, C=0.1, score=0.999, total=  13.3s\n",
      "[Parallel(n_jobs=1)]: Done   8 out of   8 | elapsed:  1.7min remaining:    0.0s\n",
      "[CV] kernel=poly, gamma=100, degree=1, C=0.1 .........................\n",
      "[CV]  kernel=poly, gamma=100, degree=1, C=0.1, score=0.999, total=  13.5s\n",
      "[Parallel(n_jobs=1)]: Done   9 out of   9 | elapsed:  2.0min remaining:    0.0s\n",
      "[CV] kernel=poly, gamma=100, degree=1, C=0.1 .........................\n",
      "[CV]  kernel=poly, gamma=100, degree=1, C=0.1, score=0.999, total=  13.4s\n",
      "[Parallel(n_jobs=1)]: Done  10 out of  10 | elapsed:  2.2min remaining:    0.0s\n",
      "[CV] kernel=poly, gamma=100, degree=0, C=1000 ........................\n",
      "[CV]  kernel=poly, gamma=100, degree=0, C=1000, score=1.000, total= 7.6min\n",
      "[Parallel(n_jobs=1)]: Done  11 out of  11 | elapsed:  9.8min remaining:    0.0s\n",
      "[CV] kernel=poly, gamma=100, degree=0, C=1000 ........................\n",
      "[CV]  kernel=poly, gamma=100, degree=0, C=1000, score=1.000, total= 7.2min\n",
      "[Parallel(n_jobs=1)]: Done  12 out of  12 | elapsed: 17.0min remaining:    0.0s\n",
      "[CV] kernel=poly, gamma=100, degree=0, C=1000 ........................\n",
      "[CV]  kernel=poly, gamma=100, degree=0, C=1000, score=1.000, total= 7.4min\n",
      "[Parallel(n_jobs=1)]: Done  13 out of  13 | elapsed: 24.4min remaining:    0.0s\n",
      "[CV] kernel=poly, gamma=100, degree=0, C=1000 ........................\n",
      "[CV]  kernel=poly, gamma=100, degree=0, C=1000, score=1.000, total= 7.5min\n",
      "[Parallel(n_jobs=1)]: Done  14 out of  14 | elapsed: 31.9min remaining:    0.0s\n",
      "[CV] kernel=poly, gamma=100, degree=0, C=1000 ........................\n",
      "[CV]  kernel=poly, gamma=100, degree=0, C=1000, score=1.000, total= 7.6min\n",
      "[Parallel(n_jobs=1)]: Done  15 out of  15 | elapsed: 39.5min remaining:    0.0s\n",
      "[CV] kernel=poly, gamma=100, degree=1, C=1 ...........................\n",
      "[CV]  kernel=poly, gamma=100, degree=1, C=1, score=0.995, total=  13.0s\n",
      "[Parallel(n_jobs=1)]: Done  16 out of  16 | elapsed: 39.7min remaining:    0.0s\n",
      "[CV] kernel=poly, gamma=100, degree=1, C=1 ...........................\n",
      "[CV]  kernel=poly, gamma=100, degree=1, C=1, score=0.998, total=  11.8s\n",
      "[Parallel(n_jobs=1)]: Done  17 out of  17 | elapsed: 39.9min remaining:    0.0s\n",
      "[CV] kernel=poly, gamma=100, degree=1, C=1 ...........................\n",
      "[CV]  kernel=poly, gamma=100, degree=1, C=1, score=0.999, total=  13.1s\n",
      "[Parallel(n_jobs=1)]: Done  18 out of  18 | elapsed: 40.1min remaining:    0.0s\n",
      "[CV] kernel=poly, gamma=100, degree=1, C=1 ...........................\n",
      "[CV]  kernel=poly, gamma=100, degree=1, C=1, score=0.999, total=  13.1s\n",
      "[Parallel(n_jobs=1)]: Done  19 out of  19 | elapsed: 40.4min remaining:    0.0s\n",
      "[CV] kernel=poly, gamma=100, degree=1, C=1 ...........................\n",
      "[CV]  kernel=poly, gamma=100, degree=1, C=1, score=0.999, total=  12.7s\n",
      "[Parallel(n_jobs=1)]: Done  20 out of  20 | elapsed: 40.6min remaining:    0.0s\n",
      "[CV] kernel=rbf, gamma=10, degree=2, C=0.1 ...........................\n",
      "[CV]  kernel=rbf, gamma=10, degree=2, C=0.1, score=1.000, total= 7.4min\n",
      "[Parallel(n_jobs=1)]: Done  21 out of  21 | elapsed: 48.0min remaining:    0.0s\n",
      "[CV] kernel=rbf, gamma=10, degree=2, C=0.1 ...........................\n",
      "[CV]  kernel=rbf, gamma=10, degree=2, C=0.1, score=1.000, total= 7.2min\n",
      "[Parallel(n_jobs=1)]: Done  22 out of  22 | elapsed: 55.2min remaining:    0.0s\n",
      "[CV] kernel=rbf, gamma=10, degree=2, C=0.1 ...........................\n",
      "[CV]  kernel=rbf, gamma=10, degree=2, C=0.1, score=1.000, total= 7.4min\n",
      "[Parallel(n_jobs=1)]: Done  23 out of  23 | elapsed: 62.6min remaining:    0.0s\n",
      "[CV] kernel=rbf, gamma=10, degree=2, C=0.1 ...........................\n",
      "[CV]  kernel=rbf, gamma=10, degree=2, C=0.1, score=1.000, total= 7.2min\n",
      "[Parallel(n_jobs=1)]: Done  24 out of  24 | elapsed: 69.8min remaining:    0.0s\n",
      "[CV] kernel=rbf, gamma=10, degree=2, C=0.1 ...........................\n",
      "[CV]  kernel=rbf, gamma=10, degree=2, C=0.1, score=1.000, total= 7.1min\n",
      "[Parallel(n_jobs=1)]: Done  25 out of  25 | elapsed: 76.9min remaining:    0.0s\n",
      "[CV] kernel=rbf, gamma=10, degree=1, C=1000 ..........................\n",
      "[CV]  kernel=rbf, gamma=10, degree=1, C=1000, score=1.000, total= 6.9min\n",
      "[Parallel(n_jobs=1)]: Done  26 out of  26 | elapsed: 83.8min remaining:    0.0s\n",
      "[CV] kernel=rbf, gamma=10, degree=1, C=1000 ..........................\n",
      "[CV]  kernel=rbf, gamma=10, degree=1, C=1000, score=1.000, total= 7.5min\n",
      "[Parallel(n_jobs=1)]: Done  27 out of  27 | elapsed: 91.2min remaining:    0.0s\n",
      "[CV] kernel=rbf, gamma=10, degree=1, C=1000 ..........................\n",
      "[CV]  kernel=rbf, gamma=10, degree=1, C=1000, score=1.000, total= 7.4min\n",
      "[Parallel(n_jobs=1)]: Done  28 out of  28 | elapsed: 98.7min remaining:    0.0s\n",
      "[CV] kernel=rbf, gamma=10, degree=1, C=1000 ..........................\n",
      "[CV]  kernel=rbf, gamma=10, degree=1, C=1000, score=1.000, total= 7.4min\n",
      "[Parallel(n_jobs=1)]: Done  29 out of  29 | elapsed: 106.0min remaining:    0.0s\n",
      "[CV] kernel=rbf, gamma=10, degree=1, C=1000 ..........................\n",
      "[CV]  kernel=rbf, gamma=10, degree=1, C=1000, score=1.000, total= 7.3min\n",
      "[Parallel(n_jobs=1)]: Done  30 out of  30 | elapsed: 113.4min remaining:    0.0s\n",
      "[CV] kernel=rbf, gamma=10, degree=4, C=10 ............................\n",
      "[CV]  kernel=rbf, gamma=10, degree=4, C=10, score=1.000, total= 7.5min\n",
      "[Parallel(n_jobs=1)]: Done  31 out of  31 | elapsed: 120.8min remaining:    0.0s\n",
      "[CV] kernel=rbf, gamma=10, degree=4, C=10 ............................\n",
      "[CV]  kernel=rbf, gamma=10, degree=4, C=10, score=1.000, total= 7.1min\n",
      "[Parallel(n_jobs=1)]: Done  32 out of  32 | elapsed: 128.0min remaining:    0.0s\n",
      "[CV] kernel=rbf, gamma=10, degree=4, C=10 ............................\n",
      "[CV]  kernel=rbf, gamma=10, degree=4, C=10, score=1.000, total= 6.5min\n",
      "[Parallel(n_jobs=1)]: Done  33 out of  33 | elapsed: 134.4min remaining:    0.0s\n",
      "[CV] kernel=rbf, gamma=10, degree=4, C=10 ............................\n",
      "[CV]  kernel=rbf, gamma=10, degree=4, C=10, score=1.000, total= 6.4min\n",
      "[Parallel(n_jobs=1)]: Done  34 out of  34 | elapsed: 140.9min remaining:    0.0s\n",
      "[CV] kernel=rbf, gamma=10, degree=4, C=10 ............................\n",
      "[CV]  kernel=rbf, gamma=10, degree=4, C=10, score=1.000, total= 6.4min\n",
      "[Parallel(n_jobs=1)]: Done  35 out of  35 | elapsed: 147.3min remaining:    0.0s\n",
      "[CV] kernel=poly, gamma=1, degree=0, C=10 ............................\n",
      "[CV]  kernel=poly, gamma=1, degree=0, C=10, score=1.000, total= 7.0min\n",
      "[Parallel(n_jobs=1)]: Done  36 out of  36 | elapsed: 154.3min remaining:    0.0s\n",
      "[CV] kernel=poly, gamma=1, degree=0, C=10 ............................\n"
     ]
    },
    {
     "name": "stdout",
     "output_type": "stream",
     "text": [
      "[CV]  kernel=poly, gamma=1, degree=0, C=10, score=1.000, total= 7.0min\n",
      "[Parallel(n_jobs=1)]: Done  37 out of  37 | elapsed: 161.3min remaining:    0.0s\n",
      "[CV] kernel=poly, gamma=1, degree=0, C=10 ............................\n",
      "[CV]  kernel=poly, gamma=1, degree=0, C=10, score=1.000, total= 7.0min\n",
      "[Parallel(n_jobs=1)]: Done  38 out of  38 | elapsed: 168.3min remaining:    0.0s\n",
      "[CV] kernel=poly, gamma=1, degree=0, C=10 ............................\n",
      "[CV]  kernel=poly, gamma=1, degree=0, C=10, score=1.000, total= 7.0min\n",
      "[Parallel(n_jobs=1)]: Done  39 out of  39 | elapsed: 175.4min remaining:    0.0s\n",
      "[CV] kernel=poly, gamma=1, degree=0, C=10 ............................\n",
      "[CV]  kernel=poly, gamma=1, degree=0, C=10, score=1.000, total= 7.0min\n",
      "[Parallel(n_jobs=1)]: Done  40 out of  40 | elapsed: 182.3min remaining:    0.0s\n",
      "[CV] kernel=rbf, gamma=100, degree=4, C=0.1 ..........................\n",
      "[CV]  kernel=rbf, gamma=100, degree=4, C=0.1, score=1.000, total= 6.9min\n",
      "[Parallel(n_jobs=1)]: Done  41 out of  41 | elapsed: 189.2min remaining:    0.0s\n",
      "[CV] kernel=rbf, gamma=100, degree=4, C=0.1 ..........................\n",
      "[CV]  kernel=rbf, gamma=100, degree=4, C=0.1, score=1.000, total= 6.8min\n",
      "[Parallel(n_jobs=1)]: Done  42 out of  42 | elapsed: 196.0min remaining:    0.0s\n",
      "[CV] kernel=rbf, gamma=100, degree=4, C=0.1 ..........................\n",
      "[CV]  kernel=rbf, gamma=100, degree=4, C=0.1, score=1.000, total= 6.9min\n",
      "[Parallel(n_jobs=1)]: Done  43 out of  43 | elapsed: 202.9min remaining:    0.0s\n",
      "[CV] kernel=rbf, gamma=100, degree=4, C=0.1 ..........................\n",
      "[CV]  kernel=rbf, gamma=100, degree=4, C=0.1, score=1.000, total= 6.9min\n",
      "[Parallel(n_jobs=1)]: Done  44 out of  44 | elapsed: 209.7min remaining:    0.0s\n",
      "[CV] kernel=rbf, gamma=100, degree=4, C=0.1 ..........................\n",
      "[CV]  kernel=rbf, gamma=100, degree=4, C=0.1, score=1.000, total= 6.9min\n",
      "[Parallel(n_jobs=1)]: Done  45 out of  45 | elapsed: 216.6min remaining:    0.0s\n",
      "[CV] kernel=poly, gamma=100, degree=4, C=10 ..........................\n",
      "[CV]  kernel=poly, gamma=100, degree=4, C=10, score=0.992, total=  16.3s\n",
      "[Parallel(n_jobs=1)]: Done  46 out of  46 | elapsed: 216.9min remaining:    0.0s\n",
      "[CV] kernel=poly, gamma=100, degree=4, C=10 ..........................\n",
      "[CV]  kernel=poly, gamma=100, degree=4, C=10, score=0.993, total=  14.7s\n",
      "[Parallel(n_jobs=1)]: Done  47 out of  47 | elapsed: 217.1min remaining:    0.0s\n",
      "[CV] kernel=poly, gamma=100, degree=4, C=10 ..........................\n",
      "[CV]  kernel=poly, gamma=100, degree=4, C=10, score=0.997, total=  12.2s\n",
      "[Parallel(n_jobs=1)]: Done  48 out of  48 | elapsed: 217.3min remaining:    0.0s\n",
      "[CV] kernel=poly, gamma=100, degree=4, C=10 ..........................\n",
      "[CV]  kernel=poly, gamma=100, degree=4, C=10, score=0.994, total=  13.1s\n",
      "[Parallel(n_jobs=1)]: Done  49 out of  49 | elapsed: 217.5min remaining:    0.0s\n",
      "[CV] kernel=poly, gamma=100, degree=4, C=10 ..........................\n",
      "[CV]  kernel=poly, gamma=100, degree=4, C=10, score=0.997, total=  14.5s\n",
      "[Parallel(n_jobs=1)]: Done  50 out of  50 | elapsed: 217.8min remaining:    0.0s\n",
      "[Parallel(n_jobs=1)]: Done  50 out of  50 | elapsed: 217.8min finished\n"
     ]
    }
   ],
   "source": [
    "best_svc = RandomizedSearchCV(svc, svc_parameters, n_iter=10, cv=5, random_state=seed, verbose=100, scoring=\"recall\")\n",
    "svc_start = time.time()\n",
    "best_svc.fit(X_train, y_train)\n",
    "svc_end = time.time()\n",
    "svc_time_taken = (svc_end-svc_start)/50"
   ]
  },
  {
   "cell_type": "code",
   "execution_count": 61,
   "metadata": {},
   "outputs": [
    {
     "name": "stdout",
     "output_type": "stream",
     "text": [
      "271.79444382667543\n"
     ]
    }
   ],
   "source": [
    "print(svc_time_taken)"
   ]
  },
  {
   "cell_type": "code",
   "execution_count": 62,
   "metadata": {},
   "outputs": [],
   "source": [
    "time_taken.append(svc_time_taken)"
   ]
  },
  {
   "cell_type": "code",
   "execution_count": 63,
   "metadata": {},
   "outputs": [],
   "source": [
    "svc_pickle = \"XSS_svc_pickle.sav\"\n",
    "pickle.dump(best_svc, open(svc_pickle, \"wb\"))\n"
   ]
  },
  {
   "cell_type": "code",
   "execution_count": 64,
   "metadata": {},
   "outputs": [
    {
     "data": {
      "text/plain": [
       "{'kernel': 'poly', 'gamma': 100, 'degree': 0, 'C': 1000}"
      ]
     },
     "execution_count": 64,
     "metadata": {},
     "output_type": "execute_result"
    }
   ],
   "source": [
    "best_svc.best_params_"
   ]
  },
  {
   "cell_type": "raw",
   "metadata": {},
   "source": [
    "svc_y_pred = best_svc.predict(X_val)"
   ]
  },
  {
   "cell_type": "raw",
   "metadata": {},
   "source": [
    "print(classification_report(y_val, svc_y_pred))"
   ]
  },
  {
   "cell_type": "raw",
   "metadata": {},
   "source": [
    "svc_recall = recall_score(y_val, svc_y_pred)"
   ]
  },
  {
   "cell_type": "code",
   "execution_count": 65,
   "metadata": {},
   "outputs": [],
   "source": [
    "svc_recall = best_svc.best_score_"
   ]
  },
  {
   "cell_type": "code",
   "execution_count": 66,
   "metadata": {},
   "outputs": [
    {
     "data": {
      "text/plain": [
       "1.0"
      ]
     },
     "execution_count": 66,
     "metadata": {},
     "output_type": "execute_result"
    }
   ],
   "source": [
    "svc_recall"
   ]
  },
  {
   "cell_type": "code",
   "execution_count": 67,
   "metadata": {},
   "outputs": [],
   "source": [
    "train_recall_score.append(svc_recall)"
   ]
  },
  {
   "cell_type": "code",
   "execution_count": 68,
   "metadata": {},
   "outputs": [
    {
     "data": {
      "text/plain": [
       "[1.0, 1.0, 1.0]"
      ]
     },
     "execution_count": 68,
     "metadata": {},
     "output_type": "execute_result"
    }
   ],
   "source": [
    "train_recall_score"
   ]
  },
  {
   "cell_type": "markdown",
   "metadata": {},
   "source": [
    "## Logistic REgression"
   ]
  },
  {
   "cell_type": "code",
   "execution_count": 69,
   "metadata": {},
   "outputs": [],
   "source": [
    "lr = LogisticRegression(random_state=seed)"
   ]
  },
  {
   "cell_type": "code",
   "execution_count": 70,
   "metadata": {},
   "outputs": [],
   "source": [
    "lr_parameters = {\n",
    "     'penalty' : [\"l2\", None],\n",
    "    'C' : [0.1, 1.0, 10, 100],\n",
    "    \"solver\": [\"newton-cg\", \"lbfgs\", \"liblinear\", \"sag\", \"saga\"],\n",
    "    \"max_iter\":[5, 10, 25, 50, 75, 100],\n",
    "    \"multi_class\": [\"auto\", \"ovr\", \"multinomial\"]\n",
    "}"
   ]
  },
  {
   "cell_type": "raw",
   "metadata": {},
   "source": [
    "lr_parameters = {\"C\": [0.1],\n",
    "                \"solver\": [\"lbfgs\"]}"
   ]
  },
  {
   "cell_type": "code",
   "execution_count": 71,
   "metadata": {},
   "outputs": [
    {
     "name": "stdout",
     "output_type": "stream",
     "text": [
      "Fitting 5 folds for each of 10 candidates, totalling 50 fits\n",
      "[Parallel(n_jobs=1)]: Using backend SequentialBackend with 1 concurrent workers.\n",
      "[CV] solver=liblinear, penalty=l2, multi_class=multinomial, max_iter=10, C=0.1 \n",
      "[CV]  solver=liblinear, penalty=l2, multi_class=multinomial, max_iter=10, C=0.1, score=nan, total=   0.5s\n",
      "[Parallel(n_jobs=1)]: Done   1 out of   1 | elapsed:    0.6s remaining:    0.0s\n",
      "[CV] solver=liblinear, penalty=l2, multi_class=multinomial, max_iter=10, C=0.1 \n",
      "[CV]  solver=liblinear, penalty=l2, multi_class=multinomial, max_iter=10, C=0.1, score=nan, total=   0.3s\n",
      "[Parallel(n_jobs=1)]: Done   2 out of   2 | elapsed:    1.0s remaining:    0.0s\n",
      "[CV] solver=liblinear, penalty=l2, multi_class=multinomial, max_iter=10, C=0.1 \n",
      "[CV]  solver=liblinear, penalty=l2, multi_class=multinomial, max_iter=10, C=0.1, score=nan, total=   0.3s\n",
      "[Parallel(n_jobs=1)]: Done   3 out of   3 | elapsed:    1.4s remaining:    0.0s\n",
      "[CV] solver=liblinear, penalty=l2, multi_class=multinomial, max_iter=10, C=0.1 \n",
      "[CV]  solver=liblinear, penalty=l2, multi_class=multinomial, max_iter=10, C=0.1, score=nan, total=   0.3s\n",
      "[Parallel(n_jobs=1)]: Done   4 out of   4 | elapsed:    1.8s remaining:    0.0s\n",
      "[CV] solver=liblinear, penalty=l2, multi_class=multinomial, max_iter=10, C=0.1 \n",
      "[CV]  solver=liblinear, penalty=l2, multi_class=multinomial, max_iter=10, C=0.1, score=nan, total=   0.4s\n",
      "[Parallel(n_jobs=1)]: Done   5 out of   5 | elapsed:    2.2s remaining:    0.0s\n",
      "[CV] solver=saga, penalty=None, multi_class=auto, max_iter=100, C=10 .\n",
      "[CV]  solver=saga, penalty=None, multi_class=auto, max_iter=100, C=10, score=nan, total=   0.1s\n",
      "[Parallel(n_jobs=1)]: Done   6 out of   6 | elapsed:    2.4s remaining:    0.0s\n",
      "[CV] solver=saga, penalty=None, multi_class=auto, max_iter=100, C=10 .\n",
      "[CV]  solver=saga, penalty=None, multi_class=auto, max_iter=100, C=10, score=nan, total=   0.1s\n",
      "[Parallel(n_jobs=1)]: Done   7 out of   7 | elapsed:    2.5s remaining:    0.0s\n",
      "[CV] solver=saga, penalty=None, multi_class=auto, max_iter=100, C=10 .\n",
      "[CV]  solver=saga, penalty=None, multi_class=auto, max_iter=100, C=10, score=nan, total=   0.1s\n",
      "[Parallel(n_jobs=1)]: Done   8 out of   8 | elapsed:    2.7s remaining:    0.0s\n",
      "[CV] solver=saga, penalty=None, multi_class=auto, max_iter=100, C=10 .\n",
      "[CV]  solver=saga, penalty=None, multi_class=auto, max_iter=100, C=10, score=nan, total=   0.1s\n",
      "[Parallel(n_jobs=1)]: Done   9 out of   9 | elapsed:    2.8s remaining:    0.0s\n",
      "[CV] solver=saga, penalty=None, multi_class=auto, max_iter=100, C=10 .\n",
      "[CV]  solver=saga, penalty=None, multi_class=auto, max_iter=100, C=10, score=nan, total=   0.1s\n",
      "[Parallel(n_jobs=1)]: Done  10 out of  10 | elapsed:    3.0s remaining:    0.0s\n",
      "[CV] solver=newton-cg, penalty=l2, multi_class=multinomial, max_iter=50, C=0.1 \n",
      "[CV]  solver=newton-cg, penalty=l2, multi_class=multinomial, max_iter=50, C=0.1, score=0.991, total=  12.3s\n",
      "[Parallel(n_jobs=1)]: Done  11 out of  11 | elapsed:   15.3s remaining:    0.0s\n",
      "[CV] solver=newton-cg, penalty=l2, multi_class=multinomial, max_iter=50, C=0.1 \n",
      "[CV]  solver=newton-cg, penalty=l2, multi_class=multinomial, max_iter=50, C=0.1, score=0.990, total=  11.7s\n",
      "[Parallel(n_jobs=1)]: Done  12 out of  12 | elapsed:   27.1s remaining:    0.0s\n",
      "[CV] solver=newton-cg, penalty=l2, multi_class=multinomial, max_iter=50, C=0.1 \n",
      "[CV]  solver=newton-cg, penalty=l2, multi_class=multinomial, max_iter=50, C=0.1, score=0.995, total=  11.7s\n",
      "[Parallel(n_jobs=1)]: Done  13 out of  13 | elapsed:   38.8s remaining:    0.0s\n",
      "[CV] solver=newton-cg, penalty=l2, multi_class=multinomial, max_iter=50, C=0.1 \n",
      "[CV]  solver=newton-cg, penalty=l2, multi_class=multinomial, max_iter=50, C=0.1, score=0.997, total=  12.1s\n",
      "[Parallel(n_jobs=1)]: Done  14 out of  14 | elapsed:   51.0s remaining:    0.0s\n",
      "[CV] solver=newton-cg, penalty=l2, multi_class=multinomial, max_iter=50, C=0.1 \n",
      "[CV]  solver=newton-cg, penalty=l2, multi_class=multinomial, max_iter=50, C=0.1, score=0.991, total=  12.4s\n",
      "[Parallel(n_jobs=1)]: Done  15 out of  15 | elapsed:  1.1min remaining:    0.0s\n",
      "[CV] solver=saga, penalty=l2, multi_class=auto, max_iter=100, C=10 ...\n",
      "[CV]  solver=saga, penalty=l2, multi_class=auto, max_iter=100, C=10, score=0.987, total=  42.9s\n",
      "[Parallel(n_jobs=1)]: Done  16 out of  16 | elapsed:  1.8min remaining:    0.0s\n",
      "[CV] solver=saga, penalty=l2, multi_class=auto, max_iter=100, C=10 ...\n",
      "[CV]  solver=saga, penalty=l2, multi_class=auto, max_iter=100, C=10, score=0.988, total=  42.5s\n",
      "[Parallel(n_jobs=1)]: Done  17 out of  17 | elapsed:  2.5min remaining:    0.0s\n",
      "[CV] solver=saga, penalty=l2, multi_class=auto, max_iter=100, C=10 ...\n",
      "[CV]  solver=saga, penalty=l2, multi_class=auto, max_iter=100, C=10, score=0.994, total=  42.6s\n",
      "[Parallel(n_jobs=1)]: Done  18 out of  18 | elapsed:  3.2min remaining:    0.0s\n",
      "[CV] solver=saga, penalty=l2, multi_class=auto, max_iter=100, C=10 ...\n",
      "[CV]  solver=saga, penalty=l2, multi_class=auto, max_iter=100, C=10, score=0.995, total=  42.6s\n",
      "[Parallel(n_jobs=1)]: Done  19 out of  19 | elapsed:  3.9min remaining:    0.0s\n",
      "[CV] solver=saga, penalty=l2, multi_class=auto, max_iter=100, C=10 ...\n",
      "[CV]  solver=saga, penalty=l2, multi_class=auto, max_iter=100, C=10, score=0.988, total=  43.0s\n",
      "[Parallel(n_jobs=1)]: Done  20 out of  20 | elapsed:  4.6min remaining:    0.0s\n",
      "[CV] solver=lbfgs, penalty=None, multi_class=auto, max_iter=50, C=1.0 \n",
      "[CV]  solver=lbfgs, penalty=None, multi_class=auto, max_iter=50, C=1.0, score=nan, total=   0.1s\n",
      "[Parallel(n_jobs=1)]: Done  21 out of  21 | elapsed:  4.6min remaining:    0.0s\n",
      "[CV] solver=lbfgs, penalty=None, multi_class=auto, max_iter=50, C=1.0 \n",
      "[CV]  solver=lbfgs, penalty=None, multi_class=auto, max_iter=50, C=1.0, score=nan, total=   0.1s\n",
      "[Parallel(n_jobs=1)]: Done  22 out of  22 | elapsed:  4.6min remaining:    0.0s\n",
      "[CV] solver=lbfgs, penalty=None, multi_class=auto, max_iter=50, C=1.0 \n",
      "[CV]  solver=lbfgs, penalty=None, multi_class=auto, max_iter=50, C=1.0, score=nan, total=   0.1s\n",
      "[Parallel(n_jobs=1)]: Done  23 out of  23 | elapsed:  4.6min remaining:    0.0s\n",
      "[CV] solver=lbfgs, penalty=None, multi_class=auto, max_iter=50, C=1.0 \n",
      "[CV]  solver=lbfgs, penalty=None, multi_class=auto, max_iter=50, C=1.0, score=nan, total=   0.1s\n",
      "[Parallel(n_jobs=1)]: Done  24 out of  24 | elapsed:  4.6min remaining:    0.0s\n",
      "[CV] solver=lbfgs, penalty=None, multi_class=auto, max_iter=50, C=1.0 \n",
      "[CV]  solver=lbfgs, penalty=None, multi_class=auto, max_iter=50, C=1.0, score=nan, total=   0.1s\n",
      "[Parallel(n_jobs=1)]: Done  25 out of  25 | elapsed:  4.6min remaining:    0.0s\n",
      "[CV] solver=saga, penalty=l2, multi_class=auto, max_iter=50, C=10 ....\n",
      "[CV]  solver=saga, penalty=l2, multi_class=auto, max_iter=50, C=10, score=0.987, total=  21.4s\n",
      "[Parallel(n_jobs=1)]: Done  26 out of  26 | elapsed:  5.0min remaining:    0.0s\n",
      "[CV] solver=saga, penalty=l2, multi_class=auto, max_iter=50, C=10 ....\n",
      "[CV]  solver=saga, penalty=l2, multi_class=auto, max_iter=50, C=10, score=0.987, total=  21.8s\n",
      "[Parallel(n_jobs=1)]: Done  27 out of  27 | elapsed:  5.4min remaining:    0.0s\n",
      "[CV] solver=saga, penalty=l2, multi_class=auto, max_iter=50, C=10 ....\n",
      "[CV]  solver=saga, penalty=l2, multi_class=auto, max_iter=50, C=10, score=0.994, total=  21.9s\n",
      "[Parallel(n_jobs=1)]: Done  28 out of  28 | elapsed:  5.7min remaining:    0.0s\n",
      "[CV] solver=saga, penalty=l2, multi_class=auto, max_iter=50, C=10 ....\n",
      "[CV]  solver=saga, penalty=l2, multi_class=auto, max_iter=50, C=10, score=0.995, total=  21.4s\n",
      "[Parallel(n_jobs=1)]: Done  29 out of  29 | elapsed:  6.1min remaining:    0.0s\n",
      "[CV] solver=saga, penalty=l2, multi_class=auto, max_iter=50, C=10 ....\n",
      "[CV]  solver=saga, penalty=l2, multi_class=auto, max_iter=50, C=10, score=0.988, total=  21.3s\n",
      "[Parallel(n_jobs=1)]: Done  30 out of  30 | elapsed:  6.4min remaining:    0.0s\n",
      "[CV] solver=newton-cg, penalty=None, multi_class=multinomial, max_iter=100, C=0.1 \n",
      "[CV]  solver=newton-cg, penalty=None, multi_class=multinomial, max_iter=100, C=0.1, score=nan, total=   0.1s\n",
      "[Parallel(n_jobs=1)]: Done  31 out of  31 | elapsed:  6.4min remaining:    0.0s\n",
      "[CV] solver=newton-cg, penalty=None, multi_class=multinomial, max_iter=100, C=0.1 \n",
      "[CV]  solver=newton-cg, penalty=None, multi_class=multinomial, max_iter=100, C=0.1, score=nan, total=   0.1s\n",
      "[Parallel(n_jobs=1)]: Done  32 out of  32 | elapsed:  6.4min remaining:    0.0s\n",
      "[CV] solver=newton-cg, penalty=None, multi_class=multinomial, max_iter=100, C=0.1 \n",
      "[CV]  solver=newton-cg, penalty=None, multi_class=multinomial, max_iter=100, C=0.1, score=nan, total=   0.1s\n"
     ]
    },
    {
     "name": "stdout",
     "output_type": "stream",
     "text": [
      "[Parallel(n_jobs=1)]: Done  33 out of  33 | elapsed:  6.4min remaining:    0.0s\n",
      "[CV] solver=newton-cg, penalty=None, multi_class=multinomial, max_iter=100, C=0.1 \n",
      "[CV]  solver=newton-cg, penalty=None, multi_class=multinomial, max_iter=100, C=0.1, score=nan, total=   0.1s\n",
      "[Parallel(n_jobs=1)]: Done  34 out of  34 | elapsed:  6.4min remaining:    0.0s\n",
      "[CV] solver=newton-cg, penalty=None, multi_class=multinomial, max_iter=100, C=0.1 \n",
      "[CV]  solver=newton-cg, penalty=None, multi_class=multinomial, max_iter=100, C=0.1, score=nan, total=   0.1s\n",
      "[Parallel(n_jobs=1)]: Done  35 out of  35 | elapsed:  6.4min remaining:    0.0s\n",
      "[CV] solver=liblinear, penalty=l2, multi_class=multinomial, max_iter=10, C=1.0 \n",
      "[CV]  solver=liblinear, penalty=l2, multi_class=multinomial, max_iter=10, C=1.0, score=nan, total=   0.3s\n",
      "[Parallel(n_jobs=1)]: Done  36 out of  36 | elapsed:  6.5min remaining:    0.0s\n",
      "[CV] solver=liblinear, penalty=l2, multi_class=multinomial, max_iter=10, C=1.0 \n",
      "[CV]  solver=liblinear, penalty=l2, multi_class=multinomial, max_iter=10, C=1.0, score=nan, total=   0.3s\n",
      "[Parallel(n_jobs=1)]: Done  37 out of  37 | elapsed:  6.5min remaining:    0.0s\n",
      "[CV] solver=liblinear, penalty=l2, multi_class=multinomial, max_iter=10, C=1.0 \n",
      "[CV]  solver=liblinear, penalty=l2, multi_class=multinomial, max_iter=10, C=1.0, score=nan, total=   0.3s\n",
      "[Parallel(n_jobs=1)]: Done  38 out of  38 | elapsed:  6.5min remaining:    0.0s\n",
      "[CV] solver=liblinear, penalty=l2, multi_class=multinomial, max_iter=10, C=1.0 \n",
      "[CV]  solver=liblinear, penalty=l2, multi_class=multinomial, max_iter=10, C=1.0, score=nan, total=   0.3s\n",
      "[Parallel(n_jobs=1)]: Done  39 out of  39 | elapsed:  6.5min remaining:    0.0s\n",
      "[CV] solver=liblinear, penalty=l2, multi_class=multinomial, max_iter=10, C=1.0 \n",
      "[CV]  solver=liblinear, penalty=l2, multi_class=multinomial, max_iter=10, C=1.0, score=nan, total=   0.3s\n",
      "[Parallel(n_jobs=1)]: Done  40 out of  40 | elapsed:  6.5min remaining:    0.0s\n",
      "[CV] solver=newton-cg, penalty=None, multi_class=multinomial, max_iter=100, C=100 \n",
      "[CV]  solver=newton-cg, penalty=None, multi_class=multinomial, max_iter=100, C=100, score=nan, total=   0.1s\n",
      "[Parallel(n_jobs=1)]: Done  41 out of  41 | elapsed:  6.5min remaining:    0.0s\n",
      "[CV] solver=newton-cg, penalty=None, multi_class=multinomial, max_iter=100, C=100 \n",
      "[CV]  solver=newton-cg, penalty=None, multi_class=multinomial, max_iter=100, C=100, score=nan, total=   0.1s\n",
      "[Parallel(n_jobs=1)]: Done  42 out of  42 | elapsed:  6.5min remaining:    0.0s\n",
      "[CV] solver=newton-cg, penalty=None, multi_class=multinomial, max_iter=100, C=100 \n",
      "[CV]  solver=newton-cg, penalty=None, multi_class=multinomial, max_iter=100, C=100, score=nan, total=   0.1s\n",
      "[Parallel(n_jobs=1)]: Done  43 out of  43 | elapsed:  6.5min remaining:    0.0s\n",
      "[CV] solver=newton-cg, penalty=None, multi_class=multinomial, max_iter=100, C=100 \n",
      "[CV]  solver=newton-cg, penalty=None, multi_class=multinomial, max_iter=100, C=100, score=nan, total=   0.1s\n",
      "[Parallel(n_jobs=1)]: Done  44 out of  44 | elapsed:  6.5min remaining:    0.0s\n",
      "[CV] solver=newton-cg, penalty=None, multi_class=multinomial, max_iter=100, C=100 \n",
      "[CV]  solver=newton-cg, penalty=None, multi_class=multinomial, max_iter=100, C=100, score=nan, total=   0.1s\n",
      "[Parallel(n_jobs=1)]: Done  45 out of  45 | elapsed:  6.5min remaining:    0.0s\n",
      "[CV] solver=liblinear, penalty=None, multi_class=auto, max_iter=75, C=1.0 \n",
      "[CV]  solver=liblinear, penalty=None, multi_class=auto, max_iter=75, C=1.0, score=nan, total=   0.1s\n",
      "[Parallel(n_jobs=1)]: Done  46 out of  46 | elapsed:  6.5min remaining:    0.0s\n",
      "[CV] solver=liblinear, penalty=None, multi_class=auto, max_iter=75, C=1.0 \n",
      "[CV]  solver=liblinear, penalty=None, multi_class=auto, max_iter=75, C=1.0, score=nan, total=   0.1s\n",
      "[Parallel(n_jobs=1)]: Done  47 out of  47 | elapsed:  6.5min remaining:    0.0s\n",
      "[CV] solver=liblinear, penalty=None, multi_class=auto, max_iter=75, C=1.0 \n",
      "[CV]  solver=liblinear, penalty=None, multi_class=auto, max_iter=75, C=1.0, score=nan, total=   0.1s\n",
      "[Parallel(n_jobs=1)]: Done  48 out of  48 | elapsed:  6.5min remaining:    0.0s\n",
      "[CV] solver=liblinear, penalty=None, multi_class=auto, max_iter=75, C=1.0 \n",
      "[CV]  solver=liblinear, penalty=None, multi_class=auto, max_iter=75, C=1.0, score=nan, total=   0.1s\n",
      "[Parallel(n_jobs=1)]: Done  49 out of  49 | elapsed:  6.5min remaining:    0.0s\n",
      "[CV] solver=liblinear, penalty=None, multi_class=auto, max_iter=75, C=1.0 \n",
      "[CV]  solver=liblinear, penalty=None, multi_class=auto, max_iter=75, C=1.0, score=nan, total=   0.1s\n",
      "[Parallel(n_jobs=1)]: Done  50 out of  50 | elapsed:  6.5min remaining:    0.0s\n",
      "[Parallel(n_jobs=1)]: Done  50 out of  50 | elapsed:  6.5min finished\n"
     ]
    }
   ],
   "source": [
    "best_lr = RandomizedSearchCV(lr, lr_parameters, n_iter=10, cv=5, random_state=seed, verbose=100, scoring=\"recall\")\n",
    "lr_start = time.time()\n",
    "best_lr.fit(X_train, y_train)\n",
    "lr_end = time.time()\n",
    "lr_time_taken = (lr_end-lr_start)/50"
   ]
  },
  {
   "cell_type": "code",
   "execution_count": 72,
   "metadata": {},
   "outputs": [
    {
     "name": "stdout",
     "output_type": "stream",
     "text": [
      "8.132316732406617\n"
     ]
    }
   ],
   "source": [
    "print(lr_time_taken)"
   ]
  },
  {
   "cell_type": "code",
   "execution_count": 73,
   "metadata": {},
   "outputs": [],
   "source": [
    "time_taken.append(lr_time_taken)"
   ]
  },
  {
   "cell_type": "code",
   "execution_count": 74,
   "metadata": {},
   "outputs": [
    {
     "data": {
      "text/plain": [
       "{'solver': 'newton-cg',\n",
       " 'penalty': 'l2',\n",
       " 'multi_class': 'multinomial',\n",
       " 'max_iter': 50,\n",
       " 'C': 0.1}"
      ]
     },
     "execution_count": 74,
     "metadata": {},
     "output_type": "execute_result"
    }
   ],
   "source": [
    "best_lr.best_params_"
   ]
  },
  {
   "cell_type": "raw",
   "metadata": {},
   "source": [
    "lr_y_pred = best_lr.predict(X_val)"
   ]
  },
  {
   "cell_type": "raw",
   "metadata": {},
   "source": [
    "print(classification_report(y_val, lr_y_pred))"
   ]
  },
  {
   "cell_type": "code",
   "execution_count": 75,
   "metadata": {},
   "outputs": [],
   "source": [
    "lr_pickle = \"XSS_lr_pickle.sav\"\n",
    "pickle.dump(best_lr, open(lr_pickle, \"wb\"))"
   ]
  },
  {
   "cell_type": "raw",
   "metadata": {},
   "source": [
    "lr_recall = recall_score(y_val, lr_y_pred)"
   ]
  },
  {
   "cell_type": "code",
   "execution_count": 76,
   "metadata": {},
   "outputs": [],
   "source": [
    "lr_recall = best_lr.best_score_"
   ]
  },
  {
   "cell_type": "code",
   "execution_count": 77,
   "metadata": {},
   "outputs": [
    {
     "data": {
      "text/plain": [
       "0.992609699769053"
      ]
     },
     "execution_count": 77,
     "metadata": {},
     "output_type": "execute_result"
    }
   ],
   "source": [
    "lr_recall"
   ]
  },
  {
   "cell_type": "code",
   "execution_count": 78,
   "metadata": {},
   "outputs": [],
   "source": [
    "train_recall_score.append(lr_recall)"
   ]
  },
  {
   "cell_type": "code",
   "execution_count": 79,
   "metadata": {},
   "outputs": [
    {
     "data": {
      "text/plain": [
       "[1.0, 1.0, 1.0, 0.992609699769053]"
      ]
     },
     "execution_count": 79,
     "metadata": {},
     "output_type": "execute_result"
    }
   ],
   "source": [
    "train_recall_score"
   ]
  },
  {
   "cell_type": "markdown",
   "metadata": {},
   "source": [
    "## KNeighbours"
   ]
  },
  {
   "cell_type": "code",
   "execution_count": 80,
   "metadata": {},
   "outputs": [],
   "source": [
    "knn = KNeighborsClassifier()"
   ]
  },
  {
   "cell_type": "code",
   "execution_count": 81,
   "metadata": {},
   "outputs": [],
   "source": [
    "knn_parameters = {\"n_neighbors\": [1, 5, 10, 25, 50, 75, 100],\n",
    "                  \"weights\": [\"uniform\", \"distance\"],\n",
    "                  \"algorithm\": [\"auto\", \"ball_tree\", \"kd_tree\", \"brute\"],\n",
    "                  \"leaf_size\": [1, 5, 10, 20, 30, 35, 50]\n",
    "    \n",
    "}"
   ]
  },
  {
   "cell_type": "code",
   "execution_count": 82,
   "metadata": {},
   "outputs": [
    {
     "name": "stdout",
     "output_type": "stream",
     "text": [
      "Fitting 5 folds for each of 10 candidates, totalling 50 fits\n",
      "[Parallel(n_jobs=1)]: Using backend SequentialBackend with 1 concurrent workers.\n",
      "[CV] weights=uniform, n_neighbors=100, leaf_size=50, algorithm=ball_tree \n",
      "[CV]  weights=uniform, n_neighbors=100, leaf_size=50, algorithm=ball_tree, score=0.964, total= 1.6min\n",
      "[Parallel(n_jobs=1)]: Done   1 out of   1 | elapsed:  1.6min remaining:    0.0s\n",
      "[CV] weights=uniform, n_neighbors=100, leaf_size=50, algorithm=ball_tree \n",
      "[CV]  weights=uniform, n_neighbors=100, leaf_size=50, algorithm=ball_tree, score=0.971, total= 1.6min\n",
      "[Parallel(n_jobs=1)]: Done   2 out of   2 | elapsed:  3.2min remaining:    0.0s\n",
      "[CV] weights=uniform, n_neighbors=100, leaf_size=50, algorithm=ball_tree \n",
      "[CV]  weights=uniform, n_neighbors=100, leaf_size=50, algorithm=ball_tree, score=0.976, total= 1.6min\n",
      "[Parallel(n_jobs=1)]: Done   3 out of   3 | elapsed:  4.9min remaining:    0.0s\n",
      "[CV] weights=uniform, n_neighbors=100, leaf_size=50, algorithm=ball_tree \n",
      "[CV]  weights=uniform, n_neighbors=100, leaf_size=50, algorithm=ball_tree, score=0.983, total= 1.6min\n",
      "[Parallel(n_jobs=1)]: Done   4 out of   4 | elapsed:  6.5min remaining:    0.0s\n",
      "[CV] weights=uniform, n_neighbors=100, leaf_size=50, algorithm=ball_tree \n",
      "[CV]  weights=uniform, n_neighbors=100, leaf_size=50, algorithm=ball_tree, score=0.969, total= 1.6min\n",
      "[Parallel(n_jobs=1)]: Done   5 out of   5 | elapsed:  8.1min remaining:    0.0s\n",
      "[CV] weights=uniform, n_neighbors=50, leaf_size=30, algorithm=kd_tree \n",
      "[CV]  weights=uniform, n_neighbors=50, leaf_size=30, algorithm=kd_tree, score=0.970, total=  56.8s\n",
      "[Parallel(n_jobs=1)]: Done   6 out of   6 | elapsed:  9.1min remaining:    0.0s\n",
      "[CV] weights=uniform, n_neighbors=50, leaf_size=30, algorithm=kd_tree \n",
      "[CV]  weights=uniform, n_neighbors=50, leaf_size=30, algorithm=kd_tree, score=0.975, total=  55.9s\n",
      "[Parallel(n_jobs=1)]: Done   7 out of   7 | elapsed: 10.0min remaining:    0.0s\n",
      "[CV] weights=uniform, n_neighbors=50, leaf_size=30, algorithm=kd_tree \n",
      "[CV]  weights=uniform, n_neighbors=50, leaf_size=30, algorithm=kd_tree, score=0.983, total=  57.4s\n",
      "[Parallel(n_jobs=1)]: Done   8 out of   8 | elapsed: 11.0min remaining:    0.0s\n",
      "[CV] weights=uniform, n_neighbors=50, leaf_size=30, algorithm=kd_tree \n",
      "[CV]  weights=uniform, n_neighbors=50, leaf_size=30, algorithm=kd_tree, score=0.988, total=  58.6s\n",
      "[Parallel(n_jobs=1)]: Done   9 out of   9 | elapsed: 11.9min remaining:    0.0s\n",
      "[CV] weights=uniform, n_neighbors=50, leaf_size=30, algorithm=kd_tree \n",
      "[CV]  weights=uniform, n_neighbors=50, leaf_size=30, algorithm=kd_tree, score=0.976, total=  55.7s\n",
      "[Parallel(n_jobs=1)]: Done  10 out of  10 | elapsed: 12.9min remaining:    0.0s\n",
      "[CV] weights=uniform, n_neighbors=1, leaf_size=5, algorithm=brute ....\n",
      "[CV]  weights=uniform, n_neighbors=1, leaf_size=5, algorithm=brute, score=0.993, total=   1.6s\n",
      "[Parallel(n_jobs=1)]: Done  11 out of  11 | elapsed: 12.9min remaining:    0.0s\n",
      "[CV] weights=uniform, n_neighbors=1, leaf_size=5, algorithm=brute ....\n",
      "[CV]  weights=uniform, n_neighbors=1, leaf_size=5, algorithm=brute, score=0.998, total=   1.5s\n",
      "[Parallel(n_jobs=1)]: Done  12 out of  12 | elapsed: 12.9min remaining:    0.0s\n",
      "[CV] weights=uniform, n_neighbors=1, leaf_size=5, algorithm=brute ....\n",
      "[CV]  weights=uniform, n_neighbors=1, leaf_size=5, algorithm=brute, score=0.998, total=   1.5s\n",
      "[Parallel(n_jobs=1)]: Done  13 out of  13 | elapsed: 13.0min remaining:    0.0s\n",
      "[CV] weights=uniform, n_neighbors=1, leaf_size=5, algorithm=brute ....\n",
      "[CV]  weights=uniform, n_neighbors=1, leaf_size=5, algorithm=brute, score=0.999, total=   1.5s\n",
      "[Parallel(n_jobs=1)]: Done  14 out of  14 | elapsed: 13.0min remaining:    0.0s\n",
      "[CV] weights=uniform, n_neighbors=1, leaf_size=5, algorithm=brute ....\n",
      "[CV]  weights=uniform, n_neighbors=1, leaf_size=5, algorithm=brute, score=0.999, total=   1.6s\n",
      "[Parallel(n_jobs=1)]: Done  15 out of  15 | elapsed: 13.0min remaining:    0.0s\n",
      "[CV] weights=uniform, n_neighbors=75, leaf_size=35, algorithm=brute ..\n",
      "[CV]  weights=uniform, n_neighbors=75, leaf_size=35, algorithm=brute, score=0.965, total=   1.6s\n",
      "[Parallel(n_jobs=1)]: Done  16 out of  16 | elapsed: 13.0min remaining:    0.0s\n",
      "[CV] weights=uniform, n_neighbors=75, leaf_size=35, algorithm=brute ..\n",
      "[CV]  weights=uniform, n_neighbors=75, leaf_size=35, algorithm=brute, score=0.971, total=   1.6s\n",
      "[Parallel(n_jobs=1)]: Done  17 out of  17 | elapsed: 13.1min remaining:    0.0s\n",
      "[CV] weights=uniform, n_neighbors=75, leaf_size=35, algorithm=brute ..\n",
      "[CV]  weights=uniform, n_neighbors=75, leaf_size=35, algorithm=brute, score=0.979, total=   1.6s\n",
      "[Parallel(n_jobs=1)]: Done  18 out of  18 | elapsed: 13.1min remaining:    0.0s\n",
      "[CV] weights=uniform, n_neighbors=75, leaf_size=35, algorithm=brute ..\n",
      "[CV]  weights=uniform, n_neighbors=75, leaf_size=35, algorithm=brute, score=0.984, total=   1.6s\n",
      "[Parallel(n_jobs=1)]: Done  19 out of  19 | elapsed: 13.1min remaining:    0.0s\n",
      "[CV] weights=uniform, n_neighbors=75, leaf_size=35, algorithm=brute ..\n",
      "[CV]  weights=uniform, n_neighbors=75, leaf_size=35, algorithm=brute, score=0.971, total=   1.6s\n",
      "[Parallel(n_jobs=1)]: Done  20 out of  20 | elapsed: 13.1min remaining:    0.0s\n",
      "[CV] weights=distance, n_neighbors=5, leaf_size=30, algorithm=brute ..\n",
      "[CV]  weights=distance, n_neighbors=5, leaf_size=30, algorithm=brute, score=0.992, total=   1.6s\n",
      "[Parallel(n_jobs=1)]: Done  21 out of  21 | elapsed: 13.2min remaining:    0.0s\n",
      "[CV] weights=distance, n_neighbors=5, leaf_size=30, algorithm=brute ..\n",
      "[CV]  weights=distance, n_neighbors=5, leaf_size=30, algorithm=brute, score=0.992, total=   1.6s\n",
      "[Parallel(n_jobs=1)]: Done  22 out of  22 | elapsed: 13.2min remaining:    0.0s\n",
      "[CV] weights=distance, n_neighbors=5, leaf_size=30, algorithm=brute ..\n",
      "[CV]  weights=distance, n_neighbors=5, leaf_size=30, algorithm=brute, score=0.998, total=   1.7s\n",
      "[Parallel(n_jobs=1)]: Done  23 out of  23 | elapsed: 13.2min remaining:    0.0s\n",
      "[CV] weights=distance, n_neighbors=5, leaf_size=30, algorithm=brute ..\n",
      "[CV]  weights=distance, n_neighbors=5, leaf_size=30, algorithm=brute, score=0.995, total=   1.6s\n",
      "[Parallel(n_jobs=1)]: Done  24 out of  24 | elapsed: 13.2min remaining:    0.0s\n",
      "[CV] weights=distance, n_neighbors=5, leaf_size=30, algorithm=brute ..\n",
      "[CV]  weights=distance, n_neighbors=5, leaf_size=30, algorithm=brute, score=0.997, total=   1.5s\n",
      "[Parallel(n_jobs=1)]: Done  25 out of  25 | elapsed: 13.3min remaining:    0.0s\n",
      "[CV] weights=distance, n_neighbors=1, leaf_size=5, algorithm=kd_tree .\n",
      "[CV]  weights=distance, n_neighbors=1, leaf_size=5, algorithm=kd_tree, score=0.993, total=  37.9s\n",
      "[Parallel(n_jobs=1)]: Done  26 out of  26 | elapsed: 13.9min remaining:    0.0s\n",
      "[CV] weights=distance, n_neighbors=1, leaf_size=5, algorithm=kd_tree .\n",
      "[CV]  weights=distance, n_neighbors=1, leaf_size=5, algorithm=kd_tree, score=0.998, total=  37.0s\n",
      "[Parallel(n_jobs=1)]: Done  27 out of  27 | elapsed: 14.5min remaining:    0.0s\n",
      "[CV] weights=distance, n_neighbors=1, leaf_size=5, algorithm=kd_tree .\n",
      "[CV]  weights=distance, n_neighbors=1, leaf_size=5, algorithm=kd_tree, score=0.998, total=  36.7s\n",
      "[Parallel(n_jobs=1)]: Done  28 out of  28 | elapsed: 15.1min remaining:    0.0s\n",
      "[CV] weights=distance, n_neighbors=1, leaf_size=5, algorithm=kd_tree .\n",
      "[CV]  weights=distance, n_neighbors=1, leaf_size=5, algorithm=kd_tree, score=0.999, total=  39.1s\n",
      "[Parallel(n_jobs=1)]: Done  29 out of  29 | elapsed: 15.8min remaining:    0.0s\n",
      "[CV] weights=distance, n_neighbors=1, leaf_size=5, algorithm=kd_tree .\n",
      "[CV]  weights=distance, n_neighbors=1, leaf_size=5, algorithm=kd_tree, score=0.999, total=  35.7s\n",
      "[Parallel(n_jobs=1)]: Done  30 out of  30 | elapsed: 16.4min remaining:    0.0s\n",
      "[CV] weights=uniform, n_neighbors=100, leaf_size=30, algorithm=auto ..\n",
      "[CV]  weights=uniform, n_neighbors=100, leaf_size=30, algorithm=auto, score=0.964, total= 1.1min\n",
      "[Parallel(n_jobs=1)]: Done  31 out of  31 | elapsed: 17.5min remaining:    0.0s\n",
      "[CV] weights=uniform, n_neighbors=100, leaf_size=30, algorithm=auto ..\n",
      "[CV]  weights=uniform, n_neighbors=100, leaf_size=30, algorithm=auto, score=0.971, total= 1.1min\n",
      "[Parallel(n_jobs=1)]: Done  32 out of  32 | elapsed: 18.6min remaining:    0.0s\n",
      "[CV] weights=uniform, n_neighbors=100, leaf_size=30, algorithm=auto ..\n"
     ]
    },
    {
     "name": "stdout",
     "output_type": "stream",
     "text": [
      "[CV]  weights=uniform, n_neighbors=100, leaf_size=30, algorithm=auto, score=0.976, total= 1.1min\n",
      "[Parallel(n_jobs=1)]: Done  33 out of  33 | elapsed: 19.8min remaining:    0.0s\n",
      "[CV] weights=uniform, n_neighbors=100, leaf_size=30, algorithm=auto ..\n",
      "[CV]  weights=uniform, n_neighbors=100, leaf_size=30, algorithm=auto, score=0.982, total= 1.2min\n",
      "[Parallel(n_jobs=1)]: Done  34 out of  34 | elapsed: 20.9min remaining:    0.0s\n",
      "[CV] weights=uniform, n_neighbors=100, leaf_size=30, algorithm=auto ..\n",
      "[CV]  weights=uniform, n_neighbors=100, leaf_size=30, algorithm=auto, score=0.969, total= 1.1min\n",
      "[Parallel(n_jobs=1)]: Done  35 out of  35 | elapsed: 22.0min remaining:    0.0s\n",
      "[CV] weights=uniform, n_neighbors=75, leaf_size=5, algorithm=kd_tree .\n",
      "[CV]  weights=uniform, n_neighbors=75, leaf_size=5, algorithm=kd_tree, score=0.965, total= 1.8min\n",
      "[Parallel(n_jobs=1)]: Done  36 out of  36 | elapsed: 23.8min remaining:    0.0s\n",
      "[CV] weights=uniform, n_neighbors=75, leaf_size=5, algorithm=kd_tree .\n",
      "[CV]  weights=uniform, n_neighbors=75, leaf_size=5, algorithm=kd_tree, score=0.971, total= 1.7min\n",
      "[Parallel(n_jobs=1)]: Done  37 out of  37 | elapsed: 25.5min remaining:    0.0s\n",
      "[CV] weights=uniform, n_neighbors=75, leaf_size=5, algorithm=kd_tree .\n",
      "[CV]  weights=uniform, n_neighbors=75, leaf_size=5, algorithm=kd_tree, score=0.982, total= 1.7min\n",
      "[Parallel(n_jobs=1)]: Done  38 out of  38 | elapsed: 27.3min remaining:    0.0s\n",
      "[CV] weights=uniform, n_neighbors=75, leaf_size=5, algorithm=kd_tree .\n",
      "[CV]  weights=uniform, n_neighbors=75, leaf_size=5, algorithm=kd_tree, score=0.984, total= 1.8min\n",
      "[Parallel(n_jobs=1)]: Done  39 out of  39 | elapsed: 29.1min remaining:    0.0s\n",
      "[CV] weights=uniform, n_neighbors=75, leaf_size=5, algorithm=kd_tree .\n",
      "[CV]  weights=uniform, n_neighbors=75, leaf_size=5, algorithm=kd_tree, score=0.971, total= 1.7min\n",
      "[Parallel(n_jobs=1)]: Done  40 out of  40 | elapsed: 30.8min remaining:    0.0s\n",
      "[CV] weights=uniform, n_neighbors=10, leaf_size=35, algorithm=ball_tree \n",
      "[CV]  weights=uniform, n_neighbors=10, leaf_size=35, algorithm=ball_tree, score=0.985, total= 1.6min\n",
      "[Parallel(n_jobs=1)]: Done  41 out of  41 | elapsed: 32.4min remaining:    0.0s\n",
      "[CV] weights=uniform, n_neighbors=10, leaf_size=35, algorithm=ball_tree \n",
      "[CV]  weights=uniform, n_neighbors=10, leaf_size=35, algorithm=ball_tree, score=0.987, total= 1.6min\n",
      "[Parallel(n_jobs=1)]: Done  42 out of  42 | elapsed: 34.0min remaining:    0.0s\n",
      "[CV] weights=uniform, n_neighbors=10, leaf_size=35, algorithm=ball_tree \n",
      "[CV]  weights=uniform, n_neighbors=10, leaf_size=35, algorithm=ball_tree, score=0.993, total= 1.6min\n",
      "[Parallel(n_jobs=1)]: Done  43 out of  43 | elapsed: 35.6min remaining:    0.0s\n",
      "[CV] weights=uniform, n_neighbors=10, leaf_size=35, algorithm=ball_tree \n",
      "[CV]  weights=uniform, n_neighbors=10, leaf_size=35, algorithm=ball_tree, score=0.994, total= 1.6min\n",
      "[Parallel(n_jobs=1)]: Done  44 out of  44 | elapsed: 37.2min remaining:    0.0s\n",
      "[CV] weights=uniform, n_neighbors=10, leaf_size=35, algorithm=ball_tree \n",
      "[CV]  weights=uniform, n_neighbors=10, leaf_size=35, algorithm=ball_tree, score=0.988, total= 1.6min\n",
      "[Parallel(n_jobs=1)]: Done  45 out of  45 | elapsed: 38.8min remaining:    0.0s\n",
      "[CV] weights=uniform, n_neighbors=50, leaf_size=35, algorithm=kd_tree \n",
      "[CV]  weights=uniform, n_neighbors=50, leaf_size=35, algorithm=kd_tree, score=0.970, total=  56.5s\n",
      "[Parallel(n_jobs=1)]: Done  46 out of  46 | elapsed: 39.8min remaining:    0.0s\n",
      "[CV] weights=uniform, n_neighbors=50, leaf_size=35, algorithm=kd_tree \n",
      "[CV]  weights=uniform, n_neighbors=50, leaf_size=35, algorithm=kd_tree, score=0.975, total=  57.1s\n",
      "[Parallel(n_jobs=1)]: Done  47 out of  47 | elapsed: 40.7min remaining:    0.0s\n",
      "[CV] weights=uniform, n_neighbors=50, leaf_size=35, algorithm=kd_tree \n",
      "[CV]  weights=uniform, n_neighbors=50, leaf_size=35, algorithm=kd_tree, score=0.983, total=  57.2s\n",
      "[Parallel(n_jobs=1)]: Done  48 out of  48 | elapsed: 41.7min remaining:    0.0s\n",
      "[CV] weights=uniform, n_neighbors=50, leaf_size=35, algorithm=kd_tree \n",
      "[CV]  weights=uniform, n_neighbors=50, leaf_size=35, algorithm=kd_tree, score=0.988, total=  59.4s\n",
      "[Parallel(n_jobs=1)]: Done  49 out of  49 | elapsed: 42.7min remaining:    0.0s\n",
      "[CV] weights=uniform, n_neighbors=50, leaf_size=35, algorithm=kd_tree \n",
      "[CV]  weights=uniform, n_neighbors=50, leaf_size=35, algorithm=kd_tree, score=0.976, total=  56.6s\n",
      "[Parallel(n_jobs=1)]: Done  50 out of  50 | elapsed: 43.6min remaining:    0.0s\n",
      "[Parallel(n_jobs=1)]: Done  50 out of  50 | elapsed: 43.6min finished\n"
     ]
    }
   ],
   "source": [
    "best_knn = RandomizedSearchCV(knn, knn_parameters, n_iter=10, cv=5, random_state=seed, verbose=100, scoring=\"recall\")\n",
    "knn_start = time.time()\n",
    "best_knn.fit(X_train, y_train)\n",
    "knn_end = time.time()\n",
    "knn_time_taken = (knn_end-knn_start)/50"
   ]
  },
  {
   "cell_type": "code",
   "execution_count": 83,
   "metadata": {},
   "outputs": [
    {
     "name": "stdout",
     "output_type": "stream",
     "text": [
      "52.319371671676635\n"
     ]
    }
   ],
   "source": [
    "print(knn_time_taken)"
   ]
  },
  {
   "cell_type": "code",
   "execution_count": 84,
   "metadata": {},
   "outputs": [],
   "source": [
    "time_taken.append(knn_time_taken)"
   ]
  },
  {
   "cell_type": "code",
   "execution_count": 85,
   "metadata": {},
   "outputs": [
    {
     "data": {
      "text/plain": [
       "{'weights': 'uniform', 'n_neighbors': 1, 'leaf_size': 5, 'algorithm': 'brute'}"
      ]
     },
     "execution_count": 85,
     "metadata": {},
     "output_type": "execute_result"
    }
   ],
   "source": [
    "best_knn.best_params_"
   ]
  },
  {
   "cell_type": "raw",
   "metadata": {},
   "source": [
    "knn_y_pred = best_knn.predict(X_val)"
   ]
  },
  {
   "cell_type": "raw",
   "metadata": {},
   "source": [
    "print(classification_report(y_val, knn_y_pred))"
   ]
  },
  {
   "cell_type": "code",
   "execution_count": 86,
   "metadata": {},
   "outputs": [],
   "source": [
    "knn_pickle = \"XSS_knn_pickle.sav\"\n",
    "pickle.dump(best_knn, open(knn_pickle, \"wb\"))"
   ]
  },
  {
   "cell_type": "raw",
   "metadata": {},
   "source": [
    "knn_recall = recall_score(y_val, knn_y_pred)"
   ]
  },
  {
   "cell_type": "code",
   "execution_count": 87,
   "metadata": {},
   "outputs": [],
   "source": [
    "knn_recall = best_knn.best_score_"
   ]
  },
  {
   "cell_type": "code",
   "execution_count": 88,
   "metadata": {},
   "outputs": [
    {
     "data": {
      "text/plain": [
       "0.997228637413395"
      ]
     },
     "execution_count": 88,
     "metadata": {},
     "output_type": "execute_result"
    }
   ],
   "source": [
    "knn_recall"
   ]
  },
  {
   "cell_type": "code",
   "execution_count": 89,
   "metadata": {},
   "outputs": [],
   "source": [
    "train_recall_score.append(knn_recall)"
   ]
  },
  {
   "cell_type": "code",
   "execution_count": 90,
   "metadata": {},
   "outputs": [
    {
     "data": {
      "text/plain": [
       "[1.0, 1.0, 1.0, 0.992609699769053, 0.997228637413395]"
      ]
     },
     "execution_count": 90,
     "metadata": {},
     "output_type": "execute_result"
    }
   ],
   "source": [
    "train_recall_score"
   ]
  },
  {
   "cell_type": "markdown",
   "metadata": {},
   "source": [
    "## Multinomial NB\n",
    "\n",
    "Special case with few hyperparameters to tune (Reduced)"
   ]
  },
  {
   "cell_type": "code",
   "execution_count": 91,
   "metadata": {},
   "outputs": [],
   "source": [
    "nb = MultinomialNB()"
   ]
  },
  {
   "cell_type": "code",
   "execution_count": 92,
   "metadata": {},
   "outputs": [
    {
     "data": {
      "text/plain": [
       "dict_keys(['alpha', 'class_prior', 'fit_prior'])"
      ]
     },
     "execution_count": 92,
     "metadata": {},
     "output_type": "execute_result"
    }
   ],
   "source": [
    "nb.get_params().keys()"
   ]
  },
  {
   "cell_type": "code",
   "execution_count": 93,
   "metadata": {},
   "outputs": [],
   "source": [
    "nb_parameters = {\"alpha\": [0, 0.0001, 0.001, 0.01, 0.1, 1, 10],\n",
    "                  \"class_prior\": [None],\n",
    "                  \"fit_prior\": [True, False]\n",
    "    \n",
    "}"
   ]
  },
  {
   "cell_type": "code",
   "execution_count": 94,
   "metadata": {},
   "outputs": [
    {
     "name": "stdout",
     "output_type": "stream",
     "text": [
      "Fitting 5 folds for each of 10 candidates, totalling 50 fits\n",
      "[Parallel(n_jobs=1)]: Using backend SequentialBackend with 1 concurrent workers.\n",
      "[CV] fit_prior=False, class_prior=None, alpha=0.001 ..................\n",
      "[CV]  fit_prior=False, class_prior=None, alpha=0.001, score=0.992, total=   1.0s\n",
      "[Parallel(n_jobs=1)]: Done   1 out of   1 | elapsed:    0.9s remaining:    0.0s\n",
      "[CV] fit_prior=False, class_prior=None, alpha=0.001 ..................\n",
      "[CV]  fit_prior=False, class_prior=None, alpha=0.001, score=0.991, total=   1.0s\n",
      "[Parallel(n_jobs=1)]: Done   2 out of   2 | elapsed:    1.9s remaining:    0.0s\n",
      "[CV] fit_prior=False, class_prior=None, alpha=0.001 ..................\n",
      "[CV]  fit_prior=False, class_prior=None, alpha=0.001, score=0.997, total=   1.0s\n",
      "[Parallel(n_jobs=1)]: Done   3 out of   3 | elapsed:    2.9s remaining:    0.0s\n",
      "[CV] fit_prior=False, class_prior=None, alpha=0.001 ..................\n",
      "[CV]  fit_prior=False, class_prior=None, alpha=0.001, score=0.998, total=   1.3s\n",
      "[Parallel(n_jobs=1)]: Done   4 out of   4 | elapsed:    4.2s remaining:    0.0s\n",
      "[CV] fit_prior=False, class_prior=None, alpha=0.001 ..................\n",
      "[CV]  fit_prior=False, class_prior=None, alpha=0.001, score=0.997, total=   1.0s\n",
      "[Parallel(n_jobs=1)]: Done   5 out of   5 | elapsed:    5.3s remaining:    0.0s\n",
      "[CV] fit_prior=True, class_prior=None, alpha=0.0001 ..................\n",
      "[CV]  fit_prior=True, class_prior=None, alpha=0.0001, score=0.993, total=   1.0s\n",
      "[Parallel(n_jobs=1)]: Done   6 out of   6 | elapsed:    6.3s remaining:    0.0s\n",
      "[CV] fit_prior=True, class_prior=None, alpha=0.0001 ..................\n",
      "[CV]  fit_prior=True, class_prior=None, alpha=0.0001, score=0.993, total=   1.1s\n",
      "[Parallel(n_jobs=1)]: Done   7 out of   7 | elapsed:    7.5s remaining:    0.0s\n",
      "[CV] fit_prior=True, class_prior=None, alpha=0.0001 ..................\n",
      "[CV]  fit_prior=True, class_prior=None, alpha=0.0001, score=0.997, total=   1.1s\n",
      "[Parallel(n_jobs=1)]: Done   8 out of   8 | elapsed:    8.7s remaining:    0.0s\n",
      "[CV] fit_prior=True, class_prior=None, alpha=0.0001 ..................\n",
      "[CV]  fit_prior=True, class_prior=None, alpha=0.0001, score=0.998, total=   1.0s\n",
      "[Parallel(n_jobs=1)]: Done   9 out of   9 | elapsed:    9.7s remaining:    0.0s\n",
      "[CV] fit_prior=True, class_prior=None, alpha=0.0001 ..................\n",
      "[CV]  fit_prior=True, class_prior=None, alpha=0.0001, score=0.997, total=   1.0s\n",
      "[Parallel(n_jobs=1)]: Done  10 out of  10 | elapsed:   10.7s remaining:    0.0s\n",
      "[CV] fit_prior=False, class_prior=None, alpha=1 ......................\n",
      "[CV]  fit_prior=False, class_prior=None, alpha=1, score=0.988, total=   1.0s\n",
      "[Parallel(n_jobs=1)]: Done  11 out of  11 | elapsed:   11.7s remaining:    0.0s\n",
      "[CV] fit_prior=False, class_prior=None, alpha=1 ......................\n",
      "[CV]  fit_prior=False, class_prior=None, alpha=1, score=0.990, total=   1.0s\n",
      "[Parallel(n_jobs=1)]: Done  12 out of  12 | elapsed:   12.7s remaining:    0.0s\n",
      "[CV] fit_prior=False, class_prior=None, alpha=1 ......................\n",
      "[CV]  fit_prior=False, class_prior=None, alpha=1, score=0.998, total=   1.0s\n",
      "[Parallel(n_jobs=1)]: Done  13 out of  13 | elapsed:   13.7s remaining:    0.0s\n",
      "[CV] fit_prior=False, class_prior=None, alpha=1 ......................\n",
      "[CV]  fit_prior=False, class_prior=None, alpha=1, score=0.995, total=   1.0s\n",
      "[Parallel(n_jobs=1)]: Done  14 out of  14 | elapsed:   14.7s remaining:    0.0s\n",
      "[CV] fit_prior=False, class_prior=None, alpha=1 ......................\n",
      "[CV]  fit_prior=False, class_prior=None, alpha=1, score=0.995, total=   1.0s\n",
      "[Parallel(n_jobs=1)]: Done  15 out of  15 | elapsed:   15.7s remaining:    0.0s\n",
      "[CV] fit_prior=True, class_prior=None, alpha=0.1 .....................\n",
      "[CV]  fit_prior=True, class_prior=None, alpha=0.1, score=0.993, total=   1.0s\n",
      "[Parallel(n_jobs=1)]: Done  16 out of  16 | elapsed:   16.8s remaining:    0.0s\n",
      "[CV] fit_prior=True, class_prior=None, alpha=0.1 .....................\n",
      "[CV]  fit_prior=True, class_prior=None, alpha=0.1, score=0.994, total=   1.0s\n",
      "[Parallel(n_jobs=1)]: Done  17 out of  17 | elapsed:   17.8s remaining:    0.0s\n",
      "[CV] fit_prior=True, class_prior=None, alpha=0.1 .....................\n",
      "[CV]  fit_prior=True, class_prior=None, alpha=0.1, score=0.998, total=   1.0s\n",
      "[Parallel(n_jobs=1)]: Done  18 out of  18 | elapsed:   18.8s remaining:    0.0s\n",
      "[CV] fit_prior=True, class_prior=None, alpha=0.1 .....................\n",
      "[CV]  fit_prior=True, class_prior=None, alpha=0.1, score=0.998, total=   1.0s\n",
      "[Parallel(n_jobs=1)]: Done  19 out of  19 | elapsed:   19.9s remaining:    0.0s\n",
      "[CV] fit_prior=True, class_prior=None, alpha=0.1 .....................\n",
      "[CV]  fit_prior=True, class_prior=None, alpha=0.1, score=0.997, total=   1.0s\n",
      "[Parallel(n_jobs=1)]: Done  20 out of  20 | elapsed:   20.9s remaining:    0.0s\n",
      "[CV] fit_prior=True, class_prior=None, alpha=1 .......................\n",
      "[CV]  fit_prior=True, class_prior=None, alpha=1, score=0.988, total=   1.0s\n",
      "[Parallel(n_jobs=1)]: Done  21 out of  21 | elapsed:   21.9s remaining:    0.0s\n",
      "[CV] fit_prior=True, class_prior=None, alpha=1 .......................\n",
      "[CV]  fit_prior=True, class_prior=None, alpha=1, score=0.991, total=   1.0s\n",
      "[Parallel(n_jobs=1)]: Done  22 out of  22 | elapsed:   22.9s remaining:    0.0s\n",
      "[CV] fit_prior=True, class_prior=None, alpha=1 .......................\n",
      "[CV]  fit_prior=True, class_prior=None, alpha=1, score=0.998, total=   1.0s\n",
      "[Parallel(n_jobs=1)]: Done  23 out of  23 | elapsed:   23.9s remaining:    0.0s\n",
      "[CV] fit_prior=True, class_prior=None, alpha=1 .......................\n",
      "[CV]  fit_prior=True, class_prior=None, alpha=1, score=0.995, total=   0.9s\n",
      "[Parallel(n_jobs=1)]: Done  24 out of  24 | elapsed:   24.8s remaining:    0.0s\n",
      "[CV] fit_prior=True, class_prior=None, alpha=1 .......................\n",
      "[CV]  fit_prior=True, class_prior=None, alpha=1, score=0.995, total=   1.0s\n",
      "[Parallel(n_jobs=1)]: Done  25 out of  25 | elapsed:   25.8s remaining:    0.0s\n",
      "[CV] fit_prior=False, class_prior=None, alpha=0.01 ...................\n",
      "[CV]  fit_prior=False, class_prior=None, alpha=0.01, score=0.992, total=   1.0s\n",
      "[Parallel(n_jobs=1)]: Done  26 out of  26 | elapsed:   26.8s remaining:    0.0s\n",
      "[CV] fit_prior=False, class_prior=None, alpha=0.01 ...................\n",
      "[CV]  fit_prior=False, class_prior=None, alpha=0.01, score=0.992, total=   1.0s\n",
      "[Parallel(n_jobs=1)]: Done  27 out of  27 | elapsed:   27.8s remaining:    0.0s\n",
      "[CV] fit_prior=False, class_prior=None, alpha=0.01 ...................\n",
      "[CV]  fit_prior=False, class_prior=None, alpha=0.01, score=0.998, total=   1.0s\n",
      "[Parallel(n_jobs=1)]: Done  28 out of  28 | elapsed:   28.8s remaining:    0.0s\n",
      "[CV] fit_prior=False, class_prior=None, alpha=0.01 ...................\n",
      "[CV]  fit_prior=False, class_prior=None, alpha=0.01, score=0.998, total=   0.9s\n",
      "[Parallel(n_jobs=1)]: Done  29 out of  29 | elapsed:   29.8s remaining:    0.0s\n",
      "[CV] fit_prior=False, class_prior=None, alpha=0.01 ...................\n",
      "[CV]  fit_prior=False, class_prior=None, alpha=0.01, score=0.997, total=   1.0s\n",
      "[Parallel(n_jobs=1)]: Done  30 out of  30 | elapsed:   30.8s remaining:    0.0s\n",
      "[CV] fit_prior=True, class_prior=None, alpha=10 ......................\n",
      "[CV]  fit_prior=True, class_prior=None, alpha=10, score=0.984, total=   1.0s\n",
      "[Parallel(n_jobs=1)]: Done  31 out of  31 | elapsed:   31.8s remaining:    0.0s\n",
      "[CV] fit_prior=True, class_prior=None, alpha=10 ......................\n",
      "[CV]  fit_prior=True, class_prior=None, alpha=10, score=0.986, total=   1.0s\n",
      "[Parallel(n_jobs=1)]: Done  32 out of  32 | elapsed:   32.8s remaining:    0.0s\n",
      "[CV] fit_prior=True, class_prior=None, alpha=10 ......................\n",
      "[CV]  fit_prior=True, class_prior=None, alpha=10, score=0.994, total=   1.0s\n",
      "[Parallel(n_jobs=1)]: Done  33 out of  33 | elapsed:   33.8s remaining:    0.0s\n",
      "[CV] fit_prior=True, class_prior=None, alpha=10 ......................\n",
      "[CV]  fit_prior=True, class_prior=None, alpha=10, score=0.994, total=   1.0s\n",
      "[Parallel(n_jobs=1)]: Done  34 out of  34 | elapsed:   34.8s remaining:    0.0s\n",
      "[CV] fit_prior=True, class_prior=None, alpha=10 ......................\n",
      "[CV]  fit_prior=True, class_prior=None, alpha=10, score=0.988, total=   1.0s\n",
      "[Parallel(n_jobs=1)]: Done  35 out of  35 | elapsed:   35.8s remaining:    0.0s\n",
      "[CV] fit_prior=False, class_prior=None, alpha=10 .....................\n"
     ]
    },
    {
     "name": "stdout",
     "output_type": "stream",
     "text": [
      "[CV]  fit_prior=False, class_prior=None, alpha=10, score=0.984, total=   1.0s\n",
      "[Parallel(n_jobs=1)]: Done  36 out of  36 | elapsed:   36.8s remaining:    0.0s\n",
      "[CV] fit_prior=False, class_prior=None, alpha=10 .....................\n",
      "[CV]  fit_prior=False, class_prior=None, alpha=10, score=0.986, total=   1.0s\n",
      "[Parallel(n_jobs=1)]: Done  37 out of  37 | elapsed:   37.8s remaining:    0.0s\n",
      "[CV] fit_prior=False, class_prior=None, alpha=10 .....................\n",
      "[CV]  fit_prior=False, class_prior=None, alpha=10, score=0.993, total=   1.0s\n",
      "[Parallel(n_jobs=1)]: Done  38 out of  38 | elapsed:   38.8s remaining:    0.0s\n",
      "[CV] fit_prior=False, class_prior=None, alpha=10 .....................\n",
      "[CV]  fit_prior=False, class_prior=None, alpha=10, score=0.994, total=   1.0s\n",
      "[Parallel(n_jobs=1)]: Done  39 out of  39 | elapsed:   39.8s remaining:    0.0s\n",
      "[CV] fit_prior=False, class_prior=None, alpha=10 .....................\n",
      "[CV]  fit_prior=False, class_prior=None, alpha=10, score=0.988, total=   1.0s\n",
      "[Parallel(n_jobs=1)]: Done  40 out of  40 | elapsed:   40.8s remaining:    0.0s\n",
      "[CV] fit_prior=True, class_prior=None, alpha=0.001 ...................\n",
      "[CV]  fit_prior=True, class_prior=None, alpha=0.001, score=0.993, total=   1.0s\n",
      "[Parallel(n_jobs=1)]: Done  41 out of  41 | elapsed:   41.7s remaining:    0.0s\n",
      "[CV] fit_prior=True, class_prior=None, alpha=0.001 ...................\n",
      "[CV]  fit_prior=True, class_prior=None, alpha=0.001, score=0.993, total=   1.0s\n",
      "[Parallel(n_jobs=1)]: Done  42 out of  42 | elapsed:   42.8s remaining:    0.0s\n",
      "[CV] fit_prior=True, class_prior=None, alpha=0.001 ...................\n",
      "[CV]  fit_prior=True, class_prior=None, alpha=0.001, score=0.997, total=   1.0s\n",
      "[Parallel(n_jobs=1)]: Done  43 out of  43 | elapsed:   43.8s remaining:    0.0s\n",
      "[CV] fit_prior=True, class_prior=None, alpha=0.001 ...................\n",
      "[CV]  fit_prior=True, class_prior=None, alpha=0.001, score=0.998, total=   0.9s\n",
      "[Parallel(n_jobs=1)]: Done  44 out of  44 | elapsed:   44.8s remaining:    0.0s\n",
      "[CV] fit_prior=True, class_prior=None, alpha=0.001 ...................\n",
      "[CV]  fit_prior=True, class_prior=None, alpha=0.001, score=0.997, total=   0.9s\n",
      "[Parallel(n_jobs=1)]: Done  45 out of  45 | elapsed:   45.7s remaining:    0.0s\n",
      "[CV] fit_prior=False, class_prior=None, alpha=0 ......................\n",
      "[CV]  fit_prior=False, class_prior=None, alpha=0, score=0.993, total=   1.0s\n",
      "[Parallel(n_jobs=1)]: Done  46 out of  46 | elapsed:   46.7s remaining:    0.0s\n",
      "[CV] fit_prior=False, class_prior=None, alpha=0 ......................\n",
      "[CV]  fit_prior=False, class_prior=None, alpha=0, score=0.990, total=   1.0s\n",
      "[Parallel(n_jobs=1)]: Done  47 out of  47 | elapsed:   47.7s remaining:    0.0s\n",
      "[CV] fit_prior=False, class_prior=None, alpha=0 ......................\n",
      "[CV]  fit_prior=False, class_prior=None, alpha=0, score=0.995, total=   1.0s\n",
      "[Parallel(n_jobs=1)]: Done  48 out of  48 | elapsed:   48.7s remaining:    0.0s\n",
      "[CV] fit_prior=False, class_prior=None, alpha=0 ......................\n",
      "[CV]  fit_prior=False, class_prior=None, alpha=0, score=0.997, total=   1.0s\n",
      "[Parallel(n_jobs=1)]: Done  49 out of  49 | elapsed:   49.7s remaining:    0.0s\n",
      "[CV] fit_prior=False, class_prior=None, alpha=0 ......................\n",
      "[CV]  fit_prior=False, class_prior=None, alpha=0, score=0.997, total=   1.0s\n",
      "[Parallel(n_jobs=1)]: Done  50 out of  50 | elapsed:   50.7s remaining:    0.0s\n",
      "[Parallel(n_jobs=1)]: Done  50 out of  50 | elapsed:   50.7s finished\n"
     ]
    }
   ],
   "source": [
    "best_nb = RandomizedSearchCV(nb, nb_parameters, n_iter=10, cv=5, random_state=seed, verbose=100, scoring=\"recall\")\n",
    "nb_start = time.time()\n",
    "best_nb.fit(X_train, y_train)\n",
    "nb_end = time.time()\n",
    "nb_time_taken = (nb_end-nb_start)/50"
   ]
  },
  {
   "cell_type": "code",
   "execution_count": 95,
   "metadata": {},
   "outputs": [
    {
     "name": "stdout",
     "output_type": "stream",
     "text": [
      "1.0358105278015137\n"
     ]
    }
   ],
   "source": [
    "print(nb_time_taken)"
   ]
  },
  {
   "cell_type": "code",
   "execution_count": 96,
   "metadata": {},
   "outputs": [],
   "source": [
    "time_taken.append(nb_time_taken)"
   ]
  },
  {
   "cell_type": "code",
   "execution_count": 97,
   "metadata": {},
   "outputs": [
    {
     "data": {
      "text/plain": [
       "{'fit_prior': True, 'class_prior': None, 'alpha': 0.1}"
      ]
     },
     "execution_count": 97,
     "metadata": {},
     "output_type": "execute_result"
    }
   ],
   "source": [
    "best_nb.best_params_"
   ]
  },
  {
   "cell_type": "raw",
   "metadata": {},
   "source": [
    "nb_y_pred = best_nb.predict(X_val)"
   ]
  },
  {
   "cell_type": "raw",
   "metadata": {},
   "source": [
    "print(classification_report(y_val, nb_y_pred))"
   ]
  },
  {
   "cell_type": "code",
   "execution_count": 98,
   "metadata": {},
   "outputs": [],
   "source": [
    "nb_pickle = \"XSS_nb_pickle.sav\"\n",
    "pickle.dump(best_nb, open(nb_pickle, \"wb\"))"
   ]
  },
  {
   "cell_type": "raw",
   "metadata": {},
   "source": [
    "nb_recall = recall_score(y_val, nb_y_pred)"
   ]
  },
  {
   "cell_type": "code",
   "execution_count": 99,
   "metadata": {},
   "outputs": [],
   "source": [
    "nb_recall = best_nb.best_score_"
   ]
  },
  {
   "cell_type": "code",
   "execution_count": 100,
   "metadata": {},
   "outputs": [
    {
     "data": {
      "text/plain": [
       "0.9958429561200924"
      ]
     },
     "execution_count": 100,
     "metadata": {},
     "output_type": "execute_result"
    }
   ],
   "source": [
    "nb_recall"
   ]
  },
  {
   "cell_type": "code",
   "execution_count": 101,
   "metadata": {},
   "outputs": [],
   "source": [
    "train_recall_score.append(nb_recall)"
   ]
  },
  {
   "cell_type": "code",
   "execution_count": 102,
   "metadata": {},
   "outputs": [
    {
     "data": {
      "text/plain": [
       "[1.0, 1.0, 1.0, 0.992609699769053, 0.997228637413395, 0.9958429561200924]"
      ]
     },
     "execution_count": 102,
     "metadata": {},
     "output_type": "execute_result"
    }
   ],
   "source": [
    "train_recall_score"
   ]
  },
  {
   "cell_type": "markdown",
   "metadata": {},
   "source": [
    "## MLPClassifier"
   ]
  },
  {
   "cell_type": "code",
   "execution_count": 103,
   "metadata": {},
   "outputs": [],
   "source": [
    "nn = MLPClassifier(random_state=seed)"
   ]
  },
  {
   "cell_type": "code",
   "execution_count": 104,
   "metadata": {},
   "outputs": [
    {
     "data": {
      "text/plain": [
       "dict_keys(['activation', 'alpha', 'batch_size', 'beta_1', 'beta_2', 'early_stopping', 'epsilon', 'hidden_layer_sizes', 'learning_rate', 'learning_rate_init', 'max_fun', 'max_iter', 'momentum', 'n_iter_no_change', 'nesterovs_momentum', 'power_t', 'random_state', 'shuffle', 'solver', 'tol', 'validation_fraction', 'verbose', 'warm_start'])"
      ]
     },
     "execution_count": 104,
     "metadata": {},
     "output_type": "execute_result"
    }
   ],
   "source": [
    "nn.get_params().keys()"
   ]
  },
  {
   "cell_type": "code",
   "execution_count": 105,
   "metadata": {},
   "outputs": [],
   "source": [
    "nn_parameters = {\n",
    "    'hidden_layer_sizes': [(50,50,50), (50,100,50), (100,)],\n",
    "    'activation': [\"identity\", \"logistic\", \"tanh\", \"relu\"],\n",
    "    'solver': ['sgd', 'adam'],\n",
    "    'alpha': [0.00001, 0.0001, 0.001, 0.01, 0.1],\n",
    "    'learning_rate': ['constant','adaptive', \"invscaling\"],\n",
    "    \"learning_rate_init\": [0.001, 0.01]\n",
    "}\n",
    "    \n"
   ]
  },
  {
   "cell_type": "code",
   "execution_count": 106,
   "metadata": {},
   "outputs": [
    {
     "name": "stdout",
     "output_type": "stream",
     "text": [
      "Fitting 5 folds for each of 10 candidates, totalling 50 fits\n",
      "[Parallel(n_jobs=1)]: Using backend SequentialBackend with 1 concurrent workers.\n",
      "[CV] solver=sgd, learning_rate_init=0.001, learning_rate=adaptive, hidden_layer_sizes=(50, 100, 50), alpha=0.0001, activation=identity \n",
      "[CV]  solver=sgd, learning_rate_init=0.001, learning_rate=adaptive, hidden_layer_sizes=(50, 100, 50), alpha=0.0001, activation=identity, score=0.992, total= 2.8min\n",
      "[Parallel(n_jobs=1)]: Done   1 out of   1 | elapsed:  2.8min remaining:    0.0s\n",
      "[CV] solver=sgd, learning_rate_init=0.001, learning_rate=adaptive, hidden_layer_sizes=(50, 100, 50), alpha=0.0001, activation=identity \n",
      "[CV]  solver=sgd, learning_rate_init=0.001, learning_rate=adaptive, hidden_layer_sizes=(50, 100, 50), alpha=0.0001, activation=identity, score=0.990, total= 2.4min\n",
      "[Parallel(n_jobs=1)]: Done   2 out of   2 | elapsed:  5.2min remaining:    0.0s\n",
      "[CV] solver=sgd, learning_rate_init=0.001, learning_rate=adaptive, hidden_layer_sizes=(50, 100, 50), alpha=0.0001, activation=identity \n",
      "[CV]  solver=sgd, learning_rate_init=0.001, learning_rate=adaptive, hidden_layer_sizes=(50, 100, 50), alpha=0.0001, activation=identity, score=0.995, total= 2.5min\n",
      "[Parallel(n_jobs=1)]: Done   3 out of   3 | elapsed:  7.6min remaining:    0.0s\n",
      "[CV] solver=sgd, learning_rate_init=0.001, learning_rate=adaptive, hidden_layer_sizes=(50, 100, 50), alpha=0.0001, activation=identity \n",
      "[CV]  solver=sgd, learning_rate_init=0.001, learning_rate=adaptive, hidden_layer_sizes=(50, 100, 50), alpha=0.0001, activation=identity, score=0.997, total= 2.7min\n",
      "[Parallel(n_jobs=1)]: Done   4 out of   4 | elapsed: 10.4min remaining:    0.0s\n",
      "[CV] solver=sgd, learning_rate_init=0.001, learning_rate=adaptive, hidden_layer_sizes=(50, 100, 50), alpha=0.0001, activation=identity \n",
      "[CV]  solver=sgd, learning_rate_init=0.001, learning_rate=adaptive, hidden_layer_sizes=(50, 100, 50), alpha=0.0001, activation=identity, score=0.992, total= 2.3min\n",
      "[Parallel(n_jobs=1)]: Done   5 out of   5 | elapsed: 12.7min remaining:    0.0s\n",
      "[CV] solver=adam, learning_rate_init=0.01, learning_rate=constant, hidden_layer_sizes=(50, 100, 50), alpha=0.1, activation=tanh \n",
      "[CV]  solver=adam, learning_rate_init=0.01, learning_rate=constant, hidden_layer_sizes=(50, 100, 50), alpha=0.1, activation=tanh, score=0.994, total=  32.9s\n",
      "[Parallel(n_jobs=1)]: Done   6 out of   6 | elapsed: 13.2min remaining:    0.0s\n",
      "[CV] solver=adam, learning_rate_init=0.01, learning_rate=constant, hidden_layer_sizes=(50, 100, 50), alpha=0.1, activation=tanh \n",
      "[CV]  solver=adam, learning_rate_init=0.01, learning_rate=constant, hidden_layer_sizes=(50, 100, 50), alpha=0.1, activation=tanh, score=0.997, total=  34.9s\n",
      "[Parallel(n_jobs=1)]: Done   7 out of   7 | elapsed: 13.8min remaining:    0.0s\n",
      "[CV] solver=adam, learning_rate_init=0.01, learning_rate=constant, hidden_layer_sizes=(50, 100, 50), alpha=0.1, activation=tanh \n",
      "[CV]  solver=adam, learning_rate_init=0.01, learning_rate=constant, hidden_layer_sizes=(50, 100, 50), alpha=0.1, activation=tanh, score=0.999, total= 1.0min\n",
      "[Parallel(n_jobs=1)]: Done   8 out of   8 | elapsed: 14.8min remaining:    0.0s\n",
      "[CV] solver=adam, learning_rate_init=0.01, learning_rate=constant, hidden_layer_sizes=(50, 100, 50), alpha=0.1, activation=tanh \n",
      "[CV]  solver=adam, learning_rate_init=0.01, learning_rate=constant, hidden_layer_sizes=(50, 100, 50), alpha=0.1, activation=tanh, score=0.998, total=  56.5s\n",
      "[Parallel(n_jobs=1)]: Done   9 out of   9 | elapsed: 15.7min remaining:    0.0s\n",
      "[CV] solver=adam, learning_rate_init=0.01, learning_rate=constant, hidden_layer_sizes=(50, 100, 50), alpha=0.1, activation=tanh \n",
      "[CV]  solver=adam, learning_rate_init=0.01, learning_rate=constant, hidden_layer_sizes=(50, 100, 50), alpha=0.1, activation=tanh, score=0.999, total=  23.4s\n",
      "[Parallel(n_jobs=1)]: Done  10 out of  10 | elapsed: 16.1min remaining:    0.0s\n",
      "[CV] solver=sgd, learning_rate_init=0.01, learning_rate=constant, hidden_layer_sizes=(50, 50, 50), alpha=0.01, activation=identity \n",
      "[CV]  solver=sgd, learning_rate_init=0.01, learning_rate=constant, hidden_layer_sizes=(50, 50, 50), alpha=0.01, activation=identity, score=0.997, total= 1.0min\n",
      "[Parallel(n_jobs=1)]: Done  11 out of  11 | elapsed: 17.2min remaining:    0.0s\n",
      "[CV] solver=sgd, learning_rate_init=0.01, learning_rate=constant, hidden_layer_sizes=(50, 50, 50), alpha=0.01, activation=identity \n",
      "[CV]  solver=sgd, learning_rate_init=0.01, learning_rate=constant, hidden_layer_sizes=(50, 50, 50), alpha=0.01, activation=identity, score=0.998, total=  56.0s\n",
      "[Parallel(n_jobs=1)]: Done  12 out of  12 | elapsed: 18.1min remaining:    0.0s\n",
      "[CV] solver=sgd, learning_rate_init=0.01, learning_rate=constant, hidden_layer_sizes=(50, 50, 50), alpha=0.01, activation=identity \n",
      "[CV]  solver=sgd, learning_rate_init=0.01, learning_rate=constant, hidden_layer_sizes=(50, 50, 50), alpha=0.01, activation=identity, score=0.998, total=  57.2s\n",
      "[Parallel(n_jobs=1)]: Done  13 out of  13 | elapsed: 19.0min remaining:    0.0s\n",
      "[CV] solver=sgd, learning_rate_init=0.01, learning_rate=constant, hidden_layer_sizes=(50, 50, 50), alpha=0.01, activation=identity \n",
      "[CV]  solver=sgd, learning_rate_init=0.01, learning_rate=constant, hidden_layer_sizes=(50, 50, 50), alpha=0.01, activation=identity, score=0.998, total=  58.5s\n",
      "[Parallel(n_jobs=1)]: Done  14 out of  14 | elapsed: 20.0min remaining:    0.0s\n",
      "[CV] solver=sgd, learning_rate_init=0.01, learning_rate=constant, hidden_layer_sizes=(50, 50, 50), alpha=0.01, activation=identity \n",
      "[CV]  solver=sgd, learning_rate_init=0.01, learning_rate=constant, hidden_layer_sizes=(50, 50, 50), alpha=0.01, activation=identity, score=0.998, total=  58.5s\n",
      "[Parallel(n_jobs=1)]: Done  15 out of  15 | elapsed: 21.0min remaining:    0.0s\n",
      "[CV] solver=sgd, learning_rate_init=0.01, learning_rate=invscaling, hidden_layer_sizes=(50, 50, 50), alpha=0.1, activation=tanh \n",
      "[CV]  solver=sgd, learning_rate_init=0.01, learning_rate=invscaling, hidden_layer_sizes=(50, 50, 50), alpha=0.1, activation=tanh, score=0.987, total=  16.8s\n",
      "[Parallel(n_jobs=1)]: Done  16 out of  16 | elapsed: 21.3min remaining:    0.0s\n",
      "[CV] solver=sgd, learning_rate_init=0.01, learning_rate=invscaling, hidden_layer_sizes=(50, 50, 50), alpha=0.1, activation=tanh \n",
      "[CV]  solver=sgd, learning_rate_init=0.01, learning_rate=invscaling, hidden_layer_sizes=(50, 50, 50), alpha=0.1, activation=tanh, score=0.985, total=  16.8s\n",
      "[Parallel(n_jobs=1)]: Done  17 out of  17 | elapsed: 21.5min remaining:    0.0s\n",
      "[CV] solver=sgd, learning_rate_init=0.01, learning_rate=invscaling, hidden_layer_sizes=(50, 50, 50), alpha=0.1, activation=tanh \n",
      "[CV]  solver=sgd, learning_rate_init=0.01, learning_rate=invscaling, hidden_layer_sizes=(50, 50, 50), alpha=0.1, activation=tanh, score=0.992, total=  17.7s\n",
      "[Parallel(n_jobs=1)]: Done  18 out of  18 | elapsed: 21.8min remaining:    0.0s\n",
      "[CV] solver=sgd, learning_rate_init=0.01, learning_rate=invscaling, hidden_layer_sizes=(50, 50, 50), alpha=0.1, activation=tanh \n",
      "[CV]  solver=sgd, learning_rate_init=0.01, learning_rate=invscaling, hidden_layer_sizes=(50, 50, 50), alpha=0.1, activation=tanh, score=0.994, total=  18.8s\n",
      "[Parallel(n_jobs=1)]: Done  19 out of  19 | elapsed: 22.2min remaining:    0.0s\n",
      "[CV] solver=sgd, learning_rate_init=0.01, learning_rate=invscaling, hidden_layer_sizes=(50, 50, 50), alpha=0.1, activation=tanh \n",
      "[CV]  solver=sgd, learning_rate_init=0.01, learning_rate=invscaling, hidden_layer_sizes=(50, 50, 50), alpha=0.1, activation=tanh, score=0.987, total=  18.9s\n",
      "[Parallel(n_jobs=1)]: Done  20 out of  20 | elapsed: 22.5min remaining:    0.0s\n",
      "[CV] solver=sgd, learning_rate_init=0.001, learning_rate=constant, hidden_layer_sizes=(100,), alpha=0.001, activation=logistic \n",
      "[CV]  solver=sgd, learning_rate_init=0.001, learning_rate=constant, hidden_layer_sizes=(100,), alpha=0.001, activation=logistic, score=0.984, total= 4.5min\n",
      "[Parallel(n_jobs=1)]: Done  21 out of  21 | elapsed: 27.0min remaining:    0.0s\n",
      "[CV] solver=sgd, learning_rate_init=0.001, learning_rate=constant, hidden_layer_sizes=(100,), alpha=0.001, activation=logistic \n",
      "[CV]  solver=sgd, learning_rate_init=0.001, learning_rate=constant, hidden_layer_sizes=(100,), alpha=0.001, activation=logistic, score=0.984, total= 4.5min\n",
      "[Parallel(n_jobs=1)]: Done  22 out of  22 | elapsed: 31.5min remaining:    0.0s\n",
      "[CV] solver=sgd, learning_rate_init=0.001, learning_rate=constant, hidden_layer_sizes=(100,), alpha=0.001, activation=logistic \n"
     ]
    },
    {
     "name": "stdout",
     "output_type": "stream",
     "text": [
      "[CV]  solver=sgd, learning_rate_init=0.001, learning_rate=constant, hidden_layer_sizes=(100,), alpha=0.001, activation=logistic, score=0.992, total= 4.5min\n",
      "[Parallel(n_jobs=1)]: Done  23 out of  23 | elapsed: 36.0min remaining:    0.0s\n",
      "[CV] solver=sgd, learning_rate_init=0.001, learning_rate=constant, hidden_layer_sizes=(100,), alpha=0.001, activation=logistic \n",
      "[CV]  solver=sgd, learning_rate_init=0.001, learning_rate=constant, hidden_layer_sizes=(100,), alpha=0.001, activation=logistic, score=0.993, total= 4.5min\n",
      "[Parallel(n_jobs=1)]: Done  24 out of  24 | elapsed: 40.5min remaining:    0.0s\n",
      "[CV] solver=sgd, learning_rate_init=0.001, learning_rate=constant, hidden_layer_sizes=(100,), alpha=0.001, activation=logistic \n",
      "[CV]  solver=sgd, learning_rate_init=0.001, learning_rate=constant, hidden_layer_sizes=(100,), alpha=0.001, activation=logistic, score=0.988, total= 4.5min\n",
      "[Parallel(n_jobs=1)]: Done  25 out of  25 | elapsed: 45.0min remaining:    0.0s\n",
      "[CV] solver=sgd, learning_rate_init=0.01, learning_rate=invscaling, hidden_layer_sizes=(50, 100, 50), alpha=0.001, activation=tanh \n",
      "[CV]  solver=sgd, learning_rate_init=0.01, learning_rate=invscaling, hidden_layer_sizes=(50, 100, 50), alpha=0.001, activation=tanh, score=0.987, total=  18.3s\n",
      "[Parallel(n_jobs=1)]: Done  26 out of  26 | elapsed: 45.3min remaining:    0.0s\n",
      "[CV] solver=sgd, learning_rate_init=0.01, learning_rate=invscaling, hidden_layer_sizes=(50, 100, 50), alpha=0.001, activation=tanh \n",
      "[CV]  solver=sgd, learning_rate_init=0.01, learning_rate=invscaling, hidden_layer_sizes=(50, 100, 50), alpha=0.001, activation=tanh, score=0.985, total=  19.1s\n",
      "[Parallel(n_jobs=1)]: Done  27 out of  27 | elapsed: 45.6min remaining:    0.0s\n",
      "[CV] solver=sgd, learning_rate_init=0.01, learning_rate=invscaling, hidden_layer_sizes=(50, 100, 50), alpha=0.001, activation=tanh \n",
      "[CV]  solver=sgd, learning_rate_init=0.01, learning_rate=invscaling, hidden_layer_sizes=(50, 100, 50), alpha=0.001, activation=tanh, score=0.992, total=  22.0s\n",
      "[Parallel(n_jobs=1)]: Done  28 out of  28 | elapsed: 46.0min remaining:    0.0s\n",
      "[CV] solver=sgd, learning_rate_init=0.01, learning_rate=invscaling, hidden_layer_sizes=(50, 100, 50), alpha=0.001, activation=tanh \n",
      "[CV]  solver=sgd, learning_rate_init=0.01, learning_rate=invscaling, hidden_layer_sizes=(50, 100, 50), alpha=0.001, activation=tanh, score=0.994, total=  18.9s\n",
      "[Parallel(n_jobs=1)]: Done  29 out of  29 | elapsed: 46.3min remaining:    0.0s\n",
      "[CV] solver=sgd, learning_rate_init=0.01, learning_rate=invscaling, hidden_layer_sizes=(50, 100, 50), alpha=0.001, activation=tanh \n",
      "[CV]  solver=sgd, learning_rate_init=0.01, learning_rate=invscaling, hidden_layer_sizes=(50, 100, 50), alpha=0.001, activation=tanh, score=0.988, total=  18.8s\n",
      "[Parallel(n_jobs=1)]: Done  30 out of  30 | elapsed: 46.6min remaining:    0.0s\n",
      "[CV] solver=adam, learning_rate_init=0.01, learning_rate=adaptive, hidden_layer_sizes=(100,), alpha=0.1, activation=identity \n",
      "[CV]  solver=adam, learning_rate_init=0.01, learning_rate=adaptive, hidden_layer_sizes=(100,), alpha=0.1, activation=identity, score=0.997, total=  32.2s\n",
      "[Parallel(n_jobs=1)]: Done  31 out of  31 | elapsed: 47.1min remaining:    0.0s\n",
      "[CV] solver=adam, learning_rate_init=0.01, learning_rate=adaptive, hidden_layer_sizes=(100,), alpha=0.1, activation=identity \n",
      "[CV]  solver=adam, learning_rate_init=0.01, learning_rate=adaptive, hidden_layer_sizes=(100,), alpha=0.1, activation=identity, score=0.998, total=  47.3s\n",
      "[Parallel(n_jobs=1)]: Done  32 out of  32 | elapsed: 47.9min remaining:    0.0s\n",
      "[CV] solver=adam, learning_rate_init=0.01, learning_rate=adaptive, hidden_layer_sizes=(100,), alpha=0.1, activation=identity \n",
      "[CV]  solver=adam, learning_rate_init=0.01, learning_rate=adaptive, hidden_layer_sizes=(100,), alpha=0.1, activation=identity, score=0.998, total=  43.8s\n",
      "[Parallel(n_jobs=1)]: Done  33 out of  33 | elapsed: 48.7min remaining:    0.0s\n",
      "[CV] solver=adam, learning_rate_init=0.01, learning_rate=adaptive, hidden_layer_sizes=(100,), alpha=0.1, activation=identity \n",
      "[CV]  solver=adam, learning_rate_init=0.01, learning_rate=adaptive, hidden_layer_sizes=(100,), alpha=0.1, activation=identity, score=0.993, total=  59.6s\n",
      "[Parallel(n_jobs=1)]: Done  34 out of  34 | elapsed: 49.7min remaining:    0.0s\n",
      "[CV] solver=adam, learning_rate_init=0.01, learning_rate=adaptive, hidden_layer_sizes=(100,), alpha=0.1, activation=identity \n",
      "[CV]  solver=adam, learning_rate_init=0.01, learning_rate=adaptive, hidden_layer_sizes=(100,), alpha=0.1, activation=identity, score=0.998, total=  60.0s\n",
      "[Parallel(n_jobs=1)]: Done  35 out of  35 | elapsed: 50.7min remaining:    0.0s\n",
      "[CV] solver=sgd, learning_rate_init=0.001, learning_rate=adaptive, hidden_layer_sizes=(50, 100, 50), alpha=0.0001, activation=logistic \n",
      "[CV]  solver=sgd, learning_rate_init=0.001, learning_rate=adaptive, hidden_layer_sizes=(50, 100, 50), alpha=0.0001, activation=logistic, score=1.000, total= 1.2min\n",
      "[Parallel(n_jobs=1)]: Done  36 out of  36 | elapsed: 51.9min remaining:    0.0s\n",
      "[CV] solver=sgd, learning_rate_init=0.001, learning_rate=adaptive, hidden_layer_sizes=(50, 100, 50), alpha=0.0001, activation=logistic \n",
      "[CV]  solver=sgd, learning_rate_init=0.001, learning_rate=adaptive, hidden_layer_sizes=(50, 100, 50), alpha=0.0001, activation=logistic, score=1.000, total= 1.2min\n",
      "[Parallel(n_jobs=1)]: Done  37 out of  37 | elapsed: 53.1min remaining:    0.0s\n",
      "[CV] solver=sgd, learning_rate_init=0.001, learning_rate=adaptive, hidden_layer_sizes=(50, 100, 50), alpha=0.0001, activation=logistic \n",
      "[CV]  solver=sgd, learning_rate_init=0.001, learning_rate=adaptive, hidden_layer_sizes=(50, 100, 50), alpha=0.0001, activation=logistic, score=1.000, total= 1.2min\n",
      "[Parallel(n_jobs=1)]: Done  38 out of  38 | elapsed: 54.3min remaining:    0.0s\n",
      "[CV] solver=sgd, learning_rate_init=0.001, learning_rate=adaptive, hidden_layer_sizes=(50, 100, 50), alpha=0.0001, activation=logistic \n",
      "[CV]  solver=sgd, learning_rate_init=0.001, learning_rate=adaptive, hidden_layer_sizes=(50, 100, 50), alpha=0.0001, activation=logistic, score=1.000, total= 1.2min\n",
      "[Parallel(n_jobs=1)]: Done  39 out of  39 | elapsed: 55.5min remaining:    0.0s\n",
      "[CV] solver=sgd, learning_rate_init=0.001, learning_rate=adaptive, hidden_layer_sizes=(50, 100, 50), alpha=0.0001, activation=logistic \n",
      "[CV]  solver=sgd, learning_rate_init=0.001, learning_rate=adaptive, hidden_layer_sizes=(50, 100, 50), alpha=0.0001, activation=logistic, score=1.000, total= 1.2min\n",
      "[Parallel(n_jobs=1)]: Done  40 out of  40 | elapsed: 56.7min remaining:    0.0s\n",
      "[CV] solver=adam, learning_rate_init=0.01, learning_rate=adaptive, hidden_layer_sizes=(100,), alpha=0.1, activation=relu \n",
      "[CV]  solver=adam, learning_rate_init=0.01, learning_rate=adaptive, hidden_layer_sizes=(100,), alpha=0.1, activation=relu, score=0.997, total= 1.2min\n",
      "[Parallel(n_jobs=1)]: Done  41 out of  41 | elapsed: 57.9min remaining:    0.0s\n",
      "[CV] solver=adam, learning_rate_init=0.01, learning_rate=adaptive, hidden_layer_sizes=(100,), alpha=0.1, activation=relu \n",
      "[CV]  solver=adam, learning_rate_init=0.01, learning_rate=adaptive, hidden_layer_sizes=(100,), alpha=0.1, activation=relu, score=0.998, total=  49.4s\n",
      "[Parallel(n_jobs=1)]: Done  42 out of  42 | elapsed: 58.8min remaining:    0.0s\n",
      "[CV] solver=adam, learning_rate_init=0.01, learning_rate=adaptive, hidden_layer_sizes=(100,), alpha=0.1, activation=relu \n",
      "[CV]  solver=adam, learning_rate_init=0.01, learning_rate=adaptive, hidden_layer_sizes=(100,), alpha=0.1, activation=relu, score=0.999, total= 1.2min\n",
      "[Parallel(n_jobs=1)]: Done  43 out of  43 | elapsed: 60.0min remaining:    0.0s\n",
      "[CV] solver=adam, learning_rate_init=0.01, learning_rate=adaptive, hidden_layer_sizes=(100,), alpha=0.1, activation=relu \n",
      "[CV]  solver=adam, learning_rate_init=0.01, learning_rate=adaptive, hidden_layer_sizes=(100,), alpha=0.1, activation=relu, score=0.998, total=  32.8s\n",
      "[Parallel(n_jobs=1)]: Done  44 out of  44 | elapsed: 60.6min remaining:    0.0s\n",
      "[CV] solver=adam, learning_rate_init=0.01, learning_rate=adaptive, hidden_layer_sizes=(100,), alpha=0.1, activation=relu \n",
      "[CV]  solver=adam, learning_rate_init=0.01, learning_rate=adaptive, hidden_layer_sizes=(100,), alpha=0.1, activation=relu, score=0.998, total= 1.2min\n",
      "[Parallel(n_jobs=1)]: Done  45 out of  45 | elapsed: 61.7min remaining:    0.0s\n",
      "[CV] solver=adam, learning_rate_init=0.01, learning_rate=adaptive, hidden_layer_sizes=(50, 100, 50), alpha=0.01, activation=logistic \n"
     ]
    },
    {
     "name": "stdout",
     "output_type": "stream",
     "text": [
      "[CV]  solver=adam, learning_rate_init=0.01, learning_rate=adaptive, hidden_layer_sizes=(50, 100, 50), alpha=0.01, activation=logistic, score=0.997, total=  33.1s\n",
      "[Parallel(n_jobs=1)]: Done  46 out of  46 | elapsed: 62.3min remaining:    0.0s\n",
      "[CV] solver=adam, learning_rate_init=0.01, learning_rate=adaptive, hidden_layer_sizes=(50, 100, 50), alpha=0.01, activation=logistic \n",
      "[CV]  solver=adam, learning_rate_init=0.01, learning_rate=adaptive, hidden_layer_sizes=(50, 100, 50), alpha=0.01, activation=logistic, score=0.997, total= 1.1min\n",
      "[Parallel(n_jobs=1)]: Done  47 out of  47 | elapsed: 63.3min remaining:    0.0s\n",
      "[CV] solver=adam, learning_rate_init=0.01, learning_rate=adaptive, hidden_layer_sizes=(50, 100, 50), alpha=0.01, activation=logistic \n",
      "[CV]  solver=adam, learning_rate_init=0.01, learning_rate=adaptive, hidden_layer_sizes=(50, 100, 50), alpha=0.01, activation=logistic, score=0.999, total=  33.8s\n",
      "[Parallel(n_jobs=1)]: Done  48 out of  48 | elapsed: 63.9min remaining:    0.0s\n",
      "[CV] solver=adam, learning_rate_init=0.01, learning_rate=adaptive, hidden_layer_sizes=(50, 100, 50), alpha=0.01, activation=logistic \n",
      "[CV]  solver=adam, learning_rate_init=0.01, learning_rate=adaptive, hidden_layer_sizes=(50, 100, 50), alpha=0.01, activation=logistic, score=0.999, total=  46.3s\n",
      "[Parallel(n_jobs=1)]: Done  49 out of  49 | elapsed: 64.7min remaining:    0.0s\n",
      "[CV] solver=adam, learning_rate_init=0.01, learning_rate=adaptive, hidden_layer_sizes=(50, 100, 50), alpha=0.01, activation=logistic \n",
      "[CV]  solver=adam, learning_rate_init=0.01, learning_rate=adaptive, hidden_layer_sizes=(50, 100, 50), alpha=0.01, activation=logistic, score=0.999, total=  55.5s\n",
      "[Parallel(n_jobs=1)]: Done  50 out of  50 | elapsed: 65.6min remaining:    0.0s\n",
      "[Parallel(n_jobs=1)]: Done  50 out of  50 | elapsed: 65.6min finished\n"
     ]
    }
   ],
   "source": [
    "best_nn = RandomizedSearchCV(nn, nn_parameters, n_iter=10, cv=5, random_state=seed, verbose=100, scoring=\"recall\")\n",
    "nn_start = time.time()\n",
    "best_nn.fit(X_train, y_train)\n",
    "nn_end = time.time()\n",
    "nn_time_taken = (nn_end-nn_start)/50"
   ]
  },
  {
   "cell_type": "code",
   "execution_count": 107,
   "metadata": {},
   "outputs": [
    {
     "name": "stdout",
     "output_type": "stream",
     "text": [
      "80.4831060743332\n"
     ]
    }
   ],
   "source": [
    "print(nn_time_taken)"
   ]
  },
  {
   "cell_type": "code",
   "execution_count": 108,
   "metadata": {},
   "outputs": [],
   "source": [
    "time_taken.append(nn_time_taken)"
   ]
  },
  {
   "cell_type": "code",
   "execution_count": 109,
   "metadata": {},
   "outputs": [
    {
     "data": {
      "text/plain": [
       "{'solver': 'sgd',\n",
       " 'learning_rate_init': 0.001,\n",
       " 'learning_rate': 'adaptive',\n",
       " 'hidden_layer_sizes': (50, 100, 50),\n",
       " 'alpha': 0.0001,\n",
       " 'activation': 'logistic'}"
      ]
     },
     "execution_count": 109,
     "metadata": {},
     "output_type": "execute_result"
    }
   ],
   "source": [
    "best_nn.best_params_"
   ]
  },
  {
   "cell_type": "raw",
   "metadata": {},
   "source": [
    "nn_y_pred = best_nn.predict(X_val)"
   ]
  },
  {
   "cell_type": "raw",
   "metadata": {},
   "source": [
    "print(classification_report(y_val, nn_y_pred))"
   ]
  },
  {
   "cell_type": "code",
   "execution_count": 110,
   "metadata": {},
   "outputs": [],
   "source": [
    "nn_pickle = \"XSS_nn_pickle.sav\"\n",
    "pickle.dump(best_nn, open(nn_pickle, \"wb\"))"
   ]
  },
  {
   "cell_type": "raw",
   "metadata": {},
   "source": [
    "nn_recall = recall_score(y_val, nn_y_pred)"
   ]
  },
  {
   "cell_type": "code",
   "execution_count": 111,
   "metadata": {},
   "outputs": [],
   "source": [
    "nn_recall = best_nn.best_score_"
   ]
  },
  {
   "cell_type": "code",
   "execution_count": 112,
   "metadata": {},
   "outputs": [
    {
     "data": {
      "text/plain": [
       "1.0"
      ]
     },
     "execution_count": 112,
     "metadata": {},
     "output_type": "execute_result"
    }
   ],
   "source": [
    "nn_recall"
   ]
  },
  {
   "cell_type": "code",
   "execution_count": 113,
   "metadata": {},
   "outputs": [],
   "source": [
    "train_recall_score.append(nn_recall)"
   ]
  },
  {
   "cell_type": "code",
   "execution_count": 114,
   "metadata": {},
   "outputs": [
    {
     "data": {
      "text/plain": [
       "[1.0, 1.0, 1.0, 0.992609699769053, 0.997228637413395, 0.9958429561200924, 1.0]"
      ]
     },
     "execution_count": 114,
     "metadata": {},
     "output_type": "execute_result"
    }
   ],
   "source": [
    "train_recall_score"
   ]
  },
  {
   "cell_type": "markdown",
   "metadata": {},
   "source": [
    "## XGBClassifier"
   ]
  },
  {
   "cell_type": "code",
   "execution_count": 115,
   "metadata": {},
   "outputs": [],
   "source": [
    "xgb = XGBClassifier(random_state=seed)"
   ]
  },
  {
   "cell_type": "code",
   "execution_count": 116,
   "metadata": {},
   "outputs": [
    {
     "data": {
      "text/plain": [
       "dict_keys(['objective', 'base_score', 'booster', 'colsample_bylevel', 'colsample_bynode', 'colsample_bytree', 'gamma', 'gpu_id', 'importance_type', 'interaction_constraints', 'learning_rate', 'max_delta_step', 'max_depth', 'min_child_weight', 'missing', 'monotone_constraints', 'n_estimators', 'n_jobs', 'num_parallel_tree', 'random_state', 'reg_alpha', 'reg_lambda', 'scale_pos_weight', 'subsample', 'tree_method', 'validate_parameters', 'verbosity'])"
      ]
     },
     "execution_count": 116,
     "metadata": {},
     "output_type": "execute_result"
    }
   ],
   "source": [
    "xgb.get_params().keys()"
   ]
  },
  {
   "cell_type": "code",
   "execution_count": 117,
   "metadata": {},
   "outputs": [],
   "source": [
    "xgb_parameters = {\n",
    "        'min_child_weight': [1, 5, 7, 10],\n",
    "        'gamma': [0.5, 1, 1.5, 2, 5],\n",
    "        'subsample': [0.6, 0.8, 1.0],\n",
    "        'colsample_bytree': [0.6, 0.8, 1.0],\n",
    "        'max_depth': [3, 4, 5, 6]\n",
    "}\n",
    "    \n"
   ]
  },
  {
   "cell_type": "code",
   "execution_count": 118,
   "metadata": {},
   "outputs": [
    {
     "name": "stdout",
     "output_type": "stream",
     "text": [
      "Fitting 5 folds for each of 10 candidates, totalling 50 fits\n",
      "[Parallel(n_jobs=1)]: Using backend SequentialBackend with 1 concurrent workers.\n",
      "[CV] subsample=0.8, min_child_weight=5, max_depth=3, gamma=1, colsample_bytree=0.6 \n",
      "[CV]  subsample=0.8, min_child_weight=5, max_depth=3, gamma=1, colsample_bytree=0.6, score=0.993, total=  19.2s\n",
      "[Parallel(n_jobs=1)]: Done   1 out of   1 | elapsed:   19.1s remaining:    0.0s\n",
      "[CV] subsample=0.8, min_child_weight=5, max_depth=3, gamma=1, colsample_bytree=0.6 \n",
      "[CV]  subsample=0.8, min_child_weight=5, max_depth=3, gamma=1, colsample_bytree=0.6, score=0.991, total=  19.7s\n",
      "[Parallel(n_jobs=1)]: Done   2 out of   2 | elapsed:   38.9s remaining:    0.0s\n",
      "[CV] subsample=0.8, min_child_weight=5, max_depth=3, gamma=1, colsample_bytree=0.6 \n",
      "[CV]  subsample=0.8, min_child_weight=5, max_depth=3, gamma=1, colsample_bytree=0.6, score=0.998, total=  19.4s\n",
      "[Parallel(n_jobs=1)]: Done   3 out of   3 | elapsed:   58.4s remaining:    0.0s\n",
      "[CV] subsample=0.8, min_child_weight=5, max_depth=3, gamma=1, colsample_bytree=0.6 \n",
      "[CV]  subsample=0.8, min_child_weight=5, max_depth=3, gamma=1, colsample_bytree=0.6, score=0.997, total=  19.0s\n",
      "[Parallel(n_jobs=1)]: Done   4 out of   4 | elapsed:  1.3min remaining:    0.0s\n",
      "[CV] subsample=0.8, min_child_weight=5, max_depth=3, gamma=1, colsample_bytree=0.6 \n",
      "[CV]  subsample=0.8, min_child_weight=5, max_depth=3, gamma=1, colsample_bytree=0.6, score=0.992, total=  19.7s\n",
      "[Parallel(n_jobs=1)]: Done   5 out of   5 | elapsed:  1.6min remaining:    0.0s\n",
      "[CV] subsample=0.6, min_child_weight=5, max_depth=6, gamma=0.5, colsample_bytree=1.0 \n",
      "[CV]  subsample=0.6, min_child_weight=5, max_depth=6, gamma=0.5, colsample_bytree=1.0, score=0.993, total=  27.1s\n",
      "[Parallel(n_jobs=1)]: Done   6 out of   6 | elapsed:  2.1min remaining:    0.0s\n",
      "[CV] subsample=0.6, min_child_weight=5, max_depth=6, gamma=0.5, colsample_bytree=1.0 \n",
      "[CV]  subsample=0.6, min_child_weight=5, max_depth=6, gamma=0.5, colsample_bytree=1.0, score=0.991, total=  27.9s\n",
      "[Parallel(n_jobs=1)]: Done   7 out of   7 | elapsed:  2.5min remaining:    0.0s\n",
      "[CV] subsample=0.6, min_child_weight=5, max_depth=6, gamma=0.5, colsample_bytree=1.0 \n",
      "[CV]  subsample=0.6, min_child_weight=5, max_depth=6, gamma=0.5, colsample_bytree=1.0, score=0.993, total=  28.1s\n",
      "[Parallel(n_jobs=1)]: Done   8 out of   8 | elapsed:  3.0min remaining:    0.0s\n",
      "[CV] subsample=0.6, min_child_weight=5, max_depth=6, gamma=0.5, colsample_bytree=1.0 \n",
      "[CV]  subsample=0.6, min_child_weight=5, max_depth=6, gamma=0.5, colsample_bytree=1.0, score=0.998, total=  27.8s\n",
      "[Parallel(n_jobs=1)]: Done   9 out of   9 | elapsed:  3.5min remaining:    0.0s\n",
      "[CV] subsample=0.6, min_child_weight=5, max_depth=6, gamma=0.5, colsample_bytree=1.0 \n",
      "[CV]  subsample=0.6, min_child_weight=5, max_depth=6, gamma=0.5, colsample_bytree=1.0, score=0.992, total=  29.0s\n",
      "[Parallel(n_jobs=1)]: Done  10 out of  10 | elapsed:  4.0min remaining:    0.0s\n",
      "[CV] subsample=1.0, min_child_weight=1, max_depth=4, gamma=1.5, colsample_bytree=0.6 \n",
      "[CV]  subsample=1.0, min_child_weight=1, max_depth=4, gamma=1.5, colsample_bytree=0.6, score=0.997, total=  25.1s\n",
      "[Parallel(n_jobs=1)]: Done  11 out of  11 | elapsed:  4.4min remaining:    0.0s\n",
      "[CV] subsample=1.0, min_child_weight=1, max_depth=4, gamma=1.5, colsample_bytree=0.6 \n",
      "[CV]  subsample=1.0, min_child_weight=1, max_depth=4, gamma=1.5, colsample_bytree=0.6, score=0.992, total=  24.7s\n",
      "[Parallel(n_jobs=1)]: Done  12 out of  12 | elapsed:  4.8min remaining:    0.0s\n",
      "[CV] subsample=1.0, min_child_weight=1, max_depth=4, gamma=1.5, colsample_bytree=0.6 \n",
      "[CV]  subsample=1.0, min_child_weight=1, max_depth=4, gamma=1.5, colsample_bytree=0.6, score=0.998, total=  23.9s\n",
      "[Parallel(n_jobs=1)]: Done  13 out of  13 | elapsed:  5.2min remaining:    0.0s\n",
      "[CV] subsample=1.0, min_child_weight=1, max_depth=4, gamma=1.5, colsample_bytree=0.6 \n",
      "[CV]  subsample=1.0, min_child_weight=1, max_depth=4, gamma=1.5, colsample_bytree=0.6, score=0.998, total=  24.8s\n",
      "[Parallel(n_jobs=1)]: Done  14 out of  14 | elapsed:  5.6min remaining:    0.0s\n",
      "[CV] subsample=1.0, min_child_weight=1, max_depth=4, gamma=1.5, colsample_bytree=0.6 \n",
      "[CV]  subsample=1.0, min_child_weight=1, max_depth=4, gamma=1.5, colsample_bytree=0.6, score=0.998, total=  24.7s\n",
      "[Parallel(n_jobs=1)]: Done  15 out of  15 | elapsed:  6.0min remaining:    0.0s\n",
      "[CV] subsample=0.8, min_child_weight=10, max_depth=5, gamma=0.5, colsample_bytree=1.0 \n",
      "[CV]  subsample=0.8, min_child_weight=10, max_depth=5, gamma=0.5, colsample_bytree=1.0, score=0.993, total=  26.5s\n",
      "[Parallel(n_jobs=1)]: Done  16 out of  16 | elapsed:  6.5min remaining:    0.0s\n",
      "[CV] subsample=0.8, min_child_weight=10, max_depth=5, gamma=0.5, colsample_bytree=1.0 \n",
      "[CV]  subsample=0.8, min_child_weight=10, max_depth=5, gamma=0.5, colsample_bytree=1.0, score=0.986, total=  25.5s\n",
      "[Parallel(n_jobs=1)]: Done  17 out of  17 | elapsed:  6.9min remaining:    0.0s\n",
      "[CV] subsample=0.8, min_child_weight=10, max_depth=5, gamma=0.5, colsample_bytree=1.0 \n",
      "[CV]  subsample=0.8, min_child_weight=10, max_depth=5, gamma=0.5, colsample_bytree=1.0, score=0.993, total=  26.3s\n",
      "[Parallel(n_jobs=1)]: Done  18 out of  18 | elapsed:  7.3min remaining:    0.0s\n",
      "[CV] subsample=0.8, min_child_weight=10, max_depth=5, gamma=0.5, colsample_bytree=1.0 \n",
      "[CV]  subsample=0.8, min_child_weight=10, max_depth=5, gamma=0.5, colsample_bytree=1.0, score=0.998, total=  28.2s\n",
      "[Parallel(n_jobs=1)]: Done  19 out of  19 | elapsed:  7.8min remaining:    0.0s\n",
      "[CV] subsample=0.8, min_child_weight=10, max_depth=5, gamma=0.5, colsample_bytree=1.0 \n",
      "[CV]  subsample=0.8, min_child_weight=10, max_depth=5, gamma=0.5, colsample_bytree=1.0, score=0.991, total=  25.4s\n",
      "[Parallel(n_jobs=1)]: Done  20 out of  20 | elapsed:  8.2min remaining:    0.0s\n",
      "[CV] subsample=0.6, min_child_weight=1, max_depth=6, gamma=0.5, colsample_bytree=0.8 \n",
      "[CV]  subsample=0.6, min_child_weight=1, max_depth=6, gamma=0.5, colsample_bytree=0.8, score=0.998, total=  30.5s\n",
      "[Parallel(n_jobs=1)]: Done  21 out of  21 | elapsed:  8.7min remaining:    0.0s\n",
      "[CV] subsample=0.6, min_child_weight=1, max_depth=6, gamma=0.5, colsample_bytree=0.8 \n",
      "[CV]  subsample=0.6, min_child_weight=1, max_depth=6, gamma=0.5, colsample_bytree=0.8, score=0.993, total=  28.8s\n",
      "[Parallel(n_jobs=1)]: Done  22 out of  22 | elapsed:  9.2min remaining:    0.0s\n",
      "[CV] subsample=0.6, min_child_weight=1, max_depth=6, gamma=0.5, colsample_bytree=0.8 \n",
      "[CV]  subsample=0.6, min_child_weight=1, max_depth=6, gamma=0.5, colsample_bytree=0.8, score=0.998, total=  30.6s\n",
      "[Parallel(n_jobs=1)]: Done  23 out of  23 | elapsed:  9.7min remaining:    0.0s\n",
      "[CV] subsample=0.6, min_child_weight=1, max_depth=6, gamma=0.5, colsample_bytree=0.8 \n",
      "[CV]  subsample=0.6, min_child_weight=1, max_depth=6, gamma=0.5, colsample_bytree=0.8, score=1.000, total=  30.2s\n",
      "[Parallel(n_jobs=1)]: Done  24 out of  24 | elapsed: 10.2min remaining:    0.0s\n",
      "[CV] subsample=0.6, min_child_weight=1, max_depth=6, gamma=0.5, colsample_bytree=0.8 \n",
      "[CV]  subsample=0.6, min_child_weight=1, max_depth=6, gamma=0.5, colsample_bytree=0.8, score=0.998, total=  30.0s\n",
      "[Parallel(n_jobs=1)]: Done  25 out of  25 | elapsed: 10.7min remaining:    0.0s\n",
      "[CV] subsample=0.8, min_child_weight=10, max_depth=4, gamma=5, colsample_bytree=0.8 \n",
      "[CV]  subsample=0.8, min_child_weight=10, max_depth=4, gamma=5, colsample_bytree=0.8, score=0.990, total=  24.3s\n",
      "[Parallel(n_jobs=1)]: Done  26 out of  26 | elapsed: 11.1min remaining:    0.0s\n",
      "[CV] subsample=0.8, min_child_weight=10, max_depth=4, gamma=5, colsample_bytree=0.8 \n",
      "[CV]  subsample=0.8, min_child_weight=10, max_depth=4, gamma=5, colsample_bytree=0.8, score=0.985, total=  25.9s\n",
      "[Parallel(n_jobs=1)]: Done  27 out of  27 | elapsed: 11.6min remaining:    0.0s\n",
      "[CV] subsample=0.8, min_child_weight=10, max_depth=4, gamma=5, colsample_bytree=0.8 \n",
      "[CV]  subsample=0.8, min_child_weight=10, max_depth=4, gamma=5, colsample_bytree=0.8, score=0.992, total=  24.8s\n",
      "[Parallel(n_jobs=1)]: Done  28 out of  28 | elapsed: 12.0min remaining:    0.0s\n",
      "[CV] subsample=0.8, min_child_weight=10, max_depth=4, gamma=5, colsample_bytree=0.8 \n",
      "[CV]  subsample=0.8, min_child_weight=10, max_depth=4, gamma=5, colsample_bytree=0.8, score=0.998, total=  25.3s\n",
      "[Parallel(n_jobs=1)]: Done  29 out of  29 | elapsed: 12.4min remaining:    0.0s\n",
      "[CV] subsample=0.8, min_child_weight=10, max_depth=4, gamma=5, colsample_bytree=0.8 \n"
     ]
    },
    {
     "name": "stdout",
     "output_type": "stream",
     "text": [
      "[CV]  subsample=0.8, min_child_weight=10, max_depth=4, gamma=5, colsample_bytree=0.8, score=0.988, total=  26.0s\n",
      "[Parallel(n_jobs=1)]: Done  30 out of  30 | elapsed: 12.8min remaining:    0.0s\n",
      "[CV] subsample=0.8, min_child_weight=7, max_depth=5, gamma=2, colsample_bytree=0.6 \n",
      "[CV]  subsample=0.8, min_child_weight=7, max_depth=5, gamma=2, colsample_bytree=0.6, score=0.993, total=  20.3s\n",
      "[Parallel(n_jobs=1)]: Done  31 out of  31 | elapsed: 13.2min remaining:    0.0s\n",
      "[CV] subsample=0.8, min_child_weight=7, max_depth=5, gamma=2, colsample_bytree=0.6 \n",
      "[CV]  subsample=0.8, min_child_weight=7, max_depth=5, gamma=2, colsample_bytree=0.6, score=0.987, total=  20.4s\n",
      "[Parallel(n_jobs=1)]: Done  32 out of  32 | elapsed: 13.5min remaining:    0.0s\n",
      "[CV] subsample=0.8, min_child_weight=7, max_depth=5, gamma=2, colsample_bytree=0.6 \n",
      "[CV]  subsample=0.8, min_child_weight=7, max_depth=5, gamma=2, colsample_bytree=0.6, score=0.997, total=  20.6s\n",
      "[Parallel(n_jobs=1)]: Done  33 out of  33 | elapsed: 13.9min remaining:    0.0s\n",
      "[CV] subsample=0.8, min_child_weight=7, max_depth=5, gamma=2, colsample_bytree=0.6 \n",
      "[CV]  subsample=0.8, min_child_weight=7, max_depth=5, gamma=2, colsample_bytree=0.6, score=0.998, total=  20.7s\n",
      "[Parallel(n_jobs=1)]: Done  34 out of  34 | elapsed: 14.2min remaining:    0.0s\n",
      "[CV] subsample=0.8, min_child_weight=7, max_depth=5, gamma=2, colsample_bytree=0.6 \n",
      "[CV]  subsample=0.8, min_child_weight=7, max_depth=5, gamma=2, colsample_bytree=0.6, score=0.991, total=  20.5s\n",
      "[Parallel(n_jobs=1)]: Done  35 out of  35 | elapsed: 14.5min remaining:    0.0s\n",
      "[CV] subsample=0.8, min_child_weight=5, max_depth=6, gamma=5, colsample_bytree=0.6 \n",
      "[CV]  subsample=0.8, min_child_weight=5, max_depth=6, gamma=5, colsample_bytree=0.6, score=0.993, total=  23.1s\n",
      "[Parallel(n_jobs=1)]: Done  36 out of  36 | elapsed: 14.9min remaining:    0.0s\n",
      "[CV] subsample=0.8, min_child_weight=5, max_depth=6, gamma=5, colsample_bytree=0.6 \n",
      "[CV]  subsample=0.8, min_child_weight=5, max_depth=6, gamma=5, colsample_bytree=0.6, score=0.990, total=  23.1s\n",
      "[Parallel(n_jobs=1)]: Done  37 out of  37 | elapsed: 15.3min remaining:    0.0s\n",
      "[CV] subsample=0.8, min_child_weight=5, max_depth=6, gamma=5, colsample_bytree=0.6 \n",
      "[CV]  subsample=0.8, min_child_weight=5, max_depth=6, gamma=5, colsample_bytree=0.6, score=0.997, total=  23.2s\n",
      "[Parallel(n_jobs=1)]: Done  38 out of  38 | elapsed: 15.7min remaining:    0.0s\n",
      "[CV] subsample=0.8, min_child_weight=5, max_depth=6, gamma=5, colsample_bytree=0.6 \n",
      "[CV]  subsample=0.8, min_child_weight=5, max_depth=6, gamma=5, colsample_bytree=0.6, score=0.997, total=  23.9s\n",
      "[Parallel(n_jobs=1)]: Done  39 out of  39 | elapsed: 16.1min remaining:    0.0s\n",
      "[CV] subsample=0.8, min_child_weight=5, max_depth=6, gamma=5, colsample_bytree=0.6 \n",
      "[CV]  subsample=0.8, min_child_weight=5, max_depth=6, gamma=5, colsample_bytree=0.6, score=0.990, total=  22.8s\n",
      "[Parallel(n_jobs=1)]: Done  40 out of  40 | elapsed: 16.5min remaining:    0.0s\n",
      "[CV] subsample=0.8, min_child_weight=7, max_depth=6, gamma=5, colsample_bytree=1.0 \n",
      "[CV]  subsample=0.8, min_child_weight=7, max_depth=6, gamma=5, colsample_bytree=1.0, score=0.993, total=  33.4s\n",
      "[Parallel(n_jobs=1)]: Done  41 out of  41 | elapsed: 17.0min remaining:    0.0s\n",
      "[CV] subsample=0.8, min_child_weight=7, max_depth=6, gamma=5, colsample_bytree=1.0 \n",
      "[CV]  subsample=0.8, min_child_weight=7, max_depth=6, gamma=5, colsample_bytree=1.0, score=0.988, total=  31.6s\n",
      "[Parallel(n_jobs=1)]: Done  42 out of  42 | elapsed: 17.6min remaining:    0.0s\n",
      "[CV] subsample=0.8, min_child_weight=7, max_depth=6, gamma=5, colsample_bytree=1.0 \n",
      "[CV]  subsample=0.8, min_child_weight=7, max_depth=6, gamma=5, colsample_bytree=1.0, score=0.997, total=  33.7s\n",
      "[Parallel(n_jobs=1)]: Done  43 out of  43 | elapsed: 18.1min remaining:    0.0s\n",
      "[CV] subsample=0.8, min_child_weight=7, max_depth=6, gamma=5, colsample_bytree=1.0 \n",
      "[CV]  subsample=0.8, min_child_weight=7, max_depth=6, gamma=5, colsample_bytree=1.0, score=0.998, total=  33.4s\n",
      "[Parallel(n_jobs=1)]: Done  44 out of  44 | elapsed: 18.7min remaining:    0.0s\n",
      "[CV] subsample=0.8, min_child_weight=7, max_depth=6, gamma=5, colsample_bytree=1.0 \n",
      "[CV]  subsample=0.8, min_child_weight=7, max_depth=6, gamma=5, colsample_bytree=1.0, score=0.991, total=  32.4s\n",
      "[Parallel(n_jobs=1)]: Done  45 out of  45 | elapsed: 19.2min remaining:    0.0s\n",
      "[CV] subsample=0.8, min_child_weight=7, max_depth=4, gamma=1, colsample_bytree=0.8 \n",
      "[CV]  subsample=0.8, min_child_weight=7, max_depth=4, gamma=1, colsample_bytree=0.8, score=0.993, total=  33.7s\n",
      "[Parallel(n_jobs=1)]: Done  46 out of  46 | elapsed: 19.8min remaining:    0.0s\n",
      "[CV] subsample=0.8, min_child_weight=7, max_depth=4, gamma=1, colsample_bytree=0.8 \n",
      "[CV]  subsample=0.8, min_child_weight=7, max_depth=4, gamma=1, colsample_bytree=0.8, score=0.986, total=  23.0s\n",
      "[Parallel(n_jobs=1)]: Done  47 out of  47 | elapsed: 20.2min remaining:    0.0s\n",
      "[CV] subsample=0.8, min_child_weight=7, max_depth=4, gamma=1, colsample_bytree=0.8 \n",
      "[CV]  subsample=0.8, min_child_weight=7, max_depth=4, gamma=1, colsample_bytree=0.8, score=0.995, total=  25.1s\n",
      "[Parallel(n_jobs=1)]: Done  48 out of  48 | elapsed: 20.6min remaining:    0.0s\n",
      "[CV] subsample=0.8, min_child_weight=7, max_depth=4, gamma=1, colsample_bytree=0.8 \n",
      "[CV]  subsample=0.8, min_child_weight=7, max_depth=4, gamma=1, colsample_bytree=0.8, score=0.998, total=  24.0s\n",
      "[Parallel(n_jobs=1)]: Done  49 out of  49 | elapsed: 21.0min remaining:    0.0s\n",
      "[CV] subsample=0.8, min_child_weight=7, max_depth=4, gamma=1, colsample_bytree=0.8 \n",
      "[CV]  subsample=0.8, min_child_weight=7, max_depth=4, gamma=1, colsample_bytree=0.8, score=0.991, total=  24.4s\n",
      "[Parallel(n_jobs=1)]: Done  50 out of  50 | elapsed: 21.4min remaining:    0.0s\n",
      "[Parallel(n_jobs=1)]: Done  50 out of  50 | elapsed: 21.4min finished\n"
     ]
    }
   ],
   "source": [
    "best_xgb = RandomizedSearchCV(xgb, xgb_parameters, n_iter=10, cv=5, random_state=seed, verbose=100, scoring=\"recall\")\n",
    "xgb_start = time.time()\n",
    "best_xgb.fit(X_train, y_train)\n",
    "xgb_end = time.time()\n",
    "xgb_time_taken = (xgb_end-xgb_start)/50"
   ]
  },
  {
   "cell_type": "code",
   "execution_count": 119,
   "metadata": {},
   "outputs": [
    {
     "name": "stdout",
     "output_type": "stream",
     "text": [
      "26.484522128105162\n"
     ]
    }
   ],
   "source": [
    "print(xgb_time_taken)"
   ]
  },
  {
   "cell_type": "code",
   "execution_count": 120,
   "metadata": {},
   "outputs": [],
   "source": [
    "time_taken.append(xgb_time_taken)"
   ]
  },
  {
   "cell_type": "code",
   "execution_count": 121,
   "metadata": {},
   "outputs": [
    {
     "data": {
      "text/plain": [
       "{'subsample': 0.6,\n",
       " 'min_child_weight': 1,\n",
       " 'max_depth': 6,\n",
       " 'gamma': 0.5,\n",
       " 'colsample_bytree': 0.8}"
      ]
     },
     "execution_count": 121,
     "metadata": {},
     "output_type": "execute_result"
    }
   ],
   "source": [
    "best_xgb.best_params_"
   ]
  },
  {
   "cell_type": "raw",
   "metadata": {},
   "source": [
    "xgb_y_pred = best_xgb.predict(X_val)"
   ]
  },
  {
   "cell_type": "raw",
   "metadata": {},
   "source": [
    "print(classification_report(y_val, xgb_y_pred))"
   ]
  },
  {
   "cell_type": "code",
   "execution_count": 122,
   "metadata": {},
   "outputs": [],
   "source": [
    "xgb_pickle = \"XSS_xgb_pickle.sav\"\n",
    "pickle.dump(best_xgb, open(xgb_pickle, \"wb\"))"
   ]
  },
  {
   "cell_type": "raw",
   "metadata": {},
   "source": [
    "xgb_recall = recall_score(y_val, xgb_y_pred)"
   ]
  },
  {
   "cell_type": "code",
   "execution_count": 123,
   "metadata": {},
   "outputs": [],
   "source": [
    "xgb_recall = best_xgb.best_score_"
   ]
  },
  {
   "cell_type": "code",
   "execution_count": 124,
   "metadata": {},
   "outputs": [
    {
     "data": {
      "text/plain": [
       "0.997228637413395"
      ]
     },
     "execution_count": 124,
     "metadata": {},
     "output_type": "execute_result"
    }
   ],
   "source": [
    "xgb_recall"
   ]
  },
  {
   "cell_type": "code",
   "execution_count": 125,
   "metadata": {},
   "outputs": [],
   "source": [
    "train_recall_score.append(xgb_recall)"
   ]
  },
  {
   "cell_type": "code",
   "execution_count": 126,
   "metadata": {},
   "outputs": [
    {
     "data": {
      "text/plain": [
       "[1.0,\n",
       " 1.0,\n",
       " 1.0,\n",
       " 0.992609699769053,\n",
       " 0.997228637413395,\n",
       " 0.9958429561200924,\n",
       " 1.0,\n",
       " 0.997228637413395]"
      ]
     },
     "execution_count": 126,
     "metadata": {},
     "output_type": "execute_result"
    }
   ],
   "source": [
    "train_recall_score"
   ]
  },
  {
   "cell_type": "markdown",
   "metadata": {},
   "source": [
    "# Example confusion matrix"
   ]
  },
  {
   "cell_type": "markdown",
   "metadata": {},
   "source": [
    "# Load in test data"
   ]
  },
  {
   "cell_type": "raw",
   "metadata": {},
   "source": [
    "# UTF-16 as some characters can't be read with UTF-8\n",
    "test_df = pd.read_csv(\"SQLi/SQLi_test.csv\", encoding=\"UTF-16\")"
   ]
  },
  {
   "cell_type": "raw",
   "metadata": {},
   "source": [
    "# Quick inspection\n",
    "test_df.head()"
   ]
  },
  {
   "cell_type": "raw",
   "metadata": {},
   "source": [
    "test_df.info()"
   ]
  },
  {
   "cell_type": "raw",
   "metadata": {},
   "source": [
    "# showing missing values\n",
    "print(test_df.isna().sum())\n",
    "test_df[test_df.isna().any(axis=1)]"
   ]
  },
  {
   "cell_type": "raw",
   "metadata": {},
   "source": [
    "# Remove missing values\n",
    "\n",
    "test_df.dropna(axis=0, inplace=True)"
   ]
  },
  {
   "cell_type": "raw",
   "metadata": {},
   "source": [
    "sns.countplot(test_df[\"Label\"]==1)"
   ]
  },
  {
   "cell_type": "raw",
   "metadata": {},
   "source": [
    "# Different allocation of label values\n",
    "(test_df[\"Label\"] == 1).sum() / len(test_df[\"Label\"])"
   ]
  },
  {
   "cell_type": "raw",
   "metadata": {},
   "source": [
    "test_df[\"Label\"]"
   ]
  },
  {
   "cell_type": "raw",
   "metadata": {},
   "source": [
    "test_df = test_df.groupby('Label').apply(pd.DataFrame.sample, frac=0.265).reset_index(drop=True)"
   ]
  },
  {
   "cell_type": "raw",
   "metadata": {},
   "source": [
    "test_df[\"Sentence\"] = test_df[\"Sentence\"].apply(tokenizer)"
   ]
  },
  {
   "cell_type": "raw",
   "metadata": {},
   "source": [
    "# Still preserves the same ratio of values\n",
    "(test_df[\"Label\"] == 1).sum() / len(test_df[\"Label\"])"
   ]
  },
  {
   "cell_type": "raw",
   "metadata": {},
   "source": [
    "# Vectorize with the same CountVectorizer (important)\n",
    "\n",
    "test_count_vect = cv.transform((test_df[\"Sentence\"]))"
   ]
  },
  {
   "cell_type": "raw",
   "metadata": {},
   "source": [
    "test_count_vect_df = pd.DataFrame(test_count_vect.toarray())"
   ]
  },
  {
   "cell_type": "raw",
   "metadata": {},
   "source": [
    "test_count_vect_df"
   ]
  },
  {
   "cell_type": "raw",
   "metadata": {},
   "source": [
    "X_test = test_count_vect_df "
   ]
  },
  {
   "cell_type": "raw",
   "metadata": {},
   "source": [
    "y_test = test_df[\"Label\"]"
   ]
  },
  {
   "cell_type": "code",
   "execution_count": 127,
   "metadata": {},
   "outputs": [
    {
     "data": {
      "text/plain": [
       "[0.7561665105819703,\n",
       " 40.904814882278444,\n",
       " 271.79444382667543,\n",
       " 8.132316732406617,\n",
       " 52.319371671676635,\n",
       " 1.0358105278015137,\n",
       " 80.4831060743332,\n",
       " 26.484522128105162]"
      ]
     },
     "execution_count": 127,
     "metadata": {},
     "output_type": "execute_result"
    }
   ],
   "source": [
    "time_taken"
   ]
  },
  {
   "cell_type": "code",
   "execution_count": 128,
   "metadata": {},
   "outputs": [
    {
     "data": {
      "text/plain": [
       "[1.0,\n",
       " 1.0,\n",
       " 1.0,\n",
       " 0.992609699769053,\n",
       " 0.997228637413395,\n",
       " 0.9958429561200924,\n",
       " 1.0,\n",
       " 0.997228637413395]"
      ]
     },
     "execution_count": 128,
     "metadata": {},
     "output_type": "execute_result"
    }
   ],
   "source": [
    "train_recall_score"
   ]
  },
  {
   "cell_type": "code",
   "execution_count": 129,
   "metadata": {},
   "outputs": [],
   "source": [
    "test_recall_scores = []\n",
    "prediction_time = []"
   ]
  },
  {
   "cell_type": "code",
   "execution_count": 130,
   "metadata": {},
   "outputs": [],
   "source": [
    "classifiers = [best_dt, best_rf, best_svc, best_lr, best_knn, best_nb, best_nn, best_xgb]"
   ]
  },
  {
   "cell_type": "code",
   "execution_count": 131,
   "metadata": {},
   "outputs": [],
   "source": [
    "for i in classifiers:\n",
    "    start = time.time()\n",
    "    y_test_pred = i.predict(X_test)\n",
    "    end = time.time()\n",
    "    prediction_time.append(end-start)\n",
    "    test_recall_score = recall_score(y_test, y_test_pred)\n",
    "    test_recall_scores.append(test_recall_score)"
   ]
  },
  {
   "cell_type": "code",
   "execution_count": 132,
   "metadata": {},
   "outputs": [
    {
     "data": {
      "text/plain": [
       "[1.0,\n",
       " 1.0,\n",
       " 1.0,\n",
       " 0.9914853358561968,\n",
       " 0.9971617786187322,\n",
       " 0.9924314096499527,\n",
       " 1.0,\n",
       " 0.9952696310312205]"
      ]
     },
     "execution_count": 132,
     "metadata": {},
     "output_type": "execute_result"
    }
   ],
   "source": [
    "test_recall_scores"
   ]
  },
  {
   "cell_type": "code",
   "execution_count": 133,
   "metadata": {},
   "outputs": [],
   "source": [
    "results =   {\"Algorithm\": [\"Decision Tree\", \"Random Forest\", \"Support Vector Machine\", \"Logistic Regression\",\n",
    "                               \"K Nearest Neighbours\", \"Naive Bayes\", \"Neural Network\", \"XGBoost\"],\n",
    "        \"Training/Validation Recall\": train_recall_score,\n",
    "        \"Testing Recall\": test_recall_scores\n",
    "       }\n",
    "  \n",
    "\n",
    "\n",
    "    \n",
    "    \n"
   ]
  },
  {
   "cell_type": "code",
   "execution_count": 134,
   "metadata": {},
   "outputs": [],
   "source": [
    "times = {\"Algorithm\": [\"Decision Tree\", \"Random Forest\", \"Support Vector Machine\", \"Logistic Regression\",\n",
    "                               \"K Nearest Neighbours\", \"Naive Bayes\", \"Neural Network\", \"XGBoost\"],\n",
    "         \n",
    "         \"Average training time\" : time_taken,\n",
    "         \"Prediction time\": prediction_time\n",
    "            \n",
    "\n",
    "       \n",
    "}"
   ]
  },
  {
   "cell_type": "code",
   "execution_count": 135,
   "metadata": {},
   "outputs": [],
   "source": [
    "results_df = pd.DataFrame(results)"
   ]
  },
  {
   "cell_type": "code",
   "execution_count": 136,
   "metadata": {},
   "outputs": [
    {
     "data": {
      "text/html": [
       "<div>\n",
       "<style scoped>\n",
       "    .dataframe tbody tr th:only-of-type {\n",
       "        vertical-align: middle;\n",
       "    }\n",
       "\n",
       "    .dataframe tbody tr th {\n",
       "        vertical-align: top;\n",
       "    }\n",
       "\n",
       "    .dataframe thead th {\n",
       "        text-align: right;\n",
       "    }\n",
       "</style>\n",
       "<table border=\"1\" class=\"dataframe\">\n",
       "  <thead>\n",
       "    <tr style=\"text-align: right;\">\n",
       "      <th></th>\n",
       "      <th>Algorithm</th>\n",
       "      <th>Training/Validation Recall</th>\n",
       "      <th>Testing Recall</th>\n",
       "    </tr>\n",
       "  </thead>\n",
       "  <tbody>\n",
       "    <tr>\n",
       "      <th>0</th>\n",
       "      <td>Decision Tree</td>\n",
       "      <td>1.00</td>\n",
       "      <td>1.00</td>\n",
       "    </tr>\n",
       "    <tr>\n",
       "      <th>1</th>\n",
       "      <td>Random Forest</td>\n",
       "      <td>1.00</td>\n",
       "      <td>1.00</td>\n",
       "    </tr>\n",
       "    <tr>\n",
       "      <th>2</th>\n",
       "      <td>Support Vector Machine</td>\n",
       "      <td>1.00</td>\n",
       "      <td>1.00</td>\n",
       "    </tr>\n",
       "    <tr>\n",
       "      <th>3</th>\n",
       "      <td>Logistic Regression</td>\n",
       "      <td>0.99</td>\n",
       "      <td>0.99</td>\n",
       "    </tr>\n",
       "    <tr>\n",
       "      <th>4</th>\n",
       "      <td>K Nearest Neighbours</td>\n",
       "      <td>1.00</td>\n",
       "      <td>1.00</td>\n",
       "    </tr>\n",
       "    <tr>\n",
       "      <th>5</th>\n",
       "      <td>Naive Bayes</td>\n",
       "      <td>1.00</td>\n",
       "      <td>0.99</td>\n",
       "    </tr>\n",
       "    <tr>\n",
       "      <th>6</th>\n",
       "      <td>Neural Network</td>\n",
       "      <td>1.00</td>\n",
       "      <td>1.00</td>\n",
       "    </tr>\n",
       "    <tr>\n",
       "      <th>7</th>\n",
       "      <td>XGBoost</td>\n",
       "      <td>1.00</td>\n",
       "      <td>1.00</td>\n",
       "    </tr>\n",
       "  </tbody>\n",
       "</table>\n",
       "</div>"
      ],
      "text/plain": [
       "                Algorithm  Training/Validation Recall  Testing Recall\n",
       "0           Decision Tree                        1.00            1.00\n",
       "1           Random Forest                        1.00            1.00\n",
       "2  Support Vector Machine                        1.00            1.00\n",
       "3     Logistic Regression                        0.99            0.99\n",
       "4    K Nearest Neighbours                        1.00            1.00\n",
       "5             Naive Bayes                        1.00            0.99\n",
       "6          Neural Network                        1.00            1.00\n",
       "7                 XGBoost                        1.00            1.00"
      ]
     },
     "execution_count": 136,
     "metadata": {},
     "output_type": "execute_result"
    }
   ],
   "source": [
    "results_df"
   ]
  },
  {
   "cell_type": "code",
   "execution_count": 137,
   "metadata": {},
   "outputs": [],
   "source": [
    "results_df.to_pickle(\"XSS Results Pickle\")"
   ]
  },
  {
   "cell_type": "code",
   "execution_count": 138,
   "metadata": {},
   "outputs": [],
   "source": [
    "results_df.sort_values(by=\"Training/Validation Recall\", inplace=True)"
   ]
  },
  {
   "cell_type": "code",
   "execution_count": 139,
   "metadata": {},
   "outputs": [
    {
     "data": {
      "text/plain": [
       "<matplotlib.axes._subplots.AxesSubplot at 0x1843e73eac0>"
      ]
     },
     "execution_count": 139,
     "metadata": {},
     "output_type": "execute_result"
    },
    {
     "data": {
      "image/png": "[encoded data removed]",
      "text/plain": [
       "<Figure size 648x576 with 1 Axes>"
      ]
     },
     "metadata": {
      "needs_background": "light"
     },
     "output_type": "display_data"
    }
   ],
   "source": [
    "results_df.plot(x=\"Algorithm\", y=[\"Training/Validation Recall\", \"Testing Recall\"], kind=\"bar\", figsize=(9,8))"
   ]
  },
  {
   "cell_type": "code",
   "execution_count": 140,
   "metadata": {},
   "outputs": [],
   "source": [
    "results_df.sort_values(by=\"Testing Recall\", inplace=True)"
   ]
  },
  {
   "cell_type": "code",
   "execution_count": 141,
   "metadata": {},
   "outputs": [
    {
     "data": {
      "text/plain": [
       "<matplotlib.axes._subplots.AxesSubplot at 0x1843e75b670>"
      ]
     },
     "execution_count": 141,
     "metadata": {},
     "output_type": "execute_result"
    },
    {
     "data": {
      "image/png": "[encoded data removed]",
      "text/plain": [
       "<Figure size 648x576 with 1 Axes>"
      ]
     },
     "metadata": {
      "needs_background": "light"
     },
     "output_type": "display_data"
    }
   ],
   "source": [
    "results_df.plot(x=\"Algorithm\", y=[\"Training/Validation Recall\", \"Testing Recall\"], kind=\"bar\", figsize=(9,8))"
   ]
  },
  {
   "cell_type": "code",
   "execution_count": 142,
   "metadata": {},
   "outputs": [],
   "source": [
    "time_df = pd.DataFrame(times)"
   ]
  },
  {
   "cell_type": "code",
   "execution_count": 143,
   "metadata": {},
   "outputs": [
    {
     "data": {
      "text/html": [
       "<div>\n",
       "<style scoped>\n",
       "    .dataframe tbody tr th:only-of-type {\n",
       "        vertical-align: middle;\n",
       "    }\n",
       "\n",
       "    .dataframe tbody tr th {\n",
       "        vertical-align: top;\n",
       "    }\n",
       "\n",
       "    .dataframe thead th {\n",
       "        text-align: right;\n",
       "    }\n",
       "</style>\n",
       "<table border=\"1\" class=\"dataframe\">\n",
       "  <thead>\n",
       "    <tr style=\"text-align: right;\">\n",
       "      <th></th>\n",
       "      <th>Algorithm</th>\n",
       "      <th>Average training time</th>\n",
       "      <th>Prediction time</th>\n",
       "    </tr>\n",
       "  </thead>\n",
       "  <tbody>\n",
       "    <tr>\n",
       "      <th>0</th>\n",
       "      <td>Decision Tree</td>\n",
       "      <td>0.76</td>\n",
       "      <td>0.18</td>\n",
       "    </tr>\n",
       "    <tr>\n",
       "      <th>1</th>\n",
       "      <td>Random Forest</td>\n",
       "      <td>40.90</td>\n",
       "      <td>0.11</td>\n",
       "    </tr>\n",
       "    <tr>\n",
       "      <th>2</th>\n",
       "      <td>Support Vector Machine</td>\n",
       "      <td>271.79</td>\n",
       "      <td>130.12</td>\n",
       "    </tr>\n",
       "    <tr>\n",
       "      <th>3</th>\n",
       "      <td>Logistic Regression</td>\n",
       "      <td>8.13</td>\n",
       "      <td>0.07</td>\n",
       "    </tr>\n",
       "    <tr>\n",
       "      <th>4</th>\n",
       "      <td>K Nearest Neighbours</td>\n",
       "      <td>52.32</td>\n",
       "      <td>2.10</td>\n",
       "    </tr>\n",
       "    <tr>\n",
       "      <th>5</th>\n",
       "      <td>Naive Bayes</td>\n",
       "      <td>1.04</td>\n",
       "      <td>0.08</td>\n",
       "    </tr>\n",
       "    <tr>\n",
       "      <th>6</th>\n",
       "      <td>Neural Network</td>\n",
       "      <td>80.48</td>\n",
       "      <td>0.10</td>\n",
       "    </tr>\n",
       "    <tr>\n",
       "      <th>7</th>\n",
       "      <td>XGBoost</td>\n",
       "      <td>26.48</td>\n",
       "      <td>0.37</td>\n",
       "    </tr>\n",
       "  </tbody>\n",
       "</table>\n",
       "</div>"
      ],
      "text/plain": [
       "                Algorithm  Average training time  Prediction time\n",
       "0           Decision Tree                   0.76             0.18\n",
       "1           Random Forest                  40.90             0.11\n",
       "2  Support Vector Machine                 271.79           130.12\n",
       "3     Logistic Regression                   8.13             0.07\n",
       "4    K Nearest Neighbours                  52.32             2.10\n",
       "5             Naive Bayes                   1.04             0.08\n",
       "6          Neural Network                  80.48             0.10\n",
       "7                 XGBoost                  26.48             0.37"
      ]
     },
     "execution_count": 143,
     "metadata": {},
     "output_type": "execute_result"
    }
   ],
   "source": [
    "time_df"
   ]
  },
  {
   "cell_type": "code",
   "execution_count": 144,
   "metadata": {},
   "outputs": [],
   "source": [
    "time_df.to_pickle(\"XSS Time Pickle\")"
   ]
  },
  {
   "cell_type": "code",
   "execution_count": 145,
   "metadata": {},
   "outputs": [],
   "source": [
    "time_df.sort_values(by=\"Prediction time\", inplace=True)"
   ]
  },
  {
   "cell_type": "code",
   "execution_count": 146,
   "metadata": {},
   "outputs": [
    {
     "data": {
      "text/plain": [
       "<matplotlib.axes._subplots.AxesSubplot at 0x1843e7cc550>"
      ]
     },
     "execution_count": 146,
     "metadata": {},
     "output_type": "execute_result"
    },
    {
     "data": {
      "image/png": "[encoded data removed]",
      "text/plain": [
       "<Figure size 648x576 with 1 Axes>"
      ]
     },
     "metadata": {
      "needs_background": "light"
     },
     "output_type": "display_data"
    }
   ],
   "source": [
    "time_df.plot(x=\"Algorithm\", y=[\"Average training time\", \"Prediction time\"], kind=\"bar\", figsize=(9,8), logy=True)"
   ]
  }
 ],
 "metadata": {
  "kernelspec": {
   "display_name": "Python 3",
   "language": "python",
   "name": "python3"
  },
  "language_info": {
   "codemirror_mode": {
    "name": "ipython",
    "version": 3
   },
   "file_extension": ".py",
   "mimetype": "text/x-python",
   "name": "python",
   "nbconvert_exporter": "python",
   "pygments_lexer": "ipython3",
   "version": "3.8.3"
  }
 },
 "nbformat": 4,
 "nbformat_minor": 4
}
