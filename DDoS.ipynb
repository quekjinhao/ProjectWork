{
 "cells": [
  {
   "cell_type": "code",
   "execution_count": 1,
   "metadata": {},
   "outputs": [
    {
     "name": "stdout",
     "output_type": "stream",
     "text": [
      "Requirement already satisfied: xgboost in c:\\users\\user\\appdata\\roaming\\python\\python38\\site-packages (1.1.1)\n",
      "Requirement already satisfied: numpy in c:\\users\\user\\appdata\\roaming\\python\\python38\\site-packages (from xgboost) (1.19.1)\n",
      "Requirement already satisfied: scipy in c:\\users\\user\\appdata\\roaming\\python\\python38\\site-packages (from xgboost) (1.5.4)\n",
      "Note: you may need to restart the kernel to use updated packages.\n"
     ]
    }
   ],
   "source": [
    "pip install xgboost"
   ]
  },
  {
   "cell_type": "code",
   "execution_count": 2,
   "metadata": {},
   "outputs": [
    {
     "name": "stdout",
     "output_type": "stream",
     "text": [
      "Requirement already satisfied: lazypredict in c:\\users\\user\\appdata\\roaming\\python\\python38\\site-packages (0.2.9)Note: you may need to restart the kernel to use updated packages.\n",
      "Requirement already satisfied: PyYAML==5.3.1 in c:\\programdata\\anaconda3\\lib\\site-packages (from lazypredict) (5.3.1)\n",
      "Requirement already satisfied: six==1.15.0 in c:\\programdata\\anaconda3\\lib\\site-packages (from lazypredict) (1.15.0)\n",
      "Requirement already satisfied: numpy==1.19.1 in c:\\users\\user\\appdata\\roaming\\python\\python38\\site-packages (from lazypredict) (1.19.1)\n",
      "Requirement already satisfied: pandas==1.0.5 in c:\\programdata\\anaconda3\\lib\\site-packages (from lazypredict) (1.0.5)\n",
      "Requirement already satisfied: scikit-learn==0.23.1 in c:\\programdata\\anaconda3\\lib\\site-packages (from lazypredict) (0.23.1)\n",
      "Requirement already satisfied: lightgbm==2.3.1 in c:\\users\\user\\appdata\\roaming\\python\\python38\\site-packages (from lazypredict) (2.3.1)\n",
      "Requirement already satisfied: joblib==1.0.0 in c:\\users\\user\\appdata\\roaming\\python\\python38\\site-packages (from lazypredict) (1.0.0)\n",
      "Requirement already satisfied: click==7.1.2 in c:\\programdata\\anaconda3\\lib\\site-packages (from lazypredict) (7.1.2)\n",
      "Requirement already satisfied: scipy==1.5.4 in c:\\users\\user\\appdata\\roaming\\python\\python38\\site-packages (from lazypredict) (1.5.4)\n",
      "Requirement already satisfied: pytest==5.4.3 in c:\\programdata\\anaconda3\\lib\\site-packages (from lazypredict) (5.4.3)\n",
      "Requirement already satisfied: xgboost==1.1.1 in c:\\users\\user\\appdata\\roaming\\python\\python38\\site-packages (from lazypredict) (1.1.1)\n",
      "Requirement already satisfied: tqdm==4.56.0 in c:\\users\\user\\appdata\\roaming\\python\\python38\\site-packages (from lazypredict) (4.56.0)\n",
      "Requirement already satisfied: pytz>=2017.2 in c:\\programdata\\anaconda3\\lib\\site-packages (from pandas==1.0.5->lazypredict) (2020.1)\n",
      "Requirement already satisfied: python-dateutil>=2.6.1 in c:\\programdata\\anaconda3\\lib\\site-packages (from pandas==1.0.5->lazypredict) (2.8.1)\n",
      "Requirement already satisfied: threadpoolctl>=2.0.0 in c:\\programdata\\anaconda3\\lib\\site-packages (from scikit-learn==0.23.1->lazypredict) (2.1.0)\n",
      "Requirement already satisfied: py>=1.5.0 in c:\\programdata\\anaconda3\\lib\\site-packages (from pytest==5.4.3->lazypredict) (1.9.0)\n",
      "Requirement already satisfied: packaging in c:\\programdata\\anaconda3\\lib\\site-packages (from pytest==5.4.3->lazypredict) (20.4)\n",
      "Requirement already satisfied: attrs>=17.4.0 in c:\\programdata\\anaconda3\\lib\\site-packages (from pytest==5.4.3->lazypredict) (19.3.0)\n",
      "Requirement already satisfied: more-itertools>=4.0.0 in c:\\programdata\\anaconda3\\lib\\site-packages (from pytest==5.4.3->lazypredict) (8.4.0)\n",
      "Requirement already satisfied: pluggy<1.0,>=0.12 in c:\\programdata\\anaconda3\\lib\\site-packages (from pytest==5.4.3->lazypredict) (0.13.1)\n",
      "Requirement already satisfied: wcwidth in c:\\programdata\\anaconda3\\lib\\site-packages (from pytest==5.4.3->lazypredict) (0.2.5)\n",
      "Requirement already satisfied: atomicwrites>=1.0 in c:\\programdata\\anaconda3\\lib\\site-packages (from pytest==5.4.3->lazypredict) (1.4.0)\n",
      "Requirement already satisfied: colorama in c:\\programdata\\anaconda3\\lib\\site-packages (from pytest==5.4.3->lazypredict) (0.4.3)\n",
      "\n",
      "Requirement already satisfied: pyparsing>=2.0.2 in c:\\programdata\\anaconda3\\lib\\site-packages (from packaging->pytest==5.4.3->lazypredict) (2.4.7)\n"
     ]
    }
   ],
   "source": [
    "pip install --user lazypredict"
   ]
  },
  {
   "cell_type": "code",
   "execution_count": 159,
   "metadata": {},
   "outputs": [
    {
     "ename": "SyntaxError",
     "evalue": "invalid syntax (<ipython-input-159-c2a3b71f4a9e>, line 1)",
     "output_type": "error",
     "traceback": [
      "\u001b[1;36m  File \u001b[1;32m\"<ipython-input-159-c2a3b71f4a9e>\"\u001b[1;36m, line \u001b[1;32m1\u001b[0m\n\u001b[1;33m    export PATH=/Library/TeX/texbin:$PATH\u001b[0m\n\u001b[1;37m           ^\u001b[0m\n\u001b[1;31mSyntaxError\u001b[0m\u001b[1;31m:\u001b[0m invalid syntax\n"
     ]
    }
   ],
   "source": [
    "export PATH=/Library/TeX/texbin:$PATH"
   ]
  },
  {
   "cell_type": "code",
   "execution_count": 3,
   "metadata": {},
   "outputs": [
    {
     "name": "stderr",
     "output_type": "stream",
     "text": [
      "C:\\ProgramData\\Anaconda3\\lib\\site-packages\\sklearn\\utils\\deprecation.py:143: FutureWarning: The sklearn.utils.testing module is  deprecated in version 0.22 and will be removed in version 0.24. The corresponding classes / functions should instead be imported from sklearn.utils. Anything that cannot be imported from sklearn.utils is now part of the private API.\n",
      "  warnings.warn(message, FutureWarning)\n"
     ]
    }
   ],
   "source": [
    "import lazypredict\n",
    "from lazypredict.Supervised import LazyClassifier"
   ]
  },
  {
   "cell_type": "code",
   "execution_count": 4,
   "metadata": {},
   "outputs": [],
   "source": [
    "# Base packages\n",
    "\n",
    "import numpy as np # linear algebra\n",
    "import pandas as pd # data processing, CSV file I/O (e.g. pd.read_csv)\n",
    "import seaborn as sns\n",
    "import matplotlib.pyplot as plt\n",
    "import string as st\n",
    "%matplotlib inline\n",
    "\n",
    "# Helper packages\n",
    "import time\n",
    "import os\n",
    "import pickle\n",
    "import re\n",
    "\n",
    "# Preprocessing packages\n",
    "from sklearn.feature_extraction.text import CountVectorizer\n",
    "from sklearn.feature_extraction.text import TfidfVectorizer\n",
    "from sklearn.pipeline import Pipeline\n",
    "from sklearn.model_selection import StratifiedKFold, train_test_split\n",
    "from sklearn.model_selection import GridSearchCV, RandomizedSearchCV\n",
    "\n",
    "# Machine Learning packages\n",
    "from sklearn.tree import DecisionTreeClassifier\n",
    "from sklearn.ensemble import RandomForestClassifier\n",
    "from sklearn.svm import SVC\n",
    "from sklearn.linear_model import LogisticRegression\n",
    "from sklearn.neighbors import KNeighborsClassifier\n",
    "from sklearn.naive_bayes import MultinomialNB, GaussianNB\n",
    "from sklearn.neural_network import MLPClassifier\n",
    "from xgboost import XGBClassifier\n",
    "\n",
    "# Scoring packages\n",
    "from sklearn.metrics import precision_score, accuracy_score\n",
    "from sklearn.metrics import classification_report\n",
    "from sklearn.metrics import plot_confusion_matrix, confusion_matrix\n",
    "from sklearn.metrics import f1_score, recall_score\n",
    "from sklearn.metrics import precision_recall_fscore_support"
   ]
  },
  {
   "cell_type": "markdown",
   "metadata": {},
   "source": [
    "## Tokenizer helper\n",
    "\n",
    "Function which helps preserve special characters during tokenization"
   ]
  },
  {
   "cell_type": "code",
   "execution_count": 5,
   "metadata": {},
   "outputs": [],
   "source": [
    "def tokenizer(x):\n",
    "    r='!\"#$%&;()*+,-./:;<=>?\\'@[\\\\]^_`{|}~'\n",
    "    to_replace=[re.escape(i) for i in r]\n",
    "\n",
    "    replace_with=[' '+i+' ' for i in r]\n",
    "    x=x.lower()\n",
    "    x=pd.DataFrame([x])[0].replace(to_replace,replace_with,regex=True)[0]\n",
    "    return(x)\n",
    " \n",
    "corpus=pd.DataFrame([\"That's an example.\",\n",
    "\"Don't ignore it!\",\n",
    "\"This is another example.\",\n",
    "\"50$ is a price:-) !&!!^)\",\n",
    "\"Look @predictivehacks for more hacks\",\n",
    "\"These are hashtags #predictivehacks #datascience #100%fun\"],columns=['sentences'])\n",
    "\n"
   ]
  },
  {
   "cell_type": "code",
   "execution_count": 6,
   "metadata": {},
   "outputs": [],
   "source": [
    "seed = 170280378"
   ]
  },
  {
   "cell_type": "code",
   "execution_count": 7,
   "metadata": {},
   "outputs": [
    {
     "data": {
      "text/plain": [
       "'C:\\\\Users\\\\User\\\\Desktop\\\\PROJECT WORK\\\\Jupyter Repo'"
      ]
     },
     "execution_count": 7,
     "metadata": {},
     "output_type": "execute_result"
    }
   ],
   "source": [
    "os.getcwd()"
   ]
  },
  {
   "cell_type": "code",
   "execution_count": 8,
   "metadata": {},
   "outputs": [],
   "source": [
    "# Read in DDoS\n",
    "df = pd.read_csv(\"DDoS/DDoS.csv\", usecols=[\"Src IP\", \"Src Port\", \"Dst IP\", \"Dst Port\", \"Protocol\", \"Label\"])"
   ]
  },
  {
   "cell_type": "code",
   "execution_count": 9,
   "metadata": {},
   "outputs": [
    {
     "data": {
      "text/html": [
       "<div>\n",
       "<style scoped>\n",
       "    .dataframe tbody tr th:only-of-type {\n",
       "        vertical-align: middle;\n",
       "    }\n",
       "\n",
       "    .dataframe tbody tr th {\n",
       "        vertical-align: top;\n",
       "    }\n",
       "\n",
       "    .dataframe thead th {\n",
       "        text-align: right;\n",
       "    }\n",
       "</style>\n",
       "<table border=\"1\" class=\"dataframe\">\n",
       "  <thead>\n",
       "    <tr style=\"text-align: right;\">\n",
       "      <th></th>\n",
       "      <th>Src IP</th>\n",
       "      <th>Src Port</th>\n",
       "      <th>Dst IP</th>\n",
       "      <th>Dst Port</th>\n",
       "      <th>Protocol</th>\n",
       "      <th>Label</th>\n",
       "    </tr>\n",
       "  </thead>\n",
       "  <tbody>\n",
       "    <tr>\n",
       "      <th>0</th>\n",
       "      <td>192.168.4.118</td>\n",
       "      <td>4504</td>\n",
       "      <td>203.73.24.75</td>\n",
       "      <td>80</td>\n",
       "      <td>6</td>\n",
       "      <td>ddos</td>\n",
       "    </tr>\n",
       "    <tr>\n",
       "      <th>1</th>\n",
       "      <td>192.168.4.118</td>\n",
       "      <td>4504</td>\n",
       "      <td>203.73.24.75</td>\n",
       "      <td>80</td>\n",
       "      <td>6</td>\n",
       "      <td>ddos</td>\n",
       "    </tr>\n",
       "    <tr>\n",
       "      <th>2</th>\n",
       "      <td>192.168.4.118</td>\n",
       "      <td>4505</td>\n",
       "      <td>203.73.24.75</td>\n",
       "      <td>80</td>\n",
       "      <td>6</td>\n",
       "      <td>ddos</td>\n",
       "    </tr>\n",
       "    <tr>\n",
       "      <th>3</th>\n",
       "      <td>192.168.4.118</td>\n",
       "      <td>4505</td>\n",
       "      <td>203.73.24.75</td>\n",
       "      <td>80</td>\n",
       "      <td>6</td>\n",
       "      <td>ddos</td>\n",
       "    </tr>\n",
       "    <tr>\n",
       "      <th>4</th>\n",
       "      <td>192.168.4.118</td>\n",
       "      <td>4506</td>\n",
       "      <td>203.73.24.75</td>\n",
       "      <td>80</td>\n",
       "      <td>6</td>\n",
       "      <td>ddos</td>\n",
       "    </tr>\n",
       "  </tbody>\n",
       "</table>\n",
       "</div>"
      ],
      "text/plain": [
       "          Src IP  Src Port        Dst IP  Dst Port  Protocol Label\n",
       "0  192.168.4.118      4504  203.73.24.75        80         6  ddos\n",
       "1  192.168.4.118      4504  203.73.24.75        80         6  ddos\n",
       "2  192.168.4.118      4505  203.73.24.75        80         6  ddos\n",
       "3  192.168.4.118      4505  203.73.24.75        80         6  ddos\n",
       "4  192.168.4.118      4506  203.73.24.75        80         6  ddos"
      ]
     },
     "execution_count": 9,
     "metadata": {},
     "output_type": "execute_result"
    }
   ],
   "source": [
    "# Quick inspection\n",
    "df.head()"
   ]
  },
  {
   "cell_type": "code",
   "execution_count": 10,
   "metadata": {},
   "outputs": [
    {
     "name": "stdout",
     "output_type": "stream",
     "text": [
      "<class 'pandas.core.frame.DataFrame'>\n",
      "RangeIndex: 12794627 entries, 0 to 12794626\n",
      "Data columns (total 6 columns):\n",
      " #   Column    Dtype \n",
      "---  ------    ----- \n",
      " 0   Src IP    object\n",
      " 1   Src Port  int64 \n",
      " 2   Dst IP    object\n",
      " 3   Dst Port  int64 \n",
      " 4   Protocol  int64 \n",
      " 5   Label     object\n",
      "dtypes: int64(3), object(3)\n",
      "memory usage: 585.7+ MB\n"
     ]
    }
   ],
   "source": [
    "df.info()"
   ]
  },
  {
   "cell_type": "code",
   "execution_count": 11,
   "metadata": {},
   "outputs": [
    {
     "name": "stdout",
     "output_type": "stream",
     "text": [
      "Src IP      0\n",
      "Src Port    0\n",
      "Dst IP      0\n",
      "Dst Port    0\n",
      "Protocol    0\n",
      "Label       0\n",
      "dtype: int64\n"
     ]
    },
    {
     "data": {
      "text/html": [
       "<div>\n",
       "<style scoped>\n",
       "    .dataframe tbody tr th:only-of-type {\n",
       "        vertical-align: middle;\n",
       "    }\n",
       "\n",
       "    .dataframe tbody tr th {\n",
       "        vertical-align: top;\n",
       "    }\n",
       "\n",
       "    .dataframe thead th {\n",
       "        text-align: right;\n",
       "    }\n",
       "</style>\n",
       "<table border=\"1\" class=\"dataframe\">\n",
       "  <thead>\n",
       "    <tr style=\"text-align: right;\">\n",
       "      <th></th>\n",
       "      <th>Src IP</th>\n",
       "      <th>Src Port</th>\n",
       "      <th>Dst IP</th>\n",
       "      <th>Dst Port</th>\n",
       "      <th>Protocol</th>\n",
       "      <th>Label</th>\n",
       "    </tr>\n",
       "  </thead>\n",
       "  <tbody>\n",
       "  </tbody>\n",
       "</table>\n",
       "</div>"
      ],
      "text/plain": [
       "Empty DataFrame\n",
       "Columns: [Src IP, Src Port, Dst IP, Dst Port, Protocol, Label]\n",
       "Index: []"
      ]
     },
     "execution_count": 11,
     "metadata": {},
     "output_type": "execute_result"
    }
   ],
   "source": [
    "# showing missing values\n",
    "print(df.isna().sum())\n",
    "df[df.isna().any(axis=1)]"
   ]
  },
  {
   "cell_type": "code",
   "execution_count": 12,
   "metadata": {},
   "outputs": [],
   "source": [
    "# Remove missing values\n",
    "\n",
    "df.dropna(axis=0, inplace=True)"
   ]
  },
  {
   "cell_type": "code",
   "execution_count": 13,
   "metadata": {},
   "outputs": [
    {
     "data": {
      "text/plain": [
       "<matplotlib.axes._subplots.AxesSubplot at 0x1feacb47d30>"
      ]
     },
     "execution_count": 13,
     "metadata": {},
     "output_type": "execute_result"
    },
    {
     "data": {
      "image/png": "[encoded data removed]",
      "text/plain": [
       "<Figure size 432x288 with 1 Axes>"
      ]
     },
     "metadata": {
      "needs_background": "light"
     },
     "output_type": "display_data"
    }
   ],
   "source": [
    "# The label is formatted as string instead of the normal \"1\"\n",
    "sns.countplot(df[\"Label\"]==\"ddos\")"
   ]
  },
  {
   "cell_type": "code",
   "execution_count": 14,
   "metadata": {},
   "outputs": [
    {
     "data": {
      "text/plain": [
       "0.5058879012260381"
      ]
     },
     "execution_count": 14,
     "metadata": {},
     "output_type": "execute_result"
    }
   ],
   "source": [
    "# Well-balanced data set\n",
    "(df[\"Label\"] == \"ddos\").sum() / len(df[\"Label\"])"
   ]
  },
  {
   "attachments": {
    "image.png": {
     "image/png": "[encoded data removed]"
    }
   },
   "cell_type": "markdown",
   "metadata": {},
   "source": [
    "\n",
    "### CountVectorizer\n",
    "![image.png](attachment:image.png)\n",
    "\n",
    "### Common hyperparameters\n",
    "\n",
    "- min and max_df, ignore terms that have a frequency below or above a certain threshold. Default is 1 so no terms ignored.\n",
    "- stop_words: Stop words are words like “and”, “the”, “him”, which are presumed to be uninformative in representing the content of a text, and which may be removed to avoid them being construed as signal for prediction. "
   ]
  },
  {
   "cell_type": "code",
   "execution_count": 15,
   "metadata": {},
   "outputs": [],
   "source": [
    "# Not relevant here\n",
    "# df[df[\"Sentence\"].str.contains(\"and\")]"
   ]
  },
  {
   "cell_type": "code",
   "execution_count": 16,
   "metadata": {},
   "outputs": [],
   "source": [
    "# punctuation also features prominently\n",
    "# df[df[\"Sentence\"].str.contains(\"'\")]"
   ]
  },
  {
   "cell_type": "markdown",
   "metadata": {},
   "source": [
    "# Reducing here as the dataframe is too big\n",
    "Standardise at 10, 000 rows total\n"
   ]
  },
  {
   "cell_type": "code",
   "execution_count": 17,
   "metadata": {},
   "outputs": [
    {
     "data": {
      "text/plain": [
       "0             ddos\n",
       "1             ddos\n",
       "2             ddos\n",
       "3             ddos\n",
       "4             ddos\n",
       "             ...  \n",
       "12794622    Benign\n",
       "12794623    Benign\n",
       "12794624    Benign\n",
       "12794625    Benign\n",
       "12794626    Benign\n",
       "Name: Label, Length: 12794627, dtype: object"
      ]
     },
     "execution_count": 17,
     "metadata": {},
     "output_type": "execute_result"
    }
   ],
   "source": [
    "df[\"Label\"]"
   ]
  },
  {
   "cell_type": "code",
   "execution_count": 18,
   "metadata": {},
   "outputs": [],
   "source": [
    "# Note: Can probably load more rows into this dataset as there will probably be less features compared to SQLi and XSS\n",
    "df = df.groupby(\"Label\").apply(pd.DataFrame.sample, frac=0.0007816).reset_index(drop=True)"
   ]
  },
  {
   "cell_type": "code",
   "execution_count": 19,
   "metadata": {},
   "outputs": [
    {
     "data": {
      "text/plain": [
       "0.5059"
      ]
     },
     "execution_count": 19,
     "metadata": {},
     "output_type": "execute_result"
    }
   ],
   "source": [
    "# Still preserves the same ratio of values\n",
    "(df[\"Label\"] == \"ddos\").sum() / len(df[\"Label\"])"
   ]
  },
  {
   "cell_type": "code",
   "execution_count": 20,
   "metadata": {},
   "outputs": [
    {
     "data": {
      "text/html": [
       "<div>\n",
       "<style scoped>\n",
       "    .dataframe tbody tr th:only-of-type {\n",
       "        vertical-align: middle;\n",
       "    }\n",
       "\n",
       "    .dataframe tbody tr th {\n",
       "        vertical-align: top;\n",
       "    }\n",
       "\n",
       "    .dataframe thead th {\n",
       "        text-align: right;\n",
       "    }\n",
       "</style>\n",
       "<table border=\"1\" class=\"dataframe\">\n",
       "  <thead>\n",
       "    <tr style=\"text-align: right;\">\n",
       "      <th></th>\n",
       "      <th>Src IP</th>\n",
       "      <th>Src Port</th>\n",
       "      <th>Dst IP</th>\n",
       "      <th>Dst Port</th>\n",
       "      <th>Protocol</th>\n",
       "      <th>Label</th>\n",
       "    </tr>\n",
       "  </thead>\n",
       "  <tbody>\n",
       "    <tr>\n",
       "      <th>0</th>\n",
       "      <td>172.31.64.118</td>\n",
       "      <td>54235</td>\n",
       "      <td>172.31.0.2</td>\n",
       "      <td>53</td>\n",
       "      <td>17</td>\n",
       "      <td>Benign</td>\n",
       "    </tr>\n",
       "    <tr>\n",
       "      <th>1</th>\n",
       "      <td>172.31.66.123</td>\n",
       "      <td>51902</td>\n",
       "      <td>169.254.169.254</td>\n",
       "      <td>80</td>\n",
       "      <td>6</td>\n",
       "      <td>Benign</td>\n",
       "    </tr>\n",
       "    <tr>\n",
       "      <th>2</th>\n",
       "      <td>151.101.64.217</td>\n",
       "      <td>443</td>\n",
       "      <td>172.31.69.14</td>\n",
       "      <td>52655</td>\n",
       "      <td>6</td>\n",
       "      <td>Benign</td>\n",
       "    </tr>\n",
       "    <tr>\n",
       "      <th>3</th>\n",
       "      <td>172.31.66.84</td>\n",
       "      <td>53434</td>\n",
       "      <td>23.15.8.160</td>\n",
       "      <td>443</td>\n",
       "      <td>6</td>\n",
       "      <td>Benign</td>\n",
       "    </tr>\n",
       "    <tr>\n",
       "      <th>4</th>\n",
       "      <td>192.168.10.3</td>\n",
       "      <td>60927</td>\n",
       "      <td>192.168.10.1</td>\n",
       "      <td>53</td>\n",
       "      <td>17</td>\n",
       "      <td>Benign</td>\n",
       "    </tr>\n",
       "    <tr>\n",
       "      <th>...</th>\n",
       "      <td>...</td>\n",
       "      <td>...</td>\n",
       "      <td>...</td>\n",
       "      <td>...</td>\n",
       "      <td>...</td>\n",
       "      <td>...</td>\n",
       "    </tr>\n",
       "    <tr>\n",
       "      <th>9995</th>\n",
       "      <td>52.14.136.135</td>\n",
       "      <td>51357</td>\n",
       "      <td>172.31.69.25</td>\n",
       "      <td>80</td>\n",
       "      <td>6</td>\n",
       "      <td>ddos</td>\n",
       "    </tr>\n",
       "    <tr>\n",
       "      <th>9996</th>\n",
       "      <td>172.31.69.28</td>\n",
       "      <td>80</td>\n",
       "      <td>18.219.9.1</td>\n",
       "      <td>65249</td>\n",
       "      <td>6</td>\n",
       "      <td>ddos</td>\n",
       "    </tr>\n",
       "    <tr>\n",
       "      <th>9997</th>\n",
       "      <td>18.218.229.235</td>\n",
       "      <td>60153</td>\n",
       "      <td>172.31.69.28</td>\n",
       "      <td>80</td>\n",
       "      <td>6</td>\n",
       "      <td>ddos</td>\n",
       "    </tr>\n",
       "    <tr>\n",
       "      <th>9998</th>\n",
       "      <td>172.31.69.25</td>\n",
       "      <td>80</td>\n",
       "      <td>18.219.193.20</td>\n",
       "      <td>36842</td>\n",
       "      <td>6</td>\n",
       "      <td>ddos</td>\n",
       "    </tr>\n",
       "    <tr>\n",
       "      <th>9999</th>\n",
       "      <td>18.219.193.20</td>\n",
       "      <td>57790</td>\n",
       "      <td>172.31.69.25</td>\n",
       "      <td>80</td>\n",
       "      <td>6</td>\n",
       "      <td>ddos</td>\n",
       "    </tr>\n",
       "  </tbody>\n",
       "</table>\n",
       "<p>10000 rows × 6 columns</p>\n",
       "</div>"
      ],
      "text/plain": [
       "              Src IP  Src Port           Dst IP  Dst Port  Protocol   Label\n",
       "0      172.31.64.118     54235       172.31.0.2        53        17  Benign\n",
       "1      172.31.66.123     51902  169.254.169.254        80         6  Benign\n",
       "2     151.101.64.217       443     172.31.69.14     52655         6  Benign\n",
       "3       172.31.66.84     53434      23.15.8.160       443         6  Benign\n",
       "4       192.168.10.3     60927     192.168.10.1        53        17  Benign\n",
       "...              ...       ...              ...       ...       ...     ...\n",
       "9995   52.14.136.135     51357     172.31.69.25        80         6    ddos\n",
       "9996    172.31.69.28        80       18.219.9.1     65249         6    ddos\n",
       "9997  18.218.229.235     60153     172.31.69.28        80         6    ddos\n",
       "9998    172.31.69.25        80    18.219.193.20     36842         6    ddos\n",
       "9999   18.219.193.20     57790     172.31.69.25        80         6    ddos\n",
       "\n",
       "[10000 rows x 6 columns]"
      ]
     },
     "execution_count": 20,
     "metadata": {},
     "output_type": "execute_result"
    }
   ],
   "source": [
    "df"
   ]
  },
  {
   "cell_type": "code",
   "execution_count": 21,
   "metadata": {},
   "outputs": [],
   "source": [
    "# Need to split IP addresses by \".\" for further processing\n",
    "\n",
    "src_ip_split = df[\"Src IP\"].str.split(\".\", n = 3, expand = True)\n",
    "df[\"Src IP 1\"] = src_ip_split[0]\n",
    "df[\"Src IP 2\"] = src_ip_split[1]\n",
    "df[\"Src IP 3\"] = src_ip_split[2]   \n",
    "df[\"Src IP 4\"] = src_ip_split[3]  \n",
    "\n",
    "   "
   ]
  },
  {
   "cell_type": "code",
   "execution_count": 22,
   "metadata": {},
   "outputs": [],
   "source": [
    "dst_ip_split = df[\"Dst IP\"].str.split(\".\", n = 3, expand = True)\n",
    "df[\"Dst IP 1\"] = dst_ip_split[0]\n",
    "df[\"Dst IP 2\"] = dst_ip_split[1]\n",
    "df[\"Dst IP 3\"] = dst_ip_split[2]\n",
    "df[\"Dst IP 4\"] = dst_ip_split[3]"
   ]
  },
  {
   "cell_type": "code",
   "execution_count": 23,
   "metadata": {},
   "outputs": [],
   "source": [
    "y=df[\"Label\"]"
   ]
  },
  {
   "cell_type": "code",
   "execution_count": 24,
   "metadata": {},
   "outputs": [],
   "source": [
    "# Convert y to 0 and 1\n",
    "# Should be numerical\n",
    "y.replace({\"Benign\": 0, 'ddos': 1}, inplace=True)"
   ]
  },
  {
   "cell_type": "code",
   "execution_count": 25,
   "metadata": {},
   "outputs": [],
   "source": [
    "# Remove old columns\n",
    "df.drop([\"Src IP\", \"Dst IP\", \"Label\"], axis=1, inplace=True)"
   ]
  },
  {
   "cell_type": "code",
   "execution_count": 26,
   "metadata": {},
   "outputs": [
    {
     "data": {
      "text/plain": [
       "0       0\n",
       "1       0\n",
       "2       0\n",
       "3       0\n",
       "4       0\n",
       "       ..\n",
       "9995    1\n",
       "9996    1\n",
       "9997    1\n",
       "9998    1\n",
       "9999    1\n",
       "Name: Label, Length: 10000, dtype: int64"
      ]
     },
     "execution_count": 26,
     "metadata": {},
     "output_type": "execute_result"
    }
   ],
   "source": [
    "y"
   ]
  },
  {
   "cell_type": "code",
   "execution_count": 27,
   "metadata": {},
   "outputs": [
    {
     "data": {
      "text/html": [
       "<div>\n",
       "<style scoped>\n",
       "    .dataframe tbody tr th:only-of-type {\n",
       "        vertical-align: middle;\n",
       "    }\n",
       "\n",
       "    .dataframe tbody tr th {\n",
       "        vertical-align: top;\n",
       "    }\n",
       "\n",
       "    .dataframe thead th {\n",
       "        text-align: right;\n",
       "    }\n",
       "</style>\n",
       "<table border=\"1\" class=\"dataframe\">\n",
       "  <thead>\n",
       "    <tr style=\"text-align: right;\">\n",
       "      <th></th>\n",
       "      <th>Src Port</th>\n",
       "      <th>Dst Port</th>\n",
       "      <th>Protocol</th>\n",
       "      <th>Src IP 1</th>\n",
       "      <th>Src IP 2</th>\n",
       "      <th>Src IP 3</th>\n",
       "      <th>Src IP 4</th>\n",
       "      <th>Dst IP 1</th>\n",
       "      <th>Dst IP 2</th>\n",
       "      <th>Dst IP 3</th>\n",
       "      <th>Dst IP 4</th>\n",
       "    </tr>\n",
       "  </thead>\n",
       "  <tbody>\n",
       "    <tr>\n",
       "      <th>0</th>\n",
       "      <td>54235</td>\n",
       "      <td>53</td>\n",
       "      <td>17</td>\n",
       "      <td>172</td>\n",
       "      <td>31</td>\n",
       "      <td>64</td>\n",
       "      <td>118</td>\n",
       "      <td>172</td>\n",
       "      <td>31</td>\n",
       "      <td>0</td>\n",
       "      <td>2</td>\n",
       "    </tr>\n",
       "    <tr>\n",
       "      <th>1</th>\n",
       "      <td>51902</td>\n",
       "      <td>80</td>\n",
       "      <td>6</td>\n",
       "      <td>172</td>\n",
       "      <td>31</td>\n",
       "      <td>66</td>\n",
       "      <td>123</td>\n",
       "      <td>169</td>\n",
       "      <td>254</td>\n",
       "      <td>169</td>\n",
       "      <td>254</td>\n",
       "    </tr>\n",
       "    <tr>\n",
       "      <th>2</th>\n",
       "      <td>443</td>\n",
       "      <td>52655</td>\n",
       "      <td>6</td>\n",
       "      <td>151</td>\n",
       "      <td>101</td>\n",
       "      <td>64</td>\n",
       "      <td>217</td>\n",
       "      <td>172</td>\n",
       "      <td>31</td>\n",
       "      <td>69</td>\n",
       "      <td>14</td>\n",
       "    </tr>\n",
       "    <tr>\n",
       "      <th>3</th>\n",
       "      <td>53434</td>\n",
       "      <td>443</td>\n",
       "      <td>6</td>\n",
       "      <td>172</td>\n",
       "      <td>31</td>\n",
       "      <td>66</td>\n",
       "      <td>84</td>\n",
       "      <td>23</td>\n",
       "      <td>15</td>\n",
       "      <td>8</td>\n",
       "      <td>160</td>\n",
       "    </tr>\n",
       "    <tr>\n",
       "      <th>4</th>\n",
       "      <td>60927</td>\n",
       "      <td>53</td>\n",
       "      <td>17</td>\n",
       "      <td>192</td>\n",
       "      <td>168</td>\n",
       "      <td>10</td>\n",
       "      <td>3</td>\n",
       "      <td>192</td>\n",
       "      <td>168</td>\n",
       "      <td>10</td>\n",
       "      <td>1</td>\n",
       "    </tr>\n",
       "    <tr>\n",
       "      <th>...</th>\n",
       "      <td>...</td>\n",
       "      <td>...</td>\n",
       "      <td>...</td>\n",
       "      <td>...</td>\n",
       "      <td>...</td>\n",
       "      <td>...</td>\n",
       "      <td>...</td>\n",
       "      <td>...</td>\n",
       "      <td>...</td>\n",
       "      <td>...</td>\n",
       "      <td>...</td>\n",
       "    </tr>\n",
       "    <tr>\n",
       "      <th>9995</th>\n",
       "      <td>51357</td>\n",
       "      <td>80</td>\n",
       "      <td>6</td>\n",
       "      <td>52</td>\n",
       "      <td>14</td>\n",
       "      <td>136</td>\n",
       "      <td>135</td>\n",
       "      <td>172</td>\n",
       "      <td>31</td>\n",
       "      <td>69</td>\n",
       "      <td>25</td>\n",
       "    </tr>\n",
       "    <tr>\n",
       "      <th>9996</th>\n",
       "      <td>80</td>\n",
       "      <td>65249</td>\n",
       "      <td>6</td>\n",
       "      <td>172</td>\n",
       "      <td>31</td>\n",
       "      <td>69</td>\n",
       "      <td>28</td>\n",
       "      <td>18</td>\n",
       "      <td>219</td>\n",
       "      <td>9</td>\n",
       "      <td>1</td>\n",
       "    </tr>\n",
       "    <tr>\n",
       "      <th>9997</th>\n",
       "      <td>60153</td>\n",
       "      <td>80</td>\n",
       "      <td>6</td>\n",
       "      <td>18</td>\n",
       "      <td>218</td>\n",
       "      <td>229</td>\n",
       "      <td>235</td>\n",
       "      <td>172</td>\n",
       "      <td>31</td>\n",
       "      <td>69</td>\n",
       "      <td>28</td>\n",
       "    </tr>\n",
       "    <tr>\n",
       "      <th>9998</th>\n",
       "      <td>80</td>\n",
       "      <td>36842</td>\n",
       "      <td>6</td>\n",
       "      <td>172</td>\n",
       "      <td>31</td>\n",
       "      <td>69</td>\n",
       "      <td>25</td>\n",
       "      <td>18</td>\n",
       "      <td>219</td>\n",
       "      <td>193</td>\n",
       "      <td>20</td>\n",
       "    </tr>\n",
       "    <tr>\n",
       "      <th>9999</th>\n",
       "      <td>57790</td>\n",
       "      <td>80</td>\n",
       "      <td>6</td>\n",
       "      <td>18</td>\n",
       "      <td>219</td>\n",
       "      <td>193</td>\n",
       "      <td>20</td>\n",
       "      <td>172</td>\n",
       "      <td>31</td>\n",
       "      <td>69</td>\n",
       "      <td>25</td>\n",
       "    </tr>\n",
       "  </tbody>\n",
       "</table>\n",
       "<p>10000 rows × 11 columns</p>\n",
       "</div>"
      ],
      "text/plain": [
       "      Src Port  Dst Port  Protocol Src IP 1 Src IP 2 Src IP 3 Src IP 4  \\\n",
       "0        54235        53        17      172       31       64      118   \n",
       "1        51902        80         6      172       31       66      123   \n",
       "2          443     52655         6      151      101       64      217   \n",
       "3        53434       443         6      172       31       66       84   \n",
       "4        60927        53        17      192      168       10        3   \n",
       "...        ...       ...       ...      ...      ...      ...      ...   \n",
       "9995     51357        80         6       52       14      136      135   \n",
       "9996        80     65249         6      172       31       69       28   \n",
       "9997     60153        80         6       18      218      229      235   \n",
       "9998        80     36842         6      172       31       69       25   \n",
       "9999     57790        80         6       18      219      193       20   \n",
       "\n",
       "     Dst IP 1 Dst IP 2 Dst IP 3 Dst IP 4  \n",
       "0         172       31        0        2  \n",
       "1         169      254      169      254  \n",
       "2         172       31       69       14  \n",
       "3          23       15        8      160  \n",
       "4         192      168       10        1  \n",
       "...       ...      ...      ...      ...  \n",
       "9995      172       31       69       25  \n",
       "9996       18      219        9        1  \n",
       "9997      172       31       69       28  \n",
       "9998       18      219      193       20  \n",
       "9999      172       31       69       25  \n",
       "\n",
       "[10000 rows x 11 columns]"
      ]
     },
     "execution_count": 27,
     "metadata": {},
     "output_type": "execute_result"
    }
   ],
   "source": [
    "df"
   ]
  },
  {
   "cell_type": "code",
   "execution_count": 28,
   "metadata": {},
   "outputs": [
    {
     "data": {
      "text/plain": [
       "Src Port     int64\n",
       "Dst Port     int64\n",
       "Protocol     int64\n",
       "Src IP 1    object\n",
       "Src IP 2    object\n",
       "Src IP 3    object\n",
       "Src IP 4    object\n",
       "Dst IP 1    object\n",
       "Dst IP 2    object\n",
       "Dst IP 3    object\n",
       "Dst IP 4    object\n",
       "dtype: object"
      ]
     },
     "execution_count": 28,
     "metadata": {},
     "output_type": "execute_result"
    }
   ],
   "source": [
    "df.dtypes"
   ]
  },
  {
   "cell_type": "code",
   "execution_count": 29,
   "metadata": {},
   "outputs": [],
   "source": [
    "# Need to confirm the int64-based columns to String\n",
    "# This prevents algorithms from treating them as numerical values\n",
    "\n",
    "df[\"Src Port\"] = df[\"Src Port\"].astype(\"str\")\n",
    "df[\"Dst Port\"] = df[\"Dst Port\"].astype(\"str\")\n",
    "df[\"Protocol\"] = df[\"Protocol\"].astype(\"str\")"
   ]
  },
  {
   "cell_type": "code",
   "execution_count": 30,
   "metadata": {},
   "outputs": [],
   "source": [
    "X=df"
   ]
  },
  {
   "cell_type": "code",
   "execution_count": 31,
   "metadata": {},
   "outputs": [],
   "source": [
    "X_train, X_test, y_train, y_test  = train_test_split(X, y, test_size=0.2, random_state=seed)"
   ]
  },
  {
   "cell_type": "code",
   "execution_count": 32,
   "metadata": {},
   "outputs": [],
   "source": [
    "# dummy encoding of categorical features\n",
    "from sklearn.preprocessing import OneHotEncoder\n",
    "ohe = OneHotEncoder(handle_unknown = 'ignore')"
   ]
  },
  {
   "cell_type": "code",
   "execution_count": 33,
   "metadata": {},
   "outputs": [],
   "source": [
    "X_train = ohe.fit_transform(X_train).toarray()"
   ]
  },
  {
   "cell_type": "code",
   "execution_count": 34,
   "metadata": {},
   "outputs": [],
   "source": [
    "X_test = ohe.transform(X_test).toarray()"
   ]
  },
  {
   "cell_type": "code",
   "execution_count": 35,
   "metadata": {},
   "outputs": [],
   "source": [
    "ohe_pickle = \"DDoS_ohe_pickle.sav\"\n",
    "pickle.dump(ohe, open(ohe_pickle, \"wb\"))\n",
    "time_taken = []"
   ]
  },
  {
   "cell_type": "markdown",
   "metadata": {},
   "source": [
    "# Hyperparameter tuning\n"
   ]
  },
  {
   "cell_type": "markdown",
   "metadata": {},
   "source": [
    "### Decision Tree"
   ]
  },
  {
   "cell_type": "code",
   "execution_count": 36,
   "metadata": {},
   "outputs": [],
   "source": [
    "train_accuracy_score = []"
   ]
  },
  {
   "cell_type": "code",
   "execution_count": 37,
   "metadata": {},
   "outputs": [],
   "source": [
    "decision_tree = DecisionTreeClassifier(random_state=seed)"
   ]
  },
  {
   "cell_type": "code",
   "execution_count": 38,
   "metadata": {},
   "outputs": [],
   "source": [
    "dt_parameters = {'max_features': ['log2', 'sqrt','auto', None], \n",
    "              'criterion': ['entropy', 'gini'],\n",
    "                 'splitter':['best', 'random'],\n",
    "                'max_depth': [2, 3, 5, 10, 50], \n",
    "              'min_samples_split': [2, 3, 5, 10],\n",
    "              'min_samples_leaf': [2, 3, 5, 10]\n",
    "             }"
   ]
  },
  {
   "cell_type": "raw",
   "metadata": {},
   "source": [
    "dt_parameters = {\"max_features\": [\"log2\"],\n",
    "                \"criterion\": [\"entropy\"]\n",
    "                }"
   ]
  },
  {
   "cell_type": "code",
   "execution_count": 39,
   "metadata": {},
   "outputs": [
    {
     "name": "stdout",
     "output_type": "stream",
     "text": [
      "Fitting 5 folds for each of 10 candidates, totalling 50 fits\n",
      "[Parallel(n_jobs=1)]: Using backend SequentialBackend with 1 concurrent workers.\n",
      "[CV] splitter=random, min_samples_split=10, min_samples_leaf=10, max_features=log2, max_depth=2, criterion=gini \n",
      "[CV]  splitter=random, min_samples_split=10, min_samples_leaf=10, max_features=log2, max_depth=2, criterion=gini, score=0.509, total=   0.5s\n",
      "[Parallel(n_jobs=1)]: Done   1 out of   1 | elapsed:    0.4s remaining:    0.0s\n",
      "[CV] splitter=random, min_samples_split=10, min_samples_leaf=10, max_features=log2, max_depth=2, criterion=gini \n",
      "[CV]  splitter=random, min_samples_split=10, min_samples_leaf=10, max_features=log2, max_depth=2, criterion=gini, score=0.510, total=   0.3s\n",
      "[Parallel(n_jobs=1)]: Done   2 out of   2 | elapsed:    0.8s remaining:    0.0s\n",
      "[CV] splitter=random, min_samples_split=10, min_samples_leaf=10, max_features=log2, max_depth=2, criterion=gini \n",
      "[CV]  splitter=random, min_samples_split=10, min_samples_leaf=10, max_features=log2, max_depth=2, criterion=gini, score=0.508, total=   0.3s\n",
      "[Parallel(n_jobs=1)]: Done   3 out of   3 | elapsed:    1.2s remaining:    0.0s\n",
      "[CV] splitter=random, min_samples_split=10, min_samples_leaf=10, max_features=log2, max_depth=2, criterion=gini \n",
      "[CV]  splitter=random, min_samples_split=10, min_samples_leaf=10, max_features=log2, max_depth=2, criterion=gini, score=0.509, total=   0.4s\n",
      "[Parallel(n_jobs=1)]: Done   4 out of   4 | elapsed:    1.6s remaining:    0.0s\n",
      "[CV] splitter=random, min_samples_split=10, min_samples_leaf=10, max_features=log2, max_depth=2, criterion=gini \n",
      "[CV]  splitter=random, min_samples_split=10, min_samples_leaf=10, max_features=log2, max_depth=2, criterion=gini, score=0.509, total=   0.3s\n",
      "[Parallel(n_jobs=1)]: Done   5 out of   5 | elapsed:    1.9s remaining:    0.0s\n",
      "[CV] splitter=random, min_samples_split=2, min_samples_leaf=10, max_features=auto, max_depth=2, criterion=entropy \n",
      "[CV]  splitter=random, min_samples_split=2, min_samples_leaf=10, max_features=auto, max_depth=2, criterion=entropy, score=0.513, total=   0.4s\n",
      "[Parallel(n_jobs=1)]: Done   6 out of   6 | elapsed:    2.3s remaining:    0.0s\n",
      "[CV] splitter=random, min_samples_split=2, min_samples_leaf=10, max_features=auto, max_depth=2, criterion=entropy \n",
      "[CV]  splitter=random, min_samples_split=2, min_samples_leaf=10, max_features=auto, max_depth=2, criterion=entropy, score=0.564, total=   0.4s\n",
      "[Parallel(n_jobs=1)]: Done   7 out of   7 | elapsed:    2.8s remaining:    0.0s\n",
      "[CV] splitter=random, min_samples_split=2, min_samples_leaf=10, max_features=auto, max_depth=2, criterion=entropy \n",
      "[CV]  splitter=random, min_samples_split=2, min_samples_leaf=10, max_features=auto, max_depth=2, criterion=entropy, score=0.535, total=   0.3s\n",
      "[Parallel(n_jobs=1)]: Done   8 out of   8 | elapsed:    3.1s remaining:    0.0s\n",
      "[CV] splitter=random, min_samples_split=2, min_samples_leaf=10, max_features=auto, max_depth=2, criterion=entropy \n",
      "[CV]  splitter=random, min_samples_split=2, min_samples_leaf=10, max_features=auto, max_depth=2, criterion=entropy, score=0.542, total=   0.4s\n",
      "[Parallel(n_jobs=1)]: Done   9 out of   9 | elapsed:    3.6s remaining:    0.0s\n",
      "[CV] splitter=random, min_samples_split=2, min_samples_leaf=10, max_features=auto, max_depth=2, criterion=entropy \n",
      "[CV]  splitter=random, min_samples_split=2, min_samples_leaf=10, max_features=auto, max_depth=2, criterion=entropy, score=0.521, total=   0.3s\n",
      "[Parallel(n_jobs=1)]: Done  10 out of  10 | elapsed:    3.9s remaining:    0.0s\n",
      "[CV] splitter=best, min_samples_split=2, min_samples_leaf=2, max_features=sqrt, max_depth=10, criterion=entropy \n",
      "[CV]  splitter=best, min_samples_split=2, min_samples_leaf=2, max_features=sqrt, max_depth=10, criterion=entropy, score=0.721, total=   0.4s\n",
      "[Parallel(n_jobs=1)]: Done  11 out of  11 | elapsed:    4.4s remaining:    0.0s\n",
      "[CV] splitter=best, min_samples_split=2, min_samples_leaf=2, max_features=sqrt, max_depth=10, criterion=entropy \n",
      "[CV]  splitter=best, min_samples_split=2, min_samples_leaf=2, max_features=sqrt, max_depth=10, criterion=entropy, score=0.688, total=   0.5s\n",
      "[Parallel(n_jobs=1)]: Done  12 out of  12 | elapsed:    4.9s remaining:    0.0s\n",
      "[CV] splitter=best, min_samples_split=2, min_samples_leaf=2, max_features=sqrt, max_depth=10, criterion=entropy \n",
      "[CV]  splitter=best, min_samples_split=2, min_samples_leaf=2, max_features=sqrt, max_depth=10, criterion=entropy, score=0.940, total=   0.5s\n",
      "[Parallel(n_jobs=1)]: Done  13 out of  13 | elapsed:    5.4s remaining:    0.0s\n",
      "[CV] splitter=best, min_samples_split=2, min_samples_leaf=2, max_features=sqrt, max_depth=10, criterion=entropy \n",
      "[CV]  splitter=best, min_samples_split=2, min_samples_leaf=2, max_features=sqrt, max_depth=10, criterion=entropy, score=0.697, total=   0.5s\n",
      "[Parallel(n_jobs=1)]: Done  14 out of  14 | elapsed:    5.9s remaining:    0.0s\n",
      "[CV] splitter=best, min_samples_split=2, min_samples_leaf=2, max_features=sqrt, max_depth=10, criterion=entropy \n",
      "[CV]  splitter=best, min_samples_split=2, min_samples_leaf=2, max_features=sqrt, max_depth=10, criterion=entropy, score=0.664, total=   0.5s\n",
      "[Parallel(n_jobs=1)]: Done  15 out of  15 | elapsed:    6.4s remaining:    0.0s\n",
      "[CV] splitter=random, min_samples_split=3, min_samples_leaf=5, max_features=sqrt, max_depth=3, criterion=entropy \n",
      "[CV]  splitter=random, min_samples_split=3, min_samples_leaf=5, max_features=sqrt, max_depth=3, criterion=entropy, score=0.667, total=   0.4s\n",
      "[Parallel(n_jobs=1)]: Done  16 out of  16 | elapsed:    6.9s remaining:    0.0s\n",
      "[CV] splitter=random, min_samples_split=3, min_samples_leaf=5, max_features=sqrt, max_depth=3, criterion=entropy \n",
      "[CV]  splitter=random, min_samples_split=3, min_samples_leaf=5, max_features=sqrt, max_depth=3, criterion=entropy, score=0.593, total=   0.3s\n",
      "[Parallel(n_jobs=1)]: Done  17 out of  17 | elapsed:    7.3s remaining:    0.0s\n",
      "[CV] splitter=random, min_samples_split=3, min_samples_leaf=5, max_features=sqrt, max_depth=3, criterion=entropy \n",
      "[CV]  splitter=random, min_samples_split=3, min_samples_leaf=5, max_features=sqrt, max_depth=3, criterion=entropy, score=0.535, total=   0.4s\n",
      "[Parallel(n_jobs=1)]: Done  18 out of  18 | elapsed:    7.7s remaining:    0.0s\n",
      "[CV] splitter=random, min_samples_split=3, min_samples_leaf=5, max_features=sqrt, max_depth=3, criterion=entropy \n",
      "[CV]  splitter=random, min_samples_split=3, min_samples_leaf=5, max_features=sqrt, max_depth=3, criterion=entropy, score=0.542, total=   0.3s\n",
      "[Parallel(n_jobs=1)]: Done  19 out of  19 | elapsed:    8.1s remaining:    0.0s\n",
      "[CV] splitter=random, min_samples_split=3, min_samples_leaf=5, max_features=sqrt, max_depth=3, criterion=entropy \n",
      "[CV]  splitter=random, min_samples_split=3, min_samples_leaf=5, max_features=sqrt, max_depth=3, criterion=entropy, score=0.521, total=   0.4s\n",
      "[Parallel(n_jobs=1)]: Done  20 out of  20 | elapsed:    8.5s remaining:    0.0s\n",
      "[CV] splitter=best, min_samples_split=10, min_samples_leaf=2, max_features=sqrt, max_depth=2, criterion=gini \n",
      "[CV]  splitter=best, min_samples_split=10, min_samples_leaf=2, max_features=sqrt, max_depth=2, criterion=gini, score=0.515, total=   0.3s\n",
      "[Parallel(n_jobs=1)]: Done  21 out of  21 | elapsed:    8.9s remaining:    0.0s\n",
      "[CV] splitter=best, min_samples_split=10, min_samples_leaf=2, max_features=sqrt, max_depth=2, criterion=gini \n",
      "[CV]  splitter=best, min_samples_split=10, min_samples_leaf=2, max_features=sqrt, max_depth=2, criterion=gini, score=0.630, total=   0.3s\n",
      "[Parallel(n_jobs=1)]: Done  22 out of  22 | elapsed:    9.3s remaining:    0.0s\n",
      "[CV] splitter=best, min_samples_split=10, min_samples_leaf=2, max_features=sqrt, max_depth=2, criterion=gini \n",
      "[CV]  splitter=best, min_samples_split=10, min_samples_leaf=2, max_features=sqrt, max_depth=2, criterion=gini, score=0.620, total=   0.4s\n",
      "[Parallel(n_jobs=1)]: Done  23 out of  23 | elapsed:    9.7s remaining:    0.0s\n",
      "[CV] splitter=best, min_samples_split=10, min_samples_leaf=2, max_features=sqrt, max_depth=2, criterion=gini \n",
      "[CV]  splitter=best, min_samples_split=10, min_samples_leaf=2, max_features=sqrt, max_depth=2, criterion=gini, score=0.658, total=   0.3s\n",
      "[Parallel(n_jobs=1)]: Done  24 out of  24 | elapsed:   10.1s remaining:    0.0s\n",
      "[CV] splitter=best, min_samples_split=10, min_samples_leaf=2, max_features=sqrt, max_depth=2, criterion=gini \n"
     ]
    },
    {
     "name": "stdout",
     "output_type": "stream",
     "text": [
      "[CV]  splitter=best, min_samples_split=10, min_samples_leaf=2, max_features=sqrt, max_depth=2, criterion=gini, score=0.648, total=   0.4s\n",
      "[Parallel(n_jobs=1)]: Done  25 out of  25 | elapsed:   10.5s remaining:    0.0s\n",
      "[CV] splitter=best, min_samples_split=3, min_samples_leaf=10, max_features=sqrt, max_depth=2, criterion=gini \n",
      "[CV]  splitter=best, min_samples_split=3, min_samples_leaf=10, max_features=sqrt, max_depth=2, criterion=gini, score=0.515, total=   0.3s\n",
      "[Parallel(n_jobs=1)]: Done  26 out of  26 | elapsed:   10.9s remaining:    0.0s\n",
      "[CV] splitter=best, min_samples_split=3, min_samples_leaf=10, max_features=sqrt, max_depth=2, criterion=gini \n",
      "[CV]  splitter=best, min_samples_split=3, min_samples_leaf=10, max_features=sqrt, max_depth=2, criterion=gini, score=0.630, total=   0.3s\n",
      "[Parallel(n_jobs=1)]: Done  27 out of  27 | elapsed:   11.3s remaining:    0.0s\n",
      "[CV] splitter=best, min_samples_split=3, min_samples_leaf=10, max_features=sqrt, max_depth=2, criterion=gini \n",
      "[CV]  splitter=best, min_samples_split=3, min_samples_leaf=10, max_features=sqrt, max_depth=2, criterion=gini, score=0.620, total=   0.4s\n",
      "[Parallel(n_jobs=1)]: Done  28 out of  28 | elapsed:   11.7s remaining:    0.0s\n",
      "[CV] splitter=best, min_samples_split=3, min_samples_leaf=10, max_features=sqrt, max_depth=2, criterion=gini \n",
      "[CV]  splitter=best, min_samples_split=3, min_samples_leaf=10, max_features=sqrt, max_depth=2, criterion=gini, score=0.658, total=   0.3s\n",
      "[Parallel(n_jobs=1)]: Done  29 out of  29 | elapsed:   12.1s remaining:    0.0s\n",
      "[CV] splitter=best, min_samples_split=3, min_samples_leaf=10, max_features=sqrt, max_depth=2, criterion=gini \n",
      "[CV]  splitter=best, min_samples_split=3, min_samples_leaf=10, max_features=sqrt, max_depth=2, criterion=gini, score=0.648, total=   0.4s\n",
      "[Parallel(n_jobs=1)]: Done  30 out of  30 | elapsed:   12.5s remaining:    0.0s\n",
      "[CV] splitter=random, min_samples_split=10, min_samples_leaf=3, max_features=log2, max_depth=2, criterion=entropy \n",
      "[CV]  splitter=random, min_samples_split=10, min_samples_leaf=3, max_features=log2, max_depth=2, criterion=entropy, score=0.509, total=   0.3s\n",
      "[Parallel(n_jobs=1)]: Done  31 out of  31 | elapsed:   12.9s remaining:    0.0s\n",
      "[CV] splitter=random, min_samples_split=10, min_samples_leaf=3, max_features=log2, max_depth=2, criterion=entropy \n",
      "[CV]  splitter=random, min_samples_split=10, min_samples_leaf=3, max_features=log2, max_depth=2, criterion=entropy, score=0.510, total=   0.3s\n",
      "[Parallel(n_jobs=1)]: Done  32 out of  32 | elapsed:   13.3s remaining:    0.0s\n",
      "[CV] splitter=random, min_samples_split=10, min_samples_leaf=3, max_features=log2, max_depth=2, criterion=entropy \n",
      "[CV]  splitter=random, min_samples_split=10, min_samples_leaf=3, max_features=log2, max_depth=2, criterion=entropy, score=0.508, total=   0.4s\n",
      "[Parallel(n_jobs=1)]: Done  33 out of  33 | elapsed:   13.7s remaining:    0.0s\n",
      "[CV] splitter=random, min_samples_split=10, min_samples_leaf=3, max_features=log2, max_depth=2, criterion=entropy \n",
      "[CV]  splitter=random, min_samples_split=10, min_samples_leaf=3, max_features=log2, max_depth=2, criterion=entropy, score=0.509, total=   0.3s\n",
      "[Parallel(n_jobs=1)]: Done  34 out of  34 | elapsed:   14.0s remaining:    0.0s\n",
      "[CV] splitter=random, min_samples_split=10, min_samples_leaf=3, max_features=log2, max_depth=2, criterion=entropy \n",
      "[CV]  splitter=random, min_samples_split=10, min_samples_leaf=3, max_features=log2, max_depth=2, criterion=entropy, score=0.509, total=   0.4s\n",
      "[Parallel(n_jobs=1)]: Done  35 out of  35 | elapsed:   14.4s remaining:    0.0s\n",
      "[CV] splitter=best, min_samples_split=5, min_samples_leaf=2, max_features=None, max_depth=50, criterion=entropy \n",
      "[CV]  splitter=best, min_samples_split=5, min_samples_leaf=2, max_features=None, max_depth=50, criterion=entropy, score=1.000, total=   2.9s\n",
      "[Parallel(n_jobs=1)]: Done  36 out of  36 | elapsed:   17.4s remaining:    0.0s\n",
      "[CV] splitter=best, min_samples_split=5, min_samples_leaf=2, max_features=None, max_depth=50, criterion=entropy \n",
      "[CV]  splitter=best, min_samples_split=5, min_samples_leaf=2, max_features=None, max_depth=50, criterion=entropy, score=1.000, total=   2.7s\n",
      "[Parallel(n_jobs=1)]: Done  37 out of  37 | elapsed:   20.2s remaining:    0.0s\n",
      "[CV] splitter=best, min_samples_split=5, min_samples_leaf=2, max_features=None, max_depth=50, criterion=entropy \n",
      "[CV]  splitter=best, min_samples_split=5, min_samples_leaf=2, max_features=None, max_depth=50, criterion=entropy, score=1.000, total=   3.0s\n",
      "[Parallel(n_jobs=1)]: Done  38 out of  38 | elapsed:   23.2s remaining:    0.0s\n",
      "[CV] splitter=best, min_samples_split=5, min_samples_leaf=2, max_features=None, max_depth=50, criterion=entropy \n",
      "[CV]  splitter=best, min_samples_split=5, min_samples_leaf=2, max_features=None, max_depth=50, criterion=entropy, score=0.999, total=   3.1s\n",
      "[Parallel(n_jobs=1)]: Done  39 out of  39 | elapsed:   26.3s remaining:    0.0s\n",
      "[CV] splitter=best, min_samples_split=5, min_samples_leaf=2, max_features=None, max_depth=50, criterion=entropy \n",
      "[CV]  splitter=best, min_samples_split=5, min_samples_leaf=2, max_features=None, max_depth=50, criterion=entropy, score=0.999, total=   3.0s\n",
      "[Parallel(n_jobs=1)]: Done  40 out of  40 | elapsed:   29.3s remaining:    0.0s\n",
      "[CV] splitter=random, min_samples_split=2, min_samples_leaf=3, max_features=sqrt, max_depth=10, criterion=entropy \n",
      "[CV]  splitter=random, min_samples_split=2, min_samples_leaf=3, max_features=sqrt, max_depth=10, criterion=entropy, score=0.979, total=   0.4s\n",
      "[Parallel(n_jobs=1)]: Done  41 out of  41 | elapsed:   29.7s remaining:    0.0s\n",
      "[CV] splitter=random, min_samples_split=2, min_samples_leaf=3, max_features=sqrt, max_depth=10, criterion=entropy \n",
      "[CV]  splitter=random, min_samples_split=2, min_samples_leaf=3, max_features=sqrt, max_depth=10, criterion=entropy, score=0.767, total=   0.4s\n",
      "[Parallel(n_jobs=1)]: Done  42 out of  42 | elapsed:   30.2s remaining:    0.0s\n",
      "[CV] splitter=random, min_samples_split=2, min_samples_leaf=3, max_features=sqrt, max_depth=10, criterion=entropy \n",
      "[CV]  splitter=random, min_samples_split=2, min_samples_leaf=3, max_features=sqrt, max_depth=10, criterion=entropy, score=0.626, total=   0.5s\n",
      "[Parallel(n_jobs=1)]: Done  43 out of  43 | elapsed:   30.7s remaining:    0.0s\n",
      "[CV] splitter=random, min_samples_split=2, min_samples_leaf=3, max_features=sqrt, max_depth=10, criterion=entropy \n",
      "[CV]  splitter=random, min_samples_split=2, min_samples_leaf=3, max_features=sqrt, max_depth=10, criterion=entropy, score=0.926, total=   0.4s\n",
      "[Parallel(n_jobs=1)]: Done  44 out of  44 | elapsed:   31.1s remaining:    0.0s\n",
      "[CV] splitter=random, min_samples_split=2, min_samples_leaf=3, max_features=sqrt, max_depth=10, criterion=entropy \n",
      "[CV]  splitter=random, min_samples_split=2, min_samples_leaf=3, max_features=sqrt, max_depth=10, criterion=entropy, score=0.902, total=   0.4s\n",
      "[Parallel(n_jobs=1)]: Done  45 out of  45 | elapsed:   31.6s remaining:    0.0s\n",
      "[CV] splitter=random, min_samples_split=10, min_samples_leaf=10, max_features=auto, max_depth=2, criterion=entropy \n",
      "[CV]  splitter=random, min_samples_split=10, min_samples_leaf=10, max_features=auto, max_depth=2, criterion=entropy, score=0.513, total=   0.3s\n",
      "[Parallel(n_jobs=1)]: Done  46 out of  46 | elapsed:   32.0s remaining:    0.0s\n",
      "[CV] splitter=random, min_samples_split=10, min_samples_leaf=10, max_features=auto, max_depth=2, criterion=entropy \n",
      "[CV]  splitter=random, min_samples_split=10, min_samples_leaf=10, max_features=auto, max_depth=2, criterion=entropy, score=0.564, total=   0.4s\n",
      "[Parallel(n_jobs=1)]: Done  47 out of  47 | elapsed:   32.4s remaining:    0.0s\n",
      "[CV] splitter=random, min_samples_split=10, min_samples_leaf=10, max_features=auto, max_depth=2, criterion=entropy \n",
      "[CV]  splitter=random, min_samples_split=10, min_samples_leaf=10, max_features=auto, max_depth=2, criterion=entropy, score=0.535, total=   0.4s\n",
      "[Parallel(n_jobs=1)]: Done  48 out of  48 | elapsed:   32.8s remaining:    0.0s\n",
      "[CV] splitter=random, min_samples_split=10, min_samples_leaf=10, max_features=auto, max_depth=2, criterion=entropy \n",
      "[CV]  splitter=random, min_samples_split=10, min_samples_leaf=10, max_features=auto, max_depth=2, criterion=entropy, score=0.542, total=   0.3s\n",
      "[Parallel(n_jobs=1)]: Done  49 out of  49 | elapsed:   33.2s remaining:    0.0s\n",
      "[CV] splitter=random, min_samples_split=10, min_samples_leaf=10, max_features=auto, max_depth=2, criterion=entropy \n"
     ]
    },
    {
     "name": "stdout",
     "output_type": "stream",
     "text": [
      "[CV]  splitter=random, min_samples_split=10, min_samples_leaf=10, max_features=auto, max_depth=2, criterion=entropy, score=0.521, total=   0.4s\n",
      "[Parallel(n_jobs=1)]: Done  50 out of  50 | elapsed:   33.6s remaining:    0.0s\n",
      "[Parallel(n_jobs=1)]: Done  50 out of  50 | elapsed:   33.6s finished\n"
     ]
    }
   ],
   "source": [
    "\n",
    "best_dt = RandomizedSearchCV(decision_tree, dt_parameters, n_iter=10, cv=5, random_state=seed, verbose=100, scoring=\"accuracy\")\n",
    "dt_start = time.time()\n",
    "best_dt.fit(X_train, y_train)\n",
    "dt_end = time.time()\n",
    "dt_time_taken = (dt_end-dt_start)/50"
   ]
  },
  {
   "cell_type": "code",
   "execution_count": 40,
   "metadata": {},
   "outputs": [
    {
     "name": "stdout",
     "output_type": "stream",
     "text": [
      "0.7524882984161377\n"
     ]
    }
   ],
   "source": [
    "print(dt_time_taken)"
   ]
  },
  {
   "cell_type": "code",
   "execution_count": 41,
   "metadata": {},
   "outputs": [],
   "source": [
    "time_taken.append(dt_time_taken)"
   ]
  },
  {
   "cell_type": "code",
   "execution_count": 42,
   "metadata": {},
   "outputs": [
    {
     "data": {
      "text/plain": [
       "{'splitter': 'best',\n",
       " 'min_samples_split': 5,\n",
       " 'min_samples_leaf': 2,\n",
       " 'max_features': None,\n",
       " 'max_depth': 50,\n",
       " 'criterion': 'entropy'}"
      ]
     },
     "execution_count": 42,
     "metadata": {},
     "output_type": "execute_result"
    }
   ],
   "source": [
    "best_dt.best_params_"
   ]
  },
  {
   "cell_type": "raw",
   "metadata": {},
   "source": [
    "dt_y_pred=best_dt.predict(X_val)"
   ]
  },
  {
   "cell_type": "raw",
   "metadata": {},
   "source": [
    "print(classification_report(y_val, dt_y_pred))"
   ]
  },
  {
   "cell_type": "code",
   "execution_count": 43,
   "metadata": {},
   "outputs": [],
   "source": [
    "dt_pickle = \"DDoS_dt_pickle.sav\"\n",
    "pickle.dump(best_dt, open(dt_pickle, \"wb\"))"
   ]
  },
  {
   "cell_type": "raw",
   "metadata": {},
   "source": [
    "dt_accuracy = accuracy_score(y_val, dt_y_pred)"
   ]
  },
  {
   "cell_type": "code",
   "execution_count": 44,
   "metadata": {},
   "outputs": [],
   "source": [
    "dt_accuracy = best_dt.best_score_"
   ]
  },
  {
   "cell_type": "code",
   "execution_count": 45,
   "metadata": {},
   "outputs": [
    {
     "data": {
      "text/plain": [
       "0.99975"
      ]
     },
     "execution_count": 45,
     "metadata": {},
     "output_type": "execute_result"
    }
   ],
   "source": [
    "dt_accuracy"
   ]
  },
  {
   "cell_type": "code",
   "execution_count": 46,
   "metadata": {},
   "outputs": [],
   "source": [
    "train_accuracy_score.append(dt_accuracy)"
   ]
  },
  {
   "cell_type": "code",
   "execution_count": 47,
   "metadata": {},
   "outputs": [
    {
     "data": {
      "text/plain": [
       "[0.99975]"
      ]
     },
     "execution_count": 47,
     "metadata": {},
     "output_type": "execute_result"
    }
   ],
   "source": [
    "train_accuracy_score"
   ]
  },
  {
   "cell_type": "markdown",
   "metadata": {},
   "source": [
    "### Random Forest"
   ]
  },
  {
   "cell_type": "code",
   "execution_count": 48,
   "metadata": {},
   "outputs": [],
   "source": [
    "random_forest = RandomForestClassifier(random_state=seed)"
   ]
  },
  {
   "cell_type": "code",
   "execution_count": 49,
   "metadata": {},
   "outputs": [],
   "source": [
    "rf_parameters = {\"n_estimators\":[10, 50, 100],\n",
    "                 \"max_features\":[\"log2\", \"sqrt\", \"auto\", None],\n",
    "                 \"criterion\":[\"entropy\", \"gini\"],\n",
    "                 \"max_depth\":[2, 3, 5, 10, 50],\n",
    "                 \"min_samples_split\":[2, 3, 5],\n",
    "                 \"min_samples_leaf\":[2, 3, 5]\n",
    "}"
   ]
  },
  {
   "cell_type": "raw",
   "metadata": {},
   "source": [
    "rf_parameters = {\"n_estimators\": [10],\n",
    "                \"max_features\": [\"log2\"]}"
   ]
  },
  {
   "cell_type": "code",
   "execution_count": 50,
   "metadata": {},
   "outputs": [
    {
     "name": "stdout",
     "output_type": "stream",
     "text": [
      "Fitting 5 folds for each of 10 candidates, totalling 50 fits\n",
      "[Parallel(n_jobs=1)]: Using backend SequentialBackend with 1 concurrent workers.\n",
      "[CV] n_estimators=100, min_samples_split=3, min_samples_leaf=5, max_features=log2, max_depth=3, criterion=gini \n",
      "[CV]  n_estimators=100, min_samples_split=3, min_samples_leaf=5, max_features=log2, max_depth=3, criterion=gini, score=0.833, total=   0.6s\n",
      "[Parallel(n_jobs=1)]: Done   1 out of   1 | elapsed:    0.6s remaining:    0.0s\n",
      "[CV] n_estimators=100, min_samples_split=3, min_samples_leaf=5, max_features=log2, max_depth=3, criterion=gini \n",
      "[CV]  n_estimators=100, min_samples_split=3, min_samples_leaf=5, max_features=log2, max_depth=3, criterion=gini, score=0.732, total=   0.7s\n",
      "[Parallel(n_jobs=1)]: Done   2 out of   2 | elapsed:    1.3s remaining:    0.0s\n",
      "[CV] n_estimators=100, min_samples_split=3, min_samples_leaf=5, max_features=log2, max_depth=3, criterion=gini \n",
      "[CV]  n_estimators=100, min_samples_split=3, min_samples_leaf=5, max_features=log2, max_depth=3, criterion=gini, score=0.749, total=   0.6s\n",
      "[Parallel(n_jobs=1)]: Done   3 out of   3 | elapsed:    2.0s remaining:    0.0s\n",
      "[CV] n_estimators=100, min_samples_split=3, min_samples_leaf=5, max_features=log2, max_depth=3, criterion=gini \n",
      "[CV]  n_estimators=100, min_samples_split=3, min_samples_leaf=5, max_features=log2, max_depth=3, criterion=gini, score=0.736, total=   0.6s\n",
      "[Parallel(n_jobs=1)]: Done   4 out of   4 | elapsed:    2.7s remaining:    0.0s\n",
      "[CV] n_estimators=100, min_samples_split=3, min_samples_leaf=5, max_features=log2, max_depth=3, criterion=gini \n",
      "[CV]  n_estimators=100, min_samples_split=3, min_samples_leaf=5, max_features=log2, max_depth=3, criterion=gini, score=0.694, total=   0.6s\n",
      "[Parallel(n_jobs=1)]: Done   5 out of   5 | elapsed:    3.3s remaining:    0.0s\n",
      "[CV] n_estimators=100, min_samples_split=5, min_samples_leaf=2, max_features=None, max_depth=2, criterion=entropy \n",
      "[CV]  n_estimators=100, min_samples_split=5, min_samples_leaf=2, max_features=None, max_depth=2, criterion=entropy, score=0.958, total= 1.6min\n",
      "[Parallel(n_jobs=1)]: Done   6 out of   6 | elapsed:  1.6min remaining:    0.0s\n",
      "[CV] n_estimators=100, min_samples_split=5, min_samples_leaf=2, max_features=None, max_depth=2, criterion=entropy \n",
      "[CV]  n_estimators=100, min_samples_split=5, min_samples_leaf=2, max_features=None, max_depth=2, criterion=entropy, score=0.982, total= 1.6min\n",
      "[Parallel(n_jobs=1)]: Done   7 out of   7 | elapsed:  3.2min remaining:    0.0s\n",
      "[CV] n_estimators=100, min_samples_split=5, min_samples_leaf=2, max_features=None, max_depth=2, criterion=entropy \n",
      "[CV]  n_estimators=100, min_samples_split=5, min_samples_leaf=2, max_features=None, max_depth=2, criterion=entropy, score=0.968, total= 1.6min\n",
      "[Parallel(n_jobs=1)]: Done   8 out of   8 | elapsed:  4.7min remaining:    0.0s\n",
      "[CV] n_estimators=100, min_samples_split=5, min_samples_leaf=2, max_features=None, max_depth=2, criterion=entropy \n",
      "[CV]  n_estimators=100, min_samples_split=5, min_samples_leaf=2, max_features=None, max_depth=2, criterion=entropy, score=0.966, total= 1.6min\n",
      "[Parallel(n_jobs=1)]: Done   9 out of   9 | elapsed:  6.3min remaining:    0.0s\n",
      "[CV] n_estimators=100, min_samples_split=5, min_samples_leaf=2, max_features=None, max_depth=2, criterion=entropy \n",
      "[CV]  n_estimators=100, min_samples_split=5, min_samples_leaf=2, max_features=None, max_depth=2, criterion=entropy, score=0.966, total= 1.6min\n",
      "[Parallel(n_jobs=1)]: Done  10 out of  10 | elapsed:  7.9min remaining:    0.0s\n",
      "[CV] n_estimators=100, min_samples_split=2, min_samples_leaf=3, max_features=None, max_depth=10, criterion=entropy \n",
      "[CV]  n_estimators=100, min_samples_split=2, min_samples_leaf=3, max_features=None, max_depth=10, criterion=entropy, score=1.000, total= 2.3min\n",
      "[Parallel(n_jobs=1)]: Done  11 out of  11 | elapsed: 10.1min remaining:    0.0s\n",
      "[CV] n_estimators=100, min_samples_split=2, min_samples_leaf=3, max_features=None, max_depth=10, criterion=entropy \n",
      "[CV]  n_estimators=100, min_samples_split=2, min_samples_leaf=3, max_features=None, max_depth=10, criterion=entropy, score=1.000, total= 2.1min\n",
      "[Parallel(n_jobs=1)]: Done  12 out of  12 | elapsed: 12.3min remaining:    0.0s\n",
      "[CV] n_estimators=100, min_samples_split=2, min_samples_leaf=3, max_features=None, max_depth=10, criterion=entropy \n",
      "[CV]  n_estimators=100, min_samples_split=2, min_samples_leaf=3, max_features=None, max_depth=10, criterion=entropy, score=1.000, total= 2.2min\n",
      "[Parallel(n_jobs=1)]: Done  13 out of  13 | elapsed: 14.5min remaining:    0.0s\n",
      "[CV] n_estimators=100, min_samples_split=2, min_samples_leaf=3, max_features=None, max_depth=10, criterion=entropy \n",
      "[CV]  n_estimators=100, min_samples_split=2, min_samples_leaf=3, max_features=None, max_depth=10, criterion=entropy, score=0.999, total= 2.2min\n",
      "[Parallel(n_jobs=1)]: Done  14 out of  14 | elapsed: 16.7min remaining:    0.0s\n",
      "[CV] n_estimators=100, min_samples_split=2, min_samples_leaf=3, max_features=None, max_depth=10, criterion=entropy \n",
      "[CV]  n_estimators=100, min_samples_split=2, min_samples_leaf=3, max_features=None, max_depth=10, criterion=entropy, score=0.999, total= 2.2min\n",
      "[Parallel(n_jobs=1)]: Done  15 out of  15 | elapsed: 18.9min remaining:    0.0s\n",
      "[CV] n_estimators=100, min_samples_split=5, min_samples_leaf=3, max_features=auto, max_depth=3, criterion=entropy \n",
      "[CV]  n_estimators=100, min_samples_split=5, min_samples_leaf=3, max_features=auto, max_depth=3, criterion=entropy, score=0.994, total=   2.2s\n",
      "[Parallel(n_jobs=1)]: Done  16 out of  16 | elapsed: 18.9min remaining:    0.0s\n",
      "[CV] n_estimators=100, min_samples_split=5, min_samples_leaf=3, max_features=auto, max_depth=3, criterion=entropy \n",
      "[CV]  n_estimators=100, min_samples_split=5, min_samples_leaf=3, max_features=auto, max_depth=3, criterion=entropy, score=0.993, total=   2.2s\n",
      "[Parallel(n_jobs=1)]: Done  17 out of  17 | elapsed: 18.9min remaining:    0.0s\n",
      "[CV] n_estimators=100, min_samples_split=5, min_samples_leaf=3, max_features=auto, max_depth=3, criterion=entropy \n",
      "[CV]  n_estimators=100, min_samples_split=5, min_samples_leaf=3, max_features=auto, max_depth=3, criterion=entropy, score=0.989, total=   2.2s\n",
      "[Parallel(n_jobs=1)]: Done  18 out of  18 | elapsed: 19.0min remaining:    0.0s\n",
      "[CV] n_estimators=100, min_samples_split=5, min_samples_leaf=3, max_features=auto, max_depth=3, criterion=entropy \n",
      "[CV]  n_estimators=100, min_samples_split=5, min_samples_leaf=3, max_features=auto, max_depth=3, criterion=entropy, score=0.988, total=   2.2s\n",
      "[Parallel(n_jobs=1)]: Done  19 out of  19 | elapsed: 19.0min remaining:    0.0s\n",
      "[CV] n_estimators=100, min_samples_split=5, min_samples_leaf=3, max_features=auto, max_depth=3, criterion=entropy \n",
      "[CV]  n_estimators=100, min_samples_split=5, min_samples_leaf=3, max_features=auto, max_depth=3, criterion=entropy, score=0.987, total=   2.2s\n",
      "[Parallel(n_jobs=1)]: Done  20 out of  20 | elapsed: 19.1min remaining:    0.0s\n",
      "[CV] n_estimators=10, min_samples_split=3, min_samples_leaf=2, max_features=sqrt, max_depth=3, criterion=gini \n",
      "[CV]  n_estimators=10, min_samples_split=3, min_samples_leaf=2, max_features=sqrt, max_depth=3, criterion=gini, score=0.847, total=   0.5s\n",
      "[Parallel(n_jobs=1)]: Done  21 out of  21 | elapsed: 19.1min remaining:    0.0s\n",
      "[CV] n_estimators=10, min_samples_split=3, min_samples_leaf=2, max_features=sqrt, max_depth=3, criterion=gini \n",
      "[CV]  n_estimators=10, min_samples_split=3, min_samples_leaf=2, max_features=sqrt, max_depth=3, criterion=gini, score=0.816, total=   0.5s\n",
      "[Parallel(n_jobs=1)]: Done  22 out of  22 | elapsed: 19.1min remaining:    0.0s\n",
      "[CV] n_estimators=10, min_samples_split=3, min_samples_leaf=2, max_features=sqrt, max_depth=3, criterion=gini \n",
      "[CV]  n_estimators=10, min_samples_split=3, min_samples_leaf=2, max_features=sqrt, max_depth=3, criterion=gini, score=0.815, total=   0.5s\n",
      "[Parallel(n_jobs=1)]: Done  23 out of  23 | elapsed: 19.1min remaining:    0.0s\n",
      "[CV] n_estimators=10, min_samples_split=3, min_samples_leaf=2, max_features=sqrt, max_depth=3, criterion=gini \n",
      "[CV]  n_estimators=10, min_samples_split=3, min_samples_leaf=2, max_features=sqrt, max_depth=3, criterion=gini, score=0.789, total=   0.5s\n",
      "[Parallel(n_jobs=1)]: Done  24 out of  24 | elapsed: 19.1min remaining:    0.0s\n",
      "[CV] n_estimators=10, min_samples_split=3, min_samples_leaf=2, max_features=sqrt, max_depth=3, criterion=gini \n"
     ]
    },
    {
     "name": "stdout",
     "output_type": "stream",
     "text": [
      "[CV]  n_estimators=10, min_samples_split=3, min_samples_leaf=2, max_features=sqrt, max_depth=3, criterion=gini, score=0.842, total=   0.5s\n",
      "[Parallel(n_jobs=1)]: Done  25 out of  25 | elapsed: 19.1min remaining:    0.0s\n",
      "[CV] n_estimators=100, min_samples_split=3, min_samples_leaf=5, max_features=sqrt, max_depth=3, criterion=gini \n",
      "[CV]  n_estimators=100, min_samples_split=3, min_samples_leaf=5, max_features=sqrt, max_depth=3, criterion=gini, score=0.994, total=   2.2s\n",
      "[Parallel(n_jobs=1)]: Done  26 out of  26 | elapsed: 19.1min remaining:    0.0s\n",
      "[CV] n_estimators=100, min_samples_split=3, min_samples_leaf=5, max_features=sqrt, max_depth=3, criterion=gini \n",
      "[CV]  n_estimators=100, min_samples_split=3, min_samples_leaf=5, max_features=sqrt, max_depth=3, criterion=gini, score=0.992, total=   2.2s\n",
      "[Parallel(n_jobs=1)]: Done  27 out of  27 | elapsed: 19.2min remaining:    0.0s\n",
      "[CV] n_estimators=100, min_samples_split=3, min_samples_leaf=5, max_features=sqrt, max_depth=3, criterion=gini \n",
      "[CV]  n_estimators=100, min_samples_split=3, min_samples_leaf=5, max_features=sqrt, max_depth=3, criterion=gini, score=0.988, total=   2.2s\n",
      "[Parallel(n_jobs=1)]: Done  28 out of  28 | elapsed: 19.2min remaining:    0.0s\n",
      "[CV] n_estimators=100, min_samples_split=3, min_samples_leaf=5, max_features=sqrt, max_depth=3, criterion=gini \n",
      "[CV]  n_estimators=100, min_samples_split=3, min_samples_leaf=5, max_features=sqrt, max_depth=3, criterion=gini, score=0.988, total=   2.2s\n",
      "[Parallel(n_jobs=1)]: Done  29 out of  29 | elapsed: 19.2min remaining:    0.0s\n",
      "[CV] n_estimators=100, min_samples_split=3, min_samples_leaf=5, max_features=sqrt, max_depth=3, criterion=gini \n",
      "[CV]  n_estimators=100, min_samples_split=3, min_samples_leaf=5, max_features=sqrt, max_depth=3, criterion=gini, score=0.986, total=   2.2s\n",
      "[Parallel(n_jobs=1)]: Done  30 out of  30 | elapsed: 19.3min remaining:    0.0s\n",
      "[CV] n_estimators=10, min_samples_split=5, min_samples_leaf=3, max_features=log2, max_depth=2, criterion=entropy \n",
      "[CV]  n_estimators=10, min_samples_split=5, min_samples_leaf=3, max_features=log2, max_depth=2, criterion=entropy, score=0.539, total=   0.3s\n",
      "[Parallel(n_jobs=1)]: Done  31 out of  31 | elapsed: 19.3min remaining:    0.0s\n",
      "[CV] n_estimators=10, min_samples_split=5, min_samples_leaf=3, max_features=log2, max_depth=2, criterion=entropy \n",
      "[CV]  n_estimators=10, min_samples_split=5, min_samples_leaf=3, max_features=log2, max_depth=2, criterion=entropy, score=0.549, total=   0.4s\n",
      "[Parallel(n_jobs=1)]: Done  32 out of  32 | elapsed: 19.3min remaining:    0.0s\n",
      "[CV] n_estimators=10, min_samples_split=5, min_samples_leaf=3, max_features=log2, max_depth=2, criterion=entropy \n",
      "[CV]  n_estimators=10, min_samples_split=5, min_samples_leaf=3, max_features=log2, max_depth=2, criterion=entropy, score=0.537, total=   0.4s\n",
      "[Parallel(n_jobs=1)]: Done  33 out of  33 | elapsed: 19.3min remaining:    0.0s\n",
      "[CV] n_estimators=10, min_samples_split=5, min_samples_leaf=3, max_features=log2, max_depth=2, criterion=entropy \n",
      "[CV]  n_estimators=10, min_samples_split=5, min_samples_leaf=3, max_features=log2, max_depth=2, criterion=entropy, score=0.537, total=   0.4s\n",
      "[Parallel(n_jobs=1)]: Done  34 out of  34 | elapsed: 19.3min remaining:    0.0s\n",
      "[CV] n_estimators=10, min_samples_split=5, min_samples_leaf=3, max_features=log2, max_depth=2, criterion=entropy \n",
      "[CV]  n_estimators=10, min_samples_split=5, min_samples_leaf=3, max_features=log2, max_depth=2, criterion=entropy, score=0.533, total=   0.4s\n",
      "[Parallel(n_jobs=1)]: Done  35 out of  35 | elapsed: 19.3min remaining:    0.0s\n",
      "[CV] n_estimators=10, min_samples_split=2, min_samples_leaf=5, max_features=auto, max_depth=2, criterion=gini \n",
      "[CV]  n_estimators=10, min_samples_split=2, min_samples_leaf=5, max_features=auto, max_depth=2, criterion=gini, score=0.782, total=   0.4s\n",
      "[Parallel(n_jobs=1)]: Done  36 out of  36 | elapsed: 19.3min remaining:    0.0s\n",
      "[CV] n_estimators=10, min_samples_split=2, min_samples_leaf=5, max_features=auto, max_depth=2, criterion=gini \n",
      "[CV]  n_estimators=10, min_samples_split=2, min_samples_leaf=5, max_features=auto, max_depth=2, criterion=gini, score=0.798, total=   0.5s\n",
      "[Parallel(n_jobs=1)]: Done  37 out of  37 | elapsed: 19.3min remaining:    0.0s\n",
      "[CV] n_estimators=10, min_samples_split=2, min_samples_leaf=5, max_features=auto, max_depth=2, criterion=gini \n",
      "[CV]  n_estimators=10, min_samples_split=2, min_samples_leaf=5, max_features=auto, max_depth=2, criterion=gini, score=0.781, total=   0.5s\n",
      "[Parallel(n_jobs=1)]: Done  38 out of  38 | elapsed: 19.3min remaining:    0.0s\n",
      "[CV] n_estimators=10, min_samples_split=2, min_samples_leaf=5, max_features=auto, max_depth=2, criterion=gini \n",
      "[CV]  n_estimators=10, min_samples_split=2, min_samples_leaf=5, max_features=auto, max_depth=2, criterion=gini, score=0.738, total=   0.5s\n",
      "[Parallel(n_jobs=1)]: Done  39 out of  39 | elapsed: 19.4min remaining:    0.0s\n",
      "[CV] n_estimators=10, min_samples_split=2, min_samples_leaf=5, max_features=auto, max_depth=2, criterion=gini \n",
      "[CV]  n_estimators=10, min_samples_split=2, min_samples_leaf=5, max_features=auto, max_depth=2, criterion=gini, score=0.810, total=   0.4s\n",
      "[Parallel(n_jobs=1)]: Done  40 out of  40 | elapsed: 19.4min remaining:    0.0s\n",
      "[CV] n_estimators=100, min_samples_split=2, min_samples_leaf=5, max_features=None, max_depth=10, criterion=entropy \n",
      "[CV]  n_estimators=100, min_samples_split=2, min_samples_leaf=5, max_features=None, max_depth=10, criterion=entropy, score=0.999, total= 2.3min\n",
      "[Parallel(n_jobs=1)]: Done  41 out of  41 | elapsed: 21.7min remaining:    0.0s\n",
      "[CV] n_estimators=100, min_samples_split=2, min_samples_leaf=5, max_features=None, max_depth=10, criterion=entropy \n",
      "[CV]  n_estimators=100, min_samples_split=2, min_samples_leaf=5, max_features=None, max_depth=10, criterion=entropy, score=1.000, total= 2.2min\n",
      "[Parallel(n_jobs=1)]: Done  42 out of  42 | elapsed: 23.8min remaining:    0.0s\n",
      "[CV] n_estimators=100, min_samples_split=2, min_samples_leaf=5, max_features=None, max_depth=10, criterion=entropy \n",
      "[CV]  n_estimators=100, min_samples_split=2, min_samples_leaf=5, max_features=None, max_depth=10, criterion=entropy, score=0.999, total= 2.2min\n",
      "[Parallel(n_jobs=1)]: Done  43 out of  43 | elapsed: 26.0min remaining:    0.0s\n",
      "[CV] n_estimators=100, min_samples_split=2, min_samples_leaf=5, max_features=None, max_depth=10, criterion=entropy \n",
      "[CV]  n_estimators=100, min_samples_split=2, min_samples_leaf=5, max_features=None, max_depth=10, criterion=entropy, score=0.999, total= 2.2min\n",
      "[Parallel(n_jobs=1)]: Done  44 out of  44 | elapsed: 28.2min remaining:    0.0s\n",
      "[CV] n_estimators=100, min_samples_split=2, min_samples_leaf=5, max_features=None, max_depth=10, criterion=entropy \n",
      "[CV]  n_estimators=100, min_samples_split=2, min_samples_leaf=5, max_features=None, max_depth=10, criterion=entropy, score=0.999, total= 2.2min\n",
      "[Parallel(n_jobs=1)]: Done  45 out of  45 | elapsed: 30.4min remaining:    0.0s\n",
      "[CV] n_estimators=100, min_samples_split=3, min_samples_leaf=3, max_features=None, max_depth=2, criterion=entropy \n",
      "[CV]  n_estimators=100, min_samples_split=3, min_samples_leaf=3, max_features=None, max_depth=2, criterion=entropy, score=0.958, total= 1.6min\n",
      "[Parallel(n_jobs=1)]: Done  46 out of  46 | elapsed: 31.9min remaining:    0.0s\n",
      "[CV] n_estimators=100, min_samples_split=3, min_samples_leaf=3, max_features=None, max_depth=2, criterion=entropy \n",
      "[CV]  n_estimators=100, min_samples_split=3, min_samples_leaf=3, max_features=None, max_depth=2, criterion=entropy, score=0.982, total= 1.6min\n",
      "[Parallel(n_jobs=1)]: Done  47 out of  47 | elapsed: 33.5min remaining:    0.0s\n",
      "[CV] n_estimators=100, min_samples_split=3, min_samples_leaf=3, max_features=None, max_depth=2, criterion=entropy \n",
      "[CV]  n_estimators=100, min_samples_split=3, min_samples_leaf=3, max_features=None, max_depth=2, criterion=entropy, score=0.968, total= 1.6min\n",
      "[Parallel(n_jobs=1)]: Done  48 out of  48 | elapsed: 35.1min remaining:    0.0s\n",
      "[CV] n_estimators=100, min_samples_split=3, min_samples_leaf=3, max_features=None, max_depth=2, criterion=entropy \n",
      "[CV]  n_estimators=100, min_samples_split=3, min_samples_leaf=3, max_features=None, max_depth=2, criterion=entropy, score=0.966, total= 1.6min\n",
      "[Parallel(n_jobs=1)]: Done  49 out of  49 | elapsed: 36.6min remaining:    0.0s\n",
      "[CV] n_estimators=100, min_samples_split=3, min_samples_leaf=3, max_features=None, max_depth=2, criterion=entropy \n"
     ]
    },
    {
     "name": "stdout",
     "output_type": "stream",
     "text": [
      "[CV]  n_estimators=100, min_samples_split=3, min_samples_leaf=3, max_features=None, max_depth=2, criterion=entropy, score=0.964, total= 1.6min\n",
      "[Parallel(n_jobs=1)]: Done  50 out of  50 | elapsed: 38.2min remaining:    0.0s\n",
      "[Parallel(n_jobs=1)]: Done  50 out of  50 | elapsed: 38.2min finished\n"
     ]
    }
   ],
   "source": [
    "best_rf = RandomizedSearchCV(random_forest, rf_parameters, n_iter=10, cv=5, random_state=seed, verbose=100, scoring=\"accuracy\")\n",
    "rf_start = time.time()\n",
    "best_rf.fit(X_train, y_train)\n",
    "rf_end = time.time()\n",
    "rf_time_taken = (rf_end-rf_start)/50"
   ]
  },
  {
   "cell_type": "code",
   "execution_count": 51,
   "metadata": {},
   "outputs": [
    {
     "name": "stdout",
     "output_type": "stream",
     "text": [
      "49.53163662910461\n"
     ]
    }
   ],
   "source": [
    "print(rf_time_taken)"
   ]
  },
  {
   "cell_type": "code",
   "execution_count": 52,
   "metadata": {},
   "outputs": [],
   "source": [
    "time_taken.append(rf_time_taken)"
   ]
  },
  {
   "cell_type": "code",
   "execution_count": 53,
   "metadata": {},
   "outputs": [
    {
     "data": {
      "text/plain": [
       "{'n_estimators': 100,\n",
       " 'min_samples_split': 2,\n",
       " 'min_samples_leaf': 3,\n",
       " 'max_features': None,\n",
       " 'max_depth': 10,\n",
       " 'criterion': 'entropy'}"
      ]
     },
     "execution_count": 53,
     "metadata": {},
     "output_type": "execute_result"
    }
   ],
   "source": [
    "best_rf.best_params_"
   ]
  },
  {
   "cell_type": "raw",
   "metadata": {},
   "source": [
    "rf_y_pred = best_rf.predict(X_val)"
   ]
  },
  {
   "cell_type": "raw",
   "metadata": {},
   "source": [
    "print(classification_report(y_val, rf_y_pred))"
   ]
  },
  {
   "cell_type": "code",
   "execution_count": 54,
   "metadata": {},
   "outputs": [],
   "source": [
    "rf_pickle = \"DDoS_rf_pickle.sav\"\n",
    "pickle.dump(best_rf, open(rf_pickle, \"wb\"))\n"
   ]
  },
  {
   "cell_type": "raw",
   "metadata": {},
   "source": [
    "rf_accuracy = accuracy_score(y_val, rf_y_pred)"
   ]
  },
  {
   "cell_type": "code",
   "execution_count": 55,
   "metadata": {},
   "outputs": [],
   "source": [
    "rf_accuracy = best_rf.best_score_"
   ]
  },
  {
   "cell_type": "code",
   "execution_count": 56,
   "metadata": {},
   "outputs": [
    {
     "data": {
      "text/plain": [
       "0.999625"
      ]
     },
     "execution_count": 56,
     "metadata": {},
     "output_type": "execute_result"
    }
   ],
   "source": [
    "rf_accuracy"
   ]
  },
  {
   "cell_type": "code",
   "execution_count": 57,
   "metadata": {},
   "outputs": [],
   "source": [
    "train_accuracy_score.append(rf_accuracy)"
   ]
  },
  {
   "cell_type": "code",
   "execution_count": 58,
   "metadata": {},
   "outputs": [
    {
     "data": {
      "text/plain": [
       "[0.99975, 0.999625]"
      ]
     },
     "execution_count": 58,
     "metadata": {},
     "output_type": "execute_result"
    }
   ],
   "source": [
    "train_accuracy_score"
   ]
  },
  {
   "cell_type": "markdown",
   "metadata": {},
   "source": [
    "### SVC"
   ]
  },
  {
   "cell_type": "code",
   "execution_count": 59,
   "metadata": {},
   "outputs": [],
   "source": [
    "svc = SVC(random_state=seed)"
   ]
  },
  {
   "cell_type": "code",
   "execution_count": 60,
   "metadata": {},
   "outputs": [],
   "source": [
    "svc_parameters = {\"kernel\": [\"linear\", \"rbf\", \"poly\"],\n",
    "                 \"gamma\": [0.1, 1, 10, 100],\n",
    "                 \"C\": [0.1, 1, 10, 100, 1000],\n",
    "                  \"degree\": [0, 1, 2, 3, 4, 5, 6]\n",
    "}"
   ]
  },
  {
   "cell_type": "raw",
   "metadata": {},
   "source": [
    "svc_parameters = {\"kernel\": [\"linear\"],\n",
    "                 \"C\": [0.1]}"
   ]
  },
  {
   "cell_type": "code",
   "execution_count": 61,
   "metadata": {},
   "outputs": [
    {
     "name": "stdout",
     "output_type": "stream",
     "text": [
      "Fitting 5 folds for each of 10 candidates, totalling 50 fits\n",
      "[Parallel(n_jobs=1)]: Using backend SequentialBackend with 1 concurrent workers.\n",
      "[CV] kernel=linear, gamma=10, degree=5, C=1000 .......................\n",
      "[CV]  kernel=linear, gamma=10, degree=5, C=1000, score=1.000, total= 2.8min\n",
      "[Parallel(n_jobs=1)]: Done   1 out of   1 | elapsed:  2.8min remaining:    0.0s\n",
      "[CV] kernel=linear, gamma=10, degree=5, C=1000 .......................\n",
      "[CV]  kernel=linear, gamma=10, degree=5, C=1000, score=1.000, total= 2.9min\n",
      "[Parallel(n_jobs=1)]: Done   2 out of   2 | elapsed:  5.7min remaining:    0.0s\n",
      "[CV] kernel=linear, gamma=10, degree=5, C=1000 .......................\n",
      "[CV]  kernel=linear, gamma=10, degree=5, C=1000, score=1.000, total= 2.9min\n",
      "[Parallel(n_jobs=1)]: Done   3 out of   3 | elapsed:  8.5min remaining:    0.0s\n",
      "[CV] kernel=linear, gamma=10, degree=5, C=1000 .......................\n",
      "[CV]  kernel=linear, gamma=10, degree=5, C=1000, score=1.000, total= 3.0min\n",
      "[Parallel(n_jobs=1)]: Done   4 out of   4 | elapsed: 11.5min remaining:    0.0s\n",
      "[CV] kernel=linear, gamma=10, degree=5, C=1000 .......................\n",
      "[CV]  kernel=linear, gamma=10, degree=5, C=1000, score=1.000, total= 3.4min\n",
      "[Parallel(n_jobs=1)]: Done   5 out of   5 | elapsed: 14.9min remaining:    0.0s\n",
      "[CV] kernel=poly, gamma=100, degree=1, C=0.1 .........................\n",
      "[CV]  kernel=poly, gamma=100, degree=1, C=0.1, score=1.000, total= 2.6min\n",
      "[Parallel(n_jobs=1)]: Done   6 out of   6 | elapsed: 17.5min remaining:    0.0s\n",
      "[CV] kernel=poly, gamma=100, degree=1, C=0.1 .........................\n",
      "[CV]  kernel=poly, gamma=100, degree=1, C=0.1, score=1.000, total= 3.4min\n",
      "[Parallel(n_jobs=1)]: Done   7 out of   7 | elapsed: 20.9min remaining:    0.0s\n",
      "[CV] kernel=poly, gamma=100, degree=1, C=0.1 .........................\n",
      "[CV]  kernel=poly, gamma=100, degree=1, C=0.1, score=1.000, total= 3.1min\n",
      "[Parallel(n_jobs=1)]: Done   8 out of   8 | elapsed: 24.0min remaining:    0.0s\n",
      "[CV] kernel=poly, gamma=100, degree=1, C=0.1 .........................\n",
      "[CV]  kernel=poly, gamma=100, degree=1, C=0.1, score=1.000, total= 2.8min\n",
      "[Parallel(n_jobs=1)]: Done   9 out of   9 | elapsed: 26.8min remaining:    0.0s\n",
      "[CV] kernel=poly, gamma=100, degree=1, C=0.1 .........................\n",
      "[CV]  kernel=poly, gamma=100, degree=1, C=0.1, score=1.000, total= 3.3min\n",
      "[Parallel(n_jobs=1)]: Done  10 out of  10 | elapsed: 30.1min remaining:    0.0s\n",
      "[CV] kernel=poly, gamma=100, degree=0, C=1000 ........................\n",
      "[CV]  kernel=poly, gamma=100, degree=0, C=1000, score=0.507, total= 9.1min\n",
      "[Parallel(n_jobs=1)]: Done  11 out of  11 | elapsed: 39.2min remaining:    0.0s\n",
      "[CV] kernel=poly, gamma=100, degree=0, C=1000 ........................\n",
      "[CV]  kernel=poly, gamma=100, degree=0, C=1000, score=0.507, total= 9.1min\n",
      "[Parallel(n_jobs=1)]: Done  12 out of  12 | elapsed: 48.3min remaining:    0.0s\n",
      "[CV] kernel=poly, gamma=100, degree=0, C=1000 ........................\n",
      "[CV]  kernel=poly, gamma=100, degree=0, C=1000, score=0.507, total= 9.1min\n",
      "[Parallel(n_jobs=1)]: Done  13 out of  13 | elapsed: 57.4min remaining:    0.0s\n",
      "[CV] kernel=poly, gamma=100, degree=0, C=1000 ........................\n",
      "[CV]  kernel=poly, gamma=100, degree=0, C=1000, score=0.507, total= 9.1min\n",
      "[Parallel(n_jobs=1)]: Done  14 out of  14 | elapsed: 66.5min remaining:    0.0s\n",
      "[CV] kernel=poly, gamma=100, degree=0, C=1000 ........................\n",
      "[CV]  kernel=poly, gamma=100, degree=0, C=1000, score=0.507, total= 9.1min\n",
      "[Parallel(n_jobs=1)]: Done  15 out of  15 | elapsed: 75.6min remaining:    0.0s\n",
      "[CV] kernel=poly, gamma=100, degree=1, C=1 ...........................\n",
      "[CV]  kernel=poly, gamma=100, degree=1, C=1, score=1.000, total= 2.6min\n",
      "[Parallel(n_jobs=1)]: Done  16 out of  16 | elapsed: 78.1min remaining:    0.0s\n",
      "[CV] kernel=poly, gamma=100, degree=1, C=1 ...........................\n",
      "[CV]  kernel=poly, gamma=100, degree=1, C=1, score=1.000, total= 3.4min\n",
      "[Parallel(n_jobs=1)]: Done  17 out of  17 | elapsed: 81.5min remaining:    0.0s\n",
      "[CV] kernel=poly, gamma=100, degree=1, C=1 ...........................\n",
      "[CV]  kernel=poly, gamma=100, degree=1, C=1, score=1.000, total= 3.1min\n",
      "[Parallel(n_jobs=1)]: Done  18 out of  18 | elapsed: 84.6min remaining:    0.0s\n",
      "[CV] kernel=poly, gamma=100, degree=1, C=1 ...........................\n",
      "[CV]  kernel=poly, gamma=100, degree=1, C=1, score=1.000, total= 2.8min\n",
      "[Parallel(n_jobs=1)]: Done  19 out of  19 | elapsed: 87.5min remaining:    0.0s\n",
      "[CV] kernel=poly, gamma=100, degree=1, C=1 ...........................\n",
      "[CV]  kernel=poly, gamma=100, degree=1, C=1, score=1.000, total= 3.3min\n",
      "[Parallel(n_jobs=1)]: Done  20 out of  20 | elapsed: 90.8min remaining:    0.0s\n",
      "[CV] kernel=rbf, gamma=10, degree=2, C=0.1 ...........................\n",
      "[CV]  kernel=rbf, gamma=10, degree=2, C=0.1, score=0.516, total= 9.3min\n",
      "[Parallel(n_jobs=1)]: Done  21 out of  21 | elapsed: 100.1min remaining:    0.0s\n",
      "[CV] kernel=rbf, gamma=10, degree=2, C=0.1 ...........................\n",
      "[CV]  kernel=rbf, gamma=10, degree=2, C=0.1, score=0.515, total= 9.3min\n",
      "[Parallel(n_jobs=1)]: Done  22 out of  22 | elapsed: 109.4min remaining:    0.0s\n",
      "[CV] kernel=rbf, gamma=10, degree=2, C=0.1 ...........................\n",
      "[CV]  kernel=rbf, gamma=10, degree=2, C=0.1, score=0.514, total= 9.2min\n",
      "[Parallel(n_jobs=1)]: Done  23 out of  23 | elapsed: 118.6min remaining:    0.0s\n",
      "[CV] kernel=rbf, gamma=10, degree=2, C=0.1 ...........................\n",
      "[CV]  kernel=rbf, gamma=10, degree=2, C=0.1, score=0.509, total= 9.2min\n",
      "[Parallel(n_jobs=1)]: Done  24 out of  24 | elapsed: 127.8min remaining:    0.0s\n",
      "[CV] kernel=rbf, gamma=10, degree=2, C=0.1 ...........................\n",
      "[CV]  kernel=rbf, gamma=10, degree=2, C=0.1, score=0.512, total= 9.2min\n",
      "[Parallel(n_jobs=1)]: Done  25 out of  25 | elapsed: 137.0min remaining:    0.0s\n",
      "[CV] kernel=rbf, gamma=10, degree=1, C=1000 ..........................\n",
      "[CV]  kernel=rbf, gamma=10, degree=1, C=1000, score=0.517, total= 9.1min\n",
      "[Parallel(n_jobs=1)]: Done  26 out of  26 | elapsed: 146.2min remaining:    0.0s\n",
      "[CV] kernel=rbf, gamma=10, degree=1, C=1000 ..........................\n",
      "[CV]  kernel=rbf, gamma=10, degree=1, C=1000, score=0.516, total= 9.1min\n",
      "[Parallel(n_jobs=1)]: Done  27 out of  27 | elapsed: 155.3min remaining:    0.0s\n",
      "[CV] kernel=rbf, gamma=10, degree=1, C=1000 ..........................\n",
      "[CV]  kernel=rbf, gamma=10, degree=1, C=1000, score=0.515, total= 9.1min\n",
      "[Parallel(n_jobs=1)]: Done  28 out of  28 | elapsed: 164.5min remaining:    0.0s\n",
      "[CV] kernel=rbf, gamma=10, degree=1, C=1000 ..........................\n",
      "[CV]  kernel=rbf, gamma=10, degree=1, C=1000, score=0.509, total= 9.1min\n",
      "[Parallel(n_jobs=1)]: Done  29 out of  29 | elapsed: 173.6min remaining:    0.0s\n",
      "[CV] kernel=rbf, gamma=10, degree=1, C=1000 ..........................\n",
      "[CV]  kernel=rbf, gamma=10, degree=1, C=1000, score=0.512, total= 9.1min\n",
      "[Parallel(n_jobs=1)]: Done  30 out of  30 | elapsed: 182.7min remaining:    0.0s\n",
      "[CV] kernel=rbf, gamma=10, degree=4, C=10 ............................\n",
      "[CV]  kernel=rbf, gamma=10, degree=4, C=10, score=0.517, total= 9.2min\n",
      "[Parallel(n_jobs=1)]: Done  31 out of  31 | elapsed: 191.9min remaining:    0.0s\n",
      "[CV] kernel=rbf, gamma=10, degree=4, C=10 ............................\n",
      "[CV]  kernel=rbf, gamma=10, degree=4, C=10, score=0.516, total= 9.1min\n",
      "[Parallel(n_jobs=1)]: Done  32 out of  32 | elapsed: 201.1min remaining:    0.0s\n",
      "[CV] kernel=rbf, gamma=10, degree=4, C=10 ............................\n",
      "[CV]  kernel=rbf, gamma=10, degree=4, C=10, score=0.515, total= 9.1min\n",
      "[Parallel(n_jobs=1)]: Done  33 out of  33 | elapsed: 210.2min remaining:    0.0s\n",
      "[CV] kernel=rbf, gamma=10, degree=4, C=10 ............................\n",
      "[CV]  kernel=rbf, gamma=10, degree=4, C=10, score=0.509, total= 9.2min\n",
      "[Parallel(n_jobs=1)]: Done  34 out of  34 | elapsed: 219.4min remaining:    0.0s\n",
      "[CV] kernel=rbf, gamma=10, degree=4, C=10 ............................\n",
      "[CV]  kernel=rbf, gamma=10, degree=4, C=10, score=0.512, total= 9.2min\n",
      "[Parallel(n_jobs=1)]: Done  35 out of  35 | elapsed: 228.6min remaining:    0.0s\n",
      "[CV] kernel=poly, gamma=1, degree=0, C=10 ............................\n",
      "[CV]  kernel=poly, gamma=1, degree=0, C=10, score=0.507, total= 9.2min\n",
      "[Parallel(n_jobs=1)]: Done  36 out of  36 | elapsed: 237.8min remaining:    0.0s\n",
      "[CV] kernel=poly, gamma=1, degree=0, C=10 ............................\n"
     ]
    },
    {
     "name": "stdout",
     "output_type": "stream",
     "text": [
      "[CV]  kernel=poly, gamma=1, degree=0, C=10, score=0.507, total= 9.2min\n",
      "[Parallel(n_jobs=1)]: Done  37 out of  37 | elapsed: 247.0min remaining:    0.0s\n",
      "[CV] kernel=poly, gamma=1, degree=0, C=10 ............................\n",
      "[CV]  kernel=poly, gamma=1, degree=0, C=10, score=0.507, total= 9.1min\n",
      "[Parallel(n_jobs=1)]: Done  38 out of  38 | elapsed: 256.1min remaining:    0.0s\n",
      "[CV] kernel=poly, gamma=1, degree=0, C=10 ............................\n",
      "[CV]  kernel=poly, gamma=1, degree=0, C=10, score=0.507, total= 9.1min\n",
      "[Parallel(n_jobs=1)]: Done  39 out of  39 | elapsed: 265.1min remaining:    0.0s\n",
      "[CV] kernel=poly, gamma=1, degree=0, C=10 ............................\n",
      "[CV]  kernel=poly, gamma=1, degree=0, C=10, score=0.507, total= 9.1min\n",
      "[Parallel(n_jobs=1)]: Done  40 out of  40 | elapsed: 274.2min remaining:    0.0s\n",
      "[CV] kernel=rbf, gamma=100, degree=4, C=0.1 ..........................\n",
      "[CV]  kernel=rbf, gamma=100, degree=4, C=0.1, score=0.516, total= 9.3min\n",
      "[Parallel(n_jobs=1)]: Done  41 out of  41 | elapsed: 283.5min remaining:    0.0s\n",
      "[CV] kernel=rbf, gamma=100, degree=4, C=0.1 ..........................\n",
      "[CV]  kernel=rbf, gamma=100, degree=4, C=0.1, score=0.515, total= 9.3min\n",
      "[Parallel(n_jobs=1)]: Done  42 out of  42 | elapsed: 292.8min remaining:    0.0s\n",
      "[CV] kernel=rbf, gamma=100, degree=4, C=0.1 ..........................\n",
      "[CV]  kernel=rbf, gamma=100, degree=4, C=0.1, score=0.514, total= 9.2min\n",
      "[Parallel(n_jobs=1)]: Done  43 out of  43 | elapsed: 302.1min remaining:    0.0s\n",
      "[CV] kernel=rbf, gamma=100, degree=4, C=0.1 ..........................\n",
      "[CV]  kernel=rbf, gamma=100, degree=4, C=0.1, score=0.509, total= 9.3min\n",
      "[Parallel(n_jobs=1)]: Done  44 out of  44 | elapsed: 311.3min remaining:    0.0s\n",
      "[CV] kernel=rbf, gamma=100, degree=4, C=0.1 ..........................\n",
      "[CV]  kernel=rbf, gamma=100, degree=4, C=0.1, score=0.512, total= 9.3min\n",
      "[Parallel(n_jobs=1)]: Done  45 out of  45 | elapsed: 320.6min remaining:    0.0s\n",
      "[CV] kernel=poly, gamma=100, degree=4, C=10 ..........................\n",
      "[CV]  kernel=poly, gamma=100, degree=4, C=10, score=1.000, total= 7.0min\n",
      "[Parallel(n_jobs=1)]: Done  46 out of  46 | elapsed: 327.6min remaining:    0.0s\n",
      "[CV] kernel=poly, gamma=100, degree=4, C=10 ..........................\n",
      "[CV]  kernel=poly, gamma=100, degree=4, C=10, score=1.000, total= 6.9min\n",
      "[Parallel(n_jobs=1)]: Done  47 out of  47 | elapsed: 334.5min remaining:    0.0s\n",
      "[CV] kernel=poly, gamma=100, degree=4, C=10 ..........................\n",
      "[CV]  kernel=poly, gamma=100, degree=4, C=10, score=1.000, total= 7.1min\n",
      "[Parallel(n_jobs=1)]: Done  48 out of  48 | elapsed: 341.6min remaining:    0.0s\n",
      "[CV] kernel=poly, gamma=100, degree=4, C=10 ..........................\n",
      "[CV]  kernel=poly, gamma=100, degree=4, C=10, score=1.000, total= 7.1min\n",
      "[Parallel(n_jobs=1)]: Done  49 out of  49 | elapsed: 348.7min remaining:    0.0s\n",
      "[CV] kernel=poly, gamma=100, degree=4, C=10 ..........................\n",
      "[CV]  kernel=poly, gamma=100, degree=4, C=10, score=0.999, total= 7.1min\n",
      "[Parallel(n_jobs=1)]: Done  50 out of  50 | elapsed: 355.9min remaining:    0.0s\n",
      "[Parallel(n_jobs=1)]: Done  50 out of  50 | elapsed: 355.9min finished\n"
     ]
    }
   ],
   "source": [
    "best_svc = RandomizedSearchCV(svc, svc_parameters, n_iter=10, cv=5, random_state=seed, verbose=100, scoring=\"accuracy\")\n",
    "svc_start = time.time()\n",
    "best_svc.fit(X_train, y_train)\n",
    "svc_end = time.time()\n",
    "svc_time_taken = (svc_end-svc_start)/50"
   ]
  },
  {
   "cell_type": "code",
   "execution_count": 62,
   "metadata": {},
   "outputs": [
    {
     "name": "stdout",
     "output_type": "stream",
     "text": [
      "430.8378652858734\n"
     ]
    }
   ],
   "source": [
    "print(svc_time_taken)"
   ]
  },
  {
   "cell_type": "code",
   "execution_count": 63,
   "metadata": {},
   "outputs": [],
   "source": [
    "time_taken.append(svc_time_taken)"
   ]
  },
  {
   "cell_type": "code",
   "execution_count": 64,
   "metadata": {},
   "outputs": [],
   "source": [
    "svc_pickle = \"DDoS_svc_pickle.sav\"\n",
    "pickle.dump(best_svc, open(svc_pickle, \"wb\"))\n"
   ]
  },
  {
   "cell_type": "code",
   "execution_count": 65,
   "metadata": {},
   "outputs": [
    {
     "data": {
      "text/plain": [
       "{'kernel': 'linear', 'gamma': 10, 'degree': 5, 'C': 1000}"
      ]
     },
     "execution_count": 65,
     "metadata": {},
     "output_type": "execute_result"
    }
   ],
   "source": [
    "best_svc.best_params_"
   ]
  },
  {
   "cell_type": "raw",
   "metadata": {},
   "source": [
    "svc_y_pred = best_svc.predict(X_val)"
   ]
  },
  {
   "cell_type": "raw",
   "metadata": {},
   "source": [
    "print(classification_report(y_val, svc_y_pred))"
   ]
  },
  {
   "cell_type": "raw",
   "metadata": {},
   "source": [
    "svc_accuracy = accuracy_score(y_val, svc_y_pred)"
   ]
  },
  {
   "cell_type": "code",
   "execution_count": 66,
   "metadata": {},
   "outputs": [],
   "source": [
    "svc_accuracy = best_svc.best_score_"
   ]
  },
  {
   "cell_type": "code",
   "execution_count": 67,
   "metadata": {},
   "outputs": [
    {
     "data": {
      "text/plain": [
       "1.0"
      ]
     },
     "execution_count": 67,
     "metadata": {},
     "output_type": "execute_result"
    }
   ],
   "source": [
    "svc_accuracy"
   ]
  },
  {
   "cell_type": "code",
   "execution_count": 68,
   "metadata": {},
   "outputs": [],
   "source": [
    "train_accuracy_score.append(svc_accuracy)"
   ]
  },
  {
   "cell_type": "code",
   "execution_count": 69,
   "metadata": {},
   "outputs": [
    {
     "data": {
      "text/plain": [
       "[0.99975, 0.999625, 1.0]"
      ]
     },
     "execution_count": 69,
     "metadata": {},
     "output_type": "execute_result"
    }
   ],
   "source": [
    "train_accuracy_score"
   ]
  },
  {
   "cell_type": "markdown",
   "metadata": {},
   "source": [
    "## Logistic REgression"
   ]
  },
  {
   "cell_type": "code",
   "execution_count": 70,
   "metadata": {},
   "outputs": [],
   "source": [
    "lr = LogisticRegression(random_state=seed)"
   ]
  },
  {
   "cell_type": "code",
   "execution_count": 71,
   "metadata": {},
   "outputs": [],
   "source": [
    "lr_parameters = {\n",
    "     'penalty' : [\"l2\", None],\n",
    "    'C' : [0.1, 1.0, 10, 100],\n",
    "    \"solver\": [\"newton-cg\", \"lbfgs\", \"liblinear\", \"sag\", \"saga\"],\n",
    "    \"max_iter\":[5, 10, 25, 50, 75, 100],\n",
    "    \"multi_class\": [\"auto\", \"ovr\", \"multinomial\"]\n",
    "}"
   ]
  },
  {
   "cell_type": "raw",
   "metadata": {},
   "source": [
    "lr_parameters = {\"C\": [0.1],\n",
    "                \"solver\": [\"lbfgs\"]}"
   ]
  },
  {
   "cell_type": "code",
   "execution_count": 72,
   "metadata": {},
   "outputs": [
    {
     "name": "stdout",
     "output_type": "stream",
     "text": [
      "Fitting 5 folds for each of 10 candidates, totalling 50 fits\n",
      "[Parallel(n_jobs=1)]: Using backend SequentialBackend with 1 concurrent workers.\n",
      "[CV] solver=liblinear, penalty=l2, multi_class=multinomial, max_iter=10, C=0.1 \n",
      "[CV]  solver=liblinear, penalty=l2, multi_class=multinomial, max_iter=10, C=0.1, score=nan, total=   0.2s\n",
      "[Parallel(n_jobs=1)]: Done   1 out of   1 | elapsed:    0.2s remaining:    0.0s\n",
      "[CV] solver=liblinear, penalty=l2, multi_class=multinomial, max_iter=10, C=0.1 \n",
      "[CV]  solver=liblinear, penalty=l2, multi_class=multinomial, max_iter=10, C=0.1, score=nan, total=   0.2s\n",
      "[Parallel(n_jobs=1)]: Done   2 out of   2 | elapsed:    0.5s remaining:    0.0s\n",
      "[CV] solver=liblinear, penalty=l2, multi_class=multinomial, max_iter=10, C=0.1 \n",
      "[CV]  solver=liblinear, penalty=l2, multi_class=multinomial, max_iter=10, C=0.1, score=nan, total=   0.2s\n",
      "[Parallel(n_jobs=1)]: Done   3 out of   3 | elapsed:    0.7s remaining:    0.0s\n",
      "[CV] solver=liblinear, penalty=l2, multi_class=multinomial, max_iter=10, C=0.1 \n",
      "[CV]  solver=liblinear, penalty=l2, multi_class=multinomial, max_iter=10, C=0.1, score=nan, total=   0.2s\n",
      "[Parallel(n_jobs=1)]: Done   4 out of   4 | elapsed:    1.0s remaining:    0.0s\n",
      "[CV] solver=liblinear, penalty=l2, multi_class=multinomial, max_iter=10, C=0.1 \n",
      "[CV]  solver=liblinear, penalty=l2, multi_class=multinomial, max_iter=10, C=0.1, score=nan, total=   0.3s\n",
      "[Parallel(n_jobs=1)]: Done   5 out of   5 | elapsed:    1.3s remaining:    0.0s\n",
      "[CV] solver=saga, penalty=None, multi_class=auto, max_iter=100, C=10 .\n",
      "[CV]  solver=saga, penalty=None, multi_class=auto, max_iter=100, C=10, score=nan, total=   0.2s\n",
      "[Parallel(n_jobs=1)]: Done   6 out of   6 | elapsed:    1.5s remaining:    0.0s\n",
      "[CV] solver=saga, penalty=None, multi_class=auto, max_iter=100, C=10 .\n",
      "[CV]  solver=saga, penalty=None, multi_class=auto, max_iter=100, C=10, score=nan, total=   0.2s\n",
      "[Parallel(n_jobs=1)]: Done   7 out of   7 | elapsed:    1.7s remaining:    0.0s\n",
      "[CV] solver=saga, penalty=None, multi_class=auto, max_iter=100, C=10 .\n",
      "[CV]  solver=saga, penalty=None, multi_class=auto, max_iter=100, C=10, score=nan, total=   0.1s\n",
      "[Parallel(n_jobs=1)]: Done   8 out of   8 | elapsed:    1.9s remaining:    0.0s\n",
      "[CV] solver=saga, penalty=None, multi_class=auto, max_iter=100, C=10 .\n",
      "[CV]  solver=saga, penalty=None, multi_class=auto, max_iter=100, C=10, score=nan, total=   0.2s\n",
      "[Parallel(n_jobs=1)]: Done   9 out of   9 | elapsed:    2.1s remaining:    0.0s\n",
      "[CV] solver=saga, penalty=None, multi_class=auto, max_iter=100, C=10 .\n",
      "[CV]  solver=saga, penalty=None, multi_class=auto, max_iter=100, C=10, score=nan, total=   0.2s\n",
      "[Parallel(n_jobs=1)]: Done  10 out of  10 | elapsed:    2.4s remaining:    0.0s\n",
      "[CV] solver=newton-cg, penalty=l2, multi_class=multinomial, max_iter=50, C=0.1 \n",
      "[CV]  solver=newton-cg, penalty=l2, multi_class=multinomial, max_iter=50, C=0.1, score=1.000, total=   9.5s\n",
      "[Parallel(n_jobs=1)]: Done  11 out of  11 | elapsed:   11.9s remaining:    0.0s\n",
      "[CV] solver=newton-cg, penalty=l2, multi_class=multinomial, max_iter=50, C=0.1 \n",
      "[CV]  solver=newton-cg, penalty=l2, multi_class=multinomial, max_iter=50, C=0.1, score=1.000, total=  10.7s\n",
      "[Parallel(n_jobs=1)]: Done  12 out of  12 | elapsed:   22.6s remaining:    0.0s\n",
      "[CV] solver=newton-cg, penalty=l2, multi_class=multinomial, max_iter=50, C=0.1 \n",
      "[CV]  solver=newton-cg, penalty=l2, multi_class=multinomial, max_iter=50, C=0.1, score=0.999, total=   8.0s\n",
      "[Parallel(n_jobs=1)]: Done  13 out of  13 | elapsed:   30.7s remaining:    0.0s\n",
      "[CV] solver=newton-cg, penalty=l2, multi_class=multinomial, max_iter=50, C=0.1 \n",
      "[CV]  solver=newton-cg, penalty=l2, multi_class=multinomial, max_iter=50, C=0.1, score=1.000, total=   9.2s\n",
      "[Parallel(n_jobs=1)]: Done  14 out of  14 | elapsed:   39.9s remaining:    0.0s\n",
      "[CV] solver=newton-cg, penalty=l2, multi_class=multinomial, max_iter=50, C=0.1 \n",
      "[CV]  solver=newton-cg, penalty=l2, multi_class=multinomial, max_iter=50, C=0.1, score=0.998, total=   8.4s\n",
      "[Parallel(n_jobs=1)]: Done  15 out of  15 | elapsed:   48.4s remaining:    0.0s\n",
      "[CV] solver=saga, penalty=l2, multi_class=auto, max_iter=100, C=10 ...\n",
      "[CV]  solver=saga, penalty=l2, multi_class=auto, max_iter=100, C=10, score=1.000, total=  51.6s\n",
      "[Parallel(n_jobs=1)]: Done  16 out of  16 | elapsed:  1.7min remaining:    0.0s\n",
      "[CV] solver=saga, penalty=l2, multi_class=auto, max_iter=100, C=10 ...\n",
      "[CV]  solver=saga, penalty=l2, multi_class=auto, max_iter=100, C=10, score=1.000, total=  51.2s\n",
      "[Parallel(n_jobs=1)]: Done  17 out of  17 | elapsed:  2.5min remaining:    0.0s\n",
      "[CV] solver=saga, penalty=l2, multi_class=auto, max_iter=100, C=10 ...\n",
      "[CV]  solver=saga, penalty=l2, multi_class=auto, max_iter=100, C=10, score=1.000, total=  51.2s\n",
      "[Parallel(n_jobs=1)]: Done  18 out of  18 | elapsed:  3.4min remaining:    0.0s\n",
      "[CV] solver=saga, penalty=l2, multi_class=auto, max_iter=100, C=10 ...\n",
      "[CV]  solver=saga, penalty=l2, multi_class=auto, max_iter=100, C=10, score=1.000, total=  51.1s\n",
      "[Parallel(n_jobs=1)]: Done  19 out of  19 | elapsed:  4.2min remaining:    0.0s\n",
      "[CV] solver=saga, penalty=l2, multi_class=auto, max_iter=100, C=10 ...\n",
      "[CV]  solver=saga, penalty=l2, multi_class=auto, max_iter=100, C=10, score=1.000, total=  50.9s\n",
      "[Parallel(n_jobs=1)]: Done  20 out of  20 | elapsed:  5.1min remaining:    0.0s\n",
      "[CV] solver=lbfgs, penalty=None, multi_class=auto, max_iter=50, C=1.0 \n",
      "[CV]  solver=lbfgs, penalty=None, multi_class=auto, max_iter=50, C=1.0, score=nan, total=   0.2s\n",
      "[Parallel(n_jobs=1)]: Done  21 out of  21 | elapsed:  5.1min remaining:    0.0s\n",
      "[CV] solver=lbfgs, penalty=None, multi_class=auto, max_iter=50, C=1.0 \n",
      "[CV]  solver=lbfgs, penalty=None, multi_class=auto, max_iter=50, C=1.0, score=nan, total=   0.1s\n",
      "[Parallel(n_jobs=1)]: Done  22 out of  22 | elapsed:  5.1min remaining:    0.0s\n",
      "[CV] solver=lbfgs, penalty=None, multi_class=auto, max_iter=50, C=1.0 \n",
      "[CV]  solver=lbfgs, penalty=None, multi_class=auto, max_iter=50, C=1.0, score=nan, total=   0.2s\n",
      "[Parallel(n_jobs=1)]: Done  23 out of  23 | elapsed:  5.1min remaining:    0.0s\n",
      "[CV] solver=lbfgs, penalty=None, multi_class=auto, max_iter=50, C=1.0 \n",
      "[CV]  solver=lbfgs, penalty=None, multi_class=auto, max_iter=50, C=1.0, score=nan, total=   0.2s\n",
      "[Parallel(n_jobs=1)]: Done  24 out of  24 | elapsed:  5.1min remaining:    0.0s\n",
      "[CV] solver=lbfgs, penalty=None, multi_class=auto, max_iter=50, C=1.0 \n",
      "[CV]  solver=lbfgs, penalty=None, multi_class=auto, max_iter=50, C=1.0, score=nan, total=   0.2s\n",
      "[Parallel(n_jobs=1)]: Done  25 out of  25 | elapsed:  5.1min remaining:    0.0s\n",
      "[CV] solver=saga, penalty=l2, multi_class=auto, max_iter=50, C=10 ....\n",
      "[CV]  solver=saga, penalty=l2, multi_class=auto, max_iter=50, C=10, score=1.000, total=  26.0s\n",
      "[Parallel(n_jobs=1)]: Done  26 out of  26 | elapsed:  5.5min remaining:    0.0s\n",
      "[CV] solver=saga, penalty=l2, multi_class=auto, max_iter=50, C=10 ....\n",
      "[CV]  solver=saga, penalty=l2, multi_class=auto, max_iter=50, C=10, score=1.000, total=  26.3s\n",
      "[Parallel(n_jobs=1)]: Done  27 out of  27 | elapsed:  6.0min remaining:    0.0s\n",
      "[CV] solver=saga, penalty=l2, multi_class=auto, max_iter=50, C=10 ....\n",
      "[CV]  solver=saga, penalty=l2, multi_class=auto, max_iter=50, C=10, score=1.000, total=  25.9s\n",
      "[Parallel(n_jobs=1)]: Done  28 out of  28 | elapsed:  6.4min remaining:    0.0s\n",
      "[CV] solver=saga, penalty=l2, multi_class=auto, max_iter=50, C=10 ....\n",
      "[CV]  solver=saga, penalty=l2, multi_class=auto, max_iter=50, C=10, score=1.000, total=  25.7s\n",
      "[Parallel(n_jobs=1)]: Done  29 out of  29 | elapsed:  6.8min remaining:    0.0s\n",
      "[CV] solver=saga, penalty=l2, multi_class=auto, max_iter=50, C=10 ....\n",
      "[CV]  solver=saga, penalty=l2, multi_class=auto, max_iter=50, C=10, score=1.000, total=  25.7s\n",
      "[Parallel(n_jobs=1)]: Done  30 out of  30 | elapsed:  7.3min remaining:    0.0s\n",
      "[CV] solver=newton-cg, penalty=None, multi_class=multinomial, max_iter=100, C=0.1 \n",
      "[CV]  solver=newton-cg, penalty=None, multi_class=multinomial, max_iter=100, C=0.1, score=nan, total=   0.2s\n",
      "[Parallel(n_jobs=1)]: Done  31 out of  31 | elapsed:  7.3min remaining:    0.0s\n",
      "[CV] solver=newton-cg, penalty=None, multi_class=multinomial, max_iter=100, C=0.1 \n",
      "[CV]  solver=newton-cg, penalty=None, multi_class=multinomial, max_iter=100, C=0.1, score=nan, total=   0.2s\n"
     ]
    },
    {
     "name": "stdout",
     "output_type": "stream",
     "text": [
      "[Parallel(n_jobs=1)]: Done  32 out of  32 | elapsed:  7.3min remaining:    0.0s\n",
      "[CV] solver=newton-cg, penalty=None, multi_class=multinomial, max_iter=100, C=0.1 \n",
      "[CV]  solver=newton-cg, penalty=None, multi_class=multinomial, max_iter=100, C=0.1, score=nan, total=   0.2s\n",
      "[Parallel(n_jobs=1)]: Done  33 out of  33 | elapsed:  7.3min remaining:    0.0s\n",
      "[CV] solver=newton-cg, penalty=None, multi_class=multinomial, max_iter=100, C=0.1 \n",
      "[CV]  solver=newton-cg, penalty=None, multi_class=multinomial, max_iter=100, C=0.1, score=nan, total=   0.2s\n",
      "[Parallel(n_jobs=1)]: Done  34 out of  34 | elapsed:  7.3min remaining:    0.0s\n",
      "[CV] solver=newton-cg, penalty=None, multi_class=multinomial, max_iter=100, C=0.1 \n",
      "[CV]  solver=newton-cg, penalty=None, multi_class=multinomial, max_iter=100, C=0.1, score=nan, total=   0.2s\n",
      "[Parallel(n_jobs=1)]: Done  35 out of  35 | elapsed:  7.3min remaining:    0.0s\n",
      "[CV] solver=liblinear, penalty=l2, multi_class=multinomial, max_iter=10, C=1.0 \n",
      "[CV]  solver=liblinear, penalty=l2, multi_class=multinomial, max_iter=10, C=1.0, score=nan, total=   0.2s\n",
      "[Parallel(n_jobs=1)]: Done  36 out of  36 | elapsed:  7.3min remaining:    0.0s\n",
      "[CV] solver=liblinear, penalty=l2, multi_class=multinomial, max_iter=10, C=1.0 \n",
      "[CV]  solver=liblinear, penalty=l2, multi_class=multinomial, max_iter=10, C=1.0, score=nan, total=   0.2s\n",
      "[Parallel(n_jobs=1)]: Done  37 out of  37 | elapsed:  7.3min remaining:    0.0s\n",
      "[CV] solver=liblinear, penalty=l2, multi_class=multinomial, max_iter=10, C=1.0 \n",
      "[CV]  solver=liblinear, penalty=l2, multi_class=multinomial, max_iter=10, C=1.0, score=nan, total=   0.2s\n",
      "[Parallel(n_jobs=1)]: Done  38 out of  38 | elapsed:  7.3min remaining:    0.0s\n",
      "[CV] solver=liblinear, penalty=l2, multi_class=multinomial, max_iter=10, C=1.0 \n",
      "[CV]  solver=liblinear, penalty=l2, multi_class=multinomial, max_iter=10, C=1.0, score=nan, total=   0.2s\n",
      "[Parallel(n_jobs=1)]: Done  39 out of  39 | elapsed:  7.3min remaining:    0.0s\n",
      "[CV] solver=liblinear, penalty=l2, multi_class=multinomial, max_iter=10, C=1.0 \n",
      "[CV]  solver=liblinear, penalty=l2, multi_class=multinomial, max_iter=10, C=1.0, score=nan, total=   0.2s\n",
      "[Parallel(n_jobs=1)]: Done  40 out of  40 | elapsed:  7.3min remaining:    0.0s\n",
      "[CV] solver=newton-cg, penalty=None, multi_class=multinomial, max_iter=100, C=100 \n",
      "[CV]  solver=newton-cg, penalty=None, multi_class=multinomial, max_iter=100, C=100, score=nan, total=   0.1s\n",
      "[Parallel(n_jobs=1)]: Done  41 out of  41 | elapsed:  7.3min remaining:    0.0s\n",
      "[CV] solver=newton-cg, penalty=None, multi_class=multinomial, max_iter=100, C=100 \n",
      "[CV]  solver=newton-cg, penalty=None, multi_class=multinomial, max_iter=100, C=100, score=nan, total=   0.2s\n",
      "[Parallel(n_jobs=1)]: Done  42 out of  42 | elapsed:  7.3min remaining:    0.0s\n",
      "[CV] solver=newton-cg, penalty=None, multi_class=multinomial, max_iter=100, C=100 \n",
      "[CV]  solver=newton-cg, penalty=None, multi_class=multinomial, max_iter=100, C=100, score=nan, total=   0.2s\n",
      "[Parallel(n_jobs=1)]: Done  43 out of  43 | elapsed:  7.3min remaining:    0.0s\n",
      "[CV] solver=newton-cg, penalty=None, multi_class=multinomial, max_iter=100, C=100 \n",
      "[CV]  solver=newton-cg, penalty=None, multi_class=multinomial, max_iter=100, C=100, score=nan, total=   0.2s\n",
      "[Parallel(n_jobs=1)]: Done  44 out of  44 | elapsed:  7.3min remaining:    0.0s\n",
      "[CV] solver=newton-cg, penalty=None, multi_class=multinomial, max_iter=100, C=100 \n",
      "[CV]  solver=newton-cg, penalty=None, multi_class=multinomial, max_iter=100, C=100, score=nan, total=   0.2s\n",
      "[Parallel(n_jobs=1)]: Done  45 out of  45 | elapsed:  7.3min remaining:    0.0s\n",
      "[CV] solver=liblinear, penalty=None, multi_class=auto, max_iter=75, C=1.0 \n",
      "[CV]  solver=liblinear, penalty=None, multi_class=auto, max_iter=75, C=1.0, score=nan, total=   0.1s\n",
      "[Parallel(n_jobs=1)]: Done  46 out of  46 | elapsed:  7.3min remaining:    0.0s\n",
      "[CV] solver=liblinear, penalty=None, multi_class=auto, max_iter=75, C=1.0 \n",
      "[CV]  solver=liblinear, penalty=None, multi_class=auto, max_iter=75, C=1.0, score=nan, total=   0.2s\n",
      "[Parallel(n_jobs=1)]: Done  47 out of  47 | elapsed:  7.3min remaining:    0.0s\n",
      "[CV] solver=liblinear, penalty=None, multi_class=auto, max_iter=75, C=1.0 \n",
      "[CV]  solver=liblinear, penalty=None, multi_class=auto, max_iter=75, C=1.0, score=nan, total=   0.2s\n",
      "[Parallel(n_jobs=1)]: Done  48 out of  48 | elapsed:  7.3min remaining:    0.0s\n",
      "[CV] solver=liblinear, penalty=None, multi_class=auto, max_iter=75, C=1.0 \n",
      "[CV]  solver=liblinear, penalty=None, multi_class=auto, max_iter=75, C=1.0, score=nan, total=   0.2s\n",
      "[Parallel(n_jobs=1)]: Done  49 out of  49 | elapsed:  7.3min remaining:    0.0s\n",
      "[CV] solver=liblinear, penalty=None, multi_class=auto, max_iter=75, C=1.0 \n",
      "[CV]  solver=liblinear, penalty=None, multi_class=auto, max_iter=75, C=1.0, score=nan, total=   0.2s\n",
      "[Parallel(n_jobs=1)]: Done  50 out of  50 | elapsed:  7.3min remaining:    0.0s\n",
      "[Parallel(n_jobs=1)]: Done  50 out of  50 | elapsed:  7.3min finished\n"
     ]
    }
   ],
   "source": [
    "best_lr = RandomizedSearchCV(lr, lr_parameters, n_iter=10, cv=5, random_state=seed, verbose=100, scoring=\"accuracy\")\n",
    "lr_start = time.time()\n",
    "best_lr.fit(X_train, y_train)\n",
    "lr_end = time.time()\n",
    "lr_time_taken = (lr_end-lr_start)/50"
   ]
  },
  {
   "cell_type": "code",
   "execution_count": 73,
   "metadata": {},
   "outputs": [
    {
     "name": "stdout",
     "output_type": "stream",
     "text": [
      "10.093187422752381\n"
     ]
    }
   ],
   "source": [
    "print(lr_time_taken)"
   ]
  },
  {
   "cell_type": "code",
   "execution_count": 74,
   "metadata": {},
   "outputs": [],
   "source": [
    "time_taken.append(lr_time_taken)"
   ]
  },
  {
   "cell_type": "code",
   "execution_count": 75,
   "metadata": {},
   "outputs": [
    {
     "data": {
      "text/plain": [
       "{'solver': 'saga',\n",
       " 'penalty': 'l2',\n",
       " 'multi_class': 'auto',\n",
       " 'max_iter': 100,\n",
       " 'C': 10}"
      ]
     },
     "execution_count": 75,
     "metadata": {},
     "output_type": "execute_result"
    }
   ],
   "source": [
    "best_lr.best_params_"
   ]
  },
  {
   "cell_type": "raw",
   "metadata": {},
   "source": [
    "lr_y_pred = best_lr.predict(X_val)"
   ]
  },
  {
   "cell_type": "raw",
   "metadata": {},
   "source": [
    "print(classification_report(y_val, lr_y_pred))"
   ]
  },
  {
   "cell_type": "code",
   "execution_count": 76,
   "metadata": {},
   "outputs": [],
   "source": [
    "lr_pickle = \"DDoS_lr_pickle.sav\"\n",
    "pickle.dump(best_lr, open(lr_pickle, \"wb\"))"
   ]
  },
  {
   "cell_type": "raw",
   "metadata": {},
   "source": [
    "lr_accuracy = accuracy_score(y_val, lr_y_pred)"
   ]
  },
  {
   "cell_type": "code",
   "execution_count": 77,
   "metadata": {},
   "outputs": [],
   "source": [
    "lr_accuracy = best_lr.best_score_"
   ]
  },
  {
   "cell_type": "code",
   "execution_count": 78,
   "metadata": {},
   "outputs": [
    {
     "data": {
      "text/plain": [
       "1.0"
      ]
     },
     "execution_count": 78,
     "metadata": {},
     "output_type": "execute_result"
    }
   ],
   "source": [
    "lr_accuracy"
   ]
  },
  {
   "cell_type": "code",
   "execution_count": 79,
   "metadata": {},
   "outputs": [],
   "source": [
    "train_accuracy_score.append(lr_accuracy)"
   ]
  },
  {
   "cell_type": "code",
   "execution_count": 80,
   "metadata": {},
   "outputs": [
    {
     "data": {
      "text/plain": [
       "[0.99975, 0.999625, 1.0, 1.0]"
      ]
     },
     "execution_count": 80,
     "metadata": {},
     "output_type": "execute_result"
    }
   ],
   "source": [
    "train_accuracy_score"
   ]
  },
  {
   "cell_type": "markdown",
   "metadata": {},
   "source": [
    "## KNeighbours"
   ]
  },
  {
   "cell_type": "code",
   "execution_count": 81,
   "metadata": {},
   "outputs": [],
   "source": [
    "knn = KNeighborsClassifier()"
   ]
  },
  {
   "cell_type": "code",
   "execution_count": 82,
   "metadata": {},
   "outputs": [],
   "source": [
    "knn_parameters = {\"n_neighbors\": [1, 5, 10, 25, 50, 75, 100],\n",
    "                  \"weights\": [\"uniform\", \"distance\"],\n",
    "                  \"algorithm\": [\"auto\", \"ball_tree\", \"kd_tree\", \"brute\"],\n",
    "                  \"leaf_size\": [1, 5, 10, 20, 30, 35, 50]\n",
    "    \n",
    "}"
   ]
  },
  {
   "cell_type": "code",
   "execution_count": 83,
   "metadata": {},
   "outputs": [
    {
     "name": "stdout",
     "output_type": "stream",
     "text": [
      "Fitting 5 folds for each of 10 candidates, totalling 50 fits\n",
      "[Parallel(n_jobs=1)]: Using backend SequentialBackend with 1 concurrent workers.\n",
      "[CV] weights=uniform, n_neighbors=100, leaf_size=50, algorithm=ball_tree \n",
      "[CV]  weights=uniform, n_neighbors=100, leaf_size=50, algorithm=ball_tree, score=0.991, total= 2.0min\n",
      "[Parallel(n_jobs=1)]: Done   1 out of   1 | elapsed:  2.0min remaining:    0.0s\n",
      "[CV] weights=uniform, n_neighbors=100, leaf_size=50, algorithm=ball_tree \n",
      "[CV]  weights=uniform, n_neighbors=100, leaf_size=50, algorithm=ball_tree, score=0.988, total= 2.0min\n",
      "[Parallel(n_jobs=1)]: Done   2 out of   2 | elapsed:  4.0min remaining:    0.0s\n",
      "[CV] weights=uniform, n_neighbors=100, leaf_size=50, algorithm=ball_tree \n",
      "[CV]  weights=uniform, n_neighbors=100, leaf_size=50, algorithm=ball_tree, score=0.990, total= 2.0min\n",
      "[Parallel(n_jobs=1)]: Done   3 out of   3 | elapsed:  6.1min remaining:    0.0s\n",
      "[CV] weights=uniform, n_neighbors=100, leaf_size=50, algorithm=ball_tree \n",
      "[CV]  weights=uniform, n_neighbors=100, leaf_size=50, algorithm=ball_tree, score=0.991, total= 2.0min\n",
      "[Parallel(n_jobs=1)]: Done   4 out of   4 | elapsed:  8.1min remaining:    0.0s\n",
      "[CV] weights=uniform, n_neighbors=100, leaf_size=50, algorithm=ball_tree \n",
      "[CV]  weights=uniform, n_neighbors=100, leaf_size=50, algorithm=ball_tree, score=0.989, total= 2.0min\n",
      "[Parallel(n_jobs=1)]: Done   5 out of   5 | elapsed: 10.1min remaining:    0.0s\n",
      "[CV] weights=uniform, n_neighbors=50, leaf_size=30, algorithm=kd_tree \n",
      "[CV]  weights=uniform, n_neighbors=50, leaf_size=30, algorithm=kd_tree, score=0.991, total= 2.6min\n",
      "[Parallel(n_jobs=1)]: Done   6 out of   6 | elapsed: 12.7min remaining:    0.0s\n",
      "[CV] weights=uniform, n_neighbors=50, leaf_size=30, algorithm=kd_tree \n",
      "[CV]  weights=uniform, n_neighbors=50, leaf_size=30, algorithm=kd_tree, score=0.990, total= 2.6min\n",
      "[Parallel(n_jobs=1)]: Done   7 out of   7 | elapsed: 15.3min remaining:    0.0s\n",
      "[CV] weights=uniform, n_neighbors=50, leaf_size=30, algorithm=kd_tree \n",
      "[CV]  weights=uniform, n_neighbors=50, leaf_size=30, algorithm=kd_tree, score=0.993, total= 2.6min\n",
      "[Parallel(n_jobs=1)]: Done   8 out of   8 | elapsed: 17.9min remaining:    0.0s\n",
      "[CV] weights=uniform, n_neighbors=50, leaf_size=30, algorithm=kd_tree \n",
      "[CV]  weights=uniform, n_neighbors=50, leaf_size=30, algorithm=kd_tree, score=0.996, total= 2.6min\n",
      "[Parallel(n_jobs=1)]: Done   9 out of   9 | elapsed: 20.5min remaining:    0.0s\n",
      "[CV] weights=uniform, n_neighbors=50, leaf_size=30, algorithm=kd_tree \n",
      "[CV]  weights=uniform, n_neighbors=50, leaf_size=30, algorithm=kd_tree, score=0.989, total= 2.6min\n",
      "[Parallel(n_jobs=1)]: Done  10 out of  10 | elapsed: 23.1min remaining:    0.0s\n",
      "[CV] weights=uniform, n_neighbors=1, leaf_size=5, algorithm=brute ....\n",
      "[CV]  weights=uniform, n_neighbors=1, leaf_size=5, algorithm=brute, score=0.999, total=   1.7s\n",
      "[Parallel(n_jobs=1)]: Done  11 out of  11 | elapsed: 23.1min remaining:    0.0s\n",
      "[CV] weights=uniform, n_neighbors=1, leaf_size=5, algorithm=brute ....\n",
      "[CV]  weights=uniform, n_neighbors=1, leaf_size=5, algorithm=brute, score=1.000, total=   1.7s\n",
      "[Parallel(n_jobs=1)]: Done  12 out of  12 | elapsed: 23.1min remaining:    0.0s\n",
      "[CV] weights=uniform, n_neighbors=1, leaf_size=5, algorithm=brute ....\n",
      "[CV]  weights=uniform, n_neighbors=1, leaf_size=5, algorithm=brute, score=1.000, total=   1.7s\n",
      "[Parallel(n_jobs=1)]: Done  13 out of  13 | elapsed: 23.2min remaining:    0.0s\n",
      "[CV] weights=uniform, n_neighbors=1, leaf_size=5, algorithm=brute ....\n",
      "[CV]  weights=uniform, n_neighbors=1, leaf_size=5, algorithm=brute, score=1.000, total=   1.7s\n",
      "[Parallel(n_jobs=1)]: Done  14 out of  14 | elapsed: 23.2min remaining:    0.0s\n",
      "[CV] weights=uniform, n_neighbors=1, leaf_size=5, algorithm=brute ....\n",
      "[CV]  weights=uniform, n_neighbors=1, leaf_size=5, algorithm=brute, score=0.999, total=   1.7s\n",
      "[Parallel(n_jobs=1)]: Done  15 out of  15 | elapsed: 23.2min remaining:    0.0s\n",
      "[CV] weights=uniform, n_neighbors=75, leaf_size=35, algorithm=brute ..\n",
      "[CV]  weights=uniform, n_neighbors=75, leaf_size=35, algorithm=brute, score=0.989, total=   1.7s\n",
      "[Parallel(n_jobs=1)]: Done  16 out of  16 | elapsed: 23.2min remaining:    0.0s\n",
      "[CV] weights=uniform, n_neighbors=75, leaf_size=35, algorithm=brute ..\n",
      "[CV]  weights=uniform, n_neighbors=75, leaf_size=35, algorithm=brute, score=0.989, total=   1.8s\n",
      "[Parallel(n_jobs=1)]: Done  17 out of  17 | elapsed: 23.3min remaining:    0.0s\n",
      "[CV] weights=uniform, n_neighbors=75, leaf_size=35, algorithm=brute ..\n",
      "[CV]  weights=uniform, n_neighbors=75, leaf_size=35, algorithm=brute, score=0.989, total=   1.7s\n",
      "[Parallel(n_jobs=1)]: Done  18 out of  18 | elapsed: 23.3min remaining:    0.0s\n",
      "[CV] weights=uniform, n_neighbors=75, leaf_size=35, algorithm=brute ..\n",
      "[CV]  weights=uniform, n_neighbors=75, leaf_size=35, algorithm=brute, score=0.992, total=   1.8s\n",
      "[Parallel(n_jobs=1)]: Done  19 out of  19 | elapsed: 23.3min remaining:    0.0s\n",
      "[CV] weights=uniform, n_neighbors=75, leaf_size=35, algorithm=brute ..\n",
      "[CV]  weights=uniform, n_neighbors=75, leaf_size=35, algorithm=brute, score=0.990, total=   1.8s\n",
      "[Parallel(n_jobs=1)]: Done  20 out of  20 | elapsed: 23.4min remaining:    0.0s\n",
      "[CV] weights=distance, n_neighbors=5, leaf_size=30, algorithm=brute ..\n",
      "[CV]  weights=distance, n_neighbors=5, leaf_size=30, algorithm=brute, score=0.999, total=   1.7s\n",
      "[Parallel(n_jobs=1)]: Done  21 out of  21 | elapsed: 23.4min remaining:    0.0s\n",
      "[CV] weights=distance, n_neighbors=5, leaf_size=30, algorithm=brute ..\n",
      "[CV]  weights=distance, n_neighbors=5, leaf_size=30, algorithm=brute, score=1.000, total=   1.7s\n",
      "[Parallel(n_jobs=1)]: Done  22 out of  22 | elapsed: 23.4min remaining:    0.0s\n",
      "[CV] weights=distance, n_neighbors=5, leaf_size=30, algorithm=brute ..\n",
      "[CV]  weights=distance, n_neighbors=5, leaf_size=30, algorithm=brute, score=0.999, total=   1.7s\n",
      "[Parallel(n_jobs=1)]: Done  23 out of  23 | elapsed: 23.4min remaining:    0.0s\n",
      "[CV] weights=distance, n_neighbors=5, leaf_size=30, algorithm=brute ..\n",
      "[CV]  weights=distance, n_neighbors=5, leaf_size=30, algorithm=brute, score=0.999, total=   1.8s\n",
      "[Parallel(n_jobs=1)]: Done  24 out of  24 | elapsed: 23.5min remaining:    0.0s\n",
      "[CV] weights=distance, n_neighbors=5, leaf_size=30, algorithm=brute ..\n",
      "[CV]  weights=distance, n_neighbors=5, leaf_size=30, algorithm=brute, score=0.998, total=   1.8s\n",
      "[Parallel(n_jobs=1)]: Done  25 out of  25 | elapsed: 23.5min remaining:    0.0s\n",
      "[CV] weights=distance, n_neighbors=1, leaf_size=5, algorithm=kd_tree .\n",
      "[CV]  weights=distance, n_neighbors=1, leaf_size=5, algorithm=kd_tree, score=0.999, total= 3.9min\n",
      "[Parallel(n_jobs=1)]: Done  26 out of  26 | elapsed: 27.4min remaining:    0.0s\n",
      "[CV] weights=distance, n_neighbors=1, leaf_size=5, algorithm=kd_tree .\n",
      "[CV]  weights=distance, n_neighbors=1, leaf_size=5, algorithm=kd_tree, score=1.000, total= 4.0min\n",
      "[Parallel(n_jobs=1)]: Done  27 out of  27 | elapsed: 31.4min remaining:    0.0s\n",
      "[CV] weights=distance, n_neighbors=1, leaf_size=5, algorithm=kd_tree .\n",
      "[CV]  weights=distance, n_neighbors=1, leaf_size=5, algorithm=kd_tree, score=1.000, total= 4.0min\n",
      "[Parallel(n_jobs=1)]: Done  28 out of  28 | elapsed: 35.4min remaining:    0.0s\n",
      "[CV] weights=distance, n_neighbors=1, leaf_size=5, algorithm=kd_tree .\n",
      "[CV]  weights=distance, n_neighbors=1, leaf_size=5, algorithm=kd_tree, score=1.000, total= 4.0min\n",
      "[Parallel(n_jobs=1)]: Done  29 out of  29 | elapsed: 39.4min remaining:    0.0s\n",
      "[CV] weights=distance, n_neighbors=1, leaf_size=5, algorithm=kd_tree .\n",
      "[CV]  weights=distance, n_neighbors=1, leaf_size=5, algorithm=kd_tree, score=0.999, total= 4.0min\n",
      "[Parallel(n_jobs=1)]: Done  30 out of  30 | elapsed: 43.4min remaining:    0.0s\n",
      "[CV] weights=uniform, n_neighbors=100, leaf_size=30, algorithm=auto ..\n",
      "[CV]  weights=uniform, n_neighbors=100, leaf_size=30, algorithm=auto, score=0.991, total= 2.7min\n",
      "[Parallel(n_jobs=1)]: Done  31 out of  31 | elapsed: 46.0min remaining:    0.0s\n",
      "[CV] weights=uniform, n_neighbors=100, leaf_size=30, algorithm=auto ..\n",
      "[CV]  weights=uniform, n_neighbors=100, leaf_size=30, algorithm=auto, score=0.987, total= 2.7min\n",
      "[Parallel(n_jobs=1)]: Done  32 out of  32 | elapsed: 48.7min remaining:    0.0s\n",
      "[CV] weights=uniform, n_neighbors=100, leaf_size=30, algorithm=auto ..\n"
     ]
    },
    {
     "name": "stdout",
     "output_type": "stream",
     "text": [
      "[CV]  weights=uniform, n_neighbors=100, leaf_size=30, algorithm=auto, score=0.990, total= 3.0min\n",
      "[Parallel(n_jobs=1)]: Done  33 out of  33 | elapsed: 51.7min remaining:    0.0s\n",
      "[CV] weights=uniform, n_neighbors=100, leaf_size=30, algorithm=auto ..\n",
      "[CV]  weights=uniform, n_neighbors=100, leaf_size=30, algorithm=auto, score=0.990, total= 2.8min\n",
      "[Parallel(n_jobs=1)]: Done  34 out of  34 | elapsed: 54.5min remaining:    0.0s\n",
      "[CV] weights=uniform, n_neighbors=100, leaf_size=30, algorithm=auto ..\n",
      "[CV]  weights=uniform, n_neighbors=100, leaf_size=30, algorithm=auto, score=0.989, total= 3.1min\n",
      "[Parallel(n_jobs=1)]: Done  35 out of  35 | elapsed: 57.6min remaining:    0.0s\n",
      "[CV] weights=uniform, n_neighbors=75, leaf_size=5, algorithm=kd_tree .\n",
      "[CV]  weights=uniform, n_neighbors=75, leaf_size=5, algorithm=kd_tree, score=0.991, total= 7.3min\n",
      "[Parallel(n_jobs=1)]: Done  36 out of  36 | elapsed: 64.9min remaining:    0.0s\n",
      "[CV] weights=uniform, n_neighbors=75, leaf_size=5, algorithm=kd_tree .\n",
      "[CV]  weights=uniform, n_neighbors=75, leaf_size=5, algorithm=kd_tree, score=0.989, total= 7.0min\n",
      "[Parallel(n_jobs=1)]: Done  37 out of  37 | elapsed: 71.9min remaining:    0.0s\n",
      "[CV] weights=uniform, n_neighbors=75, leaf_size=5, algorithm=kd_tree .\n",
      "[CV]  weights=uniform, n_neighbors=75, leaf_size=5, algorithm=kd_tree, score=0.991, total= 6.5min\n",
      "[Parallel(n_jobs=1)]: Done  38 out of  38 | elapsed: 78.4min remaining:    0.0s\n",
      "[CV] weights=uniform, n_neighbors=75, leaf_size=5, algorithm=kd_tree .\n",
      "[CV]  weights=uniform, n_neighbors=75, leaf_size=5, algorithm=kd_tree, score=0.993, total= 6.3min\n",
      "[Parallel(n_jobs=1)]: Done  39 out of  39 | elapsed: 84.7min remaining:    0.0s\n",
      "[CV] weights=uniform, n_neighbors=75, leaf_size=5, algorithm=kd_tree .\n",
      "[CV]  weights=uniform, n_neighbors=75, leaf_size=5, algorithm=kd_tree, score=0.991, total= 6.6min\n",
      "[Parallel(n_jobs=1)]: Done  40 out of  40 | elapsed: 91.3min remaining:    0.0s\n",
      "[CV] weights=uniform, n_neighbors=10, leaf_size=35, algorithm=ball_tree \n",
      "[CV]  weights=uniform, n_neighbors=10, leaf_size=35, algorithm=ball_tree, score=0.999, total= 2.2min\n",
      "[Parallel(n_jobs=1)]: Done  41 out of  41 | elapsed: 93.5min remaining:    0.0s\n",
      "[CV] weights=uniform, n_neighbors=10, leaf_size=35, algorithm=ball_tree \n",
      "[CV]  weights=uniform, n_neighbors=10, leaf_size=35, algorithm=ball_tree, score=0.999, total= 2.2min\n",
      "[Parallel(n_jobs=1)]: Done  42 out of  42 | elapsed: 95.7min remaining:    0.0s\n",
      "[CV] weights=uniform, n_neighbors=10, leaf_size=35, algorithm=ball_tree \n",
      "[CV]  weights=uniform, n_neighbors=10, leaf_size=35, algorithm=ball_tree, score=0.999, total= 2.2min\n",
      "[Parallel(n_jobs=1)]: Done  43 out of  43 | elapsed: 97.9min remaining:    0.0s\n",
      "[CV] weights=uniform, n_neighbors=10, leaf_size=35, algorithm=ball_tree \n",
      "[CV]  weights=uniform, n_neighbors=10, leaf_size=35, algorithm=ball_tree, score=0.998, total= 2.1min\n",
      "[Parallel(n_jobs=1)]: Done  44 out of  44 | elapsed: 100.0min remaining:    0.0s\n",
      "[CV] weights=uniform, n_neighbors=10, leaf_size=35, algorithm=ball_tree \n",
      "[CV]  weights=uniform, n_neighbors=10, leaf_size=35, algorithm=ball_tree, score=0.998, total= 2.1min\n",
      "[Parallel(n_jobs=1)]: Done  45 out of  45 | elapsed: 102.0min remaining:    0.0s\n",
      "[CV] weights=uniform, n_neighbors=50, leaf_size=35, algorithm=kd_tree \n",
      "[CV]  weights=uniform, n_neighbors=50, leaf_size=35, algorithm=kd_tree, score=0.991, total= 2.6min\n",
      "[Parallel(n_jobs=1)]: Done  46 out of  46 | elapsed: 104.6min remaining:    0.0s\n",
      "[CV] weights=uniform, n_neighbors=50, leaf_size=35, algorithm=kd_tree \n",
      "[CV]  weights=uniform, n_neighbors=50, leaf_size=35, algorithm=kd_tree, score=0.990, total= 3.4min\n",
      "[Parallel(n_jobs=1)]: Done  47 out of  47 | elapsed: 108.0min remaining:    0.0s\n",
      "[CV] weights=uniform, n_neighbors=50, leaf_size=35, algorithm=kd_tree \n",
      "[CV]  weights=uniform, n_neighbors=50, leaf_size=35, algorithm=kd_tree, score=0.993, total= 2.8min\n",
      "[Parallel(n_jobs=1)]: Done  48 out of  48 | elapsed: 110.8min remaining:    0.0s\n",
      "[CV] weights=uniform, n_neighbors=50, leaf_size=35, algorithm=kd_tree \n",
      "[CV]  weights=uniform, n_neighbors=50, leaf_size=35, algorithm=kd_tree, score=0.996, total= 2.7min\n",
      "[Parallel(n_jobs=1)]: Done  49 out of  49 | elapsed: 113.5min remaining:    0.0s\n",
      "[CV] weights=uniform, n_neighbors=50, leaf_size=35, algorithm=kd_tree \n",
      "[CV]  weights=uniform, n_neighbors=50, leaf_size=35, algorithm=kd_tree, score=0.989, total= 2.8min\n",
      "[Parallel(n_jobs=1)]: Done  50 out of  50 | elapsed: 116.4min remaining:    0.0s\n",
      "[Parallel(n_jobs=1)]: Done  50 out of  50 | elapsed: 116.4min finished\n"
     ]
    }
   ],
   "source": [
    "best_knn = RandomizedSearchCV(knn, knn_parameters, n_iter=10, cv=5, random_state=seed, verbose=100, scoring=\"accuracy\")\n",
    "knn_start = time.time()\n",
    "best_knn.fit(X_train, y_train)\n",
    "knn_end = time.time()\n",
    "knn_time_taken = (knn_end-knn_start)/50"
   ]
  },
  {
   "cell_type": "code",
   "execution_count": 84,
   "metadata": {},
   "outputs": [
    {
     "name": "stdout",
     "output_type": "stream",
     "text": [
      "139.63289738178253\n"
     ]
    }
   ],
   "source": [
    "print(knn_time_taken)"
   ]
  },
  {
   "cell_type": "code",
   "execution_count": 85,
   "metadata": {},
   "outputs": [],
   "source": [
    "time_taken.append(knn_time_taken)"
   ]
  },
  {
   "cell_type": "code",
   "execution_count": 86,
   "metadata": {},
   "outputs": [
    {
     "data": {
      "text/plain": [
       "{'weights': 'uniform', 'n_neighbors': 1, 'leaf_size': 5, 'algorithm': 'brute'}"
      ]
     },
     "execution_count": 86,
     "metadata": {},
     "output_type": "execute_result"
    }
   ],
   "source": [
    "best_knn.best_params_"
   ]
  },
  {
   "cell_type": "raw",
   "metadata": {},
   "source": [
    "knn_y_pred = best_knn.predict(X_val)"
   ]
  },
  {
   "cell_type": "raw",
   "metadata": {},
   "source": [
    "print(classification_report(y_val, knn_y_pred))"
   ]
  },
  {
   "cell_type": "code",
   "execution_count": 87,
   "metadata": {},
   "outputs": [],
   "source": [
    "knn_pickle = \"DDoS_knn_pickle.sav\"\n",
    "pickle.dump(best_knn, open(knn_pickle, \"wb\"))"
   ]
  },
  {
   "cell_type": "raw",
   "metadata": {},
   "source": [
    "knn_accuracy = accuracy_score(y_val, knn_y_pred)"
   ]
  },
  {
   "cell_type": "code",
   "execution_count": 88,
   "metadata": {},
   "outputs": [],
   "source": [
    "knn_accuracy = best_knn.best_score_"
   ]
  },
  {
   "cell_type": "code",
   "execution_count": 89,
   "metadata": {},
   "outputs": [
    {
     "data": {
      "text/plain": [
       "0.999625"
      ]
     },
     "execution_count": 89,
     "metadata": {},
     "output_type": "execute_result"
    }
   ],
   "source": [
    "knn_accuracy"
   ]
  },
  {
   "cell_type": "code",
   "execution_count": 90,
   "metadata": {},
   "outputs": [],
   "source": [
    "train_accuracy_score.append(knn_accuracy)"
   ]
  },
  {
   "cell_type": "code",
   "execution_count": 91,
   "metadata": {},
   "outputs": [
    {
     "data": {
      "text/plain": [
       "[0.99975, 0.999625, 1.0, 1.0, 0.999625]"
      ]
     },
     "execution_count": 91,
     "metadata": {},
     "output_type": "execute_result"
    }
   ],
   "source": [
    "train_accuracy_score"
   ]
  },
  {
   "cell_type": "markdown",
   "metadata": {},
   "source": [
    "## Multinomial NB\n",
    "\n",
    "Special case with few hyperparameters to tune (Reduced)"
   ]
  },
  {
   "cell_type": "code",
   "execution_count": 92,
   "metadata": {},
   "outputs": [],
   "source": [
    "nb = MultinomialNB()"
   ]
  },
  {
   "cell_type": "code",
   "execution_count": 93,
   "metadata": {},
   "outputs": [
    {
     "data": {
      "text/plain": [
       "dict_keys(['alpha', 'class_prior', 'fit_prior'])"
      ]
     },
     "execution_count": 93,
     "metadata": {},
     "output_type": "execute_result"
    }
   ],
   "source": [
    "nb.get_params().keys()"
   ]
  },
  {
   "cell_type": "code",
   "execution_count": 94,
   "metadata": {},
   "outputs": [],
   "source": [
    "nb_parameters = {\"alpha\": [0, 0.0001, 0.001, 0.01, 0.1, 1, 10],\n",
    "                  \"class_prior\": [None],\n",
    "                  \"fit_prior\": [True, False]\n",
    "    \n",
    "}"
   ]
  },
  {
   "cell_type": "code",
   "execution_count": 95,
   "metadata": {},
   "outputs": [
    {
     "name": "stdout",
     "output_type": "stream",
     "text": [
      "Fitting 5 folds for each of 10 candidates, totalling 50 fits\n",
      "[Parallel(n_jobs=1)]: Using backend SequentialBackend with 1 concurrent workers.\n",
      "[CV] fit_prior=False, class_prior=None, alpha=0.001 ..................\n",
      "[CV]  fit_prior=False, class_prior=None, alpha=0.001, score=0.998, total=   0.3s\n",
      "[Parallel(n_jobs=1)]: Done   1 out of   1 | elapsed:    0.2s remaining:    0.0s\n",
      "[CV] fit_prior=False, class_prior=None, alpha=0.001 ..................\n",
      "[CV]  fit_prior=False, class_prior=None, alpha=0.001, score=0.999, total=   0.3s\n",
      "[Parallel(n_jobs=1)]: Done   2 out of   2 | elapsed:    0.6s remaining:    0.0s\n",
      "[CV] fit_prior=False, class_prior=None, alpha=0.001 ..................\n",
      "[CV]  fit_prior=False, class_prior=None, alpha=0.001, score=1.000, total=   0.3s\n",
      "[Parallel(n_jobs=1)]: Done   3 out of   3 | elapsed:    1.0s remaining:    0.0s\n",
      "[CV] fit_prior=False, class_prior=None, alpha=0.001 ..................\n",
      "[CV]  fit_prior=False, class_prior=None, alpha=0.001, score=0.999, total=   0.3s\n",
      "[Parallel(n_jobs=1)]: Done   4 out of   4 | elapsed:    1.3s remaining:    0.0s\n",
      "[CV] fit_prior=False, class_prior=None, alpha=0.001 ..................\n",
      "[CV]  fit_prior=False, class_prior=None, alpha=0.001, score=0.998, total=   0.3s\n",
      "[Parallel(n_jobs=1)]: Done   5 out of   5 | elapsed:    1.7s remaining:    0.0s\n",
      "[CV] fit_prior=True, class_prior=None, alpha=0.0001 ..................\n",
      "[CV]  fit_prior=True, class_prior=None, alpha=0.0001, score=0.998, total=   0.3s\n",
      "[Parallel(n_jobs=1)]: Done   6 out of   6 | elapsed:    2.1s remaining:    0.0s\n",
      "[CV] fit_prior=True, class_prior=None, alpha=0.0001 ..................\n",
      "[CV]  fit_prior=True, class_prior=None, alpha=0.0001, score=0.999, total=   0.3s\n",
      "[Parallel(n_jobs=1)]: Done   7 out of   7 | elapsed:    2.4s remaining:    0.0s\n",
      "[CV] fit_prior=True, class_prior=None, alpha=0.0001 ..................\n",
      "[CV]  fit_prior=True, class_prior=None, alpha=0.0001, score=1.000, total=   0.3s\n",
      "[Parallel(n_jobs=1)]: Done   8 out of   8 | elapsed:    2.8s remaining:    0.0s\n",
      "[CV] fit_prior=True, class_prior=None, alpha=0.0001 ..................\n",
      "[CV]  fit_prior=True, class_prior=None, alpha=0.0001, score=0.999, total=   0.4s\n",
      "[Parallel(n_jobs=1)]: Done   9 out of   9 | elapsed:    3.2s remaining:    0.0s\n",
      "[CV] fit_prior=True, class_prior=None, alpha=0.0001 ..................\n",
      "[CV]  fit_prior=True, class_prior=None, alpha=0.0001, score=0.998, total=   0.4s\n",
      "[Parallel(n_jobs=1)]: Done  10 out of  10 | elapsed:    3.6s remaining:    0.0s\n",
      "[CV] fit_prior=False, class_prior=None, alpha=1 ......................\n",
      "[CV]  fit_prior=False, class_prior=None, alpha=1, score=0.997, total=   0.4s\n",
      "[Parallel(n_jobs=1)]: Done  11 out of  11 | elapsed:    4.1s remaining:    0.0s\n",
      "[CV] fit_prior=False, class_prior=None, alpha=1 ......................\n",
      "[CV]  fit_prior=False, class_prior=None, alpha=1, score=0.998, total=   0.5s\n",
      "[Parallel(n_jobs=1)]: Done  12 out of  12 | elapsed:    4.6s remaining:    0.0s\n",
      "[CV] fit_prior=False, class_prior=None, alpha=1 ......................\n",
      "[CV]  fit_prior=False, class_prior=None, alpha=1, score=0.999, total=   0.4s\n",
      "[Parallel(n_jobs=1)]: Done  13 out of  13 | elapsed:    5.1s remaining:    0.0s\n",
      "[CV] fit_prior=False, class_prior=None, alpha=1 ......................\n",
      "[CV]  fit_prior=False, class_prior=None, alpha=1, score=0.999, total=   0.4s\n",
      "[Parallel(n_jobs=1)]: Done  14 out of  14 | elapsed:    5.5s remaining:    0.0s\n",
      "[CV] fit_prior=False, class_prior=None, alpha=1 ......................\n",
      "[CV]  fit_prior=False, class_prior=None, alpha=1, score=0.995, total=   0.5s\n",
      "[Parallel(n_jobs=1)]: Done  15 out of  15 | elapsed:    6.1s remaining:    0.0s\n",
      "[CV] fit_prior=True, class_prior=None, alpha=0.1 .....................\n",
      "[CV]  fit_prior=True, class_prior=None, alpha=0.1, score=0.998, total=   0.4s\n",
      "[Parallel(n_jobs=1)]: Done  16 out of  16 | elapsed:    6.5s remaining:    0.0s\n",
      "[CV] fit_prior=True, class_prior=None, alpha=0.1 .....................\n",
      "[CV]  fit_prior=True, class_prior=None, alpha=0.1, score=0.999, total=   0.3s\n",
      "[Parallel(n_jobs=1)]: Done  17 out of  17 | elapsed:    6.9s remaining:    0.0s\n",
      "[CV] fit_prior=True, class_prior=None, alpha=0.1 .....................\n",
      "[CV]  fit_prior=True, class_prior=None, alpha=0.1, score=1.000, total=   0.3s\n",
      "[Parallel(n_jobs=1)]: Done  18 out of  18 | elapsed:    7.3s remaining:    0.0s\n",
      "[CV] fit_prior=True, class_prior=None, alpha=0.1 .....................\n",
      "[CV]  fit_prior=True, class_prior=None, alpha=0.1, score=0.999, total=   0.4s\n",
      "[Parallel(n_jobs=1)]: Done  19 out of  19 | elapsed:    7.7s remaining:    0.0s\n",
      "[CV] fit_prior=True, class_prior=None, alpha=0.1 .....................\n",
      "[CV]  fit_prior=True, class_prior=None, alpha=0.1, score=0.998, total=   0.3s\n",
      "[Parallel(n_jobs=1)]: Done  20 out of  20 | elapsed:    8.1s remaining:    0.0s\n",
      "[CV] fit_prior=True, class_prior=None, alpha=1 .......................\n",
      "[CV]  fit_prior=True, class_prior=None, alpha=1, score=0.997, total=   0.3s\n",
      "[Parallel(n_jobs=1)]: Done  21 out of  21 | elapsed:    8.4s remaining:    0.0s\n",
      "[CV] fit_prior=True, class_prior=None, alpha=1 .......................\n",
      "[CV]  fit_prior=True, class_prior=None, alpha=1, score=0.998, total=   0.3s\n",
      "[Parallel(n_jobs=1)]: Done  22 out of  22 | elapsed:    8.8s remaining:    0.0s\n",
      "[CV] fit_prior=True, class_prior=None, alpha=1 .......................\n",
      "[CV]  fit_prior=True, class_prior=None, alpha=1, score=0.999, total=   0.3s\n",
      "[Parallel(n_jobs=1)]: Done  23 out of  23 | elapsed:    9.1s remaining:    0.0s\n",
      "[CV] fit_prior=True, class_prior=None, alpha=1 .......................\n",
      "[CV]  fit_prior=True, class_prior=None, alpha=1, score=0.999, total=   0.3s\n",
      "[Parallel(n_jobs=1)]: Done  24 out of  24 | elapsed:    9.5s remaining:    0.0s\n",
      "[CV] fit_prior=True, class_prior=None, alpha=1 .......................\n",
      "[CV]  fit_prior=True, class_prior=None, alpha=1, score=0.995, total=   0.3s\n",
      "[Parallel(n_jobs=1)]: Done  25 out of  25 | elapsed:    9.9s remaining:    0.0s\n",
      "[CV] fit_prior=False, class_prior=None, alpha=0.01 ...................\n",
      "[CV]  fit_prior=False, class_prior=None, alpha=0.01, score=0.998, total=   0.3s\n",
      "[Parallel(n_jobs=1)]: Done  26 out of  26 | elapsed:   10.2s remaining:    0.0s\n",
      "[CV] fit_prior=False, class_prior=None, alpha=0.01 ...................\n",
      "[CV]  fit_prior=False, class_prior=None, alpha=0.01, score=0.999, total=   0.4s\n",
      "[Parallel(n_jobs=1)]: Done  27 out of  27 | elapsed:   10.7s remaining:    0.0s\n",
      "[CV] fit_prior=False, class_prior=None, alpha=0.01 ...................\n",
      "[CV]  fit_prior=False, class_prior=None, alpha=0.01, score=1.000, total=   0.5s\n",
      "[Parallel(n_jobs=1)]: Done  28 out of  28 | elapsed:   11.2s remaining:    0.0s\n",
      "[CV] fit_prior=False, class_prior=None, alpha=0.01 ...................\n",
      "[CV]  fit_prior=False, class_prior=None, alpha=0.01, score=0.999, total=   0.5s\n",
      "[Parallel(n_jobs=1)]: Done  29 out of  29 | elapsed:   11.8s remaining:    0.0s\n",
      "[CV] fit_prior=False, class_prior=None, alpha=0.01 ...................\n",
      "[CV]  fit_prior=False, class_prior=None, alpha=0.01, score=0.998, total=   0.5s\n",
      "[Parallel(n_jobs=1)]: Done  30 out of  30 | elapsed:   12.3s remaining:    0.0s\n",
      "[CV] fit_prior=True, class_prior=None, alpha=10 ......................\n",
      "[CV]  fit_prior=True, class_prior=None, alpha=10, score=0.994, total=   0.3s\n",
      "[Parallel(n_jobs=1)]: Done  31 out of  31 | elapsed:   12.7s remaining:    0.0s\n",
      "[CV] fit_prior=True, class_prior=None, alpha=10 ......................\n",
      "[CV]  fit_prior=True, class_prior=None, alpha=10, score=0.996, total=   0.3s\n",
      "[Parallel(n_jobs=1)]: Done  32 out of  32 | elapsed:   13.1s remaining:    0.0s\n",
      "[CV] fit_prior=True, class_prior=None, alpha=10 ......................\n",
      "[CV]  fit_prior=True, class_prior=None, alpha=10, score=0.993, total=   0.3s\n",
      "[Parallel(n_jobs=1)]: Done  33 out of  33 | elapsed:   13.4s remaining:    0.0s\n",
      "[CV] fit_prior=True, class_prior=None, alpha=10 ......................\n",
      "[CV]  fit_prior=True, class_prior=None, alpha=10, score=0.996, total=   0.3s\n",
      "[Parallel(n_jobs=1)]: Done  34 out of  34 | elapsed:   13.8s remaining:    0.0s\n",
      "[CV] fit_prior=True, class_prior=None, alpha=10 ......................\n",
      "[CV]  fit_prior=True, class_prior=None, alpha=10, score=0.991, total=   0.3s\n",
      "[Parallel(n_jobs=1)]: Done  35 out of  35 | elapsed:   14.1s remaining:    0.0s\n",
      "[CV] fit_prior=False, class_prior=None, alpha=10 .....................\n"
     ]
    },
    {
     "name": "stdout",
     "output_type": "stream",
     "text": [
      "[CV]  fit_prior=False, class_prior=None, alpha=10, score=0.994, total=   0.3s\n",
      "[Parallel(n_jobs=1)]: Done  36 out of  36 | elapsed:   14.5s remaining:    0.0s\n",
      "[CV] fit_prior=False, class_prior=None, alpha=10 .....................\n",
      "[CV]  fit_prior=False, class_prior=None, alpha=10, score=0.996, total=   0.3s\n",
      "[Parallel(n_jobs=1)]: Done  37 out of  37 | elapsed:   14.9s remaining:    0.0s\n",
      "[CV] fit_prior=False, class_prior=None, alpha=10 .....................\n",
      "[CV]  fit_prior=False, class_prior=None, alpha=10, score=0.994, total=   0.3s\n",
      "[Parallel(n_jobs=1)]: Done  38 out of  38 | elapsed:   15.2s remaining:    0.0s\n",
      "[CV] fit_prior=False, class_prior=None, alpha=10 .....................\n",
      "[CV]  fit_prior=False, class_prior=None, alpha=10, score=0.996, total=   0.3s\n",
      "[Parallel(n_jobs=1)]: Done  39 out of  39 | elapsed:   15.6s remaining:    0.0s\n",
      "[CV] fit_prior=False, class_prior=None, alpha=10 .....................\n",
      "[CV]  fit_prior=False, class_prior=None, alpha=10, score=0.991, total=   0.3s\n",
      "[Parallel(n_jobs=1)]: Done  40 out of  40 | elapsed:   16.0s remaining:    0.0s\n",
      "[CV] fit_prior=True, class_prior=None, alpha=0.001 ...................\n",
      "[CV]  fit_prior=True, class_prior=None, alpha=0.001, score=0.998, total=   0.3s\n",
      "[Parallel(n_jobs=1)]: Done  41 out of  41 | elapsed:   16.3s remaining:    0.0s\n",
      "[CV] fit_prior=True, class_prior=None, alpha=0.001 ...................\n",
      "[CV]  fit_prior=True, class_prior=None, alpha=0.001, score=0.999, total=   0.3s\n",
      "[Parallel(n_jobs=1)]: Done  42 out of  42 | elapsed:   16.7s remaining:    0.0s\n",
      "[CV] fit_prior=True, class_prior=None, alpha=0.001 ...................\n",
      "[CV]  fit_prior=True, class_prior=None, alpha=0.001, score=1.000, total=   0.3s\n",
      "[Parallel(n_jobs=1)]: Done  43 out of  43 | elapsed:   17.1s remaining:    0.0s\n",
      "[CV] fit_prior=True, class_prior=None, alpha=0.001 ...................\n",
      "[CV]  fit_prior=True, class_prior=None, alpha=0.001, score=0.999, total=   0.3s\n",
      "[Parallel(n_jobs=1)]: Done  44 out of  44 | elapsed:   17.4s remaining:    0.0s\n",
      "[CV] fit_prior=True, class_prior=None, alpha=0.001 ...................\n",
      "[CV]  fit_prior=True, class_prior=None, alpha=0.001, score=0.998, total=   0.3s\n",
      "[Parallel(n_jobs=1)]: Done  45 out of  45 | elapsed:   17.8s remaining:    0.0s\n",
      "[CV] fit_prior=False, class_prior=None, alpha=0 ......................\n",
      "[CV]  fit_prior=False, class_prior=None, alpha=0, score=0.993, total=   0.3s\n",
      "[Parallel(n_jobs=1)]: Done  46 out of  46 | elapsed:   18.1s remaining:    0.0s\n",
      "[CV] fit_prior=False, class_prior=None, alpha=0 ......................\n",
      "[CV]  fit_prior=False, class_prior=None, alpha=0, score=0.994, total=   0.3s\n",
      "[Parallel(n_jobs=1)]: Done  47 out of  47 | elapsed:   18.5s remaining:    0.0s\n",
      "[CV] fit_prior=False, class_prior=None, alpha=0 ......................\n",
      "[CV]  fit_prior=False, class_prior=None, alpha=0, score=0.998, total=   0.3s\n",
      "[Parallel(n_jobs=1)]: Done  48 out of  48 | elapsed:   18.9s remaining:    0.0s\n",
      "[CV] fit_prior=False, class_prior=None, alpha=0 ......................\n",
      "[CV]  fit_prior=False, class_prior=None, alpha=0, score=0.998, total=   0.3s\n",
      "[Parallel(n_jobs=1)]: Done  49 out of  49 | elapsed:   19.3s remaining:    0.0s\n",
      "[CV] fit_prior=False, class_prior=None, alpha=0 ......................\n",
      "[CV]  fit_prior=False, class_prior=None, alpha=0, score=0.998, total=   0.3s\n",
      "[Parallel(n_jobs=1)]: Done  50 out of  50 | elapsed:   19.7s remaining:    0.0s\n",
      "[Parallel(n_jobs=1)]: Done  50 out of  50 | elapsed:   19.7s finished\n"
     ]
    }
   ],
   "source": [
    "best_nb = RandomizedSearchCV(nb, nb_parameters, n_iter=10, cv=5, random_state=seed, verbose=100, scoring=\"accuracy\")\n",
    "nb_start = time.time()\n",
    "best_nb.fit(X_train, y_train)\n",
    "nb_end = time.time()\n",
    "nb_time_taken = (nb_end-nb_start)/50"
   ]
  },
  {
   "cell_type": "code",
   "execution_count": 96,
   "metadata": {},
   "outputs": [
    {
     "name": "stdout",
     "output_type": "stream",
     "text": [
      "0.40044905185699464\n"
     ]
    }
   ],
   "source": [
    "print(nb_time_taken)"
   ]
  },
  {
   "cell_type": "code",
   "execution_count": 97,
   "metadata": {},
   "outputs": [],
   "source": [
    "time_taken.append(nb_time_taken)"
   ]
  },
  {
   "cell_type": "code",
   "execution_count": 98,
   "metadata": {},
   "outputs": [
    {
     "data": {
      "text/plain": [
       "{'fit_prior': False, 'class_prior': None, 'alpha': 0.001}"
      ]
     },
     "execution_count": 98,
     "metadata": {},
     "output_type": "execute_result"
    }
   ],
   "source": [
    "best_nb.best_params_"
   ]
  },
  {
   "cell_type": "raw",
   "metadata": {},
   "source": [
    "nb_y_pred = best_nb.predict(X_val)"
   ]
  },
  {
   "cell_type": "raw",
   "metadata": {},
   "source": [
    "print(classification_report(y_val, nb_y_pred))"
   ]
  },
  {
   "cell_type": "code",
   "execution_count": 99,
   "metadata": {},
   "outputs": [],
   "source": [
    "nb_pickle = \"DDoS_nb_pickle.sav\"\n",
    "pickle.dump(best_nb, open(nb_pickle, \"wb\"))"
   ]
  },
  {
   "cell_type": "raw",
   "metadata": {},
   "source": [
    "nb_accuracy = accuracy_score(y_val, nb_y_pred)"
   ]
  },
  {
   "cell_type": "code",
   "execution_count": 100,
   "metadata": {},
   "outputs": [],
   "source": [
    "nb_accuracy = best_nb.best_score_"
   ]
  },
  {
   "cell_type": "code",
   "execution_count": 101,
   "metadata": {},
   "outputs": [
    {
     "data": {
      "text/plain": [
       "0.9988750000000002"
      ]
     },
     "execution_count": 101,
     "metadata": {},
     "output_type": "execute_result"
    }
   ],
   "source": [
    "nb_accuracy"
   ]
  },
  {
   "cell_type": "code",
   "execution_count": 102,
   "metadata": {},
   "outputs": [],
   "source": [
    "train_accuracy_score.append(nb_accuracy)"
   ]
  },
  {
   "cell_type": "code",
   "execution_count": 103,
   "metadata": {},
   "outputs": [
    {
     "data": {
      "text/plain": [
       "[0.99975, 0.999625, 1.0, 1.0, 0.999625, 0.9988750000000002]"
      ]
     },
     "execution_count": 103,
     "metadata": {},
     "output_type": "execute_result"
    }
   ],
   "source": [
    "train_accuracy_score"
   ]
  },
  {
   "cell_type": "markdown",
   "metadata": {},
   "source": [
    "## MLPClassifier"
   ]
  },
  {
   "cell_type": "code",
   "execution_count": 104,
   "metadata": {},
   "outputs": [],
   "source": [
    "nn = MLPClassifier(random_state=seed)"
   ]
  },
  {
   "cell_type": "code",
   "execution_count": 105,
   "metadata": {},
   "outputs": [
    {
     "data": {
      "text/plain": [
       "dict_keys(['activation', 'alpha', 'batch_size', 'beta_1', 'beta_2', 'early_stopping', 'epsilon', 'hidden_layer_sizes', 'learning_rate', 'learning_rate_init', 'max_fun', 'max_iter', 'momentum', 'n_iter_no_change', 'nesterovs_momentum', 'power_t', 'random_state', 'shuffle', 'solver', 'tol', 'validation_fraction', 'verbose', 'warm_start'])"
      ]
     },
     "execution_count": 105,
     "metadata": {},
     "output_type": "execute_result"
    }
   ],
   "source": [
    "nn.get_params().keys()"
   ]
  },
  {
   "cell_type": "code",
   "execution_count": 106,
   "metadata": {},
   "outputs": [],
   "source": [
    "nn_parameters = {\n",
    "    'hidden_layer_sizes': [(50,50,50), (50,100,50), (100,)],\n",
    "    'activation': [\"identity\", \"logistic\", \"tanh\", \"relu\"],\n",
    "    'solver': ['sgd', 'adam'],\n",
    "    'alpha': [0.00001, 0.0001, 0.001, 0.01, 0.1],\n",
    "    'learning_rate': ['constant','adaptive', \"invscaling\"],\n",
    "    \"learning_rate_init\": [0.001, 0.01]\n",
    "}\n",
    "    \n"
   ]
  },
  {
   "cell_type": "code",
   "execution_count": 107,
   "metadata": {},
   "outputs": [
    {
     "name": "stdout",
     "output_type": "stream",
     "text": [
      "Fitting 5 folds for each of 10 candidates, totalling 50 fits\n",
      "[Parallel(n_jobs=1)]: Using backend SequentialBackend with 1 concurrent workers.\n",
      "[CV] solver=sgd, learning_rate_init=0.001, learning_rate=adaptive, hidden_layer_sizes=(50, 100, 50), alpha=0.0001, activation=identity \n",
      "[CV]  solver=sgd, learning_rate_init=0.001, learning_rate=adaptive, hidden_layer_sizes=(50, 100, 50), alpha=0.0001, activation=identity, score=0.999, total= 2.1min\n",
      "[Parallel(n_jobs=1)]: Done   1 out of   1 | elapsed:  2.1min remaining:    0.0s\n",
      "[CV] solver=sgd, learning_rate_init=0.001, learning_rate=adaptive, hidden_layer_sizes=(50, 100, 50), alpha=0.0001, activation=identity \n",
      "[CV]  solver=sgd, learning_rate_init=0.001, learning_rate=adaptive, hidden_layer_sizes=(50, 100, 50), alpha=0.0001, activation=identity, score=1.000, total= 2.1min\n",
      "[Parallel(n_jobs=1)]: Done   2 out of   2 | elapsed:  4.1min remaining:    0.0s\n",
      "[CV] solver=sgd, learning_rate_init=0.001, learning_rate=adaptive, hidden_layer_sizes=(50, 100, 50), alpha=0.0001, activation=identity \n",
      "[CV]  solver=sgd, learning_rate_init=0.001, learning_rate=adaptive, hidden_layer_sizes=(50, 100, 50), alpha=0.0001, activation=identity, score=1.000, total= 2.2min\n",
      "[Parallel(n_jobs=1)]: Done   3 out of   3 | elapsed:  6.4min remaining:    0.0s\n",
      "[CV] solver=sgd, learning_rate_init=0.001, learning_rate=adaptive, hidden_layer_sizes=(50, 100, 50), alpha=0.0001, activation=identity \n",
      "[CV]  solver=sgd, learning_rate_init=0.001, learning_rate=adaptive, hidden_layer_sizes=(50, 100, 50), alpha=0.0001, activation=identity, score=1.000, total= 1.9min\n",
      "[Parallel(n_jobs=1)]: Done   4 out of   4 | elapsed:  8.2min remaining:    0.0s\n",
      "[CV] solver=sgd, learning_rate_init=0.001, learning_rate=adaptive, hidden_layer_sizes=(50, 100, 50), alpha=0.0001, activation=identity \n",
      "[CV]  solver=sgd, learning_rate_init=0.001, learning_rate=adaptive, hidden_layer_sizes=(50, 100, 50), alpha=0.0001, activation=identity, score=0.998, total= 1.8min\n",
      "[Parallel(n_jobs=1)]: Done   5 out of   5 | elapsed: 10.1min remaining:    0.0s\n",
      "[CV] solver=adam, learning_rate_init=0.01, learning_rate=constant, hidden_layer_sizes=(50, 100, 50), alpha=0.1, activation=tanh \n",
      "[CV]  solver=adam, learning_rate_init=0.01, learning_rate=constant, hidden_layer_sizes=(50, 100, 50), alpha=0.1, activation=tanh, score=1.000, total=  30.8s\n",
      "[Parallel(n_jobs=1)]: Done   6 out of   6 | elapsed: 10.6min remaining:    0.0s\n",
      "[CV] solver=adam, learning_rate_init=0.01, learning_rate=constant, hidden_layer_sizes=(50, 100, 50), alpha=0.1, activation=tanh \n",
      "[CV]  solver=adam, learning_rate_init=0.01, learning_rate=constant, hidden_layer_sizes=(50, 100, 50), alpha=0.1, activation=tanh, score=1.000, total=  33.3s\n",
      "[Parallel(n_jobs=1)]: Done   7 out of   7 | elapsed: 11.1min remaining:    0.0s\n",
      "[CV] solver=adam, learning_rate_init=0.01, learning_rate=constant, hidden_layer_sizes=(50, 100, 50), alpha=0.1, activation=tanh \n",
      "[CV]  solver=adam, learning_rate_init=0.01, learning_rate=constant, hidden_layer_sizes=(50, 100, 50), alpha=0.1, activation=tanh, score=1.000, total=  31.2s\n",
      "[Parallel(n_jobs=1)]: Done   8 out of   8 | elapsed: 11.7min remaining:    0.0s\n",
      "[CV] solver=adam, learning_rate_init=0.01, learning_rate=constant, hidden_layer_sizes=(50, 100, 50), alpha=0.1, activation=tanh \n",
      "[CV]  solver=adam, learning_rate_init=0.01, learning_rate=constant, hidden_layer_sizes=(50, 100, 50), alpha=0.1, activation=tanh, score=1.000, total=  31.5s\n",
      "[Parallel(n_jobs=1)]: Done   9 out of   9 | elapsed: 12.2min remaining:    0.0s\n",
      "[CV] solver=adam, learning_rate_init=0.01, learning_rate=constant, hidden_layer_sizes=(50, 100, 50), alpha=0.1, activation=tanh \n",
      "[CV]  solver=adam, learning_rate_init=0.01, learning_rate=constant, hidden_layer_sizes=(50, 100, 50), alpha=0.1, activation=tanh, score=1.000, total=  35.6s\n",
      "[Parallel(n_jobs=1)]: Done  10 out of  10 | elapsed: 12.8min remaining:    0.0s\n",
      "[CV] solver=sgd, learning_rate_init=0.01, learning_rate=constant, hidden_layer_sizes=(50, 50, 50), alpha=0.01, activation=identity \n",
      "[CV]  solver=sgd, learning_rate_init=0.01, learning_rate=constant, hidden_layer_sizes=(50, 50, 50), alpha=0.01, activation=identity, score=1.000, total=  23.0s\n",
      "[Parallel(n_jobs=1)]: Done  11 out of  11 | elapsed: 13.2min remaining:    0.0s\n",
      "[CV] solver=sgd, learning_rate_init=0.01, learning_rate=constant, hidden_layer_sizes=(50, 50, 50), alpha=0.01, activation=identity \n",
      "[CV]  solver=sgd, learning_rate_init=0.01, learning_rate=constant, hidden_layer_sizes=(50, 50, 50), alpha=0.01, activation=identity, score=1.000, total=  23.8s\n",
      "[Parallel(n_jobs=1)]: Done  12 out of  12 | elapsed: 13.6min remaining:    0.0s\n",
      "[CV] solver=sgd, learning_rate_init=0.01, learning_rate=constant, hidden_layer_sizes=(50, 50, 50), alpha=0.01, activation=identity \n",
      "[CV]  solver=sgd, learning_rate_init=0.01, learning_rate=constant, hidden_layer_sizes=(50, 50, 50), alpha=0.01, activation=identity, score=1.000, total=  23.8s\n",
      "[Parallel(n_jobs=1)]: Done  13 out of  13 | elapsed: 14.0min remaining:    0.0s\n",
      "[CV] solver=sgd, learning_rate_init=0.01, learning_rate=constant, hidden_layer_sizes=(50, 50, 50), alpha=0.01, activation=identity \n",
      "[CV]  solver=sgd, learning_rate_init=0.01, learning_rate=constant, hidden_layer_sizes=(50, 50, 50), alpha=0.01, activation=identity, score=1.000, total=  23.9s\n",
      "[Parallel(n_jobs=1)]: Done  14 out of  14 | elapsed: 14.4min remaining:    0.0s\n",
      "[CV] solver=sgd, learning_rate_init=0.01, learning_rate=constant, hidden_layer_sizes=(50, 50, 50), alpha=0.01, activation=identity \n",
      "[CV]  solver=sgd, learning_rate_init=0.01, learning_rate=constant, hidden_layer_sizes=(50, 50, 50), alpha=0.01, activation=identity, score=1.000, total=  23.7s\n",
      "[Parallel(n_jobs=1)]: Done  15 out of  15 | elapsed: 14.8min remaining:    0.0s\n",
      "[CV] solver=sgd, learning_rate_init=0.01, learning_rate=invscaling, hidden_layer_sizes=(50, 50, 50), alpha=0.1, activation=tanh \n",
      "[CV]  solver=sgd, learning_rate_init=0.01, learning_rate=invscaling, hidden_layer_sizes=(50, 50, 50), alpha=0.1, activation=tanh, score=0.993, total= 1.4min\n",
      "[Parallel(n_jobs=1)]: Done  16 out of  16 | elapsed: 16.1min remaining:    0.0s\n",
      "[CV] solver=sgd, learning_rate_init=0.01, learning_rate=invscaling, hidden_layer_sizes=(50, 50, 50), alpha=0.1, activation=tanh \n",
      "[CV]  solver=sgd, learning_rate_init=0.01, learning_rate=invscaling, hidden_layer_sizes=(50, 50, 50), alpha=0.1, activation=tanh, score=0.996, total= 1.4min\n",
      "[Parallel(n_jobs=1)]: Done  17 out of  17 | elapsed: 17.5min remaining:    0.0s\n",
      "[CV] solver=sgd, learning_rate_init=0.01, learning_rate=invscaling, hidden_layer_sizes=(50, 50, 50), alpha=0.1, activation=tanh \n",
      "[CV]  solver=sgd, learning_rate_init=0.01, learning_rate=invscaling, hidden_layer_sizes=(50, 50, 50), alpha=0.1, activation=tanh, score=0.995, total= 1.4min\n",
      "[Parallel(n_jobs=1)]: Done  18 out of  18 | elapsed: 18.9min remaining:    0.0s\n",
      "[CV] solver=sgd, learning_rate_init=0.01, learning_rate=invscaling, hidden_layer_sizes=(50, 50, 50), alpha=0.1, activation=tanh \n",
      "[CV]  solver=sgd, learning_rate_init=0.01, learning_rate=invscaling, hidden_layer_sizes=(50, 50, 50), alpha=0.1, activation=tanh, score=0.998, total= 1.4min\n",
      "[Parallel(n_jobs=1)]: Done  19 out of  19 | elapsed: 20.3min remaining:    0.0s\n",
      "[CV] solver=sgd, learning_rate_init=0.01, learning_rate=invscaling, hidden_layer_sizes=(50, 50, 50), alpha=0.1, activation=tanh \n",
      "[CV]  solver=sgd, learning_rate_init=0.01, learning_rate=invscaling, hidden_layer_sizes=(50, 50, 50), alpha=0.1, activation=tanh, score=0.991, total= 1.3min\n",
      "[Parallel(n_jobs=1)]: Done  20 out of  20 | elapsed: 21.6min remaining:    0.0s\n",
      "[CV] solver=sgd, learning_rate_init=0.001, learning_rate=constant, hidden_layer_sizes=(100,), alpha=0.001, activation=logistic \n",
      "[CV]  solver=sgd, learning_rate_init=0.001, learning_rate=constant, hidden_layer_sizes=(100,), alpha=0.001, activation=logistic, score=0.994, total= 4.2min\n",
      "[Parallel(n_jobs=1)]: Done  21 out of  21 | elapsed: 25.9min remaining:    0.0s\n",
      "[CV] solver=sgd, learning_rate_init=0.001, learning_rate=constant, hidden_layer_sizes=(100,), alpha=0.001, activation=logistic \n",
      "[CV]  solver=sgd, learning_rate_init=0.001, learning_rate=constant, hidden_layer_sizes=(100,), alpha=0.001, activation=logistic, score=0.996, total= 4.2min\n",
      "[Parallel(n_jobs=1)]: Done  22 out of  22 | elapsed: 30.1min remaining:    0.0s\n",
      "[CV] solver=sgd, learning_rate_init=0.001, learning_rate=constant, hidden_layer_sizes=(100,), alpha=0.001, activation=logistic \n"
     ]
    },
    {
     "name": "stdout",
     "output_type": "stream",
     "text": [
      "[CV]  solver=sgd, learning_rate_init=0.001, learning_rate=constant, hidden_layer_sizes=(100,), alpha=0.001, activation=logistic, score=0.995, total= 4.3min\n",
      "[Parallel(n_jobs=1)]: Done  23 out of  23 | elapsed: 34.4min remaining:    0.0s\n",
      "[CV] solver=sgd, learning_rate_init=0.001, learning_rate=constant, hidden_layer_sizes=(100,), alpha=0.001, activation=logistic \n",
      "[CV]  solver=sgd, learning_rate_init=0.001, learning_rate=constant, hidden_layer_sizes=(100,), alpha=0.001, activation=logistic, score=0.998, total= 4.3min\n",
      "[Parallel(n_jobs=1)]: Done  24 out of  24 | elapsed: 38.6min remaining:    0.0s\n",
      "[CV] solver=sgd, learning_rate_init=0.001, learning_rate=constant, hidden_layer_sizes=(100,), alpha=0.001, activation=logistic \n",
      "[CV]  solver=sgd, learning_rate_init=0.001, learning_rate=constant, hidden_layer_sizes=(100,), alpha=0.001, activation=logistic, score=0.991, total= 4.2min\n",
      "[Parallel(n_jobs=1)]: Done  25 out of  25 | elapsed: 42.8min remaining:    0.0s\n",
      "[CV] solver=sgd, learning_rate_init=0.01, learning_rate=invscaling, hidden_layer_sizes=(50, 100, 50), alpha=0.001, activation=tanh \n",
      "[CV]  solver=sgd, learning_rate_init=0.01, learning_rate=invscaling, hidden_layer_sizes=(50, 100, 50), alpha=0.001, activation=tanh, score=0.993, total= 1.3min\n",
      "[Parallel(n_jobs=1)]: Done  26 out of  26 | elapsed: 44.1min remaining:    0.0s\n",
      "[CV] solver=sgd, learning_rate_init=0.01, learning_rate=invscaling, hidden_layer_sizes=(50, 100, 50), alpha=0.001, activation=tanh \n",
      "[CV]  solver=sgd, learning_rate_init=0.01, learning_rate=invscaling, hidden_layer_sizes=(50, 100, 50), alpha=0.001, activation=tanh, score=0.996, total= 1.3min\n",
      "[Parallel(n_jobs=1)]: Done  27 out of  27 | elapsed: 45.4min remaining:    0.0s\n",
      "[CV] solver=sgd, learning_rate_init=0.01, learning_rate=invscaling, hidden_layer_sizes=(50, 100, 50), alpha=0.001, activation=tanh \n",
      "[CV]  solver=sgd, learning_rate_init=0.01, learning_rate=invscaling, hidden_layer_sizes=(50, 100, 50), alpha=0.001, activation=tanh, score=0.993, total= 1.3min\n",
      "[Parallel(n_jobs=1)]: Done  28 out of  28 | elapsed: 46.8min remaining:    0.0s\n",
      "[CV] solver=sgd, learning_rate_init=0.01, learning_rate=invscaling, hidden_layer_sizes=(50, 100, 50), alpha=0.001, activation=tanh \n",
      "[CV]  solver=sgd, learning_rate_init=0.01, learning_rate=invscaling, hidden_layer_sizes=(50, 100, 50), alpha=0.001, activation=tanh, score=0.998, total= 1.3min\n",
      "[Parallel(n_jobs=1)]: Done  29 out of  29 | elapsed: 48.1min remaining:    0.0s\n",
      "[CV] solver=sgd, learning_rate_init=0.01, learning_rate=invscaling, hidden_layer_sizes=(50, 100, 50), alpha=0.001, activation=tanh \n",
      "[CV]  solver=sgd, learning_rate_init=0.01, learning_rate=invscaling, hidden_layer_sizes=(50, 100, 50), alpha=0.001, activation=tanh, score=0.991, total= 1.3min\n",
      "[Parallel(n_jobs=1)]: Done  30 out of  30 | elapsed: 49.4min remaining:    0.0s\n",
      "[CV] solver=adam, learning_rate_init=0.01, learning_rate=adaptive, hidden_layer_sizes=(100,), alpha=0.1, activation=identity \n",
      "[CV]  solver=adam, learning_rate_init=0.01, learning_rate=adaptive, hidden_layer_sizes=(100,), alpha=0.1, activation=identity, score=1.000, total=  32.2s\n",
      "[Parallel(n_jobs=1)]: Done  31 out of  31 | elapsed: 50.0min remaining:    0.0s\n",
      "[CV] solver=adam, learning_rate_init=0.01, learning_rate=adaptive, hidden_layer_sizes=(100,), alpha=0.1, activation=identity \n",
      "[CV]  solver=adam, learning_rate_init=0.01, learning_rate=adaptive, hidden_layer_sizes=(100,), alpha=0.1, activation=identity, score=1.000, total=  37.2s\n",
      "[Parallel(n_jobs=1)]: Done  32 out of  32 | elapsed: 50.6min remaining:    0.0s\n",
      "[CV] solver=adam, learning_rate_init=0.01, learning_rate=adaptive, hidden_layer_sizes=(100,), alpha=0.1, activation=identity \n",
      "[CV]  solver=adam, learning_rate_init=0.01, learning_rate=adaptive, hidden_layer_sizes=(100,), alpha=0.1, activation=identity, score=1.000, total=  51.3s\n",
      "[Parallel(n_jobs=1)]: Done  33 out of  33 | elapsed: 51.4min remaining:    0.0s\n",
      "[CV] solver=adam, learning_rate_init=0.01, learning_rate=adaptive, hidden_layer_sizes=(100,), alpha=0.1, activation=identity \n",
      "[CV]  solver=adam, learning_rate_init=0.01, learning_rate=adaptive, hidden_layer_sizes=(100,), alpha=0.1, activation=identity, score=1.000, total=  32.2s\n",
      "[Parallel(n_jobs=1)]: Done  34 out of  34 | elapsed: 52.0min remaining:    0.0s\n",
      "[CV] solver=adam, learning_rate_init=0.01, learning_rate=adaptive, hidden_layer_sizes=(100,), alpha=0.1, activation=identity \n",
      "[CV]  solver=adam, learning_rate_init=0.01, learning_rate=adaptive, hidden_layer_sizes=(100,), alpha=0.1, activation=identity, score=1.000, total=  32.1s\n",
      "[Parallel(n_jobs=1)]: Done  35 out of  35 | elapsed: 52.5min remaining:    0.0s\n",
      "[CV] solver=sgd, learning_rate_init=0.001, learning_rate=adaptive, hidden_layer_sizes=(50, 100, 50), alpha=0.0001, activation=logistic \n",
      "[CV]  solver=sgd, learning_rate_init=0.001, learning_rate=adaptive, hidden_layer_sizes=(50, 100, 50), alpha=0.0001, activation=logistic, score=0.507, total=  59.6s\n",
      "[Parallel(n_jobs=1)]: Done  36 out of  36 | elapsed: 53.5min remaining:    0.0s\n",
      "[CV] solver=sgd, learning_rate_init=0.001, learning_rate=adaptive, hidden_layer_sizes=(50, 100, 50), alpha=0.0001, activation=logistic \n",
      "[CV]  solver=sgd, learning_rate_init=0.001, learning_rate=adaptive, hidden_layer_sizes=(50, 100, 50), alpha=0.0001, activation=logistic, score=0.507, total=  59.6s\n",
      "[Parallel(n_jobs=1)]: Done  37 out of  37 | elapsed: 54.5min remaining:    0.0s\n",
      "[CV] solver=sgd, learning_rate_init=0.001, learning_rate=adaptive, hidden_layer_sizes=(50, 100, 50), alpha=0.0001, activation=logistic \n",
      "[CV]  solver=sgd, learning_rate_init=0.001, learning_rate=adaptive, hidden_layer_sizes=(50, 100, 50), alpha=0.0001, activation=logistic, score=0.507, total=  59.7s\n",
      "[Parallel(n_jobs=1)]: Done  38 out of  38 | elapsed: 55.5min remaining:    0.0s\n",
      "[CV] solver=sgd, learning_rate_init=0.001, learning_rate=adaptive, hidden_layer_sizes=(50, 100, 50), alpha=0.0001, activation=logistic \n",
      "[CV]  solver=sgd, learning_rate_init=0.001, learning_rate=adaptive, hidden_layer_sizes=(50, 100, 50), alpha=0.0001, activation=logistic, score=0.507, total=  59.9s\n",
      "[Parallel(n_jobs=1)]: Done  39 out of  39 | elapsed: 56.5min remaining:    0.0s\n",
      "[CV] solver=sgd, learning_rate_init=0.001, learning_rate=adaptive, hidden_layer_sizes=(50, 100, 50), alpha=0.0001, activation=logistic \n",
      "[CV]  solver=sgd, learning_rate_init=0.001, learning_rate=adaptive, hidden_layer_sizes=(50, 100, 50), alpha=0.0001, activation=logistic, score=0.507, total= 1.0min\n",
      "[Parallel(n_jobs=1)]: Done  40 out of  40 | elapsed: 57.5min remaining:    0.0s\n",
      "[CV] solver=adam, learning_rate_init=0.01, learning_rate=adaptive, hidden_layer_sizes=(100,), alpha=0.1, activation=relu \n",
      "[CV]  solver=adam, learning_rate_init=0.01, learning_rate=adaptive, hidden_layer_sizes=(100,), alpha=0.1, activation=relu, score=1.000, total=  55.9s\n",
      "[Parallel(n_jobs=1)]: Done  41 out of  41 | elapsed: 58.4min remaining:    0.0s\n",
      "[CV] solver=adam, learning_rate_init=0.01, learning_rate=adaptive, hidden_layer_sizes=(100,), alpha=0.1, activation=relu \n",
      "[CV]  solver=adam, learning_rate_init=0.01, learning_rate=adaptive, hidden_layer_sizes=(100,), alpha=0.1, activation=relu, score=1.000, total=  42.6s\n",
      "[Parallel(n_jobs=1)]: Done  42 out of  42 | elapsed: 59.2min remaining:    0.0s\n",
      "[CV] solver=adam, learning_rate_init=0.01, learning_rate=adaptive, hidden_layer_sizes=(100,), alpha=0.1, activation=relu \n",
      "[CV]  solver=adam, learning_rate_init=0.01, learning_rate=adaptive, hidden_layer_sizes=(100,), alpha=0.1, activation=relu, score=1.000, total=  50.9s\n",
      "[Parallel(n_jobs=1)]: Done  43 out of  43 | elapsed: 60.0min remaining:    0.0s\n",
      "[CV] solver=adam, learning_rate_init=0.01, learning_rate=adaptive, hidden_layer_sizes=(100,), alpha=0.1, activation=relu \n",
      "[CV]  solver=adam, learning_rate_init=0.01, learning_rate=adaptive, hidden_layer_sizes=(100,), alpha=0.1, activation=relu, score=1.000, total=  44.1s\n",
      "[Parallel(n_jobs=1)]: Done  44 out of  44 | elapsed: 60.7min remaining:    0.0s\n",
      "[CV] solver=adam, learning_rate_init=0.01, learning_rate=adaptive, hidden_layer_sizes=(100,), alpha=0.1, activation=relu \n",
      "[CV]  solver=adam, learning_rate_init=0.01, learning_rate=adaptive, hidden_layer_sizes=(100,), alpha=0.1, activation=relu, score=1.000, total=  42.4s\n",
      "[Parallel(n_jobs=1)]: Done  45 out of  45 | elapsed: 61.4min remaining:    0.0s\n",
      "[CV] solver=adam, learning_rate_init=0.01, learning_rate=adaptive, hidden_layer_sizes=(50, 100, 50), alpha=0.01, activation=logistic \n"
     ]
    },
    {
     "name": "stdout",
     "output_type": "stream",
     "text": [
      "[CV]  solver=adam, learning_rate_init=0.01, learning_rate=adaptive, hidden_layer_sizes=(50, 100, 50), alpha=0.01, activation=logistic, score=1.000, total=  34.7s\n",
      "[Parallel(n_jobs=1)]: Done  46 out of  46 | elapsed: 62.0min remaining:    0.0s\n",
      "[CV] solver=adam, learning_rate_init=0.01, learning_rate=adaptive, hidden_layer_sizes=(50, 100, 50), alpha=0.01, activation=logistic \n",
      "[CV]  solver=adam, learning_rate_init=0.01, learning_rate=adaptive, hidden_layer_sizes=(50, 100, 50), alpha=0.01, activation=logistic, score=1.000, total=  56.6s\n",
      "[Parallel(n_jobs=1)]: Done  47 out of  47 | elapsed: 63.0min remaining:    0.0s\n",
      "[CV] solver=adam, learning_rate_init=0.01, learning_rate=adaptive, hidden_layer_sizes=(50, 100, 50), alpha=0.01, activation=logistic \n",
      "[CV]  solver=adam, learning_rate_init=0.01, learning_rate=adaptive, hidden_layer_sizes=(50, 100, 50), alpha=0.01, activation=logistic, score=1.000, total=  46.0s\n",
      "[Parallel(n_jobs=1)]: Done  48 out of  48 | elapsed: 63.7min remaining:    0.0s\n",
      "[CV] solver=adam, learning_rate_init=0.01, learning_rate=adaptive, hidden_layer_sizes=(50, 100, 50), alpha=0.01, activation=logistic \n",
      "[CV]  solver=adam, learning_rate_init=0.01, learning_rate=adaptive, hidden_layer_sizes=(50, 100, 50), alpha=0.01, activation=logistic, score=0.999, total=  39.1s\n",
      "[Parallel(n_jobs=1)]: Done  49 out of  49 | elapsed: 64.4min remaining:    0.0s\n",
      "[CV] solver=adam, learning_rate_init=0.01, learning_rate=adaptive, hidden_layer_sizes=(50, 100, 50), alpha=0.01, activation=logistic \n",
      "[CV]  solver=adam, learning_rate_init=0.01, learning_rate=adaptive, hidden_layer_sizes=(50, 100, 50), alpha=0.01, activation=logistic, score=1.000, total=  56.8s\n",
      "[Parallel(n_jobs=1)]: Done  50 out of  50 | elapsed: 65.3min remaining:    0.0s\n",
      "[Parallel(n_jobs=1)]: Done  50 out of  50 | elapsed: 65.3min finished\n"
     ]
    }
   ],
   "source": [
    "best_nn = RandomizedSearchCV(nn, nn_parameters, n_iter=10, cv=5, random_state=seed, verbose=100, scoring=\"accuracy\")\n",
    "nn_start = time.time()\n",
    "best_nn.fit(X_train, y_train)\n",
    "nn_end = time.time()\n",
    "nn_time_taken = (nn_end-nn_start)/50"
   ]
  },
  {
   "cell_type": "code",
   "execution_count": 108,
   "metadata": {},
   "outputs": [
    {
     "name": "stdout",
     "output_type": "stream",
     "text": [
      "79.14465519428254\n"
     ]
    }
   ],
   "source": [
    "print(nn_time_taken)"
   ]
  },
  {
   "cell_type": "code",
   "execution_count": 109,
   "metadata": {},
   "outputs": [],
   "source": [
    "time_taken.append(nn_time_taken)"
   ]
  },
  {
   "cell_type": "code",
   "execution_count": 110,
   "metadata": {},
   "outputs": [
    {
     "data": {
      "text/plain": [
       "{'solver': 'adam',\n",
       " 'learning_rate_init': 0.01,\n",
       " 'learning_rate': 'constant',\n",
       " 'hidden_layer_sizes': (50, 100, 50),\n",
       " 'alpha': 0.1,\n",
       " 'activation': 'tanh'}"
      ]
     },
     "execution_count": 110,
     "metadata": {},
     "output_type": "execute_result"
    }
   ],
   "source": [
    "best_nn.best_params_"
   ]
  },
  {
   "cell_type": "raw",
   "metadata": {},
   "source": [
    "nn_y_pred = best_nn.predict(X_val)"
   ]
  },
  {
   "cell_type": "raw",
   "metadata": {},
   "source": [
    "print(classification_report(y_val, nn_y_pred))"
   ]
  },
  {
   "cell_type": "code",
   "execution_count": 111,
   "metadata": {},
   "outputs": [],
   "source": [
    "nn_pickle = \"DDoS_nn_pickle.sav\"\n",
    "pickle.dump(best_nn, open(nn_pickle, \"wb\"))"
   ]
  },
  {
   "cell_type": "raw",
   "metadata": {},
   "source": [
    "nn_accuracy = accuracy_score(y_val, nn_y_pred)"
   ]
  },
  {
   "cell_type": "code",
   "execution_count": 112,
   "metadata": {},
   "outputs": [],
   "source": [
    "nn_accuracy = best_nn.best_score_"
   ]
  },
  {
   "cell_type": "code",
   "execution_count": 113,
   "metadata": {},
   "outputs": [
    {
     "data": {
      "text/plain": [
       "1.0"
      ]
     },
     "execution_count": 113,
     "metadata": {},
     "output_type": "execute_result"
    }
   ],
   "source": [
    "nn_accuracy"
   ]
  },
  {
   "cell_type": "code",
   "execution_count": 114,
   "metadata": {},
   "outputs": [],
   "source": [
    "train_accuracy_score.append(nn_accuracy)"
   ]
  },
  {
   "cell_type": "code",
   "execution_count": 115,
   "metadata": {},
   "outputs": [
    {
     "data": {
      "text/plain": [
       "[0.99975, 0.999625, 1.0, 1.0, 0.999625, 0.9988750000000002, 1.0]"
      ]
     },
     "execution_count": 115,
     "metadata": {},
     "output_type": "execute_result"
    }
   ],
   "source": [
    "train_accuracy_score"
   ]
  },
  {
   "cell_type": "markdown",
   "metadata": {},
   "source": [
    "## XGBClassifier"
   ]
  },
  {
   "cell_type": "code",
   "execution_count": 116,
   "metadata": {},
   "outputs": [],
   "source": [
    "xgb = XGBClassifier(random_state=seed)"
   ]
  },
  {
   "cell_type": "code",
   "execution_count": 117,
   "metadata": {},
   "outputs": [
    {
     "data": {
      "text/plain": [
       "dict_keys(['objective', 'base_score', 'booster', 'colsample_bylevel', 'colsample_bynode', 'colsample_bytree', 'gamma', 'gpu_id', 'importance_type', 'interaction_constraints', 'learning_rate', 'max_delta_step', 'max_depth', 'min_child_weight', 'missing', 'monotone_constraints', 'n_estimators', 'n_jobs', 'num_parallel_tree', 'random_state', 'reg_alpha', 'reg_lambda', 'scale_pos_weight', 'subsample', 'tree_method', 'validate_parameters', 'verbosity'])"
      ]
     },
     "execution_count": 117,
     "metadata": {},
     "output_type": "execute_result"
    }
   ],
   "source": [
    "xgb.get_params().keys()"
   ]
  },
  {
   "cell_type": "code",
   "execution_count": 118,
   "metadata": {},
   "outputs": [],
   "source": [
    "xgb_parameters = {\n",
    "        'min_child_weight': [1, 5, 7, 10],\n",
    "        'gamma': [0.5, 1, 1.5, 2, 5],\n",
    "        'subsample': [0.6, 0.8, 1.0],\n",
    "        'colsample_bytree': [0.6, 0.8, 1.0],\n",
    "        'max_depth': [3, 4, 5, 6]\n",
    "}\n",
    "    \n"
   ]
  },
  {
   "cell_type": "code",
   "execution_count": 119,
   "metadata": {},
   "outputs": [
    {
     "name": "stdout",
     "output_type": "stream",
     "text": [
      "Fitting 5 folds for each of 10 candidates, totalling 50 fits\n",
      "[Parallel(n_jobs=1)]: Using backend SequentialBackend with 1 concurrent workers.\n",
      "[CV] subsample=0.8, min_child_weight=5, max_depth=3, gamma=1, colsample_bytree=0.6 \n",
      "[CV]  subsample=0.8, min_child_weight=5, max_depth=3, gamma=1, colsample_bytree=0.6, score=1.000, total=  23.6s\n",
      "[Parallel(n_jobs=1)]: Done   1 out of   1 | elapsed:   23.6s remaining:    0.0s\n",
      "[CV] subsample=0.8, min_child_weight=5, max_depth=3, gamma=1, colsample_bytree=0.6 \n",
      "[CV]  subsample=0.8, min_child_weight=5, max_depth=3, gamma=1, colsample_bytree=0.6, score=1.000, total=  23.3s\n",
      "[Parallel(n_jobs=1)]: Done   2 out of   2 | elapsed:   47.0s remaining:    0.0s\n",
      "[CV] subsample=0.8, min_child_weight=5, max_depth=3, gamma=1, colsample_bytree=0.6 \n",
      "[CV]  subsample=0.8, min_child_weight=5, max_depth=3, gamma=1, colsample_bytree=0.6, score=1.000, total=  22.8s\n",
      "[Parallel(n_jobs=1)]: Done   3 out of   3 | elapsed:  1.2min remaining:    0.0s\n",
      "[CV] subsample=0.8, min_child_weight=5, max_depth=3, gamma=1, colsample_bytree=0.6 \n",
      "[CV]  subsample=0.8, min_child_weight=5, max_depth=3, gamma=1, colsample_bytree=0.6, score=1.000, total=  23.1s\n",
      "[Parallel(n_jobs=1)]: Done   4 out of   4 | elapsed:  1.6min remaining:    0.0s\n",
      "[CV] subsample=0.8, min_child_weight=5, max_depth=3, gamma=1, colsample_bytree=0.6 \n",
      "[CV]  subsample=0.8, min_child_weight=5, max_depth=3, gamma=1, colsample_bytree=0.6, score=0.999, total=  22.7s\n",
      "[Parallel(n_jobs=1)]: Done   5 out of   5 | elapsed:  1.9min remaining:    0.0s\n",
      "[CV] subsample=0.6, min_child_weight=5, max_depth=6, gamma=0.5, colsample_bytree=1.0 \n",
      "[CV]  subsample=0.6, min_child_weight=5, max_depth=6, gamma=0.5, colsample_bytree=1.0, score=1.000, total=  36.7s\n",
      "[Parallel(n_jobs=1)]: Done   6 out of   6 | elapsed:  2.5min remaining:    0.0s\n",
      "[CV] subsample=0.6, min_child_weight=5, max_depth=6, gamma=0.5, colsample_bytree=1.0 \n",
      "[CV]  subsample=0.6, min_child_weight=5, max_depth=6, gamma=0.5, colsample_bytree=1.0, score=1.000, total=  34.9s\n",
      "[Parallel(n_jobs=1)]: Done   7 out of   7 | elapsed:  3.1min remaining:    0.0s\n",
      "[CV] subsample=0.6, min_child_weight=5, max_depth=6, gamma=0.5, colsample_bytree=1.0 \n",
      "[CV]  subsample=0.6, min_child_weight=5, max_depth=6, gamma=0.5, colsample_bytree=1.0, score=1.000, total=  36.3s\n",
      "[Parallel(n_jobs=1)]: Done   8 out of   8 | elapsed:  3.7min remaining:    0.0s\n",
      "[CV] subsample=0.6, min_child_weight=5, max_depth=6, gamma=0.5, colsample_bytree=1.0 \n",
      "[CV]  subsample=0.6, min_child_weight=5, max_depth=6, gamma=0.5, colsample_bytree=1.0, score=1.000, total=  35.5s\n",
      "[Parallel(n_jobs=1)]: Done   9 out of   9 | elapsed:  4.3min remaining:    0.0s\n",
      "[CV] subsample=0.6, min_child_weight=5, max_depth=6, gamma=0.5, colsample_bytree=1.0 \n",
      "[CV]  subsample=0.6, min_child_weight=5, max_depth=6, gamma=0.5, colsample_bytree=1.0, score=0.998, total=  35.6s\n",
      "[Parallel(n_jobs=1)]: Done  10 out of  10 | elapsed:  4.9min remaining:    0.0s\n",
      "[CV] subsample=1.0, min_child_weight=1, max_depth=4, gamma=1.5, colsample_bytree=0.6 \n",
      "[CV]  subsample=1.0, min_child_weight=1, max_depth=4, gamma=1.5, colsample_bytree=0.6, score=1.000, total=  29.6s\n",
      "[Parallel(n_jobs=1)]: Done  11 out of  11 | elapsed:  5.4min remaining:    0.0s\n",
      "[CV] subsample=1.0, min_child_weight=1, max_depth=4, gamma=1.5, colsample_bytree=0.6 \n",
      "[CV]  subsample=1.0, min_child_weight=1, max_depth=4, gamma=1.5, colsample_bytree=0.6, score=0.999, total=  27.5s\n",
      "[Parallel(n_jobs=1)]: Done  12 out of  12 | elapsed:  5.9min remaining:    0.0s\n",
      "[CV] subsample=1.0, min_child_weight=1, max_depth=4, gamma=1.5, colsample_bytree=0.6 \n",
      "[CV]  subsample=1.0, min_child_weight=1, max_depth=4, gamma=1.5, colsample_bytree=0.6, score=0.999, total=  29.8s\n",
      "[Parallel(n_jobs=1)]: Done  13 out of  13 | elapsed:  6.4min remaining:    0.0s\n",
      "[CV] subsample=1.0, min_child_weight=1, max_depth=4, gamma=1.5, colsample_bytree=0.6 \n",
      "[CV]  subsample=1.0, min_child_weight=1, max_depth=4, gamma=1.5, colsample_bytree=0.6, score=1.000, total=  29.7s\n",
      "[Parallel(n_jobs=1)]: Done  14 out of  14 | elapsed:  6.9min remaining:    0.0s\n",
      "[CV] subsample=1.0, min_child_weight=1, max_depth=4, gamma=1.5, colsample_bytree=0.6 \n",
      "[CV]  subsample=1.0, min_child_weight=1, max_depth=4, gamma=1.5, colsample_bytree=0.6, score=0.999, total=  29.8s\n",
      "[Parallel(n_jobs=1)]: Done  15 out of  15 | elapsed:  7.4min remaining:    0.0s\n",
      "[CV] subsample=0.8, min_child_weight=10, max_depth=5, gamma=0.5, colsample_bytree=1.0 \n",
      "[CV]  subsample=0.8, min_child_weight=10, max_depth=5, gamma=0.5, colsample_bytree=1.0, score=0.996, total=  37.3s\n",
      "[Parallel(n_jobs=1)]: Done  16 out of  16 | elapsed:  8.0min remaining:    0.0s\n",
      "[CV] subsample=0.8, min_child_weight=10, max_depth=5, gamma=0.5, colsample_bytree=1.0 \n",
      "[CV]  subsample=0.8, min_child_weight=10, max_depth=5, gamma=0.5, colsample_bytree=1.0, score=0.998, total=  37.8s\n",
      "[Parallel(n_jobs=1)]: Done  17 out of  17 | elapsed:  8.6min remaining:    0.0s\n",
      "[CV] subsample=0.8, min_child_weight=10, max_depth=5, gamma=0.5, colsample_bytree=1.0 \n",
      "[CV]  subsample=0.8, min_child_weight=10, max_depth=5, gamma=0.5, colsample_bytree=1.0, score=0.996, total=  37.1s\n",
      "[Parallel(n_jobs=1)]: Done  18 out of  18 | elapsed:  9.2min remaining:    0.0s\n",
      "[CV] subsample=0.8, min_child_weight=10, max_depth=5, gamma=0.5, colsample_bytree=1.0 \n",
      "[CV]  subsample=0.8, min_child_weight=10, max_depth=5, gamma=0.5, colsample_bytree=1.0, score=0.994, total=  36.4s\n",
      "[Parallel(n_jobs=1)]: Done  19 out of  19 | elapsed:  9.8min remaining:    0.0s\n",
      "[CV] subsample=0.8, min_child_weight=10, max_depth=5, gamma=0.5, colsample_bytree=1.0 \n",
      "[CV]  subsample=0.8, min_child_weight=10, max_depth=5, gamma=0.5, colsample_bytree=1.0, score=0.994, total=  32.8s\n",
      "[Parallel(n_jobs=1)]: Done  20 out of  20 | elapsed: 10.4min remaining:    0.0s\n",
      "[CV] subsample=0.6, min_child_weight=1, max_depth=6, gamma=0.5, colsample_bytree=0.8 \n",
      "[CV]  subsample=0.6, min_child_weight=1, max_depth=6, gamma=0.5, colsample_bytree=0.8, score=1.000, total=  30.9s\n",
      "[Parallel(n_jobs=1)]: Done  21 out of  21 | elapsed: 10.9min remaining:    0.0s\n",
      "[CV] subsample=0.6, min_child_weight=1, max_depth=6, gamma=0.5, colsample_bytree=0.8 \n",
      "[CV]  subsample=0.6, min_child_weight=1, max_depth=6, gamma=0.5, colsample_bytree=0.8, score=0.999, total=  32.8s\n",
      "[Parallel(n_jobs=1)]: Done  22 out of  22 | elapsed: 11.5min remaining:    0.0s\n",
      "[CV] subsample=0.6, min_child_weight=1, max_depth=6, gamma=0.5, colsample_bytree=0.8 \n",
      "[CV]  subsample=0.6, min_child_weight=1, max_depth=6, gamma=0.5, colsample_bytree=0.8, score=0.999, total=  31.4s\n",
      "[Parallel(n_jobs=1)]: Done  23 out of  23 | elapsed: 12.0min remaining:    0.0s\n",
      "[CV] subsample=0.6, min_child_weight=1, max_depth=6, gamma=0.5, colsample_bytree=0.8 \n",
      "[CV]  subsample=0.6, min_child_weight=1, max_depth=6, gamma=0.5, colsample_bytree=0.8, score=1.000, total=  31.9s\n",
      "[Parallel(n_jobs=1)]: Done  24 out of  24 | elapsed: 12.5min remaining:    0.0s\n",
      "[CV] subsample=0.6, min_child_weight=1, max_depth=6, gamma=0.5, colsample_bytree=0.8 \n",
      "[CV]  subsample=0.6, min_child_weight=1, max_depth=6, gamma=0.5, colsample_bytree=0.8, score=0.999, total=  31.2s\n",
      "[Parallel(n_jobs=1)]: Done  25 out of  25 | elapsed: 13.0min remaining:    0.0s\n",
      "[CV] subsample=0.8, min_child_weight=10, max_depth=4, gamma=5, colsample_bytree=0.8 \n",
      "[CV]  subsample=0.8, min_child_weight=10, max_depth=4, gamma=5, colsample_bytree=0.8, score=0.996, total=  31.8s\n",
      "[Parallel(n_jobs=1)]: Done  26 out of  26 | elapsed: 13.6min remaining:    0.0s\n",
      "[CV] subsample=0.8, min_child_weight=10, max_depth=4, gamma=5, colsample_bytree=0.8 \n",
      "[CV]  subsample=0.8, min_child_weight=10, max_depth=4, gamma=5, colsample_bytree=0.8, score=0.998, total=  31.2s\n",
      "[Parallel(n_jobs=1)]: Done  27 out of  27 | elapsed: 14.1min remaining:    0.0s\n",
      "[CV] subsample=0.8, min_child_weight=10, max_depth=4, gamma=5, colsample_bytree=0.8 \n",
      "[CV]  subsample=0.8, min_child_weight=10, max_depth=4, gamma=5, colsample_bytree=0.8, score=0.996, total=  31.7s\n",
      "[Parallel(n_jobs=1)]: Done  28 out of  28 | elapsed: 14.6min remaining:    0.0s\n",
      "[CV] subsample=0.8, min_child_weight=10, max_depth=4, gamma=5, colsample_bytree=0.8 \n",
      "[CV]  subsample=0.8, min_child_weight=10, max_depth=4, gamma=5, colsample_bytree=0.8, score=0.999, total=  30.8s\n",
      "[Parallel(n_jobs=1)]: Done  29 out of  29 | elapsed: 15.1min remaining:    0.0s\n",
      "[CV] subsample=0.8, min_child_weight=10, max_depth=4, gamma=5, colsample_bytree=0.8 \n"
     ]
    },
    {
     "name": "stdout",
     "output_type": "stream",
     "text": [
      "[CV]  subsample=0.8, min_child_weight=10, max_depth=4, gamma=5, colsample_bytree=0.8, score=0.994, total=  31.3s\n",
      "[Parallel(n_jobs=1)]: Done  30 out of  30 | elapsed: 15.7min remaining:    0.0s\n",
      "[CV] subsample=0.8, min_child_weight=7, max_depth=5, gamma=2, colsample_bytree=0.6 \n",
      "[CV]  subsample=0.8, min_child_weight=7, max_depth=5, gamma=2, colsample_bytree=0.6, score=1.000, total=  24.9s\n",
      "[Parallel(n_jobs=1)]: Done  31 out of  31 | elapsed: 16.1min remaining:    0.0s\n",
      "[CV] subsample=0.8, min_child_weight=7, max_depth=5, gamma=2, colsample_bytree=0.6 \n",
      "[CV]  subsample=0.8, min_child_weight=7, max_depth=5, gamma=2, colsample_bytree=0.6, score=0.998, total=  24.7s\n",
      "[Parallel(n_jobs=1)]: Done  32 out of  32 | elapsed: 16.5min remaining:    0.0s\n",
      "[CV] subsample=0.8, min_child_weight=7, max_depth=5, gamma=2, colsample_bytree=0.6 \n",
      "[CV]  subsample=0.8, min_child_weight=7, max_depth=5, gamma=2, colsample_bytree=0.6, score=1.000, total=  23.9s\n",
      "[Parallel(n_jobs=1)]: Done  33 out of  33 | elapsed: 16.9min remaining:    0.0s\n",
      "[CV] subsample=0.8, min_child_weight=7, max_depth=5, gamma=2, colsample_bytree=0.6 \n",
      "[CV]  subsample=0.8, min_child_weight=7, max_depth=5, gamma=2, colsample_bytree=0.6, score=1.000, total=  25.6s\n",
      "[Parallel(n_jobs=1)]: Done  34 out of  34 | elapsed: 17.3min remaining:    0.0s\n",
      "[CV] subsample=0.8, min_child_weight=7, max_depth=5, gamma=2, colsample_bytree=0.6 \n",
      "[CV]  subsample=0.8, min_child_weight=7, max_depth=5, gamma=2, colsample_bytree=0.6, score=0.999, total=  24.7s\n",
      "[Parallel(n_jobs=1)]: Done  35 out of  35 | elapsed: 17.7min remaining:    0.0s\n",
      "[CV] subsample=0.8, min_child_weight=5, max_depth=6, gamma=5, colsample_bytree=0.6 \n",
      "[CV]  subsample=0.8, min_child_weight=5, max_depth=6, gamma=5, colsample_bytree=0.6, score=1.000, total=  27.3s\n",
      "[Parallel(n_jobs=1)]: Done  36 out of  36 | elapsed: 18.2min remaining:    0.0s\n",
      "[CV] subsample=0.8, min_child_weight=5, max_depth=6, gamma=5, colsample_bytree=0.6 \n",
      "[CV]  subsample=0.8, min_child_weight=5, max_depth=6, gamma=5, colsample_bytree=0.6, score=1.000, total=  26.7s\n",
      "[Parallel(n_jobs=1)]: Done  37 out of  37 | elapsed: 18.6min remaining:    0.0s\n",
      "[CV] subsample=0.8, min_child_weight=5, max_depth=6, gamma=5, colsample_bytree=0.6 \n",
      "[CV]  subsample=0.8, min_child_weight=5, max_depth=6, gamma=5, colsample_bytree=0.6, score=1.000, total=  26.1s\n",
      "[Parallel(n_jobs=1)]: Done  38 out of  38 | elapsed: 19.1min remaining:    0.0s\n",
      "[CV] subsample=0.8, min_child_weight=5, max_depth=6, gamma=5, colsample_bytree=0.6 \n",
      "[CV]  subsample=0.8, min_child_weight=5, max_depth=6, gamma=5, colsample_bytree=0.6, score=1.000, total=  26.8s\n",
      "[Parallel(n_jobs=1)]: Done  39 out of  39 | elapsed: 19.5min remaining:    0.0s\n",
      "[CV] subsample=0.8, min_child_weight=5, max_depth=6, gamma=5, colsample_bytree=0.6 \n",
      "[CV]  subsample=0.8, min_child_weight=5, max_depth=6, gamma=5, colsample_bytree=0.6, score=0.999, total=  26.7s\n",
      "[Parallel(n_jobs=1)]: Done  40 out of  40 | elapsed: 20.0min remaining:    0.0s\n",
      "[CV] subsample=0.8, min_child_weight=7, max_depth=6, gamma=5, colsample_bytree=1.0 \n",
      "[CV]  subsample=0.8, min_child_weight=7, max_depth=6, gamma=5, colsample_bytree=1.0, score=1.000, total=  40.6s\n",
      "[Parallel(n_jobs=1)]: Done  41 out of  41 | elapsed: 20.6min remaining:    0.0s\n",
      "[CV] subsample=0.8, min_child_weight=7, max_depth=6, gamma=5, colsample_bytree=1.0 \n",
      "[CV]  subsample=0.8, min_child_weight=7, max_depth=6, gamma=5, colsample_bytree=1.0, score=0.998, total=  39.5s\n",
      "[Parallel(n_jobs=1)]: Done  42 out of  42 | elapsed: 21.3min remaining:    0.0s\n",
      "[CV] subsample=0.8, min_child_weight=7, max_depth=6, gamma=5, colsample_bytree=1.0 \n",
      "[CV]  subsample=0.8, min_child_weight=7, max_depth=6, gamma=5, colsample_bytree=1.0, score=0.998, total=  39.0s\n",
      "[Parallel(n_jobs=1)]: Done  43 out of  43 | elapsed: 21.9min remaining:    0.0s\n",
      "[CV] subsample=0.8, min_child_weight=7, max_depth=6, gamma=5, colsample_bytree=1.0 \n",
      "[CV]  subsample=0.8, min_child_weight=7, max_depth=6, gamma=5, colsample_bytree=1.0, score=1.000, total=  40.7s\n",
      "[Parallel(n_jobs=1)]: Done  44 out of  44 | elapsed: 22.6min remaining:    0.0s\n",
      "[CV] subsample=0.8, min_child_weight=7, max_depth=6, gamma=5, colsample_bytree=1.0 \n",
      "[CV]  subsample=0.8, min_child_weight=7, max_depth=6, gamma=5, colsample_bytree=1.0, score=0.997, total=  38.8s\n",
      "[Parallel(n_jobs=1)]: Done  45 out of  45 | elapsed: 23.3min remaining:    0.0s\n",
      "[CV] subsample=0.8, min_child_weight=7, max_depth=4, gamma=1, colsample_bytree=0.8 \n",
      "[CV]  subsample=0.8, min_child_weight=7, max_depth=4, gamma=1, colsample_bytree=0.8, score=1.000, total=  31.7s\n",
      "[Parallel(n_jobs=1)]: Done  46 out of  46 | elapsed: 23.8min remaining:    0.0s\n",
      "[CV] subsample=0.8, min_child_weight=7, max_depth=4, gamma=1, colsample_bytree=0.8 \n",
      "[CV]  subsample=0.8, min_child_weight=7, max_depth=4, gamma=1, colsample_bytree=0.8, score=1.000, total=  30.7s\n",
      "[Parallel(n_jobs=1)]: Done  47 out of  47 | elapsed: 24.3min remaining:    0.0s\n",
      "[CV] subsample=0.8, min_child_weight=7, max_depth=4, gamma=1, colsample_bytree=0.8 \n",
      "[CV]  subsample=0.8, min_child_weight=7, max_depth=4, gamma=1, colsample_bytree=0.8, score=0.998, total=  30.8s\n",
      "[Parallel(n_jobs=1)]: Done  48 out of  48 | elapsed: 24.8min remaining:    0.0s\n",
      "[CV] subsample=0.8, min_child_weight=7, max_depth=4, gamma=1, colsample_bytree=0.8 \n",
      "[CV]  subsample=0.8, min_child_weight=7, max_depth=4, gamma=1, colsample_bytree=0.8, score=1.000, total=  30.8s\n",
      "[Parallel(n_jobs=1)]: Done  49 out of  49 | elapsed: 25.3min remaining:    0.0s\n",
      "[CV] subsample=0.8, min_child_weight=7, max_depth=4, gamma=1, colsample_bytree=0.8 \n",
      "[CV]  subsample=0.8, min_child_weight=7, max_depth=4, gamma=1, colsample_bytree=0.8, score=0.999, total=  31.0s\n",
      "[Parallel(n_jobs=1)]: Done  50 out of  50 | elapsed: 25.9min remaining:    0.0s\n",
      "[Parallel(n_jobs=1)]: Done  50 out of  50 | elapsed: 25.9min finished\n"
     ]
    }
   ],
   "source": [
    "best_xgb = RandomizedSearchCV(xgb, xgb_parameters, n_iter=10, cv=5, random_state=seed, verbose=100, scoring=\"accuracy\")\n",
    "xgb_start = time.time()\n",
    "best_xgb.fit(X_train, y_train)\n",
    "xgb_end = time.time()\n",
    "xgb_time_taken = (xgb_end-xgb_start)/50"
   ]
  },
  {
   "cell_type": "code",
   "execution_count": 120,
   "metadata": {},
   "outputs": [
    {
     "name": "stdout",
     "output_type": "stream",
     "text": [
      "31.610014748573303\n"
     ]
    }
   ],
   "source": [
    "print(xgb_time_taken)"
   ]
  },
  {
   "cell_type": "code",
   "execution_count": 121,
   "metadata": {},
   "outputs": [],
   "source": [
    "time_taken.append(xgb_time_taken)"
   ]
  },
  {
   "cell_type": "code",
   "execution_count": 122,
   "metadata": {},
   "outputs": [
    {
     "data": {
      "text/plain": [
       "{'subsample': 0.8,\n",
       " 'min_child_weight': 5,\n",
       " 'max_depth': 3,\n",
       " 'gamma': 1,\n",
       " 'colsample_bytree': 0.6}"
      ]
     },
     "execution_count": 122,
     "metadata": {},
     "output_type": "execute_result"
    }
   ],
   "source": [
    "best_xgb.best_params_"
   ]
  },
  {
   "cell_type": "raw",
   "metadata": {},
   "source": [
    "xgb_y_pred = best_xgb.predict(X_val)"
   ]
  },
  {
   "cell_type": "raw",
   "metadata": {},
   "source": [
    "print(classification_report(y_val, xgb_y_pred))"
   ]
  },
  {
   "cell_type": "code",
   "execution_count": 123,
   "metadata": {},
   "outputs": [],
   "source": [
    "xgb_pickle = \"DDoS_xgb_pickle.sav\"\n",
    "pickle.dump(best_xgb, open(xgb_pickle, \"wb\"))"
   ]
  },
  {
   "cell_type": "raw",
   "metadata": {},
   "source": [
    "xgb_accuracy = accuracy_score(y_val, xgb_y_pred)"
   ]
  },
  {
   "cell_type": "code",
   "execution_count": 124,
   "metadata": {},
   "outputs": [],
   "source": [
    "xgb_accuracy = best_xgb.best_score_"
   ]
  },
  {
   "cell_type": "code",
   "execution_count": 125,
   "metadata": {},
   "outputs": [
    {
     "data": {
      "text/plain": [
       "0.999875"
      ]
     },
     "execution_count": 125,
     "metadata": {},
     "output_type": "execute_result"
    }
   ],
   "source": [
    "xgb_accuracy"
   ]
  },
  {
   "cell_type": "code",
   "execution_count": 126,
   "metadata": {},
   "outputs": [],
   "source": [
    "train_accuracy_score.append(xgb_accuracy)"
   ]
  },
  {
   "cell_type": "code",
   "execution_count": 127,
   "metadata": {},
   "outputs": [
    {
     "data": {
      "text/plain": [
       "[0.99975, 0.999625, 1.0, 1.0, 0.999625, 0.9988750000000002, 1.0, 0.999875]"
      ]
     },
     "execution_count": 127,
     "metadata": {},
     "output_type": "execute_result"
    }
   ],
   "source": [
    "train_accuracy_score"
   ]
  },
  {
   "cell_type": "markdown",
   "metadata": {},
   "source": [
    "# Example confusion matrix"
   ]
  },
  {
   "cell_type": "raw",
   "metadata": {},
   "source": [
    "plot_confusion_matrix(best_xgb, X_val, y_val)"
   ]
  },
  {
   "cell_type": "markdown",
   "metadata": {},
   "source": [
    "# Load in test data"
   ]
  },
  {
   "cell_type": "raw",
   "metadata": {},
   "source": [
    "# UTF-16 as some characters can't be read with UTF-8\n",
    "test_df = pd.read_csv(\"SQLi/SQLi_test.csv\", encoding=\"UTF-16\")"
   ]
  },
  {
   "cell_type": "raw",
   "metadata": {},
   "source": [
    "# Quick inspection\n",
    "test_df.head()"
   ]
  },
  {
   "cell_type": "raw",
   "metadata": {},
   "source": [
    "test_df.info()"
   ]
  },
  {
   "cell_type": "raw",
   "metadata": {},
   "source": [
    "# showing missing values\n",
    "print(test_df.isna().sum())\n",
    "test_df[test_df.isna().any(axis=1)]"
   ]
  },
  {
   "cell_type": "raw",
   "metadata": {},
   "source": [
    "# Remove missing values\n",
    "\n",
    "test_df.dropna(axis=0, inplace=True)"
   ]
  },
  {
   "cell_type": "raw",
   "metadata": {},
   "source": [
    "sns.countplot(test_df[\"Label\"]==1)"
   ]
  },
  {
   "cell_type": "raw",
   "metadata": {},
   "source": [
    "# Different allocation of label values\n",
    "(test_df[\"Label\"] == 1).sum() / len(test_df[\"Label\"])"
   ]
  },
  {
   "cell_type": "raw",
   "metadata": {},
   "source": [
    "test_df[\"Label\"]"
   ]
  },
  {
   "cell_type": "raw",
   "metadata": {},
   "source": [
    "test_df = test_df.groupby('Label').apply(pd.DataFrame.sample, frac=0.265).reset_index(drop=True)"
   ]
  },
  {
   "cell_type": "raw",
   "metadata": {},
   "source": [
    "test_df[\"Sentence\"] = test_df[\"Sentence\"].apply(tokenizer)"
   ]
  },
  {
   "cell_type": "raw",
   "metadata": {},
   "source": [
    "# Still preserves the same ratio of values\n",
    "(test_df[\"Label\"] == 1).sum() / len(test_df[\"Label\"])"
   ]
  },
  {
   "cell_type": "raw",
   "metadata": {},
   "source": [
    "# Vectorize with the same CountVectorizer (important)\n",
    "\n",
    "test_count_vect = cv.transform((test_df[\"Sentence\"]))"
   ]
  },
  {
   "cell_type": "raw",
   "metadata": {},
   "source": [
    "test_count_vect_df = pd.DataFrame(test_count_vect.toarray())"
   ]
  },
  {
   "cell_type": "raw",
   "metadata": {},
   "source": [
    "test_count_vect_df"
   ]
  },
  {
   "cell_type": "raw",
   "metadata": {},
   "source": [
    "cv_X_test = test_count_vect_df "
   ]
  },
  {
   "cell_type": "raw",
   "metadata": {},
   "source": [
    "y_test = test_df[\"Label\"]"
   ]
  },
  {
   "cell_type": "code",
   "execution_count": 128,
   "metadata": {},
   "outputs": [
    {
     "data": {
      "text/plain": [
       "[0.7524882984161377,\n",
       " 49.53163662910461,\n",
       " 430.8378652858734,\n",
       " 10.093187422752381,\n",
       " 139.63289738178253,\n",
       " 0.40044905185699464,\n",
       " 79.14465519428254,\n",
       " 31.610014748573303]"
      ]
     },
     "execution_count": 128,
     "metadata": {},
     "output_type": "execute_result"
    }
   ],
   "source": [
    "time_taken"
   ]
  },
  {
   "cell_type": "code",
   "execution_count": 129,
   "metadata": {},
   "outputs": [
    {
     "data": {
      "text/plain": [
       "[0.99975, 0.999625, 1.0, 1.0, 0.999625, 0.9988750000000002, 1.0, 0.999875]"
      ]
     },
     "execution_count": 129,
     "metadata": {},
     "output_type": "execute_result"
    }
   ],
   "source": [
    "train_accuracy_score"
   ]
  },
  {
   "cell_type": "code",
   "execution_count": 130,
   "metadata": {},
   "outputs": [],
   "source": [
    "test_accuracy_scores = []\n",
    "prediction_time = []"
   ]
  },
  {
   "cell_type": "code",
   "execution_count": 131,
   "metadata": {},
   "outputs": [],
   "source": [
    "classifiers = [best_dt, best_rf, best_svc, best_lr, best_knn, best_nb, best_nn, best_xgb]"
   ]
  },
  {
   "cell_type": "code",
   "execution_count": 132,
   "metadata": {},
   "outputs": [
    {
     "name": "stdout",
     "output_type": "stream",
     "text": [
      "RandomizedSearchCV(cv=5,\n",
      "                   estimator=DecisionTreeClassifier(random_state=170280378),\n",
      "                   param_distributions={'criterion': ['entropy', 'gini'],\n",
      "                                        'max_depth': [2, 3, 5, 10, 50],\n",
      "                                        'max_features': ['log2', 'sqrt', 'auto',\n",
      "                                                         None],\n",
      "                                        'min_samples_leaf': [2, 3, 5, 10],\n",
      "                                        'min_samples_split': [2, 3, 5, 10],\n",
      "                                        'splitter': ['best', 'random']},\n",
      "                   random_state=170280378, scoring='accuracy', verbose=100)\n",
      "RandomizedSearchCV(cv=5,\n",
      "                   estimator=RandomForestClassifier(random_state=170280378),\n",
      "                   param_distributions={'criterion': ['entropy', 'gini'],\n",
      "                                        'max_depth': [2, 3, 5, 10, 50],\n",
      "                                        'max_features': ['log2', 'sqrt', 'auto',\n",
      "                                                         None],\n",
      "                                        'min_samples_leaf': [2, 3, 5],\n",
      "                                        'min_samples_split': [2, 3, 5],\n",
      "                                        'n_estimators': [10, 50, 100]},\n",
      "                   random_state=170280378, scoring='accuracy', verbose=100)\n",
      "RandomizedSearchCV(cv=5, estimator=SVC(random_state=170280378),\n",
      "                   param_distributions={'C': [0.1, 1, 10, 100, 1000],\n",
      "                                        'degree': [0, 1, 2, 3, 4, 5, 6],\n",
      "                                        'gamma': [0.1, 1, 10, 100],\n",
      "                                        'kernel': ['linear', 'rbf', 'poly']},\n",
      "                   random_state=170280378, scoring='accuracy', verbose=100)\n",
      "RandomizedSearchCV(cv=5, estimator=LogisticRegression(random_state=170280378),\n",
      "                   param_distributions={'C': [0.1, 1.0, 10, 100],\n",
      "                                        'max_iter': [5, 10, 25, 50, 75, 100],\n",
      "                                        'multi_class': ['auto', 'ovr',\n",
      "                                                        'multinomial'],\n",
      "                                        'penalty': ['l2', None],\n",
      "                                        'solver': ['newton-cg', 'lbfgs',\n",
      "                                                   'liblinear', 'sag',\n",
      "                                                   'saga']},\n",
      "                   random_state=170280378, scoring='accuracy', verbose=100)\n",
      "RandomizedSearchCV(cv=5, estimator=KNeighborsClassifier(),\n",
      "                   param_distributions={'algorithm': ['auto', 'ball_tree',\n",
      "                                                      'kd_tree', 'brute'],\n",
      "                                        'leaf_size': [1, 5, 10, 20, 30, 35, 50],\n",
      "                                        'n_neighbors': [1, 5, 10, 25, 50, 75,\n",
      "                                                        100],\n",
      "                                        'weights': ['uniform', 'distance']},\n",
      "                   random_state=170280378, scoring='accuracy', verbose=100)\n",
      "RandomizedSearchCV(cv=5, estimator=MultinomialNB(),\n",
      "                   param_distributions={'alpha': [0, 0.0001, 0.001, 0.01, 0.1,\n",
      "                                                  1, 10],\n",
      "                                        'class_prior': [None],\n",
      "                                        'fit_prior': [True, False]},\n",
      "                   random_state=170280378, scoring='accuracy', verbose=100)\n",
      "RandomizedSearchCV(cv=5, estimator=MLPClassifier(random_state=170280378),\n",
      "                   param_distributions={'activation': ['identity', 'logistic',\n",
      "                                                       'tanh', 'relu'],\n",
      "                                        'alpha': [1e-05, 0.0001, 0.001, 0.01,\n",
      "                                                  0.1],\n",
      "                                        'hidden_layer_sizes': [(50, 50, 50),\n",
      "                                                               (50, 100, 50),\n",
      "                                                               (100,)],\n",
      "                                        'learning_rate': ['constant',\n",
      "                                                          'adaptive',\n",
      "                                                          'invscaling'],\n",
      "                                        'learning_rate_init': [0.001, 0.01],\n",
      "                                        'solver': ['sgd', 'adam']},\n",
      "                   random_state=170280378, scoring='accuracy', verbose=100)\n",
      "RandomizedSearchCV(cv=5,\n",
      "                   estimator=XGBClassifier(base_score=None, booster=None,\n",
      "                                           colsample_bylevel=None,\n",
      "                                           colsample_bynode=None,\n",
      "                                           colsample_bytree=None, gamma=None,\n",
      "                                           gpu_id=None, importance_type='gain',\n",
      "                                           interaction_constraints=None,\n",
      "                                           learning_rate=None,\n",
      "                                           max_delta_step=None, max_depth=None,\n",
      "                                           min_child_weight=None, missing=nan,\n",
      "                                           monotone_constraints=None,\n",
      "                                           n_estimators=100,...\n",
      "                                           random_state=170280378,\n",
      "                                           reg_alpha=None, reg_lambda=None,\n",
      "                                           scale_pos_weight=None,\n",
      "                                           subsample=None, tree_method=None,\n",
      "                                           validate_parameters=None,\n",
      "                                           verbosity=None),\n",
      "                   param_distributions={'colsample_bytree': [0.6, 0.8, 1.0],\n",
      "                                        'gamma': [0.5, 1, 1.5, 2, 5],\n",
      "                                        'max_depth': [3, 4, 5, 6],\n",
      "                                        'min_child_weight': [1, 5, 7, 10],\n",
      "                                        'subsample': [0.6, 0.8, 1.0]},\n",
      "                   random_state=170280378, scoring='accuracy', verbose=100)\n"
     ]
    }
   ],
   "source": [
    "for i in classifiers:\n",
    "    print(i)\n",
    "    start = time.time()\n",
    "    y_test_pred = i.predict(X_test)\n",
    "    end = time.time()\n",
    "    prediction_time.append(end-start)\n",
    "    test_accuracy_score = accuracy_score(y_test, y_test_pred)\n",
    "    test_accuracy_scores.append(test_accuracy_score)"
   ]
  },
  {
   "cell_type": "code",
   "execution_count": 133,
   "metadata": {},
   "outputs": [
    {
     "data": {
      "text/plain": [
       "[0.998, 0.998, 0.9995, 0.9995, 0.9995, 0.9985, 0.999, 1.0]"
      ]
     },
     "execution_count": 133,
     "metadata": {},
     "output_type": "execute_result"
    }
   ],
   "source": [
    "test_accuracy_scores"
   ]
  },
  {
   "cell_type": "code",
   "execution_count": 156,
   "metadata": {},
   "outputs": [
    {
     "data": {
      "text/plain": [
       "0.0007071067811865579"
      ]
     },
     "execution_count": 156,
     "metadata": {},
     "output_type": "execute_result"
    }
   ],
   "source": [
    "np.std(test_accuracy_scores)"
   ]
  },
  {
   "cell_type": "code",
   "execution_count": 134,
   "metadata": {},
   "outputs": [],
   "source": [
    "results =   {\"Algorithm\": [\"Decision Tree\", \"Random Forest\", \"Support Vector Machine\", \"Logistic Regression\",\n",
    "                               \"K Nearest Neighbours\", \"Naive Bayes\", \"Neural Network\", \"XGBoost\"],\n",
    "        \"Training/Validation Accuracy\": train_accuracy_score,\n",
    "        \"Testing Accuracy\": test_accuracy_scores\n",
    "       }\n",
    "  \n",
    "\n"
   ]
  },
  {
   "cell_type": "code",
   "execution_count": 135,
   "metadata": {},
   "outputs": [],
   "source": [
    "times = {\"Algorithm\": [\"Decision Tree\", \"Random Forest\", \"Support Vector Machine\", \"Logistic Regression\",\n",
    "                               \"K Nearest Neighbours\", \"Naive Bayes\", \"Neural Network\", \"XGBoost\"],\n",
    "         \n",
    "         \"Average training time\" : time_taken,\n",
    "         \"Prediction time\": prediction_time\n",
    "    \n",
    "    \n",
    "}"
   ]
  },
  {
   "cell_type": "code",
   "execution_count": 136,
   "metadata": {},
   "outputs": [],
   "source": [
    "results_df = pd.DataFrame(results)"
   ]
  },
  {
   "cell_type": "code",
   "execution_count": 137,
   "metadata": {},
   "outputs": [
    {
     "data": {
      "text/html": [
       "<div>\n",
       "<style scoped>\n",
       "    .dataframe tbody tr th:only-of-type {\n",
       "        vertical-align: middle;\n",
       "    }\n",
       "\n",
       "    .dataframe tbody tr th {\n",
       "        vertical-align: top;\n",
       "    }\n",
       "\n",
       "    .dataframe thead th {\n",
       "        text-align: right;\n",
       "    }\n",
       "</style>\n",
       "<table border=\"1\" class=\"dataframe\">\n",
       "  <thead>\n",
       "    <tr style=\"text-align: right;\">\n",
       "      <th></th>\n",
       "      <th>Algorithm</th>\n",
       "      <th>Training/Validation Accuracy</th>\n",
       "      <th>Testing Accuracy</th>\n",
       "    </tr>\n",
       "  </thead>\n",
       "  <tbody>\n",
       "    <tr>\n",
       "      <th>0</th>\n",
       "      <td>Decision Tree</td>\n",
       "      <td>1.00</td>\n",
       "      <td>1.00</td>\n",
       "    </tr>\n",
       "    <tr>\n",
       "      <th>1</th>\n",
       "      <td>Random Forest</td>\n",
       "      <td>1.00</td>\n",
       "      <td>1.00</td>\n",
       "    </tr>\n",
       "    <tr>\n",
       "      <th>2</th>\n",
       "      <td>Support Vector Machine</td>\n",
       "      <td>1.00</td>\n",
       "      <td>1.00</td>\n",
       "    </tr>\n",
       "    <tr>\n",
       "      <th>3</th>\n",
       "      <td>Logistic Regression</td>\n",
       "      <td>1.00</td>\n",
       "      <td>1.00</td>\n",
       "    </tr>\n",
       "    <tr>\n",
       "      <th>4</th>\n",
       "      <td>K Nearest Neighbours</td>\n",
       "      <td>1.00</td>\n",
       "      <td>1.00</td>\n",
       "    </tr>\n",
       "    <tr>\n",
       "      <th>5</th>\n",
       "      <td>Naive Bayes</td>\n",
       "      <td>1.00</td>\n",
       "      <td>1.00</td>\n",
       "    </tr>\n",
       "    <tr>\n",
       "      <th>6</th>\n",
       "      <td>Neural Network</td>\n",
       "      <td>1.00</td>\n",
       "      <td>1.00</td>\n",
       "    </tr>\n",
       "    <tr>\n",
       "      <th>7</th>\n",
       "      <td>XGBoost</td>\n",
       "      <td>1.00</td>\n",
       "      <td>1.00</td>\n",
       "    </tr>\n",
       "  </tbody>\n",
       "</table>\n",
       "</div>"
      ],
      "text/plain": [
       "                Algorithm  Training/Validation Accuracy  Testing Accuracy\n",
       "0           Decision Tree                          1.00              1.00\n",
       "1           Random Forest                          1.00              1.00\n",
       "2  Support Vector Machine                          1.00              1.00\n",
       "3     Logistic Regression                          1.00              1.00\n",
       "4    K Nearest Neighbours                          1.00              1.00\n",
       "5             Naive Bayes                          1.00              1.00\n",
       "6          Neural Network                          1.00              1.00\n",
       "7                 XGBoost                          1.00              1.00"
      ]
     },
     "execution_count": 137,
     "metadata": {},
     "output_type": "execute_result"
    }
   ],
   "source": [
    "results_df"
   ]
  },
  {
   "cell_type": "code",
   "execution_count": 138,
   "metadata": {},
   "outputs": [],
   "source": [
    "results_df.to_pickle(\"DDoS Results Pickle\")"
   ]
  },
  {
   "cell_type": "code",
   "execution_count": 139,
   "metadata": {},
   "outputs": [],
   "source": [
    "results_df.sort_values(by=\"Training/Validation Accuracy\", inplace=True)"
   ]
  },
  {
   "cell_type": "code",
   "execution_count": 140,
   "metadata": {},
   "outputs": [
    {
     "data": {
      "text/plain": [
       "<matplotlib.axes._subplots.AxesSubplot at 0x1fe8173d820>"
      ]
     },
     "execution_count": 140,
     "metadata": {},
     "output_type": "execute_result"
    },
    {
     "data": {
      "image/png": "[encoded data removed]",
      "text/plain": [
       "<Figure size 648x576 with 1 Axes>"
      ]
     },
     "metadata": {
      "needs_background": "light"
     },
     "output_type": "display_data"
    }
   ],
   "source": [
    "results_df.plot(x=\"Algorithm\", y=[\"Training/Validation Accuracy\", \"Testing Accuracy\"], kind=\"bar\", figsize=(9,8))"
   ]
  },
  {
   "cell_type": "code",
   "execution_count": 141,
   "metadata": {},
   "outputs": [],
   "source": [
    "results_df.sort_values(by=\"Testing Accuracy\", inplace=True)"
   ]
  },
  {
   "cell_type": "code",
   "execution_count": 142,
   "metadata": {},
   "outputs": [
    {
     "data": {
      "text/plain": [
       "<matplotlib.axes._subplots.AxesSubplot at 0x1fe8126e7f0>"
      ]
     },
     "execution_count": 142,
     "metadata": {},
     "output_type": "execute_result"
    },
    {
     "data": {
      "image/png": "[encoded data removed]",
      "text/plain": [
       "<Figure size 648x576 with 1 Axes>"
      ]
     },
     "metadata": {
      "needs_background": "light"
     },
     "output_type": "display_data"
    }
   ],
   "source": [
    "results_df.plot(x=\"Algorithm\", y=[\"Training/Validation Accuracy\", \"Testing Accuracy\"], kind=\"bar\", figsize=(9,8))"
   ]
  },
  {
   "cell_type": "code",
   "execution_count": 143,
   "metadata": {},
   "outputs": [
    {
     "data": {
      "text/plain": [
       "{'Algorithm': ['Decision Tree',\n",
       "  'Random Forest',\n",
       "  'Support Vector Machine',\n",
       "  'Logistic Regression',\n",
       "  'K Nearest Neighbours',\n",
       "  'Naive Bayes',\n",
       "  'Neural Network',\n",
       "  'XGBoost'],\n",
       " 'Average training time': [0.7524882984161377,\n",
       "  49.53163662910461,\n",
       "  430.8378652858734,\n",
       "  10.093187422752381,\n",
       "  139.63289738178253,\n",
       "  0.40044905185699464,\n",
       "  79.14465519428254,\n",
       "  31.610014748573303],\n",
       " 'Prediction time': [0.27426695823669434,\n",
       "  0.07879090309143066,\n",
       "  45.88630962371826,\n",
       "  0.02689194679260254,\n",
       "  2.2549667358398438,\n",
       "  0.0298919677734375,\n",
       "  0.18151640892028809,\n",
       "  0.3291175365447998]}"
      ]
     },
     "execution_count": 143,
     "metadata": {},
     "output_type": "execute_result"
    }
   ],
   "source": [
    "times"
   ]
  },
  {
   "cell_type": "code",
   "execution_count": 144,
   "metadata": {},
   "outputs": [],
   "source": [
    "time_df = pd.DataFrame(times)"
   ]
  },
  {
   "cell_type": "code",
   "execution_count": 145,
   "metadata": {},
   "outputs": [
    {
     "data": {
      "text/html": [
       "<div>\n",
       "<style scoped>\n",
       "    .dataframe tbody tr th:only-of-type {\n",
       "        vertical-align: middle;\n",
       "    }\n",
       "\n",
       "    .dataframe tbody tr th {\n",
       "        vertical-align: top;\n",
       "    }\n",
       "\n",
       "    .dataframe thead th {\n",
       "        text-align: right;\n",
       "    }\n",
       "</style>\n",
       "<table border=\"1\" class=\"dataframe\">\n",
       "  <thead>\n",
       "    <tr style=\"text-align: right;\">\n",
       "      <th></th>\n",
       "      <th>Algorithm</th>\n",
       "      <th>Average training time</th>\n",
       "      <th>Prediction time</th>\n",
       "    </tr>\n",
       "  </thead>\n",
       "  <tbody>\n",
       "    <tr>\n",
       "      <th>0</th>\n",
       "      <td>Decision Tree</td>\n",
       "      <td>0.75</td>\n",
       "      <td>0.27</td>\n",
       "    </tr>\n",
       "    <tr>\n",
       "      <th>1</th>\n",
       "      <td>Random Forest</td>\n",
       "      <td>49.53</td>\n",
       "      <td>0.08</td>\n",
       "    </tr>\n",
       "    <tr>\n",
       "      <th>2</th>\n",
       "      <td>Support Vector Machine</td>\n",
       "      <td>430.84</td>\n",
       "      <td>45.89</td>\n",
       "    </tr>\n",
       "    <tr>\n",
       "      <th>3</th>\n",
       "      <td>Logistic Regression</td>\n",
       "      <td>10.09</td>\n",
       "      <td>0.03</td>\n",
       "    </tr>\n",
       "    <tr>\n",
       "      <th>4</th>\n",
       "      <td>K Nearest Neighbours</td>\n",
       "      <td>139.63</td>\n",
       "      <td>2.25</td>\n",
       "    </tr>\n",
       "    <tr>\n",
       "      <th>5</th>\n",
       "      <td>Naive Bayes</td>\n",
       "      <td>0.40</td>\n",
       "      <td>0.03</td>\n",
       "    </tr>\n",
       "    <tr>\n",
       "      <th>6</th>\n",
       "      <td>Neural Network</td>\n",
       "      <td>79.14</td>\n",
       "      <td>0.18</td>\n",
       "    </tr>\n",
       "    <tr>\n",
       "      <th>7</th>\n",
       "      <td>XGBoost</td>\n",
       "      <td>31.61</td>\n",
       "      <td>0.33</td>\n",
       "    </tr>\n",
       "  </tbody>\n",
       "</table>\n",
       "</div>"
      ],
      "text/plain": [
       "                Algorithm  Average training time  Prediction time\n",
       "0           Decision Tree                   0.75             0.27\n",
       "1           Random Forest                  49.53             0.08\n",
       "2  Support Vector Machine                 430.84            45.89\n",
       "3     Logistic Regression                  10.09             0.03\n",
       "4    K Nearest Neighbours                 139.63             2.25\n",
       "5             Naive Bayes                   0.40             0.03\n",
       "6          Neural Network                  79.14             0.18\n",
       "7                 XGBoost                  31.61             0.33"
      ]
     },
     "execution_count": 145,
     "metadata": {},
     "output_type": "execute_result"
    }
   ],
   "source": [
    "time_df"
   ]
  },
  {
   "cell_type": "code",
   "execution_count": 146,
   "metadata": {},
   "outputs": [],
   "source": [
    "time_df.to_pickle(\"DDoS Time Pickle\")"
   ]
  },
  {
   "cell_type": "code",
   "execution_count": 147,
   "metadata": {},
   "outputs": [],
   "source": [
    "time_df.sort_values(by=\"Prediction time\", inplace=True)"
   ]
  },
  {
   "cell_type": "code",
   "execution_count": 148,
   "metadata": {},
   "outputs": [
    {
     "data": {
      "text/plain": [
       "<matplotlib.axes._subplots.AxesSubplot at 0x1fe81b68f70>"
      ]
     },
     "execution_count": 148,
     "metadata": {},
     "output_type": "execute_result"
    },
    {
     "data": {
      "image/png": "[encoded data removed]",
      "text/plain": [
       "<Figure size 648x576 with 1 Axes>"
      ]
     },
     "metadata": {
      "needs_background": "light"
     },
     "output_type": "display_data"
    }
   ],
   "source": [
    "time_df.plot(x=\"Algorithm\", y=[\"Average training time\", \"Prediction time\"], kind=\"bar\", figsize=(9,8), logy=True)"
   ]
  },
  {
   "cell_type": "code",
   "execution_count": 152,
   "metadata": {},
   "outputs": [
    {
     "data": {
      "text/plain": [
       "<sklearn.metrics._plot.confusion_matrix.ConfusionMatrixDisplay at 0x1feb1acb970>"
      ]
     },
     "execution_count": 152,
     "metadata": {},
     "output_type": "execute_result"
    },
    {
     "data": {
      "image/png": "[encoded data removed]",
      "text/plain": [
       "<Figure size 432x288 with 2 Axes>"
      ]
     },
     "metadata": {
      "needs_background": "light"
     },
     "output_type": "display_data"
    }
   ],
   "source": [
    "plot_confusion_matrix(best_lr, X_test, y_test, cmap=\"plasma\")"
   ]
  },
  {
   "cell_type": "code",
   "execution_count": null,
   "metadata": {},
   "outputs": [],
   "source": [
    "dumb_grid  = {'penalty': ['l1', 'l2'],'C':[0.001]}\n",
    "dumb =GridSearchCV(LogisticRegression(),dumb_grid,cv=5,scoring = 'accuracy')\n",
    "dumb.fit(X_train, y_train)"
   ]
  },
  {
   "cell_type": "code",
   "execution_count": null,
   "metadata": {},
   "outputs": [],
   "source": [
    "dumb.best_estimator_"
   ]
  },
  {
   "cell_type": "code",
   "execution_count": null,
   "metadata": {},
   "outputs": [],
   "source": [
    "dumb.best_score__"
   ]
  },
  {
   "cell_type": "code",
   "execution_count": null,
   "metadata": {},
   "outputs": [],
   "source": [
    "nb_y_test_pred = best_nb.predict(cv_X_test)"
   ]
  },
  {
   "cell_type": "code",
   "execution_count": null,
   "metadata": {},
   "outputs": [],
   "source": [
    "nb_y_test_pred"
   ]
  },
  {
   "cell_type": "code",
   "execution_count": null,
   "metadata": {},
   "outputs": [],
   "source": [
    "indices = [i for i in range(len(y_test)) if y_test[i] != nb_y_test_pred[i]]"
   ]
  },
  {
   "cell_type": "code",
   "execution_count": null,
   "metadata": {},
   "outputs": [],
   "source": [
    "wrong_predictions = test_df.iloc[indices,:]"
   ]
  },
  {
   "cell_type": "code",
   "execution_count": null,
   "metadata": {},
   "outputs": [],
   "source": [
    "wrong_predictions"
   ]
  },
  {
   "cell_type": "code",
   "execution_count": null,
   "metadata": {},
   "outputs": [],
   "source": [
    "time_df"
   ]
  },
  {
   "cell_type": "code",
   "execution_count": null,
   "metadata": {},
   "outputs": [],
   "source": [
    "play_df = pd.DataFrame({'Input': [\"class=btn btn-default output_collapsed\", \"<body onafterprint=alert(1)>\"]})"
   ]
  },
  {
   "cell_type": "code",
   "execution_count": null,
   "metadata": {},
   "outputs": [],
   "source": [
    "play_df[\"Input\"] = play_df[\"Input\"].apply(tokenizer)"
   ]
  },
  {
   "cell_type": "code",
   "execution_count": null,
   "metadata": {},
   "outputs": [],
   "source": [
    "play_df"
   ]
  },
  {
   "cell_type": "code",
   "execution_count": null,
   "metadata": {},
   "outputs": [],
   "source": [
    "play_df = cv.transform(play_df[\"Input\"]).toarray()"
   ]
  },
  {
   "cell_type": "code",
   "execution_count": null,
   "metadata": {},
   "outputs": [],
   "source": [
    "play_output = best_random_forest.predict(play_df)"
   ]
  },
  {
   "cell_type": "code",
   "execution_count": null,
   "metadata": {},
   "outputs": [],
   "source": [
    "play_output"
   ]
  }
 ],
 "metadata": {
  "kernelspec": {
   "display_name": "Python 3",
   "language": "python",
   "name": "python3"
  },
  "language_info": {
   "codemirror_mode": {
    "name": "ipython",
    "version": 3
   },
   "file_extension": ".py",
   "mimetype": "text/x-python",
   "name": "python",
   "nbconvert_exporter": "python",
   "pygments_lexer": "ipython3",
   "version": "3.8.3"
  }
 },
 "nbformat": 4,
 "nbformat_minor": 4
}
